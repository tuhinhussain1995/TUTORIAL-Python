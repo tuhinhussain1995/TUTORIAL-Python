{
 "cells": [
  {
   "cell_type": "code",
   "execution_count": 1,
   "metadata": {},
   "outputs": [
    {
     "name": "stdout",
     "output_type": "stream",
     "text": [
      "['Even', 'Odd', 'Odd']\n"
     ]
    }
   ],
   "source": [
    "names = ['Andy', 'Eve', 'Sally']\n",
    "\n",
    "result = list(map(lambda names:('Even' if len(names)%2 == 0 else 'Odd'), names))\n",
    "\n",
    "print(result)"
   ]
  },
  {
   "cell_type": "code",
   "execution_count": 1,
   "metadata": {},
   "outputs": [
    {
     "name": "stdout",
     "output_type": "stream",
     "text": [
      "True\n"
     ]
    }
   ],
   "source": [
    "myList1 = [1, 2, 3]\n",
    "myList2 = [4, 5, 6, 7, 8]\n",
    "\n",
    "if myList1 <= myList2:\n",
    "    print(\"True\")\n",
    "else:\n",
    "    print(\"False\")"
   ]
  },
  {
   "cell_type": "markdown",
   "metadata": {},
   "source": [
    "# boolean "
   ]
  },
  {
   "cell_type": "code",
   "execution_count": 1,
   "metadata": {},
   "outputs": [
    {
     "name": "stdout",
     "output_type": "stream",
     "text": [
      "It is true\n"
     ]
    }
   ],
   "source": [
    "if True:\n",
    "    print(\"It is true\")"
   ]
  },
  {
   "cell_type": "code",
   "execution_count": 3,
   "metadata": {},
   "outputs": [
    {
     "name": "stdout",
     "output_type": "stream",
     "text": [
      "It is True\n"
     ]
    }
   ],
   "source": [
    "if False:\n",
    "    print(\"It is False\")\n",
    "else:\n",
    "    print('It is True')"
   ]
  },
  {
   "cell_type": "code",
   "execution_count": 4,
   "metadata": {},
   "outputs": [
    {
     "name": "stdout",
     "output_type": "stream",
     "text": [
      "I am not hungry\n"
     ]
    }
   ],
   "source": [
    "hungry = False\n",
    "\n",
    "if hungry:\n",
    "    print('Feed me!')\n",
    "else:\n",
    "    print(\"I am not hungry\")"
   ]
  },
  {
   "cell_type": "markdown",
   "metadata": {},
   "source": [
    "# comparison operators "
   ]
  },
  {
   "cell_type": "code",
   "execution_count": 7,
   "metadata": {},
   "outputs": [
    {
     "name": "stdout",
     "output_type": "stream",
     "text": [
      "two numbers are equal\n"
     ]
    }
   ],
   "source": [
    "if 3==3:\n",
    "    print(\"two numbers are equal\")"
   ]
  },
  {
   "cell_type": "code",
   "execution_count": 8,
   "metadata": {},
   "outputs": [
    {
     "name": "stdout",
     "output_type": "stream",
     "text": [
      "Two numbers are not equal\n"
     ]
    }
   ],
   "source": [
    "if 3!=2:\n",
    "    print('Two numbers are not equal')"
   ]
  },
  {
   "cell_type": "code",
   "execution_count": 9,
   "metadata": {},
   "outputs": [
    {
     "name": "stdout",
     "output_type": "stream",
     "text": [
      "It is equal\n"
     ]
    }
   ],
   "source": [
    "intValue = 3\n",
    "\n",
    "if intValue>7:\n",
    "    print('It is greater than 3')\n",
    "elif intValue==3:\n",
    "    print(\"It is equal\")\n",
    "else:\n",
    "    print('It is less than 3')"
   ]
  },
  {
   "cell_type": "code",
   "execution_count": 10,
   "metadata": {},
   "outputs": [
    {
     "name": "stdout",
     "output_type": "stream",
     "text": [
      "It has 3 digits\n"
     ]
    }
   ],
   "source": [
    "intValue = 578\n",
    "\n",
    "if 0 <= intValue < 10:\n",
    "    print(\"It has only 1 digit\")\n",
    "elif 10 <= intValue < 100:\n",
    "    print(\"It has 2 digits\")\n",
    "elif 100 <= intValue < 1000:\n",
    "    print(\"It has 3 digits\")\n",
    "else:\n",
    "    print(\"It has more than 3 digits\")"
   ]
  },
  {
   "cell_type": "code",
   "execution_count": 11,
   "metadata": {},
   "outputs": [
    {
     "name": "stdout",
     "output_type": "stream",
     "text": [
      "Nobody know, where am I?\n"
     ]
    }
   ],
   "source": [
    "location = 'Bank'\n",
    "\n",
    "if location == 'Shop':\n",
    "    print('Yes ! I am in shop')\n",
    "elif location == 'Game':\n",
    "    print('Yes, I am playing game')\n",
    "elif location == 'Work':\n",
    "    print(\"Yes, I am working\")\n",
    "else:\n",
    "    print('Nobody know, where am I?')"
   ]
  },
  {
   "cell_type": "code",
   "execution_count": 14,
   "metadata": {},
   "outputs": [
    {
     "name": "stdout",
     "output_type": "stream",
     "text": [
      "Please enter your name: tuhin\n",
      "tuhin, enter your age: 24\n",
      "tuhin, you can be voter\n"
     ]
    }
   ],
   "source": [
    "name = input('Please enter your name: ')\n",
    "age = int(input('{0}, enter your age: '.format(name)))\n",
    "\n",
    "if age > 60:\n",
    "    print('{0}, you can get pension'.format(name))\n",
    "elif age > 50:\n",
    "    print('{0}, you are a senior citizen'.format(name))\n",
    "elif age > 25:\n",
    "    print('{0}, you can drink beer'.format(name))\n",
    "elif age > 18:\n",
    "    print('{0}, you can be voter'.format(name))\n",
    "else:\n",
    "    print('{0}, you are just a kid'.format(name))"
   ]
  },
  {
   "cell_type": "code",
   "execution_count": 15,
   "metadata": {},
   "outputs": [
    {
     "name": "stdout",
     "output_type": "stream",
     "text": [
      "Enter the day: Satarday\n",
      "Enter today's temperature: 31\n",
      "Is there raining: True\n",
      "Stay Home\n"
     ]
    }
   ],
   "source": [
    "day = input('Enter the day: ').lower()\n",
    "temp = int(input('Enter today\\'s temperature: '))\n",
    "raining = bool(input('Is there raining: '))\n",
    "\n",
    "if (day == 'saturday' and temp > 27) or not raining:\n",
    "    print(\"Go to Swimming\")\n",
    "else:\n",
    "    print(\"Stay Home\")"
   ]
  },
  {
   "cell_type": "markdown",
   "metadata": {},
   "source": [
    "# membership operator"
   ]
  },
  {
   "cell_type": "code",
   "execution_count": null,
   "metadata": {},
   "outputs": [],
   "source": [
    "flower = \"blue violet\"\n",
    "print('blue' in flower)"
   ]
  },
  {
   "cell_type": "code",
   "execution_count": 16,
   "metadata": {},
   "outputs": [
    {
     "name": "stdout",
     "output_type": "stream",
     "text": [
      "True\n"
     ]
    }
   ],
   "source": [
    "myString = 'I like my Dog name'\n",
    "\n",
    "if 'DOG' in myString.upper():\n",
    "    print('True')\n",
    "else:\n",
    "    print('False')"
   ]
  },
  {
   "cell_type": "code",
   "execution_count": 17,
   "metadata": {},
   "outputs": [
    {
     "name": "stdout",
     "output_type": "stream",
     "text": [
      "True\n"
     ]
    }
   ],
   "source": [
    "myString = 'I like my Dog name'\n",
    "\n",
    "if 'ke my' in myString:\n",
    "    print('True')\n",
    "else:\n",
    "    print('False')"
   ]
  },
  {
   "cell_type": "code",
   "execution_count": 12,
   "metadata": {},
   "outputs": [
    {
     "name": "stdout",
     "output_type": "stream",
     "text": [
      "a is in \"Hello there, How are you\"\n",
      "are is in \"Hello there, How are you\"\n"
     ]
    }
   ],
   "source": [
    "myString = \"Hello there, How are you\"\n",
    "myChar = 'a'\n",
    "myWord = 'are'\n",
    "\n",
    "if myChar in myString:\n",
    "    print('{0} is in \"{1}\"'.format(myChar, myString))\n",
    "else:\n",
    "    print('It is not there')\n",
    "\n",
    "\n",
    "if myWord in myString:\n",
    "    print('{0} is in \"{1}\"'.format(myWord, myString))\n",
    "else:\n",
    "    print('It is not there')"
   ]
  },
  {
   "cell_type": "code",
   "execution_count": 13,
   "metadata": {},
   "outputs": [
    {
     "name": "stdout",
     "output_type": "stream",
     "text": [
      "What would you like to do today: I want to lean Python\n",
      "But I want to go to cinema\n"
     ]
    }
   ],
   "source": [
    "activity = input(\"What would you like to do today: \").lower()\n",
    "\n",
    "if \"cinema\" not in activity:\n",
    "    print(\"But I want to go to cinema\")"
   ]
  },
  {
   "cell_type": "markdown",
   "metadata": {},
   "source": [
    "### list "
   ]
  },
  {
   "cell_type": "code",
   "execution_count": 20,
   "metadata": {},
   "outputs": [
    {
     "name": "stdout",
     "output_type": "stream",
     "text": [
      "It is not available\n"
     ]
    }
   ],
   "source": [
    "myList = [2, 3, 4, 5, 6]\n",
    "\n",
    "if 12 in myList:\n",
    "    print('It is inside the list')\n",
    "else:\n",
    "    print('It is not available')"
   ]
  },
  {
   "cell_type": "code",
   "execution_count": 18,
   "metadata": {},
   "outputs": [
    {
     "name": "stdout",
     "output_type": "stream",
     "text": [
      "Yes sumon is in the list\n"
     ]
    }
   ],
   "source": [
    "myList = ['tuhin', 'sumon', 'nazrul']\n",
    "\n",
    "if 'sumon' in myList:\n",
    "    print('Yes sumon is in the list')\n",
    "else:\n",
    "    print(\"No sumon is not in the list\")"
   ]
  },
  {
   "cell_type": "code",
   "execution_count": 21,
   "metadata": {},
   "outputs": [
    {
     "name": "stdout",
     "output_type": "stream",
     "text": [
      "It is not available\n"
     ]
    }
   ],
   "source": [
    "myList = [2, 3, 4, 5, 6]\n",
    "\n",
    "if 12 not in myList:\n",
    "    print('It is not available')\n",
    "else:\n",
    "    print('It is inside the list')"
   ]
  },
  {
   "cell_type": "code",
   "execution_count": 27,
   "metadata": {},
   "outputs": [
    {
     "name": "stdout",
     "output_type": "stream",
     "text": [
      "Yes sumon is in the list\n"
     ]
    }
   ],
   "source": [
    "myList = ['tuhin', 'sumon', 'nazrul']\n",
    "\n",
    "if 'sumon' not in myList:\n",
    "    print('No sumon is not in the list')\n",
    "else:\n",
    "    print(\"Yes sumon is in the list\")"
   ]
  },
  {
   "cell_type": "code",
   "execution_count": 28,
   "metadata": {},
   "outputs": [
    {
     "name": "stdout",
     "output_type": "stream",
     "text": [
      "found at position 5\n"
     ]
    }
   ],
   "source": [
    "shopping_list = ['milk', \"pasta\", 'egg', \"spam\", \"bread\", \"rice\"]\n",
    "\n",
    "find_item = 'rice'\n",
    "found_at = None\n",
    "\n",
    "if find_item in shopping_list:\n",
    "    found_at = shopping_list.index(find_item)\n",
    "\n",
    "if found_at is not None:                                 # is not refers to !=\n",
    "    print('found at position {0}'.format(found_at))\n",
    "else:                                                      # here else refers to ==\n",
    "    print(\"{0} not found\".format(find_item))"
   ]
  },
  {
   "cell_type": "code",
   "execution_count": 29,
   "metadata": {},
   "outputs": [
    {
     "name": "stdout",
     "output_type": "stream",
     "text": [
      "Please choose a direction: Up\n",
      "Continuing ..........\n",
      "Please choose a direction: Down\n",
      "Continuing ..........\n",
      "Please choose a direction: QUit\n",
      "Game Over\n",
      "You are out of there :(\n"
     ]
    }
   ],
   "source": [
    "available_exits = ['east', 'west', 'north', 'south']\n",
    "chosen_exit = \"\"\n",
    "\n",
    "while chosen_exit not in available_exits:\n",
    "    chosen_exit = input(\"Please choose a direction: \")\n",
    "\n",
    "    if chosen_exit.casefold() == 'quit':\n",
    "        print(\"Game Over\")\n",
    "        break\n",
    "\n",
    "    print(\"Continuing ..........\")\n",
    "\n",
    "print('You are out of there :(')"
   ]
  },
  {
   "cell_type": "markdown",
   "metadata": {},
   "source": [
    "### dictionary"
   ]
  },
  {
   "cell_type": "code",
   "execution_count": 22,
   "metadata": {},
   "outputs": [
    {
     "name": "stdout",
     "output_type": "stream",
     "text": [
      "Yes this value in included\n"
     ]
    }
   ],
   "source": [
    "myDictionary = {'apple': 12.22, 'orange': 3.22, 'rice':4.00}\n",
    "\n",
    "if 12.22 in myDictionary.values():\n",
    "    print('Yes this value in included')\n",
    "else:\n",
    "    print(\"No this value is not included\")"
   ]
  },
  {
   "cell_type": "code",
   "execution_count": 23,
   "metadata": {},
   "outputs": [
    {
     "name": "stdout",
     "output_type": "stream",
     "text": [
      "[('a', 'tuhin'), ('b', 'sumon'), ('c', 'nazrul')]\n",
      "[('a', 'b', 'c'), ('tuhin', 'sumon', 'nazrul')]\n",
      "('a', 'b', 'c')\n",
      "('tuhin', 'sumon', 'nazrul')\n",
      "Yes nazrul is involved inside values\n",
      "Yes sumon is involved inside values\n"
     ]
    }
   ],
   "source": [
    "myDictionary = {1: ('a', 'tuhin'), 2: ('b', 'sumon'), 3: ('c', 'nazrul')}\n",
    "\n",
    "myDictionaryValues = list(myDictionary.values())\n",
    "unzipMyDictionaryValues = list(zip(*myDictionaryValues))\n",
    "myList1 = (unzipMyDictionaryValues[0])\n",
    "myList2 = (unzipMyDictionaryValues[1])\n",
    "\n",
    "print(myDictionaryValues)\n",
    "print(unzipMyDictionaryValues)\n",
    "print(myList1)\n",
    "print(myList2)\n",
    "\n",
    "if 'nazrul' in myList1 or myList2:\n",
    "    print(\"Yes nazrul is involved inside values\")\n",
    "else:\n",
    "    print('No nazrul is not included')\n",
    "    \n",
    "# or....................\n",
    "\n",
    "myList = myList1 + myList2\n",
    "\n",
    "if 'nazrul' in myList:\n",
    "    print(\"Yes sumon is involved inside values\")\n",
    "else:\n",
    "    print('No sumon is not included')\n",
    " "
   ]
  },
  {
   "cell_type": "markdown",
   "metadata": {},
   "source": [
    "# Identity Operator\n",
    "#### is checks memory address and == checks value"
   ]
  },
  {
   "cell_type": "code",
   "execution_count": 25,
   "metadata": {},
   "outputs": [
    {
     "name": "stdout",
     "output_type": "stream",
     "text": [
      "It is True\n"
     ]
    }
   ],
   "source": [
    "myBool = True\n",
    "\n",
    "if myBool is False:            \n",
    "    print('It is False')\n",
    "else:\n",
    "    print('It is True')"
   ]
  },
  {
   "cell_type": "code",
   "execution_count": 38,
   "metadata": {},
   "outputs": [
    {
     "name": "stdout",
     "output_type": "stream",
     "text": [
      "It is True\n"
     ]
    }
   ],
   "source": [
    "myBool = True\n",
    "\n",
    "if myBool is not False:         \n",
    "    print('It is True')\n",
    "else:\n",
    "    print('It is False')"
   ]
  },
  {
   "cell_type": "code",
   "execution_count": 39,
   "metadata": {},
   "outputs": [
    {
     "name": "stdout",
     "output_type": "stream",
     "text": [
      "Memory address is not same\n"
     ]
    }
   ],
   "source": [
    "x = [\"apple\", \"banana\"]\n",
    "y = [\"apple\", \"banana\"]\n",
    "\n",
    "if x is y:\n",
    "    print('Memory address is same')\n",
    "else:\n",
    "    print('Memory address is not same')"
   ]
  },
  {
   "cell_type": "code",
   "execution_count": 40,
   "metadata": {},
   "outputs": [
    {
     "name": "stdout",
     "output_type": "stream",
     "text": [
      "true\n"
     ]
    }
   ],
   "source": [
    "x = 5\n",
    "if (type(x) is int): \n",
    "    print(\"true\") \n",
    "else: \n",
    "    print(\"false\")"
   ]
  },
  {
   "cell_type": "code",
   "execution_count": 41,
   "metadata": {},
   "outputs": [
    {
     "name": "stdout",
     "output_type": "stream",
     "text": [
      "true\n"
     ]
    }
   ],
   "source": [
    "x = 5.2\n",
    "if (type(x) is not int): \n",
    "    print(\"true\") \n",
    "else: \n",
    "    print(\"false\") "
   ]
  },
  {
   "cell_type": "markdown",
   "metadata": {},
   "source": [
    "# relation between else and break\n",
    "### if break is called, then the else will not be executed\n",
    "### if break is not called, then the else will be executed"
   ]
  },
  {
   "cell_type": "markdown",
   "metadata": {},
   "source": [
    "### for "
   ]
  },
  {
   "cell_type": "code",
   "execution_count": 44,
   "metadata": {},
   "outputs": [
    {
     "name": "stdout",
     "output_type": "stream",
     "text": [
      "The numbers are unacceptable\n"
     ]
    }
   ],
   "source": [
    "numbers = [1, 45, 32, 17, 60]\n",
    "\n",
    "for number in numbers:\n",
    "    if number%8 == 0:\n",
    "        print('The numbers are unacceptable')\n",
    "        break\n",
    "\n",
    "else:                                              # else is associated with for loop not with if statement\n",
    "    print(\"All those numbers are fine\")"
   ]
  },
  {
   "cell_type": "code",
   "execution_count": 43,
   "metadata": {},
   "outputs": [
    {
     "name": "stdout",
     "output_type": "stream",
     "text": [
      "All those numbers are fine\n"
     ]
    }
   ],
   "source": [
    "numbers = [1, 45, 31, 17, 60]\n",
    "\n",
    "for number in numbers:\n",
    "    if number%8 == 0:\n",
    "        print('The numbers are unacceptable')\n",
    "        break\n",
    "\n",
    "else:                                              # else is associated with for loop not with if statement\n",
    "    print(\"All those numbers are fine\")"
   ]
  },
  {
   "cell_type": "code",
   "execution_count": 1,
   "metadata": {},
   "outputs": [
    {
     "name": "stdout",
     "output_type": "stream",
     "text": [
      "  3 4 5 \n"
     ]
    }
   ],
   "source": [
    "a = ['1', '2', '3', '4', '5', '6']\n",
    "b = ['3', '4', '5', '22']\n",
    "\n",
    "values = \" \".join(x if x in b else '' for x in a)\n",
    "print(values)"
   ]
  },
  {
   "cell_type": "code",
   "execution_count": 2,
   "metadata": {},
   "outputs": [
    {
     "name": "stdout",
     "output_type": "stream",
     "text": [
      "25\n"
     ]
    }
   ],
   "source": [
    "def count_primes(num):\n",
    "    count = 0\n",
    "    \n",
    "    for x in range(2, num):\n",
    "        for y in range(2, x+1):\n",
    "            if x%y==0:\n",
    "                if x==y:\n",
    "                    count+=1\n",
    "                else:\n",
    "                    break\n",
    "    return count    \n",
    "\n",
    "print(count_primes(100))"
   ]
  },
  {
   "cell_type": "markdown",
   "metadata": {},
   "source": [
    "### while"
   ]
  },
  {
   "cell_type": "code",
   "execution_count": 1,
   "metadata": {},
   "outputs": [
    {
     "name": "stdout",
     "output_type": "stream",
     "text": [
      "Please enter your choice.  Press enter to quit: quit\n",
      "You have selected quit\n",
      "Please enter your choice.  Press enter to quit: exit\n",
      "You have selected exit\n",
      "Please enter your choice.  Press enter to quit: 0\n",
      "You have selected 0\n",
      "Thank you for playing, please call back soon.\n"
     ]
    }
   ],
   "source": [
    "choice = None\n",
    "\n",
    "while choice != '0':\n",
    "    choice = input(\"Please enter your choice.  Press enter to quit: \")\n",
    "    if choice == '':\n",
    "        break\n",
    "\n",
    "    print(\"You have selected {}\".format(choice))\n",
    "else:\n",
    "    print(\"Thank you for playing, please call back soon.\")"
   ]
  },
  {
   "cell_type": "code",
   "execution_count": 2,
   "metadata": {},
   "outputs": [
    {
     "name": "stdout",
     "output_type": "stream",
     "text": [
      "Please enter your choice.  Press enter to quit: quit\n",
      "You have selected quit\n",
      "Please enter your choice.  Press enter to quit: exit\n",
      "You have selected exit\n",
      "Please enter your choice.  Press enter to quit: \n"
     ]
    }
   ],
   "source": [
    "choice = None\n",
    "\n",
    "while choice != '0':\n",
    "    choice = input(\"Please enter your choice.  Press enter to quit: \")\n",
    "    if choice == '':\n",
    "        break\n",
    "\n",
    "    print(\"You have selected {}\".format(choice))\n",
    "else:\n",
    "    print(\"Thank you for playing, please call back soon.\")"
   ]
  },
  {
   "cell_type": "markdown",
   "metadata": {},
   "source": [
    "# Comprehension\n",
    "#### list, tuple, dict, set, generator"
   ]
  },
  {
   "cell_type": "code",
   "execution_count": 2,
   "metadata": {},
   "outputs": [
    {
     "name": "stdout",
     "output_type": "stream",
     "text": [
      "[0, 4, 16, 36, 64, 100]\n"
     ]
    }
   ],
   "source": [
    "myList = [num**2 for num in range(0, 11) if num%2 == 0]\n",
    "\n",
    "print(myList)"
   ]
  },
  {
   "cell_type": "code",
   "execution_count": 3,
   "metadata": {},
   "outputs": [
    {
     "name": "stdout",
     "output_type": "stream",
     "text": [
      "[0, 'Odd', 2, 'Odd', 4, 'Odd', 6, 'Odd']\n"
     ]
    }
   ],
   "source": [
    "result = [x if x%2 == 0 else 'Odd' for x in range(0, 8)]\n",
    "\n",
    "print(result)"
   ]
  },
  {
   "cell_type": "markdown",
   "metadata": {},
   "source": [
    "# 0 vs other value\n",
    "### Any value without 0 refers to True"
   ]
  },
  {
   "cell_type": "code",
   "execution_count": 9,
   "metadata": {},
   "outputs": [
    {
     "name": "stdout",
     "output_type": "stream",
     "text": [
      "Value 0 refers to False\n"
     ]
    }
   ],
   "source": [
    "if 0:   \n",
    "    print(\"Any value without 0 refers to True\")\n",
    "else:\n",
    "    print(\"Value 0 refers to False\")"
   ]
  },
  {
   "cell_type": "code",
   "execution_count": 8,
   "metadata": {},
   "outputs": [
    {
     "name": "stdout",
     "output_type": "stream",
     "text": [
      "Any value without 0 refers to True\n"
     ]
    }
   ],
   "source": [
    "if 1:     \n",
    "    print(\"Any value without 0 refers to True\")\n",
    "else:\n",
    "    print(\"Value 0 refers to False\")"
   ]
  },
  {
   "cell_type": "code",
   "execution_count": 10,
   "metadata": {},
   "outputs": [
    {
     "name": "stdout",
     "output_type": "stream",
     "text": [
      "Any value without 0 refers to True\n"
     ]
    }
   ],
   "source": [
    "if 5632:     \n",
    "    print(\"Any value without 0 refers to True\")\n",
    "else:\n",
    "    print(\"Value 0 refers to False\")"
   ]
  },
  {
   "cell_type": "code",
   "execution_count": 11,
   "metadata": {},
   "outputs": [
    {
     "name": "stdout",
     "output_type": "stream",
     "text": [
      "Any value without 0 refers to True\n"
     ]
    }
   ],
   "source": [
    "if 3.1416:   \n",
    "    print(\"Any value without 0 refers to True\")\n",
    "else:\n",
    "    print(\"Value 0 refers to False\")  "
   ]
  },
  {
   "cell_type": "code",
   "execution_count": 12,
   "metadata": {},
   "outputs": [
    {
     "name": "stdout",
     "output_type": "stream",
     "text": [
      "Any value without 0 refers to True\n"
     ]
    }
   ],
   "source": [
    "if 'tuhin':    \n",
    "    print(\"Any value without 0 refers to True\")\n",
    "else:\n",
    "    print(\"Value 0 refers to False\") "
   ]
  },
  {
   "cell_type": "code",
   "execution_count": 13,
   "metadata": {},
   "outputs": [
    {
     "name": "stdout",
     "output_type": "stream",
     "text": [
      "Value 0 refers to False\n",
      "Any value without 0 refers to True\n",
      "Any value without 0 refers to True\n",
      "Any value without 0 refers to True\n",
      "Any value without 0 refers to True\n",
      "Any value without 0 refers to True\n"
     ]
    }
   ],
   "source": [
    "def check(value):\n",
    "    if value:  \n",
    "        print(\"Any value without 0 refers to True\")\n",
    "    else:\n",
    "        print(\"Value 0 refers to False\")\n",
    "\n",
    "myList = [0, 1, -123, 323, 'tuhin', 3.1416]\n",
    "\n",
    "check(myList[0])  \n",
    "check(myList[-5])  \n",
    "check(myList[2])  \n",
    "check(myList[-3])  \n",
    "check(myList[3])  \n",
    "check(myList[-1])  "
   ]
  },
  {
   "cell_type": "markdown",
   "metadata": {},
   "source": [
    "# Exercise"
   ]
  },
  {
   "cell_type": "code",
   "execution_count": null,
   "metadata": {},
   "outputs": [],
   "source": [
    "from random import randint\n",
    "\n",
    "myRand = randint(1, 100)\n",
    "print(myRand)\n",
    "\n",
    "guess = []\n",
    "\n",
    "while True:\n",
    "    myInput = round(float(input(\"Guess a integer number between 1 to 100:\")))\n",
    "    print(type(myInput))\n",
    "\n",
    "    if 1 <= myInput <=100:\n",
    "        guess.append(myInput)\n",
    "        \n",
    "        if guess[-1] == myRand:\n",
    "            print('CONGRATULATIONS, YOU GUESSED IT IN ONLY {0} GUESSES!!'.format(len(guess)))\n",
    "            break\n",
    "            \n",
    "        if guess[-1]-myRand < 0:\n",
    "            if abs(guess[-1]-myRand) <= 10:\n",
    "                print(\"WARMER\")\n",
    "            else:\n",
    "                print(\"COLD\")\n",
    "        else:\n",
    "            if guess[-1]-myRand <= 10:\n",
    "                print(\"COLDER\")\n",
    "            else:\n",
    "                print(\"WARM\")\n",
    "            \n",
    "    else:\n",
    "        print(\"OUT OF BOUNDS\")"
   ]
  },
  {
   "cell_type": "code",
   "execution_count": 5,
   "metadata": {},
   "outputs": [
    {
     "name": "stdout",
     "output_type": "stream",
     "text": [
      "9\n",
      "9\n",
      "14\n"
     ]
    }
   ],
   "source": [
    "# Return the sum of the numbers in the array, except ignore sections of numbers \n",
    "# starting with a 6 and extending to the next 9 (every 6 will be followed by at least one 9). Return 0 for no numbers.\n",
    "\n",
    "def summer_69(arr):\n",
    "    mySum = 0\n",
    "    myBool = True\n",
    "    \n",
    "    for x in range(0, len(arr)):\n",
    "        if arr[x] == 6:\n",
    "            myBool = False\n",
    "        else:\n",
    "            if arr[x] == 9:\n",
    "                myBool = True\n",
    "            else:\n",
    "                if myBool:\n",
    "                    mySum += arr[x]\n",
    "            \n",
    "    return mySum\n",
    "\n",
    "print(summer_69([1, 3, 5]))\n",
    "print(summer_69([4, 5, 6, 7, 8, 9]))\n",
    "print(summer_69([2, 1, 6, 9, 11]))"
   ]
  },
  {
   "cell_type": "code",
   "execution_count": 3,
   "metadata": {},
   "outputs": [
    {
     "name": "stdout",
     "output_type": "stream",
     "text": [
      "True\n"
     ]
    }
   ],
   "source": [
    "import string\n",
    "\n",
    "def ispangram(str1, alphabet=string.ascii_lowercase):\n",
    "    alphaset = set(alphabet)  \n",
    "    \n",
    "    return alphaset <= set(str1.lower()) \n",
    "\n",
    "print(ispangram(\"The quick brown fox jumps over the lazy dog\"))"
   ]
  }
 ],
 "metadata": {
  "kernelspec": {
   "display_name": "Python 3",
   "language": "python",
   "name": "python3"
  },
  "language_info": {
   "codemirror_mode": {
    "name": "ipython",
    "version": 3
   },
   "file_extension": ".py",
   "mimetype": "text/x-python",
   "name": "python",
   "nbconvert_exporter": "python",
   "pygments_lexer": "ipython3",
   "version": "3.7.4"
  }
 },
 "nbformat": 4,
 "nbformat_minor": 2
}
