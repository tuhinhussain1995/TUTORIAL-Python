{
 "cells": [
  {
   "cell_type": "markdown",
   "metadata": {},
   "source": [
    "# sum()"
   ]
  },
  {
   "cell_type": "markdown",
   "metadata": {},
   "source": [
    "## sum  input can't be normal argument type\n",
    "### sum takes input like list, tuple, dict, set, range.\n",
    "#### We can't write:      print(sum(3,4,5,1,9,5)) "
   ]
  },
  {
   "cell_type": "code",
   "execution_count": 23,
   "metadata": {},
   "outputs": [
    {
     "name": "stdout",
     "output_type": "stream",
     "text": [
      "9\n",
      "1\n"
     ]
    }
   ],
   "source": [
    "# We can't write:      print(sum(3,4,5,1,9,5)) \n",
    "print(max(3,4,5,1,9,5))\n",
    "print(min(3,4,5,1,9,5))"
   ]
  },
  {
   "cell_type": "markdown",
   "metadata": {},
   "source": [
    "### list"
   ]
  },
  {
   "cell_type": "code",
   "execution_count": 26,
   "metadata": {},
   "outputs": [
    {
     "name": "stdout",
     "output_type": "stream",
     "text": [
      "240\n",
      "10\n",
      "100\n"
     ]
    }
   ],
   "source": [
    "myList = [50, 20, 10, 100, 60]\n",
    "print(sum(myList))\n",
    "print(min(myList))\n",
    "print(max(myList))"
   ]
  },
  {
   "cell_type": "code",
   "execution_count": 25,
   "metadata": {},
   "outputs": [
    {
     "name": "stdout",
     "output_type": "stream",
     "text": [
      "240\n",
      "10\n",
      "100\n"
     ]
    }
   ],
   "source": [
    "print(sum([50, 20, 10, 100, 60]))\n",
    "print(min([50, 20, 10, 100, 60]))\n",
    "print(max([50, 20, 10, 100, 60]))"
   ]
  },
  {
   "cell_type": "markdown",
   "metadata": {},
   "source": [
    "### tuple"
   ]
  },
  {
   "cell_type": "code",
   "execution_count": 28,
   "metadata": {},
   "outputs": [
    {
     "name": "stdout",
     "output_type": "stream",
     "text": [
      "240\n",
      "10\n",
      "100\n"
     ]
    }
   ],
   "source": [
    "myTuple = (50, 20, 10, 100, 60)\n",
    "print(sum(myTuple))\n",
    "print(min(myTuple))\n",
    "print(max(myTuple))"
   ]
  },
  {
   "cell_type": "code",
   "execution_count": 27,
   "metadata": {},
   "outputs": [
    {
     "name": "stdout",
     "output_type": "stream",
     "text": [
      "240\n",
      "10\n",
      "100\n"
     ]
    }
   ],
   "source": [
    "print(sum((50, 20, 10, 100, 60)))\n",
    "print(min((50, 20, 10, 100, 60)))\n",
    "print(max((50, 20, 10, 100, 60)))"
   ]
  },
  {
   "cell_type": "markdown",
   "metadata": {},
   "source": [
    "### dict"
   ]
  },
  {
   "cell_type": "code",
   "execution_count": 31,
   "metadata": {},
   "outputs": [
    {
     "name": "stdout",
     "output_type": "stream",
     "text": [
      "25.53\n",
      "4.53\n",
      "13\n"
     ]
    }
   ],
   "source": [
    "myDict = {\"rice\": 13, \"potatoo\": 4.53, \"icecream\": 8}\n",
    "print(sum(myDict.values()))\n",
    "print(min(myDict.values()))\n",
    "print(max(myDict.values()))"
   ]
  },
  {
   "cell_type": "code",
   "execution_count": 30,
   "metadata": {},
   "outputs": [
    {
     "name": "stdout",
     "output_type": "stream",
     "text": [
      "25.53\n",
      "4.53\n",
      "13\n"
     ]
    }
   ],
   "source": [
    "print(sum({\"rice\": 13, \"potatoo\": 4.53, \"icecream\": 8}.values()))\n",
    "print(min({\"rice\": 13, \"potatoo\": 4.53, \"icecream\": 8}.values()))\n",
    "print(max({\"rice\": 13, \"potatoo\": 4.53, \"icecream\": 8}.values()))"
   ]
  },
  {
   "cell_type": "markdown",
   "metadata": {},
   "source": [
    "### set"
   ]
  },
  {
   "cell_type": "code",
   "execution_count": 7,
   "metadata": {},
   "outputs": [
    {
     "name": "stdout",
     "output_type": "stream",
     "text": [
      "10\n",
      "4\n",
      "1\n",
      "10\n",
      "4\n",
      "1\n"
     ]
    }
   ],
   "source": [
    "mySet = {1, 2, 3, 4}\n",
    "print(sum(mySet))\n",
    "print(max(mySet))\n",
    "print(min(mySet))\n",
    "\n",
    "mySet = {1, 2, 2, 3, 3, 3, 4, 2, 4, 4, 4, 4}\n",
    "print(sum(mySet))\n",
    "print(max(mySet))\n",
    "print(min(mySet))"
   ]
  },
  {
   "cell_type": "code",
   "execution_count": 39,
   "metadata": {},
   "outputs": [
    {
     "name": "stdout",
     "output_type": "stream",
     "text": [
      "9\n",
      "4\n",
      "2\n"
     ]
    }
   ],
   "source": [
    "print(sum({2, 3, 4}))\n",
    "print(max({2, 3, 4}))\n",
    "print(min({2, 3, 4}))"
   ]
  },
  {
   "cell_type": "code",
   "execution_count": 40,
   "metadata": {},
   "outputs": [
    {
     "name": "stdout",
     "output_type": "stream",
     "text": [
      "9\n",
      "9\n",
      "9\n",
      "9\n"
     ]
    }
   ],
   "source": [
    "print(sum(set([2, 3, 4])))\n",
    "print(sum(set((2, 3, 4))))\n",
    "print(sum(set({\"rice\": 2, \"potatoo\": 3, \"icecream\": 4}.values())))\n",
    "print(sum(set({2, 3, 4})))"
   ]
  },
  {
   "cell_type": "code",
   "execution_count": 42,
   "metadata": {},
   "outputs": [
    {
     "name": "stdout",
     "output_type": "stream",
     "text": [
      "4\n",
      "4\n",
      "4\n",
      "4\n"
     ]
    }
   ],
   "source": [
    "print(max(set([2, 3, 4])))\n",
    "print(max(set((2, 3, 4))))\n",
    "print(max(set({\"rice\": 2, \"potatoo\": 3, \"icecream\": 4}.values())))\n",
    "print(max(set({2, 3, 4})))"
   ]
  },
  {
   "cell_type": "code",
   "execution_count": 41,
   "metadata": {},
   "outputs": [
    {
     "name": "stdout",
     "output_type": "stream",
     "text": [
      "2\n",
      "2\n",
      "2\n",
      "2\n"
     ]
    }
   ],
   "source": [
    "print(min(set([2, 3, 4])))\n",
    "print(min(set((2, 3, 4))))\n",
    "print(min(set({\"rice\": 2, \"potatoo\": 3, \"icecream\": 4}.values())))\n",
    "print(min(set({2, 3, 4})))"
   ]
  },
  {
   "cell_type": "markdown",
   "metadata": {},
   "source": [
    "### range()"
   ]
  },
  {
   "cell_type": "code",
   "execution_count": 6,
   "metadata": {},
   "outputs": [
    {
     "name": "stdout",
     "output_type": "stream",
     "text": [
      "45\n",
      "9\n",
      "1\n"
     ]
    }
   ],
   "source": [
    "print(sum(range(1, 10, 1)))\n",
    "print(max(range(1, 10, 1)))\n",
    "print(min(range(1, 10, 1)))"
   ]
  }
 ],
 "metadata": {
  "kernelspec": {
   "display_name": "Python 3",
   "language": "python",
   "name": "python3"
  },
  "language_info": {
   "codemirror_mode": {
    "name": "ipython",
    "version": 3
   },
   "file_extension": ".py",
   "mimetype": "text/x-python",
   "name": "python",
   "nbconvert_exporter": "python",
   "pygments_lexer": "ipython3",
   "version": "3.7.4"
  }
 },
 "nbformat": 4,
 "nbformat_minor": 2
}
