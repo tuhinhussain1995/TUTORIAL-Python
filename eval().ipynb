{
 "cells": [
  {
   "cell_type": "markdown",
   "metadata": {},
   "source": [
    "## eval() take only string input"
   ]
  },
  {
   "cell_type": "code",
   "execution_count": 5,
   "metadata": {},
   "outputs": [
    {
     "name": "stdout",
     "output_type": "stream",
     "text": [
      "<class 'int'>\n",
      "2\n"
     ]
    }
   ],
   "source": [
    "x = 1\n",
    "print(type(x))\n",
    "\n",
    "print(eval('x + 1'))"
   ]
  },
  {
   "cell_type": "code",
   "execution_count": 6,
   "metadata": {},
   "outputs": [
    {
     "name": "stdout",
     "output_type": "stream",
     "text": [
      "55\n"
     ]
    }
   ],
   "source": [
    "x = 'print(55)'\n",
    "eval(x) "
   ]
  },
  {
   "cell_type": "code",
   "execution_count": 14,
   "metadata": {},
   "outputs": [
    {
     "name": "stdout",
     "output_type": "stream",
     "text": [
      "Enter first number: 10\n",
      "Enter second number: 20\n",
      "10\n",
      "<class 'str'>\n",
      "20\n",
      "<class 'str'>\n",
      "1020\n"
     ]
    }
   ],
   "source": [
    "x = input('Enter first number: ')\n",
    "y = input('Enter second number: ')\n",
    "\n",
    "print(x)\n",
    "print(type(x))\n",
    "\n",
    "print(y)\n",
    "print(type(y))\n",
    "\n",
    "print(x+y)"
   ]
  },
  {
   "cell_type": "code",
   "execution_count": 15,
   "metadata": {},
   "outputs": [
    {
     "name": "stdout",
     "output_type": "stream",
     "text": [
      "Enter first number: 10\n",
      "Enter second number: 20\n",
      "10\n",
      "<class 'int'>\n",
      "20\n",
      "<class 'int'>\n",
      "30\n"
     ]
    }
   ],
   "source": [
    "x = eval(input('Enter first number: '))\n",
    "y = eval(input('Enter second number: '))\n",
    "\n",
    "print(x)\n",
    "print(type(x))\n",
    "\n",
    "print(y)\n",
    "print(type(y))\n",
    "\n",
    "print(x+y)"
   ]
  },
  {
   "cell_type": "code",
   "execution_count": 3,
   "metadata": {},
   "outputs": [
    {
     "name": "stdout",
     "output_type": "stream",
     "text": [
      "('Tuhin', 'BN964', '1995', ((1, 'math'), (2, 'phisics'), (3, 'English')))\n",
      "<class 'str'>\n",
      "('Tuhin', 'BN964', '1995', ((1, 'math'), (2, 'phisics'), (3, 'English')))\n",
      "<class 'tuple'>\n"
     ]
    }
   ],
   "source": [
    "myString = \"('Tuhin', 'BN964', '1995', ((1, 'math'), (2, 'phisics'), (3, 'English')))\"\n",
    "print(myString)\n",
    "print(type(myString))\n",
    "\n",
    "newData = eval(myString)\n",
    "print(newData)\n",
    "print(type(newData))"
   ]
  }
 ],
 "metadata": {
  "kernelspec": {
   "display_name": "Python 3",
   "language": "python",
   "name": "python3"
  },
  "language_info": {
   "codemirror_mode": {
    "name": "ipython",
    "version": 3
   },
   "file_extension": ".py",
   "mimetype": "text/x-python",
   "name": "python",
   "nbconvert_exporter": "python",
   "pygments_lexer": "ipython3",
   "version": "3.7.4"
  }
 },
 "nbformat": 4,
 "nbformat_minor": 2
}
