{
 "cells": [
  {
   "cell_type": "markdown",
   "metadata": {},
   "source": [
    "# all()\n",
    "#### Returns true if all of the items are True or empty.\n",
    "#### Returns false if any of items is False.\n",
    "#### All can be thought of as AND operations."
   ]
  },
  {
   "cell_type": "markdown",
   "metadata": {},
   "source": [
    "### List"
   ]
  },
  {
   "cell_type": "code",
   "execution_count": 12,
   "metadata": {},
   "outputs": [
    {
     "name": "stdout",
     "output_type": "stream",
     "text": [
      "True\n",
      "False\n",
      "False\n",
      "True\n"
     ]
    }
   ],
   "source": [
    "print(all([True, True, True, True]))\n",
    "print(all([False, True, True, False]))\n",
    "print(all([False, False, False, False]))\n",
    "print(all([]))"
   ]
  },
  {
   "cell_type": "markdown",
   "metadata": {},
   "source": [
    "### Dictionary"
   ]
  },
  {
   "cell_type": "code",
   "execution_count": 13,
   "metadata": {},
   "outputs": [
    {
     "name": "stdout",
     "output_type": "stream",
     "text": [
      "True\n",
      "False\n",
      "False\n",
      "True\n"
     ]
    }
   ],
   "source": [
    "myDict = {0:True, 'a':True, 'bcd':True, 3.43:True}\n",
    "print(all(myDict.values()))\n",
    "\n",
    "myDict = {0:False, 'a':True, 'bcd':True, 3.43:False}\n",
    "print(all(myDict.values()))\n",
    "\n",
    "myDict = {0:False, 'a':False, 'bcd':False, 3.43:False}\n",
    "print(all(myDict.values()))\n",
    "\n",
    "myDict = {}\n",
    "print(all(myDict.values()))"
   ]
  },
  {
   "cell_type": "markdown",
   "metadata": {},
   "source": [
    "### Tuple"
   ]
  },
  {
   "cell_type": "code",
   "execution_count": 11,
   "metadata": {},
   "outputs": [
    {
     "name": "stdout",
     "output_type": "stream",
     "text": [
      "True\n",
      "False\n",
      "False\n",
      "True\n"
     ]
    }
   ],
   "source": [
    "print(all((True, True, True, True)))\n",
    "print(all((False, True, True, False)))\n",
    "print(all((False, False, False, False)))\n",
    "print(all(()))"
   ]
  },
  {
   "cell_type": "markdown",
   "metadata": {},
   "source": [
    "### Set"
   ]
  },
  {
   "cell_type": "code",
   "execution_count": 16,
   "metadata": {},
   "outputs": [
    {
     "name": "stdout",
     "output_type": "stream",
     "text": [
      "True\n",
      "False\n",
      "False\n",
      "True\n"
     ]
    }
   ],
   "source": [
    "print(all({True, True, True, True}))\n",
    "print(all({False, True, True, False}))\n",
    "print(all({False, False, False, False}))\n",
    "print(all(set()))"
   ]
  },
  {
   "cell_type": "markdown",
   "metadata": {},
   "source": [
    "# any()\n",
    "#### Returns true if any of the items is True.\n",
    "#### It returns False if empty or all are false.\n",
    "#### Any can be thought of as OR operations."
   ]
  },
  {
   "cell_type": "markdown",
   "metadata": {},
   "source": [
    "### List"
   ]
  },
  {
   "cell_type": "code",
   "execution_count": 28,
   "metadata": {},
   "outputs": [
    {
     "name": "stdout",
     "output_type": "stream",
     "text": [
      "False\n",
      "True\n",
      "True\n",
      "False\n"
     ]
    }
   ],
   "source": [
    "print(any([False, False, False, False]))\n",
    "print(any([False, True, False, False]))\n",
    "print(any([True, False, False, False]))\n",
    "print(any([]))"
   ]
  },
  {
   "cell_type": "markdown",
   "metadata": {},
   "source": [
    "### Dictionary"
   ]
  },
  {
   "cell_type": "code",
   "execution_count": 27,
   "metadata": {},
   "outputs": [
    {
     "name": "stdout",
     "output_type": "stream",
     "text": [
      "False\n",
      "True\n",
      "True\n",
      "False\n"
     ]
    }
   ],
   "source": [
    "myDict = {0:False, 'a':False, 'bcd':False, 3.43:False}\n",
    "print(any(myDict.values()))\n",
    "\n",
    "myDict = {0:False, 'a':True, 'bcd':False, 3.43:False}\n",
    "print(any(myDict.values()))\n",
    "\n",
    "myDict = {0:True, 'a':False, 'bcd':False, 3.43:False}\n",
    "print(any(myDict.values()))\n",
    "\n",
    "myDict = {}\n",
    "print(any(myDict.values()))"
   ]
  },
  {
   "cell_type": "markdown",
   "metadata": {},
   "source": [
    "### Tuple"
   ]
  },
  {
   "cell_type": "code",
   "execution_count": 26,
   "metadata": {},
   "outputs": [
    {
     "name": "stdout",
     "output_type": "stream",
     "text": [
      "False\n",
      "True\n",
      "True\n",
      "False\n"
     ]
    }
   ],
   "source": [
    "print(any((False, False, False, False)))\n",
    "print(any((False, True, False, False)))\n",
    "print(any((True, False, False, False)))\n",
    "print(any(()))"
   ]
  },
  {
   "cell_type": "markdown",
   "metadata": {},
   "source": [
    "### Set"
   ]
  },
  {
   "cell_type": "code",
   "execution_count": 25,
   "metadata": {},
   "outputs": [
    {
     "name": "stdout",
     "output_type": "stream",
     "text": [
      "False\n",
      "True\n",
      "True\n",
      "False\n"
     ]
    }
   ],
   "source": [
    "print(any({False, False, False, False}))\n",
    "print(any({False, True, False, False}))\n",
    "print(any({True, False, False, False}))\n",
    "print(any(set()))"
   ]
  },
  {
   "cell_type": "markdown",
   "metadata": {},
   "source": [
    "# Exercise"
   ]
  },
  {
   "cell_type": "code",
   "execution_count": 3,
   "metadata": {},
   "outputs": [
    {
     "name": "stdout",
     "output_type": "stream",
     "text": [
      "[4, 8, 12, 16, 20, 24, 28, 32, 36, 40]\n",
      "[False, False, False, False, True, False, False, False, False, True]\n",
      "False\n",
      "True\n"
     ]
    }
   ],
   "source": [
    "list1 = []\n",
    "list2 = []\n",
    "\n",
    "for i in range(1, 11):\n",
    "    list1.append(4 * i)\n",
    "\n",
    "for i in range(0, 10):\n",
    "    list2.append(list1[i] % 5 == 0)\n",
    "\n",
    "print(list1)\n",
    "print(list2)\n",
    "\n",
    "print(all(list2))\n",
    "print(any(list2))"
   ]
  },
  {
   "cell_type": "code",
   "execution_count": 5,
   "metadata": {},
   "outputs": [
    {
     "name": "stdout",
     "output_type": "stream",
     "text": [
      "[1, 5, 9, 13, 17, 21, 25, 29, 33, 37, 41, 45, 49, 53, 57, 61, 65, 69, 73]\n",
      "[True, True, True, True, True, True, True, True, True, True, True, True, True, True, True, True, True, True, True]\n",
      "True\n",
      "True\n"
     ]
    }
   ],
   "source": [
    "list1 = []\n",
    "list2 = []\n",
    "\n",
    "for i in range(1, 20):\n",
    "    list1.append(4 * i - 3)\n",
    "\n",
    "for i in range(0, 19):\n",
    "    list2.append(list1[i] % 2 == 1)\n",
    "\n",
    "print(list1)\n",
    "print(list2)\n",
    "\n",
    "print(all(list2))\n",
    "print(any(list2))"
   ]
  }
 ],
 "metadata": {
  "kernelspec": {
   "display_name": "Python 3",
   "language": "python",
   "name": "python3"
  },
  "language_info": {
   "codemirror_mode": {
    "name": "ipython",
    "version": 3
   },
   "file_extension": ".py",
   "mimetype": "text/x-python",
   "name": "python",
   "nbconvert_exporter": "python",
   "pygments_lexer": "ipython3",
   "version": "3.7.4"
  }
 },
 "nbformat": 4,
 "nbformat_minor": 2
}
