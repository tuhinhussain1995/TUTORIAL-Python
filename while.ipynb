{
 "cells": [
  {
   "cell_type": "markdown",
   "metadata": {},
   "source": [
    "### Difference between for loop and while loop\n",
    "#### For Loop ==> when we know the exact range (start and stop point)\n",
    "#### While Loop ==> when we cant determine the range (start and stop point)"
   ]
  },
  {
   "cell_type": "code",
   "execution_count": 1,
   "metadata": {},
   "outputs": [
    {
     "name": "stdout",
     "output_type": "stream",
     "text": [
      "The current value of x is: 0\n",
      "The current value of x is: 1\n",
      "The current value of x is: 2\n",
      "The current value of x is: 3\n",
      "The current value of x is: 4\n"
     ]
    }
   ],
   "source": [
    "x = 0\n",
    "\n",
    "while x < 5:\n",
    "    print('The current value of x is: %d' %x)\n",
    "    x += 1"
   ]
  },
  {
   "cell_type": "code",
   "execution_count": 1,
   "metadata": {},
   "outputs": [
    {
     "name": "stdout",
     "output_type": "stream",
     "text": [
      "0\n",
      "1\n",
      "2\n",
      "4\n",
      "5\n",
      "6\n",
      "7\n",
      "8\n",
      "9\n"
     ]
    }
   ],
   "source": [
    "x = 0\n",
    "\n",
    "while x < 10:\n",
    "    if x != 3:\n",
    "        print(x)\n",
    "        x += 1\n",
    "    else:\n",
    "        x += 1\n",
    "        continue"
   ]
  },
  {
   "cell_type": "code",
   "execution_count": 2,
   "metadata": {},
   "outputs": [
    {
     "name": "stdout",
     "output_type": "stream",
     "text": [
      "Please choose a direction: Down\n",
      "Continuing ..........\n",
      "Please choose a direction: Up\n",
      "Continuing ..........\n",
      "Please choose a direction: QUit\n",
      "Game Over\n",
      "You are out of there :(\n"
     ]
    }
   ],
   "source": [
    "available_exits = ['east', 'west', 'north', 'south']\n",
    "chosen_exit = \"\"\n",
    "\n",
    "while chosen_exit not in available_exits:\n",
    "    chosen_exit = input(\"Please choose a direction: \")\n",
    "\n",
    "    if chosen_exit.casefold() == 'quit':\n",
    "        print(\"Game Over\")\n",
    "        break\n",
    "\n",
    "    print(\"Continuing ..........\")\n",
    "\n",
    "print('You are out of there :(')"
   ]
  },
  {
   "cell_type": "code",
   "execution_count": 3,
   "metadata": {},
   "outputs": [
    {
     "name": "stdout",
     "output_type": "stream",
     "text": [
      "Please guess a number between 1 to 10\n",
      "3\n",
      "Please guess higher\n",
      "6\n",
      "Please guess higher\n",
      "8\n",
      "Please guess lower\n",
      "7\n",
      "Well done, You guess is correct\n"
     ]
    }
   ],
   "source": [
    "import random\n",
    "\n",
    "hight = 10\n",
    "answer = random.randint(1, hight)\n",
    "guess = 11\n",
    "print('Please guess a number between 1 to {0}'.format(hight))\n",
    "\n",
    "while guess != answer:\n",
    "    guess = int(input())\n",
    "\n",
    "    if guess == answer:\n",
    "        print('Well done, You guess is correct')\n",
    "        break\n",
    "    else:\n",
    "        if guess < answer:\n",
    "            print('Please guess higher')\n",
    "        else:\n",
    "            print(\"Please guess lower\")"
   ]
  },
  {
   "cell_type": "code",
   "execution_count": 4,
   "metadata": {},
   "outputs": [
    {
     "name": "stdout",
     "output_type": "stream",
     "text": [
      "Please choose your option from the list below:\n",
      "1:\tLearn Python\n",
      "2:\tLearn Java\n",
      "3:\tGo swimming\n",
      "4:\tHave dinner\n",
      "5:\tGo to bed\n",
      "0:\tExit\n",
      "2\n",
      "You chose 2\n",
      "3\n",
      "You chose 3\n",
      "4\n",
      "You chose 4\n",
      "0\n"
     ]
    }
   ],
   "source": [
    "choice = \"-\"\n",
    "while True:\n",
    "    if choice == \"0\":\n",
    "        break\n",
    "    elif choice in \"12345\":\n",
    "        print(\"You chose {}\".format(choice))\n",
    "    else:\n",
    "        print(\"Please choose your option from the list below:\")\n",
    "        print(\"1:\\tLearn Python\")\n",
    "        print(\"2:\\tLearn Java\")\n",
    "        print(\"3:\\tGo swimming\")\n",
    "        print(\"4:\\tHave dinner\")\n",
    "        print(\"5:\\tGo to bed\")\n",
    "        print(\"0:\\tExit\")\n",
    "\n",
    "    choice = input()"
   ]
  },
  {
   "cell_type": "code",
   "execution_count": 5,
   "metadata": {},
   "outputs": [
    {
     "name": "stdout",
     "output_type": "stream",
     "text": [
      "Enter fruit name: lemon\n",
      "a sour, yellow fruit\n",
      "Enter fruit name: lime\n",
      "a sour, green fruit\n",
      "Enter fruit name: soda\n",
      "We don't have soda\n",
      "Enter fruit name: quit\n"
     ]
    }
   ],
   "source": [
    "fruit = {'orange' : \"sweet and little bit sour\",\n",
    "         \"apple\" : 'good for making cider',\n",
    "         \"lemon\" : 'a sour, yellow fruit',\n",
    "         'grape' : 'a small sweet fruit',\n",
    "         'lime' : 'a sour, green fruit'}\n",
    "\n",
    "while True:\n",
    "    key = input('Enter fruit name: ')\n",
    "\n",
    "    if key == 'quit':\n",
    "        break\n",
    "    else:\n",
    "        description = fruit.get(key, \"We don't have \" + key)\n",
    "        print(description)"
   ]
  },
  {
   "cell_type": "markdown",
   "metadata": {},
   "source": [
    "# relation between else and break\n",
    "### if break is called, then the else will not be executed\n",
    "### if break is not called, then the else will be executed"
   ]
  },
  {
   "cell_type": "code",
   "execution_count": 6,
   "metadata": {},
   "outputs": [
    {
     "name": "stdout",
     "output_type": "stream",
     "text": [
      "Please enter your choice.  Press enter to quit: quit\n",
      "You have selected quit\n",
      "Please enter your choice.  Press enter to quit: exit\n",
      "You have selected exit\n",
      "Please enter your choice.  Press enter to quit: 0\n",
      "You have selected 0\n",
      "Thank you for playing, please call back soon.\n"
     ]
    }
   ],
   "source": [
    "choice = None\n",
    "\n",
    "while choice != '0':\n",
    "    choice = input(\"Please enter your choice.  Press enter to quit: \")\n",
    "    if choice == '':\n",
    "        break\n",
    "\n",
    "    print(\"You have selected {}\".format(choice))\n",
    "else:\n",
    "    print(\"Thank you for playing, please call back soon.\")"
   ]
  },
  {
   "cell_type": "code",
   "execution_count": 7,
   "metadata": {},
   "outputs": [
    {
     "name": "stdout",
     "output_type": "stream",
     "text": [
      "Please enter your choice.  Press enter to quit: quit\n",
      "You have selected quit\n",
      "Please enter your choice.  Press enter to quit: exit\n",
      "You have selected exit\n",
      "Please enter your choice.  Press enter to quit: \n"
     ]
    }
   ],
   "source": [
    "choice = None\n",
    "\n",
    "while choice != '0':\n",
    "    choice = input(\"Please enter your choice.  Press enter to quit: \")\n",
    "    if choice == '':\n",
    "        break\n",
    "\n",
    "    print(\"You have selected {}\".format(choice))\n",
    "else:\n",
    "    print(\"Thank you for playing, please call back soon.\")"
   ]
  },
  {
   "cell_type": "markdown",
   "metadata": {},
   "source": [
    "# Exercise"
   ]
  },
  {
   "cell_type": "code",
   "execution_count": 1,
   "metadata": {},
   "outputs": [
    {
     "name": "stdout",
     "output_type": "stream",
     "text": [
      "90\n",
      "Guess a integer number between 1 to 100:70\n",
      "<class 'int'>\n",
      "COLD\n",
      "Guess a integer number between 1 to 100:80\n",
      "<class 'int'>\n",
      "WARMER\n",
      "Guess a integer number between 1 to 100:100\n",
      "<class 'int'>\n",
      "COLDER\n",
      "Guess a integer number between 1 to 100:91\n",
      "<class 'int'>\n",
      "COLDER\n",
      "Guess a integer number between 1 to 100:89\n",
      "<class 'int'>\n",
      "WARMER\n",
      "Guess a integer number between 1 to 100:90\n",
      "<class 'int'>\n",
      "CONGRATULATIONS, YOU GUESSED IT IN ONLY 6 GUESSES!!\n"
     ]
    }
   ],
   "source": [
    "from random import randint\n",
    "\n",
    "myRand = randint(1, 100)\n",
    "print(myRand)\n",
    "\n",
    "guess = []\n",
    "\n",
    "while True:\n",
    "    myInput = round(float(input(\"Guess a integer number between 1 to 100:\")))\n",
    "    print(type(myInput))\n",
    "\n",
    "    if 1 <= myInput <=100:\n",
    "        guess.append(myInput)\n",
    "        \n",
    "        if guess[-1] == myRand:\n",
    "            print('CONGRATULATIONS, YOU GUESSED IT IN ONLY {0} GUESSES!!'.format(len(guess)))\n",
    "            break\n",
    "            \n",
    "        if guess[-1]-myRand < 0:\n",
    "            if abs(guess[-1]-myRand) <= 10:\n",
    "                print(\"WARMER\")\n",
    "            else:\n",
    "                print(\"COLD\")\n",
    "        else:\n",
    "            if guess[-1]-myRand <= 10:\n",
    "                print(\"COLDER\")\n",
    "            else:\n",
    "                print(\"WARM\")\n",
    "            \n",
    "    else:\n",
    "        print(\"OUT OF BOUNDS\")"
   ]
  }
 ],
 "metadata": {
  "kernelspec": {
   "display_name": "Python 3",
   "language": "python",
   "name": "python3"
  },
  "language_info": {
   "codemirror_mode": {
    "name": "ipython",
    "version": 3
   },
   "file_extension": ".py",
   "mimetype": "text/x-python",
   "name": "python",
   "nbconvert_exporter": "python",
   "pygments_lexer": "ipython3",
   "version": "3.7.4"
  }
 },
 "nbformat": 4,
 "nbformat_minor": 2
}
