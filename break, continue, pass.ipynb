{
 "cells": [
  {
   "cell_type": "markdown",
   "metadata": {},
   "source": [
    "# break "
   ]
  },
  {
   "cell_type": "code",
   "execution_count": 1,
   "metadata": {},
   "outputs": [
    {
     "name": "stdout",
     "output_type": "stream",
     "text": [
      "0\n",
      "1\n"
     ]
    }
   ],
   "source": [
    "for x in range(6):\n",
    "    if x >= 2:\n",
    "        break\n",
    "    else:\n",
    "        print(x)"
   ]
  },
  {
   "cell_type": "code",
   "execution_count": 2,
   "metadata": {},
   "outputs": [
    {
     "name": "stdout",
     "output_type": "stream",
     "text": [
      "a\n",
      "b\n"
     ]
    }
   ],
   "source": [
    "lst = ['a','b','c', 'd']\n",
    "\n",
    "for count,item in enumerate(lst):\n",
    "    if count >= 2:\n",
    "        break\n",
    "    else:\n",
    "        print(item)"
   ]
  },
  {
   "cell_type": "code",
   "execution_count": 14,
   "metadata": {},
   "outputs": [
    {
     "name": "stdout",
     "output_type": "stream",
     "text": [
      "Buy milk\n",
      "Buy pasta\n",
      "Buy egg\n"
     ]
    }
   ],
   "source": [
    "shopping_list = ['milk', \"pasta\", 'egg', \"spam\", \"bread\", \"rice\"]\n",
    "\n",
    "for item in shopping_list:\n",
    "    if item == \"spam\":\n",
    "        break\n",
    "    print('Buy', item)"
   ]
  },
  {
   "cell_type": "code",
   "execution_count": 15,
   "metadata": {},
   "outputs": [
    {
     "name": "stdout",
     "output_type": "stream",
     "text": [
      "Spam found at position 4\n"
     ]
    }
   ],
   "source": [
    "shopping_list = ['milk', \"pasta\", 'egg', \"spam\", \"bread\", \"rice\"]\n",
    "\n",
    "for index in range(len(shopping_list)):\n",
    "    if shopping_list[index] == 'spam':\n",
    "        print('Spam found at position {0}'.format(index+1))\n",
    "        break"
   ]
  },
  {
   "cell_type": "code",
   "execution_count": 5,
   "metadata": {},
   "outputs": [
    {
     "name": "stdout",
     "output_type": "stream",
     "text": [
      "Please guess a number between 1 to 10\n",
      "5\n",
      "Please guess higher\n",
      "8\n",
      "Please guess higher\n",
      "9\n",
      "Well done, You guess is correct\n"
     ]
    }
   ],
   "source": [
    "import random\n",
    "\n",
    "hight = 10\n",
    "answer = random.randint(1, hight)\n",
    "guess = 11\n",
    "print('Please guess a number between 1 to {0}'.format(hight))\n",
    "\n",
    "while guess != answer:\n",
    "    guess = int(input())\n",
    "\n",
    "    if guess == answer:\n",
    "        print('Well done, You guess is correct')\n",
    "        break\n",
    "    else:\n",
    "        if guess < answer:\n",
    "            print('Please guess higher')\n",
    "        else:\n",
    "            print(\"Please guess lower\")"
   ]
  },
  {
   "cell_type": "code",
   "execution_count": 4,
   "metadata": {},
   "outputs": [
    {
     "name": "stdout",
     "output_type": "stream",
     "text": [
      "Enter fruit name: lemon\n",
      "a sour, yellow fruit\n",
      "Enter fruit name: coconut\n",
      "We don't have coconut\n",
      "Enter fruit name: quit\n"
     ]
    }
   ],
   "source": [
    "fruit = {'orange' : \"sweet and little bit sour\",\n",
    "         \"apple\" : 'good for making cider',\n",
    "         \"lemon\" : 'a sour, yellow fruit',\n",
    "         'grape' : 'a small sweet fruit',\n",
    "         'lime' : 'a sour, green fruit'}\n",
    "\n",
    "while True:\n",
    "    key = input('Enter fruit name: ')\n",
    "\n",
    "    if key == 'quit':\n",
    "        break\n",
    "    else:\n",
    "        description = fruit.get(key, \"We don't have \" + key)\n",
    "        print(description)"
   ]
  },
  {
   "cell_type": "markdown",
   "metadata": {},
   "source": [
    "## relation between else and break\n",
    "### if break is called, then the else will not be executed\n",
    "### if break is not called, then the else will be executed"
   ]
  },
  {
   "cell_type": "markdown",
   "metadata": {},
   "source": [
    "### for"
   ]
  },
  {
   "cell_type": "code",
   "execution_count": 1,
   "metadata": {},
   "outputs": [
    {
     "name": "stdout",
     "output_type": "stream",
     "text": [
      "The numbers are unacceptable\n"
     ]
    }
   ],
   "source": [
    "numbers = [1, 45, 32, 17, 60]\n",
    "\n",
    "for number in numbers:\n",
    "    if number%8 == 0:\n",
    "        print('The numbers are unacceptable')\n",
    "        break\n",
    "\n",
    "else:                                              # else is associated with for loop not with if statement\n",
    "    print(\"All those numbers are fine\")"
   ]
  },
  {
   "cell_type": "code",
   "execution_count": 2,
   "metadata": {},
   "outputs": [
    {
     "name": "stdout",
     "output_type": "stream",
     "text": [
      "All those numbers are fine\n"
     ]
    }
   ],
   "source": [
    "numbers = [1, 45, 31, 17, 60]\n",
    "\n",
    "for number in numbers:\n",
    "    if number%8 == 0:\n",
    "        print('The numbers are unacceptable')\n",
    "        break\n",
    "\n",
    "else:                                              # else is associated with for loop not with if statement\n",
    "    print(\"All those numbers are fine\")"
   ]
  },
  {
   "cell_type": "markdown",
   "metadata": {},
   "source": [
    "## neasted for with break"
   ]
  },
  {
   "cell_type": "code",
   "execution_count": 1,
   "metadata": {},
   "outputs": [
    {
     "name": "stdout",
     "output_type": "stream",
     "text": [
      "25\n"
     ]
    }
   ],
   "source": [
    "def count_primes(num):\n",
    "    count = 0\n",
    "    \n",
    "    for x in range(2, num):\n",
    "        for y in range(2, x+1):\n",
    "            if x%y==0:\n",
    "                if x==y:\n",
    "                    count+=1\n",
    "                else:\n",
    "                    break        # this break work for second for loop\n",
    "    return count    \n",
    "\n",
    "print(count_primes(100))"
   ]
  },
  {
   "cell_type": "markdown",
   "metadata": {},
   "source": [
    "### while"
   ]
  },
  {
   "cell_type": "code",
   "execution_count": 6,
   "metadata": {},
   "outputs": [
    {
     "name": "stdout",
     "output_type": "stream",
     "text": [
      "Please enter your choice.  Press enter to quit: quit\n",
      "You have selected quit\n",
      "Please enter your choice.  Press enter to quit: exit\n",
      "You have selected exit\n",
      "Please enter your choice.  Press enter to quit: 0\n",
      "You have selected 0\n",
      "Thank you for playing, please call back soon.\n"
     ]
    }
   ],
   "source": [
    "choice = None\n",
    "\n",
    "while choice != '0':\n",
    "    choice = input(\"Please enter your choice.  Press enter to quit: \")\n",
    "    if choice == '':\n",
    "        break\n",
    "\n",
    "    print(\"You have selected {}\".format(choice))\n",
    "else:\n",
    "    print(\"Thank you for playing, please call back soon.\")"
   ]
  },
  {
   "cell_type": "code",
   "execution_count": 7,
   "metadata": {},
   "outputs": [
    {
     "name": "stdout",
     "output_type": "stream",
     "text": [
      "Please enter your choice.  Press enter to quit: quit\n",
      "You have selected quit\n",
      "Please enter your choice.  Press enter to quit: exit\n",
      "You have selected exit\n",
      "Please enter your choice.  Press enter to quit: \n"
     ]
    }
   ],
   "source": [
    "choice = None\n",
    "\n",
    "while choice != '0':\n",
    "    choice = input(\"Please enter your choice.  Press enter to quit: \")\n",
    "    if choice == '':\n",
    "        break\n",
    "\n",
    "    print(\"You have selected {}\".format(choice))\n",
    "else:\n",
    "    print(\"Thank you for playing, please call back soon.\")"
   ]
  },
  {
   "cell_type": "markdown",
   "metadata": {},
   "source": [
    "# continue"
   ]
  },
  {
   "cell_type": "code",
   "execution_count": 8,
   "metadata": {},
   "outputs": [
    {
     "name": "stdout",
     "output_type": "stream",
     "text": [
      "0\n",
      "1\n",
      "3\n",
      "4\n",
      "5\n"
     ]
    }
   ],
   "source": [
    "for x in range(6):\n",
    "    if x == 2:\n",
    "        continue\n",
    "    else:\n",
    "        print(x)"
   ]
  },
  {
   "cell_type": "code",
   "execution_count": 10,
   "metadata": {},
   "outputs": [
    {
     "name": "stdout",
     "output_type": "stream",
     "text": [
      "0\n",
      "1\n",
      "2\n",
      "4\n",
      "5\n"
     ]
    }
   ],
   "source": [
    "x = 0\n",
    "\n",
    "while x < 6:\n",
    "    if x != 3:\n",
    "        print(x)\n",
    "        x += 1\n",
    "    else:\n",
    "        x += 1\n",
    "        continue"
   ]
  },
  {
   "cell_type": "code",
   "execution_count": 13,
   "metadata": {},
   "outputs": [
    {
     "name": "stdout",
     "output_type": "stream",
     "text": [
      "8\n",
      "7\n",
      "6\n",
      "4\n",
      "3\n",
      "2\n",
      "1\n",
      "0\n"
     ]
    }
   ],
   "source": [
    "var = 9\n",
    "\n",
    "while var > 0:              \n",
    "   var = var -1\n",
    "   if var == 5:\n",
    "      continue\n",
    "   print(var)"
   ]
  },
  {
   "cell_type": "code",
   "execution_count": 11,
   "metadata": {},
   "outputs": [
    {
     "name": "stdout",
     "output_type": "stream",
     "text": [
      "T\n",
      "u\n",
      "i\n",
      "n\n"
     ]
    }
   ],
   "source": [
    "myString = 'Tuhin'\n",
    "\n",
    "for letter in myString:\n",
    "    if letter == 'h':\n",
    "        continue\n",
    "    print(letter)"
   ]
  },
  {
   "cell_type": "code",
   "execution_count": 12,
   "metadata": {},
   "outputs": [
    {
     "name": "stdout",
     "output_type": "stream",
     "text": [
      "Buy milk\n",
      "Buy pasta\n",
      "Buy egg\n",
      "Buy bread\n",
      "Buy rice\n"
     ]
    }
   ],
   "source": [
    "shopping_list = ['milk', \"pasta\", 'egg', \"spam\", \"bread\", \"rice\"]\n",
    "\n",
    "for item in shopping_list:\n",
    "    if item == \"spam\":\n",
    "        continue\n",
    "    print('Buy', item)"
   ]
  },
  {
   "cell_type": "code",
   "execution_count": null,
   "metadata": {},
   "outputs": [],
   "source": [
    "lst = ['a','b','c', 'd']\n",
    "\n",
    "for count,item in enumerate(lst):\n",
    "    if count == 2:\n",
    "        continue\n",
    "    else:\n",
    "        print(item)"
   ]
  },
  {
   "cell_type": "markdown",
   "metadata": {},
   "source": [
    "# pass\n",
    "###  pass is used when we don't want to execute any code"
   ]
  },
  {
   "cell_type": "code",
   "execution_count": 16,
   "metadata": {},
   "outputs": [],
   "source": [
    "myList = [1, 2, 3, 4, 5]\n",
    "\n",
    "for item in myList:\n",
    "    pass\n",
    "    # if we don't write pass the program will show error\n",
    "    # because for statement must print some value"
   ]
  },
  {
   "cell_type": "code",
   "execution_count": 1,
   "metadata": {},
   "outputs": [
    {
     "name": "stdout",
     "output_type": "stream",
     "text": [
      "0\n",
      "2\n",
      "4\n",
      "6\n",
      "8\n"
     ]
    }
   ],
   "source": [
    "for x in range(0, 10):\n",
    "    if x%2==0:\n",
    "        print(x)\n",
    "    else:\n",
    "        pass"
   ]
  },
  {
   "cell_type": "code",
   "execution_count": 2,
   "metadata": {},
   "outputs": [
    {
     "name": "stdout",
     "output_type": "stream",
     "text": [
      "Original String : Hello Mr. Rogers, how are you this fine Tuesday?\n",
      "No. of Upper case characters : 4\n",
      "No. of Lower case characters : 33\n"
     ]
    }
   ],
   "source": [
    "def up_low(s):\n",
    "    upperCase = 0\n",
    "    lowerCase = 0\n",
    "    \n",
    "    for x in s:\n",
    "        if x.isupper():\n",
    "            upperCase += 1\n",
    "        elif x.islower():\n",
    "            lowerCase += 1\n",
    "        else:\n",
    "            pass\n",
    "    \n",
    "    print('Original String : {0}'.format(s))\n",
    "    print('No. of Upper case characters : {0}'.format(upperCase))\n",
    "    print('No. of Lower case characters : {0}'.format(lowerCase))\n",
    "    \n",
    "s = 'Hello Mr. Rogers, how are you this fine Tuesday?'\n",
    "up_low(s)    "
   ]
  },
  {
   "cell_type": "code",
   "execution_count": 20,
   "metadata": {},
   "outputs": [],
   "source": [
    "a = 33\n",
    "b = 200\n",
    "\n",
    "if b > a:\n",
    "    pass"
   ]
  },
  {
   "cell_type": "code",
   "execution_count": 17,
   "metadata": {},
   "outputs": [],
   "source": [
    "def function(args):\n",
    "    pass"
   ]
  },
  {
   "cell_type": "code",
   "execution_count": 18,
   "metadata": {},
   "outputs": [],
   "source": [
    "class Example:\n",
    "    pass"
   ]
  }
 ],
 "metadata": {
  "kernelspec": {
   "display_name": "Python 3",
   "language": "python",
   "name": "python3"
  },
  "language_info": {
   "codemirror_mode": {
    "name": "ipython",
    "version": 3
   },
   "file_extension": ".py",
   "mimetype": "text/x-python",
   "name": "python",
   "nbconvert_exporter": "python",
   "pygments_lexer": "ipython3",
   "version": "3.7.4"
  }
 },
 "nbformat": 4,
 "nbformat_minor": 2
}
