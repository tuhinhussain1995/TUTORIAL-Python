{
 "cells": [
  {
   "cell_type": "markdown",
   "metadata": {},
   "source": [
    "# Tuple\n",
    "### Ordered, Immutable, Indexed, Faster, doesn't  support item Assignment and support Deletion but not support item deletion.\n",
    "### Sequenced"
   ]
  },
  {
   "cell_type": "code",
   "execution_count": 1,
   "metadata": {},
   "outputs": [],
   "source": [
    "# difference between List and tuple\n",
    "\n",
    "# List and Tuple are same. But when we use them.\n",
    "    # List: When we want to change or delete any item.\n",
    "    # Tuple: When we don't want to change or delete any item."
   ]
  },
  {
   "cell_type": "markdown",
   "metadata": {},
   "source": [
    "### 'string', 'set' and 'tuples' does not support item assignment\n",
    "###  Only 'list' and 'dictionary' support item assignment\n",
    "### dictionary and set doesn't support indexing and slicing."
   ]
  },
  {
   "cell_type": "markdown",
   "metadata": {},
   "source": [
    "# Basic"
   ]
  },
  {
   "cell_type": "code",
   "execution_count": 4,
   "metadata": {},
   "outputs": [
    {
     "name": "stdout",
     "output_type": "stream",
     "text": [
      "(3, 4.6, 'dog')\n",
      "<class 'tuple'>\n",
      "<class 'tuple'>\n"
     ]
    }
   ],
   "source": [
    "# A tuple can also be created without using parentheses. This is known as tuple packing.\n",
    "\n",
    "my_tuple = 3, 4.6, \"dog\"\n",
    "\n",
    "print(my_tuple)\n",
    "print(type(my_tuple))\n",
    "\n",
    "my_tuple = \"hello\",      # one element tuple\n",
    "print(type(my_tuple)) "
   ]
  },
  {
   "cell_type": "code",
   "execution_count": 36,
   "metadata": {},
   "outputs": [
    {
     "name": "stdout",
     "output_type": "stream",
     "text": [
      "<class 'tuple'>\n",
      "<class 'tuple'>\n"
     ]
    }
   ],
   "source": [
    "myTuple = ()\n",
    "print(type(myTuple))\n",
    "\n",
    "myTuple = tuple()\n",
    "print(type(myTuple))"
   ]
  },
  {
   "cell_type": "code",
   "execution_count": 3,
   "metadata": {},
   "outputs": [
    {
     "name": "stdout",
     "output_type": "stream",
     "text": [
      "(1, 2, 3, 4, 5)\n",
      "<class 'tuple'>\n"
     ]
    }
   ],
   "source": [
    "myTuple = (1, 2, 3, 4, 5)\n",
    "\n",
    "print(myTuple)\n",
    "print(type(myTuple))"
   ]
  },
  {
   "cell_type": "code",
   "execution_count": 4,
   "metadata": {},
   "outputs": [
    {
     "name": "stdout",
     "output_type": "stream",
     "text": [
      "(6, 4, 5, 3, 1)\n",
      "(6.5, 3.1416, 9.3, 2.0, 6.5)\n",
      "('e', 'h', 'c', 'a', 'd')\n",
      "('tuhin', 'sumon', 'nazrul', 'mhafuz', 'halim')\n",
      "(1, 3.1416, 'h', 'nazrul', 'd')\n"
     ]
    }
   ],
   "source": [
    "myTuple = (6, 4, 5, 3, 1)\n",
    "print(myTuple)\n",
    "\n",
    "myTuple = (6.5, 3.1416, 9.3, 2.0, 6.5)\n",
    "print(myTuple)\n",
    "\n",
    "myTuple = ('e', 'h', 'c', 'a', 'd')\n",
    "print(myTuple)\n",
    "\n",
    "myTuple = ('tuhin', 'sumon', 'nazrul', 'mhafuz', 'halim')\n",
    "print(myTuple)\n",
    "\n",
    "myTuple = (1, 3.1416, 'h', 'nazrul', 'd')\n",
    "print(myTuple)"
   ]
  },
  {
   "cell_type": "code",
   "execution_count": 3,
   "metadata": {},
   "outputs": [
    {
     "name": "stdout",
     "output_type": "stream",
     "text": [
      "(1, 2.563, [3, 'a'], {'e': 4, 'f': 5}, (6.5, 'tuhin'), {4, 5})\n",
      "<class 'tuple'>\n"
     ]
    }
   ],
   "source": [
    "myTuple = (1, 2.563, [3, 'a'],{'e':4, 'f':5}, (6.5, 'tuhin'),{4, 5})\n",
    "print(myTuple)\n",
    "print(type(myTuple))"
   ]
  },
  {
   "cell_type": "markdown",
   "metadata": {},
   "source": [
    "### single element tuple"
   ]
  },
  {
   "cell_type": "code",
   "execution_count": 9,
   "metadata": {},
   "outputs": [
    {
     "name": "stdout",
     "output_type": "stream",
     "text": [
      "<class 'str'>\n",
      "<class 'tuple'>\n"
     ]
    }
   ],
   "source": [
    "myTuple = ('tuhin')\n",
    "print(type(myTuple))\n",
    "\n",
    "myTuple = ('tuhin',)\n",
    "print(type(myTuple))"
   ]
  },
  {
   "cell_type": "code",
   "execution_count": 18,
   "metadata": {},
   "outputs": [
    {
     "name": "stdout",
     "output_type": "stream",
     "text": [
      "<class 'str'>\n",
      "three\n",
      "<class 'tuple'>\n",
      "('three',)\n"
     ]
    }
   ],
   "source": [
    "myTuple = ('one','two', 'three', 'four')\n",
    "\n",
    "newTuple = (myTuple[2])            # this is way of assaign one element tuple\n",
    "print(type(newTuple))\n",
    "print(newTuple)\n",
    "\n",
    "newTuple = (myTuple[2],)            # this is way of assaign one element tuple\n",
    "print(type(newTuple))\n",
    "print(newTuple)"
   ]
  },
  {
   "cell_type": "code",
   "execution_count": 22,
   "metadata": {},
   "outputs": [
    {
     "name": "stdout",
     "output_type": "stream",
     "text": [
      "('five',)\n",
      "<class 'tuple'>\n"
     ]
    }
   ],
   "source": [
    "myTuple = ('one', \"two\", 'three', \"four\", 'five')\n",
    "\n",
    "print(myTuple[4:])\n",
    "print(type(myTuple[4:]))"
   ]
  },
  {
   "cell_type": "markdown",
   "metadata": {},
   "source": [
    "# Tuple is Ordered"
   ]
  },
  {
   "cell_type": "code",
   "execution_count": 7,
   "metadata": {},
   "outputs": [
    {
     "name": "stdout",
     "output_type": "stream",
     "text": [
      "('a', 'one', 2, 3.14159, 4, 5, 6, 7)\n",
      "('a', 'one', 2, 3.14159, 4, 5, 6, 7, 'Tuhin')\n"
     ]
    }
   ],
   "source": [
    "myTuple1 = ('a', 'one', 2, 3.14159)\n",
    "myTuple2 = (4, 5, 6, 7)\n",
    "\n",
    "myTuple = myTuple1 + myTuple2\n",
    "print(myTuple)\n",
    "\n",
    "myTuple3 = ('Tuhin',)\n",
    "\n",
    "myTuple += myTuple3\n",
    "print(myTuple)"
   ]
  },
  {
   "cell_type": "markdown",
   "metadata": {},
   "source": [
    "# Tuple is Immutable"
   ]
  },
  {
   "cell_type": "code",
   "execution_count": 1,
   "metadata": {},
   "outputs": [
    {
     "ename": "TypeError",
     "evalue": "'tuple' object does not support item assignment",
     "output_type": "error",
     "traceback": [
      "\u001b[1;31m---------------------------------------------------------------------------\u001b[0m",
      "\u001b[1;31mTypeError\u001b[0m                                 Traceback (most recent call last)",
      "\u001b[1;32m<ipython-input-1-ab0a665570e2>\u001b[0m in \u001b[0;36m<module>\u001b[1;34m\u001b[0m\n\u001b[0;32m      1\u001b[0m \u001b[0mt\u001b[0m \u001b[1;33m=\u001b[0m \u001b[1;33m(\u001b[0m\u001b[1;34m'one'\u001b[0m\u001b[1;33m,\u001b[0m \u001b[1;36m2\u001b[0m\u001b[1;33m,\u001b[0m \u001b[1;36m3.14159\u001b[0m\u001b[1;33m)\u001b[0m\u001b[1;33m\u001b[0m\u001b[1;33m\u001b[0m\u001b[0m\n\u001b[1;32m----> 2\u001b[1;33m \u001b[0mt\u001b[0m\u001b[1;33m[\u001b[0m\u001b[1;36m0\u001b[0m\u001b[1;33m]\u001b[0m \u001b[1;33m=\u001b[0m \u001b[1;34m'two'\u001b[0m   \u001b[1;31m# 'tuple' object does not support item assignment\u001b[0m\u001b[1;33m\u001b[0m\u001b[1;33m\u001b[0m\u001b[0m\n\u001b[0m",
      "\u001b[1;31mTypeError\u001b[0m: 'tuple' object does not support item assignment"
     ]
    }
   ],
   "source": [
    "t = ('one', 2, 3.14159)\n",
    "t[0] = 'two'   # 'tuple' object does not support item assignment"
   ]
  },
  {
   "cell_type": "code",
   "execution_count": 6,
   "metadata": {},
   "outputs": [
    {
     "name": "stdout",
     "output_type": "stream",
     "text": [
      "(4, 2, 3, [6, 5])\n",
      "(4, 2, 3, [9, 5])\n"
     ]
    }
   ],
   "source": [
    "##### But if the element is itself a mutable data type like list, its nested items can be changed.\n",
    "\n",
    "my_tuple = (4, 2, 3, [6, 5])\n",
    "print(my_tuple)\n",
    "\n",
    "my_tuple[3][0] = 9  \n",
    "print(my_tuple)"
   ]
  },
  {
   "cell_type": "markdown",
   "metadata": {},
   "source": [
    "# Tuple doesn't support item assignment"
   ]
  },
  {
   "cell_type": "code",
   "execution_count": 10,
   "metadata": {},
   "outputs": [
    {
     "ename": "TypeError",
     "evalue": "'tuple' object does not support item assignment",
     "output_type": "error",
     "traceback": [
      "\u001b[1;31m---------------------------------------------------------------------------\u001b[0m",
      "\u001b[1;31mTypeError\u001b[0m                                 Traceback (most recent call last)",
      "\u001b[1;32m<ipython-input-10-ab0a665570e2>\u001b[0m in \u001b[0;36m<module>\u001b[1;34m\u001b[0m\n\u001b[0;32m      1\u001b[0m \u001b[0mt\u001b[0m \u001b[1;33m=\u001b[0m \u001b[1;33m(\u001b[0m\u001b[1;34m'one'\u001b[0m\u001b[1;33m,\u001b[0m \u001b[1;36m2\u001b[0m\u001b[1;33m,\u001b[0m \u001b[1;36m3.14159\u001b[0m\u001b[1;33m)\u001b[0m\u001b[1;33m\u001b[0m\u001b[1;33m\u001b[0m\u001b[0m\n\u001b[1;32m----> 2\u001b[1;33m \u001b[0mt\u001b[0m\u001b[1;33m[\u001b[0m\u001b[1;36m0\u001b[0m\u001b[1;33m]\u001b[0m \u001b[1;33m=\u001b[0m \u001b[1;34m'two'\u001b[0m   \u001b[1;31m# 'tuple' object does not support item assignment\u001b[0m\u001b[1;33m\u001b[0m\u001b[1;33m\u001b[0m\u001b[0m\n\u001b[0m",
      "\u001b[1;31mTypeError\u001b[0m: 'tuple' object does not support item assignment"
     ]
    }
   ],
   "source": [
    "t = ('one', 2, 3.14159)\n",
    "t[0] = 'two'   # 'tuple' object does not support item assignment"
   ]
  },
  {
   "cell_type": "markdown",
   "metadata": {},
   "source": [
    "# Tuple is Sequenced"
   ]
  },
  {
   "cell_type": "markdown",
   "metadata": {},
   "source": [
    "### Tuple supports indexing and slicing"
   ]
  },
  {
   "cell_type": "code",
   "execution_count": 2,
   "metadata": {},
   "outputs": [
    {
     "name": "stdout",
     "output_type": "stream",
     "text": [
      "('a', 'one', 2, 3.14159)\n",
      "a\n",
      "3.14159\n"
     ]
    }
   ],
   "source": [
    "t = ('a', 'one', 2, 3.14159)\n",
    "print(t)\n",
    "print(t[0])\n",
    "print(t[-1])"
   ]
  },
  {
   "cell_type": "code",
   "execution_count": 11,
   "metadata": {},
   "outputs": [
    {
     "name": "stdout",
     "output_type": "stream",
     "text": [
      "('one', 'two', 'three', 'four', 'five')\n",
      "('one', 'two', 'three', 'four', 'five')\n",
      "three\n",
      "three\n",
      "('one', 'two', 'three')\n",
      "('four', 'five')\n",
      "('one', 'three', 'five')\n",
      "('five', 'four', 'three', 'two', 'one')\n",
      "('five', 'three', 'one')\n",
      "('three', 'two', 'one')\n"
     ]
    }
   ],
   "source": [
    "myTuple = ('one', \"two\", 'three', \"four\", 'five')\n",
    "\n",
    "print(myTuple)\n",
    "print(myTuple[::])\n",
    "\n",
    "# Indexing:\n",
    "print(myTuple[2])\n",
    "print(myTuple[-4])\n",
    "\n",
    "# Slicing:\n",
    "print(myTuple[:3])\n",
    "print(myTuple[3:])\n",
    "print(myTuple[::2])\n",
    "print(myTuple[::-1])\n",
    "print(myTuple[::-2])\n",
    "print(myTuple[-3:-6:-1])"
   ]
  },
  {
   "cell_type": "code",
   "execution_count": 12,
   "metadata": {},
   "outputs": [
    {
     "name": "stdout",
     "output_type": "stream",
     "text": [
      "(1, 2, [3, 4, 'hello'], ('world', 5, 5, 6), {'tuhin': 10, 'sumon': 20})\n",
      "20\n"
     ]
    }
   ],
   "source": [
    "myTuple = (1, 2 , [3,4,'hello'], ('world', 5, 5, 6), {\"tuhin\":10, \"sumon\":20})\n",
    "print(myTuple)\n",
    "\n",
    "print(myTuple[4][\"sumon\"])"
   ]
  },
  {
   "cell_type": "markdown",
   "metadata": {},
   "source": [
    "### Tuple supports Concatenation"
   ]
  },
  {
   "cell_type": "code",
   "execution_count": 13,
   "metadata": {},
   "outputs": [
    {
     "name": "stdout",
     "output_type": "stream",
     "text": [
      "(1, 2, 3, 'one', 'two', 'Three')\n"
     ]
    }
   ],
   "source": [
    "t = (1, 2, 3)\n",
    "a = ('one','two','Three')\n",
    "b = t + a\n",
    "\n",
    "print(b)"
   ]
  },
  {
   "cell_type": "code",
   "execution_count": 23,
   "metadata": {},
   "outputs": [
    {
     "name": "stdout",
     "output_type": "stream",
     "text": [
      "(1, 2)\n",
      "(1, 2, 'Three', 'two', 'one')\n"
     ]
    }
   ],
   "source": [
    "t = (1, 2, 3)\n",
    "a = ('one','two','Three')\n",
    "\n",
    "print(t[:2])\n",
    "\n",
    "b = t[:2] + a[::-1]\n",
    "print(b)"
   ]
  },
  {
   "cell_type": "code",
   "execution_count": 4,
   "metadata": {},
   "outputs": [
    {
     "name": "stdout",
     "output_type": "stream",
     "text": [
      "('one', 'two', 'Three', 'four', 'five', 'six')\n"
     ]
    }
   ],
   "source": [
    "a = ('one','two','Three', 'four')\n",
    "b = ('four', 'five', 'six')\n",
    "\n",
    "change1 = a[:3]\n",
    "change = change1 + b\n",
    "                \n",
    "print(change)"
   ]
  },
  {
   "cell_type": "code",
   "execution_count": 23,
   "metadata": {},
   "outputs": [
    {
     "name": "stdout",
     "output_type": "stream",
     "text": [
      "('one', 'two', 'three', 'four')\n"
     ]
    }
   ],
   "source": [
    "a = ('one','two', 'four')\n",
    "            \n",
    "firstPart = a[:2]\n",
    "\n",
    "secondPart = ('three',)      # this is way of assaign one element tuple\n",
    "\n",
    "lastPart = a[2:]\n",
    "\n",
    "a = tuple(firstPart + secondPart + lastPart)\n",
    "\n",
    "print(a)"
   ]
  },
  {
   "cell_type": "markdown",
   "metadata": {},
   "source": [
    "### Tuple supports multiplication or times"
   ]
  },
  {
   "cell_type": "code",
   "execution_count": 13,
   "metadata": {},
   "outputs": [
    {
     "name": "stdout",
     "output_type": "stream",
     "text": [
      "(2, 3, 4, 5, 2, 3, 4, 5, 2, 3, 4, 5, 2, 3, 4, 5)\n"
     ]
    }
   ],
   "source": [
    "myTuple = (2, 3, 4, 5) * 4\n",
    "print(myTuple)"
   ]
  },
  {
   "cell_type": "code",
   "execution_count": 14,
   "metadata": {},
   "outputs": [
    {
     "name": "stdout",
     "output_type": "stream",
     "text": [
      "('one', 'two', 'three', 'one', 'two', 'three')\n"
     ]
    }
   ],
   "source": [
    "myTuple = ('one', \"two\", 'three')\n",
    "\n",
    "print(myTuple*2)"
   ]
  },
  {
   "cell_type": "markdown",
   "metadata": {},
   "source": [
    "# Tuple support deletion but not item deletion"
   ]
  },
  {
   "cell_type": "code",
   "execution_count": 2,
   "metadata": {},
   "outputs": [
    {
     "ename": "TypeError",
     "evalue": "'tuple' object doesn't support item deletion",
     "output_type": "error",
     "traceback": [
      "\u001b[1;31m---------------------------------------------------------------------------\u001b[0m",
      "\u001b[1;31mTypeError\u001b[0m                                 Traceback (most recent call last)",
      "\u001b[1;32m<ipython-input-2-fb59f4dcbd1a>\u001b[0m in \u001b[0;36m<module>\u001b[1;34m\u001b[0m\n\u001b[0;32m      1\u001b[0m \u001b[0mt\u001b[0m \u001b[1;33m=\u001b[0m \u001b[1;33m(\u001b[0m\u001b[1;34m'one'\u001b[0m\u001b[1;33m,\u001b[0m \u001b[1;36m2\u001b[0m\u001b[1;33m,\u001b[0m \u001b[1;36m3.14159\u001b[0m\u001b[1;33m)\u001b[0m\u001b[1;33m\u001b[0m\u001b[1;33m\u001b[0m\u001b[0m\n\u001b[0;32m      2\u001b[0m \u001b[1;33m\u001b[0m\u001b[0m\n\u001b[1;32m----> 3\u001b[1;33m \u001b[1;32mdel\u001b[0m \u001b[0mt\u001b[0m\u001b[1;33m[\u001b[0m\u001b[1;36m1\u001b[0m\u001b[1;33m]\u001b[0m\u001b[1;33m\u001b[0m\u001b[1;33m\u001b[0m\u001b[0m\n\u001b[0m",
      "\u001b[1;31mTypeError\u001b[0m: 'tuple' object doesn't support item deletion"
     ]
    }
   ],
   "source": [
    "myTuple = ('one', 2, 3.14159)\n",
    "\n",
    "del myTuple[1]"
   ]
  },
  {
   "cell_type": "code",
   "execution_count": 15,
   "metadata": {},
   "outputs": [
    {
     "name": "stdout",
     "output_type": "stream",
     "text": [
      "('one', 2, 3.14159)\n"
     ]
    }
   ],
   "source": [
    "myTuple = ('one', 2, 3.14159)\n",
    "print(myTuple)\n",
    "\n",
    "del myTuple"
   ]
  },
  {
   "cell_type": "markdown",
   "metadata": {},
   "source": [
    "# Tuple methods\n",
    "## count and index"
   ]
  },
  {
   "cell_type": "code",
   "execution_count": 1,
   "metadata": {},
   "outputs": [
    {
     "name": "stdout",
     "output_type": "stream",
     "text": [
      "('a', 'a', 'b', 'c')\n",
      "b\n",
      "2\n",
      "0\n",
      "2\n"
     ]
    }
   ],
   "source": [
    "t = ('a', 'a', 'b', 'c')\n",
    "print(t)\n",
    "\n",
    "print(t[2])\n",
    "\n",
    "print(t.count('a'))\n",
    "\n",
    "print(t.index('a'))\n",
    "print(t.index('b'))"
   ]
  },
  {
   "cell_type": "markdown",
   "metadata": {},
   "source": [
    "## Tuples use ( ) ----------  print ---------- ( )\n",
    "## Set use {}  or  set( [ ] or {} or () )  ------- print ---------- { }\n",
    "## Dictionary use { } ----- print ----------- { }\n",
    "## List use [ ] --------------- print ---------- [  ]"
   ]
  },
  {
   "cell_type": "markdown",
   "metadata": {},
   "source": [
    "# Tuple Membership Test"
   ]
  },
  {
   "cell_type": "code",
   "execution_count": 9,
   "metadata": {},
   "outputs": [
    {
     "name": "stdout",
     "output_type": "stream",
     "text": [
      "True\n",
      "False\n",
      "True\n"
     ]
    }
   ],
   "source": [
    "my_tuple = ('a', 'p', 'p', 'l', 'e')\n",
    "\n",
    "print('a' in my_tuple)\n",
    "print('b' in my_tuple)\n",
    "print('g' not in my_tuple)"
   ]
  },
  {
   "cell_type": "markdown",
   "metadata": {},
   "source": [
    "# Tuple Iteration"
   ]
  },
  {
   "cell_type": "code",
   "execution_count": 11,
   "metadata": {},
   "outputs": [
    {
     "name": "stdout",
     "output_type": "stream",
     "text": [
      "Hello John\n",
      "Hello Kate\n",
      "Hello Paul\n"
     ]
    }
   ],
   "source": [
    "for name in ('John', 'Kate', 'Paul'):\n",
    "    print(\"Hello\", name)"
   ]
  },
  {
   "cell_type": "code",
   "execution_count": 10,
   "metadata": {},
   "outputs": [
    {
     "name": "stdout",
     "output_type": "stream",
     "text": [
      "Hello one\n",
      "Hello two\n",
      "Hello three\n"
     ]
    }
   ],
   "source": [
    "myTuple = ('one', \"two\", 'three')\n",
    "\n",
    "for name in (myTuple):\n",
    "    print(\"Hello\", name)"
   ]
  },
  {
   "cell_type": "markdown",
   "metadata": {},
   "source": [
    "# Tuple Comprehension"
   ]
  },
  {
   "cell_type": "code",
   "execution_count": 15,
   "metadata": {},
   "outputs": [
    {
     "name": "stdout",
     "output_type": "stream",
     "text": [
      "(1, 2, 4, 8, 16, 32, 64, 128, 256, 512)\n"
     ]
    }
   ],
   "source": [
    "pow2 = tuple(2 ** x for x in range(10))\n",
    "print(pow2)"
   ]
  },
  {
   "cell_type": "code",
   "execution_count": 1,
   "metadata": {},
   "outputs": [
    {
     "name": "stdout",
     "output_type": "stream",
     "text": [
      "(64, 128, 256, 512)\n",
      "(1, 3, 5, 7, 9, 11, 13, 15, 17, 19)\n",
      "('Python Language', 'Python Programming', 'C Language', 'C Programming')\n"
     ]
    }
   ],
   "source": [
    "pow2 = tuple(2 ** x for x in range(10) if x > 5)\n",
    "print(pow2)\n",
    "\n",
    "odd = tuple(x for x in range(20) if x % 2 == 1)\n",
    "print(odd)\n",
    "\n",
    "myTuple = tuple(x+y for x in ['Python ','C '] for y in ['Language','Programming'])\n",
    "print(myTuple)"
   ]
  },
  {
   "cell_type": "code",
   "execution_count": 8,
   "metadata": {},
   "outputs": [
    {
     "name": "stdout",
     "output_type": "stream",
     "text": [
      "(3.49, 2.65, 3.3)\n"
     ]
    }
   ],
   "source": [
    "price = {'apple' : 2.99, 'orange' : 2.15, 'milk' : 2.80}\n",
    "\n",
    "value_add = tuple(x+.5 for x in price.values())\n",
    "print(value_add)"
   ]
  },
  {
   "cell_type": "markdown",
   "metadata": {},
   "source": [
    "# Advantages of Tuple over List"
   ]
  },
  {
   "cell_type": "code",
   "execution_count": null,
   "metadata": {},
   "outputs": [],
   "source": [
    "# Since tuples are quite similar to lists, both of them are used in similar situations.\n",
    "# Tuples are immutable, nevertheless Lists are mutable.\n",
    "\n",
    "# We generally use tuples for heterogeneous (different) data types and lists for homogeneous (similar) data types.\n",
    "# Since tuples are immutable, iterating through a tuple is faster than with list. So there is a slight performance boost.\n",
    "# Tuples that contain immutable elements can be used as a key for a dictionary. With lists, this is not possible."
   ]
  }
 ],
 "metadata": {
  "kernelspec": {
   "display_name": "Python 3",
   "language": "python",
   "name": "python3"
  },
  "language_info": {
   "codemirror_mode": {
    "name": "ipython",
    "version": 3
   },
   "file_extension": ".py",
   "mimetype": "text/x-python",
   "name": "python",
   "nbconvert_exporter": "python",
   "pygments_lexer": "ipython3",
   "version": "3.7.4"
  }
 },
 "nbformat": 4,
 "nbformat_minor": 2
}
