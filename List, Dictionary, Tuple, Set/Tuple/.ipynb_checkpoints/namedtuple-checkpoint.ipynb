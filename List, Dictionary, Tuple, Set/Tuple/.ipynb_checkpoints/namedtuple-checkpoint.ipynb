{
 "cells": [
  {
   "cell_type": "markdown",
   "metadata": {},
   "source": [
    "# Collections Methods\n",
    "1. namedtuple()\n",
    "2. deque\n",
    "3. ChainMap\n",
    "4. Counter\n",
    "5. OrderedDict\n",
    "6. defaultdict\n",
    "7. UserDict\n",
    "8. UserList\n",
    "9. UserString"
   ]
  },
  {
   "cell_type": "markdown",
   "metadata": {},
   "source": [
    "# Basic"
   ]
  },
  {
   "cell_type": "code",
   "execution_count": 5,
   "metadata": {},
   "outputs": [
    {
     "name": "stdout",
     "output_type": "stream",
     "text": [
      "29\n",
      "Desa Petaling\n",
      "Shah Alam\n",
      "23\n"
     ]
    }
   ],
   "source": [
    "from collections import namedtuple\n",
    "\n",
    "Student = namedtuple('Student', ['name', 'age', 'address'])\n",
    "\n",
    "bn964 = Student('tuhin', 24, 'Desa Petaling')\n",
    "bp564 = Student(name='nazrul', age=29, address='Desa Petaling')\n",
    "bq315 = Student(name='mhafuz', age=23, address='Shah Alam')\n",
    "\n",
    "print(bp564[1])\n",
    "print(bp564.address)\n",
    "print(bq315[2])\n",
    "print(bq315.age)"
   ]
  },
  {
   "cell_type": "code",
   "execution_count": 3,
   "metadata": {},
   "outputs": [
    {
     "name": "stdout",
     "output_type": "stream",
     "text": [
      "tuhin ==> 24 ==> Desa Petaling\n",
      "nazrul ==> 29 ==> Desa Petaling\n",
      "mhafuz ==> 23 ==> Shah Alam\n",
      "\n",
      "tuhin ==> 24 ==> Desa Petaling\n",
      "nazrul ==> 29 ==> Desa Petaling\n",
      "mhafuz ==> 23 ==> Shah Alam\n"
     ]
    }
   ],
   "source": [
    "from collections import namedtuple\n",
    "\n",
    "Student = namedtuple('Student', ['name', 'age', 'address'])\n",
    "\n",
    "bn964 = Student('tuhin', 24, 'Desa Petaling')\n",
    "bp564 = Student(name='nazrul', age=29, address='Desa Petaling')\n",
    "bq315 = Student(name='mhafuz', age=23, address='Shah Alam')\n",
    "\n",
    "print('{0.name} ==> {0.age} ==> {0.address}'.format(bn964))\n",
    "print('{0.name} ==> {0.age} ==> {0.address}'.format(bp564))\n",
    "print('{0.name} ==> {0.age} ==> {0.address}'.format(bq315))\n",
    "\n",
    "print()\n",
    "\n",
    "print('{0[0]} ==> {0[1]} ==> {0[2]}'.format(bn964))\n",
    "print('{0[0]} ==> {0[1]} ==> {0[2]}'.format(bp564))\n",
    "print('{0[0]} ==> {0[1]} ==> {0[2]}'.format(bq315))"
   ]
  },
  {
   "cell_type": "markdown",
   "metadata": {},
   "source": [
    "## _replace()"
   ]
  },
  {
   "cell_type": "code",
   "execution_count": 6,
   "metadata": {},
   "outputs": [
    {
     "name": "stdout",
     "output_type": "stream",
     "text": [
      "Student(name='mhafuz', age=23, address='Shah Alam')\n",
      "Student(name='mhafuz', age=244, address='Shah Alam')\n"
     ]
    }
   ],
   "source": [
    "from collections import namedtuple\n",
    "\n",
    "Student = namedtuple('Student', ['name', 'age', 'address'])\n",
    "\n",
    "bn964 = Student('tuhin', 24, 'Desa Petaling')\n",
    "bp564 = Student(name='nazrul', age=29, address='Desa Petaling')\n",
    "bq315 = Student(name='mhafuz', age=23, address='Shah Alam')\n",
    "\n",
    "print(bq315)\n",
    "\n",
    "bq315 = bq315._replace(age=244)\n",
    "print(bq315)"
   ]
  },
  {
   "cell_type": "code",
   "execution_count": null,
   "metadata": {},
   "outputs": [],
   "source": []
  },
  {
   "cell_type": "code",
   "execution_count": null,
   "metadata": {},
   "outputs": [],
   "source": []
  }
 ],
 "metadata": {
  "kernelspec": {
   "display_name": "Python 3",
   "language": "python",
   "name": "python3"
  },
  "language_info": {
   "codemirror_mode": {
    "name": "ipython",
    "version": 3
   },
   "file_extension": ".py",
   "mimetype": "text/x-python",
   "name": "python",
   "nbconvert_exporter": "python",
   "pygments_lexer": "ipython3",
   "version": "3.7.4"
  }
 },
 "nbformat": 4,
 "nbformat_minor": 2
}
