{
 "cells": [
  {
   "cell_type": "markdown",
   "metadata": {},
   "source": [
    "## Difference between List, Dictionary, Tuple and Set"
   ]
  },
  {
   "cell_type": "code",
   "execution_count": 17,
   "metadata": {},
   "outputs": [],
   "source": [
    "# List:\n",
    "    # ordered, mutable(changeable), indexed, support item assignment and support deletion. \n",
    "    # sequenced\n",
    "\n",
    "# Dictionary:\n",
    "    # Ordered(3.7), mutable(changeable), indexed by using key,  support item assignment and support deletion.\n",
    "        # Python 3.7 provides Ordered Dictionary.\n",
    "\n",
    "# Tuple:\n",
    "    # ordered, immutable, indexed, faster, doesn't  support item assignment and support deletion but not item deletion.\n",
    "    # sequenced\n",
    "    \n",
    "# Set:\n",
    "    # unordered, mutable, unindexed, single element occurrences, doesn't  support item assignment and support deletion but not item deletion."
   ]
  },
  {
   "cell_type": "markdown",
   "metadata": {},
   "source": [
    "## Difference between List and Tuple"
   ]
  },
  {
   "cell_type": "code",
   "execution_count": 18,
   "metadata": {},
   "outputs": [],
   "source": [
    "# List and Tuple are same. But when we use them.\n",
    "    # List: When we want to change or delete any item.\n",
    "    # Tuple: When we don't want to change or delete any item.\n",
    "        # Tuple is much more faster than List because tuple is immutable.    \n",
    "        \n",
    "# List and Tuple both are sequenced.\n",
    "    # Support indexing and slicing, concatenation and times."
   ]
  },
  {
   "cell_type": "code",
   "execution_count": 8,
   "metadata": {},
   "outputs": [
    {
     "name": "stdout",
     "output_type": "stream",
     "text": [
      "[1, 2, 3, 4, 5, 6]\n",
      "[1, 2, 3, 9, 5, 6]\n",
      "[1, 3, 9, 5, 6]\n",
      "[1, 3, 9, 5]\n"
     ]
    }
   ],
   "source": [
    "myList = [1, 2, 3, 4, 5, 6]\n",
    "print(myList)\n",
    "\n",
    "myList[3] = 9\n",
    "print(myList)\n",
    "\n",
    "myList.remove(2)\n",
    "print(myList)\n",
    "\n",
    "del myList[4]\n",
    "print(myList)\n",
    "\n",
    "del myList"
   ]
  },
  {
   "cell_type": "code",
   "execution_count": 13,
   "metadata": {},
   "outputs": [
    {
     "name": "stdout",
     "output_type": "stream",
     "text": [
      "(1, 2, 3, 4, 5, 6)\n"
     ]
    }
   ],
   "source": [
    "myTuple = (1, 2, 3, 4, 5, 6)\n",
    "print(myTuple)\n",
    "\n",
    "# myTuple[3] = 4                 TypeError: 'tuple' object does not support item assignment\n",
    "\n",
    "# myTuple.remove(2)              Tuple has only count and index method to use.\n",
    "\n",
    "# del myTuple[2]                 TypeError: 'tuple' object doesn't support item deletion"
   ]
  },
  {
   "cell_type": "markdown",
   "metadata": {},
   "source": [
    "## 'string', 'set' and 'tuples' does not support item assignment\n",
    "##  Only 'list' and 'dictionary' support item assignment\n",
    "## dictionary and set doesn't support indexing and slicing."
   ]
  },
  {
   "cell_type": "markdown",
   "metadata": {},
   "source": [
    "## section: 1"
   ]
  },
  {
   "cell_type": "code",
   "execution_count": 7,
   "metadata": {},
   "outputs": [
    {
     "name": "stdout",
     "output_type": "stream",
     "text": [
      "<class 'list'>\n",
      "<class 'dict'>\n",
      "<class 'tuple'>\n",
      "<class 'str'>\n",
      "<class 'set'>\n"
     ]
    }
   ],
   "source": [
    "# every variable has an unique memory address.\n",
    "\n",
    "myList = []                       # empty List\n",
    "print(type(myList))\n",
    "\n",
    "myDict = {}                       # empty Dict\n",
    "print(type(myDict))\n",
    "\n",
    "myTuple = ()                      # empty Tuple\n",
    "print(type(myTuple))\n",
    "\n",
    "myString = ''                     # empty string\n",
    "print(type(myString))\n",
    "\n",
    "mySet = set()                     # list() create a new empty set\n",
    "print(type(mySet))"
   ]
  },
  {
   "cell_type": "code",
   "execution_count": 6,
   "metadata": {},
   "outputs": [
    {
     "name": "stdout",
     "output_type": "stream",
     "text": [
      "<class 'list'>\n",
      "<class 'dict'>\n",
      "<class 'tuple'>\n",
      "<class 'set'>\n",
      "<class 'str'>\n",
      "<class 'int'>\n",
      "<class 'float'>\n"
     ]
    }
   ],
   "source": [
    "# every variable has an unique memory address.\n",
    "\n",
    "myList = list()                   # list() create a new empty list\n",
    "print(type(myList))\n",
    "\n",
    "myDict = dict()                   # list() create a new empty dict\n",
    "print(type(myDict))\n",
    "\n",
    "myTuple = tuple()                 # list() create a new empty tuple\n",
    "print(type(myTuple))\n",
    "\n",
    "mySet = set()                     # list() create a new empty set\n",
    "print(type(mySet))\n",
    "\n",
    "myString = str()                  # list() create a new empty str\n",
    "print(type(myString))\n",
    "\n",
    "myInt = int()                     # list() create a new empty int\n",
    "print(type(myInt))\n",
    "\n",
    "myFloat = float()                 # list() create a new empty float\n",
    "print(type(myFloat))"
   ]
  },
  {
   "cell_type": "markdown",
   "metadata": {},
   "source": [
    "## section: 2"
   ]
  },
  {
   "cell_type": "code",
   "execution_count": 8,
   "metadata": {},
   "outputs": [
    {
     "name": "stdout",
     "output_type": "stream",
     "text": [
      "<class 'tuple'>\n",
      "<class 'set'>\n",
      "<class 'list'>\n",
      "<class 'dict'>\n"
     ]
    }
   ],
   "source": [
    "anotherList = [1, 2, 3, 4, 5]\n",
    "anotherDict = {'tuhin' : 343, 'nazrul' : 4533}\n",
    "anotherTuple = (3, 2, 5, 3, 6)\n",
    "anotherSet = {3, 2, 5, 3, 6}\n",
    "\n",
    "myList = []\n",
    "myDict = {}\n",
    "myTuple = ()\n",
    "mySet = set()\n",
    "\n",
    "myList = anotherTuple\n",
    "myDict = anotherSet\n",
    "myTuple = anotherList\n",
    "mySet = anotherDict\n",
    "\n",
    "print(type(myList))\n",
    "print(type(myDict))\n",
    "print(type(myTuple))\n",
    "print(type(mySet))"
   ]
  },
  {
   "cell_type": "code",
   "execution_count": 9,
   "metadata": {},
   "outputs": [
    {
     "name": "stdout",
     "output_type": "stream",
     "text": [
      "<class 'list'>\n",
      "<class 'dict'>\n",
      "<class 'tuple'>\n",
      "<class 'set'>\n"
     ]
    }
   ],
   "source": [
    "anotherList = [1, 2, 3, 4, 5]\n",
    "anotherDict = {'tuhin' : 343, 'nazrul' : 4533}\n",
    "anotherTuple = (3, 2, 5, 3, 6)\n",
    "anotherSet = {3, 2, 5, 3, 6}\n",
    "\n",
    "myList = []\n",
    "myDict = {}\n",
    "myTuple = ()\n",
    "mySet = set()\n",
    "\n",
    "myList = list(anotherTuple)\n",
    "myDict = dict(anotherDict)\n",
    "myTuple = tuple(anotherList)\n",
    "mySet = set(anotherDict.values())\n",
    "\n",
    "print(type(myList))\n",
    "print(type(myDict))\n",
    "print(type(myTuple))\n",
    "print(type(mySet))"
   ]
  },
  {
   "cell_type": "markdown",
   "metadata": {},
   "source": [
    "## section: 3"
   ]
  },
  {
   "cell_type": "code",
   "execution_count": 10,
   "metadata": {},
   "outputs": [
    {
     "name": "stdout",
     "output_type": "stream",
     "text": [
      "<class 'tuple'>\n",
      "<class 'set'>\n",
      "<class 'list'>\n",
      "<class 'dict'>\n"
     ]
    }
   ],
   "source": [
    "anotherList = [1, 2, 3, 4, 5]\n",
    "anotherDict = {'tuhin' : 343, 'nazrul' : 4533}\n",
    "anotherTuple = (3, 2, 5, 3, 6)\n",
    "anotherSet = {1, 2, 3, 4, 5}\n",
    "\n",
    "myList = list()\n",
    "myDict = dict()\n",
    "myTuple = tuple()\n",
    "mySet = set()\n",
    "\n",
    "myList = anotherTuple\n",
    "myDict = anotherSet\n",
    "myTuple = anotherList\n",
    "mySet = anotherDict\n",
    "\n",
    "print(type(myList))\n",
    "print(type(myDict))\n",
    "print(type(myTuple))\n",
    "print(type(mySet))"
   ]
  },
  {
   "cell_type": "code",
   "execution_count": 11,
   "metadata": {},
   "outputs": [
    {
     "name": "stdout",
     "output_type": "stream",
     "text": [
      "<class 'list'>\n",
      "<class 'dict'>\n",
      "<class 'tuple'>\n",
      "<class 'set'>\n"
     ]
    }
   ],
   "source": [
    "anotherList = [1, 2, 3, 4, 5]\n",
    "anotherDict = {'tuhin' : 343, 'nazrul' : 4533}\n",
    "anotherTuple = (3, 2, 5, 3, 6)\n",
    "anotherSet = {1, 2, 3, 4, 5}\n",
    "\n",
    "myList = list()\n",
    "myDict = dict()\n",
    "myTuple = tuple()\n",
    "mySet = set()\n",
    "\n",
    "myList = anotherTuple\n",
    "myDict = anotherSet\n",
    "myTuple = anotherList\n",
    "mySet = anotherDict\n",
    "\n",
    "myList = list(anotherTuple)\n",
    "myDict = dict(anotherDict)\n",
    "myTuple = tuple(anotherList)\n",
    "mySet = set(anotherDict.values())\n",
    "\n",
    "print(type(myList))\n",
    "print(type(myDict))\n",
    "print(type(myTuple))\n",
    "print(type(mySet))"
   ]
  },
  {
   "cell_type": "code",
   "execution_count": null,
   "metadata": {},
   "outputs": [],
   "source": []
  },
  {
   "cell_type": "code",
   "execution_count": null,
   "metadata": {},
   "outputs": [],
   "source": []
  }
 ],
 "metadata": {
  "kernelspec": {
   "display_name": "Python 3",
   "language": "python",
   "name": "python3"
  },
  "language_info": {
   "codemirror_mode": {
    "name": "ipython",
    "version": 3
   },
   "file_extension": ".py",
   "mimetype": "text/x-python",
   "name": "python",
   "nbconvert_exporter": "python",
   "pygments_lexer": "ipython3",
   "version": "3.7.4"
  }
 },
 "nbformat": 4,
 "nbformat_minor": 2
}
