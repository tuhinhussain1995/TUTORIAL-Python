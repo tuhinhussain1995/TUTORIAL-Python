{
 "cells": [
  {
   "cell_type": "markdown",
   "metadata": {},
   "source": [
    "# Collections Methods\n",
    "1. namedtuple()\n",
    "2. deque\n",
    "3. ChainMap\n",
    "4. Counter\n",
    "5. OrderedDict\n",
    "6. defaultdict\n",
    "7. UserDict\n",
    "8. UserList\n",
    "9. UserString"
   ]
  },
  {
   "cell_type": "markdown",
   "metadata": {},
   "source": [
    "# defaultdict is the alternative for get() method"
   ]
  },
  {
   "cell_type": "code",
   "execution_count": 1,
   "metadata": {},
   "outputs": [
    {
     "name": "stdout",
     "output_type": "stream",
     "text": [
      "defaultdict(<class 'object'>, {1: 'one', 2: 'two', 3: <object object at 0x000002B9504BE4C0>})\n",
      "<object object at 0x000002B9504BE4E0>\n"
     ]
    }
   ],
   "source": [
    "from collections import defaultdict\n",
    "\n",
    "myDict = defaultdict(object)\n",
    "\n",
    "myDict[1] = 'one'\n",
    "myDict[2] = 'two'\n",
    "myDict[3]               # just key is define, doesn't have value\n",
    "\n",
    "print(myDict)\n",
    "\n",
    "print(myDict['six'])"
   ]
  },
  {
   "cell_type": "code",
   "execution_count": 2,
   "metadata": {},
   "outputs": [
    {
     "name": "stdout",
     "output_type": "stream",
     "text": [
      "defaultdict(<class 'list'>, {0: [0], 1: [1], 2: [2], 3: [3], 4: [4]})\n",
      "2\n",
      "[]\n"
     ]
    }
   ],
   "source": [
    "from collections import defaultdict\n",
    "\n",
    "myDict = defaultdict(list)\n",
    "\n",
    "for i in range(5):\n",
    "    myDict[i] .append(i)\n",
    "\n",
    "print(myDict)\n",
    "print(myDict[2][0])\n",
    "\n",
    "print(myDict[7])"
   ]
  },
  {
   "cell_type": "code",
   "execution_count": 3,
   "metadata": {},
   "outputs": [
    {
     "name": "stdout",
     "output_type": "stream",
     "text": [
      "defaultdict(<class 'int'>, {0: 55, 1: 55, 2: 55, 3: 55, 4: 55})\n",
      "0\n"
     ]
    }
   ],
   "source": [
    "from collections import defaultdict\n",
    "\n",
    "myDict = defaultdict(int)\n",
    "\n",
    "for x in range(5):\n",
    "    myDict[x] = 55\n",
    "\n",
    "print(myDict)\n",
    "\n",
    "print(myDict[33])"
   ]
  },
  {
   "cell_type": "code",
   "execution_count": 4,
   "metadata": {},
   "outputs": [
    {
     "name": "stdout",
     "output_type": "stream",
     "text": [
      "defaultdict(<class 'float'>, {0: 55.57, 1: 55.57, 2: 55.57, 3: 55.57, 4: 55.57})\n",
      "0.0\n"
     ]
    }
   ],
   "source": [
    "from collections import defaultdict\n",
    "\n",
    "myDict = defaultdict(float)\n",
    "\n",
    "for x in range(5):\n",
    "    myDict[x] = 55.57\n",
    "\n",
    "print(myDict)\n",
    "\n",
    "print(myDict[33])"
   ]
  },
  {
   "cell_type": "code",
   "execution_count": 5,
   "metadata": {},
   "outputs": [
    {
     "name": "stdout",
     "output_type": "stream",
     "text": [
      "1\n",
      "2\n",
      "Not Present\n"
     ]
    }
   ],
   "source": [
    "from collections import defaultdict\n",
    "\n",
    "def def_value():\n",
    "    return \"Not Present\"\n",
    "\n",
    "\n",
    "myDict = defaultdict(def_value)\n",
    "myDict[\"a\"] = 1\n",
    "myDict[\"b\"] = 2\n",
    "\n",
    "print(myDict[\"a\"])\n",
    "print(myDict[\"b\"])\n",
    "print(myDict[\"c\"])"
   ]
  },
  {
   "cell_type": "code",
   "execution_count": 6,
   "metadata": {},
   "outputs": [
    {
     "name": "stdout",
     "output_type": "stream",
     "text": [
      "1\n",
      "2\n",
      "Not Present\n"
     ]
    }
   ],
   "source": [
    "from collections import defaultdict\n",
    "\n",
    "myDict = defaultdict(lambda : \"Not Present\")   # lambda doesn't take any input\n",
    "myDict[\"a\"] = 1\n",
    "myDict[\"b\"] = 2\n",
    "\n",
    "print(myDict[\"a\"])\n",
    "print(myDict[\"b\"])\n",
    "print(myDict[\"c\"])"
   ]
  }
 ],
 "metadata": {
  "kernelspec": {
   "display_name": "Python 3",
   "language": "python",
   "name": "python3"
  },
  "language_info": {
   "codemirror_mode": {
    "name": "ipython",
    "version": 3
   },
   "file_extension": ".py",
   "mimetype": "text/x-python",
   "name": "python",
   "nbconvert_exporter": "python",
   "pygments_lexer": "ipython3",
   "version": "3.7.4"
  }
 },
 "nbformat": 4,
 "nbformat_minor": 2
}
