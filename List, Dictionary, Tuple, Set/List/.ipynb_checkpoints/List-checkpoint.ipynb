{
 "cells": [
  {
   "cell_type": "markdown",
   "metadata": {},
   "source": [
    "# List\n",
    "### Ordered, Mutable(changeable), Indexed, support item Assignment and support Deletion.\n",
    "### Sequenced"
   ]
  },
  {
   "cell_type": "code",
   "execution_count": 1,
   "metadata": {},
   "outputs": [],
   "source": [
    "# difference between List and tuple\n",
    "\n",
    "# List and Tuple are same. But when we use them.\n",
    "    # List: When we want to change or delete any item.\n",
    "    # Tuple: When we don't want to change or delete any item."
   ]
  },
  {
   "cell_type": "markdown",
   "metadata": {},
   "source": [
    "### 'string', 'set' and 'tuples' does not support item assignment\n",
    "###  Only 'list' and 'dictionary' support item assignment\n",
    "### dictionary and set doesn't support indexing and slicing."
   ]
  },
  {
   "cell_type": "markdown",
   "metadata": {},
   "source": [
    "# Basic"
   ]
  },
  {
   "cell_type": "code",
   "execution_count": 7,
   "metadata": {},
   "outputs": [
    {
     "name": "stdout",
     "output_type": "stream",
     "text": [
      "<class 'list'>\n",
      "<class 'list'>\n"
     ]
    }
   ],
   "source": [
    "myList = []\n",
    "print(type(myList))\n",
    "\n",
    "myList = list()\n",
    "print(type(myList))"
   ]
  },
  {
   "cell_type": "code",
   "execution_count": 3,
   "metadata": {},
   "outputs": [
    {
     "name": "stdout",
     "output_type": "stream",
     "text": [
      "[1, 2, 3]\n",
      "<class 'list'>\n",
      "3\n"
     ]
    }
   ],
   "source": [
    "myList = [1, 2, 3]\n",
    "print(myList)\n",
    "\n",
    "print(type(myList))\n",
    "print(len(myList))"
   ]
  },
  {
   "cell_type": "code",
   "execution_count": 3,
   "metadata": {},
   "outputs": [
    {
     "name": "stdout",
     "output_type": "stream",
     "text": [
      "[6, 4, 5, 3, 1]\n",
      "[6.5, 3.1416, 9.3, 2.0, 6.5]\n",
      "['e', 'h', 'c', 'a', 'd']\n",
      "['tuhin', 'sumon', 'nazrul', 'mhafuz', 'halim']\n",
      "[1, 3.1416, 'h', 'nazrul', 'd']\n"
     ]
    }
   ],
   "source": [
    "myList = [6, 4, 5, 3, 1]\n",
    "print(myList)\n",
    "\n",
    "myList = [6.5, 3.1416, 9.3, 2.0, 6.5]\n",
    "print(myList)\n",
    "\n",
    "myList = ['e', 'h', 'c', 'a', 'd']\n",
    "print(myList)\n",
    "\n",
    "myList = ['tuhin', 'sumon', 'nazrul', 'mhafuz', 'halim']\n",
    "print(myList)\n",
    "\n",
    "myList = [1, 3.1416, 'h', 'nazrul', 'd']\n",
    "print(myList)"
   ]
  },
  {
   "cell_type": "code",
   "execution_count": 1,
   "metadata": {},
   "outputs": [
    {
     "name": "stdout",
     "output_type": "stream",
     "text": [
      "[1, 2.563, [3, 'a'], {'e': 4, 'f': 5}, (6.5, 'tuhin'), {4, 5}]\n",
      "<class 'list'>\n"
     ]
    }
   ],
   "source": [
    "myList = [1, 2.563, [3, 'a'],{'e':4, 'f':5}, (6.5, 'tuhin'),{4, 5}]\n",
    "print(myList)\n",
    "print(type(myList))"
   ]
  },
  {
   "cell_type": "code",
   "execution_count": 2,
   "metadata": {},
   "outputs": [
    {
     "name": "stdout",
     "output_type": "stream",
     "text": [
      "['String', 123, 45.213]\n",
      "3\n",
      "<class 'list'>\n",
      "<class 'str'>\n",
      "<class 'int'>\n",
      "<class 'float'>\n"
     ]
    }
   ],
   "source": [
    "myList = [\"String\", 123, 45.213]\n",
    "print(myList)\n",
    "print(len(myList))\n",
    "\n",
    "print(type(myList))\n",
    "print(type(myList[0]))\n",
    "print(type(myList[1]))\n",
    "print(type(myList[2]))"
   ]
  },
  {
   "cell_type": "code",
   "execution_count": 2,
   "metadata": {},
   "outputs": [
    {
     "name": "stdout",
     "output_type": "stream",
     "text": [
      "[0, 1, 2, 3, 4, 5, 6, 7, 8, 9]\n"
     ]
    }
   ],
   "source": [
    "myRange = range(0, 10, 1)\n",
    "myList = []\n",
    "\n",
    "myList = list(myRange)\n",
    "\n",
    "print(myList)"
   ]
  },
  {
   "cell_type": "code",
   "execution_count": null,
   "metadata": {},
   "outputs": [],
   "source": [
    "myList = [1, 2 , [3,4,'hello'], ('world', 5, 5, 6), {\"tuhin\":10, \"sumon\":20}]\n",
    "print(myList)\n",
    "\n",
    "print(myList[4][\"sumon\"])"
   ]
  },
  {
   "cell_type": "code",
   "execution_count": 3,
   "metadata": {},
   "outputs": [
    {
     "name": "stdout",
     "output_type": "stream",
     "text": [
      "[[2, 4, 6, 8], [1, 3, 5, 7, 9]]\n"
     ]
    }
   ],
   "source": [
    "even = [2, 4, 6, 8]\n",
    "odd = [1, 3, 5, 7, 9]\n",
    "\n",
    "newList = [even, odd]\n",
    "print(newList)"
   ]
  },
  {
   "cell_type": "markdown",
   "metadata": {},
   "source": [
    "## List sum, max and min \n",
    "#### sum input must be list or tuple"
   ]
  },
  {
   "cell_type": "code",
   "execution_count": 1,
   "metadata": {},
   "outputs": [
    {
     "name": "stdout",
     "output_type": "stream",
     "text": [
      "5\n",
      "240\n",
      "100\n",
      "10\n"
     ]
    }
   ],
   "source": [
    "myList = [50, 20, 10, 100, 60]\n",
    "\n",
    "print(len(myList))\n",
    "\n",
    "print(sum(myList))\n",
    "print(max(myList))\n",
    "print(min(myList))"
   ]
  },
  {
   "cell_type": "markdown",
   "metadata": {},
   "source": [
    "# List is Ordered"
   ]
  },
  {
   "cell_type": "code",
   "execution_count": 12,
   "metadata": {},
   "outputs": [
    {
     "name": "stdout",
     "output_type": "stream",
     "text": [
      "[12, 44, 54, 66, 23, 544]\n"
     ]
    }
   ],
   "source": [
    "myList = [12, 44, 54, 23, 544]\n",
    "\n",
    "myList.insert(3, 66)   # first one index, second one value\n",
    "print(myList)"
   ]
  },
  {
   "cell_type": "code",
   "execution_count": 13,
   "metadata": {},
   "outputs": [
    {
     "name": "stdout",
     "output_type": "stream",
     "text": [
      "[12, 44, 54, 23, 544, 1, 2, 3]\n"
     ]
    }
   ],
   "source": [
    "myList = [12, 44, 54, 23, 544]\n",
    "\n",
    "myList.extend([1, 2, 3])\n",
    "print(myList)"
   ]
  },
  {
   "cell_type": "code",
   "execution_count": 14,
   "metadata": {},
   "outputs": [
    {
     "name": "stdout",
     "output_type": "stream",
     "text": [
      "['three', 'four', 'five']\n",
      "['three', 'four', 'five', 'six']\n",
      "['three', 'four', 'five', 'six', 123]\n"
     ]
    }
   ],
   "source": [
    "myList = ['three', \"four\", 'five']\n",
    "print(myList)\n",
    "\n",
    "myList.append('six')                # append() takes exactly one argument\n",
    "print(myList)                                           # append occurs always at the last position.\n",
    "\n",
    "myList.append(123)   \n",
    "print(myList)"
   ]
  },
  {
   "cell_type": "markdown",
   "metadata": {},
   "source": [
    "# List is Mutable"
   ]
  },
  {
   "cell_type": "code",
   "execution_count": 15,
   "metadata": {},
   "outputs": [
    {
     "name": "stdout",
     "output_type": "stream",
     "text": [
      "['one', 'two', 'THREE ALL CAPS', 'four', 'five', 'six']\n"
     ]
    }
   ],
   "source": [
    "newList = ['one', 'two', 'three', 'four', 'five', 'six']\n",
    "newList[2] = 'THREE ALL CAPS'\n",
    "print(newList)"
   ]
  },
  {
   "cell_type": "markdown",
   "metadata": {},
   "source": [
    "# List item Assignment"
   ]
  },
  {
   "cell_type": "code",
   "execution_count": 4,
   "metadata": {},
   "outputs": [
    {
     "name": "stdout",
     "output_type": "stream",
     "text": [
      "['one', 'two', 'THREE ALL CAPS', 'four', 'five', 'six']\n"
     ]
    }
   ],
   "source": [
    "newList = ['one', 'two', 'three', 'four', 'five', 'six']\n",
    "newList[2] = 'THREE ALL CAPS'\n",
    "print(newList)"
   ]
  },
  {
   "cell_type": "markdown",
   "metadata": {},
   "source": [
    "# List is Sequenced"
   ]
  },
  {
   "cell_type": "markdown",
   "metadata": {},
   "source": [
    "### List supports Indexing & Slicing"
   ]
  },
  {
   "cell_type": "code",
   "execution_count": 4,
   "metadata": {},
   "outputs": [
    {
     "name": "stdout",
     "output_type": "stream",
     "text": [
      "['one', 'two', 'three', 'four', 'five']\n",
      "['one', 'two', 'three', 'four', 'five']\n",
      "three\n",
      "two\n",
      "['one', 'two', 'three']\n",
      "['four', 'five']\n",
      "['one', 'three', 'five']\n",
      "['five', 'four', 'three', 'two', 'one']\n",
      "['five', 'three', 'one']\n",
      "['three', 'two', 'one']\n"
     ]
    }
   ],
   "source": [
    "myList = ['one', \"two\", 'three', \"four\", 'five']\n",
    "\n",
    "print(myList)\n",
    "print(myList[::])\n",
    "\n",
    "# Indexing:\n",
    "print(myList[2])\n",
    "print(myList[-4])\n",
    "\n",
    "# Slicing:\n",
    "print(myList[:3])\n",
    "print(myList[3:])\n",
    "print(myList[::2])\n",
    "print(myList[::-1])\n",
    "print(myList[::-2])\n",
    "print(myList[-3:-6:-1])"
   ]
  },
  {
   "cell_type": "code",
   "execution_count": 20,
   "metadata": {},
   "outputs": [
    {
     "name": "stdout",
     "output_type": "stream",
     "text": [
      "3\n",
      "4\n",
      "<class 'int'>\n",
      "[4, 5]\n",
      "[1, 3, 5]\n",
      "[5, 3, 1]\n"
     ]
    }
   ],
   "source": [
    "myList = [1,2,3,4,5]\n",
    "print(myList[2])\n",
    "print(myList[-2])\n",
    "\n",
    "print(type(myList[2]))\n",
    "\n",
    "print(myList[3:])\n",
    "print(myList[::2])            # first to last increment by 2\n",
    "print(myList[::-2])           # first to last decrement by 2"
   ]
  },
  {
   "cell_type": "code",
   "execution_count": 21,
   "metadata": {},
   "outputs": [
    {
     "name": "stdout",
     "output_type": "stream",
     "text": [
      "<class 'str'>\n",
      "<class 'int'>\n",
      "<class 'float'>\n"
     ]
    }
   ],
   "source": [
    "myList1 = ['one', \"two\", 'three', \"four\", 'five']\n",
    "print(type(myList1[3]))\n",
    "\n",
    "myList2 = [1,2,3,4,5]\n",
    "print(type(myList2[3]))\n",
    "\n",
    "myList3 = [1.32,2.856,3.12,4.11,5.21]\n",
    "print(type(myList3[3]))"
   ]
  },
  {
   "cell_type": "code",
   "execution_count": 5,
   "metadata": {},
   "outputs": [
    {
     "name": "stdout",
     "output_type": "stream",
     "text": [
      "[1, 2, [3, 4, 'hello'], ('world', 5, 5, 6), {'tuhin': 10, 'sumon': 20}]\n",
      "20\n"
     ]
    }
   ],
   "source": [
    "myList = [1, 2 , [3,4,'hello'], ('world', 5, 5, 6), {\"tuhin\":10, \"sumon\":20}]\n",
    "print(myList)\n",
    "\n",
    "print(myList[4][\"sumon\"])"
   ]
  },
  {
   "cell_type": "markdown",
   "metadata": {},
   "source": [
    "### List supports Concatenation"
   ]
  },
  {
   "cell_type": "code",
   "execution_count": 1,
   "metadata": {},
   "outputs": [
    {
     "name": "stdout",
     "output_type": "stream",
     "text": [
      "['one', 'two', 'three', 'FOUR', 'five', 'six']\n",
      "['one', 'two', 'three', 'FOUR', 'five', 'six']\n",
      "TWO\n",
      "four\n"
     ]
    }
   ],
   "source": [
    "myList = ['one', \"two\", 'three', \"FOUR\"]\n",
    "anotherList = [\"five\", 'six']\n",
    "print(myList + anotherList)\n",
    "\n",
    "newList = myList + anotherList\n",
    "print(newList)\n",
    "\n",
    "print(myList[1].upper())\n",
    "print(myList[-1].lower())"
   ]
  },
  {
   "cell_type": "code",
   "execution_count": 3,
   "metadata": {},
   "outputs": [
    {
     "name": "stdout",
     "output_type": "stream",
     "text": [
      "[2, 4, 6, 8, 1, 3, 5, 7, 9]\n",
      "<class 'list'>\n",
      "[1, 2, 3, 4, 5, 6, 7, 8, 9]\n"
     ]
    }
   ],
   "source": [
    "even = [2, 4, 6, 8]\n",
    "odd = [1, 3, 5, 7, 9]\n",
    "myList = even + odd\n",
    "\n",
    "print(myList)\n",
    "print(type(myList))\n",
    "\n",
    "myList.sort()\n",
    "print(myList)"
   ]
  },
  {
   "cell_type": "code",
   "execution_count": 3,
   "metadata": {},
   "outputs": [
    {
     "name": "stdout",
     "output_type": "stream",
     "text": [
      "['One', 2, 'three', 4, 'V', 'VI']\n",
      "['One', 2, 4, 'V', 'VI']\n"
     ]
    }
   ],
   "source": [
    "myList1 = ['One', 2, 'three', 4]\n",
    "myList2 = myList1 + ['V', 'VI']\n",
    "print(myList2)\n",
    "\n",
    "newList = myList1[0:2] + myList2[3:]\n",
    "print(newList)"
   ]
  },
  {
   "cell_type": "markdown",
   "metadata": {},
   "source": [
    "### List supports Multiplication or times"
   ]
  },
  {
   "cell_type": "code",
   "execution_count": 2,
   "metadata": {},
   "outputs": [
    {
     "name": "stdout",
     "output_type": "stream",
     "text": [
      "[' ', ' ', ' ', ' ', ' ', ' ', ' ', ' ', ' ', ' ']\n"
     ]
    }
   ],
   "source": [
    "theBoard = [' '] * 10\n",
    "print(theBoard)"
   ]
  },
  {
   "cell_type": "code",
   "execution_count": 5,
   "metadata": {},
   "outputs": [
    {
     "name": "stdout",
     "output_type": "stream",
     "text": [
      "[2, 3, 4, 5, 2, 3, 4, 5, 2, 3, 4, 5, 2, 3, 4, 5]\n"
     ]
    }
   ],
   "source": [
    "myList = [2, 3, 4, 5] * 4\n",
    "print(myList)"
   ]
  },
  {
   "cell_type": "code",
   "execution_count": 4,
   "metadata": {},
   "outputs": [
    {
     "name": "stdout",
     "output_type": "stream",
     "text": [
      "['one', 'two', 'three', 'one', 'two', 'three']\n"
     ]
    }
   ],
   "source": [
    "myList = ['one', \"two\", 'three']\n",
    "\n",
    "print(myList*2)"
   ]
  },
  {
   "cell_type": "markdown",
   "metadata": {},
   "source": [
    "## List supports delation"
   ]
  },
  {
   "cell_type": "code",
   "execution_count": 9,
   "metadata": {},
   "outputs": [
    {
     "name": "stdout",
     "output_type": "stream",
     "text": [
      "[12, 44, 54, 23, 544, ('tuhin', 'nazrul'), [3.1312, 433.2323]]\n",
      "[12, 44, 54, 23, 544, [3.1312, 433.2323]]\n",
      "[12, 44, 54, 23]\n",
      "[54, 23]\n"
     ]
    }
   ],
   "source": [
    "myList = [12, 44, 54, 23, 544, ('tuhin', 'nazrul'), [3.1312, 433.2323]]\n",
    "print(myList)\n",
    "\n",
    "del myList[5]\n",
    "print(myList)\n",
    "\n",
    "del myList[4:]\n",
    "print(myList)\n",
    "\n",
    "del myList[:2]\n",
    "print(myList)\n",
    "\n",
    "del myList     # myList is deleted"
   ]
  },
  {
   "cell_type": "code",
   "execution_count": 12,
   "metadata": {},
   "outputs": [
    {
     "name": "stdout",
     "output_type": "stream",
     "text": [
      "['p', 'r', 'o', 'b', 'l', 'e', 'm']\n",
      "['p', 'r', 'b', 'l', 'e', 'm']\n",
      "['p', 'r', 'm']\n"
     ]
    }
   ],
   "source": [
    "# we can also delete items in a list by assigning an empty list to a slice of elements.\n",
    "\n",
    "my_list = ['p','r','o','b','l','e','m']\n",
    "print(my_list)\n",
    "\n",
    "my_list[2:3] = []\n",
    "print(my_list)\n",
    "\n",
    "my_list[2:5] = []\n",
    "print(my_list)"
   ]
  },
  {
   "cell_type": "markdown",
   "metadata": {},
   "source": [
    "# List Methods\n",
    "### shuffle(), count(x), index(x), insert(x, y), remove(x), extend([ ]), append(x), pop(), pop(4), sort(), reverse(), copy(), clear()"
   ]
  },
  {
   "cell_type": "markdown",
   "metadata": {},
   "source": [
    "### List - count "
   ]
  },
  {
   "cell_type": "code",
   "execution_count": 7,
   "metadata": {},
   "outputs": [
    {
     "name": "stdout",
     "output_type": "stream",
     "text": [
      "3\n",
      "1\n"
     ]
    }
   ],
   "source": [
    "myList = [2, 4, 6, 1, 2, 4, 2, 7]\n",
    "\n",
    "print(myList.count(2))\n",
    "print(myList.count(7))"
   ]
  },
  {
   "cell_type": "code",
   "execution_count": 1,
   "metadata": {},
   "outputs": [
    {
     "name": "stdout",
     "output_type": "stream",
     "text": [
      "2\n",
      "1\n"
     ]
    }
   ],
   "source": [
    "myList = ['one', 'two', 'six', 'four', 'one', 'six']\n",
    "\n",
    "print(myList.count('six'))\n",
    "print(myList.count('four'))"
   ]
  },
  {
   "cell_type": "markdown",
   "metadata": {},
   "source": [
    "## Index"
   ]
  },
  {
   "cell_type": "code",
   "execution_count": 3,
   "metadata": {},
   "outputs": [
    {
     "name": "stdout",
     "output_type": "stream",
     "text": [
      "2\n",
      "4\n"
     ]
    }
   ],
   "source": [
    "myList = ['one', \"two\", 'three', \"four\", 'five']\n",
    "\n",
    "print(myList.index('three'))\n",
    "print(myList.index('five'))"
   ]
  },
  {
   "cell_type": "code",
   "execution_count": 6,
   "metadata": {},
   "outputs": [
    {
     "name": "stdout",
     "output_type": "stream",
     "text": [
      "4\n",
      "0\n",
      "3\n",
      "6\n"
     ]
    }
   ],
   "source": [
    "myList = ['six', 'one', 'two', 'six', 'four', 'one', 'six', 'seven', 'eight']\n",
    "\n",
    "print(myList.index('four'))\n",
    "print(myList.index('six'))\n",
    "print(myList.index('six', 1))\n",
    "print(myList.index('six', 4, -1))"
   ]
  },
  {
   "cell_type": "code",
   "execution_count": 1,
   "metadata": {},
   "outputs": [
    {
     "name": "stdout",
     "output_type": "stream",
     "text": [
      "found at position 5\n"
     ]
    }
   ],
   "source": [
    "shopping_list = ['milk', \"pasta\", 'egg', \"spam\", \"bread\", \"rice\"]\n",
    "\n",
    "find_item = 'rice'\n",
    "found_at = None\n",
    "\n",
    "if find_item in shopping_list:\n",
    "    found_at = shopping_list.index(find_item)\n",
    "\n",
    "if found_at is not None:\n",
    "    print('found at position {0}'.format(found_at))\n",
    "else:\n",
    "    print(\"{0} not found\".format(find_item))"
   ]
  },
  {
   "cell_type": "markdown",
   "metadata": {},
   "source": [
    "### List - insert\n",
    "#### two argument ==> position <--> iterable or non-iterable object"
   ]
  },
  {
   "cell_type": "code",
   "execution_count": 6,
   "metadata": {},
   "outputs": [
    {
     "name": "stdout",
     "output_type": "stream",
     "text": [
      "[12, 44, 54, 66, 23, 544]\n"
     ]
    }
   ],
   "source": [
    "myList = [12, 44, 54, 23, 544]\n",
    "\n",
    "myList.insert(3, 66)   # first one index, second one value\n",
    "print(myList)"
   ]
  },
  {
   "cell_type": "code",
   "execution_count": 8,
   "metadata": {},
   "outputs": [
    {
     "name": "stdout",
     "output_type": "stream",
     "text": [
      "[12, 44, 54, [1, 2, 3], 23, 544]\n"
     ]
    }
   ],
   "source": [
    "myList = [12, 44, 54, 23, 544]\n",
    "\n",
    "myList.insert(3, [1, 2, 3])   # first one index, second one value\n",
    "print(myList)"
   ]
  },
  {
   "cell_type": "code",
   "execution_count": 11,
   "metadata": {},
   "outputs": [
    {
     "name": "stdout",
     "output_type": "stream",
     "text": [
      "[12, 44, 54, 23, 544, [1, 2, 3]]\n"
     ]
    }
   ],
   "source": [
    "myList = [12, 44, 54, 23, 544]\n",
    "\n",
    "myList.insert(len(myList), [1, 2, 3]) \n",
    "print(myList)"
   ]
  },
  {
   "cell_type": "code",
   "execution_count": 9,
   "metadata": {},
   "outputs": [
    {
     "name": "stdout",
     "output_type": "stream",
     "text": [
      "[1, 3, 9]\n",
      "[1, 3, 5, 7, 9]\n"
     ]
    }
   ],
   "source": [
    "odd = [1, 9]\n",
    "odd.insert(1,3)\n",
    "\n",
    "print(odd)\n",
    "\n",
    "odd[2:2] = [5, 7]        ################################## most important\n",
    "\n",
    "print(odd)"
   ]
  },
  {
   "cell_type": "markdown",
   "metadata": {},
   "source": [
    "### List - remove"
   ]
  },
  {
   "cell_type": "code",
   "execution_count": 20,
   "metadata": {},
   "outputs": [
    {
     "name": "stdout",
     "output_type": "stream",
     "text": [
      "[12, 44, 54, 544]\n"
     ]
    }
   ],
   "source": [
    "myList = [12, 44, 54, 23, 544]\n",
    "\n",
    "myList.remove(23)\n",
    "print(myList)"
   ]
  },
  {
   "cell_type": "code",
   "execution_count": 19,
   "metadata": {},
   "outputs": [
    {
     "name": "stdout",
     "output_type": "stream",
     "text": [
      "['six', 'one', 'two', 'six', 'four', 'one', 'six']\n",
      "['six', 'one', 'two', 'six', 'one', 'six']\n",
      "['one', 'two', 'six', 'one', 'six']\n",
      "['one', 'two', 'one', 'six']\n",
      "['one', 'two', 'one']\n"
     ]
    }
   ],
   "source": [
    "myList = ['six', 'one', 'two', 'six', 'four', 'one', 'six']\n",
    "\n",
    "print(myList)\n",
    "myList.remove('four')\n",
    "\n",
    "print(myList)\n",
    "myList.remove('six')              # remove() takes exactly one argument\n",
    "\n",
    "print(myList)\n",
    "myList.remove('six')\n",
    "\n",
    "print(myList)\n",
    "myList.remove('six')\n",
    "print(myList)"
   ]
  },
  {
   "cell_type": "code",
   "execution_count": 18,
   "metadata": {},
   "outputs": [
    {
     "name": "stdout",
     "output_type": "stream",
     "text": [
      "['one', 'two', 'four', 'one']\n"
     ]
    }
   ],
   "source": [
    "myList = ['six', 'one', 'two', 'six', 'four', 'one', 'six']\n",
    "\n",
    "for x in myList:\n",
    "    if x == 'six':\n",
    "        myList.remove('six')                       # remove() takes exactly one argument\n",
    "        \n",
    "print(myList)        "
   ]
  },
  {
   "cell_type": "markdown",
   "metadata": {},
   "source": [
    "### List - extend \n",
    "#### one argument ==> iterable object"
   ]
  },
  {
   "cell_type": "code",
   "execution_count": 14,
   "metadata": {},
   "outputs": [
    {
     "name": "stdout",
     "output_type": "stream",
     "text": [
      "[12, 44, 54, 23, 544, 1, 2, 3]\n"
     ]
    }
   ],
   "source": [
    "myList = [12, 44, 54, 23, 544]\n",
    "\n",
    "myList.extend((1, 2, 3))\n",
    "print(myList)"
   ]
  },
  {
   "cell_type": "code",
   "execution_count": 1,
   "metadata": {},
   "outputs": [
    {
     "name": "stdout",
     "output_type": "stream",
     "text": [
      "[1, 2, 3, 4, 5, 6, 7, 8, 9]\n"
     ]
    }
   ],
   "source": [
    "myList1 = [1, 2, 3]\n",
    "myList2 = [4, 5, 6]\n",
    "myList3 = [7, 8, 9]\n",
    "\n",
    "newList = []\n",
    "newList.extend(myList1)\n",
    "newList.extend(myList2)\n",
    "newList.extend(myList3)\n",
    "\n",
    "print(newList)"
   ]
  },
  {
   "cell_type": "markdown",
   "metadata": {},
   "source": [
    "### List - append \n",
    "#### one argument ==> iterable or non-iterable object"
   ]
  },
  {
   "cell_type": "code",
   "execution_count": 2,
   "metadata": {},
   "outputs": [
    {
     "name": "stdout",
     "output_type": "stream",
     "text": [
      "['three', 'four', 'five']\n",
      "['three', 'four', 'five', 'six']\n",
      "['three', 'four', 'five', 'six', 123]\n",
      "['three', 'four', 'five', 'six', 123, 3.1416]\n",
      "['three', 'four', 'five', 'six', 123, 3.1416, ('seven', 'eight', 'nine')]\n",
      "['three', 'four', 'five', 'six', 123, 3.1416, ('seven', 'eight', 'nine'), [12, 13]]\n",
      "['three', 'four', 'five', 'six', 123, 3.1416, ('seven', 'eight', 'nine'), [12, 13], {'tuhin': 1, 1001: 'nazrul'}]\n"
     ]
    }
   ],
   "source": [
    "myList = ['three', \"four\", 'five']\n",
    "print(myList)\n",
    "\n",
    "myList.append('six')                # append() takes exactly one argument\n",
    "print(myList)                                           # append occurs always at the last position.\n",
    "\n",
    "myList.append(123)   \n",
    "print(myList)\n",
    "\n",
    "myList.append(3.1416)   \n",
    "print(myList)\n",
    "\n",
    "myList.append((\"seven\", 'eight', 'nine'))   \n",
    "print(myList)\n",
    "\n",
    "myList.append([12, 13])   \n",
    "print(myList)\n",
    "\n",
    "myList.append({'tuhin' : 1, 1001 : 'nazrul'})   \n",
    "print(myList)"
   ]
  },
  {
   "cell_type": "markdown",
   "metadata": {},
   "source": [
    "### List - pop "
   ]
  },
  {
   "cell_type": "code",
   "execution_count": 10,
   "metadata": {},
   "outputs": [
    {
     "name": "stdout",
     "output_type": "stream",
     "text": [
      "['one', 'two', 'three', 'four', 'five', 'six', 'seven']\n",
      "\n",
      "\n",
      "seven\n",
      "['one', 'two', 'three', 'four', 'five', 'six']\n",
      "\n",
      "\n",
      "['one', 'two', 'three', 'four', 'five']\n",
      "six\n"
     ]
    }
   ],
   "source": [
    "myList = ['one', 'two', 'three', 'four', 'five', 'six', 'seven']\n",
    "print(myList)\n",
    "print(\"\\n\")\n",
    "\n",
    "print(myList.pop())                                 # default pop always occurs at the last position.\n",
    "print(myList)\n",
    "print(\"\\n\")\n",
    "\n",
    "poppedItem = myList.pop()\n",
    "print(myList)\n",
    "print(poppedItem)"
   ]
  },
  {
   "cell_type": "code",
   "execution_count": 2,
   "metadata": {},
   "outputs": [
    {
     "name": "stdout",
     "output_type": "stream",
     "text": [
      "['one', 'two', 'three', 'four', 'five', 'six', 'seven']\n",
      "\n",
      "\n",
      "two\n",
      "['one', 'three', 'four', 'five', 'six', 'seven']\n",
      "\n",
      "\n",
      "one\n",
      "['three', 'four', 'five', 'six', 'seven']\n",
      "\n",
      "\n",
      "seven\n",
      "['three', 'four', 'five', 'six']\n",
      "\n",
      "\n",
      "five\n",
      "['three', 'four', 'six']\n"
     ]
    }
   ],
   "source": [
    "myList = ['one', 'two', 'three', 'four', 'five', 'six', 'seven']\n",
    "print(myList)\n",
    "print('\\n')\n",
    "\n",
    "print(myList.pop(1))\n",
    "print(myList)\n",
    "print('\\n')\n",
    "\n",
    "poppedItem = myList.pop(0)    # we popped the value by following indexing no. So give index no inside parameter.\n",
    "print(poppedItem)\n",
    "print(myList)\n",
    "print('\\n')\n",
    "\n",
    "poppedItem = myList.pop(-1)\n",
    "print(poppedItem)\n",
    "print(myList)\n",
    "print('\\n')\n",
    "\n",
    "poppedItem = myList.pop(-2)\n",
    "print(poppedItem)\n",
    "print(myList)"
   ]
  },
  {
   "cell_type": "markdown",
   "metadata": {},
   "source": [
    "### List - sort "
   ]
  },
  {
   "cell_type": "code",
   "execution_count": 1,
   "metadata": {},
   "outputs": [
    {
     "name": "stdout",
     "output_type": "stream",
     "text": [
      "['m', 'e', 'a', 'x', 'p', 's']\n",
      "['a', 'e', 'm', 'p', 's', 'x']\n",
      "\n",
      "\n",
      "[5, 8, 1, 4, 9, 6]\n",
      "[1, 4, 5, 6, 8, 9]\n",
      "\n",
      "\n",
      "['sumon', 'azharul', 'nazrul', 'tuhin']\n",
      "['azharul', 'nazrul', 'sumon', 'tuhin']\n",
      "\n",
      "\n",
      "['adam', 'acab', 'abba', 'abaa']\n",
      "['abaa', 'abba', 'acab', 'adam']\n"
     ]
    }
   ],
   "source": [
    "charList = ['m', 'e', \"a\", 'x', \"p\", 's']\n",
    "print(charList)\n",
    "\n",
    "charList.sort()        # charList.sort() command rearrange the list automatically;\n",
    "print(charList)\n",
    "print('\\n')\n",
    "\n",
    "        # We can't write      print(charList.sort())\n",
    "        # Because this command print nothing. charList.sort() is returned None type\n",
    "\n",
    "numList = [5, 8, 1, 4, 9, 6]\n",
    "print(numList)\n",
    "\n",
    "numList.sort()\n",
    "print(numList)\n",
    "print('\\n')\n",
    "\n",
    "stringList = [\"sumon\", 'azharul', 'nazrul', \"tuhin\"]\n",
    "print(stringList)\n",
    "\n",
    "stringList.sort()\n",
    "print(stringList)\n",
    "print('\\n')\n",
    "\n",
    "stringList = [\"adam\", 'acab', 'abba', \"abaa\"]\n",
    "print(stringList)\n",
    "\n",
    "stringList.sort()\n",
    "print(stringList)"
   ]
  },
  {
   "cell_type": "code",
   "execution_count": 29,
   "metadata": {},
   "outputs": [
    {
     "name": "stdout",
     "output_type": "stream",
     "text": [
      "['abaa', 'abba', 'acab', 'adam']\n",
      "[1, 3, 3, 5, 7, 8, 9]\n"
     ]
    }
   ],
   "source": [
    "stringList = [\"adam\", 'acab', 'abba', \"abaa\"]\n",
    "numTuple = (5, 3, 7, 1, 8, 3, 9)\n",
    "\n",
    "print(sorted(stringList))\n",
    "print(sorted(numTuple))"
   ]
  },
  {
   "cell_type": "code",
   "execution_count": 2,
   "metadata": {},
   "outputs": [
    {
     "name": "stdout",
     "output_type": "stream",
     "text": [
      "['apple', 'grape', 'lemon', 'lime', 'orange']\n",
      "apple ==> good for making cider\n",
      "grape ==> a small sweet fruit\n",
      "lemon ==> a sour, yellow fruit\n",
      "lime ==> a sour, green fruit\n",
      "orange ==> sweet and little bit sour\n"
     ]
    }
   ],
   "source": [
    "fruits = {'orange' : \"sweet and little bit sour\",\n",
    "         \"apple\" : 'good for making cider',\n",
    "         \"lemon\" : 'a sour, yellow fruit',\n",
    "         'grape' : 'a small sweet fruit',\n",
    "         'lime' : 'a sour, green fruit'}\n",
    "\n",
    "print(sorted(fruits.keys()))\n",
    "\n",
    "for key in sorted(fruits.keys()):\n",
    "    print(key, '==>', fruits[key])"
   ]
  },
  {
   "cell_type": "markdown",
   "metadata": {},
   "source": [
    "### List - reverse "
   ]
  },
  {
   "cell_type": "code",
   "execution_count": 4,
   "metadata": {},
   "outputs": [
    {
     "name": "stdout",
     "output_type": "stream",
     "text": [
      "['m', 'e', 'a', 'x', 'p', 's']\n",
      "['s', 'p', 'x', 'a', 'e', 'm']\n",
      "\n",
      "\n",
      "[5, 8, 1, 4, 9, 6]\n",
      "[6, 9, 4, 1, 8, 5]\n",
      "\n",
      "\n",
      "['sumon', 'azharul', 'nazrul', 'tuhin']\n",
      "['tuhin', 'nazrul', 'azharul', 'sumon']\n",
      "\n",
      "\n",
      "['adam', 'acab', 'abba', 'abaa']\n",
      "['abaa', 'abba', 'acab', 'adam']\n"
     ]
    }
   ],
   "source": [
    "charList = ['m', 'e', \"a\", 'x', \"p\", 's']\n",
    "print(charList)\n",
    "\n",
    "charList.reverse()     # charList.reverse()  command rearrange the list automatically;\n",
    "print(charList)\n",
    "print('\\n')\n",
    "\n",
    "        # We can't write    print(charList.reverse())\n",
    "        # Because it doesn't print anything\n",
    "\n",
    "numList = [5, 8, 1, 4, 9, 6]\n",
    "print(numList)\n",
    "\n",
    "numList.reverse()\n",
    "print(numList)\n",
    "print('\\n')\n",
    "\n",
    "stringList = [\"sumon\", 'azharul', 'nazrul', \"tuhin\"]\n",
    "print(stringList)\n",
    "\n",
    "stringList.reverse()\n",
    "print(stringList)\n",
    "print('\\n')\n",
    "\n",
    "stringList = [\"adam\", 'acab', 'abba', \"abaa\"]\n",
    "print(stringList)\n",
    "\n",
    "stringList.reverse()\n",
    "print(stringList)"
   ]
  },
  {
   "cell_type": "code",
   "execution_count": 3,
   "metadata": {},
   "outputs": [
    {
     "name": "stdout",
     "output_type": "stream",
     "text": [
      "['nazrul', 'sumon', 'tuhin']\n",
      "['tuhin', 'sumon', 'nazrul']\n",
      "['nazrul', 'sumon', 'tuhin']\n"
     ]
    }
   ],
   "source": [
    "myList = ['tuhin', 'sumon', 'nazrul']\n",
    "\n",
    "print(myList[::-1])\n",
    "\n",
    "print(myList)\n",
    "myList.reverse()\n",
    "print(myList)"
   ]
  },
  {
   "cell_type": "markdown",
   "metadata": {},
   "source": [
    "## copy()"
   ]
  },
  {
   "cell_type": "code",
   "execution_count": 19,
   "metadata": {},
   "outputs": [
    {
     "name": "stdout",
     "output_type": "stream",
     "text": [
      "Old List:  ['cat', 0, 6.7]\n",
      "New List:  ['cat', 0, 6.7, 'dog']\n"
     ]
    }
   ],
   "source": [
    "myList = ['cat', 0, 6.7]\n",
    "\n",
    "new_list = myList.copy()\n",
    "\n",
    "new_list.append('dog')\n",
    "\n",
    "print('Old List: ', myList)\n",
    "print('New List: ', new_list)"
   ]
  },
  {
   "cell_type": "code",
   "execution_count": 22,
   "metadata": {},
   "outputs": [
    {
     "name": "stdout",
     "output_type": "stream",
     "text": [
      "Old List:  ['cat', 0, 6.7, 'dog']\n",
      "New List:  ['cat', 0, 6.7, 'dog']\n"
     ]
    }
   ],
   "source": [
    "myList = ['cat', 0, 6.7]\n",
    "\n",
    "new_list = myList                  # both are sharing the same memory address\n",
    "\n",
    "new_list.append('dog')\n",
    "\n",
    "print('Old List: ', myList)\n",
    "print('New List: ', new_list)"
   ]
  },
  {
   "cell_type": "markdown",
   "metadata": {},
   "source": [
    "## clear()"
   ]
  },
  {
   "cell_type": "code",
   "execution_count": 23,
   "metadata": {},
   "outputs": [
    {
     "name": "stdout",
     "output_type": "stream",
     "text": [
      "['one', 'two', 'three', 'four', 'five', 'six', 'seven']\n",
      "[]\n"
     ]
    }
   ],
   "source": [
    "myList = ['one', 'two', 'three', 'four', 'five', 'six', 'seven']\n",
    "print(myList)\n",
    "\n",
    "myList.clear()\n",
    "print(myList)"
   ]
  },
  {
   "cell_type": "markdown",
   "metadata": {},
   "source": [
    "## random shuffle"
   ]
  },
  {
   "cell_type": "code",
   "execution_count": 6,
   "metadata": {},
   "outputs": [
    {
     "name": "stdout",
     "output_type": "stream",
     "text": [
      "[5, 7, 4, 2, 1, 8, 3, 6, 9, 10]\n"
     ]
    }
   ],
   "source": [
    "from random import shuffle\n",
    "\n",
    "myList = [1, 2, 3, 4, 5, 6, 7, 8, 9, 10]\n",
    "\n",
    "shuffle(myList)\n",
    "\n",
    "print(myList)\n",
    "\n",
    "    # if we write ---- print(shuffle(myList))\n",
    "    # it will print nothing\n",
    "    # because shuffle is none type"
   ]
  },
  {
   "cell_type": "code",
   "execution_count": 20,
   "metadata": {},
   "outputs": [
    {
     "name": "stdout",
     "output_type": "stream",
     "text": [
      "4\n",
      "100\n"
     ]
    }
   ],
   "source": [
    "from random import randint\n",
    "\n",
    "print(randint(0, 10))\n",
    "\n",
    "myNumber = randint(0, 100)\n",
    "print(myNumber)"
   ]
  },
  {
   "cell_type": "markdown",
   "metadata": {},
   "source": [
    "## Nesting List (Matrix)"
   ]
  },
  {
   "cell_type": "code",
   "execution_count": 11,
   "metadata": {},
   "outputs": [
    {
     "name": "stdout",
     "output_type": "stream",
     "text": [
      "tuhin\n",
      "[3, 'Hussain']\n",
      "3\n",
      "tuhin Hussain\n"
     ]
    }
   ],
   "source": [
    "myList = [1, 'tuhin', 2, [3, 'Hussain']]\n",
    "\n",
    "print(myList[1])\n",
    "\n",
    "print(myList[3])\n",
    "print(myList[3][0])\n",
    "\n",
    "print(myList[1] + ' ' + myList[3][1])"
   ]
  },
  {
   "cell_type": "code",
   "execution_count": 14,
   "metadata": {},
   "outputs": [
    {
     "name": "stdout",
     "output_type": "stream",
     "text": [
      "Hussain\n"
     ]
    }
   ],
   "source": [
    "myList = [1, 'tuhin', 2, {'name' : 'Hussain'}]\n",
    "\n",
    "print(myList[3]['name'])"
   ]
  },
  {
   "cell_type": "code",
   "execution_count": 16,
   "metadata": {},
   "outputs": [
    {
     "name": "stdout",
     "output_type": "stream",
     "text": [
      "Hossain\n",
      "tuhin Hossain\n"
     ]
    }
   ],
   "source": [
    "myList = [1, 'tuhin', 2, {'name' : ['ahmed', 'Hossain', 'mohammed']}]\n",
    "\n",
    "print(myList[3]['name'][1])\n",
    "\n",
    "print(myList[1] + ' ' + myList[3]['name'][1])"
   ]
  },
  {
   "cell_type": "code",
   "execution_count": 16,
   "metadata": {},
   "outputs": [
    {
     "name": "stdout",
     "output_type": "stream",
     "text": [
      "[[1, 2, 3], [4, 5, 6], [7, 8, 9]]\n",
      "<class 'list'>\n",
      "[1, 2, 3]\n",
      "[7, 8, 9]\n",
      "3\n",
      "8\n"
     ]
    }
   ],
   "source": [
    "list1 = [1, 2, 3]\n",
    "list2 = [4, 5, 6]\n",
    "list3 = [7, 8, 9]\n",
    "\n",
    "matrix = [list1, list2, list3]\n",
    "\n",
    "print(matrix)\n",
    "print(type(matrix))\n",
    "\n",
    "print(matrix[0])\n",
    "print(matrix[2])\n",
    "print(matrix[0][2])           # first one row, second one column\n",
    "print(matrix[2][1])           # first one row, second one column "
   ]
  },
  {
   "cell_type": "code",
   "execution_count": 25,
   "metadata": {},
   "outputs": [
    {
     "name": "stdout",
     "output_type": "stream",
     "text": [
      "[1, 4, 7]\n",
      "[2, 5, 8]\n",
      "[3, 6, 9]\n"
     ]
    }
   ],
   "source": [
    "list1 = [1, 2, 3]\n",
    "list2 = [4, 5, 6]\n",
    "list3 = [7, 8, 9]\n",
    "\n",
    "matrix = [list1, list2, list3]\n",
    "\n",
    "firstColumn = [row[0] for row in matrix]\n",
    "print(firstColumn)\n",
    "\n",
    "secondColumn = [row[1] for row in matrix]\n",
    "print(secondColumn)\n",
    "\n",
    "thirdColumn = [row[2] for row in matrix]\n",
    "print(thirdColumn)"
   ]
  },
  {
   "cell_type": "code",
   "execution_count": 24,
   "metadata": {},
   "outputs": [
    {
     "name": "stdout",
     "output_type": "stream",
     "text": [
      "[1, 2, 3]\n",
      "[4, 5, 6]\n",
      "[7, 8, 9]\n"
     ]
    }
   ],
   "source": [
    "list1 = [1, 4, 7]\n",
    "list2 = [2, 5, 8]\n",
    "list3 = [3, 6, 9]\n",
    "\n",
    "matrix = [list1, list2, list3]\n",
    "\n",
    "firstRow = [column[0] for column in matrix]\n",
    "print(firstColumn)\n",
    "\n",
    "secondRow = [column[1] for column in matrix]\n",
    "print(secondColumn)\n",
    "\n",
    "thirdRow = [column[2] for column in matrix]\n",
    "print(thirdColumn)"
   ]
  },
  {
   "cell_type": "markdown",
   "metadata": {},
   "source": [
    "## Reference"
   ]
  },
  {
   "cell_type": "code",
   "execution_count": 8,
   "metadata": {},
   "outputs": [
    {
     "name": "stdout",
     "output_type": "stream",
     "text": [
      "2042334623432\n",
      "2042334623432\n",
      "2042335978312\n",
      "2042334623432\n"
     ]
    }
   ],
   "source": [
    "myList = [1, 2, 3, 4]\n",
    "anotherList = []\n",
    "anotherList = myList\n",
    "\n",
    "print(id(myList))\n",
    "print(id(anotherList))\n",
    "\n",
    "newList = list()                  # list() create a new list\n",
    "print(id(newList))\n",
    "\n",
    "newList = myList\n",
    "print(id(newList))"
   ]
  },
  {
   "cell_type": "code",
   "execution_count": 10,
   "metadata": {},
   "outputs": [
    {
     "name": "stdout",
     "output_type": "stream",
     "text": [
      "2042334622408\n",
      "2042334451016\n",
      "2042335981512\n",
      "2042335981512\n"
     ]
    }
   ],
   "source": [
    "myList = [1, 2, 3, 4]\n",
    "anotherList = []\n",
    "anotherList.extend(myList)\n",
    "\n",
    "print(id(myList))\n",
    "print(id(anotherList))\n",
    "\n",
    "newList = list()                  # list() create a new list\n",
    "print(id(newList))\n",
    "\n",
    "newList.extend(myList)\n",
    "print(id(newList))"
   ]
  },
  {
   "cell_type": "code",
   "execution_count": 11,
   "metadata": {},
   "outputs": [
    {
     "name": "stdout",
     "output_type": "stream",
     "text": [
      "['Dog', 'Lion', 'Horse']\n",
      "['Dog', 'Lion', 'Horse', 'Cow']\n",
      "['Dog', 'Horse', 'Cow']\n"
     ]
    }
   ],
   "source": [
    "trees = [\"Dog\", \"Lion\"]\n",
    "identified_trees = []\n",
    "identified_trees = trees\n",
    "\n",
    "trees.append(\"Horse\")\n",
    "print(identified_trees)\n",
    "trees.append(\"Cow\")\n",
    "print(identified_trees)\n",
    "\n",
    "trees.remove(\"Lion\")\n",
    "print(identified_trees)"
   ]
  },
  {
   "cell_type": "code",
   "execution_count": 17,
   "metadata": {},
   "outputs": [
    {
     "name": "stdout",
     "output_type": "stream",
     "text": [
      "['Dog', 'Lion', 'Horse']\n",
      "['Dog', 'Lion']\n",
      "['Dog', 'Lion', 'Horse', 'Cow']\n",
      "['Dog', 'Horse', 'Cow']\n",
      "['Dog', 'Lion']\n"
     ]
    }
   ],
   "source": [
    "trees = [\"Dog\", \"Lion\"]\n",
    "identified_trees = []\n",
    "identified_trees.extend(trees)\n",
    "\n",
    "trees.append(\"Horse\")\n",
    "print(trees)\n",
    "trees.append(\"Cow\")\n",
    "print(identified_trees)\n",
    "print(trees)\n",
    "\n",
    "trees.remove(\"Lion\")\n",
    "print(trees)\n",
    "print(identified_trees)"
   ]
  },
  {
   "cell_type": "code",
   "execution_count": 14,
   "metadata": {},
   "outputs": [
    {
     "name": "stdout",
     "output_type": "stream",
     "text": [
      "['Dog', 'Lion', 'Horse']\n",
      "['Dog', 'Lion', 'Horse', 'Cow']\n",
      "['Dog', 'Horse', 'Cow']\n"
     ]
    }
   ],
   "source": [
    "trees = [\"Dog\", \"Lion\"]\n",
    "identified_trees = list()\n",
    "identified_trees = trees\n",
    "\n",
    "trees.append(\"Horse\")\n",
    "print(identified_trees)\n",
    "trees.append(\"Cow\")\n",
    "print(identified_trees)\n",
    "\n",
    "trees.remove(\"Lion\")\n",
    "print(identified_trees)"
   ]
  },
  {
   "cell_type": "code",
   "execution_count": 16,
   "metadata": {},
   "outputs": [
    {
     "name": "stdout",
     "output_type": "stream",
     "text": [
      "['Dog', 'Lion']\n",
      "['Dog', 'Lion']\n",
      "['Dog', 'Horse', 'Cow']\n",
      "['Dog', 'Lion']\n"
     ]
    }
   ],
   "source": [
    "trees = [\"Dog\", \"Lion\"]\n",
    "identified_trees = list()\n",
    "identified_trees.extend(trees)\n",
    "\n",
    "trees.append(\"Horse\")\n",
    "print(identified_trees)\n",
    "trees.append(\"Cow\")\n",
    "print(identified_trees)\n",
    "\n",
    "trees.remove(\"Lion\")\n",
    "print(trees)\n",
    "print(identified_trees)"
   ]
  },
  {
   "cell_type": "markdown",
   "metadata": {},
   "source": [
    "# List Comprehension"
   ]
  },
  {
   "cell_type": "code",
   "execution_count": 13,
   "metadata": {},
   "outputs": [
    {
     "name": "stdout",
     "output_type": "stream",
     "text": [
      "[1, 2, 4, 8, 16, 32, 64, 128, 256, 512]\n"
     ]
    }
   ],
   "source": [
    "pow2 = [2**x for x in range(10)]\n",
    "print(pow2)"
   ]
  },
  {
   "cell_type": "code",
   "execution_count": 15,
   "metadata": {},
   "outputs": [
    {
     "name": "stdout",
     "output_type": "stream",
     "text": [
      "[64, 128, 256, 512]\n",
      "[1, 3, 5, 7, 9, 11, 13, 15, 17, 19]\n",
      "['Python Language', 'Python Programming', 'C Language', 'C Programming']\n"
     ]
    }
   ],
   "source": [
    "pow2 = [2**x for x in range(10) if x > 5]\n",
    "print(pow2)\n",
    "\n",
    "odd = [x for x in range(20) if x % 2 == 1]\n",
    "print(odd)\n",
    "\n",
    "myList = [x+y for x in ['Python ','C '] for y in ['Language','Programming']]\n",
    "print(myList)"
   ]
  },
  {
   "cell_type": "markdown",
   "metadata": {},
   "source": [
    "# List Membership Test"
   ]
  },
  {
   "cell_type": "code",
   "execution_count": 16,
   "metadata": {},
   "outputs": [
    {
     "name": "stdout",
     "output_type": "stream",
     "text": [
      "True\n",
      "False\n",
      "True\n"
     ]
    }
   ],
   "source": [
    "my_list = ['p', 'r', 'o', 'b', 'l', 'e', 'm']\n",
    "\n",
    "print('p' in my_list)\n",
    "\n",
    "print('a' in my_list)\n",
    "\n",
    "print('c' not in my_list)"
   ]
  },
  {
   "cell_type": "markdown",
   "metadata": {},
   "source": [
    "# List Iteration"
   ]
  },
  {
   "cell_type": "code",
   "execution_count": 17,
   "metadata": {},
   "outputs": [
    {
     "name": "stdout",
     "output_type": "stream",
     "text": [
      "Hello one\n",
      "Hello two\n",
      "Hello three\n"
     ]
    }
   ],
   "source": [
    "myTuple = ('one', \"two\", 'three')\n",
    "\n",
    "for name in (myTuple):\n",
    "    print(\"Hello\", name)"
   ]
  }
 ],
 "metadata": {
  "kernelspec": {
   "display_name": "Python 3",
   "language": "python",
   "name": "python3"
  },
  "language_info": {
   "codemirror_mode": {
    "name": "ipython",
    "version": 3
   },
   "file_extension": ".py",
   "mimetype": "text/x-python",
   "name": "python",
   "nbconvert_exporter": "python",
   "pygments_lexer": "ipython3",
   "version": "3.7.4"
  }
 },
 "nbformat": 4,
 "nbformat_minor": 2
}
