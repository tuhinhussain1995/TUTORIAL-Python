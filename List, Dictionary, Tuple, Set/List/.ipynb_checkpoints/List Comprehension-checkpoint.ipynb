{
 "cells": [
  {
   "cell_type": "code",
   "execution_count": 4,
   "metadata": {},
   "outputs": [
    {
     "name": "stdout",
     "output_type": "stream",
     "text": [
      "[4, 9, 16]\n",
      "(4, 9, 16)\n",
      "{16, 9, 4}\n"
     ]
    }
   ],
   "source": [
    "myNums = [2, 3, 4]\n",
    "\n",
    "print(list(num**2 for num in myNums))\n",
    "print(tuple(num**2 for num in myNums))\n",
    "print(set(num**2 for num in myNums))"
   ]
  },
  {
   "cell_type": "markdown",
   "metadata": {},
   "source": [
    "## for, in"
   ]
  },
  {
   "cell_type": "code",
   "execution_count": 1,
   "metadata": {},
   "outputs": [
    {
     "name": "stdout",
     "output_type": "stream",
     "text": [
      "['T', 'u', 'h', 'i', 'n']\n"
     ]
    }
   ],
   "source": [
    "myList = [abc for abc in 'Tuhin']\n",
    "\n",
    "print(myList)"
   ]
  },
  {
   "cell_type": "code",
   "execution_count": 2,
   "metadata": {},
   "outputs": [
    {
     "name": "stdout",
     "output_type": "stream",
     "text": [
      "[0, 1, 2, 3, 4, 5, 6, 7, 8, 9, 10]\n"
     ]
    }
   ],
   "source": [
    "myList = [num for num in range(0, 11)]\n",
    "\n",
    "print(myList)"
   ]
  },
  {
   "cell_type": "code",
   "execution_count": 5,
   "metadata": {},
   "outputs": [
    {
     "name": "stdout",
     "output_type": "stream",
     "text": [
      "['tuhin', 'tuhin', 'tuhin', 'tuhin', 'tuhin', 'tuhin']\n"
     ]
    }
   ],
   "source": [
    "myList = ['tuhin' for num in range(0, 6)]\n",
    "\n",
    "print(myList)"
   ]
  },
  {
   "cell_type": "code",
   "execution_count": 4,
   "metadata": {},
   "outputs": [
    {
     "name": "stdout",
     "output_type": "stream",
     "text": [
      "[0, 1, 4, 9, 16, 25, 36, 49, 64, 81, 100]\n"
     ]
    }
   ],
   "source": [
    "myList = [num**2 for num in range(0, 11)]\n",
    "\n",
    "print(myList)"
   ]
  },
  {
   "cell_type": "code",
   "execution_count": 11,
   "metadata": {},
   "outputs": [
    {
     "name": "stdout",
     "output_type": "stream",
     "text": [
      "[32.0, 50.0, 86.0, 95.9]\n"
     ]
    }
   ],
   "source": [
    "celcius = [0, 10, 30, 35.5]\n",
    "\n",
    "fahrenheit = [((9/5)*temp +32) for temp in celcius]\n",
    "\n",
    "print(fahrenheit)"
   ]
  },
  {
   "cell_type": "code",
   "execution_count": 12,
   "metadata": {},
   "outputs": [
    {
     "name": "stdout",
     "output_type": "stream",
     "text": [
      "[32, 50, 86, 95]\n"
     ]
    }
   ],
   "source": [
    "celcius = [0, 10, 30, 35.5]\n",
    "\n",
    "fahrenheit = [int((9/5)*temp +32) for temp in celcius]\n",
    "\n",
    "print(fahrenheit)"
   ]
  },
  {
   "cell_type": "code",
   "execution_count": 13,
   "metadata": {},
   "outputs": [
    {
     "name": "stdout",
     "output_type": "stream",
     "text": [
      "[32.0, 50.0, 86.0, 95.9]\n"
     ]
    }
   ],
   "source": [
    "celcius = [0, 10, 30, 35.5]\n",
    "\n",
    "fahrenheit = []\n",
    "\n",
    "for temp in celcius:\n",
    "    fahrenheit.append((9/5)*temp + 32)\n",
    "    \n",
    "print(fahrenheit)"
   ]
  },
  {
   "cell_type": "code",
   "execution_count": 17,
   "metadata": {},
   "outputs": [
    {
     "name": "stdout",
     "output_type": "stream",
     "text": [
      "['C', 'a', 'l', 'o', 't', 'f', 'l', 'o', 'e', 'w', 'i', 't', 's']\n"
     ]
    }
   ],
   "source": [
    "st = 'Create a list of the first letters of every word in this string'\n",
    "\n",
    "myList = [word[0] for word in st.split()]\n",
    "\n",
    "print(myList)"
   ]
  },
  {
   "cell_type": "code",
   "execution_count": 1,
   "metadata": {},
   "outputs": [
    {
     "name": "stdout",
     "output_type": "stream",
     "text": [
      "[64, 128, 256, 512]\n",
      "[1, 3, 5, 7, 9, 11, 13, 15, 17, 19]\n",
      "['Python Language', 'Python Programming', 'C Language', 'C Programming']\n"
     ]
    }
   ],
   "source": [
    "pow2 = [2**x for x in range(10) if x > 5]\n",
    "print(pow2)\n",
    "\n",
    "odd = [x for x in range(20) if x % 2 == 1]\n",
    "print(odd)\n",
    "\n",
    "myList = [x+y for x in ['Python ','C '] for y in ['Language','Programming']]\n",
    "print(myList)"
   ]
  },
  {
   "cell_type": "code",
   "execution_count": 2,
   "metadata": {},
   "outputs": [
    {
     "name": "stdout",
     "output_type": "stream",
     "text": [
      "[3.49, 2.65, 3.3]\n"
     ]
    }
   ],
   "source": [
    "price = {'apple' : 2.99, 'orange' : 2.15, 'milk' : 2.80}\n",
    "\n",
    "value_add = [x+.5 for x in price.values()]\n",
    "print(value_add)"
   ]
  },
  {
   "cell_type": "markdown",
   "metadata": {},
   "source": [
    "## for, in, if"
   ]
  },
  {
   "cell_type": "code",
   "execution_count": 6,
   "metadata": {},
   "outputs": [
    {
     "name": "stdout",
     "output_type": "stream",
     "text": [
      "[0, 2, 4, 6, 8, 10]\n"
     ]
    }
   ],
   "source": [
    "myList = [num for num in range(0, 11) if num%2 == 0]\n",
    "\n",
    "print(myList)"
   ]
  },
  {
   "cell_type": "code",
   "execution_count": 7,
   "metadata": {},
   "outputs": [
    {
     "name": "stdout",
     "output_type": "stream",
     "text": [
      "[0, 4, 16, 36, 64, 100]\n"
     ]
    }
   ],
   "source": [
    "myList = [num**2 for num in range(0, 11) if num%2 == 0]\n",
    "\n",
    "print(myList)"
   ]
  },
  {
   "cell_type": "code",
   "execution_count": 8,
   "metadata": {},
   "outputs": [
    {
     "name": "stdout",
     "output_type": "stream",
     "text": [
      "[1, 3, 5, 7, 9]\n"
     ]
    }
   ],
   "source": [
    "myList = [num for num in range(0, 11) if num%2 != 0]\n",
    "\n",
    "print(myList)"
   ]
  },
  {
   "cell_type": "code",
   "execution_count": 16,
   "metadata": {},
   "outputs": [
    {
     "name": "stdout",
     "output_type": "stream",
     "text": [
      "[3, 6, 9, 12, 15, 18, 21, 24, 27, 30, 33, 36, 39, 42, 45, 48]\n"
     ]
    }
   ],
   "source": [
    "myList = [x for x in range(1,51) if x%3 == 0]         # when we don't have else statement (only if)\n",
    "print(myList)"
   ]
  },
  {
   "cell_type": "markdown",
   "metadata": {},
   "source": [
    "## for, in, if, else"
   ]
  },
  {
   "cell_type": "code",
   "execution_count": 9,
   "metadata": {},
   "outputs": [
    {
     "name": "stdout",
     "output_type": "stream",
     "text": [
      "[0, 'Odd', 2, 'Odd', 4, 'Odd', 6, 'Odd']\n"
     ]
    }
   ],
   "source": [
    "result = [x if x%2 == 0 else 'Odd' for x in range(0, 8)]\n",
    "\n",
    "print(result)"
   ]
  },
  {
   "cell_type": "code",
   "execution_count": 10,
   "metadata": {},
   "outputs": [
    {
     "name": "stdout",
     "output_type": "stream",
     "text": [
      "['even', 'Odd', 'even', 'Odd', 'even', 'Odd', 'even', 'Odd']\n"
     ]
    }
   ],
   "source": [
    "result = ['even' if x%2 == 0 else 'Odd' for x in range(0, 8)]\n",
    "\n",
    "print(result)"
   ]
  },
  {
   "cell_type": "markdown",
   "metadata": {},
   "source": [
    "## neasted for loop"
   ]
  },
  {
   "cell_type": "code",
   "execution_count": 14,
   "metadata": {},
   "outputs": [
    {
     "name": "stdout",
     "output_type": "stream",
     "text": [
      "[2, 20, 200, 4, 40, 400, 6, 60, 600]\n"
     ]
    }
   ],
   "source": [
    "myList = []\n",
    "\n",
    "for x in [2, 4, 6]:\n",
    "    for y in [1, 10, 100]:\n",
    "        myList.append(x*y)\n",
    "        \n",
    "print(myList)"
   ]
  },
  {
   "cell_type": "code",
   "execution_count": 15,
   "metadata": {},
   "outputs": [
    {
     "name": "stdout",
     "output_type": "stream",
     "text": [
      "[2, 20, 200, 4, 40, 400, 6, 60, 600]\n"
     ]
    }
   ],
   "source": [
    "myList = [x*y for x in [2, 4, 6] for y in [1, 10, 100]]\n",
    "\n",
    "print(myList)"
   ]
  },
  {
   "cell_type": "code",
   "execution_count": null,
   "metadata": {},
   "outputs": [],
   "source": []
  }
 ],
 "metadata": {
  "kernelspec": {
   "display_name": "Python 3",
   "language": "python",
   "name": "python3"
  },
  "language_info": {
   "codemirror_mode": {
    "name": "ipython",
    "version": 3
   },
   "file_extension": ".py",
   "mimetype": "text/x-python",
   "name": "python",
   "nbconvert_exporter": "python",
   "pygments_lexer": "ipython3",
   "version": "3.7.4"
  }
 },
 "nbformat": 4,
 "nbformat_minor": 2
}
