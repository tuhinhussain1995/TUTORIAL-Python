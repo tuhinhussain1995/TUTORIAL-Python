{
 "cells": [
  {
   "cell_type": "markdown",
   "metadata": {},
   "source": [
    "# Dictionary\n",
    "### Ordered(3.7), Mutable(changeable), Indexed by using key,  support item Assignment and support Deletion."
   ]
  },
  {
   "cell_type": "markdown",
   "metadata": {},
   "source": [
    "### 'string', 'set' and 'tuples' does not support item assignment\n",
    "###  Only 'list' and 'dictionary' support item assignment\n",
    "### dictionary and set doesn't support indexing and slicing."
   ]
  },
  {
   "cell_type": "markdown",
   "metadata": {},
   "source": [
    "# Basic"
   ]
  },
  {
   "cell_type": "code",
   "execution_count": 18,
   "metadata": {},
   "outputs": [
    {
     "name": "stdout",
     "output_type": "stream",
     "text": [
      "<class 'dict'>\n",
      "<class 'dict'>\n"
     ]
    }
   ],
   "source": [
    "myDict = {}\n",
    "print(type(myDict))\n",
    "\n",
    "myDict = dict()\n",
    "print(type(myDict))"
   ]
  },
  {
   "cell_type": "code",
   "execution_count": 2,
   "metadata": {},
   "outputs": [
    {
     "name": "stdout",
     "output_type": "stream",
     "text": [
      "<class 'dict'>\n",
      "{1: 200, 2: 300}\n",
      "<class 'dict'>\n",
      "{1.6: 'one', 2: 'two'}\n",
      "<class 'dict'>\n",
      "{'100': 1, '101': 2.3}\n",
      "<class 'dict'>\n",
      "{'100': '222', '101': '333'}\n",
      "<class 'dict'>\n",
      "{100.5: '222', '101': 333, '102': 3.1416}\n"
     ]
    }
   ],
   "source": [
    "myDict = {1: 200, 2: 300}\n",
    "print(type(myDict))\n",
    "print(myDict)\n",
    "\n",
    "myDict = {1.6: 'one', 2: 'two'}\n",
    "print(type(myDict))\n",
    "print(myDict)\n",
    "\n",
    "myDict = {'100': 1, '101': 2.3}\n",
    "print(type(myDict))\n",
    "print(myDict)\n",
    "\n",
    "myDict = {'100': '222', '101': '333'}\n",
    "print(type(myDict))\n",
    "print(myDict)\n",
    "\n",
    "myDict = {100.50: '222', '101': 333, '102' : 3.1416}\n",
    "print(type(myDict))\n",
    "print(myDict)"
   ]
  },
  {
   "cell_type": "code",
   "execution_count": 4,
   "metadata": {},
   "outputs": [
    {
     "name": "stdout",
     "output_type": "stream",
     "text": [
      "{1: 3, '2': 3.14, 'a': [1, 'a'], 'tuhin': {'a': 'a', 'b': 'b'}, 'b': (4, 'c', 3.6), 'c': {'nazrul', 5, 'e'}}\n",
      "<class 'dict'>\n"
     ]
    }
   ],
   "source": [
    "myDict = {1:3, '2':3.14, 'a':[1, 'a'], 'tuhin':{'a':'a', 'b':'b'}, 'b':(4, 'c', 3.6), 'c':{'e', 5, 'nazrul'}}\n",
    "print(myDict)\n",
    "print(type(myDict))"
   ]
  },
  {
   "cell_type": "code",
   "execution_count": 47,
   "metadata": {},
   "outputs": [
    {
     "name": "stdout",
     "output_type": "stream",
     "text": [
      "{'key1': 'value1', 'key2': 'value2'}\n",
      "value1\n",
      "value2\n",
      "2.99\n",
      "2.8\n",
      "Tuhin\n",
      "nazrul\n"
     ]
    }
   ],
   "source": [
    "myDictionary = {'key1':'value1', 'key2':'value2'}\n",
    "print(myDictionary)\n",
    "print(myDictionary['key1'])\n",
    "print(myDictionary['key2'])\n",
    "\n",
    "price = {1 : 2.99, 'orange' : 2.15, 'milk' : 2.80}\n",
    "print(price[1])\n",
    "print(price[\"milk\"])\n",
    "\n",
    "student = {'1':'Tuhin', '2':'Sumon', 3:'nazrul'}\n",
    "print(student['1'])\n",
    "print(student[3])"
   ]
  },
  {
   "cell_type": "code",
   "execution_count": 49,
   "metadata": {},
   "outputs": [
    {
     "name": "stdout",
     "output_type": "stream",
     "text": [
      "[12, 23, 33]\n",
      "23\n",
      "ITEM2\n",
      "0\n",
      "-456\n"
     ]
    }
   ],
   "source": [
    "myDict = {'key1':123,'key2':[12,23,33],'key3':['item0','item1','item2']}\n",
    "\n",
    "print(myDict['key2'])\n",
    "print(myDict['key2'][1])\n",
    "print(myDict['key3'][2].upper())\n",
    "\n",
    "myDict['key1'] = myDict['key1'] - 123;\n",
    "print(myDict['key1'])\n",
    "\n",
    "myDict['key1'] = -456\n",
    "print(myDict['key1'])"
   ]
  },
  {
   "cell_type": "markdown",
   "metadata": {},
   "source": [
    "# items(), keys(), values()"
   ]
  },
  {
   "cell_type": "code",
   "execution_count": 4,
   "metadata": {},
   "outputs": [
    {
     "name": "stdout",
     "output_type": "stream",
     "text": [
      "{'apple': 2.99, 'orange': 2.15, 'milk': 2.8}\n",
      "<class 'dict'>\n",
      "\n",
      "dict_items([('apple', 2.99), ('orange', 2.15), ('milk', 2.8)])\n",
      "<class 'dict_items'>\n",
      "\n",
      "dict_keys(['apple', 'orange', 'milk'])\n",
      "<class 'dict_keys'>\n",
      "\n",
      "dict_values([2.99, 2.15, 2.8])\n",
      "<class 'dict_values'>\n"
     ]
    }
   ],
   "source": [
    "price = {'apple' : 2.99, 'orange' : 2.15, 'milk' : 2.80}\n",
    "\n",
    "print(price)\n",
    "print(type(price))\n",
    "\n",
    "print()\n",
    "\n",
    "print(price.items())\n",
    "print(type(price.items()))\n",
    "\n",
    "print()\n",
    "\n",
    "print(price.keys())\n",
    "print(type(price.keys()))\n",
    "\n",
    "print()\n",
    "\n",
    "print(price.values())\n",
    "print(type(price.values()))"
   ]
  },
  {
   "cell_type": "markdown",
   "metadata": {},
   "source": [
    "# Dictionary to List"
   ]
  },
  {
   "cell_type": "code",
   "execution_count": 56,
   "metadata": {},
   "outputs": [
    {
     "name": "stdout",
     "output_type": "stream",
     "text": [
      "[('apple', 'orange', 'milk'), (2.99, 2.15, 2.8)]\n",
      "\n",
      "('apple', 'orange', 'milk')\n",
      "['apple', 'orange', 'milk']\n",
      "\n",
      "(2.99, 2.15, 2.8)\n",
      "[2.99, 2.15, 2.8]\n"
     ]
    }
   ],
   "source": [
    "price = {'apple' : 2.99, 'orange' : 2.15, 'milk' : 2.80}\n",
    "\n",
    "newList = list(zip(*(price.items())))           # unzipping\n",
    "print(newList)\n",
    "\n",
    "print()\n",
    "\n",
    "print(newList[0])\n",
    "print(list(newList[0]))\n",
    "\n",
    "print()\n",
    "\n",
    "print(newList[1])\n",
    "print(list(newList[1]))"
   ]
  },
  {
   "cell_type": "code",
   "execution_count": 36,
   "metadata": {},
   "outputs": [
    {
     "name": "stdout",
     "output_type": "stream",
     "text": [
      "[('apple', 2.99), ('orange', 2.15), ('milk', 2.8)]\n",
      "['apple', 'orange', 'milk']\n",
      "[2.99, 2.15, 2.8]\n"
     ]
    }
   ],
   "source": [
    "price = {'apple' : 2.99, 'orange' : 2.15, 'milk' : 2.80}\n",
    "\n",
    "myList1 = list(price.items())\n",
    "print(myList1)\n",
    "\n",
    "myList2 = list(price.keys())\n",
    "print(myList2)\n",
    "\n",
    "myList3 = list(price.values())\n",
    "print(myList3)"
   ]
  },
  {
   "cell_type": "code",
   "execution_count": 48,
   "metadata": {},
   "outputs": [
    {
     "name": "stdout",
     "output_type": "stream",
     "text": [
      "2.75\n",
      "6.15\n"
     ]
    }
   ],
   "source": [
    "myDict = {'rice': 3.50, 'dal': 5.9}\n",
    "\n",
    "print(myDict['rice'] - .75)\n",
    "print(myDict['dal'] +.25)"
   ]
  },
  {
   "cell_type": "markdown",
   "metadata": {},
   "source": [
    "# Dictionary to Tuple"
   ]
  },
  {
   "cell_type": "code",
   "execution_count": 17,
   "metadata": {},
   "outputs": [
    {
     "name": "stdout",
     "output_type": "stream",
     "text": [
      "(('apple', 'orange', 'milk'), (2.99, 2.15, 2.8))\n",
      "\n",
      "('apple', 'orange', 'milk')\n",
      "(2.99, 2.15, 2.8)\n"
     ]
    }
   ],
   "source": [
    "price = {'apple' : 2.99, 'orange' : 2.15, 'milk' : 2.80}\n",
    "\n",
    "newTuple = tuple(zip(*(price.items())))           # unzipping\n",
    "print(newTuple)\n",
    "\n",
    "print()\n",
    "\n",
    "print(newTuple[0])\n",
    "print(newTuple[1])"
   ]
  },
  {
   "cell_type": "code",
   "execution_count": 34,
   "metadata": {},
   "outputs": [
    {
     "name": "stdout",
     "output_type": "stream",
     "text": [
      "[('apple', 2.99), ('orange', 2.15), ('milk', 2.8)]\n",
      "(('apple', 2.99), ('orange', 2.15), ('milk', 2.8))\n",
      "\n",
      "['apple', 'orange', 'milk']\n",
      "('apple', 'orange', 'milk')\n",
      "\n",
      "[2.99, 2.15, 2.8]\n",
      "(2.99, 2.15, 2.8)\n"
     ]
    }
   ],
   "source": [
    "price = {'apple' : 2.99, 'orange' : 2.15, 'milk' : 2.80}\n",
    "\n",
    "myTuple1 = tuple(price.items())\n",
    "print(myList1)\n",
    "print(tuple(myList1))\n",
    "\n",
    "print()\n",
    "\n",
    "myTuple2 = tuple(price.keys())\n",
    "print(myList2)\n",
    "print(tuple(myList2))\n",
    "\n",
    "print()\n",
    "\n",
    "myTuple3 = tuple(price.values())\n",
    "print(myList3)\n",
    "print(tuple(myList3))"
   ]
  },
  {
   "cell_type": "markdown",
   "metadata": {},
   "source": [
    "# Dictionary to Set\n",
    "### Set doesn't support indexing and slicing"
   ]
  },
  {
   "cell_type": "code",
   "execution_count": 31,
   "metadata": {},
   "outputs": [
    {
     "name": "stdout",
     "output_type": "stream",
     "text": [
      "{(2.99, 2.15, 2.8), ('apple', 'orange', 'milk')}\n",
      "('apple', 'orange', 'milk')\n",
      "{'orange', 'apple', 'milk'}\n",
      "\n",
      "('apple', 'orange', 'milk')\n",
      "{'orange', 'apple', 'milk'}\n"
     ]
    }
   ],
   "source": [
    "price = {'apple' : 2.99, 'orange' : 2.15, 'milk' : 2.80}\n",
    "\n",
    "newSet = set(zip(*(price.items())))           # unzipping\n",
    "print(newSet)\n",
    "\n",
    "process = 0\n",
    "for x in newSet:\n",
    "    process += 1\n",
    "    \n",
    "    if process == 0:\n",
    "        newSetValues = x\n",
    "    else:\n",
    "        newSetKeys = x\n",
    "        \n",
    "print(newSetKeys)\n",
    "print(set(newSetKeys))\n",
    "\n",
    "print()\n",
    "\n",
    "print(newSetValues)\n",
    "print(set(newSetValues))"
   ]
  },
  {
   "cell_type": "code",
   "execution_count": 38,
   "metadata": {},
   "outputs": [
    {
     "name": "stdout",
     "output_type": "stream",
     "text": [
      "{('milk', 2.8), ('orange', 2.15), ('apple', 2.99)}\n",
      "\n",
      "{'orange', 'apple', 'milk'}\n",
      "\n",
      "{2.99, 2.15, 2.8}\n",
      "{2.99, 2.15, 2.8}\n"
     ]
    }
   ],
   "source": [
    "price = {'apple' : 2.99, 'orange' : 2.15, 'milk' : 2.80}\n",
    "\n",
    "mySet1 = set(price.items())\n",
    "print(mySet1)\n",
    "\n",
    "print()\n",
    "\n",
    "mySet2 = set(price.keys())\n",
    "print(mySet2)\n",
    "\n",
    "print()\n",
    "\n",
    "mySet3 = set(price.values())\n",
    "print(mySet3)\n",
    "print(set(mySet3))"
   ]
  },
  {
   "cell_type": "markdown",
   "metadata": {},
   "source": [
    "## Tuples use ( ) ----------  print ---------- ( )\n",
    "## Set use {}  or  set( [ ] or {} or () )  ------- print ---------- { }\n",
    "## Dictionary use { } ----- print ----------- { }\n",
    "## List use [ ] --------------- print ---------- [  ]"
   ]
  },
  {
   "cell_type": "markdown",
   "metadata": {},
   "source": [
    "# For"
   ]
  },
  {
   "cell_type": "code",
   "execution_count": 40,
   "metadata": {},
   "outputs": [
    {
     "name": "stdout",
     "output_type": "stream",
     "text": [
      "apple\n",
      "orange\n",
      "milk\n"
     ]
    }
   ],
   "source": [
    "price = {'apple' : 2.99, 'orange' : 2.15, 'milk' : 2.80}\n",
    "\n",
    "for x in price:      # only dict variable name refers to the key\n",
    "    print(x)"
   ]
  },
  {
   "cell_type": "code",
   "execution_count": 77,
   "metadata": {},
   "outputs": [
    {
     "name": "stdout",
     "output_type": "stream",
     "text": [
      "('one', 'tuhin')\n",
      "('two', 'sumon')\n",
      "('three', 'nazrul')\n",
      "one ==> tuhin\n",
      "two ==> sumon\n",
      "three ==> nazrul\n"
     ]
    }
   ],
   "source": [
    "myDict = {'one' : 'tuhin', 'two' : 'sumon', 'three' : 'nazrul'}\n",
    "\n",
    "for i in myDict.items():\n",
    "    print(i)\n",
    "\n",
    "for i1, i2 in myDict.items():\n",
    "    print(i1 + ' ==> ' + i2)"
   ]
  },
  {
   "cell_type": "code",
   "execution_count": 41,
   "metadata": {},
   "outputs": [
    {
     "name": "stdout",
     "output_type": "stream",
     "text": [
      "apple  ==>  2.99\n",
      "orange  ==>  2.15\n",
      "milk  ==>  2.8\n"
     ]
    }
   ],
   "source": [
    "price = {'apple' : 2.99, 'orange' : 2.15, 'milk' : 2.80}\n",
    "\n",
    "for x, y in price.items():      # x is the key and y is value\n",
    "    print(x, ' ==> ', y)"
   ]
  },
  {
   "cell_type": "code",
   "execution_count": 43,
   "metadata": {},
   "outputs": [
    {
     "name": "stdout",
     "output_type": "stream",
     "text": [
      "apple\n",
      "orange\n",
      "milk\n"
     ]
    }
   ],
   "source": [
    "price = {'apple' : 2.99, 'orange' : 2.15, 'milk' : 2.80}\n",
    "\n",
    "for x in price.keys():\n",
    "    print(x)"
   ]
  },
  {
   "cell_type": "code",
   "execution_count": 45,
   "metadata": {},
   "outputs": [
    {
     "name": "stdout",
     "output_type": "stream",
     "text": [
      "2.99\n",
      "2.15\n",
      "2.8\n"
     ]
    }
   ],
   "source": [
    "price = {'apple' : 2.99, 'orange' : 2.15, 'milk' : 2.80}\n",
    "\n",
    "for x in price.values():\n",
    "    print(x)"
   ]
  },
  {
   "cell_type": "code",
   "execution_count": 2,
   "metadata": {},
   "outputs": [
    {
     "name": "stdout",
     "output_type": "stream",
     "text": [
      "orange is sweet and little bit sour\n",
      "apple is good for making cider\n",
      "lemon is a sour, yellow fruit\n",
      "grape is a small sweet fruit\n",
      "lime is a sour, green fruit\n"
     ]
    }
   ],
   "source": [
    "fruits = {'orange' : \"sweet and little bit sour\",\n",
    "         \"apple\" : 'good for making cider',\n",
    "         \"lemon\" : 'a sour, yellow fruit',\n",
    "         'grape' : 'a small sweet fruit',\n",
    "         'lime' : 'a sour, green fruit'}\n",
    "\n",
    "for fruit in fruits:                     # only dict name refers to the key\n",
    "    print(fruit, \"is\", fruits[fruit])"
   ]
  },
  {
   "cell_type": "code",
   "execution_count": 53,
   "metadata": {},
   "outputs": [
    {
     "name": "stdout",
     "output_type": "stream",
     "text": [
      "apple ==> good for making cider\n",
      "grape ==> a small sweet fruit\n",
      "lemon ==> a sour, yellow fruit\n",
      "lime ==> a sour, green fruit\n",
      "orange ==> sweet and little bit sour\n"
     ]
    }
   ],
   "source": [
    "fruits = {'orange' : \"sweet and little bit sour\",\n",
    "         \"apple\" : 'good for making cider',\n",
    "         \"lemon\" : 'a sour, yellow fruit',\n",
    "         'grape' : 'a small sweet fruit',\n",
    "         'lime' : 'a sour, green fruit'}\n",
    "\n",
    "ordered_keys = list(fruits.keys())\n",
    "ordered_keys.sort()\n",
    "\n",
    "for key in ordered_keys:\n",
    "    print(key, '==>', fruits[key])"
   ]
  },
  {
   "cell_type": "markdown",
   "metadata": {},
   "source": [
    "# if"
   ]
  },
  {
   "cell_type": "code",
   "execution_count": 1,
   "metadata": {},
   "outputs": [
    {
     "name": "stdout",
     "output_type": "stream",
     "text": [
      "apple found\n",
      "apple found\n"
     ]
    }
   ],
   "source": [
    "price = {'apple' : 2.99, 'orange' : 2.15, 'milk' : 2.80}\n",
    "\n",
    "if 'apple' in price:\n",
    "    print(\"apple found\")           # only dict name refers to the key\n",
    "    \n",
    "if 'apple' in price.keys():\n",
    "    print(\"apple found\")     "
   ]
  },
  {
   "cell_type": "code",
   "execution_count": 3,
   "metadata": {},
   "outputs": [
    {
     "name": "stdout",
     "output_type": "stream",
     "text": [
      "True\n"
     ]
    }
   ],
   "source": [
    "myDict = {'fruit': 'orange', 'food': 'egg', 'animal': 'dog'}\n",
    "\n",
    "if 'fruit' in myDict.keys():\n",
    "    print('True')\n",
    "else:\n",
    "    print('False')"
   ]
  },
  {
   "cell_type": "code",
   "execution_count": 5,
   "metadata": {},
   "outputs": [
    {
     "name": "stdout",
     "output_type": "stream",
     "text": [
      "False\n"
     ]
    }
   ],
   "source": [
    "myDict = {'fruit': 'orange', 'food': 'egg', 'animal': 'dog'}\n",
    "\n",
    "if 'rice' in myDict.values():\n",
    "    print('True')\n",
    "else:\n",
    "    print('False')"
   ]
  },
  {
   "cell_type": "markdown",
   "metadata": {},
   "source": [
    "# List, Tuple, Set to Dictionary using zip()"
   ]
  },
  {
   "cell_type": "markdown",
   "metadata": {},
   "source": [
    "### List"
   ]
  },
  {
   "cell_type": "code",
   "execution_count": 62,
   "metadata": {},
   "outputs": [
    {
     "name": "stdout",
     "output_type": "stream",
     "text": [
      "{'apple': 2.99, 'orange': 2.15, 'milk': 2.8}\n",
      "<class 'dict'>\n"
     ]
    }
   ],
   "source": [
    "listKeys = ['apple', 'orange', 'milk']\n",
    "listValues = [2.99, 2.15, 2.8]\n",
    "\n",
    "price = dict(zip(listKeys, listValues))\n",
    "\n",
    "print(price)\n",
    "print(type(price))"
   ]
  },
  {
   "cell_type": "markdown",
   "metadata": {},
   "source": [
    "### Tuple"
   ]
  },
  {
   "cell_type": "code",
   "execution_count": 63,
   "metadata": {},
   "outputs": [
    {
     "name": "stdout",
     "output_type": "stream",
     "text": [
      "{'apple': 2.99, 'orange': 2.15, 'milk': 2.8}\n",
      "<class 'dict'>\n"
     ]
    }
   ],
   "source": [
    "tupleKeys = ('apple', 'orange', 'milk')\n",
    "tupleValues = (2.99, 2.15, 2.8)\n",
    "\n",
    "price = dict(zip(tupleKeys, tupleValues))\n",
    "\n",
    "print(price)\n",
    "print(type(price))"
   ]
  },
  {
   "cell_type": "markdown",
   "metadata": {},
   "source": [
    "### Set"
   ]
  },
  {
   "cell_type": "code",
   "execution_count": 64,
   "metadata": {},
   "outputs": [
    {
     "name": "stdout",
     "output_type": "stream",
     "text": [
      "{'orange': 2.99, 'apple': 2.15, 'milk': 2.8}\n",
      "<class 'dict'>\n"
     ]
    }
   ],
   "source": [
    "setKeys = {'apple', 'orange', 'milk'}\n",
    "setValues = {2.99, 2.15, 2.8}\n",
    "\n",
    "price = dict(zip(setKeys, setValues))\n",
    "\n",
    "print(price)\n",
    "print(type(price))"
   ]
  },
  {
   "cell_type": "markdown",
   "metadata": {},
   "source": [
    "# Dictionary to List, Tuple, Set using Unzipping"
   ]
  },
  {
   "cell_type": "markdown",
   "metadata": {},
   "source": [
    "### List"
   ]
  },
  {
   "cell_type": "code",
   "execution_count": 10,
   "metadata": {},
   "outputs": [
    {
     "name": "stdout",
     "output_type": "stream",
     "text": [
      "[('apple', 'orange', 'milk', 'rice'), (2.99, 2.15, 2.8, 4.3)]\n",
      "\n",
      "('apple', 'orange', 'milk', 'rice')\n",
      "(2.99, 2.15, 2.8, 4.3)\n",
      "['apple', 'orange', 'milk', 'rice']\n",
      "[2.99, 2.15, 2.8, 4.3]\n"
     ]
    }
   ],
   "source": [
    "price = {'apple' : 2.99, 'orange' : 2.15, 'milk' : 2.80, \"rice\":4.3}\n",
    "\n",
    "newList = list(zip(*(price.items())))           # unzipping\n",
    "print(newList)\n",
    "\n",
    "print()\n",
    "\n",
    "print(newList[0])      # newList[0] is Tuple type\n",
    "print(newList[1])      # newList[0] is Tuple type\n",
    "\n",
    "print(list(newList[0]))\n",
    "print(list(newList[1]))"
   ]
  },
  {
   "cell_type": "markdown",
   "metadata": {},
   "source": [
    "### Tuple"
   ]
  },
  {
   "cell_type": "code",
   "execution_count": 12,
   "metadata": {},
   "outputs": [
    {
     "name": "stdout",
     "output_type": "stream",
     "text": [
      "(('apple', 'orange', 'milk', 'rice'), (2.99, 2.15, 2.8, 4.3))\n",
      "\n",
      "('apple', 'orange', 'milk', 'rice')\n",
      "(2.99, 2.15, 2.8, 4.3)\n"
     ]
    }
   ],
   "source": [
    "price = {'apple' : 2.99, 'orange' : 2.15, 'milk' : 2.80, \"rice\":4.3}\n",
    "\n",
    "newList = tuple(zip(*(price.items())))           # unzipping\n",
    "print(newList)\n",
    "\n",
    "print()\n",
    "\n",
    "print(newList[0])      # newList[0] is Tuple type\n",
    "print(newList[1])      # newList[0] is Tuple type"
   ]
  },
  {
   "cell_type": "markdown",
   "metadata": {},
   "source": [
    "### Set "
   ]
  },
  {
   "cell_type": "code",
   "execution_count": 16,
   "metadata": {},
   "outputs": [
    {
     "name": "stdout",
     "output_type": "stream",
     "text": [
      "[('apple', 'orange', 'milk', 'rice'), (2.99, 2.15, 2.8, 4.3)]\n",
      "\n",
      "('apple', 'orange', 'milk', 'rice')\n",
      "(2.99, 2.15, 2.8, 4.3)\n",
      "{'orange', 'rice', 'apple', 'milk'}\n",
      "{2.99, 2.15, 4.3, 2.8}\n"
     ]
    }
   ],
   "source": [
    "price = {'apple' : 2.99, 'orange' : 2.15, 'milk' : 2.80, \"rice\":4.3}\n",
    "\n",
    "newList = list(zip(*(price.items())))           # unzipping\n",
    "print(newList)\n",
    "\n",
    "print()\n",
    "\n",
    "print(newList[0])      # newList[0] is Tuple type\n",
    "print(newList[1])      # newList[0] is Tuple type\n",
    "\n",
    "print(set(newList[0]))\n",
    "print(set(newList[1]))"
   ]
  },
  {
   "cell_type": "markdown",
   "metadata": {},
   "source": [
    "# Dictionary is Ordered"
   ]
  },
  {
   "cell_type": "code",
   "execution_count": 66,
   "metadata": {},
   "outputs": [
    {
     "name": "stdout",
     "output_type": "stream",
     "text": [
      "{'e': 100, 'a': 200}\n",
      "{'e': 100, 'a': 200, 'c': 300}\n",
      "{'e': 100, 'a': 200, 'c': 300, 'm': 'NEW VALUE'}\n",
      "{'e': 100, 'a': 200, 'c': 300, 'm': 'NEW VALUE', 'k': 'Nothing'}\n"
     ]
    }
   ],
   "source": [
    "myDictionary = {'e':100, 'a':200}\n",
    "print(myDictionary)\n",
    "\n",
    "myDictionary['c'] = 300\n",
    "\n",
    "print(myDictionary)\n",
    "\n",
    "myDictionary['m'] = \"NEW VALUE\"\n",
    "print(myDictionary)\n",
    "\n",
    "myDictionary['k'] = \"Nothing\"\n",
    "print(myDictionary)"
   ]
  },
  {
   "cell_type": "markdown",
   "metadata": {},
   "source": [
    "# Dictionary indexing using key"
   ]
  },
  {
   "cell_type": "code",
   "execution_count": 70,
   "metadata": {},
   "outputs": [
    {
     "name": "stdout",
     "output_type": "stream",
     "text": [
      "{'key1': 'value1', 'key2': 'value2'}\n",
      "value1\n",
      "value2\n",
      "2.99\n",
      "2.8\n"
     ]
    }
   ],
   "source": [
    "myDictionary = {'key1':'value1', 'key2':'value2'}\n",
    "print(myDictionary)\n",
    "print(myDictionary['key1'])\n",
    "print(myDictionary['key2'])\n",
    "\n",
    "price = {1 : 2.99, 'orange' : 2.15, 'milk' : 2.80}\n",
    "print(price[1])\n",
    "print(price[\"milk\"])"
   ]
  },
  {
   "cell_type": "code",
   "execution_count": 69,
   "metadata": {},
   "outputs": [
    {
     "name": "stdout",
     "output_type": "stream",
     "text": [
      "[12, 23, 33]\n",
      "23\n",
      "ITEM2\n",
      "0\n"
     ]
    }
   ],
   "source": [
    "myDict = {'key1':123,'key2':[12,23,33],'key3':['item0','item1','item2']}\n",
    "\n",
    "print(myDict['key2'])\n",
    "print(myDict['key2'][1])\n",
    "print(myDict['key3'][2].upper())\n",
    "\n",
    "myDict['key1'] = myDict['key1'] - 123;\n",
    "print(myDict['key1'])"
   ]
  },
  {
   "cell_type": "markdown",
   "metadata": {},
   "source": [
    "# Dictionary is Mutable"
   ]
  },
  {
   "cell_type": "code",
   "execution_count": 68,
   "metadata": {},
   "outputs": [
    {
     "name": "stdout",
     "output_type": "stream",
     "text": [
      "{'k1': 100, 'k2': 200}\n",
      "200\n",
      "{'k1': 100, 'k2': 200, 'k3': 300}\n",
      "{'k1': 'NEW VALUE', 'k2': 200, 'k3': 300}\n",
      "{'k1': 'NEW VALUE', 'k3': 300}\n"
     ]
    }
   ],
   "source": [
    "myDictionary = {'k1':100, 'k2':200}\n",
    "print(myDictionary)\n",
    "print(myDictionary['k2'])\n",
    "\n",
    "myDictionary['k3'] = 300\n",
    "\n",
    "print(myDictionary)\n",
    "\n",
    "myDictionary['k1'] = \"NEW VALUE\"\n",
    "print(myDictionary)\n",
    "\n",
    "del myDictionary['k2']\n",
    "print(myDictionary)"
   ]
  },
  {
   "cell_type": "code",
   "execution_count": 65,
   "metadata": {},
   "outputs": [
    {
     "name": "stdout",
     "output_type": "stream",
     "text": [
      "{'apple': 2.99, 'orange': 2.15, 'milk': 2.8}\n",
      "Add Dictionary Item\n",
      "Enter key name: rice\n",
      "Enter value: 3.45\n",
      "{'apple': 2.99, 'orange': 2.15, 'milk': 2.8, 'rice': 3.45}\n",
      "Change Dictionary value\n",
      "Enter same key name: rice\n",
      "Enter value: 3.44\n",
      "{'apple': 2.99, 'orange': 2.15, 'milk': 2.8, 'rice': 3.44}\n",
      "Delete Dictionary item\n",
      "Enter same key name: rice\n",
      "{'apple': 2.99, 'orange': 2.15, 'milk': 2.8}\n"
     ]
    }
   ],
   "source": [
    "price = {'apple' : 2.99, 'orange' : 2.15, 'milk' : 2.80}\n",
    "print(price)\n",
    "\n",
    "print('Add Dictionary Item')\n",
    "key = input('Enter key name: ')\n",
    "value = float(input('Enter value: '))\n",
    "\n",
    "price[key] = value\n",
    "print(price)\n",
    "\n",
    "print('Change Dictionary value')\n",
    "key = input('Enter same key name: ')\n",
    "value = float(input('Enter value: '))\n",
    "\n",
    "price[key] = value\n",
    "print(price)\n",
    "\n",
    "print('Delete Dictionary item')\n",
    "key = input('Enter same key name: ')\n",
    "\n",
    "del price[key]\n",
    "print(price)"
   ]
  },
  {
   "cell_type": "markdown",
   "metadata": {},
   "source": [
    "# Dictionary item assignment"
   ]
  },
  {
   "cell_type": "code",
   "execution_count": 71,
   "metadata": {},
   "outputs": [
    {
     "name": "stdout",
     "output_type": "stream",
     "text": [
      "{'k1': 100, 'k2': 200}\n",
      "{'k1': 100, 'k2': 200, 'k3': 300}\n",
      "{'k1': 'NEW VALUE', 'k2': 200, 'k3': 300}\n"
     ]
    }
   ],
   "source": [
    "myDictionary = {'k1':100, 'k2':200}\n",
    "print(myDictionary)\n",
    "\n",
    "myDictionary['k3'] = 300\n",
    "\n",
    "print(myDictionary)\n",
    "\n",
    "myDictionary['k1'] = \"NEW VALUE\"\n",
    "print(myDictionary)"
   ]
  },
  {
   "cell_type": "markdown",
   "metadata": {},
   "source": [
    "# Dictionary del"
   ]
  },
  {
   "cell_type": "code",
   "execution_count": 73,
   "metadata": {},
   "outputs": [
    {
     "name": "stdout",
     "output_type": "stream",
     "text": [
      "{'apple': 2.99, 'orange': 2.15, 'milk': 2.8}\n",
      "{'apple': 2.99, 'milk': 2.8}\n"
     ]
    }
   ],
   "source": [
    "price = {'apple' : 2.99, 'orange' : 2.15, 'milk' : 2.80}\n",
    "print(price)\n",
    "\n",
    "del price['orange']\n",
    "print(price)\n",
    "\n",
    "del price"
   ]
  },
  {
   "cell_type": "markdown",
   "metadata": {},
   "source": [
    "# Dictionary Methods\n",
    "## get(), update(), copy(), items(), keys(), values(), pop(), popitem(), clear()"
   ]
  },
  {
   "cell_type": "markdown",
   "metadata": {},
   "source": [
    "# get()\n",
    "### if the keys is not exists, better to use get"
   ]
  },
  {
   "cell_type": "code",
   "execution_count": 2,
   "metadata": {},
   "outputs": [
    {
     "name": "stdout",
     "output_type": "stream",
     "text": [
      "2.99\n",
      "None\n",
      "None\n",
      "None\n"
     ]
    }
   ],
   "source": [
    "price = {'apple' : 2.99, 'orange' : 2.15, 'milk' : 2.80}\n",
    "\n",
    "# if the keys is not exists, better to use get\n",
    "\n",
    "print(price.get('apple'))\n",
    "print(price.get('banana'))\n",
    "print(price.get('rice'))\n",
    "print(price.get('chocolate'))"
   ]
  },
  {
   "cell_type": "code",
   "execution_count": 1,
   "metadata": {},
   "outputs": [
    {
     "name": "stdout",
     "output_type": "stream",
     "text": [
      "Value : 7\n",
      "Value : Never\n"
     ]
    }
   ],
   "source": [
    "dict = {'Name': 'Zabra', 'Age': 7}\n",
    "print(\"Value : %s\" %  dict.get('Age'))\n",
    "print(\"Value : %s\" %  dict.get('Education', \"Never\"))"
   ]
  },
  {
   "cell_type": "code",
   "execution_count": 8,
   "metadata": {},
   "outputs": [
    {
     "name": "stdout",
     "output_type": "stream",
     "text": [
      "Enter fruit name: lemon\n",
      "a sour, yellow fruit\n",
      "Enter fruit name: orange\n",
      "sweet and little bit sour\n",
      "Enter fruit name: lime\n",
      "a sour, green fruit\n",
      "Enter fruit name: quit\n"
     ]
    }
   ],
   "source": [
    "fruit = {'orange' : \"sweet and little bit sour\",\n",
    "         \"apple\" : 'good for making cider',\n",
    "         \"lemon\" : 'a sour, yellow fruit',\n",
    "         'grape' : 'a small sweet fruit',\n",
    "         'lime' : 'a sour, green fruit'}\n",
    "\n",
    "while True:\n",
    "    key = input('Enter fruit name: ')\n",
    "\n",
    "    if key == 'quit':\n",
    "        break\n",
    "    else:\n",
    "        description = fruit.get(key, \"We don't have \" + key)\n",
    "        print(description)"
   ]
  },
  {
   "cell_type": "markdown",
   "metadata": {},
   "source": [
    "## update()"
   ]
  },
  {
   "cell_type": "code",
   "execution_count": 10,
   "metadata": {},
   "outputs": [
    {
     "name": "stdout",
     "output_type": "stream",
     "text": [
      "{'apple': 2.45, 'orange': 6.4, 'grape': 8.33}\n",
      "{'potato': 3.2, 'onion': 6.3, 'apple': 2.45, 'orange': 6.4, 'grape': 8.33}\n"
     ]
    }
   ],
   "source": [
    "fruits = {'apple' : 2.45, 'orange' : 6.40, 'grape' : 8.33}\n",
    "vegitables = {'potato' : 3.20, 'onion' : 6.30}\n",
    "\n",
    "vegitables.update(fruits)               # this is None type\n",
    "\n",
    "print(fruits)\n",
    "print(vegitables)"
   ]
  },
  {
   "cell_type": "code",
   "execution_count": 74,
   "metadata": {},
   "outputs": [
    {
     "name": "stdout",
     "output_type": "stream",
     "text": [
      "{'apple': 2.45, 'orange': 6.4, 'grape': 8.33}\n",
      "{'apple': 2.45, 'orange': 6.4, 'grape': 8.33, 'potato': 3.2, 'onion': 6.3}\n"
     ]
    }
   ],
   "source": [
    "fruits = {'apple' : 2.45, 'orange' : 6.40, 'grape' : 8.33}\n",
    "vegitables = {'potato' : 3.20, 'onion' : 6.30}\n",
    "\n",
    "newDict = fruits.copy()\n",
    "print(newDict)\n",
    "\n",
    "newDict.update(vegitables)               # this is None type\n",
    "print(newDict)"
   ]
  },
  {
   "cell_type": "markdown",
   "metadata": {},
   "source": [
    "## copy()"
   ]
  },
  {
   "cell_type": "code",
   "execution_count": 75,
   "metadata": {},
   "outputs": [
    {
     "name": "stdout",
     "output_type": "stream",
     "text": [
      "{'apple': 2.45, 'orange': 6.4, 'grape': 8.33}\n",
      "{'apple': 2.45, 'orange': 6.4, 'grape': 8.33, 'potato': 3.2, 'onion': 6.3}\n"
     ]
    }
   ],
   "source": [
    "fruits = {'apple' : 2.45, 'orange' : 6.40, 'grape' : 8.33}\n",
    "vegitables = {'potato' : 3.20, 'onion' : 6.30}\n",
    "\n",
    "newDict = fruits.copy()\n",
    "print(newDict)\n",
    "\n",
    "newDict.update(vegitables)               # this is None type\n",
    "print(newDict)"
   ]
  },
  {
   "cell_type": "markdown",
   "metadata": {},
   "source": [
    "## items(), keys(), values()"
   ]
  },
  {
   "cell_type": "code",
   "execution_count": null,
   "metadata": {},
   "outputs": [],
   "source": [
    "price = {'apple' : 2.99, 'orange' : 2.15, 'milk' : 2.80}\n",
    "\n",
    "print(price)\n",
    "print(type(price))\n",
    "\n",
    "print()\n",
    "\n",
    "print(price.items())\n",
    "print(type(price.items()))\n",
    "\n",
    "print()\n",
    "\n",
    "print(price.keys())\n",
    "print(type(price.keys()))\n",
    "\n",
    "print()\n",
    "\n",
    "print(price.values())\n",
    "print(type(price.values()))"
   ]
  },
  {
   "cell_type": "markdown",
   "metadata": {},
   "source": [
    "## pop()  "
   ]
  },
  {
   "cell_type": "code",
   "execution_count": 89,
   "metadata": {},
   "outputs": [
    {
     "name": "stdout",
     "output_type": "stream",
     "text": [
      "{1: 1, 2: 4, 3: 9, 4: 16, 5: 25}\n",
      "16\n",
      "{1: 1, 2: 4, 3: 9, 5: 25}\n",
      "4\n",
      "{1: 1, 3: 9, 5: 25}\n"
     ]
    }
   ],
   "source": [
    "squares = {1: 1, 2: 4, 3: 9, 4: 16, 5: 25}\n",
    "print(squares)\n",
    "\n",
    "print(squares.pop(4))              # specific element  \n",
    "print(squares)\n",
    "\n",
    "print(squares.pop(2))              # specific element  \n",
    "print(squares)"
   ]
  },
  {
   "cell_type": "code",
   "execution_count": 90,
   "metadata": {},
   "outputs": [
    {
     "name": "stdout",
     "output_type": "stream",
     "text": [
      "{'apple': 2.99, 'orange': 2.15, 'milk': 2.8, 'rice': 3.4, 'banana': 4.5}\n",
      "2.15\n",
      "{'apple': 2.99, 'milk': 2.8, 'rice': 3.4, 'banana': 4.5}\n",
      "4.5\n",
      "{'apple': 2.99, 'milk': 2.8, 'rice': 3.4}\n"
     ]
    }
   ],
   "source": [
    "price = {'apple' : 2.99, 'orange' : 2.15, 'milk' : 2.80, 'rice':3.4, 'banana':4.5}\n",
    "print(price)\n",
    "\n",
    "print(price.pop('orange'))              # specific element  \n",
    "print(price)\n",
    "\n",
    "print(price.pop('banana'))              # specific element  \n",
    "print(price)"
   ]
  },
  {
   "cell_type": "markdown",
   "metadata": {},
   "source": [
    "## popitem()"
   ]
  },
  {
   "cell_type": "code",
   "execution_count": 86,
   "metadata": {},
   "outputs": [
    {
     "name": "stdout",
     "output_type": "stream",
     "text": [
      "(5, 25)\n",
      "{1: 1, 2: 4, 3: 9, 4: 16}\n",
      "(4, 16)\n",
      "{1: 1, 2: 4, 3: 9}\n"
     ]
    }
   ],
   "source": [
    "squares = {1: 1, 2: 4, 3: 9, 4: 16, 5: 25}\n",
    "\n",
    "print(squares.popitem())           # last element\n",
    "print(squares)\n",
    "\n",
    "print(squares.popitem())           # last element\n",
    "print(squares)"
   ]
  },
  {
   "cell_type": "code",
   "execution_count": 91,
   "metadata": {},
   "outputs": [
    {
     "name": "stdout",
     "output_type": "stream",
     "text": [
      "{'apple': 2.99, 'orange': 2.15, 'milk': 2.8, 'rice': 3.4, 'banana': 4.5}\n",
      "('banana', 4.5)\n",
      "{'apple': 2.99, 'orange': 2.15, 'milk': 2.8, 'rice': 3.4}\n",
      "('rice', 3.4)\n",
      "{'apple': 2.99, 'orange': 2.15, 'milk': 2.8}\n"
     ]
    }
   ],
   "source": [
    "price = {'apple' : 2.99, 'orange' : 2.15, 'milk' : 2.80, 'rice':3.4, 'banana':4.5}\n",
    "print(price)\n",
    "\n",
    "print(price.popitem())              # last element  \n",
    "print(price)\n",
    "\n",
    "print(price.popitem())              # last element  \n",
    "print(price)"
   ]
  },
  {
   "cell_type": "markdown",
   "metadata": {},
   "source": [
    "## clear()"
   ]
  },
  {
   "cell_type": "code",
   "execution_count": 92,
   "metadata": {},
   "outputs": [
    {
     "name": "stdout",
     "output_type": "stream",
     "text": [
      "{'apple': 2.99, 'orange': 2.15, 'milk': 2.8, 'rice': 3.4, 'banana': 4.5}\n",
      "{}\n"
     ]
    }
   ],
   "source": [
    "price = {'apple' : 2.99, 'orange' : 2.15, 'milk' : 2.80, 'rice':3.4, 'banana':4.5}\n",
    "print(price)\n",
    "\n",
    "price.clear()\n",
    "print(price)"
   ]
  },
  {
   "cell_type": "markdown",
   "metadata": {},
   "source": [
    "# Neasted Dictionary"
   ]
  },
  {
   "cell_type": "code",
   "execution_count": 6,
   "metadata": {},
   "outputs": [
    {
     "name": "stdout",
     "output_type": "stream",
     "text": [
      "c\n",
      "C\n",
      "tuhin\n"
     ]
    }
   ],
   "source": [
    "myDictionary = {'key1': ['a', 'TUHIN', 'c']}\n",
    "print(myDictionary['key1'][2])\n",
    "print(myDictionary['key1'][2].upper())\n",
    "print(myDictionary['key1'][1].lower())"
   ]
  },
  {
   "cell_type": "code",
   "execution_count": 2,
   "metadata": {},
   "outputs": [
    {
     "name": "stdout",
     "output_type": "stream",
     "text": [
      "123\n",
      "\n",
      "\n",
      "[0, 1, 2]\n",
      "2\n",
      "\n",
      "\n",
      "{'insideKey': 100}\n",
      "100\n",
      "\n",
      "\n"
     ]
    }
   ],
   "source": [
    "myDictionary = {'k1':123, 'k2':[0,1,2], 'k3':{'insideKey': 100}}\n",
    "print(myDictionary['k1'])\n",
    "print(\"\\n\")\n",
    "\n",
    "print(myDictionary['k2'])\n",
    "print(myDictionary['k2'][2])\n",
    "print(\"\\n\")\n",
    "\n",
    "print(myDictionary['k3'])\n",
    "print(myDictionary['k3']['insideKey'])\n",
    "print(\"\\n\")"
   ]
  },
  {
   "cell_type": "code",
   "execution_count": 11,
   "metadata": {},
   "outputs": [
    {
     "name": "stdout",
     "output_type": "stream",
     "text": [
      "{'k2': ['this is tricky', {'tough': [1, 2, ['hello']]}]}\n",
      "{'tough': [1, 2, ['hello']]}\n",
      "<class 'dict'>\n",
      "['hello']\n",
      "<class 'list'>\n",
      "hello\n"
     ]
    }
   ],
   "source": [
    "myDictionary = {'k1':[1,2,{'k2':['this is tricky',{'tough':[1,2,['hello']]}]}]}\n",
    "\n",
    "print(myDictionary['k1'][2])\n",
    "\n",
    "\n",
    "print(myDictionary['k1'][2]['k2'][1])\n",
    "print(type(myDictionary['k1'][2]['k2'][1]))\n",
    "\n",
    "\n",
    "print(myDictionary['k1'][2]['k2'][1]['tough'][2])\n",
    "print(type(myDictionary['k1'][2]['k2'][1]['tough'][2]))\n",
    "\n",
    "\n",
    "print(myDictionary['k1'][2]['k2'][1]['tough'][2][0])"
   ]
  },
  {
   "cell_type": "code",
   "execution_count": 1,
   "metadata": {},
   "outputs": [
    {
     "data": {
      "text/plain": [
       "'value'"
      ]
     },
     "execution_count": 1,
     "metadata": {},
     "output_type": "execute_result"
    }
   ],
   "source": [
    "d = {'key1':{'nestkey':{'subnestkey':'value'}}}\n",
    "print(d['key1']['nestkey']['subnestkey'])"
   ]
  },
  {
   "cell_type": "code",
   "execution_count": 93,
   "metadata": {},
   "outputs": [
    {
     "name": "stdout",
     "output_type": "stream",
     "text": [
      "dict_items([('fruit', ['orange', 'mango', 'apple']), ('food', ['egg', 'rice']), ('animal', ['dog'])])\n",
      "[('fruit', 'food', 'animal'), (['orange', 'mango', 'apple'], ['egg', 'rice'], ['dog'])]\n",
      "('fruit', 'food', 'animal')\n",
      "(['orange', 'mango', 'apple'], ['egg', 'rice'], ['dog'])\n",
      "fruit\n",
      "\t orange\n",
      "\t mango\n",
      "\t apple\n",
      "food\n",
      "\t egg\n",
      "\t rice\n",
      "animal\n",
      "\t dog\n"
     ]
    }
   ],
   "source": [
    "myDict = {'fruit': ['orange', 'mango', 'apple'], 'food': ['egg', 'rice'], 'animal': ['dog']}\n",
    "\n",
    "print(myDict.items())\n",
    "\n",
    "unzipMyDictList = list(zip(*(myDict.items())))        # unzipping\n",
    "print(unzipMyDictList)\n",
    "\n",
    "list1 = unzipMyDictList[0]\n",
    "list2 = unzipMyDictList[1]\n",
    "print(list1)\n",
    "print(list2)\n",
    "\n",
    "for x in range(0, len(list1)):\n",
    "    print(list1[x])\n",
    "    \n",
    "    for y in range(0, len(list2[x])):\n",
    "        print('\\t', list2[x][y])"
   ]
  },
  {
   "cell_type": "markdown",
   "metadata": {},
   "source": [
    "# Dictionary and **kwargs\n",
    "### **kwargs returns dictionary"
   ]
  },
  {
   "cell_type": "code",
   "execution_count": 21,
   "metadata": {},
   "outputs": [
    {
     "name": "stdout",
     "output_type": "stream",
     "text": [
      "[('Sita', {'Firstname': 'Sita', 'Lastname': 'Sharma', 'Age': 22, 'Phone': 1234567890}), ('John', {'Firstname': 'John', 'Lastname': 'Wood', 'Email': 'johnwood@nomail.com', 'Country': 'Wakanda', 'Age': 25, 'Phone': 9876543210})]\n",
      "Sita\n",
      "\t Firstname  ---  Sita\n",
      "\t Lastname  ---  Sharma\n",
      "\t Age  ---  22\n",
      "\t Phone  ---  1234567890\n",
      "John\n",
      "\t Firstname  ---  John\n",
      "\t Lastname  ---  Wood\n",
      "\t Email  ---  johnwood@nomail.com\n",
      "\t Country  ---  Wakanda\n",
      "\t Age  ---  25\n",
      "\t Phone  ---  9876543210\n"
     ]
    }
   ],
   "source": [
    "myList = []\n",
    "\n",
    "def createDict(**kwargs):               # **kwargs return dictionary\n",
    "    newDict = kwargs\n",
    "\n",
    "    myValue = newDict['Firstname']\n",
    "\n",
    "    myDict = {myValue : newDict}\n",
    "\n",
    "    newList = list(myDict.items())\n",
    "\n",
    "    myList.extend(newList)\n",
    "\n",
    "createDict(Firstname=\"Sita\", Lastname=\"Sharma\", Age=22, Phone=1234567890)\n",
    "createDict(Firstname=\"John\", Lastname=\"Wood\", Email=\"johnwood@nomail.com\", Country=\"Wakanda\", Age=25, Phone=9876543210)\n",
    "\n",
    "print(myList)\n",
    "\n",
    "for data in myList:\n",
    "    listData = list(data)\n",
    "    print(listData[0])\n",
    "\n",
    "    for x, y in listData[1].items():\n",
    "        print('\\t', x, ' --- ', y)"
   ]
  },
  {
   "cell_type": "markdown",
   "metadata": {},
   "source": [
    "# OrderedDict() for before python 3.7"
   ]
  },
  {
   "cell_type": "code",
   "execution_count": 2,
   "metadata": {},
   "outputs": [
    {
     "name": "stdout",
     "output_type": "stream",
     "text": [
      "{'a': 1, 'b': 2}\n",
      "{'b': 2, 'a': 1}\n",
      "True\n"
     ]
    }
   ],
   "source": [
    "myDict1 = {}\n",
    "myDict1['a'] = 1\n",
    "myDict1['b'] = 2\n",
    "print(myDict1)\n",
    "\n",
    "myDict2 = {}\n",
    "myDict2['b'] = 2\n",
    "myDict2['a'] = 1\n",
    "print(myDict2)\n",
    "\n",
    "print(myDict1 == myDict2)"
   ]
  },
  {
   "cell_type": "code",
   "execution_count": 3,
   "metadata": {},
   "outputs": [
    {
     "name": "stdout",
     "output_type": "stream",
     "text": [
      "OrderedDict([('a', 1), ('b', 2)])\n",
      "OrderedDict([('b', 2), ('a', 1)])\n",
      "False\n"
     ]
    }
   ],
   "source": [
    "from collections import OrderedDict\n",
    "\n",
    "myDict1 = OrderedDict()\n",
    "myDict1['a'] = 1\n",
    "myDict1['b'] = 2\n",
    "print(myDict1)\n",
    "\n",
    "myDict2 = OrderedDict()\n",
    "myDict2['b'] = 2\n",
    "myDict2['a'] = 1\n",
    "print(myDict2)\n",
    "\n",
    "print(myDict1 == myDict2)"
   ]
  },
  {
   "cell_type": "markdown",
   "metadata": {},
   "source": [
    "## Advanced Dict"
   ]
  },
  {
   "cell_type": "code",
   "execution_count": 2,
   "metadata": {},
   "outputs": [
    {
     "name": "stdout",
     "output_type": "stream",
     "text": [
      "{0: 0, 1: 1, 2: 4, 3: 9, 4: 16, 5: 25, 6: 36, 7: 49, 8: 64, 9: 81}\n"
     ]
    }
   ],
   "source": [
    "myDict = {x:x**2 for x in range(10)}\n",
    "\n",
    "print(myDict)"
   ]
  },
  {
   "cell_type": "code",
   "execution_count": 96,
   "metadata": {},
   "outputs": [
    {
     "name": "stdout",
     "output_type": "stream",
     "text": [
      "{0: 'tuhin', 1: 'sumon', 2: 'nazrul', 3: 'mhafuz'}\n"
     ]
    }
   ],
   "source": [
    "myList = ['tuhin', 'sumon', 'nazrul', 'mhafuz']\n",
    "\n",
    "myDict = {x:myList[x] for x in range(len(myList))}\n",
    "print(myDict)"
   ]
  },
  {
   "cell_type": "code",
   "execution_count": 98,
   "metadata": {},
   "outputs": [
    {
     "name": "stdout",
     "output_type": "stream",
     "text": [
      "{0: 'tuhin', 1: 'sumon', 2: 'nazrul', 3: 'mhafuz'}\n"
     ]
    }
   ],
   "source": [
    "myDict = {k:v for k, v in zip(range(4), ['tuhin', 'sumon', 'nazrul', 'mhafuz'])}\n",
    "\n",
    "print(myDict)"
   ]
  }
 ],
 "metadata": {
  "kernelspec": {
   "display_name": "Python 3",
   "language": "python",
   "name": "python3"
  },
  "language_info": {
   "codemirror_mode": {
    "name": "ipython",
    "version": 3
   },
   "file_extension": ".py",
   "mimetype": "text/x-python",
   "name": "python",
   "nbconvert_exporter": "python",
   "pygments_lexer": "ipython3",
   "version": "3.7.4"
  }
 },
 "nbformat": 4,
 "nbformat_minor": 2
}
