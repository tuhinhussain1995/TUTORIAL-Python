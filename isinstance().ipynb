{
 "cells": [
  {
   "cell_type": "code",
   "execution_count": 32,
   "metadata": {},
   "outputs": [
    {
     "name": "stdout",
     "output_type": "stream",
     "text": [
      "True\n",
      "True\n",
      "True\n",
      "True\n",
      "True\n",
      "True\n",
      "True\n",
      "True\n",
      "True\n",
      "True\n"
     ]
    }
   ],
   "source": [
    "myInt = 3\n",
    "print(isinstance(myInt, int))\n",
    "\n",
    "myFloat = 3.1416\n",
    "print(isinstance(myFloat, float))\n",
    "\n",
    "myComplex = 5+3j\n",
    "print(isinstance(myComplex, complex))\n",
    "\n",
    "myBoolean = True\n",
    "print(isinstance(myBoolean, bool))\n",
    "\n",
    "myString = \"Tuhin\"\n",
    "print(isinstance(myString, str))\n",
    "\n",
    "import array\n",
    "myArray = array.array('i', [1, 2, 3, 4, 5, 6])\n",
    "print(isinstance(myArray, array.array))\n",
    "\n",
    "myList = [2, 3, 4]\n",
    "print(isinstance(myList, list))\n",
    "\n",
    "myTuple = (5, 3, 4)\n",
    "print(isinstance(myTuple, tuple))\n",
    "\n",
    "myDict = {1:34, 2:'Tuhin', '3':6565}\n",
    "print(isinstance(myDict, dict))\n",
    "\n",
    "mySet = {2, 3, 4, 5}\n",
    "print(isinstance(mySet, set))"
   ]
  },
  {
   "cell_type": "code",
   "execution_count": 28,
   "metadata": {},
   "outputs": [
    {
     "name": "stdout",
     "output_type": "stream",
     "text": [
      "True\n",
      "False\n",
      "False\n",
      "False\n"
     ]
    }
   ],
   "source": [
    "myList = [12, 134, 56.34, 'tuhin', 'sumon', 'nazrul']\n",
    "\n",
    "print(isinstance(myList, list))\n",
    "print(isinstance(myList, dict))\n",
    "print(isinstance(myList, tuple))\n",
    "print(isinstance(myList, set))"
   ]
  },
  {
   "cell_type": "code",
   "execution_count": 11,
   "metadata": {},
   "outputs": [
    {
     "name": "stdout",
     "output_type": "stream",
     "text": [
      "True\n",
      "False\n",
      "True\n",
      "True\n",
      "True\n",
      "False\n"
     ]
    }
   ],
   "source": [
    "myDict = {1:[3, 4], 'a':('tuhin', 'b'), 3.13:{'a':1, 'b':2}}\n",
    "\n",
    "print(isinstance(myDict, dict))\n",
    "print(isinstance(myDict, set))\n",
    "\n",
    "print(isinstance(myDict[1], list))\n",
    "print(isinstance(myDict['a'], tuple))\n",
    "print(isinstance(myDict[3.13], dict))\n",
    "print(isinstance(myDict[3.13], set))"
   ]
  },
  {
   "cell_type": "code",
   "execution_count": 4,
   "metadata": {},
   "outputs": [
    {
     "name": "stdout",
     "output_type": "stream",
     "text": [
      "It is List\n"
     ]
    }
   ],
   "source": [
    "myList = [12, 134, 56.34, 'tuhin', 'sumon', 'nazrul']\n",
    "\n",
    "if isinstance(myList, list):\n",
    "    print(\"It is List\")"
   ]
  },
  {
   "cell_type": "code",
   "execution_count": 2,
   "metadata": {},
   "outputs": [
    {
     "name": "stdout",
     "output_type": "stream",
     "text": [
      "Total Int:    2\n",
      "Total Float:  1\n",
      "Total String: 3\n"
     ]
    }
   ],
   "source": [
    "myList = [12, 134, 56.34, 'tuhin', 'sumon', 'nazrul']\n",
    "\n",
    "totalInt = 0\n",
    "totalFloat = 0\n",
    "totalString = 0\n",
    "\n",
    "for x in myList:\n",
    "    if isinstance(x, int):\n",
    "        totalInt += 1\n",
    "    elif isinstance(x, float):\n",
    "        totalFloat += 1\n",
    "    elif isinstance(x, str):\n",
    "        totalString += 1\n",
    "\n",
    "\n",
    "print('Total Int:   ', totalInt)\n",
    "print('Total Float: ', totalFloat)\n",
    "print('Total String:', totalString)"
   ]
  },
  {
   "cell_type": "markdown",
   "metadata": {},
   "source": [
    "## Advanced\n",
    "#### if present"
   ]
  },
  {
   "cell_type": "code",
   "execution_count": 35,
   "metadata": {},
   "outputs": [
    {
     "name": "stdout",
     "output_type": "stream",
     "text": [
      "False\n",
      "True\n",
      "True\n",
      "True\n",
      "False\n"
     ]
    }
   ],
   "source": [
    "myList = [1, 2, 3]\n",
    "\n",
    "print(isinstance(myList, (dict)))\n",
    "print(isinstance(myList, (dict, list)))\n",
    "print(isinstance(myList, (dict, tuple, list)))\n",
    "print(isinstance(myList, (dict, list, set, tuple)))\n",
    "print(isinstance(myList, (dict, set, tuple)))"
   ]
  },
  {
   "cell_type": "code",
   "execution_count": 3,
   "metadata": {},
   "outputs": [
    {
     "name": "stdout",
     "output_type": "stream",
     "text": [
      "True\n",
      "False\n",
      "True\n"
     ]
    }
   ],
   "source": [
    "class Foo:\n",
    "    a = 5\n",
    "\n",
    "fooInstance = Foo()\n",
    "\n",
    "print(isinstance(fooInstance, Foo))\n",
    "print(isinstance(fooInstance, (list, tuple)))\n",
    "print(isinstance(fooInstance, (list, tuple, Foo)))"
   ]
  }
 ],
 "metadata": {
  "kernelspec": {
   "display_name": "Python 3",
   "language": "python",
   "name": "python3"
  },
  "language_info": {
   "codemirror_mode": {
    "name": "ipython",
    "version": 3
   },
   "file_extension": ".py",
   "mimetype": "text/x-python",
   "name": "python",
   "nbconvert_exporter": "python",
   "pygments_lexer": "ipython3",
   "version": "3.7.4"
  }
 },
 "nbformat": 4,
 "nbformat_minor": 2
}
