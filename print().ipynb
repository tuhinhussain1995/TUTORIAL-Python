{
 "cells": [
  {
   "cell_type": "code",
   "execution_count": 20,
   "metadata": {},
   "outputs": [
    {
     "name": "stdout",
     "output_type": "stream",
     "text": [
      "Tuhin\n",
      "Tuhin Hussain\n",
      "Tuhin Hussain 23 years old\n",
      "Tuhin Hussain\n"
     ]
    }
   ],
   "source": [
    "print(\"Tuhin\")\n",
    "print(\"Tuhin\" + \" Hussain\")  # if we use (+) we can concatenate only string to string. \n",
    "\n",
    "print(\"Tuhin\", \"Hussain\", 23, \"years old\")    # Best one to use (,) if we use cooma(,) we can concatenate any kinds of variables\n",
    "\n",
    "print('Tuhin ' \"Hussain\")  "
   ]
  },
  {
   "cell_type": "code",
   "execution_count": 21,
   "metadata": {},
   "outputs": [
    {
     "name": "stdout",
     "output_type": "stream",
     "text": [
      "Hello I am Hossain Md Tuhin. And I am 24 years old\n",
      "My age is 24 .\n",
      "My age is 24.\n"
     ]
    }
   ],
   "source": [
    "name = 'Hossain Md Tuhin'; age = 24\n",
    "\n",
    "print('Hello I am', name + '. And I am', age, 'years old')\n",
    "print('My age is', age, '.')             # comma (,) automatically add blank space before and after it.\n",
    "print('My age is ' + str(age) + '.')"
   ]
  },
  {
   "cell_type": "code",
   "execution_count": 22,
   "metadata": {},
   "outputs": [
    {
     "name": "stdout",
     "output_type": "stream",
     "text": [
      "6 * 3 = 18 only\n"
     ]
    }
   ],
   "source": [
    "print(\"6 * 3 =\", (6*3), 'only')            # by using comma(,) we can concatenate any type of variables."
   ]
  },
  {
   "cell_type": "code",
   "execution_count": 1,
   "metadata": {},
   "outputs": [
    {
     "name": "stdout",
     "output_type": "stream",
     "text": [
      "                                  spam and eggs\n",
      "                             spam, eggs and chocolate\n",
      "                         spam, eggs, fruits and chocolate\n",
      "                                       236\n",
      "                                     3.14159\n"
     ]
    }
   ],
   "source": [
    "def center_text(text):\n",
    "    text = str(text)\n",
    "    margin_left = (80-len(text)) // 2\n",
    "    print(\" \"*margin_left, text)\n",
    "\n",
    "center_text(\"spam and eggs\")\n",
    "center_text(\"spam, eggs and chocolate\")\n",
    "center_text(\"spam, eggs, fruits and chocolate\")\n",
    "center_text(236)\n",
    "center_text(3.14159)"
   ]
  },
  {
   "cell_type": "code",
   "execution_count": 2,
   "metadata": {},
   "outputs": [
    {
     "name": "stdout",
     "output_type": "stream",
     "text": [
      "                                  spam and eggs \n",
      "                                       236 \n",
      "                                     3.14159 \n",
      "                              first second 3 4 5.6 \n"
     ]
    }
   ],
   "source": [
    "def center_text(*args):\n",
    "    text = ''\n",
    "    for arg in args:\n",
    "        text += str(arg) + ' '\n",
    "    margin_left = (80-len(text)) // 2\n",
    "    print(\" \"*margin_left, text)\n",
    "\n",
    "center_text(\"spam and eggs\")\n",
    "center_text(236)\n",
    "center_text(3.14159)\n",
    "center_text(\"first\", \"second\", 3, 4, 5.6)"
   ]
  },
  {
   "cell_type": "markdown",
   "metadata": {},
   "source": [
    "# print() parameters ==> objects, sep, end, file, flush"
   ]
  },
  {
   "cell_type": "markdown",
   "metadata": {},
   "source": [
    "## objects"
   ]
  },
  {
   "cell_type": "code",
   "execution_count": 14,
   "metadata": {},
   "outputs": [
    {
     "name": "stdout",
     "output_type": "stream",
     "text": [
      "1 2 3 4 5 6\n",
      "Hossain Md Tuhin\n",
      "Rafiq ate 3 bananas and 1.25 liter milk\n"
     ]
    }
   ],
   "source": [
    "print(1, 2, 3, 4, 5, 6)\n",
    "print('Hossain Md Tuhin')\n",
    "print(\"Rafiq ate\", 3, \"bananas and\", 1.25, \"liter milk\")"
   ]
  },
  {
   "cell_type": "markdown",
   "metadata": {},
   "source": [
    "## end"
   ]
  },
  {
   "cell_type": "code",
   "execution_count": 9,
   "metadata": {},
   "outputs": [
    {
     "name": "stdout",
     "output_type": "stream",
     "text": [
      "Hossain Md Tuhin\n",
      "Hello there, How are you?\n",
      "GOOD\n",
      "BYE\n",
      "GOOD\n",
      "\n",
      "\n",
      "BYE\n"
     ]
    }
   ],
   "source": [
    "print('Hossain', end=' ')\n",
    "print(\"Md \", end='')\n",
    "print(\"Tuhin\")\n",
    "\n",
    "print('Hello there, ', end=\"\")\n",
    "print(\"How are you?\")\n",
    "\n",
    "print('GOOD', end=\"\\n\")\n",
    "print(\"BYE\")\n",
    "\n",
    "print('GOOD', end=\"\\n\\n\\n\")\n",
    "print(\"BYE\")"
   ]
  },
  {
   "cell_type": "code",
   "execution_count": 6,
   "metadata": {},
   "outputs": [
    {
     "name": "stdout",
     "output_type": "stream",
     "text": [
      "tuhinhussain1995@gmail.com"
     ]
    }
   ],
   "source": [
    "print('tuhinhussain1995', end='@gmail.com')"
   ]
  },
  {
   "cell_type": "code",
   "execution_count": 19,
   "metadata": {},
   "outputs": [
    {
     "name": "stdout",
     "output_type": "stream",
     "text": [
      "a =000005\n",
      "\n",
      "\n",
      "a =05"
     ]
    }
   ],
   "source": [
    "a = 5\n",
    "print(\"a =\", a, sep='00000', end='\\n\\n\\n')\n",
    "print(\"a =\", a, sep='0', end='')"
   ]
  },
  {
   "cell_type": "markdown",
   "metadata": {},
   "source": [
    "## sep"
   ]
  },
  {
   "cell_type": "code",
   "execution_count": 8,
   "metadata": {},
   "outputs": [
    {
     "name": "stdout",
     "output_type": "stream",
     "text": [
      "1; 2; 3; 4; 5; 6\n",
      "1 --- 2 --- 3 --- 4 --- 5 --- 6\n",
      "Hello #>>>** How are you?\n"
     ]
    }
   ],
   "source": [
    "print(1, 2, 3, 4, 5, 6, sep='; ')\n",
    "print(1, 2, 3, 4, 5, 6, sep=' --- ')\n",
    "print(\"Hello\", \"How are you?\", sep=\" #>>>** \")"
   ]
  },
  {
   "cell_type": "code",
   "execution_count": 18,
   "metadata": {},
   "outputs": [
    {
     "name": "stdout",
     "output_type": "stream",
     "text": [
      "a =000005\n",
      "a =__5\n"
     ]
    }
   ],
   "source": [
    "a = 5\n",
    "print(\"a =\", a, sep='00000')\n",
    "print(\"a =\", a, sep='__')"
   ]
  },
  {
   "cell_type": "code",
   "execution_count": 16,
   "metadata": {},
   "outputs": [
    {
     "name": "stdout",
     "output_type": "stream",
     "text": [
      "1\n",
      "2\n",
      "3\n",
      "4\n",
      "5\n",
      "6\n"
     ]
    }
   ],
   "source": [
    "print(1, 2, 3, 4, 5, 6, sep='\\n')"
   ]
  },
  {
   "cell_type": "markdown",
   "metadata": {},
   "source": [
    "## file"
   ]
  },
  {
   "cell_type": "code",
   "execution_count": 13,
   "metadata": {},
   "outputs": [],
   "source": [
    "names = ['nazrul', 'sumon', 'jesan', 'mhafuz', 'halim']\n",
    "\n",
    "with open('names.txt', mode='w') as nameFile:\n",
    "    for name in names:\n",
    "        print(name, file=nameFile)"
   ]
  },
  {
   "cell_type": "code",
   "execution_count": 15,
   "metadata": {},
   "outputs": [],
   "source": [
    "with open('dataFile.txt', 'w') as myData:\n",
    "    for i in range(1, 6):\n",
    "        for j in range(1, 5):\n",
    "            print(\"{1:>2} times {0} is {2}\".format(i, j, i*j), file=myData)\n",
    "        print(\"-\"*20, file=myData)"
   ]
  }
 ],
 "metadata": {
  "kernelspec": {
   "display_name": "Python 3",
   "language": "python",
   "name": "python3"
  },
  "language_info": {
   "codemirror_mode": {
    "name": "ipython",
    "version": 3
   },
   "file_extension": ".py",
   "mimetype": "text/x-python",
   "name": "python",
   "nbconvert_exporter": "python",
   "pygments_lexer": "ipython3",
   "version": "3.7.4"
  }
 },
 "nbformat": 4,
 "nbformat_minor": 2
}
