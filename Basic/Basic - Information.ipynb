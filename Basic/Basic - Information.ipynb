{
 "cells": [
  {
   "cell_type": "markdown",
   "metadata": {},
   "source": [
    "### Why do we need a virtual environment in python?"
   ]
  },
  {
   "cell_type": "code",
   "execution_count": null,
   "metadata": {},
   "outputs": [],
   "source": [
    "# Developing a Python application, you may want to use modules that don’t ship with the standard library. \n",
    "# Or sometimes, you need a specific version of a library for a bug to be fixed, or for some other reason."
   ]
  },
  {
   "cell_type": "markdown",
   "metadata": {},
   "source": [
    "### keyword"
   ]
  },
  {
   "cell_type": "code",
   "execution_count": 4,
   "metadata": {},
   "outputs": [],
   "source": [
    "# We cannot use a keyword as a variable name, function name or any other identifier. \n",
    "# All the keywords except True, False and None are in lowercase\n",
    "\n",
    "# There are 33 keywords in Python 3.7. "
   ]
  },
  {
   "cell_type": "markdown",
   "metadata": {},
   "source": [
    "### identifier"
   ]
  },
  {
   "cell_type": "code",
   "execution_count": 8,
   "metadata": {},
   "outputs": [],
   "source": [
    "# An identifier is a name given to entities like class, functions, variables, etc.\n",
    "\n",
    "# Rules for writing identifiers:\n",
    "    # 1. Identifiers can be a combination of letters in lowercase (a to z) or uppercase (A to Z) \n",
    "            # or digits (0 to 9) or an underscore _. \n",
    "    # 2. An identifier cannot start with a digit.\n",
    "    # 3. Keywords cannot be used as identifiers. Like list, tuple, map etc.\n",
    "    # 4. There can be no spaces in the name, use _ instead.\n",
    "    # 5. Can't use any of these symbols :'\",<>/?|\\()!@#$%^&*~-+\n",
    "    # 6. It's considered best practice (PEP8) that names are lowercase.\n",
    "    "
   ]
  },
  {
   "cell_type": "markdown",
   "metadata": {},
   "source": [
    "### data type"
   ]
  },
  {
   "cell_type": "code",
   "execution_count": 1,
   "metadata": {},
   "outputs": [],
   "source": [
    "# Primitive Data Type:\n",
    "    # Integer\n",
    "    # Float\n",
    "    # String\n",
    "    # Boolean\n",
    "    \n",
    "# Non-Primitive Data Type(User Define):\n",
    "    \n",
    "    # List \n",
    "        # Linear.\n",
    "                # static\n",
    "                        # Array\n",
    "                \n",
    "                # dynamic    \n",
    "                        # linkedList\n",
    "                        # Stack\n",
    "                        # Queue\n",
    "        # Non-Linear    \n",
    "                # Graph\n",
    "                # Tree\n",
    "                \n",
    "    # Tuple\n",
    "    # Dictionary\n",
    "    # Set \n",
    "    # File"
   ]
  },
  {
   "cell_type": "code",
   "execution_count": null,
   "metadata": {},
   "outputs": [],
   "source": [
    "# Numeric:\n",
    "        # integer\n",
    "        # float\n",
    "        # complex number\n",
    "        \n",
    "# Sequence:\n",
    "        # string\n",
    "        # list\n",
    "        # tuple\n",
    "        \n",
    "# Boolean\n",
    "# Dictionary\n",
    "# Set"
   ]
  },
  {
   "cell_type": "code",
   "execution_count": null,
   "metadata": {},
   "outputs": [],
   "source": [
    "# data types are actually classes and variables are instance (object) of these classes.\n",
    "\n",
    "# type() function to know which class a variable or a value belongs to. \n",
    "# isinstance() function is used to check if an object belongs to a particular class.\n",
    "\n",
    "# Strings are immutable.\n",
    "\n",
    "# Dictionaries are optimized for retrieving data.\n",
    "\n",
    "# Tuples are used to write-protect data and are usually faster than lists as they cannot change dynamically.\n",
    "\n",
    "# We can convert between different data types by using different type\n",
    "# conversion functions like int(), float(), str(), tuple(), list(), etc."
   ]
  },
  {
   "cell_type": "markdown",
   "metadata": {},
   "source": [
    "### variable"
   ]
  },
  {
   "cell_type": "code",
   "execution_count": null,
   "metadata": {},
   "outputs": [],
   "source": [
    "# A variable is a named location used to store data in the memory. \n",
    "# It is helpful to think of variables as a container that holds data that can be changed later in the program. \n",
    "\n",
    "# In Python, we don't actually assign values to the variables. \n",
    "# Instead, Python gives the reference of the object(value) to the variable.\n",
    "\n",
    "# Integers can be of any length, it is only limited by the memory available.\n",
    "\n",
    "# There are four different literal collections List literals, Tuple literals, Dict literals, and Set literals."
   ]
  },
  {
   "cell_type": "markdown",
   "metadata": {},
   "source": [
    "### Function"
   ]
  },
  {
   "cell_type": "code",
   "execution_count": null,
   "metadata": {},
   "outputs": [],
   "source": [
    "# In Python, a function is a group of related statements that performs a specific task.\n",
    "# Functions help break our program into smaller and modular chunks. \n",
    "\n",
    "# Types of Functions\n",
    "    # Built-in functions\n",
    "            # list(), dict(), set(), str(), map(), pow()\n",
    "        \n",
    "    # User-defined functions"
   ]
  },
  {
   "cell_type": "markdown",
   "metadata": {},
   "source": [
    "### Attribute & Method"
   ]
  },
  {
   "cell_type": "code",
   "execution_count": null,
   "metadata": {},
   "outputs": [],
   "source": [
    "# Inside a class functions are called methods and also variables are called attribute.\n",
    "\n",
    "# An attribute is a characteristic of an object. \n",
    "# A method is an operation we can perform with the object."
   ]
  },
  {
   "cell_type": "markdown",
   "metadata": {},
   "source": [
    "### Data Type Casting"
   ]
  },
  {
   "cell_type": "code",
   "execution_count": 5,
   "metadata": {},
   "outputs": [],
   "source": [
    "# The process of converting the value of one data type (integer, string, float, etc.) \n",
    "# to another data type is called type conversion. \n",
    "\n",
    "# Python has two types of type conversion.\n",
    "    # Implicit Type Conversion\n",
    "            # In Implicit type conversion, Python automatically converts one data type to another data type. \n",
    "            # This process doesn't need any user involvement.\n",
    "            \n",
    "                    # num_int = 123\n",
    "                    # num_flo = 1.23\n",
    "                    # num_new = num_int + num_flo\n",
    "            \n",
    "    # Explicit Type Conversion\n",
    "            # In Explicit Type Conversion, users convert the data type of an object to required data type. \n",
    "            # We use the predefined functions like int(), float(), str(), etc to perform explicit type conversion.\n",
    "            \n",
    "                    # num_int = 123\n",
    "                    # num_str = \"456\"\n",
    "                    \n",
    "                    # num = num_int + int(num_str)\n",
    "                    # myStr = str(num_int) + num_str"
   ]
  },
  {
   "cell_type": "code",
   "execution_count": null,
   "metadata": {},
   "outputs": [],
   "source": [
    "# We can also use built-in functions like int(), float() and complex() to convert between types explicitly. "
   ]
  },
  {
   "cell_type": "markdown",
   "metadata": {},
   "source": [
    "### Docstrings"
   ]
  },
  {
   "cell_type": "code",
   "execution_count": null,
   "metadata": {},
   "outputs": [],
   "source": [
    "# The first string after the function header is called the docstring and is short for documentation string. \n",
    "# It is briefly used to explain what a function does."
   ]
  },
  {
   "cell_type": "code",
   "execution_count": 1,
   "metadata": {},
   "outputs": [
    {
     "name": "stdout",
     "output_type": "stream",
     "text": [
      "\n",
      "    This function greets to\n",
      "    the person passed in as\n",
      "    a parameter\n",
      "    \n"
     ]
    }
   ],
   "source": [
    "def greet(name):\n",
    "    \"\"\"\n",
    "    This function greets to\n",
    "    the person passed in as\n",
    "    a parameter\n",
    "    \"\"\"\n",
    "    print(\"Hello, \" + name + \". Good morning!\")\n",
    "    \n",
    "print(greet.__doc__)    "
   ]
  },
  {
   "cell_type": "code",
   "execution_count": 3,
   "metadata": {},
   "outputs": [
    {
     "name": "stdout",
     "output_type": "stream",
     "text": [
      "This is a person class\n"
     ]
    }
   ],
   "source": [
    "class Person:\n",
    "    \"This is a person class\"\n",
    "    age = 10\n",
    "\n",
    "    def greet(self):\n",
    "        print('Hello')\n",
    "       \n",
    "    \n",
    "tuhin = Person()\n",
    "\n",
    "print(tuhin.__doc__ )       "
   ]
  },
  {
   "cell_type": "markdown",
   "metadata": {},
   "source": [
    "# How does a user check his python code rating?"
   ]
  },
  {
   "cell_type": "markdown",
   "metadata": {},
   "source": [
    "1. Go to command line\n",
    "2. Go to desired file location and run\n",
    "\n",
    "pylint test.py<br>\n",
    "pylint practice.py"
   ]
  },
  {
   "cell_type": "markdown",
   "metadata": {},
   "source": [
    "## Multiple Line Calculation"
   ]
  },
  {
   "cell_type": "code",
   "execution_count": 2,
   "metadata": {},
   "outputs": [
    {
     "name": "stdout",
     "output_type": "stream",
     "text": [
      "2\n"
     ]
    }
   ],
   "source": [
    "a, b, c = 3, 4, 5\n",
    "\n",
    "result = \\\n",
    "a+\\\n",
    "b-\\\n",
    "c\n",
    "\n",
    "print(result)"
   ]
  },
  {
   "cell_type": "code",
   "execution_count": null,
   "metadata": {},
   "outputs": [],
   "source": []
  },
  {
   "cell_type": "code",
   "execution_count": null,
   "metadata": {},
   "outputs": [],
   "source": []
  },
  {
   "cell_type": "code",
   "execution_count": null,
   "metadata": {},
   "outputs": [],
   "source": []
  },
  {
   "cell_type": "code",
   "execution_count": null,
   "metadata": {},
   "outputs": [],
   "source": []
  }
 ],
 "metadata": {
  "kernelspec": {
   "display_name": "Python 3",
   "language": "python",
   "name": "python3"
  },
  "language_info": {
   "codemirror_mode": {
    "name": "ipython",
    "version": 3
   },
   "file_extension": ".py",
   "mimetype": "text/x-python",
   "name": "python",
   "nbconvert_exporter": "python",
   "pygments_lexer": "ipython3",
   "version": "3.7.4"
  }
 },
 "nbformat": 4,
 "nbformat_minor": 2
}
