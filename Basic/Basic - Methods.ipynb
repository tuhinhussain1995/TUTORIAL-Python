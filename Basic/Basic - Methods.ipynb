{
 "cells": [
  {
   "cell_type": "markdown",
   "metadata": {},
   "source": [
    "### Python doesn't have switch case and do-while Loop"
   ]
  },
  {
   "cell_type": "code",
   "execution_count": null,
   "metadata": {},
   "outputs": [],
   "source": []
  },
  {
   "cell_type": "markdown",
   "metadata": {},
   "source": [
    "### sum  input can't be normal argument type"
   ]
  },
  {
   "cell_type": "code",
   "execution_count": 1,
   "metadata": {},
   "outputs": [],
   "source": [
    "# We can't write:      print(sum(3,4,5,1,9,5)) "
   ]
  },
  {
   "cell_type": "markdown",
   "metadata": {},
   "source": [
    "### by using comma(,) we can concatenate any type of variables. \n",
    "### if we use (+) we can concatenate only string to string. \n",
    "### if we use nothing we can concatenate only string to string."
   ]
  },
  {
   "cell_type": "code",
   "execution_count": null,
   "metadata": {},
   "outputs": [],
   "source": []
  },
  {
   "cell_type": "markdown",
   "metadata": {},
   "source": [
    "### 'string', 'set' and 'tuples' does not support item assignment\n",
    "###  Only 'list' and 'dictionary' support item assignment\n",
    "### dictionary and set doesn't support indexing and slicing."
   ]
  },
  {
   "cell_type": "code",
   "execution_count": null,
   "metadata": {},
   "outputs": [],
   "source": []
  },
  {
   "cell_type": "markdown",
   "metadata": {},
   "source": [
    "# math function  \n",
    "### pow(x, y), sqrt(x), fabs(-x), floor(x), ceil(x), pi, e, radians(x), degrees(x), factorial(x), sin(x), cos(x), tan(x), log(x), log10(x), exp(x), e**(x)"
   ]
  },
  {
   "cell_type": "code",
   "execution_count": null,
   "metadata": {},
   "outputs": [],
   "source": []
  },
  {
   "cell_type": "markdown",
   "metadata": {},
   "source": [
    "# String Methods\n",
    "###  upper(), lower(), isupper(), islower(), casefold(), capitalize(), split(), split(x), count(x), index(x), endwith(x), find(x), replace(x, y), center(25),  isdecimal(), isdigit(), isnumeric(), isalpha(), isalnum(),  isspace(), title(), istitle(), x.join(y)\n",
    "### string.capwords(x)"
   ]
  },
  {
   "cell_type": "code",
   "execution_count": null,
   "metadata": {},
   "outputs": [],
   "source": []
  },
  {
   "cell_type": "markdown",
   "metadata": {},
   "source": [
    "## Tuples use ( ) ----------  print ---------- ( )\n",
    "## Set use {}  or  set( [ ] or {} or () )  ------- print ---------- { }\n",
    "## Dictionary use { } ----- print ----------- { }\n",
    "## List use [ ] --------------- print ---------- [  ]"
   ]
  },
  {
   "cell_type": "code",
   "execution_count": null,
   "metadata": {},
   "outputs": [],
   "source": []
  },
  {
   "cell_type": "code",
   "execution_count": null,
   "metadata": {},
   "outputs": [],
   "source": []
  }
 ],
 "metadata": {
  "kernelspec": {
   "display_name": "Python 3",
   "language": "python",
   "name": "python3"
  },
  "language_info": {
   "codemirror_mode": {
    "name": "ipython",
    "version": 3
   },
   "file_extension": ".py",
   "mimetype": "text/x-python",
   "name": "python",
   "nbconvert_exporter": "python",
   "pygments_lexer": "ipython3",
   "version": "3.7.4"
  }
 },
 "nbformat": 4,
 "nbformat_minor": 2
}
