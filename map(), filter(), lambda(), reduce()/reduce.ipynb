{
 "cells": [
  {
   "cell_type": "markdown",
   "metadata": {},
   "source": [
    "# reduce\n",
    "### reduce(function,  input)"
   ]
  },
  {
   "cell_type": "code",
   "execution_count": 1,
   "metadata": {},
   "outputs": [
    {
     "name": "stdout",
     "output_type": "stream",
     "text": [
      "[4, 12, 16]\n",
      "32\n"
     ]
    }
   ],
   "source": [
    "from functools import reduce\n",
    "\n",
    "nums = {3, 2, 5, 6, 9, 8}\n",
    "\n",
    "evens = list(filter(lambda a : a%2==0, nums))\n",
    "\n",
    "doubles = list(map(lambda n : n*2, evens))\n",
    "\n",
    "print(doubles)\n",
    "\n",
    "\n",
    "def mySum(a,b):                             # reduce function must take two arguments\n",
    "    return a+b\n",
    "\n",
    "summation = reduce(mySum, doubles)            \n",
    "\n",
    "print(summation)"
   ]
  },
  {
   "cell_type": "code",
   "execution_count": 2,
   "metadata": {},
   "outputs": [
    {
     "name": "stdout",
     "output_type": "stream",
     "text": [
      "[4, 12, 16]\n",
      "32\n"
     ]
    }
   ],
   "source": [
    "from functools import reduce\n",
    "\n",
    "nums = [3, 2, 5, 6, 9, 8]\n",
    "\n",
    "evens = list(filter(lambda a : a%2==0, nums))\n",
    "\n",
    "doubles = list(map(lambda n : n*2, evens))\n",
    "\n",
    "print(doubles)\n",
    "\n",
    "summation = reduce(lambda a, b : a+b, doubles)      # reduce function must take two arguments\n",
    "\n",
    "print(summation)"
   ]
  },
  {
   "cell_type": "code",
   "execution_count": 3,
   "metadata": {},
   "outputs": [
    {
     "name": "stdout",
     "output_type": "stream",
     "text": [
      "113\n"
     ]
    }
   ],
   "source": [
    "from functools import reduce\n",
    "\n",
    "lst =[47,11,42,13]\n",
    "\n",
    "print(reduce(lambda x,y: x+y,lst))"
   ]
  },
  {
   "cell_type": "code",
   "execution_count": 1,
   "metadata": {},
   "outputs": [
    {
     "name": "stdout",
     "output_type": "stream",
     "text": [
      "47\n"
     ]
    }
   ],
   "source": [
    "from functools import reduce\n",
    "\n",
    "lst =[47,11,42,13]\n",
    "\n",
    "print(reduce(lambda a,b: a if (a > b) else b, lst))"
   ]
  },
  {
   "cell_type": "markdown",
   "metadata": {},
   "source": [
    "# Important "
   ]
  },
  {
   "cell_type": "code",
   "execution_count": 2,
   "metadata": {},
   "outputs": [
    {
     "name": "stdout",
     "output_type": "stream",
     "text": [
      "34321\n"
     ]
    }
   ],
   "source": [
    "from functools import reduce\n",
    "\n",
    "def digits_to_num(digits):\n",
    "    \n",
    "    return reduce(lambda x,y:x*10 + y,digits)\n",
    "\n",
    "\n",
    "print(digits_to_num([3,4,3,2,1]))"
   ]
  },
  {
   "cell_type": "markdown",
   "metadata": {},
   "source": [
    "3*10  + 4 = 34 <br>\n",
    "34*10 + 3 = 343 <br>\n",
    "343*10 + 2 = 3432 <br>\n",
    "3432*10 + 1 = 34321 "
   ]
  }
 ],
 "metadata": {
  "kernelspec": {
   "display_name": "Python 3",
   "language": "python",
   "name": "python3"
  },
  "language_info": {
   "codemirror_mode": {
    "name": "ipython",
    "version": 3
   },
   "file_extension": ".py",
   "mimetype": "text/x-python",
   "name": "python",
   "nbconvert_exporter": "python",
   "pygments_lexer": "ipython3",
   "version": "3.7.4"
  }
 },
 "nbformat": 4,
 "nbformat_minor": 2
}
