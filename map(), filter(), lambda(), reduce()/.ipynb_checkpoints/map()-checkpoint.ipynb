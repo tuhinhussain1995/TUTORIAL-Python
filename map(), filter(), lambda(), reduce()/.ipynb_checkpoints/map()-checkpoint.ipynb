{
 "cells": [
  {
   "cell_type": "markdown",
   "metadata": {},
   "source": [
    "## map and filter is used instead of for loop (when input data is so many)\n",
    "### map is used for output varification\n",
    "### filter is used for input varification\n",
    "## lambda is used instead of creating function"
   ]
  },
  {
   "cell_type": "code",
   "execution_count": 1,
   "metadata": {},
   "outputs": [
    {
     "name": "stdout",
     "output_type": "stream",
     "text": [
      "<class 'map'>\n",
      "<class 'filter'>\n",
      "<class 'function'>\n"
     ]
    }
   ],
   "source": [
    "print(type(map(lambda x : pow(x,2), range(0,10))))\n",
    "print(type(filter(lambda x : pow(x,2), range(0,10))))\n",
    "print(type(lambda x : pow(x,2)))"
   ]
  },
  {
   "cell_type": "code",
   "execution_count": 13,
   "metadata": {},
   "outputs": [
    {
     "name": "stdout",
     "output_type": "stream",
     "text": [
      "[0, 1, 4, 9, 16, 25, 36, 49, 64, 81]\n",
      "[1, 2, 3, 4, 5, 6, 7, 8, 9]\n"
     ]
    }
   ],
   "source": [
    "print(list(map(lambda x : pow(x,2), range(0,10))))\n",
    "print(list(filter(lambda x : pow(x,2), range(0,10))))"
   ]
  },
  {
   "cell_type": "code",
   "execution_count": 2,
   "metadata": {},
   "outputs": [
    {
     "name": "stdout",
     "output_type": "stream",
     "text": [
      "[4, 9, 16]\n",
      "[4, 9, 16]\n",
      "[4, 9, 16]\n",
      "[2, 3, 4]\n"
     ]
    }
   ],
   "source": [
    "myNums = [2, 3, 4]\n",
    "\n",
    "def square(num):\n",
    "    return pow(num, 2)\n",
    "\n",
    "print(list(num**2 for num in myNums))\n",
    "print(list(map(square, myNums)))\n",
    "print(list(map(lambda var : pow(var,2), myNums)))\n",
    "print(list(filter(lambda var : pow(var,2), myNums)))"
   ]
  },
  {
   "cell_type": "markdown",
   "metadata": {},
   "source": [
    "### Most Important"
   ]
  },
  {
   "cell_type": "code",
   "execution_count": 4,
   "metadata": {},
   "outputs": [
    {
     "name": "stdout",
     "output_type": "stream",
     "text": [
      "[False, False, False, False, False, False, False, False, True, True, True, False, False, False, False, False, False, False, False, False]\n",
      "[8, 9, 10]\n"
     ]
    }
   ],
   "source": [
    "def square(num):\n",
    "    return pow(num, 2)>50 and pow(num, 2)<=100\n",
    "\n",
    "myMap = list(map(square, range(0, 20)))\n",
    "print(myMap)\n",
    "\n",
    "myFilter = list(filter(square, range(0, 20)))\n",
    "print(myFilter)"
   ]
  },
  {
   "cell_type": "code",
   "execution_count": 3,
   "metadata": {},
   "outputs": [
    {
     "name": "stdout",
     "output_type": "stream",
     "text": [
      "[False, False, False, False, False, False, False, False, True, True, True, False, False, False, False, False, False, False, False, False]\n",
      "[8, 9, 10]\n"
     ]
    }
   ],
   "source": [
    "myMap = list(map(lambda num : pow(num, 2)>50 and pow(num, 2)<=100, range(0, 20)))\n",
    "print(myMap)\n",
    "\n",
    "myFilter = list(filter(lambda num : pow(num, 2)>50 and pow(num, 2)<=100, range(0, 20)))\n",
    "print(myFilter)"
   ]
  },
  {
   "cell_type": "markdown",
   "metadata": {},
   "source": [
    "# Map\n",
    "### map(function, input)"
   ]
  },
  {
   "cell_type": "code",
   "execution_count": 5,
   "metadata": {},
   "outputs": [
    {
     "name": "stdout",
     "output_type": "stream",
     "text": [
      "1\n",
      "4\n",
      "9\n",
      "16\n",
      "25\n"
     ]
    }
   ],
   "source": [
    "def square(num):\n",
    "    return num**2\n",
    "\n",
    "my_nums = [1, 2, 3, 4, 5]\n",
    "\n",
    "for value in my_nums:\n",
    "    print(square(value))"
   ]
  },
  {
   "cell_type": "code",
   "execution_count": 6,
   "metadata": {},
   "outputs": [
    {
     "name": "stdout",
     "output_type": "stream",
     "text": [
      "1\n",
      "4\n",
      "9\n",
      "16\n",
      "25\n"
     ]
    }
   ],
   "source": [
    "def square(num):\n",
    "    return num**2\n",
    "\n",
    "my_nums = [1, 2, 3, 4, 5]\n",
    "\n",
    "for value in map(square, my_nums):\n",
    "    print(value)"
   ]
  },
  {
   "cell_type": "code",
   "execution_count": 7,
   "metadata": {},
   "outputs": [
    {
     "name": "stdout",
     "output_type": "stream",
     "text": [
      "['EVEN', 'E', 'S']\n"
     ]
    }
   ],
   "source": [
    "def splicer(myString):\n",
    "    if len(myString)%2 == 0:\n",
    "        return 'EVEN'\n",
    "    else:\n",
    "        return myString[0]\n",
    "    \n",
    "names = ['Andy', 'Eve', 'Sally']\n",
    "\n",
    "result = list(map(splicer, names))\n",
    "\n",
    "print(result)"
   ]
  },
  {
   "cell_type": "markdown",
   "metadata": {},
   "source": [
    "### string, int, float"
   ]
  },
  {
   "cell_type": "code",
   "execution_count": 2,
   "metadata": {},
   "outputs": [
    {
     "name": "stdout",
     "output_type": "stream",
     "text": [
      "['1', '2', '3', '4', '5']\n"
     ]
    }
   ],
   "source": [
    "nums= [1,2,3,4,5]\n",
    "nums_string = list(map(str, nums))\n",
    "print(nums_string)"
   ]
  },
  {
   "cell_type": "code",
   "execution_count": 3,
   "metadata": {},
   "outputs": [
    {
     "name": "stdout",
     "output_type": "stream",
     "text": [
      "[1, 2, 3, 4, 5]\n"
     ]
    }
   ],
   "source": [
    "myString = ['1', '2', '3', '4', '5']\n",
    "myStringInt = list(map(int, myString))\n",
    "print(myStringInt)"
   ]
  },
  {
   "cell_type": "code",
   "execution_count": 4,
   "metadata": {},
   "outputs": [
    {
     "name": "stdout",
     "output_type": "stream",
     "text": [
      "[1.0, 2.0, 3.0, 4.0, 5.0]\n"
     ]
    }
   ],
   "source": [
    "myString = ['1', '2', '3', '4', '5']\n",
    "myStringFloat = list(map(float, myString))\n",
    "print(myStringFloat)"
   ]
  }
 ],
 "metadata": {
  "kernelspec": {
   "display_name": "Python 3",
   "language": "python",
   "name": "python3"
  },
  "language_info": {
   "codemirror_mode": {
    "name": "ipython",
    "version": 3
   },
   "file_extension": ".py",
   "mimetype": "text/x-python",
   "name": "python",
   "nbconvert_exporter": "python",
   "pygments_lexer": "ipython3",
   "version": "3.7.4"
  }
 },
 "nbformat": 4,
 "nbformat_minor": 2
}
