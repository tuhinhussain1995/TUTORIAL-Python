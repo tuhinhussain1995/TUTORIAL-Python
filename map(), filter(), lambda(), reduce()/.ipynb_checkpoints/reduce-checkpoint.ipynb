{
 "cells": [
  {
   "cell_type": "markdown",
   "metadata": {},
   "source": [
    "# reduce\n",
    "### reduce(function,  input)"
   ]
  },
  {
   "cell_type": "code",
   "execution_count": 1,
   "metadata": {},
   "outputs": [
    {
     "name": "stdout",
     "output_type": "stream",
     "text": [
      "[4, 12, 16]\n",
      "32\n"
     ]
    }
   ],
   "source": [
    "from functools import reduce\n",
    "\n",
    "nums = {3, 2, 5, 6, 9, 8}\n",
    "\n",
    "evens = list(filter(lambda a : a%2==0, nums))\n",
    "\n",
    "doubles = list(map(lambda n : n*2, evens))\n",
    "\n",
    "print(doubles)\n",
    "\n",
    "\n",
    "def mySum(a,b):                             # reduce function must take two arguments\n",
    "    return a+b\n",
    "\n",
    "summation = reduce(mySum, doubles)            \n",
    "\n",
    "print(summation)"
   ]
  },
  {
   "cell_type": "code",
   "execution_count": 2,
   "metadata": {},
   "outputs": [
    {
     "name": "stdout",
     "output_type": "stream",
     "text": [
      "[4, 12, 16]\n",
      "32\n"
     ]
    }
   ],
   "source": [
    "from functools import reduce\n",
    "\n",
    "nums = [3, 2, 5, 6, 9, 8]\n",
    "\n",
    "evens = list(filter(lambda a : a%2==0, nums))\n",
    "\n",
    "doubles = list(map(lambda n : n*2, evens))\n",
    "\n",
    "print(doubles)\n",
    "\n",
    "summation = reduce(lambda a, b : a+b, doubles)      # reduce function must take two arguments\n",
    "\n",
    "print(summation)"
   ]
  },
  {
   "cell_type": "code",
   "execution_count": null,
   "metadata": {},
   "outputs": [],
   "source": []
  },
  {
   "cell_type": "code",
   "execution_count": null,
   "metadata": {},
   "outputs": [],
   "source": []
  }
 ],
 "metadata": {
  "kernelspec": {
   "display_name": "Python 3",
   "language": "python",
   "name": "python3"
  },
  "language_info": {
   "codemirror_mode": {
    "name": "ipython",
    "version": 3
   },
   "file_extension": ".py",
   "mimetype": "text/x-python",
   "name": "python",
   "nbconvert_exporter": "python",
   "pygments_lexer": "ipython3",
   "version": "3.7.4"
  }
 },
 "nbformat": 4,
 "nbformat_minor": 2
}
