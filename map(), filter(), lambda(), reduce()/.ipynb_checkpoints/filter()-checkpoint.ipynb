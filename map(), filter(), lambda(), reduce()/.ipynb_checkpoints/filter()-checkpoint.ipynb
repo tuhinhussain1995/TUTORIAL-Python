{
 "cells": [
  {
   "cell_type": "markdown",
   "metadata": {},
   "source": [
    "# map and filter is used instead of for loop (when input data is so many)\n",
    "### map is used for output varification\n",
    "### filter is used for input varification\n",
    "# lambda is used instead of creating function"
   ]
  },
  {
   "cell_type": "code",
   "execution_count": 1,
   "metadata": {},
   "outputs": [
    {
     "name": "stdout",
     "output_type": "stream",
     "text": [
      "<class 'map'>\n",
      "<class 'filter'>\n",
      "<class 'function'>\n"
     ]
    }
   ],
   "source": [
    "print(type(map(lambda x : pow(x,2), range(0,10))))\n",
    "print(type(filter(lambda x : pow(x,2), range(0,10))))\n",
    "print(type(lambda x : pow(x,2)))"
   ]
  },
  {
   "cell_type": "code",
   "execution_count": 1,
   "metadata": {},
   "outputs": [
    {
     "name": "stdout",
     "output_type": "stream",
     "text": [
      "[0, 1, 4, 9, 16, 25, 36, 49, 64, 81]\n",
      "[1, 2, 3, 4, 5, 6, 7, 8, 9]\n"
     ]
    }
   ],
   "source": [
    "print(list(map(lambda x : pow(x,2), range(0,10))))\n",
    "print(list(filter(lambda x : pow(x,2), range(0,10))))"
   ]
  },
  {
   "cell_type": "code",
   "execution_count": 2,
   "metadata": {},
   "outputs": [
    {
     "name": "stdout",
     "output_type": "stream",
     "text": [
      "[4, 9, 16]\n",
      "[4, 9, 16]\n",
      "[4, 9, 16]\n",
      "[2, 3, 4]\n"
     ]
    }
   ],
   "source": [
    "myNums = [2, 3, 4]\n",
    "\n",
    "def square(num):\n",
    "    return pow(num, 2)\n",
    "\n",
    "print(list(num**2 for num in myNums))\n",
    "print(list(map(square, myNums)))\n",
    "print(list(map(lambda var : pow(var,2), myNums)))\n",
    "print(list(filter(lambda var : pow(var,2), myNums)))"
   ]
  },
  {
   "cell_type": "markdown",
   "metadata": {},
   "source": [
    "### Most Important"
   ]
  },
  {
   "cell_type": "code",
   "execution_count": 4,
   "metadata": {},
   "outputs": [
    {
     "name": "stdout",
     "output_type": "stream",
     "text": [
      "[False, False, False, False, False, False, False, False, True, True, True, False, False, False, False, False, False, False, False, False]\n",
      "[8, 9, 10]\n"
     ]
    }
   ],
   "source": [
    "def square(num):\n",
    "    return pow(num, 2)>50 and pow(num, 2)<=100\n",
    "\n",
    "myMap = list(map(square, range(0, 20)))\n",
    "print(myMap)\n",
    "\n",
    "myFilter = list(filter(square, range(0, 20)))\n",
    "print(myFilter)"
   ]
  },
  {
   "cell_type": "code",
   "execution_count": 3,
   "metadata": {},
   "outputs": [
    {
     "name": "stdout",
     "output_type": "stream",
     "text": [
      "[False, False, False, False, False, False, False, False, True, True, True, False, False, False, False, False, False, False, False, False]\n",
      "[8, 9, 10]\n"
     ]
    }
   ],
   "source": [
    "myMap = list(map(lambda num : pow(num, 2)>50 and pow(num, 2)<=100, range(0, 20)))\n",
    "print(myMap)\n",
    "\n",
    "myFilter = list(filter(lambda num : pow(num, 2)>50 and pow(num, 2)<=100, range(0, 20)))\n",
    "print(myFilter)"
   ]
  },
  {
   "cell_type": "markdown",
   "metadata": {},
   "source": [
    "# filter\n",
    "### filter(function, input)"
   ]
  },
  {
   "cell_type": "code",
   "execution_count": 2,
   "metadata": {},
   "outputs": [
    {
     "name": "stdout",
     "output_type": "stream",
     "text": [
      "[2, 6, 8]\n"
     ]
    }
   ],
   "source": [
    "def is_even(n):\n",
    "    if n%2 == 0:\n",
    "        return n\n",
    "    \n",
    "nums = [3, 2, 5, 6, 9, 8]\n",
    "\n",
    "evens = list(filter(is_even, nums))\n",
    "\n",
    "print(evens)"
   ]
  },
  {
   "cell_type": "code",
   "execution_count": 11,
   "metadata": {},
   "outputs": [
    {
     "name": "stdout",
     "output_type": "stream",
     "text": [
      "[2, 4, 6]\n"
     ]
    }
   ],
   "source": [
    "print(list(filter(lambda num: num%2 == 0, myNums)))"
   ]
  },
  {
   "cell_type": "code",
   "execution_count": 3,
   "metadata": {},
   "outputs": [
    {
     "name": "stdout",
     "output_type": "stream",
     "text": [
      "1\n",
      "2\n",
      "3\n"
     ]
    }
   ],
   "source": [
    "def square(num):\n",
    "    if num<4:\n",
    "        return num\n",
    "\n",
    "my_nums = [1, 2, 3, 4, 5]\n",
    "    \n",
    "for value in filter(square, my_nums):\n",
    "    print(value)  "
   ]
  },
  {
   "cell_type": "code",
   "execution_count": 10,
   "metadata": {},
   "outputs": [
    {
     "name": "stdout",
     "output_type": "stream",
     "text": [
      "1\n",
      "2\n",
      "3\n"
     ]
    }
   ],
   "source": [
    "my_nums = [1, 2, 3, 4, 5]\n",
    "    \n",
    "for value in filter(lambda my_nums:my_nums<4, my_nums):\n",
    "    print(value)  "
   ]
  },
  {
   "cell_type": "code",
   "execution_count": 5,
   "metadata": {},
   "outputs": [
    {
     "name": "stdout",
     "output_type": "stream",
     "text": [
      "[8, 9, 10]\n"
     ]
    }
   ],
   "source": [
    "def square(num):\n",
    "    return pow(num, 2)>50 and pow(num, 2)<=100\n",
    "\n",
    "myFilter = list(filter(square, range(0, 20)))\n",
    "print(myFilter)"
   ]
  },
  {
   "cell_type": "code",
   "execution_count": 12,
   "metadata": {},
   "outputs": [
    {
     "name": "stdout",
     "output_type": "stream",
     "text": [
      "[8, 9, 10]\n"
     ]
    }
   ],
   "source": [
    "myFilter = list(filter(lambda x:(pow(x, 2)>50 and pow(x, 2)<=100), range(0, 20)))\n",
    "print(myFilter)"
   ]
  },
  {
   "cell_type": "markdown",
   "metadata": {},
   "source": [
    "# Difference between map and filter"
   ]
  },
  {
   "cell_type": "code",
   "execution_count": 6,
   "metadata": {},
   "outputs": [
    {
     "name": "stdout",
     "output_type": "stream",
     "text": [
      "[True, False, True, False, True, False, True, False, True, False]\n",
      "[0, 2, 4, 6, 8]\n"
     ]
    }
   ],
   "source": [
    "def oddEven(num):\n",
    "    if num%2==0:\n",
    "        return True\n",
    "    else:\n",
    "        return False\n",
    "    \n",
    "print(list(map(oddEven, range(0,10))))\n",
    "print(list(filter(oddEven, range(0,10)))) "
   ]
  },
  {
   "cell_type": "code",
   "execution_count": 7,
   "metadata": {},
   "outputs": [
    {
     "name": "stdout",
     "output_type": "stream",
     "text": [
      "[0, 2, 4, 6, 8, 10, 12, 14, 16, 18]\n",
      "[1, 2, 3, 4, 5, 6, 7, 8, 9]\n"
     ]
    }
   ],
   "source": [
    "print(list(map(lambda var : var*2, range(0,10))))\n",
    "print(list(filter(lambda var : var*2, range(0,10))))"
   ]
  },
  {
   "cell_type": "code",
   "execution_count": 8,
   "metadata": {},
   "outputs": [
    {
     "name": "stdout",
     "output_type": "stream",
     "text": [
      "[True, False, True, False, True, False, True, False, True, False]\n",
      "[0, 2, 4, 6, 8]\n"
     ]
    }
   ],
   "source": [
    "print(list(map(lambda var : var%2==0, range(0,10))))\n",
    "print(list(filter(lambda var : var%2==0, range(0,10))))"
   ]
  },
  {
   "cell_type": "code",
   "execution_count": 9,
   "metadata": {},
   "outputs": [
    {
     "name": "stdout",
     "output_type": "stream",
     "text": [
      "[False, False, False, False, False, False, False, False, False, False, True, True, True, True, True, True, False, False, False, False, False]\n",
      "[50, 55, 60, 65, 70, 75]\n"
     ]
    }
   ],
   "source": [
    "print(list(map(lambda var : (var>=50 and var<80), range(0,101, 5))))\n",
    "print(list(filter(lambda var : (var>=50 and var<80), range(0,101, 5))))"
   ]
  }
 ],
 "metadata": {
  "kernelspec": {
   "display_name": "Python 3",
   "language": "python",
   "name": "python3"
  },
  "language_info": {
   "codemirror_mode": {
    "name": "ipython",
    "version": 3
   },
   "file_extension": ".py",
   "mimetype": "text/x-python",
   "name": "python",
   "nbconvert_exporter": "python",
   "pygments_lexer": "ipython3",
   "version": "3.7.4"
  }
 },
 "nbformat": 4,
 "nbformat_minor": 2
}
