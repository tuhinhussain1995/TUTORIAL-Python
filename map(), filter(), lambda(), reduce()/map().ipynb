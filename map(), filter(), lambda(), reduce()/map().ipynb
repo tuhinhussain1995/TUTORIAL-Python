{
 "cells": [
  {
   "cell_type": "markdown",
   "metadata": {},
   "source": [
    "## map and filter is used instead of for loop (when input data is so many)\n",
    "### map is used for output varification (map can take 2 or more arguments)\n",
    "### filter is used for input varification (filter can take exectaly 2  arguments)\n",
    "## lambda is used instead of creating function"
   ]
  },
  {
   "cell_type": "code",
   "execution_count": 5,
   "metadata": {},
   "outputs": [
    {
     "name": "stdout",
     "output_type": "stream",
     "text": [
      "[1, 4, 9, 16]\n",
      "[6, 8, 10, 12]\n",
      "[15, 18, 21, 24]\n"
     ]
    }
   ],
   "source": [
    "a = [1,2,3,4]\n",
    "b = [5,6,7,8]\n",
    "c = [9,10,11,12]\n",
    "\n",
    "print(list(map(lambda x:x**2, a)))\n",
    "print(list(map(lambda x,y:x+y,a,b)))\n",
    "print(list(map(lambda x,y,z:x+y+z,a,b,c)))"
   ]
  },
  {
   "cell_type": "markdown",
   "metadata": {},
   "source": [
    "### map() is a built-in Python function that takes in two or more arguments.\n",
    "### map(function, iterable, ...)\n",
    "### map() returns an iterator.\n",
    "### map() returns a special object that yields one result at a time as needed."
   ]
  },
  {
   "cell_type": "code",
   "execution_count": 1,
   "metadata": {},
   "outputs": [
    {
     "name": "stdout",
     "output_type": "stream",
     "text": [
      "<class 'map'>\n",
      "<class 'filter'>\n",
      "<class 'function'>\n"
     ]
    }
   ],
   "source": [
    "print(type(map(lambda x : pow(x,2), range(0,10))))\n",
    "print(type(filter(lambda x : pow(x,2), range(0,10))))\n",
    "print(type(lambda x : pow(x,2)))"
   ]
  },
  {
   "cell_type": "code",
   "execution_count": 13,
   "metadata": {},
   "outputs": [
    {
     "name": "stdout",
     "output_type": "stream",
     "text": [
      "[0, 1, 4, 9, 16, 25, 36, 49, 64, 81]\n",
      "[1, 2, 3, 4, 5, 6, 7, 8, 9]\n"
     ]
    }
   ],
   "source": [
    "print(list(map(lambda x : pow(x,2), range(0,10))))\n",
    "print(list(filter(lambda x : pow(x,2), range(0,10))))"
   ]
  },
  {
   "cell_type": "code",
   "execution_count": 2,
   "metadata": {},
   "outputs": [
    {
     "name": "stdout",
     "output_type": "stream",
     "text": [
      "[4, 9, 16]\n",
      "[4, 9, 16]\n",
      "[4, 9, 16]\n",
      "[2, 3, 4]\n"
     ]
    }
   ],
   "source": [
    "myNums = [2, 3, 4]\n",
    "\n",
    "def square(num):\n",
    "    return pow(num, 2)\n",
    "\n",
    "print(list(num**2 for num in myNums))\n",
    "print(list(map(square, myNums)))\n",
    "print(list(map(lambda var : pow(var,2), myNums)))\n",
    "print(list(filter(lambda var : pow(var,2), myNums)))"
   ]
  },
  {
   "cell_type": "markdown",
   "metadata": {},
   "source": [
    "### Most Important"
   ]
  },
  {
   "cell_type": "code",
   "execution_count": 4,
   "metadata": {},
   "outputs": [
    {
     "name": "stdout",
     "output_type": "stream",
     "text": [
      "[False, False, False, False, False, False, False, False, True, True, True, False, False, False, False, False, False, False, False, False]\n",
      "[8, 9, 10]\n"
     ]
    }
   ],
   "source": [
    "def square(num):\n",
    "    return pow(num, 2)>50 and pow(num, 2)<=100\n",
    "\n",
    "myMap = list(map(square, range(0, 20)))\n",
    "print(myMap)\n",
    "\n",
    "myFilter = list(filter(square, range(0, 20)))\n",
    "print(myFilter)"
   ]
  },
  {
   "cell_type": "code",
   "execution_count": 3,
   "metadata": {},
   "outputs": [
    {
     "name": "stdout",
     "output_type": "stream",
     "text": [
      "[False, False, False, False, False, False, False, False, True, True, True, False, False, False, False, False, False, False, False, False]\n",
      "[8, 9, 10]\n"
     ]
    }
   ],
   "source": [
    "myMap = list(map(lambda num : pow(num, 2)>50 and pow(num, 2)<=100, range(0, 20)))\n",
    "print(myMap)\n",
    "\n",
    "myFilter = list(filter(lambda num : pow(num, 2)>50 and pow(num, 2)<=100, range(0, 20)))\n",
    "print(myFilter)"
   ]
  },
  {
   "cell_type": "markdown",
   "metadata": {},
   "source": [
    "# Map\n",
    "### map(function, input)"
   ]
  },
  {
   "cell_type": "code",
   "execution_count": 23,
   "metadata": {},
   "outputs": [
    {
     "name": "stdout",
     "output_type": "stream",
     "text": [
      "[1, 4, 9, 16, 25]\n"
     ]
    }
   ],
   "source": [
    "def square(num):\n",
    "    return num**2\n",
    "\n",
    "my_nums = [1, 2, 3, 4, 5]\n",
    "\n",
    "myResult = list(map(square, my_nums))\n",
    "print(myResult)"
   ]
  },
  {
   "cell_type": "code",
   "execution_count": 24,
   "metadata": {},
   "outputs": [
    {
     "name": "stdout",
     "output_type": "stream",
     "text": [
      "[1, 4, 9, 16, 25]\n"
     ]
    }
   ],
   "source": [
    "my_nums = [1, 2, 3, 4, 5]\n",
    "\n",
    "myResult = list(map(lambda my_nums:my_nums**2, my_nums))\n",
    "print(myResult)"
   ]
  },
  {
   "cell_type": "code",
   "execution_count": 26,
   "metadata": {},
   "outputs": [
    {
     "name": "stdout",
     "output_type": "stream",
     "text": [
      "[False, True, False, True, False]\n"
     ]
    }
   ],
   "source": [
    "def square(num):\n",
    "    return num%2==0\n",
    "\n",
    "my_nums = [1, 2, 3, 4, 5]\n",
    "\n",
    "myResult = list(map(square, my_nums))\n",
    "print(myResult)"
   ]
  },
  {
   "cell_type": "code",
   "execution_count": 27,
   "metadata": {},
   "outputs": [
    {
     "name": "stdout",
     "output_type": "stream",
     "text": [
      "[False, True, False, True, False]\n"
     ]
    }
   ],
   "source": [
    "my_nums = [1, 2, 3, 4, 5]\n",
    "\n",
    "myResult = list(map(lambda my_nums:my_nums%2==0, my_nums))\n",
    "print(myResult)"
   ]
  },
  {
   "cell_type": "code",
   "execution_count": 2,
   "metadata": {},
   "outputs": [
    {
     "name": "stdout",
     "output_type": "stream",
     "text": [
      "[32.0, 72.5, 104.0, 212.0]\n"
     ]
    }
   ],
   "source": [
    "def fahrenheit(celsius):\n",
    "    return (9/5)*celsius + 32\n",
    "    \n",
    "temps = [0, 22.5, 40, 100]\n",
    "\n",
    "F_temps = list(map(fahrenheit, temps))\n",
    "print(F_temps)"
   ]
  },
  {
   "cell_type": "code",
   "execution_count": 3,
   "metadata": {},
   "outputs": [
    {
     "name": "stdout",
     "output_type": "stream",
     "text": [
      "[32.0, 72.5, 104.0, 212.0]\n"
     ]
    }
   ],
   "source": [
    "temps = [0, 22.5, 40, 100]\n",
    "\n",
    "print(list(map(lambda x: (9/5)*x + 32, temps)))"
   ]
  },
  {
   "cell_type": "code",
   "execution_count": 43,
   "metadata": {},
   "outputs": [
    {
     "name": "stdout",
     "output_type": "stream",
     "text": [
      "['EVEN', 'Odd', 'Odd']\n"
     ]
    }
   ],
   "source": [
    "def splicer(myString):\n",
    "    if len(myString)%2 == 0:\n",
    "        return 'EVEN'\n",
    "    else:\n",
    "        return 'Odd'\n",
    "    \n",
    "names = ['Andy', 'Eve', 'Sally']\n",
    "\n",
    "result = list(map(splicer, names))\n",
    "\n",
    "print(result)"
   ]
  },
  {
   "cell_type": "code",
   "execution_count": 42,
   "metadata": {},
   "outputs": [
    {
     "name": "stdout",
     "output_type": "stream",
     "text": [
      "['Even', 'Odd', 'Odd']\n"
     ]
    }
   ],
   "source": [
    "names = ['Andy', 'Eve', 'Sally']\n",
    "\n",
    "result = list(map(lambda names:('Even' if len(names)%2 == 0 else 'Odd'), names))\n",
    "\n",
    "print(result)"
   ]
  },
  {
   "cell_type": "markdown",
   "metadata": {},
   "source": [
    "## More than 2 input"
   ]
  },
  {
   "cell_type": "code",
   "execution_count": 4,
   "metadata": {},
   "outputs": [
    {
     "name": "stdout",
     "output_type": "stream",
     "text": [
      "[1, 4, 9, 16]\n",
      "[6, 8, 10, 12]\n",
      "[15, 18, 21, 24]\n"
     ]
    }
   ],
   "source": [
    "a = [1,2,3,4]\n",
    "b = [5,6,7,8]\n",
    "c = [9,10,11,12]\n",
    "\n",
    "print(list(map(lambda x:x**2, a)))\n",
    "print(list(map(lambda x,y:x+y,a,b)))\n",
    "print(list(map(lambda x,y,z:x+y+z,a,b,c)))"
   ]
  },
  {
   "cell_type": "markdown",
   "metadata": {},
   "source": [
    "### string, int, float"
   ]
  },
  {
   "cell_type": "code",
   "execution_count": 15,
   "metadata": {},
   "outputs": [
    {
     "name": "stdout",
     "output_type": "stream",
     "text": [
      "['1', '2', '3', '4', '5']\n"
     ]
    }
   ],
   "source": [
    "nums= [1,2,3,4,5]\n",
    "nums_string = list(map(str, nums))\n",
    "print(nums_string)"
   ]
  },
  {
   "cell_type": "code",
   "execution_count": 3,
   "metadata": {},
   "outputs": [
    {
     "name": "stdout",
     "output_type": "stream",
     "text": [
      "[1, 2, 3, 4, 5]\n"
     ]
    }
   ],
   "source": [
    "myString = ['1', '2', '3', '4', '5']\n",
    "myStringInt = list(map(int, myString))\n",
    "print(myStringInt)"
   ]
  },
  {
   "cell_type": "code",
   "execution_count": 4,
   "metadata": {},
   "outputs": [
    {
     "name": "stdout",
     "output_type": "stream",
     "text": [
      "[1.0, 2.0, 3.0, 4.0, 5.0]\n"
     ]
    }
   ],
   "source": [
    "myString = ['1', '2', '3', '4', '5']\n",
    "myStringFloat = list(map(float, myString))\n",
    "print(myStringFloat)"
   ]
  },
  {
   "cell_type": "markdown",
   "metadata": {},
   "source": [
    "# Difference between map and filter"
   ]
  },
  {
   "cell_type": "code",
   "execution_count": 16,
   "metadata": {},
   "outputs": [
    {
     "name": "stdout",
     "output_type": "stream",
     "text": [
      "[True, False, True, False, True, False, True, False, True, False]\n",
      "[0, 2, 4, 6, 8]\n"
     ]
    }
   ],
   "source": [
    "def oddEven(num):\n",
    "    if num%2==0:\n",
    "        return True\n",
    "    else:\n",
    "        return False\n",
    "    \n",
    "print(list(map(oddEven, range(0,10))))\n",
    "print(list(filter(oddEven, range(0,10)))) "
   ]
  },
  {
   "cell_type": "code",
   "execution_count": 17,
   "metadata": {},
   "outputs": [
    {
     "name": "stdout",
     "output_type": "stream",
     "text": [
      "[0, 2, 4, 6, 8, 10, 12, 14, 16, 18]\n",
      "[1, 2, 3, 4, 5, 6, 7, 8, 9]\n"
     ]
    }
   ],
   "source": [
    "print(list(map(lambda var : var*2, range(0,10))))\n",
    "print(list(filter(lambda var : var*2, range(0,10))))"
   ]
  },
  {
   "cell_type": "code",
   "execution_count": 18,
   "metadata": {},
   "outputs": [
    {
     "name": "stdout",
     "output_type": "stream",
     "text": [
      "[True, False, True, False, True, False, True, False, True, False]\n",
      "[0, 2, 4, 6, 8]\n"
     ]
    }
   ],
   "source": [
    "print(list(map(lambda var : var%2==0, range(0,10))))\n",
    "print(list(filter(lambda var : var%2==0, range(0,10))))"
   ]
  },
  {
   "cell_type": "code",
   "execution_count": 19,
   "metadata": {},
   "outputs": [
    {
     "name": "stdout",
     "output_type": "stream",
     "text": [
      "[False, False, False, False, False, False, False, False, False, False, True, True, True, True, True, True, False, False, False, False, False]\n",
      "[50, 55, 60, 65, 70, 75]\n"
     ]
    }
   ],
   "source": [
    "print(list(map(lambda var : (var>=50 and var<80), range(0,101, 5))))\n",
    "print(list(filter(lambda var : (var>=50 and var<80), range(0,101, 5))))"
   ]
  },
  {
   "cell_type": "markdown",
   "metadata": {},
   "source": [
    "## for map ==> with function/lambda we can use more than one condition(can use if, else)\n",
    "## for filter ==> with function/lambda we can use only one condition (can't use if, else)\n",
    "#### filter only can return input value."
   ]
  }
 ],
 "metadata": {
  "kernelspec": {
   "display_name": "Python 3",
   "language": "python",
   "name": "python3"
  },
  "language_info": {
   "codemirror_mode": {
    "name": "ipython",
    "version": 3
   },
   "file_extension": ".py",
   "mimetype": "text/x-python",
   "name": "python",
   "nbconvert_exporter": "python",
   "pygments_lexer": "ipython3",
   "version": "3.7.4"
  }
 },
 "nbformat": 4,
 "nbformat_minor": 2
}
