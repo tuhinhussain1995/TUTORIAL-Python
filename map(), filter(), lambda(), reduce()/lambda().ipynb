{
 "cells": [
  {
   "cell_type": "code",
   "execution_count": 2,
   "metadata": {},
   "outputs": [],
   "source": [
    "# Lambda/ anonymous function is a function that is defined without a name.\n",
    "\n",
    "# Lambda functions can have any number of arguments but only one expression. \n",
    "# The expression is evaluated and returned.\n",
    "\n",
    "# Lambda functions are used along with built-in functions like filter(), map()"
   ]
  },
  {
   "cell_type": "markdown",
   "metadata": {},
   "source": [
    "# map and filter is used instead of for loop (when input data is so many)\n",
    "### map is used for output varification (map can take 2 or more arguments)\n",
    "### filter is used for input varification (filter can take exectaly 2  arguments)\n",
    "# lambda is used instead of creating function"
   ]
  },
  {
   "cell_type": "code",
   "execution_count": 1,
   "metadata": {},
   "outputs": [
    {
     "name": "stdout",
     "output_type": "stream",
     "text": [
      "<class 'map'>\n",
      "<class 'filter'>\n",
      "<class 'function'>\n"
     ]
    }
   ],
   "source": [
    "print(type(map(lambda x : pow(x,2), range(0,10))))\n",
    "print(type(filter(lambda x : pow(x,2), range(0,10))))\n",
    "print(type(lambda x : pow(x,2)))"
   ]
  },
  {
   "cell_type": "code",
   "execution_count": 1,
   "metadata": {},
   "outputs": [
    {
     "name": "stdout",
     "output_type": "stream",
     "text": [
      "[0, 1, 4, 9, 16, 25, 36, 49, 64, 81]\n",
      "[1, 2, 3, 4, 5, 6, 7, 8, 9]\n"
     ]
    }
   ],
   "source": [
    "print(list(map(lambda x : pow(x,2), range(0,10))))\n",
    "print(list(filter(lambda x : pow(x,2), range(0,10))))"
   ]
  },
  {
   "cell_type": "code",
   "execution_count": 2,
   "metadata": {},
   "outputs": [
    {
     "name": "stdout",
     "output_type": "stream",
     "text": [
      "[4, 9, 16]\n",
      "[4, 9, 16]\n",
      "[4, 9, 16]\n",
      "[2, 3, 4]\n"
     ]
    }
   ],
   "source": [
    "myNums = [2, 3, 4]\n",
    "\n",
    "def square(num):\n",
    "    return pow(num, 2)\n",
    "\n",
    "print(list(num**2 for num in myNums))\n",
    "print(list(map(square, myNums)))\n",
    "print(list(map(lambda var : pow(var,2), myNums)))\n",
    "print(list(filter(lambda var : pow(var,2), myNums)))"
   ]
  },
  {
   "cell_type": "markdown",
   "metadata": {},
   "source": [
    "### Most Importatn"
   ]
  },
  {
   "cell_type": "code",
   "execution_count": 3,
   "metadata": {},
   "outputs": [
    {
     "name": "stdout",
     "output_type": "stream",
     "text": [
      "[False, False, False, False, False, False, False, False, True, True, True, False, False, False, False, False, False, False, False, False]\n",
      "[8, 9, 10]\n"
     ]
    }
   ],
   "source": [
    "def square(num):\n",
    "    return pow(num, 2)>50 and pow(num, 2)<=100\n",
    "\n",
    "myMap = list(map(square, range(0, 20)))\n",
    "print(myMap)\n",
    "\n",
    "myFilter = list(filter(square, range(0, 20)))\n",
    "print(myFilter)"
   ]
  },
  {
   "cell_type": "code",
   "execution_count": 4,
   "metadata": {},
   "outputs": [
    {
     "name": "stdout",
     "output_type": "stream",
     "text": [
      "[False, False, False, False, False, False, False, False, True, True, True, False, False, False, False, False, False, False, False, False]\n",
      "[8, 9, 10]\n"
     ]
    }
   ],
   "source": [
    "myMap = list(map(lambda num : pow(num, 2)>50 and pow(num, 2)<=100, range(0, 20)))\n",
    "print(myMap)\n",
    "\n",
    "myFilter = list(filter(lambda num : pow(num, 2)>50 and pow(num, 2)<=100, range(0, 20)))\n",
    "print(myFilter)"
   ]
  },
  {
   "cell_type": "markdown",
   "metadata": {},
   "source": [
    "# lambda\n",
    "### lambda input : output\n",
    "## or\n",
    "### lambda arguments: expression"
   ]
  },
  {
   "cell_type": "code",
   "execution_count": 1,
   "metadata": {},
   "outputs": [
    {
     "ename": "TypeError",
     "evalue": "'function' object is not iterable",
     "output_type": "error",
     "traceback": [
      "\u001b[1;31m---------------------------------------------------------------------------\u001b[0m",
      "\u001b[1;31mTypeError\u001b[0m                                 Traceback (most recent call last)",
      "\u001b[1;32m<ipython-input-1-978080ecddfd>\u001b[0m in \u001b[0;36m<module>\u001b[1;34m\u001b[0m\n\u001b[0;32m      1\u001b[0m \u001b[0mx\u001b[0m \u001b[1;33m=\u001b[0m \u001b[1;33m[\u001b[0m\u001b[1;36m3\u001b[0m\u001b[1;33m,\u001b[0m \u001b[1;36m4\u001b[0m\u001b[1;33m,\u001b[0m \u001b[1;36m5\u001b[0m\u001b[1;33m,\u001b[0m \u001b[1;36m6\u001b[0m\u001b[1;33m]\u001b[0m\u001b[1;33m\u001b[0m\u001b[1;33m\u001b[0m\u001b[0m\n\u001b[0;32m      2\u001b[0m \u001b[1;33m\u001b[0m\u001b[0m\n\u001b[1;32m----> 3\u001b[1;33m \u001b[0mf\u001b[0m \u001b[1;33m=\u001b[0m \u001b[0mlist\u001b[0m\u001b[1;33m(\u001b[0m\u001b[1;32mlambda\u001b[0m \u001b[0mx\u001b[0m\u001b[1;33m:\u001b[0m\u001b[0mx\u001b[0m\u001b[1;33m**\u001b[0m\u001b[1;36m2\u001b[0m\u001b[1;33m)\u001b[0m\u001b[1;33m\u001b[0m\u001b[1;33m\u001b[0m\u001b[0m\n\u001b[0m",
      "\u001b[1;31mTypeError\u001b[0m: 'function' object is not iterable"
     ]
    }
   ],
   "source": [
    "x = [3, 4, 5, 6]\n",
    "\n",
    "f = list(lambda x:x**2)"
   ]
  },
  {
   "cell_type": "code",
   "execution_count": 11,
   "metadata": {},
   "outputs": [
    {
     "name": "stdout",
     "output_type": "stream",
     "text": [
      "[9, 16, 25, 36]\n"
     ]
    }
   ],
   "source": [
    "myList = [3, 4, 5, 6]\n",
    "\n",
    "f = list(map(lambda x:x**2, myList))\n",
    "\n",
    "print(f)"
   ]
  },
  {
   "cell_type": "code",
   "execution_count": 14,
   "metadata": {},
   "outputs": [
    {
     "name": "stdout",
     "output_type": "stream",
     "text": [
      "[4, 6]\n"
     ]
    }
   ],
   "source": [
    "myList = [3, 4, 5, 6]\n",
    "\n",
    "f = list(filter(lambda x : x%2==0, myList))\n",
    "\n",
    "print(f)"
   ]
  },
  {
   "cell_type": "code",
   "execution_count": 5,
   "metadata": {},
   "outputs": [
    {
     "name": "stdout",
     "output_type": "stream",
     "text": [
      "9\n"
     ]
    }
   ],
   "source": [
    "square = lambda num: num**2\n",
    "\n",
    "print(square(3))"
   ]
  },
  {
   "cell_type": "code",
   "execution_count": 4,
   "metadata": {},
   "outputs": [
    {
     "name": "stdout",
     "output_type": "stream",
     "text": [
      "8\n"
     ]
    }
   ],
   "source": [
    "f = lambda a,b : a**b\n",
    "\n",
    "result = f(2, 3)\n",
    "\n",
    "print(result)"
   ]
  },
  {
   "cell_type": "code",
   "execution_count": 2,
   "metadata": {},
   "outputs": [
    {
     "name": "stdout",
     "output_type": "stream",
     "text": [
      "[6, 5, 4, 3]\n"
     ]
    }
   ],
   "source": [
    "myList = [3, 4, 5, 6]\n",
    "\n",
    "f = lambda s: s[::-1]\n",
    "\n",
    "result = f(myList)\n",
    "print(result)"
   ]
  },
  {
   "cell_type": "markdown",
   "metadata": {},
   "source": [
    "## map"
   ]
  },
  {
   "cell_type": "code",
   "execution_count": 15,
   "metadata": {},
   "outputs": [
    {
     "name": "stdout",
     "output_type": "stream",
     "text": [
      "[1, 4, 9, 16, 25, 36]\n"
     ]
    }
   ],
   "source": [
    "myNums = [1, 2, 3, 4, 5, 6]\n",
    "\n",
    "print(list(map(lambda num: num**2, myNums)))"
   ]
  },
  {
   "cell_type": "code",
   "execution_count": 16,
   "metadata": {},
   "outputs": [
    {
     "name": "stdout",
     "output_type": "stream",
     "text": [
      "['A', 'E', 'S']\n"
     ]
    }
   ],
   "source": [
    "names = ['Andy', 'Eve', 'Sally']\n",
    "\n",
    "print(list(map(lambda x:x[0], names)))"
   ]
  },
  {
   "cell_type": "code",
   "execution_count": 17,
   "metadata": {},
   "outputs": [
    {
     "name": "stdout",
     "output_type": "stream",
     "text": [
      "['ydnA', 'evE', 'yllaS']\n"
     ]
    }
   ],
   "source": [
    "names = ['Andy', 'Eve', 'Sally']\n",
    "\n",
    "print(list(map(lambda x:x[::-1], names)))"
   ]
  },
  {
   "cell_type": "code",
   "execution_count": 10,
   "metadata": {},
   "outputs": [
    {
     "name": "stdout",
     "output_type": "stream",
     "text": [
      "['ydnA', 'evE', 'yllaS']\n"
     ]
    }
   ],
   "source": [
    "names = ['Andy', 'Eve', 'Sally']\n",
    "\n",
    "print(list(map(lambda names:names[::-1], names)))"
   ]
  },
  {
   "cell_type": "code",
   "execution_count": 25,
   "metadata": {},
   "outputs": [
    {
     "name": "stdout",
     "output_type": "stream",
     "text": [
      "['Even', 'Odd', 'Odd']\n"
     ]
    }
   ],
   "source": [
    "names = ['Andy', 'Eve', 'Sally']\n",
    "\n",
    "result = list(map(lambda names:('Even' if len(names)%2 == 0 else 'Odd'), names))\n",
    "\n",
    "print(result)"
   ]
  },
  {
   "cell_type": "code",
   "execution_count": 5,
   "metadata": {},
   "outputs": [
    {
     "name": "stdout",
     "output_type": "stream",
     "text": [
      "[1, 4, 9, 16]\n",
      "[6, 8, 10, 12]\n",
      "[15, 18, 21, 24]\n"
     ]
    }
   ],
   "source": [
    "a = [1,2,3,4]\n",
    "b = [5,6,7,8]\n",
    "c = [9,10,11,12]\n",
    "\n",
    "print(list(map(lambda x:x**2, a)))\n",
    "print(list(map(lambda x,y:x+y,a,b)))\n",
    "print(list(map(lambda x,y,z:x+y+z,a,b,c)))"
   ]
  },
  {
   "cell_type": "code",
   "execution_count": 2,
   "metadata": {},
   "outputs": [
    {
     "name": "stdout",
     "output_type": "stream",
     "text": [
      "[47, 44, 65, 13]\n"
     ]
    }
   ],
   "source": [
    "myList1 = [47,11,42,13]\n",
    "myList2 = [12, 44, 65, 2]\n",
    "\n",
    "max_find = list(map(lambda a,b: a if (a > b) else b , myList1, myList2))\n",
    "print(max_find)"
   ]
  },
  {
   "cell_type": "markdown",
   "metadata": {},
   "source": [
    "## filter"
   ]
  },
  {
   "cell_type": "code",
   "execution_count": 7,
   "metadata": {},
   "outputs": [
    {
     "name": "stdout",
     "output_type": "stream",
     "text": [
      "[2, 4, 6]\n"
     ]
    }
   ],
   "source": [
    "print(list(filter(lambda num: num%2 == 0, myNums)))"
   ]
  },
  {
   "cell_type": "code",
   "execution_count": 24,
   "metadata": {},
   "outputs": [
    {
     "name": "stdout",
     "output_type": "stream",
     "text": [
      "1\n",
      "2\n",
      "3\n"
     ]
    }
   ],
   "source": [
    "def square(num):\n",
    "    if num<4:\n",
    "        return num\n",
    "\n",
    "my_nums = [1, 2, 3, 4, 5]\n",
    "    \n",
    "for value in filter(square, my_nums):\n",
    "    print(value)  "
   ]
  },
  {
   "cell_type": "code",
   "execution_count": 18,
   "metadata": {},
   "outputs": [
    {
     "name": "stdout",
     "output_type": "stream",
     "text": [
      "1\n",
      "2\n",
      "3\n"
     ]
    }
   ],
   "source": [
    "my_nums = [1, 2, 3, 4, 5]\n",
    "    \n",
    "for value in filter(lambda my_nums:my_nums<4, my_nums):\n",
    "    print(value)  "
   ]
  },
  {
   "cell_type": "code",
   "execution_count": 23,
   "metadata": {},
   "outputs": [
    {
     "name": "stdout",
     "output_type": "stream",
     "text": [
      "[8, 9, 10]\n"
     ]
    }
   ],
   "source": [
    "def square(num):\n",
    "    return pow(num, 2)>50 and pow(num, 2)<=100\n",
    "\n",
    "myFilter = list(filter(square, range(0, 20)))\n",
    "print(myFilter)"
   ]
  },
  {
   "cell_type": "code",
   "execution_count": 22,
   "metadata": {},
   "outputs": [
    {
     "name": "stdout",
     "output_type": "stream",
     "text": [
      "[8, 9, 10]\n"
     ]
    }
   ],
   "source": [
    "myFilter = list(filter(lambda x:(pow(x, 2)>50 and pow(x, 2)<=100), range(0, 20)))\n",
    "print(myFilter)"
   ]
  }
 ],
 "metadata": {
  "kernelspec": {
   "display_name": "Python 3",
   "language": "python",
   "name": "python3"
  },
  "language_info": {
   "codemirror_mode": {
    "name": "ipython",
    "version": 3
   },
   "file_extension": ".py",
   "mimetype": "text/x-python",
   "name": "python",
   "nbconvert_exporter": "python",
   "pygments_lexer": "ipython3",
   "version": "3.7.4"
  }
 },
 "nbformat": 4,
 "nbformat_minor": 2
}
