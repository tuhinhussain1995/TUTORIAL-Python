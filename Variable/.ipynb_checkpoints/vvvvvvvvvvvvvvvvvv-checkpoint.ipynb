{
 "cells": [
  {
   "cell_type": "markdown",
   "metadata": {},
   "source": [
    "# None ==> int, float, string, list, tuple, dict, set, range, zip, map, filter, function"
   ]
  },
  {
   "cell_type": "code",
   "execution_count": 17,
   "metadata": {},
   "outputs": [
    {
     "name": "stdout",
     "output_type": "stream",
     "text": [
      "None\n",
      "<class 'NoneType'>\n",
      "3\n",
      "<class 'int'>\n"
     ]
    }
   ],
   "source": [
    "myNone = None\n",
    "print(myNone)\n",
    "print(type(myNone))\n",
    "\n",
    "myNone = 3\n",
    "print(myNone)\n",
    "print(type(myNone))"
   ]
  },
  {
   "cell_type": "code",
   "execution_count": 16,
   "metadata": {},
   "outputs": [
    {
     "name": "stdout",
     "output_type": "stream",
     "text": [
      "None\n",
      "<class 'NoneType'>\n",
      "3.1416\n",
      "<class 'float'>\n"
     ]
    }
   ],
   "source": [
    "myNone = None\n",
    "print(myNone)\n",
    "print(type(myNone))\n",
    "\n",
    "myNone = 3.1416\n",
    "print(myNone)\n",
    "print(type(myNone))"
   ]
  },
  {
   "cell_type": "code",
   "execution_count": 15,
   "metadata": {},
   "outputs": [
    {
     "name": "stdout",
     "output_type": "stream",
     "text": [
      "None\n",
      "<class 'NoneType'>\n",
      "tuhin\n",
      "<class 'str'>\n"
     ]
    }
   ],
   "source": [
    "myNone = None\n",
    "print(myNone)\n",
    "print(type(myNone))\n",
    "\n",
    "myNone = 'tuhin'\n",
    "print(myNone)\n",
    "print(type(myNone))"
   ]
  },
  {
   "cell_type": "code",
   "execution_count": 14,
   "metadata": {},
   "outputs": [
    {
     "name": "stdout",
     "output_type": "stream",
     "text": [
      "None\n",
      "<class 'NoneType'>\n",
      "[1, 2, 3]\n",
      "<class 'list'>\n"
     ]
    }
   ],
   "source": [
    "myNone = None\n",
    "print(myNone)\n",
    "print(type(myNone))\n",
    "\n",
    "myNone = [1, 2, 3]             # same with dict, tuple and set\n",
    "print(myNone)\n",
    "print(type(myNone))"
   ]
  },
  {
   "cell_type": "code",
   "execution_count": 13,
   "metadata": {},
   "outputs": [
    {
     "name": "stdout",
     "output_type": "stream",
     "text": [
      "None\n",
      "<class 'NoneType'>\n",
      "range(0, 5)\n",
      "<class 'range'>\n"
     ]
    }
   ],
   "source": [
    "myNone = None\n",
    "print(myNone)\n",
    "print(type(myNone))\n",
    "\n",
    "myNone = range(5)\n",
    "print(myNone)\n",
    "print(type(myNone))"
   ]
  },
  {
   "cell_type": "code",
   "execution_count": 12,
   "metadata": {},
   "outputs": [
    {
     "name": "stdout",
     "output_type": "stream",
     "text": [
      "None\n",
      "<class 'NoneType'>\n",
      "<zip object at 0x000001E7DD03D888>\n",
      "<class 'zip'>\n"
     ]
    }
   ],
   "source": [
    "myNone = None\n",
    "print(myNone)\n",
    "print(type(myNone))\n",
    "\n",
    "myNone = zip(['a', 'b'], (1, 2))\n",
    "print(myNone)\n",
    "print(type(myNone))"
   ]
  },
  {
   "cell_type": "code",
   "execution_count": 20,
   "metadata": {},
   "outputs": [
    {
     "name": "stdout",
     "output_type": "stream",
     "text": [
      "None\n",
      "<class 'NoneType'>\n",
      "<zip object at 0x000001E7DD043208>\n",
      "<class 'zip'>\n"
     ]
    }
   ],
   "source": [
    "myNone = None\n",
    "print(myNone)\n",
    "print(type(myNone))\n",
    "\n",
    "myNone = zip(*({'a':1, 'b':2}.items()))\n",
    "print(myNone)\n",
    "print(type(myNone))"
   ]
  },
  {
   "cell_type": "code",
   "execution_count": 21,
   "metadata": {},
   "outputs": [
    {
     "name": "stdout",
     "output_type": "stream",
     "text": [
      "None\n",
      "<class 'NoneType'>\n",
      "<map object at 0x000001E7DD043388>\n",
      "<class 'map'>\n"
     ]
    }
   ],
   "source": [
    "myNone = None\n",
    "print(myNone)\n",
    "print(type(myNone))\n",
    "\n",
    "myNone = map(lambda x : pow(x,2), range(0,10))\n",
    "print(myNone)\n",
    "print(type(myNone))"
   ]
  },
  {
   "cell_type": "code",
   "execution_count": 22,
   "metadata": {},
   "outputs": [
    {
     "name": "stdout",
     "output_type": "stream",
     "text": [
      "None\n",
      "<class 'NoneType'>\n",
      "<filter object at 0x000001E7DD03D788>\n",
      "<class 'filter'>\n"
     ]
    }
   ],
   "source": [
    "myNone = None\n",
    "print(myNone)\n",
    "print(type(myNone))\n",
    "\n",
    "myNone = filter(lambda x : pow(x,2), range(0,10))\n",
    "print(myNone)\n",
    "print(type(myNone))"
   ]
  },
  {
   "cell_type": "code",
   "execution_count": 23,
   "metadata": {},
   "outputs": [
    {
     "name": "stdout",
     "output_type": "stream",
     "text": [
      "None\n",
      "<class 'NoneType'>\n",
      "<function <lambda> at 0x000001E7DD030D38>\n",
      "<class 'function'>\n"
     ]
    }
   ],
   "source": [
    "myNone = None\n",
    "print(myNone)\n",
    "print(type(myNone))\n",
    "\n",
    "myNone = lambda x : pow(x,2)\n",
    "print(myNone)\n",
    "print(type(myNone))"
   ]
  },
  {
   "cell_type": "markdown",
   "metadata": {},
   "source": [
    "# int ==> float, string"
   ]
  },
  {
   "cell_type": "markdown",
   "metadata": {},
   "source": [
    "### float"
   ]
  },
  {
   "cell_type": "code",
   "execution_count": 11,
   "metadata": {},
   "outputs": [
    {
     "name": "stdout",
     "output_type": "stream",
     "text": [
      "25.0\n",
      "<class 'float'>\n"
     ]
    }
   ],
   "source": [
    "myInt = 25\n",
    "\n",
    "myFloat = float(myInt)\n",
    "print(myFloat)\n",
    "print(type(myFloat))"
   ]
  },
  {
   "cell_type": "markdown",
   "metadata": {},
   "source": [
    "### string"
   ]
  },
  {
   "cell_type": "code",
   "execution_count": 12,
   "metadata": {},
   "outputs": [
    {
     "name": "stdout",
     "output_type": "stream",
     "text": [
      "25\n",
      "<class 'str'>\n"
     ]
    }
   ],
   "source": [
    "myInt = 25\n",
    "\n",
    "myString = str(myInt)\n",
    "print(myString)\n",
    "print(type(myString))"
   ]
  },
  {
   "cell_type": "markdown",
   "metadata": {},
   "source": [
    "# float ==> int, string"
   ]
  },
  {
   "cell_type": "markdown",
   "metadata": {},
   "source": [
    "### int"
   ]
  },
  {
   "cell_type": "code",
   "execution_count": 21,
   "metadata": {},
   "outputs": [
    {
     "name": "stdout",
     "output_type": "stream",
     "text": [
      "25\n",
      "<class 'int'>\n"
     ]
    }
   ],
   "source": [
    "myFloat = 25.50\n",
    "\n",
    "myInt = int(myFloat)\n",
    "print(myInt)\n",
    "print(type(myInt))"
   ]
  },
  {
   "cell_type": "markdown",
   "metadata": {},
   "source": [
    "### string"
   ]
  },
  {
   "cell_type": "code",
   "execution_count": 28,
   "metadata": {},
   "outputs": [
    {
     "name": "stdout",
     "output_type": "stream",
     "text": [
      "25.50\n",
      "<class 'str'>\n"
     ]
    }
   ],
   "source": [
    "myFloat = '25.50'\n",
    "\n",
    "myString = str(myFloat)\n",
    "print(myString)\n",
    "print(type(myString))"
   ]
  },
  {
   "cell_type": "markdown",
   "metadata": {},
   "source": [
    "# string ==> int, float\n",
    "#### int str ==> int\n",
    "#### float str ==> float ==> int"
   ]
  },
  {
   "cell_type": "markdown",
   "metadata": {},
   "source": [
    "### int"
   ]
  },
  {
   "cell_type": "code",
   "execution_count": 2,
   "metadata": {},
   "outputs": [
    {
     "name": "stdout",
     "output_type": "stream",
     "text": [
      "25\n",
      "<class 'int'>\n"
     ]
    }
   ],
   "source": [
    "# if string value is integer\n",
    "\n",
    "myString = '25' \n",
    "\n",
    "myInt = int(myString)             \n",
    "print(myInt)\n",
    "print(type(myInt))"
   ]
  },
  {
   "cell_type": "code",
   "execution_count": 1,
   "metadata": {},
   "outputs": [
    {
     "name": "stdout",
     "output_type": "stream",
     "text": [
      "25\n",
      "<class 'int'>\n"
     ]
    }
   ],
   "source": [
    "# if string value is float\n",
    "\n",
    "myString = '25.50' \n",
    "\n",
    "myFloat = float(myString)\n",
    "\n",
    "myInt = int(myFloat)                \n",
    "print(myInt)\n",
    "print(type(myInt))"
   ]
  },
  {
   "cell_type": "markdown",
   "metadata": {},
   "source": [
    "### float"
   ]
  },
  {
   "cell_type": "code",
   "execution_count": 19,
   "metadata": {},
   "outputs": [
    {
     "name": "stdout",
     "output_type": "stream",
     "text": [
      "25.5\n",
      "<class 'float'>\n"
     ]
    }
   ],
   "source": [
    "myString = '25.50'\n",
    "\n",
    "myFloat = float(myString)\n",
    "print(myFloat)\n",
    "print(type(myFloat))"
   ]
  },
  {
   "cell_type": "markdown",
   "metadata": {},
   "source": [
    "# List ==> Tuple, Dictionary, Set"
   ]
  },
  {
   "cell_type": "code",
   "execution_count": null,
   "metadata": {},
   "outputs": [],
   "source": []
  },
  {
   "cell_type": "markdown",
   "metadata": {},
   "source": [
    "### Tuple"
   ]
  },
  {
   "cell_type": "code",
   "execution_count": 1,
   "metadata": {},
   "outputs": [
    {
     "name": "stdout",
     "output_type": "stream",
     "text": [
      "<class 'tuple'>\n",
      "([1, 2, 3, 4],)\n"
     ]
    }
   ],
   "source": [
    "myList = [1, 2, 3, 4]\n",
    "myTuple = (myList,)                  # this is way of assaign one element tuple\n",
    "print(type(myTuple))\n",
    "print(myTuple)"
   ]
  },
  {
   "cell_type": "code",
   "execution_count": 2,
   "metadata": {},
   "outputs": [
    {
     "name": "stdout",
     "output_type": "stream",
     "text": [
      "<class 'tuple'>\n",
      "(1, 2, 3, 4)\n"
     ]
    }
   ],
   "source": [
    "myList = [1, 2, 3, 4]\n",
    "myTuple = tuple(myList)                  # this is way of assaign one element tuple\n",
    "print(type(myTuple))\n",
    "print(myTuple)"
   ]
  },
  {
   "cell_type": "code",
   "execution_count": null,
   "metadata": {},
   "outputs": [],
   "source": []
  },
  {
   "cell_type": "code",
   "execution_count": null,
   "metadata": {},
   "outputs": [],
   "source": []
  },
  {
   "cell_type": "code",
   "execution_count": null,
   "metadata": {},
   "outputs": [],
   "source": []
  },
  {
   "cell_type": "code",
   "execution_count": null,
   "metadata": {},
   "outputs": [],
   "source": []
  },
  {
   "cell_type": "code",
   "execution_count": null,
   "metadata": {},
   "outputs": [],
   "source": []
  },
  {
   "cell_type": "markdown",
   "metadata": {},
   "source": [
    "# Dictionary ==> List, Tuple, Set"
   ]
  },
  {
   "cell_type": "code",
   "execution_count": 32,
   "metadata": {},
   "outputs": [],
   "source": [
    "# myDict = {'tuhin': 1, 'sumon': 2, 'nazrul':3}\n",
    "\n",
    "    # myDict returns full dictionary.\n",
    "    \n",
    "    # list(myDict) returns list keys\n",
    "    # tuple(myDict) returns tuple keys\n",
    "    # set(myDict) returns set keys"
   ]
  },
  {
   "cell_type": "markdown",
   "metadata": {},
   "source": [
    "### tuple"
   ]
  },
  {
   "cell_type": "code",
   "execution_count": 9,
   "metadata": {},
   "outputs": [
    {
     "name": "stdout",
     "output_type": "stream",
     "text": [
      "('tuhin', 'sumon', 'nazrul')\n",
      "(('tuhin', 1), ('sumon', 2), ('nazrul', 3))\n",
      "('tuhin', 'sumon', 'nazrul')\n",
      "(1, 2, 3)\n"
     ]
    }
   ],
   "source": [
    "myDict = {'tuhin': 1, 'sumon': 2, 'nazrul':3}\n",
    "\n",
    "myTuple = tuple(myDict)                                  # dictionary name returns keys\n",
    "print(myTuple)\n",
    "\n",
    "myTuple = tuple(myDict.items())\n",
    "print(myTuple)\n",
    "\n",
    "myTuple = tuple(myDict.keys())\n",
    "print(myTuple)\n",
    "\n",
    "myTuple = tuple(myDict.values())\n",
    "print(myTuple)"
   ]
  },
  {
   "cell_type": "code",
   "execution_count": 31,
   "metadata": {},
   "outputs": [
    {
     "name": "stdout",
     "output_type": "stream",
     "text": [
      "({'tuhin': 1, 'sumon': 2, 'nazrul': 3},)\n",
      "(['tuhin', 'sumon', 'nazrul'],)\n",
      "([('tuhin', 1), ('sumon', 2), ('nazrul', 3)],)\n",
      "({'sumon', 'tuhin', 'nazrul'},)\n",
      "((1, 2, 3),)\n"
     ]
    }
   ],
   "source": [
    "myDict = {'tuhin': 1, 'sumon': 2, 'nazrul':3}\n",
    "\n",
    "myTuple = (myDict, )                     \n",
    "print(myTuple)\n",
    "\n",
    "myTuple = (list(myDict), )                     # dictionary name returns keys\n",
    "print(myTuple)\n",
    "\n",
    "myTuple = (list(myDict.items()), )\n",
    "print(myTuple)\n",
    "\n",
    "myTuple = (set(myDict.keys()), )\n",
    "print(myTuple)\n",
    "\n",
    "myTuple = (tuple(myDict.values()), )\n",
    "print(myTuple)"
   ]
  },
  {
   "cell_type": "markdown",
   "metadata": {},
   "source": [
    "### set"
   ]
  },
  {
   "cell_type": "code",
   "execution_count": 4,
   "metadata": {},
   "outputs": [
    {
     "name": "stdout",
     "output_type": "stream",
     "text": [
      "{'sumon', 'tuhin', 'nazrul'}\n",
      "{('sumon', 2), ('tuhin', 1), ('nazrul', 3)}\n",
      "{'sumon', 'tuhin', 'nazrul'}\n",
      "{1, 2, 3}\n"
     ]
    }
   ],
   "source": [
    "myDict = {'tuhin': 1, 'sumon': 2, 'nazrul':3}\n",
    "\n",
    "mySet = set(myDict)                              # dictionary name returns keys\n",
    "print(mySet)\n",
    "\n",
    "mySet = set(myDict.items())\n",
    "print(mySet)\n",
    "\n",
    "mySet = set(myDict.keys())\n",
    "print(mySet)\n",
    "\n",
    "mySet = set(myDict.values())\n",
    "print(mySet)"
   ]
  },
  {
   "cell_type": "code",
   "execution_count": 29,
   "metadata": {},
   "outputs": [
    {
     "name": "stdout",
     "output_type": "stream",
     "text": [
      "{('tuhin', 'sumon', 'nazrul')}\n",
      "{(('tuhin', 1), ('sumon', 2), ('nazrul', 3))}\n",
      "{('tuhin', 'sumon', 'nazrul')}\n",
      "{(1, 2, 3)}\n"
     ]
    }
   ],
   "source": [
    "myDict = {'tuhin': 1, 'sumon': 2, 'nazrul':3}\n",
    "\n",
    "mySet = {tuple(myDict)}                     # dictionary name returns keys\n",
    "print(mySet)\n",
    "\n",
    "mySet = {tuple(myDict.items())}\n",
    "print(mySet)\n",
    "\n",
    "mySet = {tuple(myDict.keys())}\n",
    "print(mySet)\n",
    "\n",
    "mySet = {tuple(myDict.values())}\n",
    "print(mySet)"
   ]
  }
 ],
 "metadata": {
  "kernelspec": {
   "display_name": "Python 3",
   "language": "python",
   "name": "python3"
  },
  "language_info": {
   "codemirror_mode": {
    "name": "ipython",
    "version": 3
   },
   "file_extension": ".py",
   "mimetype": "text/x-python",
   "name": "python",
   "nbconvert_exporter": "python",
   "pygments_lexer": "ipython3",
   "version": "3.7.4"
  }
 },
 "nbformat": 4,
 "nbformat_minor": 2
}
