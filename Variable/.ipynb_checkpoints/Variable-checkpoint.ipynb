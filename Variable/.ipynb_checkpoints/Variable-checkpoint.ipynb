{
 "cells": [
  {
   "cell_type": "code",
   "execution_count": 11,
   "metadata": {},
   "outputs": [
    {
     "name": "stdout",
     "output_type": "stream",
     "text": [
      "3\n",
      "5\n",
      "10\n",
      "6\n"
     ]
    }
   ],
   "source": [
    "a, b, c, d = 3, (a+2), (d+4), 6\n",
    "\n",
    "print(a)\n",
    "print(b)\n",
    "print(c)\n",
    "print(d)"
   ]
  },
  {
   "cell_type": "code",
   "execution_count": 12,
   "metadata": {},
   "outputs": [
    {
     "name": "stdout",
     "output_type": "stream",
     "text": [
      "1\n",
      "2\n",
      "3\n",
      "4\n"
     ]
    }
   ],
   "source": [
    "myList = [1, 2, 3, 4]\n",
    "a, b, c, d = myList\n",
    "\n",
    "print(a)\n",
    "print(b)\n",
    "print(c)\n",
    "print(d)"
   ]
  },
  {
   "cell_type": "code",
   "execution_count": 5,
   "metadata": {},
   "outputs": [
    {
     "name": "stdout",
     "output_type": "stream",
     "text": [
      "3.1416\n",
      "3.1416\n",
      "3.1416\n",
      "3.1416\n"
     ]
    }
   ],
   "source": [
    "myValue = 3.1416\n",
    "\n",
    "a = b = c = d = myValue\n",
    "print(a)\n",
    "print(b)\n",
    "print(c)\n",
    "print(d)"
   ]
  },
  {
   "cell_type": "code",
   "execution_count": 3,
   "metadata": {},
   "outputs": [
    {
     "name": "stdout",
     "output_type": "stream",
     "text": [
      "(2012, 12, 21)\n",
      "<class 'tuple'>\n",
      "21\n",
      "ACME\n",
      "(2012, 12, 21)\n"
     ]
    }
   ],
   "source": [
    "data = ['ACME', 50, 91.1, (2012, 12, 21)]\n",
    "\n",
    "name, shares, price, date = data\n",
    "print(date)\n",
    "print(type(date))\n",
    "\n",
    "name, shares, price, (y, m, d) = data\n",
    "print(d)\n",
    "\n",
    "_, shares, price, date = data      # _ calls the unpacking element\n",
    "print(_)\n",
    "\n",
    "_, shares, price, _ = data        # _ calls the unpacking element\n",
    "print(_)"
   ]
  },
  {
   "cell_type": "code",
   "execution_count": 1,
   "metadata": {},
   "outputs": [
    {
     "name": "stdout",
     "output_type": "stream",
     "text": [
      "tuhinhussain1995@gmail.com\n",
      "['0149379037', '01743535337']\n",
      "0149379037\n",
      "01743535337\n"
     ]
    }
   ],
   "source": [
    "record = ('tuhin', 'tuhinhussain1995@gmail.com', '0149379037', '01743535337')\n",
    "name, email, *phone_numbers = record\n",
    "\n",
    "print(email)\n",
    "print(phone_numbers)\n",
    "\n",
    "print(phone_numbers[0])\n",
    "print(phone_numbers[1])"
   ]
  },
  {
   "cell_type": "code",
   "execution_count": 2,
   "metadata": {},
   "outputs": [
    {
     "name": "stdout",
     "output_type": "stream",
     "text": [
      "['0149379037', '01743535337', 'a@gmail.com', 'b@yahoo.com', 'c@hotmail.com']\n",
      "tuhin\n",
      "['0149379037', '01743535337']\n",
      "['a@gmail.com', 'b@yahoo.com', 'c@hotmail.com']\n",
      "26\n"
     ]
    }
   ],
   "source": [
    "record = ('tuhin', '0149379037', '01743535337', 'a@gmail.com', 'b@yahoo.com', 'c@hotmail.com', 26)\n",
    "name, *phone_email, age = record\n",
    "phone = phone_email[0:2]\n",
    "email = phone_email[2:]\n",
    "\n",
    "print(phone_email)\n",
    "\n",
    "print(name)\n",
    "print(phone)\n",
    "print(email)\n",
    "print(age)"
   ]
  },
  {
   "cell_type": "code",
   "execution_count": 1,
   "metadata": {},
   "outputs": [
    {
     "name": "stdout",
     "output_type": "stream",
     "text": [
      "\t tuhin \t hussain \t 24 \t Male \t 1500\n",
      "\t sumon \t azharul \t 25 \t Male \t 2400\n",
      "\t nazrul \t islam \t 29 \t Male \t 2000\n"
     ]
    }
   ],
   "source": [
    "myFullList = [\n",
    "    ['tuhin', 'hussain', 24, 'Male', 1500],\n",
    "    ['sumon', 'azharul', 25, 'Male', 2400],\n",
    "    ['nazrul', 'islam', 29, 'Male', 2000],\n",
    "]\n",
    "\n",
    "for x in myFullList:\n",
    "    fn, ln, a, g, s = x\n",
    "    print('\\t', fn, '\\t', ln, '\\t', a, '\\t', g, '\\t', s)"
   ]
  },
  {
   "cell_type": "code",
   "execution_count": 2,
   "metadata": {},
   "outputs": [
    {
     "name": "stdout",
     "output_type": "stream",
     "text": [
      "\t tuhin \t hussain \t 24 \t Male \t 1500\n",
      "\t sumon \t azharul \t 25 \t Male \t 2400\n",
      "\t nazrul \t islam \t 29 \t Male \t 2000\n"
     ]
    }
   ],
   "source": [
    "myFullList = [\n",
    "    ['tuhin', 'hussain', 24, 'Male', 1500],\n",
    "    ['sumon', 'azharul', 25, 'Male', 2400],\n",
    "    ['nazrul', 'islam', 29, 'Male', 2000],\n",
    "]\n",
    "\n",
    "for fn, ln, a, g, s in myFullList:\n",
    "    print('\\t', fn, '\\t', ln, '\\t', a, '\\t', g, '\\t', s)"
   ]
  },
  {
   "cell_type": "code",
   "execution_count": 3,
   "metadata": {},
   "outputs": [
    {
     "name": "stdout",
     "output_type": "stream",
     "text": [
      "Enter the first name that you want to search:sumon\n",
      "\t sumon \t azharul \t 25 \t Male \t 2400\n"
     ]
    }
   ],
   "source": [
    "myFullList = [\n",
    "    ['tuhin', 'hussain', 24, 'Male', 1500],\n",
    "    ['sumon', 'azharul', 25, 'Male', 2400],\n",
    "    ['nazrul', 'islam', 29, 'Male', 2000],\n",
    "]\n",
    "\n",
    "name = str(input('Enter the first name that you want to search:'))\n",
    "\n",
    "for firstName, *others in myFullList:\n",
    "    if firstName == name:\n",
    "        ln, a, g, s = others\n",
    "        print('\\t', firstName, '\\t', ln, '\\t', a, '\\t', g, '\\t', s)"
   ]
  },
  {
   "cell_type": "markdown",
   "metadata": {},
   "source": [
    "# Variable value assigning"
   ]
  },
  {
   "cell_type": "code",
   "execution_count": 1,
   "metadata": {},
   "outputs": [
    {
     "name": "stdout",
     "output_type": "stream",
     "text": [
      "<class 'list'>\n",
      "<class 'dict'>\n",
      "<class 'tuple'>\n",
      "<class 'set'>\n",
      "<class 'str'>\n",
      "<class 'int'>\n",
      "<class 'float'>\n"
     ]
    }
   ],
   "source": [
    "# every variable has an unique memory address.\n",
    "\n",
    "myList = list()                   # list() create a new empty list\n",
    "print(type(myList))\n",
    "\n",
    "myDict = dict()                   # list() create a new empty dict\n",
    "print(type(myDict))\n",
    "\n",
    "myTuple = tuple()                 # list() create a new empty tuple\n",
    "print(type(myTuple))\n",
    "\n",
    "mySet = set()                     # list() create a new empty set\n",
    "print(type(mySet))\n",
    "\n",
    "myString = str()                  # list() create a new empty str\n",
    "print(type(myString))\n",
    "\n",
    "myInt = int()                     # list() create a new empty int\n",
    "print(type(myInt))\n",
    "\n",
    "myFloat = float()                 # list() create a new empty float\n",
    "print(type(myFloat))"
   ]
  },
  {
   "cell_type": "markdown",
   "metadata": {},
   "source": [
    "## Section - 1"
   ]
  },
  {
   "cell_type": "code",
   "execution_count": 11,
   "metadata": {},
   "outputs": [
    {
     "name": "stdout",
     "output_type": "stream",
     "text": [
      "4\n",
      "<class 'int'>\n",
      "3.1416\n",
      "<class 'float'>\n",
      "Tuhin\n",
      "<class 'str'>\n",
      "\n",
      "Tuhin\n",
      "<class 'str'>\n",
      "4\n",
      "<class 'int'>\n",
      "3.1416\n",
      "<class 'float'>\n"
     ]
    }
   ],
   "source": [
    "myInt = 4\n",
    "print(myInt)\n",
    "print(type(myInt))\n",
    "\n",
    "myFloat = 3.1416\n",
    "print(myFloat)\n",
    "print(type(myFloat))\n",
    "\n",
    "myString = 'Tuhin'\n",
    "print(myString)\n",
    "print(type(myString))\n",
    "\n",
    "print()\n",
    "\n",
    "myInt2 = int()\n",
    "myFloat2 = float()\n",
    "myString2 = str()\n",
    "\n",
    "myInt2 = myString\n",
    "print(myInt2)\n",
    "print(type(myInt2))\n",
    "\n",
    "myFloat2 = myInt\n",
    "print(myFloat2)\n",
    "print(type(myFloat2))\n",
    "\n",
    "myString2 = myFloat\n",
    "print(myString2)\n",
    "print(type(myString2))"
   ]
  },
  {
   "cell_type": "code",
   "execution_count": 12,
   "metadata": {},
   "outputs": [
    {
     "name": "stdout",
     "output_type": "stream",
     "text": [
      "4\n",
      "<class 'int'>\n",
      "3.1416\n",
      "<class 'float'>\n",
      "Tuhin\n",
      "<class 'str'>\n",
      "\n",
      "3\n",
      "<class 'int'>\n",
      "4.0\n",
      "<class 'float'>\n",
      "3.1416\n",
      "<class 'str'>\n"
     ]
    }
   ],
   "source": [
    "myInt = 4\n",
    "print(myInt)\n",
    "print(type(myInt))\n",
    "\n",
    "myFloat = 3.1416\n",
    "print(myFloat)\n",
    "print(type(myFloat))\n",
    "\n",
    "myString = 'Tuhin'\n",
    "print(myString)\n",
    "print(type(myString))\n",
    "\n",
    "print()\n",
    "\n",
    "\n",
    "myInt2 = int(myFloat)\n",
    "print(myInt2)\n",
    "print(type(myInt2))\n",
    "\n",
    "myFloat2 = float(myInt)\n",
    "print(myFloat2)\n",
    "print(type(myFloat2))\n",
    "\n",
    "myString2 = str(myFloat)\n",
    "print(myString2)\n",
    "print(type(myString2))"
   ]
  },
  {
   "cell_type": "markdown",
   "metadata": {},
   "source": [
    "## Section - 2"
   ]
  },
  {
   "cell_type": "code",
   "execution_count": 2,
   "metadata": {},
   "outputs": [
    {
     "name": "stdout",
     "output_type": "stream",
     "text": [
      "<class 'tuple'>\n",
      "<class 'set'>\n",
      "<class 'list'>\n",
      "<class 'dict'>\n"
     ]
    }
   ],
   "source": [
    "anotherList = [1, 2, 3, 4, 5]\n",
    "anotherDict = {'tuhin' : 343, 'nazrul' : 4533}\n",
    "anotherTuple = (3, 2, 5, 3, 6)\n",
    "anotherSet = {3, 2, 5, 3, 6}\n",
    "\n",
    "myList = []\n",
    "myDict = {}\n",
    "myTuple = ()\n",
    "mySet = set()\n",
    "\n",
    "myList = anotherTuple\n",
    "myDict = anotherSet\n",
    "myTuple = anotherList\n",
    "mySet = anotherDict\n",
    "\n",
    "print(type(myList))\n",
    "print(type(myDict))\n",
    "print(type(myTuple))\n",
    "print(type(mySet))"
   ]
  },
  {
   "cell_type": "code",
   "execution_count": 3,
   "metadata": {},
   "outputs": [
    {
     "name": "stdout",
     "output_type": "stream",
     "text": [
      "<class 'list'>\n",
      "<class 'dict'>\n",
      "<class 'tuple'>\n",
      "<class 'set'>\n"
     ]
    }
   ],
   "source": [
    "anotherList = [1, 2, 3, 4, 5]\n",
    "anotherDict = {'tuhin' : 343, 'nazrul' : 4533}\n",
    "anotherTuple = (3, 2, 5, 3, 6)\n",
    "anotherSet = {3, 2, 5, 3, 6}\n",
    "\n",
    "myList = []        # or myList = list()\n",
    "myDict = {}        # or myDict = dict()\n",
    "myTuple = ()       # or myTuple = tuple()\n",
    "mySet = set()\n",
    "\n",
    "myList = list(anotherTuple)\n",
    "myDict = dict(anotherDict)\n",
    "myTuple = tuple(anotherList)\n",
    "mySet = set(anotherDict.values())\n",
    "\n",
    "print(type(myList))\n",
    "print(type(myDict))\n",
    "print(type(myTuple))\n",
    "print(type(mySet))"
   ]
  },
  {
   "cell_type": "code",
   "execution_count": null,
   "metadata": {},
   "outputs": [],
   "source": []
  },
  {
   "cell_type": "code",
   "execution_count": null,
   "metadata": {},
   "outputs": [],
   "source": []
  },
  {
   "cell_type": "code",
   "execution_count": null,
   "metadata": {},
   "outputs": [],
   "source": []
  },
  {
   "cell_type": "code",
   "execution_count": null,
   "metadata": {},
   "outputs": [],
   "source": []
  }
 ],
 "metadata": {
  "kernelspec": {
   "display_name": "Python 3",
   "language": "python",
   "name": "python3"
  },
  "language_info": {
   "codemirror_mode": {
    "name": "ipython",
    "version": 3
   },
   "file_extension": ".py",
   "mimetype": "text/x-python",
   "name": "python",
   "nbconvert_exporter": "python",
   "pygments_lexer": "ipython3",
   "version": "3.7.4"
  }
 },
 "nbformat": 4,
 "nbformat_minor": 2
}
