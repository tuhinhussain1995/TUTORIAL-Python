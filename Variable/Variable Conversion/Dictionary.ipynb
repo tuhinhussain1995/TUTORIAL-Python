{
 "cells": [
  {
   "cell_type": "markdown",
   "metadata": {},
   "source": [
    "# Dict ==> List"
   ]
  },
  {
   "cell_type": "code",
   "execution_count": 1,
   "metadata": {},
   "outputs": [
    {
     "name": "stdout",
     "output_type": "stream",
     "text": [
      "[('apple', 'orange', 'milk'), (2.99, 2.15, 2.8)]\n",
      "\n",
      "('apple', 'orange', 'milk')\n",
      "['apple', 'orange', 'milk']\n",
      "\n",
      "(2.99, 2.15, 2.8)\n",
      "[2.99, 2.15, 2.8]\n"
     ]
    }
   ],
   "source": [
    "price = {'apple' : 2.99, 'orange' : 2.15, 'milk' : 2.80}\n",
    "\n",
    "newList = list(zip(*(price.items())))           # unzipping\n",
    "print(newList)\n",
    "\n",
    "print()\n",
    "\n",
    "print(newList[0])\n",
    "print(list(newList[0]))\n",
    "\n",
    "print()\n",
    "\n",
    "print(newList[1])\n",
    "print(list(newList[1]))"
   ]
  },
  {
   "cell_type": "code",
   "execution_count": 2,
   "metadata": {},
   "outputs": [
    {
     "name": "stdout",
     "output_type": "stream",
     "text": [
      "[('apple', 2.99), ('orange', 2.15), ('milk', 2.8)]\n",
      "['apple', 'orange', 'milk']\n",
      "[2.99, 2.15, 2.8]\n"
     ]
    }
   ],
   "source": [
    "price = {'apple' : 2.99, 'orange' : 2.15, 'milk' : 2.80}\n",
    "\n",
    "myList1 = list(price.items())\n",
    "print(myList1)\n",
    "\n",
    "myList2 = list(price.keys())\n",
    "print(myList2)\n",
    "\n",
    "myList3 = list(price.values())\n",
    "print(myList3)"
   ]
  },
  {
   "cell_type": "code",
   "execution_count": 3,
   "metadata": {},
   "outputs": [
    {
     "name": "stdout",
     "output_type": "stream",
     "text": [
      "2.75\n",
      "6.15\n"
     ]
    }
   ],
   "source": [
    "myDict = {'rice': 3.50, 'dal': 5.9}\n",
    "\n",
    "print(myDict['rice'] - .75)\n",
    "print(myDict['dal'] +.25)"
   ]
  },
  {
   "cell_type": "markdown",
   "metadata": {},
   "source": [
    "# Dict ==> Tuple"
   ]
  },
  {
   "cell_type": "code",
   "execution_count": 5,
   "metadata": {},
   "outputs": [
    {
     "name": "stdout",
     "output_type": "stream",
     "text": [
      "(('apple', 'orange', 'milk'), (2.99, 2.15, 2.8))\n",
      "\n",
      "('apple', 'orange', 'milk')\n",
      "(2.99, 2.15, 2.8)\n"
     ]
    }
   ],
   "source": [
    "price = {'apple' : 2.99, 'orange' : 2.15, 'milk' : 2.80}\n",
    "\n",
    "newTuple = tuple(zip(*(price.items())))           # unzipping\n",
    "print(newTuple)\n",
    "\n",
    "print()\n",
    "\n",
    "print(newTuple[0])\n",
    "print(newTuple[1])"
   ]
  },
  {
   "cell_type": "code",
   "execution_count": 4,
   "metadata": {},
   "outputs": [
    {
     "name": "stdout",
     "output_type": "stream",
     "text": [
      "[('apple', 2.99), ('orange', 2.15), ('milk', 2.8)]\n",
      "(('apple', 2.99), ('orange', 2.15), ('milk', 2.8))\n",
      "\n",
      "['apple', 'orange', 'milk']\n",
      "('apple', 'orange', 'milk')\n",
      "\n",
      "[2.99, 2.15, 2.8]\n",
      "(2.99, 2.15, 2.8)\n"
     ]
    }
   ],
   "source": [
    "price = {'apple' : 2.99, 'orange' : 2.15, 'milk' : 2.80}\n",
    "\n",
    "myTuple1 = tuple(price.items())\n",
    "print(myList1)\n",
    "print(tuple(myList1))\n",
    "\n",
    "print()\n",
    "\n",
    "myTuple2 = tuple(price.keys())\n",
    "print(myList2)\n",
    "print(tuple(myList2))\n",
    "\n",
    "print()\n",
    "\n",
    "myTuple3 = tuple(price.values())\n",
    "print(myList3)\n",
    "print(tuple(myList3))"
   ]
  },
  {
   "cell_type": "markdown",
   "metadata": {},
   "source": [
    "# Dictionary to Set\n",
    "### Set doesn't support indexing and slicing"
   ]
  },
  {
   "cell_type": "code",
   "execution_count": 18,
   "metadata": {},
   "outputs": [
    {
     "name": "stdout",
     "output_type": "stream",
     "text": [
      "{('apple', 'orange', 'milk'), (2.99, 2.15, 2.8)}\n",
      "[2.99, 2.15, 2.8]\n",
      "{2.99, 2.15, 2.8}\n",
      "\n",
      "[]\n",
      "set()\n"
     ]
    }
   ],
   "source": [
    "price = {'apple' : 2.99, 'orange' : 2.15, 'milk' : 2.80}\n",
    "\n",
    "newSet = set(zip(*(price.items())))           # unzipping\n",
    "print(newSet)\n",
    "\n",
    "newSetKeys=[]\n",
    "newSetValues=[]\n",
    "\n",
    "process = 0\n",
    "for x in newSet:\n",
    "    process += 1\n",
    "    \n",
    "    if process == 0:\n",
    "        newSetValues = list(x)\n",
    "    else:\n",
    "        newSetKeys = list(x)\n",
    "        \n",
    "print(newSetKeys)\n",
    "print(set(newSetKeys))\n",
    "\n",
    "print()\n",
    "\n",
    "print(newSetValues)\n",
    "print(set(newSetValues))"
   ]
  },
  {
   "cell_type": "code",
   "execution_count": 7,
   "metadata": {},
   "outputs": [
    {
     "name": "stdout",
     "output_type": "stream",
     "text": [
      "{('apple', 2.99), ('milk', 2.8), ('orange', 2.15)}\n",
      "\n",
      "{'milk', 'apple', 'orange'}\n",
      "\n",
      "{2.99, 2.15, 2.8}\n",
      "{2.99, 2.15, 2.8}\n"
     ]
    }
   ],
   "source": [
    "price = {'apple' : 2.99, 'orange' : 2.15, 'milk' : 2.80}\n",
    "\n",
    "mySet1 = set(price.items())\n",
    "print(mySet1)\n",
    "\n",
    "print()\n",
    "\n",
    "mySet2 = set(price.keys())\n",
    "print(mySet2)\n",
    "\n",
    "print()\n",
    "\n",
    "mySet3 = set(price.values())\n",
    "print(mySet3)\n",
    "print(set(mySet3))"
   ]
  },
  {
   "cell_type": "code",
   "execution_count": null,
   "metadata": {},
   "outputs": [],
   "source": []
  },
  {
   "cell_type": "code",
   "execution_count": null,
   "metadata": {},
   "outputs": [],
   "source": []
  },
  {
   "cell_type": "code",
   "execution_count": null,
   "metadata": {},
   "outputs": [],
   "source": []
  },
  {
   "cell_type": "code",
   "execution_count": null,
   "metadata": {},
   "outputs": [],
   "source": []
  }
 ],
 "metadata": {
  "kernelspec": {
   "display_name": "Python 3",
   "language": "python",
   "name": "python3"
  },
  "language_info": {
   "codemirror_mode": {
    "name": "ipython",
    "version": 3
   },
   "file_extension": ".py",
   "mimetype": "text/x-python",
   "name": "python",
   "nbconvert_exporter": "python",
   "pygments_lexer": "ipython3",
   "version": "3.7.4"
  }
 },
 "nbformat": 4,
 "nbformat_minor": 2
}
