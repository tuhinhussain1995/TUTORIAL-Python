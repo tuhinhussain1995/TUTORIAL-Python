{
 "cells": [
  {
   "cell_type": "code",
   "execution_count": null,
   "metadata": {},
   "outputs": [],
   "source": []
  },
  {
   "cell_type": "code",
   "execution_count": null,
   "metadata": {},
   "outputs": [],
   "source": []
  },
  {
   "cell_type": "markdown",
   "metadata": {},
   "source": [
    "### list ==> string (single)"
   ]
  },
  {
   "cell_type": "code",
   "execution_count": 6,
   "metadata": {},
   "outputs": [
    {
     "name": "stdout",
     "output_type": "stream",
     "text": [
      "<class 'str'>\n",
      "hello\n"
     ]
    }
   ],
   "source": [
    "myList = ['h', 'e', 'l', 'l', 'o']\n",
    "my_str = ''.join(myList)\n",
    "print(type(my_str))\n",
    "print(my_str)"
   ]
  },
  {
   "cell_type": "code",
   "execution_count": 5,
   "metadata": {},
   "outputs": [
    {
     "name": "stdout",
     "output_type": "stream",
     "text": [
      "<class 'str'>\n",
      "1234\n"
     ]
    }
   ],
   "source": [
    "myList = ['1', '2', '3', '4']\n",
    "myString = ''.join(myList)\n",
    "print(type(myString))\n",
    "print(myString)"
   ]
  },
  {
   "cell_type": "code",
   "execution_count": 7,
   "metadata": {},
   "outputs": [
    {
     "name": "stdout",
     "output_type": "stream",
     "text": [
      "<class 'str'>\n",
      "1234\n"
     ]
    }
   ],
   "source": [
    "myList = [1, 2, 3, 4]\n",
    "myString = ''.join(str(num) for num in myList)\n",
    "\n",
    "print(type(myString))\n",
    "print(myString)"
   ]
  },
  {
   "cell_type": "markdown",
   "metadata": {},
   "source": [
    "# List ==> List"
   ]
  },
  {
   "cell_type": "markdown",
   "metadata": {},
   "source": [
    "### int list ==> float list"
   ]
  },
  {
   "cell_type": "code",
   "execution_count": 17,
   "metadata": {},
   "outputs": [
    {
     "name": "stdout",
     "output_type": "stream",
     "text": [
      "[1.0, 2.0, 3.0, 4.0, 5.0]\n"
     ]
    }
   ],
   "source": [
    "nums= [1,2,3,4,5]\n",
    "nums_string = list(map(float, nums))\n",
    "print(nums_string)"
   ]
  },
  {
   "cell_type": "code",
   "execution_count": 12,
   "metadata": {},
   "outputs": [
    {
     "name": "stdout",
     "output_type": "stream",
     "text": [
      "[1.0, 2.0, 3.0, 4.0, 5.0]\n"
     ]
    }
   ],
   "source": [
    "nums= [1,2,3,4,5]\n",
    "nums_string = list(float(x) for x in nums)\n",
    "print(nums_string)"
   ]
  },
  {
   "cell_type": "markdown",
   "metadata": {},
   "source": [
    "### int list ==> string list"
   ]
  },
  {
   "cell_type": "code",
   "execution_count": 18,
   "metadata": {},
   "outputs": [
    {
     "name": "stdout",
     "output_type": "stream",
     "text": [
      "['1', '2', '3', '4', '5']\n"
     ]
    }
   ],
   "source": [
    "nums= [1,2,3,4,5]\n",
    "nums_string = list(map(str, nums))\n",
    "print(nums_string)"
   ]
  },
  {
   "cell_type": "code",
   "execution_count": 11,
   "metadata": {},
   "outputs": [
    {
     "name": "stdout",
     "output_type": "stream",
     "text": [
      "['1', '2', '3', '4', '5']\n"
     ]
    }
   ],
   "source": [
    "nums= [1,2,3,4,5]\n",
    "nums_string = list(str(x) for x in nums)\n",
    "print(nums_string)"
   ]
  },
  {
   "cell_type": "markdown",
   "metadata": {},
   "source": [
    "### float list ==> int list"
   ]
  },
  {
   "cell_type": "code",
   "execution_count": 8,
   "metadata": {},
   "outputs": [
    {
     "name": "stdout",
     "output_type": "stream",
     "text": [
      "[1, 2, 3, 4, 5]\n"
     ]
    }
   ],
   "source": [
    "nums= [1.3, 2.6, 3.7 , 4.5, 5.9]\n",
    "nums_string = list(map(int, nums))\n",
    "print(nums_string)"
   ]
  },
  {
   "cell_type": "code",
   "execution_count": 10,
   "metadata": {},
   "outputs": [
    {
     "name": "stdout",
     "output_type": "stream",
     "text": [
      "[1, 2, 3, 4, 5]\n"
     ]
    }
   ],
   "source": [
    "nums= [1.3, 2.6, 3.7 , 4.5, 5.9]\n",
    "nums_string = list(int(x) for x in nums)\n",
    "print(nums_string)"
   ]
  },
  {
   "cell_type": "markdown",
   "metadata": {},
   "source": [
    "### float list ==> string list"
   ]
  },
  {
   "cell_type": "code",
   "execution_count": 6,
   "metadata": {},
   "outputs": [
    {
     "name": "stdout",
     "output_type": "stream",
     "text": [
      "['1.3', '2.6', '3.7', '4.5', '5.9']\n"
     ]
    }
   ],
   "source": [
    "nums= [1.3, 2.6, 3.7 , 4.5, 5.9]\n",
    "nums_string = list(map(str, nums))\n",
    "print(nums_string)"
   ]
  },
  {
   "cell_type": "code",
   "execution_count": 5,
   "metadata": {},
   "outputs": [
    {
     "name": "stdout",
     "output_type": "stream",
     "text": [
      "['1.3', '2.6', '3.7', '4.5', '5.9']\n"
     ]
    }
   ],
   "source": [
    "nums= [1.3, 2.6, 3.7 , 4.5, 5.9]\n",
    "nums_string = list(str(x) for x in nums)\n",
    "print(nums_string)"
   ]
  },
  {
   "cell_type": "markdown",
   "metadata": {},
   "source": [
    "### string list ==> int list"
   ]
  },
  {
   "cell_type": "code",
   "execution_count": 10,
   "metadata": {},
   "outputs": [
    {
     "name": "stdout",
     "output_type": "stream",
     "text": [
      "[1, 2, 3, 4, 5]\n"
     ]
    }
   ],
   "source": [
    "myString = ['1', '2', '3', '4', '5']\n",
    "myStringInt = list(map(int, myString))\n",
    "print(myStringInt)"
   ]
  },
  {
   "cell_type": "code",
   "execution_count": 3,
   "metadata": {},
   "outputs": [
    {
     "name": "stdout",
     "output_type": "stream",
     "text": [
      "[1, 2, 3, 4, 5]\n"
     ]
    }
   ],
   "source": [
    "myString = ['1', '2', '3', '4', '5']\n",
    "myStringInt = list(int(x) for x in myString)\n",
    "print(myStringInt)"
   ]
  },
  {
   "cell_type": "markdown",
   "metadata": {},
   "source": [
    "### string list ==> float list"
   ]
  },
  {
   "cell_type": "code",
   "execution_count": 9,
   "metadata": {},
   "outputs": [
    {
     "name": "stdout",
     "output_type": "stream",
     "text": [
      "[1.0, 2.0, 3.0, 4.0, 5.0]\n"
     ]
    }
   ],
   "source": [
    "myString = ['1', '2', '3', '4', '5']\n",
    "myStringFloat = list(map(float, myString))\n",
    "print(myStringFloat)"
   ]
  },
  {
   "cell_type": "code",
   "execution_count": 4,
   "metadata": {},
   "outputs": [
    {
     "name": "stdout",
     "output_type": "stream",
     "text": [
      "[1.0, 2.0, 3.0, 4.0, 5.0]\n"
     ]
    }
   ],
   "source": [
    "myString = ['1', '2', '3', '4', '5']\n",
    "myStringFloat = list(float(x) for x in myString)\n",
    "print(myStringFloat)"
   ]
  },
  {
   "cell_type": "markdown",
   "metadata": {},
   "source": [
    "# List ==> Dict"
   ]
  },
  {
   "cell_type": "code",
   "execution_count": 1,
   "metadata": {},
   "outputs": [
    {
     "name": "stdout",
     "output_type": "stream",
     "text": [
      "{'apple': 2.99, 'orange': 2.15, 'milk': 2.8}\n",
      "<class 'dict'>\n"
     ]
    }
   ],
   "source": [
    "listKeys = ['apple', 'orange', 'milk']\n",
    "listValues = [2.99, 2.15, 2.8]\n",
    "\n",
    "price = dict(zip(listKeys, listValues))\n",
    "\n",
    "print(price)\n",
    "print(type(price))"
   ]
  },
  {
   "cell_type": "code",
   "execution_count": 7,
   "metadata": {},
   "outputs": [
    {
     "name": "stdout",
     "output_type": "stream",
     "text": [
      "{'BN964': 'Tuhin', 'BQ315': 'Mhafuz'}\n",
      "<class 'dict'>\n"
     ]
    }
   ],
   "source": [
    "listKeys = ['BN964', 'Tuhin']\n",
    "listValues = ['BQ315', 'Mhafuz']\n",
    "\n",
    "price = dict([listKeys, listValues])\n",
    "\n",
    "print(price)\n",
    "print(type(price))"
   ]
  },
  {
   "cell_type": "code",
   "execution_count": 15,
   "metadata": {},
   "outputs": [
    {
     "name": "stdout",
     "output_type": "stream",
     "text": [
      "{'BN964': ['Tuhin', 24], 'BQ315': ['Mhafuz', 23]}\n"
     ]
    }
   ],
   "source": [
    "listKeys = ['BN964', 'Tuhin', 24]\n",
    "listValues = ['BQ315', 'Mhafuz', 23]\n",
    "\n",
    "myDict = {}\n",
    "myDict[listKeys[0]] = listKeys[1:]\n",
    "myDict[listValues[0]] = listValues[1:]\n",
    "\n",
    "print(myDict)"
   ]
  },
  {
   "cell_type": "code",
   "execution_count": null,
   "metadata": {},
   "outputs": [],
   "source": []
  },
  {
   "cell_type": "code",
   "execution_count": null,
   "metadata": {},
   "outputs": [],
   "source": []
  },
  {
   "cell_type": "code",
   "execution_count": null,
   "metadata": {},
   "outputs": [],
   "source": []
  },
  {
   "cell_type": "code",
   "execution_count": null,
   "metadata": {},
   "outputs": [],
   "source": []
  }
 ],
 "metadata": {
  "kernelspec": {
   "display_name": "Python 3",
   "language": "python",
   "name": "python3"
  },
  "language_info": {
   "codemirror_mode": {
    "name": "ipython",
    "version": 3
   },
   "file_extension": ".py",
   "mimetype": "text/x-python",
   "name": "python",
   "nbconvert_exporter": "python",
   "pygments_lexer": "ipython3",
   "version": "3.7.4"
  }
 },
 "nbformat": 4,
 "nbformat_minor": 2
}
