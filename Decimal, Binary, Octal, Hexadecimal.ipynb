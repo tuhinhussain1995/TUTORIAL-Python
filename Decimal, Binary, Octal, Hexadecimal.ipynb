{
 "cells": [
  {
   "cell_type": "markdown",
   "metadata": {},
   "source": [
    "## Decimal ==> Binary, Octal, Hexadecimal"
   ]
  },
  {
   "cell_type": "code",
   "execution_count": 1,
   "metadata": {},
   "outputs": [
    {
     "name": "stdout",
     "output_type": "stream",
     "text": [
      "0b11001\n",
      "25\n",
      "0o31\n",
      "25\n",
      "0x19\n",
      "25\n"
     ]
    }
   ],
   "source": [
    "print(bin(25))\n",
    "print(0b11001)      # 0b means binary\n",
    "\n",
    "print(oct(25))\n",
    "print(0o31)         # 0o means octal\n",
    "\n",
    "print(hex(25))\n",
    "print(0x19)         #0x means hexadecimal"
   ]
  },
  {
   "cell_type": "code",
   "execution_count": 2,
   "metadata": {},
   "outputs": [
    {
     "name": "stdout",
     "output_type": "stream",
     "text": [
      "295\n",
      "37\n",
      "266\n"
     ]
    }
   ],
   "source": [
    "print(0xFB + 0x2C)  \n",
    "print(0o25 + 0o17 + 0o01) \n",
    "print(0xFB + 0b10 + 0o15)   # Output: 266 (251 + 2 + 13)"
   ]
  },
  {
   "cell_type": "code",
   "execution_count": 1,
   "metadata": {},
   "outputs": [
    {
     "name": "stdout",
     "output_type": "stream",
     "text": [
      "0111\n",
      "<class 'str'>\n",
      "<class 'int'>\n"
     ]
    }
   ],
   "source": [
    "myDecimal = 7\n",
    "myBinary = \"{0:04b}\".format(myDecimal)\n",
    "\n",
    "print(myBinary)\n",
    "print(type(myBinary))\n",
    "\n",
    "myBinary = int(myBinary)\n",
    "print(type(myBinary))"
   ]
  },
  {
   "cell_type": "code",
   "execution_count": 7,
   "metadata": {},
   "outputs": [
    {
     "name": "stdout",
     "output_type": "stream",
     "text": [
      "1111\n",
      "0017\n",
      "000f\n"
     ]
    }
   ],
   "source": [
    "myDecimal = 15\n",
    "myBinary = \"{0:04b}\".format(myDecimal)\n",
    "myOctal = \"{0:04o}\".format(myDecimal)\n",
    "myHexa = \"{0:04x}\".format(myDecimal)\n",
    "\n",
    "print(myBinary)\n",
    "print(myOctal)\n",
    "print(myHexa)"
   ]
  },
  {
   "cell_type": "code",
   "execution_count": 3,
   "metadata": {},
   "outputs": [
    {
     "name": "stdout",
     "output_type": "stream",
     "text": [
      "DEC  ==>   BIN   ==> HEX  ==> OCT \n",
      "----------------------------------\n",
      "   0 ==> 00000000==> 0000 ==> 0000\n",
      "   1 ==> 00000001==> 0001 ==> 0001\n",
      "   2 ==> 00000010==> 0002 ==> 0002\n",
      "   3 ==> 00000011==> 0003 ==> 0003\n",
      "   4 ==> 00000100==> 0004 ==> 0004\n",
      "   5 ==> 00000101==> 0005 ==> 0005\n",
      "   6 ==> 00000110==> 0006 ==> 0006\n",
      "   7 ==> 00000111==> 0007 ==> 0007\n",
      "   8 ==> 00001000==> 0008 ==> 0010\n",
      "   9 ==> 00001001==> 0009 ==> 0011\n",
      "  10 ==> 00001010==> 000a ==> 0012\n",
      "  11 ==> 00001011==> 000b ==> 0013\n",
      "  12 ==> 00001100==> 000c ==> 0014\n",
      "  13 ==> 00001101==> 000d ==> 0015\n",
      "  14 ==> 00001110==> 000e ==> 0016\n",
      "  15 ==> 00001111==> 000f ==> 0017\n",
      "  16 ==> 00010000==> 0010 ==> 0020\n",
      "  17 ==> 00010001==> 0011 ==> 0021\n",
      "  18 ==> 00010010==> 0012 ==> 0022\n",
      "  19 ==> 00010011==> 0013 ==> 0023\n"
     ]
    }
   ],
   "source": [
    "print('{0:^4} ==> {1:^8}==> {2:^4} ==> {3:^4}'.format('DEC', 'BIN', 'HEX', 'OCT'))\n",
    "print('-' * 34)\n",
    "\n",
    "for i in range(20):\n",
    "    print('{0:>4} ==> {0:08b}==> {0:04x} ==> {0:04o}'.format(i))"
   ]
  },
  {
   "cell_type": "markdown",
   "metadata": {},
   "source": [
    "# literal_eval\n",
    "### used to convert Binary, Octal, Hexadecimal ====> Decimal"
   ]
  },
  {
   "cell_type": "code",
   "execution_count": 8,
   "metadata": {},
   "outputs": [
    {
     "name": "stdout",
     "output_type": "stream",
     "text": [
      "15\n",
      "15\n",
      "15\n"
     ]
    }
   ],
   "source": [
    "from ast import literal_eval \n",
    "\n",
    "myBinary = '0b1111'\n",
    "print(literal_eval(myBinary))        # Binary to Decimal\n",
    "\n",
    "myOctal = '0o17'\n",
    "print(literal_eval(myOctal))         # Octal to Decimal\n",
    "\n",
    "myHexa = '0xF'\n",
    "print(literal_eval(myHexa))          # Hexadecimal to Decimal"
   ]
  },
  {
   "cell_type": "markdown",
   "metadata": {},
   "source": [
    "## Binary ==> Decimal, Octal, Hexadecimal"
   ]
  },
  {
   "cell_type": "code",
   "execution_count": 16,
   "metadata": {},
   "outputs": [
    {
     "name": "stdout",
     "output_type": "stream",
     "text": [
      "15\n",
      "0017\n",
      "000f\n"
     ]
    }
   ],
   "source": [
    "from ast import literal_eval \n",
    "\n",
    "myBinary = '0b1111'\n",
    "\n",
    "myDecimal = literal_eval(myBinary)\n",
    "myOctal = \"{0:04o}\".format(myDecimal)\n",
    "myHexa = \"{0:04x}\".format(myDecimal)\n",
    "\n",
    "print(myDecimal)\n",
    "print(myOctal)\n",
    "print(myHexa)"
   ]
  },
  {
   "cell_type": "markdown",
   "metadata": {},
   "source": [
    "## Octal ==>Decimal, Binary,  Hexadecimal"
   ]
  },
  {
   "cell_type": "code",
   "execution_count": 15,
   "metadata": {},
   "outputs": [
    {
     "name": "stdout",
     "output_type": "stream",
     "text": [
      "15\n",
      "1111\n",
      "000f\n"
     ]
    }
   ],
   "source": [
    "from ast import literal_eval \n",
    "\n",
    "myOctal = '0o17'\n",
    "\n",
    "myDecimal = literal_eval(myOctal)\n",
    "myBinary = \"{0:04b}\".format(myDecimal)\n",
    "myHexa = \"{0:04x}\".format(myDecimal)\n",
    "\n",
    "print(myDecimal)\n",
    "print(myBinary)\n",
    "print(myHexa)"
   ]
  },
  {
   "cell_type": "markdown",
   "metadata": {},
   "source": [
    "## Hexadecimal ==> Decimal, Binary, Octal"
   ]
  },
  {
   "cell_type": "code",
   "execution_count": 14,
   "metadata": {},
   "outputs": [
    {
     "name": "stdout",
     "output_type": "stream",
     "text": [
      "15\n",
      "1111\n",
      "0017\n"
     ]
    }
   ],
   "source": [
    "from ast import literal_eval \n",
    "\n",
    "myHexa = '0xF'\n",
    "\n",
    "myDecimal = literal_eval(myHexa)\n",
    "myBinary = \"{0:04b}\".format(myDecimal)\n",
    "myOctal = \"{0:04o}\".format(myDecimal)\n",
    "\n",
    "print(myDecimal)\n",
    "print(myBinary)\n",
    "print(myOctal)"
   ]
  }
 ],
 "metadata": {
  "kernelspec": {
   "display_name": "Python 3",
   "language": "python",
   "name": "python3"
  },
  "language_info": {
   "codemirror_mode": {
    "name": "ipython",
    "version": 3
   },
   "file_extension": ".py",
   "mimetype": "text/x-python",
   "name": "python",
   "nbconvert_exporter": "python",
   "pygments_lexer": "ipython3",
   "version": "3.7.4"
  }
 },
 "nbformat": 4,
 "nbformat_minor": 2
}
