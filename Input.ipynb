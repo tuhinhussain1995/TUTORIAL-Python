{
 "cells": [
  {
   "cell_type": "markdown",
   "metadata": {},
   "source": [
    "# Input\n",
    "### Input data types are string"
   ]
  },
  {
   "cell_type": "code",
   "execution_count": 2,
   "metadata": {},
   "outputs": [
    {
     "name": "stdout",
     "output_type": "stream",
     "text": [
      "Please enter your name: tuhin\n",
      "tuhin, enter your age: 34\n",
      "tuhin, enter your gender: male\n",
      "tuhin, enter your salary: 343.3434\n",
      "<class 'str'>\n",
      "tuhin\n",
      "<class 'str'>\n",
      "34\n",
      "<class 'str'>\n",
      "m\n",
      "<class 'str'>\n",
      "343.3434\n"
     ]
    }
   ],
   "source": [
    "name = input('Please enter your name: ')\n",
    "age = input('{0}, enter your age: '.format(name))\n",
    "gender = input('{0}, enter your gender: '.format(name))[0]\n",
    "salary = input('{0}, enter your salary: '.format(name))\n",
    "\n",
    "print(type(name))\n",
    "print(name)\n",
    "print(type(age))\n",
    "print(age)\n",
    "print(type(gender))\n",
    "print(gender)\n",
    "print(type(salary))\n",
    "print(salary)"
   ]
  },
  {
   "cell_type": "code",
   "execution_count": 2,
   "metadata": {},
   "outputs": [
    {
     "name": "stdout",
     "output_type": "stream",
     "text": [
      "Please enter your name: tuhin\n",
      "tuhin, enter your age: 24\n",
      "tuhin, enter your gender: male\n",
      "tuhin, enter your salary: 4545\n",
      "<class 'str'>\n",
      "tuhin\n",
      "<class 'int'>\n",
      "24\n",
      "<class 'str'>\n",
      "M\n",
      "<class 'float'>\n",
      "4545.0\n"
     ]
    }
   ],
   "source": [
    "name = input('Please enter your name: ')\n",
    "age = int(input('{0}, enter your age: '.format(name)))\n",
    "gender = input('{0}, enter your gender: '.format(name))[0].upper()\n",
    "salary = float(input('{0}, enter your salary: '.format(name)))\n",
    "\n",
    "print(type(name))\n",
    "print(name)\n",
    "print(type(age))\n",
    "print(age)\n",
    "print(type(gender))\n",
    "print(gender)\n",
    "print(type(salary))\n",
    "print(salary)"
   ]
  },
  {
   "cell_type": "code",
   "execution_count": 3,
   "metadata": {},
   "outputs": [
    {
     "name": "stdout",
     "output_type": "stream",
     "text": [
      "Press enter to start\n",
      "Started\n",
      "Press enter to finish\n",
      "Finished\n"
     ]
    }
   ],
   "source": [
    "input('Press enter to start')\n",
    "print('Started')\n",
    "\n",
    "input('Press enter to finish')\n",
    "print('Finished') "
   ]
  },
  {
   "cell_type": "code",
   "execution_count": 4,
   "metadata": {},
   "outputs": [
    {
     "name": "stdout",
     "output_type": "stream",
     "text": [
      "\n",
      "Started...\n",
      "\n",
      "Finished\n"
     ]
    }
   ],
   "source": [
    "input()\n",
    "print('Started...')\n",
    "\n",
    "input()\n",
    "print('Finished')"
   ]
  },
  {
   "cell_type": "markdown",
   "metadata": {},
   "source": [
    "# int str ==> int"
   ]
  },
  {
   "cell_type": "code",
   "execution_count": 9,
   "metadata": {},
   "outputs": [
    {
     "name": "stdout",
     "output_type": "stream",
     "text": [
      "Guess a number between 1 to 100: 55\n",
      "<class 'int'>\n"
     ]
    }
   ],
   "source": [
    "myInput = int(input(\"Guess a number between 1 to 100: \"))\n",
    "print(type(myInput))"
   ]
  },
  {
   "cell_type": "markdown",
   "metadata": {},
   "source": [
    "# float str ==> int\n",
    "#### float str ==> float ==> int"
   ]
  },
  {
   "cell_type": "code",
   "execution_count": 6,
   "metadata": {},
   "outputs": [
    {
     "name": "stdout",
     "output_type": "stream",
     "text": [
      "Guess a number between 1 to 100: 50.3\n",
      "<class 'str'>\n"
     ]
    }
   ],
   "source": [
    "myInput = input(\"Guess a number between 1 to 100: \")\n",
    "print(type(myInput))"
   ]
  },
  {
   "cell_type": "code",
   "execution_count": 7,
   "metadata": {},
   "outputs": [
    {
     "name": "stdout",
     "output_type": "stream",
     "text": [
      "Guess a number between 1 to 100: 50.3\n"
     ]
    },
    {
     "ename": "ValueError",
     "evalue": "invalid literal for int() with base 10: '50.3'",
     "output_type": "error",
     "traceback": [
      "\u001b[1;31m---------------------------------------------------------------------------\u001b[0m",
      "\u001b[1;31mValueError\u001b[0m                                Traceback (most recent call last)",
      "\u001b[1;32m<ipython-input-7-d111313f8098>\u001b[0m in \u001b[0;36m<module>\u001b[1;34m\u001b[0m\n\u001b[0;32m      3\u001b[0m \u001b[1;31m#  \"50.30\"  ==> 50.30 ==> 50\u001b[0m\u001b[1;33m\u001b[0m\u001b[1;33m\u001b[0m\u001b[1;33m\u001b[0m\u001b[0m\n\u001b[0;32m      4\u001b[0m \u001b[1;33m\u001b[0m\u001b[0m\n\u001b[1;32m----> 5\u001b[1;33m \u001b[0mmyInput\u001b[0m \u001b[1;33m=\u001b[0m \u001b[0mint\u001b[0m\u001b[1;33m(\u001b[0m\u001b[0minput\u001b[0m\u001b[1;33m(\u001b[0m\u001b[1;34m\"Guess a number between 1 to 100: \"\u001b[0m\u001b[1;33m)\u001b[0m\u001b[1;33m)\u001b[0m\u001b[1;33m\u001b[0m\u001b[1;33m\u001b[0m\u001b[0m\n\u001b[0m\u001b[0;32m      6\u001b[0m \u001b[0mprint\u001b[0m\u001b[1;33m(\u001b[0m\u001b[0mtype\u001b[0m\u001b[1;33m(\u001b[0m\u001b[0mmyInput\u001b[0m\u001b[1;33m)\u001b[0m\u001b[1;33m)\u001b[0m\u001b[1;33m\u001b[0m\u001b[1;33m\u001b[0m\u001b[0m\n",
      "\u001b[1;31mValueError\u001b[0m: invalid literal for int() with base 10: '50.3'"
     ]
    }
   ],
   "source": [
    "# We can't directely convert float string to int.\n",
    "# float str ==> float ==> int\n",
    "#  \"50.30\"  ==> 50.30 ==> 50\n",
    "\n",
    "myInput = int(input(\"Guess a number between 1 to 100: \"))   \n",
    "print(type(myInput))"
   ]
  },
  {
   "cell_type": "code",
   "execution_count": 11,
   "metadata": {},
   "outputs": [
    {
     "name": "stdout",
     "output_type": "stream",
     "text": [
      "Guess a number between 1 to 100: 50.7\n",
      "<class 'int'>\n",
      "50\n"
     ]
    }
   ],
   "source": [
    "myInput = int(float(input(\"Guess a number between 1 to 100: \")))\n",
    "\n",
    "print(type(myInput))\n",
    "print(myInput)"
   ]
  },
  {
   "cell_type": "code",
   "execution_count": 12,
   "metadata": {},
   "outputs": [
    {
     "name": "stdout",
     "output_type": "stream",
     "text": [
      "Guess a number between 1 to 100: 50.7\n",
      "<class 'int'>\n",
      "51\n"
     ]
    }
   ],
   "source": [
    "myInput = round(float(input(\"Guess a number between 1 to 100: \")))\n",
    "\n",
    "print(type(myInput))\n",
    "print(myInput)"
   ]
  },
  {
   "cell_type": "markdown",
   "metadata": {},
   "source": [
    "# eval()"
   ]
  },
  {
   "cell_type": "code",
   "execution_count": 1,
   "metadata": {},
   "outputs": [
    {
     "name": "stdout",
     "output_type": "stream",
     "text": [
      "Enter first number: 10\n",
      "Enter second number: 20\n",
      "10\n",
      "<class 'str'>\n",
      "20\n",
      "<class 'str'>\n",
      "1020\n"
     ]
    }
   ],
   "source": [
    "x = input('Enter first number: ')\n",
    "y = input('Enter second number: ')\n",
    "\n",
    "print(x)\n",
    "print(type(x))\n",
    "\n",
    "print(y)\n",
    "print(type(y))\n",
    "\n",
    "print(x+y)"
   ]
  },
  {
   "cell_type": "code",
   "execution_count": 2,
   "metadata": {},
   "outputs": [
    {
     "name": "stdout",
     "output_type": "stream",
     "text": [
      "Enter first number: 10\n",
      "Enter second number: 20\n",
      "10\n",
      "<class 'int'>\n",
      "20\n",
      "<class 'int'>\n",
      "30\n"
     ]
    }
   ],
   "source": [
    "x = eval(input('Enter first number: '))\n",
    "y = eval(input('Enter second number: '))\n",
    "\n",
    "print(x)\n",
    "print(type(x))\n",
    "\n",
    "print(y)\n",
    "print(type(y))\n",
    "\n",
    "print(x+y)"
   ]
  },
  {
   "cell_type": "markdown",
   "metadata": {},
   "source": [
    "# How to allow char input?"
   ]
  },
  {
   "cell_type": "code",
   "execution_count": 5,
   "metadata": {},
   "outputs": [
    {
     "name": "stdout",
     "output_type": "stream",
     "text": [
      "r\n",
      "r\n",
      "W\n"
     ]
    }
   ],
   "source": [
    "print(\"Hello World\"[8])\n",
    "print(\"Hello World\"[-3])\n",
    "print(\"Hello World\"[-5])"
   ]
  },
  {
   "cell_type": "code",
   "execution_count": 6,
   "metadata": {},
   "outputs": [
    {
     "name": "stdout",
     "output_type": "stream",
     "text": [
      "Tuhin\n",
      "u\n",
      "h\n",
      "1\n",
      "4\n"
     ]
    }
   ],
   "source": [
    "name = 'Tuhin Hussain'[0:5]\n",
    "print(name)\n",
    "print(name[1])\n",
    "print(name[-3])\n",
    "\n",
    "print(name.index('u'))\n",
    "print(name.index('n'))"
   ]
  },
  {
   "cell_type": "code",
   "execution_count": 7,
   "metadata": {},
   "outputs": [
    {
     "name": "stdout",
     "output_type": "stream",
     "text": [
      "T\n",
      "H\n"
     ]
    }
   ],
   "source": [
    "myChar = 'Tuhin'[0]\n",
    "print(myChar)\n",
    "\n",
    "myString = 'Tuhin Hussain'\n",
    "newChar = myString[6]\n",
    "print(newChar)"
   ]
  },
  {
   "cell_type": "code",
   "execution_count": 8,
   "metadata": {},
   "outputs": [
    {
     "name": "stdout",
     "output_type": "stream",
     "text": [
      "Enter a char: abcd\n",
      "a\n",
      "<class 'str'>\n",
      "Enter a char: abcd\n",
      "b\n"
     ]
    }
   ],
   "source": [
    "ch = input(\"Enter a char: \")[0]\n",
    "\n",
    "print(ch)\n",
    "print(type(ch))\n",
    "\n",
    "ch = input(\"Enter a char: \")[1]\n",
    "\n",
    "print(ch)"
   ]
  }
 ],
 "metadata": {
  "kernelspec": {
   "display_name": "Python 3",
   "language": "python",
   "name": "python3"
  },
  "language_info": {
   "codemirror_mode": {
    "name": "ipython",
    "version": 3
   },
   "file_extension": ".py",
   "mimetype": "text/x-python",
   "name": "python",
   "nbconvert_exporter": "python",
   "pygments_lexer": "ipython3",
   "version": "3.7.4"
  }
 },
 "nbformat": 4,
 "nbformat_minor": 2
}
