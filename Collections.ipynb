{
 "cells": [
  {
   "cell_type": "markdown",
   "metadata": {},
   "source": [
    "# Collections Methods\n",
    "1. namedtuple()\n",
    "2. deque\n",
    "3. ChainMap\n",
    "4. Counter\n",
    "5. OrderedDict\n",
    "6. defaultdict\n",
    "7. UserDict\n",
    "8. UserList\n",
    "9. UserString"
   ]
  },
  {
   "cell_type": "markdown",
   "metadata": {},
   "source": [
    "# namedtuple()"
   ]
  },
  {
   "cell_type": "code",
   "execution_count": 2,
   "metadata": {},
   "outputs": [
    {
     "name": "stdout",
     "output_type": "stream",
     "text": [
      "29\n",
      "Desa Petaling\n",
      "Shah Alam\n",
      "23\n"
     ]
    }
   ],
   "source": [
    "from collections import namedtuple\n",
    "\n",
    "Student = namedtuple('Student', ['name', 'age', 'address'])\n",
    "\n",
    "bn964 = Student('tuhin', 24, 'Desa Petaling')\n",
    "bp564 = Student(name='nazrul', age=29, address='Desa Petaling')\n",
    "bq315 = Student(name='mhafuz', age=23, address='Shah Alam')\n",
    "\n",
    "print(bp564[1])\n",
    "print(bp564.address)\n",
    "print(bq315[2])\n",
    "print(bq315.age)"
   ]
  },
  {
   "cell_type": "code",
   "execution_count": 3,
   "metadata": {},
   "outputs": [
    {
     "name": "stdout",
     "output_type": "stream",
     "text": [
      "tuhin ==> 24 ==> Desa Petaling\n",
      "nazrul ==> 29 ==> Desa Petaling\n",
      "mhafuz ==> 23 ==> Shah Alam\n",
      "\n",
      "tuhin ==> 24 ==> Desa Petaling\n",
      "nazrul ==> 29 ==> Desa Petaling\n",
      "mhafuz ==> 23 ==> Shah Alam\n"
     ]
    }
   ],
   "source": [
    "from collections import namedtuple\n",
    "\n",
    "Student = namedtuple('Student', ['name', 'age', 'address'])\n",
    "\n",
    "bn964 = Student('tuhin', 24, 'Desa Petaling')\n",
    "bp564 = Student(name='nazrul', age=29, address='Desa Petaling')\n",
    "bq315 = Student(name='mhafuz', age=23, address='Shah Alam')\n",
    "\n",
    "print('{0.name} ==> {0.age} ==> {0.address}'.format(bn964))\n",
    "print('{0.name} ==> {0.age} ==> {0.address}'.format(bp564))\n",
    "print('{0.name} ==> {0.age} ==> {0.address}'.format(bq315))\n",
    "\n",
    "print()\n",
    "\n",
    "print('{0[0]} ==> {0[1]} ==> {0[2]}'.format(bn964))\n",
    "print('{0[0]} ==> {0[1]} ==> {0[2]}'.format(bp564))\n",
    "print('{0[0]} ==> {0[1]} ==> {0[2]}'.format(bq315))"
   ]
  },
  {
   "cell_type": "markdown",
   "metadata": {},
   "source": [
    "# deque()"
   ]
  },
  {
   "cell_type": "markdown",
   "metadata": {},
   "source": [
    "1. append(x)\n",
    "2. appendleft(x)\n",
    "3. clear()\n",
    "4. copy()\n",
    "5. count(x)\n",
    "6. extend(iterable)\n",
    "7. extendleft(iterable)\n",
    "8. index(x[, start[, stop]])\n",
    "9. insert(i, x)\n",
    "10. pop()\n",
    "11. popleft()\n",
    "12. remove(value)\n",
    "13. reverse()\n",
    "14. rotate(n=1)\n",
    "15. maxlen"
   ]
  },
  {
   "cell_type": "code",
   "execution_count": 58,
   "metadata": {},
   "outputs": [
    {
     "name": "stdout",
     "output_type": "stream",
     "text": [
      "deque(['l', 'k', 'j', 'i', 'h', 'g', 'j'])\n",
      "j\n",
      "g\n",
      "deque(['l', 'k', 'j', 'i', 'h', 'g', 'z'])\n"
     ]
    }
   ],
   "source": [
    "myDeque = deque(['l', 'k', 'j', 'i', 'h', 'g', 'j'])\n",
    "\n",
    "print(myDeque)\n",
    "print(myDeque[2])\n",
    "print(myDeque[5])\n",
    "\n",
    "myDeque[len(myDeque)-1] = 'z'\n",
    "print(myDeque)"
   ]
  },
  {
   "cell_type": "markdown",
   "metadata": {},
   "source": [
    "### append(x) & appendleft(x)"
   ]
  },
  {
   "cell_type": "code",
   "execution_count": 22,
   "metadata": {},
   "outputs": [
    {
     "name": "stdout",
     "output_type": "stream",
     "text": [
      "deque(['f', 'g', 'h', 'i', 'j'])\n"
     ]
    }
   ],
   "source": [
    "from collections import deque\n",
    "\n",
    "d = deque('ghi')                 # make a new deque with three items\n",
    "\n",
    "d.append('j')                    # add a new entry to the right side\n",
    "d.appendleft('f')                # add a new entry to the left side\n",
    "print(d)                                # show the representation of the deque"
   ]
  },
  {
   "cell_type": "markdown",
   "metadata": {},
   "source": [
    "### insert()"
   ]
  },
  {
   "cell_type": "code",
   "execution_count": 26,
   "metadata": {},
   "outputs": [
    {
     "name": "stdout",
     "output_type": "stream",
     "text": [
      "deque(['f', 'g', 'h', 'i', 'j', 'z'])\n"
     ]
    }
   ],
   "source": [
    "from collections import deque\n",
    "\n",
    "myDeque = deque(['f', 'g', 'h', 'i', 'j'])\n",
    "\n",
    "myDeque.insert(len(myDeque), 'z')\n",
    "print(myDeque)"
   ]
  },
  {
   "cell_type": "code",
   "execution_count": 27,
   "metadata": {},
   "outputs": [
    {
     "name": "stdout",
     "output_type": "stream",
     "text": [
      "deque(['a', 'f', 'g', 'h', 'i', 'j'])\n"
     ]
    }
   ],
   "source": [
    "from collections import deque\n",
    "\n",
    "myDeque = deque(['f', 'g', 'h', 'i', 'j'])\n",
    "\n",
    "myDeque.insert(0, 'a')\n",
    "print(myDeque)"
   ]
  },
  {
   "cell_type": "markdown",
   "metadata": {},
   "source": [
    "### copy()"
   ]
  },
  {
   "cell_type": "code",
   "execution_count": 12,
   "metadata": {},
   "outputs": [
    {
     "name": "stdout",
     "output_type": "stream",
     "text": [
      "deque(['f', 'g', 'h', 'i', 'j'])\n"
     ]
    }
   ],
   "source": [
    "from collections import deque\n",
    "\n",
    "myDeque = deque(['f', 'g', 'h', 'i', 'j'])\n",
    "newDeque = myDeque.copy()\n",
    "\n",
    "print(newDeque)"
   ]
  },
  {
   "cell_type": "code",
   "execution_count": 10,
   "metadata": {},
   "outputs": [
    {
     "name": "stdout",
     "output_type": "stream",
     "text": [
      "deque(['f', 'g', 'h', 'i', 'j'])\n"
     ]
    }
   ],
   "source": [
    "from collections import deque\n",
    "\n",
    "newDeque = deque(['f', 'g', 'h', 'i', 'j']).copy()\n",
    "print(newDeque)"
   ]
  },
  {
   "cell_type": "markdown",
   "metadata": {},
   "source": [
    "### count()"
   ]
  },
  {
   "cell_type": "code",
   "execution_count": 14,
   "metadata": {},
   "outputs": [
    {
     "name": "stdout",
     "output_type": "stream",
     "text": [
      "3\n"
     ]
    }
   ],
   "source": [
    "from collections import deque\n",
    "\n",
    "myDeque = deque(['f', 'g', 'f', 'i', 'f'])\n",
    "print(myDeque.count('f'))"
   ]
  },
  {
   "cell_type": "markdown",
   "metadata": {},
   "source": [
    "### extend() & extendleft()"
   ]
  },
  {
   "cell_type": "code",
   "execution_count": 17,
   "metadata": {},
   "outputs": [
    {
     "name": "stdout",
     "output_type": "stream",
     "text": [
      "deque(['f', 'g', 'h', 'i', 'j', 'a', 'b', 'c'])\n"
     ]
    }
   ],
   "source": [
    "from collections import deque\n",
    "\n",
    "myDeque = deque(['f', 'g', 'h', 'i', 'j'])\n",
    "\n",
    "myDeque.extend('abc')    \n",
    "print(myDeque)"
   ]
  },
  {
   "cell_type": "code",
   "execution_count": 16,
   "metadata": {},
   "outputs": [
    {
     "name": "stdout",
     "output_type": "stream",
     "text": [
      "deque(['z', 'y', 'x', 'f', 'g', 'h', 'i', 'j'])\n"
     ]
    }
   ],
   "source": [
    "from collections import deque\n",
    "\n",
    "myDeque = deque(['f', 'g', 'h', 'i', 'j'])\n",
    "\n",
    "myDeque.extendleft('xyz')              # extendleft() reverses the input order\n",
    "print(myDeque)"
   ]
  },
  {
   "cell_type": "markdown",
   "metadata": {},
   "source": [
    "### index()"
   ]
  },
  {
   "cell_type": "code",
   "execution_count": 19,
   "metadata": {},
   "outputs": [
    {
     "name": "stdout",
     "output_type": "stream",
     "text": [
      "1\n"
     ]
    }
   ],
   "source": [
    "from collections import deque\n",
    "\n",
    "myDeque = deque(['z', 'f', 'a', 'i', 'f', 'e', 'k', 'o', 'm', 'f'])\n",
    "\n",
    "print(myDeque.index('f'))"
   ]
  },
  {
   "cell_type": "code",
   "execution_count": 21,
   "metadata": {},
   "outputs": [
    {
     "name": "stdout",
     "output_type": "stream",
     "text": [
      "4\n",
      "9\n"
     ]
    }
   ],
   "source": [
    "from collections import deque\n",
    "\n",
    "myDeque = deque(['z', 'f', 'a', 'i', 'f', 'e', 'k', 'o', 'm', 'f'])\n",
    "\n",
    "print(myDeque.index('f', 2, len(myDeque)-1))\n",
    "print(myDeque.index('f', 5, len(myDeque)))"
   ]
  },
  {
   "cell_type": "markdown",
   "metadata": {},
   "source": [
    "### Reversed()"
   ]
  },
  {
   "cell_type": "code",
   "execution_count": 40,
   "metadata": {},
   "outputs": [
    {
     "name": "stdout",
     "output_type": "stream",
     "text": [
      "deque(['l', 'k', 'j', 'i', 'h', 'g'])\n",
      "deque(['g', 'h', 'i', 'j', 'k', 'l'])\n"
     ]
    }
   ],
   "source": [
    "from collections import deque\n",
    "\n",
    "myDeque = deque(['g', 'h', 'i', 'j', 'k', 'l'])\n",
    "\n",
    "myReversedDeque = deque(reversed(myDeque))               # make a new deque in reverse order\n",
    "\n",
    "print(myReversedDeque)\n",
    "print(myDeque)"
   ]
  },
  {
   "cell_type": "markdown",
   "metadata": {},
   "source": [
    "### rotate()"
   ]
  },
  {
   "cell_type": "code",
   "execution_count": 41,
   "metadata": {},
   "outputs": [
    {
     "name": "stdout",
     "output_type": "stream",
     "text": [
      "deque(['l', 'g', 'h', 'i', 'j', 'k'])\n"
     ]
    }
   ],
   "source": [
    "from collections import deque\n",
    "\n",
    "myDeque = deque(['g', 'h', 'i', 'j', 'k', 'l'])\n",
    "myDeque.rotate(1)                      # right rotation\n",
    "print(myDeque)"
   ]
  },
  {
   "cell_type": "code",
   "execution_count": 42,
   "metadata": {},
   "outputs": [
    {
     "name": "stdout",
     "output_type": "stream",
     "text": [
      "deque(['g', 'h', 'i', 'j', 'k', 'l'])\n"
     ]
    }
   ],
   "source": [
    "from collections import deque\n",
    "\n",
    "myDeque = deque(['l', 'g', 'h', 'i', 'j', 'k'])\n",
    "myDeque.rotate(-1)                     # left rotation\n",
    "print(myDeque)"
   ]
  },
  {
   "cell_type": "markdown",
   "metadata": {},
   "source": [
    "### pop() & popleft() & clear()"
   ]
  },
  {
   "cell_type": "code",
   "execution_count": 44,
   "metadata": {},
   "outputs": [
    {
     "name": "stdout",
     "output_type": "stream",
     "text": [
      "deque(['g', 'h', 'i', 'j'])\n",
      "g\n",
      "deque(['h', 'i', 'j'])\n"
     ]
    }
   ],
   "source": [
    "from collections import deque\n",
    "\n",
    "myDeque = deque(['f', 'g', 'h', 'i', 'j'])\n",
    "\n",
    "myDeque.popleft()                      # return and remove the leftmost item\n",
    "print(myDeque)\n",
    "\n",
    "print(myDeque.popleft())\n",
    "print(myDeque)"
   ]
  },
  {
   "cell_type": "code",
   "execution_count": 45,
   "metadata": {},
   "outputs": [
    {
     "name": "stdout",
     "output_type": "stream",
     "text": [
      "deque(['f', 'g', 'h', 'i'])\n",
      "i\n",
      "deque(['f', 'g', 'h'])\n"
     ]
    }
   ],
   "source": [
    "from collections import deque\n",
    "\n",
    "myDeque = deque(['f', 'g', 'h', 'i', 'j'])\n",
    "\n",
    "myDeque.pop()                      # return and remove the leftmost item\n",
    "print(myDeque)\n",
    "\n",
    "print(myDeque.pop())\n",
    "print(myDeque)"
   ]
  },
  {
   "cell_type": "markdown",
   "metadata": {},
   "source": [
    "### remove()"
   ]
  },
  {
   "cell_type": "code",
   "execution_count": 60,
   "metadata": {},
   "outputs": [
    {
     "name": "stdout",
     "output_type": "stream",
     "text": [
      "deque(['l', 'k', 'i', 'h', 'g', 'j'])\n"
     ]
    }
   ],
   "source": [
    "myDeque = deque(['l', 'k', 'j', 'i', 'h', 'g', 'j'])\n",
    "\n",
    "myDeque.remove('j')\n",
    "\n",
    "print(myDeque)"
   ]
  },
  {
   "cell_type": "code",
   "execution_count": 62,
   "metadata": {},
   "outputs": [
    {
     "name": "stdout",
     "output_type": "stream",
     "text": [
      "deque(['l', 'k', 'i', 'h', 'g'])\n"
     ]
    }
   ],
   "source": [
    "myDeque = deque(['l', 'k', 'j', 'i', 'h', 'g', 'j'])\n",
    "\n",
    "for x in range(len(myDeque)-1):\n",
    "    if 'j'==myDeque[x]:\n",
    "        myDeque.remove('j')\n",
    "\n",
    "print(myDeque)"
   ]
  },
  {
   "cell_type": "markdown",
   "metadata": {},
   "source": [
    "### clear()"
   ]
  },
  {
   "cell_type": "code",
   "execution_count": 66,
   "metadata": {},
   "outputs": [
    {
     "name": "stdout",
     "output_type": "stream",
     "text": [
      "deque(['l', 'k', 'j', 'i', 'h', 'g'])\n",
      "deque([])\n"
     ]
    }
   ],
   "source": [
    "myDeque = deque(['l', 'k', 'j', 'i', 'h', 'g'])\n",
    "print(myDeque)\n",
    "\n",
    "myDeque.clear()                        # empty the deque\n",
    "print(myDeque)"
   ]
  },
  {
   "cell_type": "markdown",
   "metadata": {},
   "source": [
    "# Counter\n",
    "#### for more details go to counter file"
   ]
  },
  {
   "cell_type": "code",
   "execution_count": 67,
   "metadata": {},
   "outputs": [
    {
     "name": "stdout",
     "output_type": "stream",
     "text": [
      "Counter({'blue': 3, 'red': 2, 'yellow': 1})\n",
      "3\n",
      "2\n",
      "1\n",
      "0\n",
      "0\n"
     ]
    }
   ],
   "source": [
    "from collections import Counter \n",
    "  \n",
    "z = ['blue', 'red', 'blue', 'yellow', 'blue', 'red'] \n",
    "col_count = Counter(z) \n",
    "print(col_count) \n",
    "  \n",
    "print(col_count['blue'])\n",
    "print(col_count['red'])\n",
    "print(col_count['yellow'])\n",
    "print(col_count['green'])\n",
    "print(col_count['orange'])"
   ]
  },
  {
   "cell_type": "markdown",
   "metadata": {},
   "source": [
    "# OrderedDict\n",
    "#### for more details go to dictionary file"
   ]
  },
  {
   "cell_type": "code",
   "execution_count": null,
   "metadata": {},
   "outputs": [],
   "source": [
    "from collections import OrderedDict\n",
    "\n",
    "myDict1 = OrderedDict()\n",
    "myDict1['a'] = 1\n",
    "myDict1['b'] = 2\n",
    "print(myDict1)\n",
    "\n",
    "myDict2 = OrderedDict()\n",
    "myDict2['b'] = 2\n",
    "myDict2['a'] = 1\n",
    "print(myDict2)\n",
    "\n",
    "print(myDict1 == myDict2)"
   ]
  },
  {
   "cell_type": "markdown",
   "metadata": {},
   "source": [
    "# defaultdict\n",
    "#### for more details go to dictionary file"
   ]
  },
  {
   "cell_type": "code",
   "execution_count": 65,
   "metadata": {},
   "outputs": [
    {
     "name": "stdout",
     "output_type": "stream",
     "text": [
      "defaultdict(<class 'list'>, {0: [0], 1: [1], 2: [2], 3: [3], 4: [4]})\n",
      "2\n",
      "[]\n"
     ]
    }
   ],
   "source": [
    "from collections import defaultdict\n",
    "\n",
    "myDict = defaultdict(list)\n",
    "\n",
    "for i in range(5):\n",
    "    myDict[i] .append(i)\n",
    "\n",
    "print(myDict)\n",
    "print(myDict[2][0])\n",
    "\n",
    "print(myDict[7])"
   ]
  },
  {
   "cell_type": "code",
   "execution_count": null,
   "metadata": {},
   "outputs": [],
   "source": []
  },
  {
   "cell_type": "code",
   "execution_count": null,
   "metadata": {},
   "outputs": [],
   "source": []
  },
  {
   "cell_type": "code",
   "execution_count": null,
   "metadata": {},
   "outputs": [],
   "source": []
  },
  {
   "cell_type": "code",
   "execution_count": null,
   "metadata": {},
   "outputs": [],
   "source": []
  },
  {
   "cell_type": "code",
   "execution_count": null,
   "metadata": {},
   "outputs": [],
   "source": []
  },
  {
   "cell_type": "code",
   "execution_count": null,
   "metadata": {},
   "outputs": [],
   "source": []
  }
 ],
 "metadata": {
  "kernelspec": {
   "display_name": "Python 3",
   "language": "python",
   "name": "python3"
  },
  "language_info": {
   "codemirror_mode": {
    "name": "ipython",
    "version": 3
   },
   "file_extension": ".py",
   "mimetype": "text/x-python",
   "name": "python",
   "nbconvert_exporter": "python",
   "pygments_lexer": "ipython3",
   "version": "3.7.4"
  }
 },
 "nbformat": 4,
 "nbformat_minor": 2
}
