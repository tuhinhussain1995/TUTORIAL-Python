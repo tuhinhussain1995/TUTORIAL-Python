{
 "cells": [
  {
   "cell_type": "markdown",
   "metadata": {},
   "source": [
    "### Only for private attribute, we need to use property function. \n",
    "### For public and protected no need to use getter and setter method."
   ]
  },
  {
   "cell_type": "markdown",
   "metadata": {},
   "source": [
    "## 1st Way (BEST)"
   ]
  },
  {
   "cell_type": "code",
   "execution_count": 5,
   "metadata": {},
   "outputs": [
    {
     "name": "stdout",
     "output_type": "stream",
     "text": [
      "tuhin\n",
      "KL\n",
      "24\n",
      "nazrul\n",
      "Mantari\n",
      "28\n",
      "Mediu\n"
     ]
    }
   ],
   "source": [
    "class Student:\n",
    "    def __init__(self, name, address, age):\n",
    "        self.name = name\n",
    "        self._address = address\n",
    "        self.__age = age\n",
    "\n",
    "    def get_age(self):                               # This is getter\n",
    "        return self.__age\n",
    "\n",
    "    def set_age(self, old):                          # This is setter\n",
    "        self.__age = old\n",
    "\n",
    "    privateAge = property(get_age, set_age)          # This is property method\n",
    "\n",
    "    def display(self):\n",
    "        print(self.name)\n",
    "        print(self._address)\n",
    "        print(self.privateAge)\n",
    "\n",
    "class University(Student):\n",
    "    def __init__(self, name, address, age, uni):\n",
    "        super().__init__(name, address, age)\n",
    "        self.university = uni\n",
    "\n",
    "    def display(self):\n",
    "        print(self.name)\n",
    "        print(self._address)\n",
    "        print(self.privateAge)\n",
    "        print(self.university)\n",
    "\n",
    "if __name__=='__main__':\n",
    "    stu1 = Student('tuhin', 'KL', 15)\n",
    "    stu1.privateAge = 24\n",
    "    stu1.display()\n",
    "\n",
    "    stu2 = University('nazrul', 'Mantari', 66, 'Mediu')\n",
    "    stu2.privateAge = 28\n",
    "    stu2.display()"
   ]
  },
  {
   "cell_type": "markdown",
   "metadata": {},
   "source": [
    "## 2nd Way"
   ]
  },
  {
   "cell_type": "code",
   "execution_count": 6,
   "metadata": {},
   "outputs": [
    {
     "name": "stdout",
     "output_type": "stream",
     "text": [
      "tuhin\n",
      "KL\n",
      "24\n",
      "nazrul\n",
      "Mantari\n",
      "28\n",
      "Mediu\n"
     ]
    }
   ],
   "source": [
    "class Student:\n",
    "    def __init__(self, name, address, age):\n",
    "        self.name = name\n",
    "        self._address = address\n",
    "        self.__age = age\n",
    "\n",
    "    @property\n",
    "    def privateAge(self):                               # This is getter\n",
    "        return self.__age\n",
    "\n",
    "    @privateAge.setter\n",
    "    def privateAge(self, old):                          # This is setter\n",
    "        self.__age = old\n",
    "\n",
    "    def display(self):\n",
    "        print(self.name)\n",
    "        print(self._address)\n",
    "        print(self.privateAge)\n",
    "\n",
    "class University(Student):\n",
    "    def __init__(self, name, address, age, uni):\n",
    "        super().__init__(name, address, age)\n",
    "        self.university = uni\n",
    "\n",
    "    def display(self):\n",
    "        print(self.name)\n",
    "        print(self._address)\n",
    "        print(self.privateAge)\n",
    "        print(self.university)\n",
    "\n",
    "if __name__=='__main__':\n",
    "    stu1 = Student('tuhin', 'KL', 24)\n",
    "    stu1.privateAge = 24\n",
    "    stu1.display()\n",
    "\n",
    "    stu2 = University('nazrul', 'Mantari', 28, 'Mediu')\n",
    "    stu2.privateAge = 28\n",
    "    stu2.display()"
   ]
  },
  {
   "cell_type": "markdown",
   "metadata": {},
   "source": [
    "## Examples"
   ]
  },
  {
   "cell_type": "code",
   "execution_count": 5,
   "metadata": {},
   "outputs": [
    {
     "name": "stdout",
     "output_type": "stream",
     "text": [
      "Tuhin\n",
      "3\n",
      "1\n",
      "0\n",
      "Name: Tuhin, Lives: 3, Level: 1, Score: 450\n",
      "Name: Tuhin, Lives: 3, Level: 1, Score: 350\n"
     ]
    }
   ],
   "source": [
    "class Player:\n",
    "    def __init__(self, name):\n",
    "        self.name = name                 # public attribute\n",
    "        self._lives = 3                  # protected attribute\n",
    "        self._level = 0                  # protected attribute\n",
    "        self.__score = 0                 # private attribute\n",
    "\n",
    "    def __getScore(self):                # private method\n",
    "        return self.__score\n",
    "\n",
    "    def _setScore(self, newScore):       # private method\n",
    "        self.__score = newScore\n",
    "\n",
    "    proScore = property(__getScore, _setScore)\n",
    "\n",
    "    def __str__(self):\n",
    "        return \"Name: {0.name}, Lives: {0._lives}, Level: {0._level}, Score: {0.proScore}\".format(self)\n",
    "    \n",
    "if __name__=='__main__':\n",
    "    tuhin = Player(\"Tuhin\")\n",
    "\n",
    "    print(tuhin.name)\n",
    "    print(tuhin._lives)\n",
    "    print(tuhin._level)\n",
    "    print(tuhin.proScore)\n",
    "\n",
    "    tuhin.proScore += 450\n",
    "    print(tuhin)                      # calling object __str__\n",
    "\n",
    "    tuhin.proScore -= 100\n",
    "    print(tuhin)                      # calling object __str__"
   ]
  },
  {
   "cell_type": "code",
   "execution_count": null,
   "metadata": {},
   "outputs": [],
   "source": []
  }
 ],
 "metadata": {
  "kernelspec": {
   "display_name": "Python 3",
   "language": "python",
   "name": "python3"
  },
  "language_info": {
   "codemirror_mode": {
    "name": "ipython",
    "version": 3
   },
   "file_extension": ".py",
   "mimetype": "text/x-python",
   "name": "python",
   "nbconvert_exporter": "python",
   "pygments_lexer": "ipython3",
   "version": "3.7.4"
  }
 },
 "nbformat": 4,
 "nbformat_minor": 2
}
