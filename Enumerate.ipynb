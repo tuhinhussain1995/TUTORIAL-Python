{
 "cells": [
  {
   "cell_type": "markdown",
   "metadata": {},
   "source": [
    "### enumerate return index number with value"
   ]
  },
  {
   "cell_type": "markdown",
   "metadata": {},
   "source": [
    "# Basic"
   ]
  },
  {
   "cell_type": "code",
   "execution_count": 8,
   "metadata": {},
   "outputs": [
    {
     "name": "stdout",
     "output_type": "stream",
     "text": [
      "[(0, 'g'), (1, 'e'), (2, 'e'), (3, 'k')]\n",
      "<class 'enumerate'>\n"
     ]
    }
   ],
   "source": [
    "s1 = \"geek\"\n",
    "\n",
    "obj2 = enumerate(s1) \n",
    "print(list(obj2))\n",
    "print(type(obj2))"
   ]
  },
  {
   "cell_type": "code",
   "execution_count": 13,
   "metadata": {},
   "outputs": [
    {
     "name": "stdout",
     "output_type": "stream",
     "text": [
      "[(0, 'eat'), (1, 'sleep'), (2, 'repeat')]\n",
      "<class 'enumerate'>\n"
     ]
    }
   ],
   "source": [
    "l1 = [\"eat\",\"sleep\",\"repeat\"]          # tuple and set same like this\n",
    "\n",
    "obj1 = enumerate(l1) \n",
    "print(list(obj1))\n",
    "print(type(obj1))"
   ]
  },
  {
   "cell_type": "code",
   "execution_count": 12,
   "metadata": {},
   "outputs": [
    {
     "name": "stdout",
     "output_type": "stream",
     "text": [
      "((0, 1), (1, '2'), (2, 'b'), (3, 'tuhin'))\n",
      "((0, (1, 'a')), (1, ('2', '2.3')), (2, ('b', 3.4)), (3, ('tuhin', 5)))\n",
      "((0, 1), (1, '2'), (2, 'b'), (3, 'tuhin'))\n",
      "((0, 'a'), (1, '2.3'), (2, 3.4), (3, 5))\n"
     ]
    }
   ],
   "source": [
    "myDict = {1:'a', '2':'2.3', 'b':3.4, 'tuhin':5}\n",
    "\n",
    "print(tuple(enumerate(myDict)))\n",
    "\n",
    "print(tuple(enumerate(myDict.items())))\n",
    "print(tuple(enumerate(myDict.keys())))\n",
    "print(tuple(enumerate(myDict.values())))"
   ]
  },
  {
   "cell_type": "markdown",
   "metadata": {},
   "source": [
    "## enumerate with start"
   ]
  },
  {
   "cell_type": "code",
   "execution_count": 21,
   "metadata": {},
   "outputs": [
    {
     "data": {
      "text/plain": [
       "[(3, 'March'), (4, 'April'), (5, 'May'), (6, 'June')]"
      ]
     },
     "execution_count": 21,
     "metadata": {},
     "output_type": "execute_result"
    }
   ],
   "source": [
    "months = ['March','April','May','June']\n",
    "\n",
    "list(enumerate(months,start=3))"
   ]
  },
  {
   "cell_type": "code",
   "execution_count": 1,
   "metadata": {},
   "outputs": [
    {
     "name": "stdout",
     "output_type": "stream",
     "text": [
      "100 bread\n",
      "101 milk\n",
      "102 butter\n"
     ]
    }
   ],
   "source": [
    "grocery = ['bread', 'milk', 'butter']\n",
    "\n",
    "for count, item in enumerate(grocery, 100):\n",
    "    print(count, item)"
   ]
  },
  {
   "cell_type": "markdown",
   "metadata": {},
   "source": [
    "# Exercises"
   ]
  },
  {
   "cell_type": "code",
   "execution_count": 15,
   "metadata": {},
   "outputs": [
    {
     "name": "stdout",
     "output_type": "stream",
     "text": [
      "(0, 'a')\n",
      "(1, 'b')\n",
      "(2, 'c')\n",
      "(3, 'd')\n",
      "(4, 'e')\n"
     ]
    }
   ],
   "source": [
    "for myEnum in enumerate('abcde'):\n",
    "    print(myEnum)"
   ]
  },
  {
   "cell_type": "code",
   "execution_count": 16,
   "metadata": {},
   "outputs": [
    {
     "name": "stdout",
     "output_type": "stream",
     "text": [
      "0  ==>  a\n",
      "1  ==>  b\n",
      "2  ==>  c\n",
      "3  ==>  d\n",
      "4  ==>  e\n"
     ]
    }
   ],
   "source": [
    "for i,letter in enumerate('abcde'):\n",
    "    print(i, ' ==> ', letter)"
   ]
  },
  {
   "cell_type": "code",
   "execution_count": 14,
   "metadata": {},
   "outputs": [
    {
     "name": "stdout",
     "output_type": "stream",
     "text": [
      "At index 0 the letter is a\n",
      "At index 1 the letter is b\n",
      "At index 2 the letter is c\n",
      "At index 3 the letter is d\n",
      "At index 4 the letter is e\n"
     ]
    }
   ],
   "source": [
    "for i,letter in enumerate('abcde'):\n",
    "    print(\"At index {} the letter is {}\".format(i,letter))"
   ]
  },
  {
   "cell_type": "code",
   "execution_count": 18,
   "metadata": {},
   "outputs": [
    {
     "name": "stdout",
     "output_type": "stream",
     "text": [
      "0\t a\n",
      "1\t b\n",
      "2\t c\n"
     ]
    }
   ],
   "source": [
    "lst = ['a','b','c']\n",
    "\n",
    "for number,item in enumerate(lst):\n",
    "    print(number, end='')\n",
    "    print('\\t', item)"
   ]
  },
  {
   "cell_type": "code",
   "execution_count": 19,
   "metadata": {},
   "outputs": [
    {
     "name": "stdout",
     "output_type": "stream",
     "text": [
      "a\n",
      "b\n"
     ]
    }
   ],
   "source": [
    "lst = ['a','b','c']\n",
    "\n",
    "for count,item in enumerate(lst):\n",
    "    if count >= 2:\n",
    "        break\n",
    "    else:\n",
    "        print(item)"
   ]
  },
  {
   "cell_type": "code",
   "execution_count": 23,
   "metadata": {},
   "outputs": [
    {
     "name": "stdout",
     "output_type": "stream",
     "text": [
      "4 ==> bread\n"
     ]
    }
   ],
   "source": [
    "shopping_list = ['milk', \"pasta\", 'egg', \"spam\", \"bread\", \"rice\"]\n",
    "\n",
    "for x, y in enumerate(shopping_list):\n",
    "    if y == 'bread':\n",
    "        print(x, '==>', y)\n",
    "        break"
   ]
  },
  {
   "cell_type": "code",
   "execution_count": 1,
   "metadata": {},
   "outputs": [
    {
     "name": "stdout",
     "output_type": "stream",
     "text": [
      "[(100, 'a', 12.33), (200, 'b', 4.5), (300, 'c', 143.99)]\n",
      "0\n",
      "\t 100\n",
      "\t a\n",
      "\t 12.33\n",
      "1\n",
      "\t 200\n",
      "\t b\n",
      "\t 4.5\n",
      "2\n",
      "\t 300\n",
      "\t c\n",
      "\t 143.99\n"
     ]
    }
   ],
   "source": [
    "myList1 = [100, 200, 300]\n",
    "myList2 = ['a', 'b', 'c']\n",
    "myList3 = [12.33, 4.5, 143.99]\n",
    "\n",
    "myList = list(zip(myList1, myList2, myList3))\n",
    "\n",
    "print(myList)\n",
    "\n",
    "for index, values in enumerate(myList):\n",
    "    print(index)\n",
    "    \n",
    "    for val in values:\n",
    "        print('\\t', val)"
   ]
  },
  {
   "cell_type": "code",
   "execution_count": 2,
   "metadata": {},
   "outputs": [
    {
     "name": "stdout",
     "output_type": "stream",
     "text": [
      "{'a': 0, 'b': 1, 'c': 2}\n"
     ]
    }
   ],
   "source": [
    "def d_list(L):\n",
    "    return {y:x for (x, y) in enumerate(L)}\n",
    "\n",
    "print(d_list(['a','b','c']))"
   ]
  }
 ],
 "metadata": {
  "kernelspec": {
   "display_name": "Python 3",
   "language": "python",
   "name": "python3"
  },
  "language_info": {
   "codemirror_mode": {
    "name": "ipython",
    "version": 3
   },
   "file_extension": ".py",
   "mimetype": "text/x-python",
   "name": "python",
   "nbconvert_exporter": "python",
   "pygments_lexer": "ipython3",
   "version": "3.7.4"
  }
 },
 "nbformat": 4,
 "nbformat_minor": 2
}
