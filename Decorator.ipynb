{
 "cells": [
  {
   "cell_type": "code",
   "execution_count": null,
   "metadata": {},
   "outputs": [],
   "source": [
    "# A decorator takes in a function, adds some functionality and returns it."
   ]
  },
  {
   "cell_type": "markdown",
   "metadata": {},
   "source": [
    "# Basic"
   ]
  },
  {
   "cell_type": "code",
   "execution_count": 1,
   "metadata": {},
   "outputs": [
    {
     "name": "stdout",
     "output_type": "stream",
     "text": [
      "Hello\n"
     ]
    }
   ],
   "source": [
    "def hello():\n",
    "    print('Hello')\n",
    "    \n",
    "# For assigning function use only name. Like hello or greet\n",
    "# For calling function use function with parenthesis. Like hello() or greet() \n",
    "    \n",
    "greet = hello  # Assigning hello() function to greet()\n",
    "del hello      # Function hello is deleted\n",
    "greet()        # greet() function call"
   ]
  },
  {
   "cell_type": "code",
   "execution_count": 7,
   "metadata": {},
   "outputs": [
    {
     "name": "stdout",
     "output_type": "stream",
     "text": [
      "4\n",
      "2\n"
     ]
    }
   ],
   "source": [
    "def inc(x):\n",
    "    return x + 1\n",
    "\n",
    "\n",
    "def dec(x):\n",
    "    return x - 1\n",
    "\n",
    "\n",
    "def operate(func, x):\n",
    "    result = func(x)\n",
    "    return result\n",
    "\n",
    "print(operate(inc,3))\n",
    "print(operate(dec,3))"
   ]
  },
  {
   "cell_type": "code",
   "execution_count": 8,
   "metadata": {},
   "outputs": [
    {
     "name": "stdout",
     "output_type": "stream",
     "text": [
      "Hello\n"
     ]
    }
   ],
   "source": [
    "def is_called():\n",
    "    def is_returned():\n",
    "        print(\"Hello\")\n",
    "    return is_returned\n",
    "\n",
    "\n",
    "new = is_called()\n",
    "\n",
    "new()"
   ]
  },
  {
   "cell_type": "code",
   "execution_count": 5,
   "metadata": {},
   "outputs": [
    {
     "name": "stdout",
     "output_type": "stream",
     "text": [
      "This function is in need of a Decorator\n",
      "\n",
      "Code would be here, before executing the func\n",
      "This function is in need of a Decorator\n",
      "Code here will execute after the func()\n"
     ]
    }
   ],
   "source": [
    "def new_decorator(func):\n",
    "\n",
    "    def wrap_func():\n",
    "        print(\"Code would be here, before executing the func\")\n",
    "\n",
    "        func()\n",
    "\n",
    "        print(\"Code here will execute after the func()\")\n",
    "\n",
    "    return wrap_func\n",
    "\n",
    "def func_needs_decorator():\n",
    "    print(\"This function is in need of a Decorator\")\n",
    "    \n",
    "    \n",
    "func_needs_decorator()    \n",
    "\n",
    "print()\n",
    "\n",
    "func_needs_decorator = new_decorator(func_needs_decorator)\n",
    "func_needs_decorator()"
   ]
  },
  {
   "cell_type": "code",
   "execution_count": 9,
   "metadata": {},
   "outputs": [
    {
     "name": "stdout",
     "output_type": "stream",
     "text": [
      "I am going to divide 2 and 5\n",
      "0.4\n",
      "I am going to divide 2 and 0\n",
      "Whoops! cannot divide\n"
     ]
    }
   ],
   "source": [
    "def smart_divide(func):\n",
    "    def inner(a, b):\n",
    "        print(\"I am going to divide\", a, \"and\", b)\n",
    "        if b == 0:\n",
    "            print(\"Whoops! cannot divide\")\n",
    "            return\n",
    "\n",
    "        return func(a, b)\n",
    "    return inner\n",
    "\n",
    "\n",
    "@smart_divide\n",
    "def divide(a, b):\n",
    "    print(a/b)\n",
    "    \n",
    "    \n",
    "divide(2,5)\n",
    "divide(2,0)"
   ]
  },
  {
   "cell_type": "markdown",
   "metadata": {},
   "source": [
    "# Example - 1"
   ]
  },
  {
   "cell_type": "code",
   "execution_count": 24,
   "metadata": {},
   "outputs": [
    {
     "name": "stdout",
     "output_type": "stream",
     "text": [
      "Some extra code before original function\n",
      "I want to be decorated\n"
     ]
    }
   ],
   "source": [
    "def decorator(original_func):\n",
    "    def wrap_function():\n",
    "        print('Some extra code before original function')\n",
    "        \n",
    "        return original_func\n",
    "\n",
    "    return wrap_function()\n",
    "\n",
    "def new_decorator():\n",
    "    return 'I want to be decorated'\n",
    "\n",
    "myFunc = decorator(new_decorator)\n",
    "print(myFunc())                 # here print or return depends on new_decorator()"
   ]
  },
  {
   "cell_type": "code",
   "execution_count": 19,
   "metadata": {},
   "outputs": [
    {
     "name": "stdout",
     "output_type": "stream",
     "text": [
      "Some extra code before original function\n",
      "I want to be decorated\n"
     ]
    }
   ],
   "source": [
    "def decorator(original_func):\n",
    "    def wrap_function():\n",
    "        print('Some extra code before original function')\n",
    "        \n",
    "        return original_func\n",
    "\n",
    "    return wrap_function()\n",
    "\n",
    "@decorator\n",
    "def new_decorator():\n",
    "    return 'I want to be decorated'\n",
    "\n",
    "print(new_decorator())        # here print or return depends on new_decorator()"
   ]
  },
  {
   "cell_type": "markdown",
   "metadata": {},
   "source": [
    "# Example -2"
   ]
  },
  {
   "cell_type": "code",
   "execution_count": 12,
   "metadata": {},
   "outputs": [
    {
     "name": "stdout",
     "output_type": "stream",
     "text": [
      "Say something about you.\n",
      "My name is Guido van Rossum.\n",
      "I am from Netherlands.\n",
      "Real interview Started...\n"
     ]
    }
   ],
   "source": [
    "def say(func):\n",
    "\n",
    "    def employer():\n",
    "        print(\"Say something about you.\")\n",
    "\n",
    "    def say_name():\n",
    "        print(\"My name is Guido van Rossum.\")\n",
    "\n",
    "    def say_nationality():\n",
    "        print(\"I am from Netherlands.\")\n",
    "\n",
    "    def wrapper():\n",
    "        employer()\n",
    "        say_name()\n",
    "        say_nationality()\n",
    "        func()\n",
    "\n",
    "    return wrapper\n",
    "\n",
    "\n",
    "def start_interview():\n",
    "    print(\"Real interview Started...\")\n",
    "\n",
    "myFunc = say(start_interview)\n",
    "\n",
    "myFunc()                 # here print or return depends on start_interview()"
   ]
  },
  {
   "cell_type": "code",
   "execution_count": 10,
   "metadata": {},
   "outputs": [
    {
     "name": "stdout",
     "output_type": "stream",
     "text": [
      "Say something about you.\n",
      "My name is Guido van Rossum.\n",
      "I am from Netherlands.\n",
      "Real interview Started...\n"
     ]
    }
   ],
   "source": [
    "def say(func):\n",
    "\n",
    "    def employer():\n",
    "        print(\"Say something about you.\")\n",
    "\n",
    "    def say_name():\n",
    "        print(\"My name is Guido van Rossum.\")\n",
    "\n",
    "    def say_nationality():\n",
    "        print(\"I am from Netherlands.\")\n",
    "\n",
    "    def wrapper():\n",
    "        employer()\n",
    "        say_name()\n",
    "        say_nationality()\n",
    "        func()\n",
    "\n",
    "    return wrapper\n",
    "\n",
    "@say\n",
    "def start_interview():\n",
    "    print(\"Real interview Started...\")\n",
    "\n",
    "start_interview()           # here print or return depends on start_interview()"
   ]
  },
  {
   "cell_type": "markdown",
   "metadata": {},
   "source": [
    "# Example - 3"
   ]
  },
  {
   "cell_type": "code",
   "execution_count": 32,
   "metadata": {},
   "outputs": [
    {
     "name": "stdout",
     "output_type": "stream",
     "text": [
      "2.5\n"
     ]
    }
   ],
   "source": [
    "def smart_division(func):\n",
    "    def inner(x, y):\n",
    "        if x<y:\n",
    "            x, y = y, x\n",
    "            \n",
    "        if y == 0:\n",
    "            return    \n",
    "            \n",
    "        return func(x, y)  \n",
    "                          \n",
    "    return inner\n",
    "\n",
    "def division(a, b):\n",
    "    return a/b\n",
    "\n",
    "final_division = smart_division(division)\n",
    "\n",
    "print(final_division(2, 5))     # here print or return depends on division()"
   ]
  },
  {
   "cell_type": "code",
   "execution_count": 33,
   "metadata": {},
   "outputs": [
    {
     "name": "stdout",
     "output_type": "stream",
     "text": [
      "2.5\n"
     ]
    }
   ],
   "source": [
    "def smart_divide(func):\n",
    "    def inner(x, y):\n",
    "        if x<y:\n",
    "            x, y = y, x\n",
    "        \n",
    "        if y == 0:\n",
    "            return\n",
    "\n",
    "        return func(x, y)\n",
    "    return inner\n",
    "\n",
    "@smart_divide\n",
    "def divide(a,b):\n",
    "    return a/b\n",
    "\n",
    "\n",
    "print(divide(2, 5))           # here print or return depends on division()"
   ]
  },
  {
   "cell_type": "markdown",
   "metadata": {},
   "source": [
    "# Example - 4"
   ]
  },
  {
   "cell_type": "code",
   "execution_count": 25,
   "metadata": {},
   "outputs": [
    {
     "name": "stdout",
     "output_type": "stream",
     "text": [
      "6\n",
      "Function Name:  factorial\n",
      "Total time taken in :  2.0007266998291016\n"
     ]
    }
   ],
   "source": [
    "import time\n",
    "import math\n",
    "\n",
    "def calculate_time(func):\n",
    "    def inner(*args):\n",
    "        begin = time.time()\n",
    "\n",
    "        func(*args)\n",
    "\n",
    "        end = time.time()\n",
    "        \n",
    "        print('Function Name: ', func.__name__)\n",
    "        print(\"Total time taken in : \", end - begin)\n",
    "\n",
    "    return inner\n",
    "\n",
    "\n",
    "def factorial(num):\n",
    "    time.sleep(2)\n",
    "    print(math.factorial(num))\n",
    "\n",
    "\n",
    "myFunc = calculate_time(factorial)\n",
    "myFunc(3)                    # here print or return depends on factorial()"
   ]
  },
  {
   "cell_type": "code",
   "execution_count": 18,
   "metadata": {},
   "outputs": [
    {
     "name": "stdout",
     "output_type": "stream",
     "text": [
      "6\n",
      "Function Name:  factorial\n",
      "Total time taken in :  2.0012025833129883\n"
     ]
    }
   ],
   "source": [
    "import time\n",
    "import math\n",
    "\n",
    "def calculate_time(func):\n",
    "    def inner(*args):\n",
    "        begin = time.time()\n",
    "\n",
    "        func(*args)\n",
    "\n",
    "        end = time.time()\n",
    "        \n",
    "        print('Function Name: ', func.__name__)\n",
    "        print(\"Total time taken in : \", end - begin)\n",
    "\n",
    "    return inner\n",
    "\n",
    "@calculate_time\n",
    "def factorial(num):\n",
    "    time.sleep(2)\n",
    "    print(math.factorial(num))\n",
    "\n",
    "factorial(3)                      # here print or return depends on factorial()"
   ]
  },
  {
   "cell_type": "markdown",
   "metadata": {},
   "source": [
    "# Example - 5"
   ]
  },
  {
   "cell_type": "code",
   "execution_count": 31,
   "metadata": {},
   "outputs": [
    {
     "name": "stdout",
     "output_type": "stream",
     "text": [
      "3 != 6\n",
      "5 != 120\n",
      "8 != 40320\n",
      "Function Name:  factorial\n",
      "Total time taken in :  2.0020878314971924\n"
     ]
    }
   ],
   "source": [
    "import time\n",
    "import math\n",
    "\n",
    "def calculate_time(func):\n",
    "    def inner(*args):\n",
    "        begin = time.time()\n",
    "\n",
    "        func(*args)\n",
    "\n",
    "        end = time.time()\n",
    "        \n",
    "        print('Function Name: ', func.__name__)\n",
    "        print(\"Total time taken in : \", end - begin)\n",
    "\n",
    "    return inner\n",
    "\n",
    "\n",
    "def factorial(*args):\n",
    "    time.sleep(2)\n",
    "    \n",
    "    for x in args:\n",
    "        print(x, '!=' , math.factorial(x))\n",
    "        \n",
    "        \n",
    "myFunc = calculate_time(factorial)\n",
    "myFunc(3, 5, 8)                      # here print or return depends on factorial()"
   ]
  },
  {
   "cell_type": "code",
   "execution_count": 30,
   "metadata": {},
   "outputs": [
    {
     "name": "stdout",
     "output_type": "stream",
     "text": [
      "3 != 6\n",
      "5 != 120\n",
      "8 != 40320\n",
      "Function Name:  factorial\n",
      "Total time taken in :  2.0007100105285645\n"
     ]
    }
   ],
   "source": [
    "import time\n",
    "import math\n",
    "\n",
    "def calculate_time(func):\n",
    "    def inner(*args):\n",
    "        begin = time.time()\n",
    "\n",
    "        func(*args)\n",
    "\n",
    "        end = time.time()\n",
    "        \n",
    "        print('Function Name: ', func.__name__)\n",
    "        print(\"Total time taken in : \", end - begin)\n",
    "\n",
    "    return inner\n",
    "\n",
    "@calculate_time\n",
    "def factorial(*args):\n",
    "    time.sleep(2)\n",
    "    \n",
    "    for x in args:\n",
    "        print(x, '!=' , math.factorial(x))\n",
    "\n",
    "factorial(3, 5, 8)                      # here print or return depends on factorial()"
   ]
  },
  {
   "cell_type": "markdown",
   "metadata": {},
   "source": [
    "# Example - 6"
   ]
  },
  {
   "cell_type": "code",
   "execution_count": 34,
   "metadata": {},
   "outputs": [
    {
     "name": "stdout",
     "output_type": "stream",
     "text": [
      "before function\n",
      "Name: Tuhin  ==>  Age: 24\n",
      "Division = Greater / Smaller\n",
      "after function\n",
      "1.25\n"
     ]
    }
   ],
   "source": [
    "def my_decorator(func):\n",
    "    def wrapped(*args, **kwargs):\n",
    "        print('before function')\n",
    "        \n",
    "        print('Name:', kwargs['name'], ' ==> ', 'Age:', kwargs['age'])\n",
    "        \n",
    "        x, y = args\n",
    "        if x<y:\n",
    "            x, y = y, x\n",
    "        \n",
    "        if y == 0:\n",
    "            return\n",
    "        \n",
    "        response = func(x, y)\n",
    "        \n",
    "        print('after function')\n",
    "        return response\n",
    "    \n",
    "    return wrapped\n",
    "\n",
    "\n",
    "def my_function(a, b):\n",
    "    print('Division = Greater / Smaller')\n",
    "    return a / b\n",
    "\n",
    "\n",
    "myFunc = my_decorator(my_function)\n",
    "print(myFunc(4, 5, name='Tuhin', age=24))      # here print or return depends on division()"
   ]
  },
  {
   "cell_type": "code",
   "execution_count": 35,
   "metadata": {},
   "outputs": [
    {
     "name": "stdout",
     "output_type": "stream",
     "text": [
      "before function\n",
      "Name: Tuhin  ==>  Age: 24\n",
      "Division = Greater / Smaller\n",
      "after function\n",
      "1.25\n"
     ]
    }
   ],
   "source": [
    "def my_decorator(func):\n",
    "    def wrapped(*args, **kwargs):\n",
    "        print('before function')\n",
    "        \n",
    "        print('Name:', kwargs['name'], ' ==> ', 'Age:', kwargs['age'])\n",
    "        \n",
    "        x, y = args\n",
    "        if x<y:\n",
    "            x, y = y, x\n",
    "        \n",
    "        if y == 0:\n",
    "            return\n",
    "        \n",
    "        response = func(x, y)\n",
    "        \n",
    "        print('after function')\n",
    "        return response\n",
    "    \n",
    "    return wrapped\n",
    "\n",
    "@my_decorator\n",
    "def my_function(a, b):\n",
    "    print('Division = Greater / Smaller')\n",
    "    return a / b\n",
    "\n",
    "\n",
    "print(my_function(4, 5, name='Tuhin', age=24))      # here print or return depends on division()"
   ]
  },
  {
   "cell_type": "markdown",
   "metadata": {},
   "source": [
    "# Example - 7"
   ]
  },
  {
   "cell_type": "code",
   "execution_count": 47,
   "metadata": {},
   "outputs": [
    {
     "name": "stdout",
     "output_type": "stream",
     "text": [
      "before function\n",
      "Maximum Number:  16\n",
      "Last kwargs:  age\n",
      "name  ===>  Tuhin\n",
      "age  ===>  24\n",
      "Summation:\n",
      "after function\n",
      "25\n"
     ]
    }
   ],
   "source": [
    "def my_decorator(func):\n",
    "    def wrapped(*args, **kwargs):\n",
    "        print('before function')\n",
    "        \n",
    "        print('Maximum Number: ', max(args))\n",
    "        print('Last kwargs: ', (list(kwargs.keys()))[-1])\n",
    "        \n",
    "        response = func(*args, **kwargs)\n",
    "        \n",
    "        print('after function')\n",
    "        return response\n",
    "    \n",
    "    return wrapped\n",
    "\n",
    "\n",
    "def my_function(*args, **kwargs):\n",
    "    for x in kwargs.keys():\n",
    "        print(x, ' ===> ', kwargs[x])\n",
    "    \n",
    "    print('Summation:')\n",
    "    return sum(args)\n",
    "\n",
    "\n",
    "myFunc = my_decorator(my_function)\n",
    "\n",
    "print(myFunc(4, 5, 16, name='Tuhin', age=24))      # here print or return depends on division()"
   ]
  },
  {
   "cell_type": "code",
   "execution_count": 46,
   "metadata": {},
   "outputs": [
    {
     "name": "stdout",
     "output_type": "stream",
     "text": [
      "before function\n",
      "Maximum Number:  16\n",
      "Last kwargs:  age\n",
      "name  ===>  Tuhin\n",
      "age  ===>  24\n",
      "Summation:\n",
      "after function\n",
      "25\n"
     ]
    }
   ],
   "source": [
    "def my_decorator(func):\n",
    "    def wrapped(*args, **kwargs):\n",
    "        print('before function')\n",
    "        \n",
    "        print('Maximum Number: ', max(args))\n",
    "        print('Last kwargs: ', (list(kwargs.keys()))[-1])\n",
    "        \n",
    "        response = func(*args, **kwargs)\n",
    "        \n",
    "        print('after function')\n",
    "        return response\n",
    "    \n",
    "    return wrapped\n",
    "\n",
    "\n",
    "@my_decorator\n",
    "def my_function(*args, **kwargs):\n",
    "    for x in kwargs.keys():\n",
    "        print(x, ' ===> ', kwargs[x])\n",
    "    \n",
    "    print('Summation:')\n",
    "    return sum(args)\n",
    "\n",
    "\n",
    "print(my_function(4, 5, 16, name='Tuhin', age=24))      # here print or return depends on division()"
   ]
  },
  {
   "cell_type": "markdown",
   "metadata": {},
   "source": [
    "# Example - 8"
   ]
  },
  {
   "cell_type": "code",
   "execution_count": 3,
   "metadata": {},
   "outputs": [
    {
     "name": "stdout",
     "output_type": "stream",
     "text": [
      "******************************\n",
      "%%%%%%%%%%%%%%%%%%%%%%%%%%%%%%%%%%%%%%%%%%%%%%%%%%\n",
      "Hello\n",
      "############################################################\n",
      "$$$$$$$$$$$$$$$$$$$$$$$$$$$$$$$$$$$$$$$$\n"
     ]
    }
   ],
   "source": [
    "def star(func):\n",
    "    def inner(*args, **kwargs):\n",
    "        print(\"*\" * 30)\n",
    "        func(*args, **kwargs)\n",
    "        print(\"$\" * 40)\n",
    "    return inner\n",
    "\n",
    "def percent(func):\n",
    "    def inner(*args, **kwargs):\n",
    "        print(\"%\" * 50)\n",
    "        func(*args, **kwargs)\n",
    "        print(\"#\" * 60)\n",
    "    return inner\n",
    "\n",
    "@star\n",
    "@percent\n",
    "def printer(msg):\n",
    "    print(msg)\n",
    "printer(\"Hello\")"
   ]
  },
  {
   "cell_type": "markdown",
   "metadata": {},
   "source": [
    "# Neasted Function"
   ]
  },
  {
   "cell_type": "code",
   "execution_count": 8,
   "metadata": {},
   "outputs": [
    {
     "name": "stdout",
     "output_type": "stream",
     "text": [
      "From Main\n",
      "From Innter\n",
      "From wrapper\n",
      "From Inside Wrapper\n"
     ]
    }
   ],
   "source": [
    "def decorator_func(): \n",
    "    print('From Main')\n",
    "  \n",
    "    def Inner(): \n",
    "        print('From Innter')\n",
    "  \n",
    "        def wrapper(): \n",
    "            print('From wrapper')\n",
    "            \n",
    "            def inside_wrapper():\n",
    "                print('From Inside Wrapper')\n",
    "                \n",
    "            return inside_wrapper    \n",
    "        return wrapper \n",
    "    return Inner \n",
    "  \n",
    "    \n",
    "decorator_func()()()()"
   ]
  },
  {
   "cell_type": "code",
   "execution_count": 9,
   "metadata": {},
   "outputs": [
    {
     "name": "stdout",
     "output_type": "stream",
     "text": [
      "My name is: Tuhin\n",
      "My age is: 24\n",
      "My address is: Desa Petaling\n",
      "My CGPA is: 3.87\n"
     ]
    }
   ],
   "source": [
    "def decorator_func(name): \n",
    "    print('My name is:', name)\n",
    "  \n",
    "    def Inner(age): \n",
    "        print('My age is:', age)\n",
    "  \n",
    "        def wrapper(address): \n",
    "            print('My address is:', address)\n",
    "            \n",
    "            def inside_wrapper(cgpa):\n",
    "                print('My CGPA is:', cgpa)\n",
    "                \n",
    "            return inside_wrapper    \n",
    "        return wrapper \n",
    "    return Inner \n",
    "  \n",
    "    \n",
    "decorator_func('Tuhin')(24)('Desa Petaling')(3.87)"
   ]
  }
 ],
 "metadata": {
  "kernelspec": {
   "display_name": "Python 3",
   "language": "python",
   "name": "python3"
  },
  "language_info": {
   "codemirror_mode": {
    "name": "ipython",
    "version": 3
   },
   "file_extension": ".py",
   "mimetype": "text/x-python",
   "name": "python",
   "nbconvert_exporter": "python",
   "pygments_lexer": "ipython3",
   "version": "3.7.4"
  }
 },
 "nbformat": 4,
 "nbformat_minor": 2
}
