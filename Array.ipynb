{
 "cells": [
  {
   "cell_type": "markdown",
   "metadata": {},
   "source": [
    "## Array can contain only one type of variable\n",
    "## Better to use List instead of Array"
   ]
  },
  {
   "cell_type": "raw",
   "metadata": {},
   "source": [
    "#      'b'\tsigned char\n",
    "#      'B'\tunsigned char\n",
    "#      'u'\tPy_UNICODE\n",
    "#      'h'\tsigned short\n",
    "#      'H'\tunsigned short\n",
    "#      'i'\tsigned int      (+ and - both)\n",
    "#      'I'\tunsigned int\n",
    "#      'l'\tsigned long\n",
    "#      'L'\tunsigned long\n",
    "#      'f'\tfloat\n",
    "#      'd'\tdouble"
   ]
  },
  {
   "cell_type": "code",
   "execution_count": 2,
   "metadata": {},
   "outputs": [
    {
     "name": "stdout",
     "output_type": "stream",
     "text": [
      "True\n"
     ]
    }
   ],
   "source": [
    "import array\n",
    "\n",
    "myArray = array.array('i', [1, 2, 3, 4, 5, 6])\n",
    "\n",
    "print(isinstance(myArray, array.array))"
   ]
  },
  {
   "cell_type": "code",
   "execution_count": 1,
   "metadata": {},
   "outputs": [
    {
     "name": "stdout",
     "output_type": "stream",
     "text": [
      "array('i', [1, 2, 3, 4, 5, 6])\n",
      "3\n",
      "6\n",
      "array('i', [1, 2, 3])\n",
      "array('i', [1, 2, 3, 4])\n",
      "6\n",
      "21\n",
      "6\n",
      "1\n"
     ]
    }
   ],
   "source": [
    "import array as arr\n",
    "\n",
    "myArray = arr.array('i', [1, 2, 3, 4, 5, 6])      # i means signed\n",
    "\n",
    "print(myArray)\n",
    "print(myArray[2])\n",
    "print(myArray[-1])\n",
    "\n",
    "print(myArray[0:3])\n",
    "print(myArray[0:-2])\n",
    "\n",
    "print(len(myArray))\n",
    "\n",
    "print(sum(myArray))\n",
    "print(max(myArray))\n",
    "print(min(myArray))"
   ]
  },
  {
   "cell_type": "code",
   "execution_count": 25,
   "metadata": {},
   "outputs": [
    {
     "name": "stdout",
     "output_type": "stream",
     "text": [
      "Enter the length of array: 5\n",
      "Enter the next value: 88\n",
      "Enter the next value: -56\n",
      "Enter the next value: 99\n",
      "Enter the next value: -2\n",
      "Enter the next value: -45353\n",
      "array('i', [88, -56, 99, -2, -45353])\n"
     ]
    }
   ],
   "source": [
    "myArray = array('i', [])\n",
    "\n",
    "n = int(input(\"Enter the length of array: \"))\n",
    "\n",
    "for i in range(0, n, 1):\n",
    "    x = int(input(\"Enter the next value: \"))\n",
    "    \n",
    "    myArray.append(x)\n",
    "\n",
    "print(myArray)"
   ]
  },
  {
   "cell_type": "code",
   "execution_count": 30,
   "metadata": {},
   "outputs": [
    {
     "name": "stdout",
     "output_type": "stream",
     "text": [
      "The new created array is :  2.5 3.2 3.3 "
     ]
    }
   ],
   "source": [
    "b = arr.array('d', [2.5, 3.2, 3.3]) \n",
    "  \n",
    "print (\"The new created array is : \", end =\" \") \n",
    "for i in range (0, 3): \n",
    "    print (b[i], end =\" \") "
   ]
  },
  {
   "cell_type": "markdown",
   "metadata": {},
   "source": [
    "## Array item Assigning"
   ]
  },
  {
   "cell_type": "code",
   "execution_count": 31,
   "metadata": {},
   "outputs": [
    {
     "name": "stdout",
     "output_type": "stream",
     "text": [
      "array('i', [0, 2, 3, 5, 7, 10])\n",
      "array('i', [0, 2, 4, 6, 8, 10])\n"
     ]
    }
   ],
   "source": [
    "import array as arr\n",
    "\n",
    "numbers = arr.array('i', [1, 2, 3, 5, 7, 10])\n",
    "\n",
    "numbers[0] = 0    \n",
    "print(numbers) \n",
    "\n",
    "numbers[2:5] = arr.array('i', [4, 6, 8])   \n",
    "print(numbers)   "
   ]
  },
  {
   "cell_type": "markdown",
   "metadata": {},
   "source": [
    "# Array\n",
    "### count(x), insert(x, y), remove(x), extend([ ]), append(x), pop(), pop(4), reverse()), index()\n",
    "#### don't have shuffle() and sort()"
   ]
  },
  {
   "cell_type": "markdown",
   "metadata": {},
   "source": [
    "## index()"
   ]
  },
  {
   "cell_type": "code",
   "execution_count": 26,
   "metadata": {},
   "outputs": [
    {
     "name": "stdout",
     "output_type": "stream",
     "text": [
      "array('i', [1, 2, 3, 4, 5, 6])\n",
      "3\n",
      "6\n",
      "array('i', [1, 2, 3])\n",
      "array('i', [1, 2, 3, 4])\n"
     ]
    }
   ],
   "source": [
    "import array as arr\n",
    "\n",
    "myArray = arr.array('i', [1, 2, 3, 4, 5, 6])      # i means signed\n",
    "\n",
    "print(myArray)\n",
    "print(myArray[2])\n",
    "print(myArray[-1])\n",
    "\n",
    "print(myArray[0:3])\n",
    "print(myArray[0:-2])"
   ]
  },
  {
   "cell_type": "markdown",
   "metadata": {},
   "source": [
    "## count()"
   ]
  },
  {
   "cell_type": "code",
   "execution_count": 11,
   "metadata": {},
   "outputs": [
    {
     "name": "stdout",
     "output_type": "stream",
     "text": [
      "2\n"
     ]
    }
   ],
   "source": [
    "import array as arr\n",
    "\n",
    "myArray = arr.array('d', [1.4, 1.4, 2.3, 4.6])\n",
    "\n",
    "print(myArray.count(1.4))"
   ]
  },
  {
   "cell_type": "markdown",
   "metadata": {},
   "source": [
    "## insert()"
   ]
  },
  {
   "cell_type": "code",
   "execution_count": 33,
   "metadata": {},
   "outputs": [
    {
     "name": "stdout",
     "output_type": "stream",
     "text": [
      "array('d', [1.4, 2.3, 6.9, 4.6])\n",
      "array('d', [1.4, 66.0, 2.3, 6.9, 4.6])\n"
     ]
    }
   ],
   "source": [
    "import array as arr\n",
    "\n",
    "myArray = arr.array('d', [1.4, 2.3, 4.6])\n",
    "\n",
    "myArray.insert(2, 6.9)      # 2 is position and 6.9 is value\n",
    "\n",
    "print(myArray)\n",
    "\n",
    "myArray.insert(1, 66)  \n",
    "\n",
    "print(myArray)"
   ]
  },
  {
   "cell_type": "markdown",
   "metadata": {},
   "source": [
    "## remove()"
   ]
  },
  {
   "cell_type": "code",
   "execution_count": 13,
   "metadata": {},
   "outputs": [
    {
     "name": "stdout",
     "output_type": "stream",
     "text": [
      "array('d', [1.4, 2.3, 4.6, 104.3, 9.4])\n"
     ]
    }
   ],
   "source": [
    "import array as arr\n",
    "\n",
    "myArray = arr.array('d', [1.4, 2.3, 4.6, 9.4, 104.3, 9.4])\n",
    "\n",
    "myArray.remove(9.4)\n",
    "print(myArray)"
   ]
  },
  {
   "cell_type": "markdown",
   "metadata": {},
   "source": [
    "## append()"
   ]
  },
  {
   "cell_type": "code",
   "execution_count": 14,
   "metadata": {},
   "outputs": [
    {
     "name": "stdout",
     "output_type": "stream",
     "text": [
      "array('d', [1.4, 2.3, 4.6, 6.9])\n",
      "<class 'float'>\n"
     ]
    }
   ],
   "source": [
    "import array as arr\n",
    "\n",
    "myArray = arr.array('d', [1.4, 2.3, 4.6])\n",
    "\n",
    "myArray.append(6.9)\n",
    "\n",
    "print(myArray)\n",
    "print(type(myArray[1]))"
   ]
  },
  {
   "cell_type": "markdown",
   "metadata": {},
   "source": [
    "## extend()"
   ]
  },
  {
   "cell_type": "code",
   "execution_count": 15,
   "metadata": {},
   "outputs": [
    {
     "name": "stdout",
     "output_type": "stream",
     "text": [
      "array('d', [1.4, 2.3, 4.6, 6.9, 45.22, 643.2])\n",
      "<class 'float'>\n"
     ]
    }
   ],
   "source": [
    "import array as arr\n",
    "\n",
    "myArray = arr.array('d', [1.4, 2.3, 4.6])\n",
    "\n",
    "myArray.extend([6.9, 45.22, 643.2])\n",
    "\n",
    "print(myArray)\n",
    "print(type(myArray[0]))"
   ]
  },
  {
   "cell_type": "markdown",
   "metadata": {},
   "source": [
    "## pop()"
   ]
  },
  {
   "cell_type": "code",
   "execution_count": 16,
   "metadata": {},
   "outputs": [
    {
     "name": "stdout",
     "output_type": "stream",
     "text": [
      "104.3\n",
      "4.6\n",
      "9.4\n"
     ]
    }
   ],
   "source": [
    "import array as arr\n",
    "\n",
    "myArray = arr.array('d', [1.4, 2.3, 4.6, 9.4, 104.3])\n",
    "\n",
    "print(myArray.pop())\n",
    "print(myArray.pop(2))\n",
    "print(myArray.pop(-1))"
   ]
  },
  {
   "cell_type": "markdown",
   "metadata": {},
   "source": [
    "## reverse()"
   ]
  },
  {
   "cell_type": "code",
   "execution_count": 17,
   "metadata": {},
   "outputs": [
    {
     "name": "stdout",
     "output_type": "stream",
     "text": [
      "array('d', [9.4, 104.3, 9.4, 4.6, 2.3, 1.4])\n"
     ]
    }
   ],
   "source": [
    "import array as arr\n",
    "\n",
    "myArray = arr.array('d', [1.4, 2.3, 4.6, 9.4, 104.3, 9.4])\n",
    "\n",
    "myArray.reverse()\n",
    "\n",
    "print(myArray)"
   ]
  },
  {
   "cell_type": "markdown",
   "metadata": {},
   "source": [
    "## del"
   ]
  },
  {
   "cell_type": "code",
   "execution_count": 36,
   "metadata": {},
   "outputs": [
    {
     "name": "stdout",
     "output_type": "stream",
     "text": [
      "array('d', [1.4, 2.3, 4.6, 9.4, 104.3, 9.4])\n"
     ]
    }
   ],
   "source": [
    "import array as arr\n",
    "\n",
    "myArray = arr.array('d', [1.4, 2.3, 4.6, 9.4, 104.3, 9.4])\n",
    "print(myArray)\n",
    "\n",
    "del myArray"
   ]
  },
  {
   "cell_type": "markdown",
   "metadata": {},
   "source": [
    "# Difference between List and Array"
   ]
  },
  {
   "cell_type": "code",
   "execution_count": 21,
   "metadata": {},
   "outputs": [
    {
     "name": "stdout",
     "output_type": "stream",
     "text": [
      "[3, 3.1416, 'tuhin']\n",
      "<class 'int'>\n",
      "<class 'float'>\n",
      "<class 'str'>\n"
     ]
    }
   ],
   "source": [
    "myList = []\n",
    "\n",
    "myList.append(3)\n",
    "myList.append(3.1416)\n",
    "myList.append('tuhin')\n",
    "print(myList)\n",
    "\n",
    "print(type(myList[0]))\n",
    "print(type(myList[1]))\n",
    "print(type(myList[2]))"
   ]
  },
  {
   "cell_type": "code",
   "execution_count": 24,
   "metadata": {},
   "outputs": [
    {
     "name": "stdout",
     "output_type": "stream",
     "text": [
      "array('i', [4, 55, 2323])\n",
      "[4, 55, 2323]\n",
      "[4, 55, 2323]\n"
     ]
    }
   ],
   "source": [
    "import array as myArray\n",
    "\n",
    "myIntArray = myArray.array('i', [])\n",
    "\n",
    "myIntArray.append(4)\n",
    "myIntArray.append(55)       # we can't append float: myIntArray.append(22.34)\n",
    "myIntArray.append(2323)     # we can't append string: myIntArray.append('tuhin')  \n",
    "\n",
    "print(myIntArray)\n",
    "\n",
    "myIntArrayList = [x for x in myIntArray]\n",
    "print(myIntArrayList)\n",
    "\n",
    "# or\n",
    "\n",
    "a = list(myIntArray)\n",
    "print(a)"
   ]
  }
 ],
 "metadata": {
  "kernelspec": {
   "display_name": "Python 3",
   "language": "python",
   "name": "python3"
  },
  "language_info": {
   "codemirror_mode": {
    "name": "ipython",
    "version": 3
   },
   "file_extension": ".py",
   "mimetype": "text/x-python",
   "name": "python",
   "nbconvert_exporter": "python",
   "pygments_lexer": "ipython3",
   "version": "3.7.4"
  }
 },
 "nbformat": 4,
 "nbformat_minor": 2
}
