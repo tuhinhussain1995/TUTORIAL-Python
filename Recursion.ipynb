{
 "cells": [
  {
   "cell_type": "markdown",
   "metadata": {},
   "source": [
    "#### Recursion is the process of defining something in terms of itself."
   ]
  },
  {
   "cell_type": "markdown",
   "metadata": {},
   "source": [
    "# Factorial"
   ]
  },
  {
   "cell_type": "code",
   "execution_count": 10,
   "metadata": {},
   "outputs": [
    {
     "name": "stdout",
     "output_type": "stream",
     "text": [
      "5  factorial =  120\n"
     ]
    }
   ],
   "source": [
    "def factorial(n):\n",
    "    if (n != 0):\n",
    "        return n * factorial(n-1)\n",
    "    else:\n",
    "        return 1;\n",
    "    \n",
    "    \n",
    "number = 5\n",
    "\n",
    "result = factorial(number)\n",
    "\n",
    "print(number, \" factorial = \", result)"
   ]
  },
  {
   "cell_type": "markdown",
   "metadata": {},
   "source": [
    "# Fibonacci"
   ]
  },
  {
   "cell_type": "code",
   "execution_count": 2,
   "metadata": {},
   "outputs": [
    {
     "name": "stdout",
     "output_type": "stream",
     "text": [
      "0  1  1  2  3  5  8  13  21  34  55  89  144  233  377  610  987"
     ]
    }
   ],
   "source": [
    "n1=0\n",
    "n2=1\n",
    "n3=0\n",
    "\n",
    "def fibonacci(count):\n",
    "    global n1, n2, n3\n",
    "    \n",
    "    if(count>0):\n",
    "        n3 = n1 + n2\n",
    "        n1 = n2\n",
    "        n2 = n3\n",
    "        \n",
    "        print(\" \", n3, end='')\n",
    "        fibonacci(count-1)\n",
    "        \n",
    "            \n",
    "count=15\n",
    "print(n1, \"\", n2, end='')\n",
    "\n",
    "fibonacci(count)          "
   ]
  },
  {
   "cell_type": "code",
   "execution_count": 2,
   "metadata": {},
   "outputs": [
    {
     "name": "stdout",
     "output_type": "stream",
     "text": [
      "1\n",
      "1\n",
      "2\n",
      "3\n",
      "5\n",
      "8\n",
      "13\n",
      "21\n",
      "34\n",
      "55\n"
     ]
    }
   ],
   "source": [
    "def genfibon(n):\n",
    "    a = 1\n",
    "    b = 1\n",
    "    for i in range(n):\n",
    "        yield a\n",
    "        a,b = b,a+b\n",
    "        \n",
    "for num in genfibon(10):\n",
    "    print(num)        "
   ]
  },
  {
   "cell_type": "code",
   "execution_count": 3,
   "metadata": {},
   "outputs": [
    {
     "name": "stdout",
     "output_type": "stream",
     "text": [
      "[1, 1, 2, 3, 5, 8, 13, 21, 34, 55]\n"
     ]
    }
   ],
   "source": [
    "def fibon(n):\n",
    "    a = 1\n",
    "    b = 1\n",
    "    output = []\n",
    "    \n",
    "    for i in range(n):\n",
    "        output.append(a)\n",
    "        a,b = b,a+b\n",
    "        \n",
    "    return output\n",
    "\n",
    "print(fibon(10))"
   ]
  },
  {
   "cell_type": "markdown",
   "metadata": {},
   "source": [
    "# Even"
   ]
  },
  {
   "cell_type": "code",
   "execution_count": 27,
   "metadata": {},
   "outputs": [
    {
     "name": "stdout",
     "output_type": "stream",
     "text": [
      "10  12  14  16  18  20  22  24  26  28  30  "
     ]
    }
   ],
   "source": [
    "def evenNumbers(start, end):\n",
    "    \n",
    "    if(start <= end):\n",
    "        if start%2 == 0:\n",
    "            print(start, ' ', end='')\n",
    "            \n",
    "        start += 1\n",
    "            \n",
    "        evenNumbers(start, end)\n",
    "        \n",
    "            \n",
    "evenNumbers(10, 30)  "
   ]
  },
  {
   "cell_type": "markdown",
   "metadata": {},
   "source": [
    "### Recursive functions are hard to debug."
   ]
  }
 ],
 "metadata": {
  "kernelspec": {
   "display_name": "Python 3",
   "language": "python",
   "name": "python3"
  },
  "language_info": {
   "codemirror_mode": {
    "name": "ipython",
    "version": 3
   },
   "file_extension": ".py",
   "mimetype": "text/x-python",
   "name": "python",
   "nbconvert_exporter": "python",
   "pygments_lexer": "ipython3",
   "version": "3.7.4"
  }
 },
 "nbformat": 4,
 "nbformat_minor": 2
}
