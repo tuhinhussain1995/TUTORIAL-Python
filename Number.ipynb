{
 "cells": [
  {
   "cell_type": "code",
   "execution_count": 8,
   "metadata": {},
   "outputs": [
    {
     "name": "stdout",
     "output_type": "stream",
     "text": [
      "2\n",
      "4\n",
      "4.0\n",
      "1.5\n",
      "2\n"
     ]
    }
   ],
   "source": [
    "print(2)\n",
    "print(2*2)\n",
    "print((3+2)/5*3+2-1)  # at first parenthesis, then division, multiplication, addition and subtruction\n",
    "print(6/4)\n",
    "\n",
    "print(6%4)          # Remainder or modulo"
   ]
  },
  {
   "cell_type": "code",
   "execution_count": 2,
   "metadata": {},
   "outputs": [
    {
     "name": "stdout",
     "output_type": "stream",
     "text": [
      "0\n"
     ]
    }
   ],
   "source": [
    "my_dict = {'key1':123,'key2':[12,23,33],'key3':['item0','item1','item2']}\n",
    "\n",
    "my_dict['key1'] -= 123\n",
    "\n",
    "print(my_dict['key1'])"
   ]
  },
  {
   "cell_type": "markdown",
   "metadata": {},
   "source": [
    "### floor division"
   ]
  },
  {
   "cell_type": "code",
   "execution_count": 7,
   "metadata": {},
   "outputs": [
    {
     "name": "stdout",
     "output_type": "stream",
     "text": [
      "1.5\n",
      "1\n",
      "<class 'int'>\n"
     ]
    }
   ],
   "source": [
    "print(6/4)          # Normal Division\n",
    "\n",
    "print(6//4)         # Down round or Floor Division\n",
    "print(type(6//4))   # Down round or Floor Division"
   ]
  },
  {
   "cell_type": "markdown",
   "metadata": {},
   "source": [
    "### round"
   ]
  },
  {
   "cell_type": "code",
   "execution_count": 5,
   "metadata": {},
   "outputs": [
    {
     "name": "stdout",
     "output_type": "stream",
     "text": [
      "2\n",
      "4\n",
      "4\n",
      "3\n"
     ]
    }
   ],
   "source": [
    "print(round(6/4))\n",
    "\n",
    "print(round(3.645))\n",
    "print(round(3.50))\n",
    "print(round(3.499))"
   ]
  },
  {
   "cell_type": "code",
   "execution_count": 3,
   "metadata": {},
   "outputs": [
    {
     "name": "stdout",
     "output_type": "stream",
     "text": [
      "5.23\n",
      "3.142\n",
      "35.0\n"
     ]
    }
   ],
   "source": [
    "print(round(5.23222, 2))\n",
    "print(round(3.14169, 3))\n",
    "print(round(34.99999, 2))"
   ]
  },
  {
   "cell_type": "markdown",
   "metadata": {},
   "source": [
    "### pow"
   ]
  },
  {
   "cell_type": "code",
   "execution_count": 10,
   "metadata": {},
   "outputs": [
    {
     "name": "stdout",
     "output_type": "stream",
     "text": [
      "256\n",
      "2.0\n",
      "2.265767770591597\n",
      "2\n"
     ]
    }
   ],
   "source": [
    "print(2**8)\n",
    "\n",
    "print(4**0.5)       # This is the root\n",
    "\n",
    "print(4**.59)      \n",
    "print(int(4**.59))"
   ]
  },
  {
   "cell_type": "code",
   "execution_count": 11,
   "metadata": {},
   "outputs": [
    {
     "name": "stdout",
     "output_type": "stream",
     "text": [
      "256\n",
      "2.0\n",
      "2.265767770591597\n",
      "2\n"
     ]
    }
   ],
   "source": [
    "print(pow(2, 8))\n",
    "\n",
    "print(pow(4, 0.5))  # This is the root\n",
    "\n",
    "print(pow(4, 0.59))\n",
    "print(int(pow(4, 0.59)))"
   ]
  },
  {
   "cell_type": "markdown",
   "metadata": {},
   "source": [
    "### abs "
   ]
  },
  {
   "cell_type": "code",
   "execution_count": 1,
   "metadata": {},
   "outputs": [
    {
     "name": "stdout",
     "output_type": "stream",
     "text": [
      "3.14\n",
      "3\n"
     ]
    }
   ],
   "source": [
    "print(abs(-3.14))\n",
    "print(abs(3))"
   ]
  },
  {
   "cell_type": "markdown",
   "metadata": {},
   "source": [
    "## fractions"
   ]
  },
  {
   "cell_type": "code",
   "execution_count": 5,
   "metadata": {},
   "outputs": [
    {
     "name": "stdout",
     "output_type": "stream",
     "text": [
      "3/2\n",
      "5\n",
      "1/3\n"
     ]
    }
   ],
   "source": [
    "import fractions\n",
    "\n",
    "print(fractions.Fraction(1.5))\n",
    "print(fractions.Fraction(5))\n",
    "print(fractions.Fraction(1,3))"
   ]
  },
  {
   "cell_type": "code",
   "execution_count": 6,
   "metadata": {},
   "outputs": [
    {
     "name": "stdout",
     "output_type": "stream",
     "text": [
      "2476979795053773/2251799813685248\n",
      "11/10\n"
     ]
    }
   ],
   "source": [
    "import fractions\n",
    "\n",
    "print(fractions.Fraction(1.1))\n",
    "print(fractions.Fraction('1.1'))        # using string number"
   ]
  },
  {
   "cell_type": "code",
   "execution_count": 11,
   "metadata": {},
   "outputs": [
    {
     "name": "stdout",
     "output_type": "stream",
     "text": [
      "2/3\n",
      "6/5\n",
      "False\n",
      "True\n"
     ]
    }
   ],
   "source": [
    "from fractions import Fraction as F\n",
    "\n",
    "print(F(1, 3) + F(1, 3))\n",
    "print(1 / F(5, 6))\n",
    "print(F(-3, 10) > 0)\n",
    "print(F(-3, 10) < 0)"
   ]
  },
  {
   "cell_type": "markdown",
   "metadata": {},
   "source": [
    "# math function"
   ]
  },
  {
   "cell_type": "markdown",
   "metadata": {},
   "source": [
    "### pow(x, y), sqrt(x), fabs(-x), floor(x), ceil(x), pi, e, radians(x), degrees(x), factorial(x), sin(x), cos(x), tan(x), log(x), log10(x), exp(x), e**(x)"
   ]
  },
  {
   "cell_type": "code",
   "execution_count": 12,
   "metadata": {},
   "outputs": [
    {
     "name": "stdout",
     "output_type": "stream",
     "text": [
      "3\n",
      "2\n",
      "2.0\n",
      "256\n",
      "10.0\n",
      "7.096477999684069\n"
     ]
    }
   ],
   "source": [
    "import math;\n",
    "\n",
    "print(math.ceil(7/3))\n",
    "print(math.floor(7/3))\n",
    "\n",
    "print(math.pow(4, 0.5))\n",
    "print(pow(2, 8))\n",
    "\n",
    "print(math.sqrt(100))\n",
    "print(math.sqrt(50.36))"
   ]
  },
  {
   "cell_type": "code",
   "execution_count": 13,
   "metadata": {},
   "outputs": [
    {
     "name": "stdout",
     "output_type": "stream",
     "text": [
      "3\n",
      "2\n"
     ]
    }
   ],
   "source": [
    "import math;\n",
    "\n",
    "value = 7/3\n",
    "\n",
    "print(math.ceil(value))\n",
    "print(math.floor(value))"
   ]
  },
  {
   "cell_type": "code",
   "execution_count": 12,
   "metadata": {},
   "outputs": [
    {
     "name": "stdout",
     "output_type": "stream",
     "text": [
      "10.0\n",
      "6\n",
      "3.141592653589793\n",
      "2.718281828459045\n",
      "0.5235987755982988\n",
      "29.999999999999996\n",
      "0.4999924000896871\n",
      "1.1752011936438014\n",
      "0.8660297915502413\n",
      "-1.0\n",
      "0.5773385684511765\n",
      "2.302585092994046\n",
      "1.0\n",
      "22026.465794806718\n",
      "22026.465794806703\n"
     ]
    }
   ],
   "source": [
    "import math\n",
    "\n",
    "print(math.fabs(-10))\n",
    "print(math.factorial(3))\n",
    "print(math.pi)\n",
    "print(math.e)\n",
    "print(math.radians(30))\n",
    "print(math.degrees(math.pi/6))\n",
    "print(math.sin(0.52359))\n",
    "print(math.sinh(1))\n",
    "print(math.cos(0.52359))\n",
    "print(math.cos(math.pi))\n",
    "print(math.tan(0.52359))\n",
    "print(math.log(10))\n",
    "print(math.log10(10))\n",
    "print(math.exp(10))\n",
    "print(math.e**10)"
   ]
  },
  {
   "cell_type": "code",
   "execution_count": 15,
   "metadata": {},
   "outputs": [
    {
     "name": "stdout",
     "output_type": "stream",
     "text": [
      "PI = 180 degrees\n",
      "1 degree = 0.017453292519943295 radian\n",
      "1 radian = 57.29577951308232 degrees\n"
     ]
    }
   ],
   "source": [
    "import math\n",
    "\n",
    "print(\"PI = 180 degrees\")\n",
    "print(\"1 degree =\", (math.pi)/180, \"radian\")\n",
    "print(\"1 radian =\", 180/(math.pi), \"degrees\")"
   ]
  },
  {
   "cell_type": "code",
   "execution_count": 16,
   "metadata": {},
   "outputs": [
    {
     "name": "stdout",
     "output_type": "stream",
     "text": [
      "1.0\n",
      "-0.5000000000000004\n"
     ]
    }
   ],
   "source": [
    "# Sine Degree to Radians\n",
    "\n",
    "import math\n",
    "\n",
    "print(math.sin(math.radians(90)))\n",
    "print(math.sin(math.radians(330)))"
   ]
  },
  {
   "cell_type": "code",
   "execution_count": null,
   "metadata": {},
   "outputs": [],
   "source": []
  },
  {
   "cell_type": "code",
   "execution_count": null,
   "metadata": {},
   "outputs": [],
   "source": []
  },
  {
   "cell_type": "code",
   "execution_count": null,
   "metadata": {},
   "outputs": [],
   "source": []
  }
 ],
 "metadata": {
  "kernelspec": {
   "display_name": "Python 3",
   "language": "python",
   "name": "python3"
  },
  "language_info": {
   "codemirror_mode": {
    "name": "ipython",
    "version": 3
   },
   "file_extension": ".py",
   "mimetype": "text/x-python",
   "name": "python",
   "nbconvert_exporter": "python",
   "pygments_lexer": "ipython3",
   "version": "3.7.4"
  }
 },
 "nbformat": 4,
 "nbformat_minor": 2
}
