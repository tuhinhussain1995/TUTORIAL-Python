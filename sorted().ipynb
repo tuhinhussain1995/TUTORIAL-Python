{
 "cells": [
  {
   "cell_type": "markdown",
   "metadata": {},
   "source": [
    "# sorted returns list data type"
   ]
  },
  {
   "cell_type": "markdown",
   "metadata": {},
   "source": [
    "### string"
   ]
  },
  {
   "cell_type": "code",
   "execution_count": 6,
   "metadata": {},
   "outputs": [
    {
     "name": "stdout",
     "output_type": "stream",
     "text": [
      "['h', 'i', 'n', 't', 'u']\n",
      "['u', 't', 'n', 'i', 'h']\n"
     ]
    }
   ],
   "source": [
    "myString = 'tuhin'\n",
    "\n",
    "print(sorted(myString))\n",
    "\n",
    "print(sorted(myString, reverse=True))"
   ]
  },
  {
   "cell_type": "markdown",
   "metadata": {},
   "source": [
    "### list"
   ]
  },
  {
   "cell_type": "code",
   "execution_count": 7,
   "metadata": {},
   "outputs": [
    {
     "name": "stdout",
     "output_type": "stream",
     "text": [
      "[1, 2, 3, 4, 5]\n",
      "[5, 4, 3, 2, 1]\n"
     ]
    }
   ],
   "source": [
    "myList = [5, 2, 3, 1, 4]\n",
    "\n",
    "print(sorted(myList))\n",
    "\n",
    "print(sorted(myList, reverse=True))"
   ]
  },
  {
   "cell_type": "markdown",
   "metadata": {},
   "source": [
    "### dictionary"
   ]
  },
  {
   "cell_type": "code",
   "execution_count": 8,
   "metadata": {},
   "outputs": [
    {
     "name": "stdout",
     "output_type": "stream",
     "text": [
      "['a', 'e', 'i', 'o', 'u']\n",
      "['u', 'o', 'i', 'e', 'a']\n"
     ]
    }
   ],
   "source": [
    "myDict = {'e': 1, 'a': 2, 'u': 3, 'o': 4, 'i': 5}\n",
    "\n",
    "print(sorted(myDict))                    # dictionary name return the key\n",
    "\n",
    "print(sorted(myDict, reverse=True))"
   ]
  },
  {
   "cell_type": "markdown",
   "metadata": {},
   "source": [
    "### tuple"
   ]
  },
  {
   "cell_type": "code",
   "execution_count": 10,
   "metadata": {},
   "outputs": [
    {
     "name": "stdout",
     "output_type": "stream",
     "text": [
      "['a', 'e', 'i', 'o', 'u']\n",
      "['u', 'o', 'i', 'e', 'a']\n"
     ]
    }
   ],
   "source": [
    "myTuple = ('e', 'a', 'u', 'o', 'i')\n",
    "\n",
    "print(sorted(myTuple))\n",
    "\n",
    "print(sorted(myTuple, reverse=True))"
   ]
  },
  {
   "cell_type": "markdown",
   "metadata": {},
   "source": [
    "### set"
   ]
  },
  {
   "cell_type": "code",
   "execution_count": 11,
   "metadata": {},
   "outputs": [
    {
     "name": "stdout",
     "output_type": "stream",
     "text": [
      "[1, 2, 3, 4, 5]\n",
      "[5, 4, 3, 2, 1]\n"
     ]
    }
   ],
   "source": [
    "mySet = {5, 2, 3, 1, 4}\n",
    "\n",
    "print(sorted(mySet))\n",
    "\n",
    "print(sorted(mySet, reverse=True))"
   ]
  },
  {
   "cell_type": "markdown",
   "metadata": {},
   "source": [
    "# sorted - reverse"
   ]
  },
  {
   "cell_type": "code",
   "execution_count": 2,
   "metadata": {},
   "outputs": [
    {
     "name": "stdout",
     "output_type": "stream",
     "text": [
      "['y', 't', 'o', 'n', 'h', 'P']\n",
      "['u', 'o', 'i', 'e', 'a']\n",
      "['u', 'o', 'i', 'e', 'a']\n",
      "['u', 'o', 'i', 'e', 'a']\n",
      "['u', 'o', 'i', 'e', 'a']\n",
      "['u', 'o', 'i', 'e', 'a']\n"
     ]
    }
   ],
   "source": [
    "py_string = 'Python'\n",
    "print(sorted(py_string, reverse = True))\n",
    "\n",
    "py_list = ['e', 'a', 'u', 'o', 'i']\n",
    "print(sorted(py_list, reverse = True))\n",
    "\n",
    "py_tuple = ('e', 'a', 'u', 'o', 'i')\n",
    "print(sorted(py_tuple, reverse = True))\n",
    "\n",
    "py_dict = {'e': 1, 'a': 2, 'u': 3, 'o': 4, 'i': 5}\n",
    "print(sorted(py_dict, reverse = True))\n",
    "\n",
    "py_set = {'e', 'a', 'u', 'o', 'i'}\n",
    "print(sorted(py_set, reverse = True))\n",
    "\n",
    "frozen_set = frozenset(('e', 'a', 'u', 'o', 'i'))\n",
    "print(sorted(frozen_set, reverse = True))"
   ]
  },
  {
   "cell_type": "markdown",
   "metadata": {},
   "source": [
    "# sorted key function"
   ]
  },
  {
   "cell_type": "code",
   "execution_count": 12,
   "metadata": {},
   "outputs": [
    {
     "name": "stdout",
     "output_type": "stream",
     "text": [
      "Sorted list: [(4, 1), (2, 2), (1, 3), (3, 4)]\n",
      "Sorted list: [(3, 4), (1, 3), (2, 2), (4, 1)]\n"
     ]
    }
   ],
   "source": [
    "def take_second(elem):\n",
    "    return elem[1]\n",
    "\n",
    "\n",
    "random = [(2, 2), (3, 4), (4, 1), (1, 3)]\n",
    "\n",
    "sorted_list = sorted(random, key=take_second)\n",
    "print('Sorted list:', sorted_list)\n",
    "\n",
    "sorted_list = sorted(random, key=take_second, reverse=True)\n",
    "print('Sorted list:', sorted_list)"
   ]
  },
  {
   "cell_type": "code",
   "execution_count": 18,
   "metadata": {},
   "outputs": [
    {
     "name": "stdout",
     "output_type": "stream",
     "text": [
      "[('Jimmy', 90, 22), ('Terence', 75, 12), ('David', 75, 20), ('Alison', 50, 18), ('John', 45, 12)]\n"
     ]
    }
   ],
   "source": [
    "participant_list = [\n",
    "    ('Alison', 50, 18),\n",
    "    ('Terence', 75, 12),\n",
    "    ('David', 75, 20),\n",
    "    ('Jimmy', 90, 22),\n",
    "    ('John', 45, 12)\n",
    "]\n",
    "\n",
    "\n",
    "def sorter(item):\n",
    "    marks = 100 - item[1]\n",
    "    age = item[2]\n",
    "    return (marks, age)\n",
    "\n",
    "\n",
    "sorted_list = sorted(participant_list, key=sorter)\n",
    "print(sorted_list)"
   ]
  },
  {
   "cell_type": "code",
   "execution_count": 19,
   "metadata": {},
   "outputs": [
    {
     "name": "stdout",
     "output_type": "stream",
     "text": [
      "[('Jimmy', 90, 22), ('David', 75, 20), ('Terence', 75, 12), ('Alison', 50, 18), ('John', 45, 12)]\n"
     ]
    }
   ],
   "source": [
    "participant_list = [\n",
    "    ('Alison', 50, 18),\n",
    "    ('Terence', 75, 12),\n",
    "    ('David', 75, 20),\n",
    "    ('Jimmy', 90, 22),\n",
    "    ('John', 45, 12)\n",
    "]\n",
    "\n",
    "\n",
    "def sorter(item):\n",
    "    marks = item[1]\n",
    "    age = item[2]\n",
    "    return (marks, age)\n",
    "\n",
    "\n",
    "sorted_list = sorted(participant_list, key=sorter, reverse=True)\n",
    "print(sorted_list)"
   ]
  },
  {
   "cell_type": "code",
   "execution_count": 17,
   "metadata": {},
   "outputs": [
    {
     "name": "stdout",
     "output_type": "stream",
     "text": [
      "[('Jimmy', 90, 22), ('Terence', 75, 12), ('David', 75, 20), ('Alison', 50, 18), ('John', 45, 12)]\n"
     ]
    }
   ],
   "source": [
    "participant_list = [\n",
    "    ('Alison', 50, 18),\n",
    "    ('Terence', 75, 12),\n",
    "    ('David', 75, 20),\n",
    "    ('Jimmy', 90, 22),\n",
    "    ('John', 45, 12)\n",
    "]\n",
    "\n",
    "sorted_list = sorted(participant_list, key=lambda item: (100-item[1], item[2]))\n",
    "print(sorted_list)"
   ]
  }
 ],
 "metadata": {
  "kernelspec": {
   "display_name": "Python 3",
   "language": "python",
   "name": "python3"
  },
  "language_info": {
   "codemirror_mode": {
    "name": "ipython",
    "version": 3
   },
   "file_extension": ".py",
   "mimetype": "text/x-python",
   "name": "python",
   "nbconvert_exporter": "python",
   "pygments_lexer": "ipython3",
   "version": "3.7.4"
  }
 },
 "nbformat": 4,
 "nbformat_minor": 2
}
