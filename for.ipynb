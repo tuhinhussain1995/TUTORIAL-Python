{
 "cells": [
  {
   "cell_type": "markdown",
   "metadata": {},
   "source": [
    "### A for loop acts as an iterator in Python.\n",
    "### it goes through items that are in a sequence or any other iterable item. \n",
    "### strings, lists, tuples, dictionary, set, enumerate, map, filter, zip, range, dict_keys, dict_values."
   ]
  },
  {
   "cell_type": "code",
   "execution_count": 1,
   "metadata": {},
   "outputs": [
    {
     "name": "stdout",
     "output_type": "stream",
     "text": [
      "[0, 1, 4, 9, 16, 25, 36, 49, 64, 81, 100]\n"
     ]
    }
   ],
   "source": [
    "myList = [num**2 for num in range(0, 11)]\n",
    "\n",
    "print(myList)"
   ]
  },
  {
   "cell_type": "code",
   "execution_count": 2,
   "metadata": {},
   "outputs": [
    {
     "name": "stdout",
     "output_type": "stream",
     "text": [
      "[1.0, 2.0, 3.0, 4.0, 5.0]\n"
     ]
    }
   ],
   "source": [
    "myString = ['1', '2', '3', '4', '5']\n",
    "myStringFloat = list(float(x) for x in myString)\n",
    "print(myStringFloat)"
   ]
  },
  {
   "cell_type": "code",
   "execution_count": 1,
   "metadata": {},
   "outputs": [
    {
     "name": "stdout",
     "output_type": "stream",
     "text": [
      "  3 4 5 \n"
     ]
    }
   ],
   "source": [
    "a = ['1', '2', '3', '4', '5', '6']\n",
    "b = ['3', '4', '5', '22']\n",
    "\n",
    "values = \" \".join(x if x in b else '' for x in a)\n",
    "print(values)"
   ]
  },
  {
   "cell_type": "markdown",
   "metadata": {},
   "source": [
    "# String"
   ]
  },
  {
   "cell_type": "code",
   "execution_count": 1,
   "metadata": {},
   "outputs": [
    {
     "name": "stdout",
     "output_type": "stream",
     "text": [
      "H\n",
      "e\n",
      "l\n",
      "l\n",
      "o\n"
     ]
    }
   ],
   "source": [
    "myString = 'Hello'\n",
    "\n",
    "for letter in myString:        # for string for loop takes index no.\n",
    "    print(letter)"
   ]
  },
  {
   "cell_type": "code",
   "execution_count": 2,
   "metadata": {},
   "outputs": [
    {
     "name": "stdout",
     "output_type": "stream",
     "text": [
      "tuhin\n",
      "tuhin\n",
      "tuhin\n",
      "tuhin\n",
      "tuhin\n"
     ]
    }
   ],
   "source": [
    "for letter in 'World':\n",
    "    print('tuhin')"
   ]
  },
  {
   "cell_type": "code",
   "execution_count": 3,
   "metadata": {},
   "outputs": [
    {
     "name": "stdout",
     "output_type": "stream",
     "text": [
      "cool\n",
      "cool\n",
      "cool\n",
      "cool\n",
      "cool\n",
      "cool\n"
     ]
    }
   ],
   "source": [
    "for _ in 'python':\n",
    "    print('cool')"
   ]
  },
  {
   "cell_type": "code",
   "execution_count": 4,
   "metadata": {},
   "outputs": [
    {
     "name": "stdout",
     "output_type": "stream",
     "text": [
      "p\n",
      "y\n",
      "t\n",
      "h\n",
      "o\n",
      "n\n"
     ]
    }
   ],
   "source": [
    "for _ in 'python':\n",
    "    print(_)"
   ]
  },
  {
   "cell_type": "code",
   "execution_count": 5,
   "metadata": {},
   "outputs": [
    {
     "name": "stdout",
     "output_type": "stream",
     "text": [
      "At index 0 the letter is T\n",
      "At index 1 the letter is u\n",
      "At index 2 the letter is h\n",
      "At index 3 the letter is i\n",
      "At index 4 the letter is n\n"
     ]
    }
   ],
   "source": [
    "indexCount = 0\n",
    "\n",
    "for letter in 'Tuhin':\n",
    "    print('At index %d the letter is %s' %(indexCount, letter))\n",
    "    indexCount += 1"
   ]
  },
  {
   "cell_type": "code",
   "execution_count": 6,
   "metadata": {},
   "outputs": [
    {
     "name": "stdout",
     "output_type": "stream",
     "text": [
      "At index 0 the letter is T\n",
      "At index 1 the letter is u\n",
      "At index 2 the letter is h\n",
      "At index 3 the letter is i\n",
      "At index 4 the letter is n\n"
     ]
    }
   ],
   "source": [
    "for index, letter in enumerate('Tuhin'):\n",
    "    print('At index %d the letter is %s' %(index, letter))"
   ]
  },
  {
   "cell_type": "code",
   "execution_count": 4,
   "metadata": {},
   "outputs": [
    {
     "name": "stdout",
     "output_type": "stream",
     "text": [
      "Show\n",
      "sentence\n",
      "start\n",
      "s\n"
     ]
    }
   ],
   "source": [
    "myString = 'Show sentence that is start with s'\n",
    "\n",
    "for word in myString.split():\n",
    "    if word[0] == 's' or word[0] == 'S':\n",
    "        print(word)"
   ]
  },
  {
   "cell_type": "markdown",
   "metadata": {},
   "source": [
    "# List"
   ]
  },
  {
   "cell_type": "code",
   "execution_count": 17,
   "metadata": {},
   "outputs": [
    {
     "name": "stdout",
     "output_type": "stream",
     "text": [
      "1\n",
      "2\n",
      "3\n",
      "4\n",
      "5\n"
     ]
    }
   ],
   "source": [
    "myList = [1, 2, 3, 4, 5]\n",
    "\n",
    "for number in myList:\n",
    "    print(number)"
   ]
  },
  {
   "cell_type": "code",
   "execution_count": 18,
   "metadata": {},
   "outputs": [
    {
     "name": "stdout",
     "output_type": "stream",
     "text": [
      "0\n",
      "1\n",
      "2\n",
      "3\n",
      "4\n",
      "5\n"
     ]
    }
   ],
   "source": [
    "x = range(0, 6, 1)\n",
    "\n",
    "a = list(x)\n",
    "\n",
    "for num in a:\n",
    "    print(num)"
   ]
  },
  {
   "cell_type": "code",
   "execution_count": 19,
   "metadata": {},
   "outputs": [
    {
     "name": "stdout",
     "output_type": "stream",
     "text": [
      "Odd number: 1\n",
      "Even number: 2\n",
      "Odd number: 3\n",
      "Even number: 4\n",
      "Odd number: 5\n",
      "Even number: 6\n",
      "Odd number: 7\n",
      "Even number: 8\n",
      "Odd number: 9\n",
      "Even number: 10\n"
     ]
    }
   ],
   "source": [
    "myList = [1, 2, 3, 4, 5, 6, 7, 8, 9, 10]\n",
    "\n",
    "for num in myList:\n",
    "    if num%2 == 0:\n",
    "        print('Even number: %d' %num)\n",
    "    else:\n",
    "        print('Odd number: %d' %num)"
   ]
  },
  {
   "cell_type": "code",
   "execution_count": 20,
   "metadata": {},
   "outputs": [
    {
     "name": "stdout",
     "output_type": "stream",
     "text": [
      "[(1, 'a', 12.33), (2, 'b', 4.5), (3, 'c', 143.99)]\n",
      "1 --- a --- 12.330000\n",
      "2 --- b --- 4.500000\n",
      "3 --- c --- 143.990000\n"
     ]
    }
   ],
   "source": [
    "myList1 = [1, 2, 3]\n",
    "myList2 = ['a', 'b', 'c']\n",
    "myList3 = [12.33, 4.5, 143.99]\n",
    "\n",
    "myList = list(zip(myList1, myList2, myList3))\n",
    "\n",
    "print(myList)\n",
    "\n",
    "for a, b, c in myList:\n",
    "    print('%d --- %s --- %f' %(a, b, c))"
   ]
  },
  {
   "cell_type": "code",
   "execution_count": 1,
   "metadata": {},
   "outputs": [
    {
     "name": "stdout",
     "output_type": "stream",
     "text": [
      "\t tuhin \t hussain \t 24 \t Male \t 1500\n",
      "\t sumon \t azharul \t 25 \t Male \t 2400\n",
      "\t nazrul \t islam \t 29 \t Male \t 2000\n"
     ]
    }
   ],
   "source": [
    "myFullList = [\n",
    "    ['tuhin', 'hussain', 24, 'Male', 1500],\n",
    "    ['sumon', 'azharul', 25, 'Male', 2400],\n",
    "    ['nazrul', 'islam', 29, 'Male', 2000],\n",
    "]\n",
    "\n",
    "for x in myFullList:\n",
    "    fn, ln, a, g, s = x\n",
    "    print('\\t', fn, '\\t', ln, '\\t', a, '\\t', g, '\\t', s)"
   ]
  },
  {
   "cell_type": "code",
   "execution_count": 2,
   "metadata": {},
   "outputs": [
    {
     "name": "stdout",
     "output_type": "stream",
     "text": [
      "\t tuhin \t hussain \t 24 \t Male \t 1500\n",
      "\t sumon \t azharul \t 25 \t Male \t 2400\n",
      "\t nazrul \t islam \t 29 \t Male \t 2000\n"
     ]
    }
   ],
   "source": [
    "myFullList = [\n",
    "    ['tuhin', 'hussain', 24, 'Male', 1500],\n",
    "    ['sumon', 'azharul', 25, 'Male', 2400],\n",
    "    ['nazrul', 'islam', 29, 'Male', 2000],\n",
    "]\n",
    "\n",
    "for fn, ln, a, g, s in myFullList:\n",
    "    print('\\t', fn, '\\t', ln, '\\t', a, '\\t', g, '\\t', s)"
   ]
  },
  {
   "cell_type": "code",
   "execution_count": 3,
   "metadata": {},
   "outputs": [
    {
     "name": "stdout",
     "output_type": "stream",
     "text": [
      "Enter the first name that you want to search:sumon\n",
      "\t sumon \t azharul \t 25 \t Male \t 2400\n"
     ]
    }
   ],
   "source": [
    "myFullList = [\n",
    "    ['tuhin', 'hussain', 24, 'Male', 1500],\n",
    "    ['sumon', 'azharul', 25, 'Male', 2400],\n",
    "    ['nazrul', 'islam', 29, 'Male', 2000],\n",
    "]\n",
    "\n",
    "name = str(input('Enter the first name that you want to search:'))\n",
    "\n",
    "for firstName, *others in myFullList:\n",
    "    if firstName == name:\n",
    "        ln, a, g, s = others\n",
    "        print('\\t', firstName, '\\t', ln, '\\t', a, '\\t', g, '\\t', s)"
   ]
  },
  {
   "cell_type": "code",
   "execution_count": 22,
   "metadata": {},
   "outputs": [
    {
     "name": "stdout",
     "output_type": "stream",
     "text": [
      "Adding mushrooms.\n",
      "Sorry, we don't have french fries.\n",
      "Adding extra cheese.\n",
      "\n",
      "Finished making your pizza!\n"
     ]
    }
   ],
   "source": [
    "available_toppings = ['mushrooms', 'olives', 'green peppers','pepperoni', 'pineapple', 'extra cheese']\n",
    "requested_toppings = ['mushrooms', 'french fries', 'extra cheese']\n",
    "\n",
    "for requested_topping in requested_toppings:\n",
    "    if requested_topping in available_toppings:\n",
    "        print(\"Adding \" + requested_topping + \".\")\n",
    "    else:\n",
    "        print(\"Sorry, we don't have \" + requested_topping + \".\")\n",
    "        \n",
    "print(\"\\nFinished making your pizza!\")"
   ]
  },
  {
   "cell_type": "code",
   "execution_count": 3,
   "metadata": {},
   "outputs": [
    {
     "name": "stdout",
     "output_type": "stream",
     "text": [
      "345\n",
      "<class 'str'>\n"
     ]
    }
   ],
   "source": [
    "a = ['1', '2', '3', '4', '5', '6']\n",
    "b = ['3', '4', '5', '22']\n",
    "\n",
    "values = \"\".join(x if x in b else '' for x in a)\n",
    "print(values)\n",
    "print(type(values))"
   ]
  },
  {
   "cell_type": "markdown",
   "metadata": {},
   "source": [
    "# tuple"
   ]
  },
  {
   "cell_type": "code",
   "execution_count": 23,
   "metadata": {},
   "outputs": [
    {
     "name": "stdout",
     "output_type": "stream",
     "text": [
      "1\n",
      "2\n",
      "3\n"
     ]
    }
   ],
   "source": [
    "tup = (1, 2, 3)\n",
    "\n",
    "for item in tup:\n",
    "    print(item)"
   ]
  },
  {
   "cell_type": "code",
   "execution_count": 24,
   "metadata": {},
   "outputs": [
    {
     "name": "stdout",
     "output_type": "stream",
     "text": [
      "0\n",
      "1\n",
      "2\n",
      "3\n",
      "4\n"
     ]
    }
   ],
   "source": [
    "x = range(0, 5, 1)\n",
    "\n",
    "a = tuple(x)\n",
    "\n",
    "for num in a:\n",
    "    print(num)"
   ]
  },
  {
   "cell_type": "code",
   "execution_count": 26,
   "metadata": {},
   "outputs": [
    {
     "name": "stdout",
     "output_type": "stream",
     "text": [
      "0\n",
      "1\n",
      "2\n",
      "3\n"
     ]
    }
   ],
   "source": [
    "x = tuple(range(0, 4, 1))\n",
    "\n",
    "for num in x:\n",
    "    print(num)"
   ]
  },
  {
   "cell_type": "code",
   "execution_count": 27,
   "metadata": {},
   "outputs": [
    {
     "name": "stdout",
     "output_type": "stream",
     "text": [
      "4\n",
      "(1, 2)\n",
      "(3, 4)\n",
      "(5, 6)\n",
      "(7, 8)\n",
      "<class 'tuple'>\n"
     ]
    }
   ],
   "source": [
    "myList = [(1, 2), (3, 4), (5, 6), (7, 8)]\n",
    "\n",
    "print(len(myList))\n",
    "\n",
    "for item in myList:\n",
    "    print(item)\n",
    "print(type(item))"
   ]
  },
  {
   "cell_type": "code",
   "execution_count": 28,
   "metadata": {},
   "outputs": [
    {
     "name": "stdout",
     "output_type": "stream",
     "text": [
      "1\n",
      "2\n",
      "3\n",
      "4\n",
      "5\n",
      "6\n",
      "7\n",
      "8\n",
      "9\n"
     ]
    }
   ],
   "source": [
    "myList = [(1,2, 3), (4, 5, 6), (7, 8, 9)]\n",
    "\n",
    "for a, b, c in myList:\n",
    "    print(a)\n",
    "    print(b)\n",
    "    print(c)"
   ]
  },
  {
   "cell_type": "code",
   "execution_count": 29,
   "metadata": {},
   "outputs": [
    {
     "name": "stdout",
     "output_type": "stream",
     "text": [
      "((1, 'a', 12.33), (2, 'b', 4.5), (3, 'c', 143.99))\n",
      "1 --- a --- 12.330000\n",
      "2 --- b --- 4.500000\n",
      "3 --- c --- 143.990000\n"
     ]
    }
   ],
   "source": [
    "myTuple1 = (1, 2, 3)\n",
    "myTuple2 = ('a', 'b', 'c')\n",
    "myTuple3 = (12.33, 4.5, 143.99)\n",
    "\n",
    "myTuple = tuple(zip(myTuple1, myTuple2, myTuple3))\n",
    "\n",
    "print(myTuple)\n",
    "\n",
    "for a, b, c in myTuple:\n",
    "    print('%d --- %s --- %f' %(a, b, c))"
   ]
  },
  {
   "cell_type": "markdown",
   "metadata": {},
   "source": [
    "# Dictionary"
   ]
  },
  {
   "cell_type": "code",
   "execution_count": 31,
   "metadata": {},
   "outputs": [
    {
     "name": "stdout",
     "output_type": "stream",
     "text": [
      "key1\n",
      "key2\n",
      "key3\n"
     ]
    }
   ],
   "source": [
    "dictionary = {'key1' : 1, 'key2' : 2, 'key3' : 3}\n",
    "\n",
    "for key in dictionary:\n",
    "    print(key)"
   ]
  },
  {
   "cell_type": "code",
   "execution_count": 32,
   "metadata": {},
   "outputs": [
    {
     "name": "stdout",
     "output_type": "stream",
     "text": [
      "key1\n",
      "key2\n",
      "key3\n"
     ]
    }
   ],
   "source": [
    "dictionary = {'key1' : 1, 'key2' : 2, 'key3' : 3}\n",
    "\n",
    "for key in dictionary.keys():\n",
    "    print(key)"
   ]
  },
  {
   "cell_type": "code",
   "execution_count": 30,
   "metadata": {},
   "outputs": [
    {
     "name": "stdout",
     "output_type": "stream",
     "text": [
      "('key1', 1)\n",
      "('key2', 2)\n",
      "('key3', 3)\n",
      "<class 'tuple'>\n"
     ]
    }
   ],
   "source": [
    "dictionary = {'key1' : 1, 'key2' : 2, 'key3' : 3}\n",
    "\n",
    "for item in dictionary.items():\n",
    "    print(item)\n",
    "print(type(item))"
   ]
  },
  {
   "cell_type": "code",
   "execution_count": 33,
   "metadata": {},
   "outputs": [
    {
     "name": "stdout",
     "output_type": "stream",
     "text": [
      "key1 ------- 1\n",
      "key2 ------- 2\n",
      "key3 ------- 3\n"
     ]
    }
   ],
   "source": [
    "dictionary = {'key1' : 1, 'key2' : 2, 'key3' : 3}\n",
    "\n",
    "for key, value in dictionary.items():\n",
    "    print('%s ------- %d' %(key, value))"
   ]
  },
  {
   "cell_type": "code",
   "execution_count": 34,
   "metadata": {},
   "outputs": [
    {
     "name": "stdout",
     "output_type": "stream",
     "text": [
      "['a', 'tuhin', 'b', 'sumon', 'c', 'nazrul']\n"
     ]
    }
   ],
   "source": [
    "myDictionary = {1: ('a', 'tuhin'), 2: ('b', 'sumon'), 3: ('c', 'nazrul')}\n",
    "\n",
    "myList = []\n",
    "\n",
    "for a,b in myDictionary.values():\n",
    "    myList.append(a)\n",
    "    myList.append(b)\n",
    "\n",
    "print(myList)"
   ]
  },
  {
   "cell_type": "code",
   "execution_count": 8,
   "metadata": {},
   "outputs": [
    {
     "name": "stdout",
     "output_type": "stream",
     "text": [
      "bn964\n",
      "\t tuhin\n",
      "\t 24\n",
      "\t BD\n",
      "\t 5.5\n",
      "bo400\n",
      "\t shah alam\n",
      "\t 25\n",
      "bp415\n",
      "\t nazrul\n",
      "bq315\n",
      "\t mhafuz\n",
      "\t 23\n",
      "\t BD\n"
     ]
    }
   ],
   "source": [
    "myDict = {'bn964':['tuhin', 24, 'BD', 5.5], 'bo400': ['shah alam', 25], 'bp415':['nazrul'], 'bq315':['mhafuz', 23, 'BD']}\n",
    "\n",
    "for x, y in myDict.items():\n",
    "    print(x)\n",
    "    \n",
    "    for z in y:\n",
    "        print('\\t', z)"
   ]
  },
  {
   "cell_type": "markdown",
   "metadata": {},
   "source": [
    "# Set"
   ]
  },
  {
   "cell_type": "code",
   "execution_count": 35,
   "metadata": {},
   "outputs": [
    {
     "name": "stdout",
     "output_type": "stream",
     "text": [
      "2\n",
      "3\n",
      "4\n"
     ]
    }
   ],
   "source": [
    "mySet = {2, 2, 2, 3, 4}\n",
    "\n",
    "for a in mySet:\n",
    "    print(a)"
   ]
  },
  {
   "cell_type": "markdown",
   "metadata": {},
   "source": [
    "# range"
   ]
  },
  {
   "cell_type": "code",
   "execution_count": 11,
   "metadata": {},
   "outputs": [
    {
     "name": "stdout",
     "output_type": "stream",
     "text": [
      "0\n",
      "1\n",
      "2\n",
      "3\n",
      "4\n"
     ]
    }
   ],
   "source": [
    "x = range(0, 5, 1)\n",
    "\n",
    "for num in x:\n",
    "    print(num)"
   ]
  },
  {
   "cell_type": "code",
   "execution_count": 14,
   "metadata": {},
   "outputs": [
    {
     "name": "stdout",
     "output_type": "stream",
     "text": [
      "0\n",
      "2\n",
      "4\n",
      "6\n",
      "8\n",
      "10\n"
     ]
    }
   ],
   "source": [
    "for num in range(0, 11, 2):\n",
    "    print(num)"
   ]
  },
  {
   "cell_type": "code",
   "execution_count": 15,
   "metadata": {},
   "outputs": [
    {
     "name": "stdout",
     "output_type": "stream",
     "text": [
      "Spam found at position 4\n"
     ]
    }
   ],
   "source": [
    "shopping_list = ['milk', \"pasta\", 'egg', \"spam\", \"bread\", \"rice\"]\n",
    "\n",
    "for index in range(len(shopping_list)):\n",
    "    if shopping_list[index] == 'spam':\n",
    "        print('Spam found at position {0}'.format(index+1))\n",
    "        break"
   ]
  },
  {
   "cell_type": "markdown",
   "metadata": {},
   "source": [
    "# enumerate"
   ]
  },
  {
   "cell_type": "code",
   "execution_count": 36,
   "metadata": {},
   "outputs": [
    {
     "name": "stdout",
     "output_type": "stream",
     "text": [
      "(0, 'T')\n",
      "(1, 'u')\n",
      "(2, 'h')\n",
      "(3, 'i')\n",
      "(4, 'n')\n"
     ]
    }
   ],
   "source": [
    "word = 'Tuhin'\n",
    "\n",
    "for item in enumerate(word):\n",
    "    print(item)"
   ]
  },
  {
   "cell_type": "code",
   "execution_count": 37,
   "metadata": {},
   "outputs": [
    {
     "name": "stdout",
     "output_type": "stream",
     "text": [
      "0 = T\n",
      "1 = u\n",
      "2 = h\n",
      "3 = i\n",
      "4 = n\n"
     ]
    }
   ],
   "source": [
    "for index, letter in enumerate('Tuhin'):\n",
    "    print('%d = %s' %(index, letter))"
   ]
  },
  {
   "cell_type": "code",
   "execution_count": 39,
   "metadata": {},
   "outputs": [
    {
     "name": "stdout",
     "output_type": "stream",
     "text": [
      "0 = a\n",
      "1 = b\n",
      "2 = c\n"
     ]
    }
   ],
   "source": [
    "myList = ['a', 'b', 'c']\n",
    "\n",
    "for index, letter in enumerate(myList):\n",
    "    print('%d = %s' %(index, letter))"
   ]
  },
  {
   "cell_type": "code",
   "execution_count": 40,
   "metadata": {},
   "outputs": [
    {
     "name": "stdout",
     "output_type": "stream",
     "text": [
      "[(100, 'a', 12.33), (200, 'b', 4.5), (300, 'c', 143.99)]\n",
      "0\n",
      "\t 100\n",
      "\t a\n",
      "\t 12.33\n",
      "1\n",
      "\t 200\n",
      "\t b\n",
      "\t 4.5\n",
      "2\n",
      "\t 300\n",
      "\t c\n",
      "\t 143.99\n"
     ]
    }
   ],
   "source": [
    "myList1 = [100, 200, 300]\n",
    "myList2 = ['a', 'b', 'c']\n",
    "myList3 = [12.33, 4.5, 143.99]\n",
    "\n",
    "myList = list(zip(myList1, myList2, myList3))\n",
    "\n",
    "print(myList)\n",
    "\n",
    "for index, values in enumerate(myList):\n",
    "    print(index)\n",
    "    \n",
    "    for val in values:\n",
    "        print('\\t', val)"
   ]
  },
  {
   "cell_type": "markdown",
   "metadata": {},
   "source": [
    "# zip"
   ]
  },
  {
   "cell_type": "code",
   "execution_count": 41,
   "metadata": {},
   "outputs": [
    {
     "name": "stdout",
     "output_type": "stream",
     "text": [
      "(1, 'a', 100)\n",
      "(2, 'b', 200)\n",
      "(3, 'c', 300)\n",
      "<class 'tuple'>\n"
     ]
    }
   ],
   "source": [
    "myList1 = [1, 2, 3]\n",
    "myList2 = ['a', 'b', 'c']\n",
    "myList3 = [100, 200, 300]\n",
    "\n",
    "for item in zip(myList1, myList2, myList3):\n",
    "    print(item)\n",
    "    \n",
    "print(type(item))"
   ]
  },
  {
   "cell_type": "code",
   "execution_count": 42,
   "metadata": {},
   "outputs": [
    {
     "name": "stdout",
     "output_type": "stream",
     "text": [
      "1 --- a --- 100\n",
      "2 --- b --- 200\n",
      "3 --- c --- 300\n"
     ]
    }
   ],
   "source": [
    "myList1 = [1, 2, 3]\n",
    "myList2 = ['a', 'b', 'c']\n",
    "myList3 = [100, 200, 300]\n",
    "\n",
    "for item1, item2, item3 in zip(myList1, myList2, myList3):\n",
    "    print('%d --- %s --- %d' %(item1, item2, item3))"
   ]
  },
  {
   "cell_type": "code",
   "execution_count": 2,
   "metadata": {},
   "outputs": [
    {
     "name": "stdout",
     "output_type": "stream",
     "text": [
      "1 --- a --- 100\n",
      "2 --- b --- 200\n",
      "3 --- c --- 300\n"
     ]
    }
   ],
   "source": [
    "myList1 = (1, 2, 3)\n",
    "myList2 = ('a', 'b', 'c')\n",
    "myList3 = [100, 200, 300]\n",
    "\n",
    "for item1, item2, item3 in list(zip(myList1, myList2, myList3)):\n",
    "    print('%d --- %s --- %d' %(item1, item2, item3))"
   ]
  },
  {
   "cell_type": "code",
   "execution_count": 1,
   "metadata": {},
   "outputs": [
    {
     "name": "stdout",
     "output_type": "stream",
     "text": [
      "[(1, 'a'), (2, 'b'), (3, 'c')]\n"
     ]
    }
   ],
   "source": [
    "myList1 = [1, 2, 3]\n",
    "myList2 = ['a', 'b', 'c', 'd', 'e', 'f', 'g', 'h']\n",
    "\n",
    "print(list(zip(myList1, myList2)))"
   ]
  },
  {
   "cell_type": "markdown",
   "metadata": {},
   "source": [
    "# map, filter & lambda"
   ]
  },
  {
   "cell_type": "code",
   "execution_count": 44,
   "metadata": {},
   "outputs": [
    {
     "name": "stdout",
     "output_type": "stream",
     "text": [
      "1\n",
      "4\n",
      "9\n",
      "16\n",
      "25\n"
     ]
    }
   ],
   "source": [
    "def square(num):\n",
    "    return num**2\n",
    "\n",
    "my_nums = [1, 2, 3, 4, 5]\n",
    "\n",
    "for value in map(square, my_nums):\n",
    "    print(value)"
   ]
  },
  {
   "cell_type": "code",
   "execution_count": 45,
   "metadata": {},
   "outputs": [
    {
     "name": "stdout",
     "output_type": "stream",
     "text": [
      "0\n",
      "1\n",
      "8\n",
      "27\n",
      "64\n"
     ]
    }
   ],
   "source": [
    "def create_cubes(n):\n",
    "    result = []\n",
    "\n",
    "    for x in range(n):\n",
    "        result.append(x**3)\n",
    "        \n",
    "    return result\n",
    "\n",
    "for x in create_cubes(5):\n",
    "    print(x)"
   ]
  },
  {
   "cell_type": "code",
   "execution_count": 5,
   "metadata": {},
   "outputs": [
    {
     "name": "stdout",
     "output_type": "stream",
     "text": [
      "0\n",
      "1\n",
      "8\n",
      "27\n",
      "64\n"
     ]
    }
   ],
   "source": [
    "for x in map(lambda num: num**3, range(5)):\n",
    "    print(x)"
   ]
  },
  {
   "cell_type": "code",
   "execution_count": 4,
   "metadata": {},
   "outputs": [
    {
     "name": "stdout",
     "output_type": "stream",
     "text": [
      "0\n",
      "2\n",
      "4\n",
      "6\n",
      "8\n"
     ]
    }
   ],
   "source": [
    "for x in filter(lambda x : x%2==0, range(0,10)):\n",
    "    print(x)"
   ]
  },
  {
   "cell_type": "markdown",
   "metadata": {},
   "source": [
    "# for with break and continue"
   ]
  },
  {
   "cell_type": "markdown",
   "metadata": {},
   "source": [
    "### break"
   ]
  },
  {
   "cell_type": "code",
   "execution_count": 9,
   "metadata": {},
   "outputs": [
    {
     "name": "stdout",
     "output_type": "stream",
     "text": [
      "0\n",
      "1\n"
     ]
    }
   ],
   "source": [
    "for x in range(6):\n",
    "    if x >= 2:\n",
    "        break\n",
    "    else:\n",
    "        print(x)"
   ]
  },
  {
   "cell_type": "code",
   "execution_count": 10,
   "metadata": {},
   "outputs": [
    {
     "name": "stdout",
     "output_type": "stream",
     "text": [
      "a\n",
      "b\n"
     ]
    }
   ],
   "source": [
    "lst = ['a','b','c', 'd']\n",
    "\n",
    "for count,item in enumerate(lst):\n",
    "    if count >= 2:\n",
    "        break\n",
    "    else:\n",
    "        print(item)"
   ]
  },
  {
   "cell_type": "code",
   "execution_count": 47,
   "metadata": {},
   "outputs": [
    {
     "name": "stdout",
     "output_type": "stream",
     "text": [
      "The numbers are unacceptable\n"
     ]
    }
   ],
   "source": [
    "numbers = [1, 45, 32, 17, 60]\n",
    "\n",
    "for number in numbers:\n",
    "    if number%8 == 0:\n",
    "        print('The numbers are unacceptable')\n",
    "        break\n",
    "\n",
    "else:                                              # else is associated with for loop not with if statement\n",
    "    print(\"All those numbers are fine\")"
   ]
  },
  {
   "cell_type": "code",
   "execution_count": 1,
   "metadata": {},
   "outputs": [
    {
     "name": "stdout",
     "output_type": "stream",
     "text": [
      "25\n"
     ]
    }
   ],
   "source": [
    "def count_primes(num):\n",
    "    count = 0\n",
    "    \n",
    "    for x in range(2, num):\n",
    "        for y in range(2, x+1):\n",
    "            if x%y==0:\n",
    "                if x==y:\n",
    "                    count+=1\n",
    "                else:\n",
    "                    break\n",
    "    return count    \n",
    "\n",
    "print(count_primes(100))"
   ]
  },
  {
   "cell_type": "markdown",
   "metadata": {},
   "source": [
    "### continue"
   ]
  },
  {
   "cell_type": "code",
   "execution_count": 11,
   "metadata": {},
   "outputs": [
    {
     "name": "stdout",
     "output_type": "stream",
     "text": [
      "0\n",
      "1\n",
      "3\n",
      "4\n",
      "5\n"
     ]
    }
   ],
   "source": [
    "for x in range(6):\n",
    "    if x == 2:\n",
    "        continue\n",
    "    else:\n",
    "        print(x)"
   ]
  },
  {
   "cell_type": "code",
   "execution_count": 48,
   "metadata": {},
   "outputs": [
    {
     "name": "stdout",
     "output_type": "stream",
     "text": [
      "a\n",
      "b\n",
      "d\n"
     ]
    }
   ],
   "source": [
    "lst = ['a','b','c', 'd']\n",
    "\n",
    "for count,item in enumerate(lst):\n",
    "    if count == 2:\n",
    "        continue\n",
    "    else:\n",
    "        print(item)"
   ]
  },
  {
   "cell_type": "markdown",
   "metadata": {},
   "source": [
    "# relation between else and break\n",
    "### if break is called, then the else will not be executed\n",
    "### if break is not called, then the else will be executed"
   ]
  },
  {
   "cell_type": "code",
   "execution_count": 49,
   "metadata": {},
   "outputs": [
    {
     "name": "stdout",
     "output_type": "stream",
     "text": [
      "The numbers are unacceptable\n"
     ]
    }
   ],
   "source": [
    "numbers = [1, 45, 32, 17, 60]\n",
    "\n",
    "for number in numbers:\n",
    "    if number%8 == 0:\n",
    "        print('The numbers are unacceptable')\n",
    "        break\n",
    "\n",
    "else:                                              # else is associated with for loop not with if statement\n",
    "    print(\"All those numbers are fine\")"
   ]
  },
  {
   "cell_type": "code",
   "execution_count": 50,
   "metadata": {},
   "outputs": [
    {
     "name": "stdout",
     "output_type": "stream",
     "text": [
      "All those numbers are fine\n"
     ]
    }
   ],
   "source": [
    "numbers = [1, 45, 31, 17, 60]\n",
    "\n",
    "for number in numbers:\n",
    "    if number%8 == 0:\n",
    "        print('The numbers are unacceptable')\n",
    "        break\n",
    "\n",
    "else:                                              # else is associated with for loop not with if statement\n",
    "    print(\"All those numbers are fine\")"
   ]
  }
 ],
 "metadata": {
  "kernelspec": {
   "display_name": "Python 3",
   "language": "python",
   "name": "python3"
  },
  "language_info": {
   "codemirror_mode": {
    "name": "ipython",
    "version": 3
   },
   "file_extension": ".py",
   "mimetype": "text/x-python",
   "name": "python",
   "nbconvert_exporter": "python",
   "pygments_lexer": "ipython3",
   "version": "3.7.4"
  }
 },
 "nbformat": 4,
 "nbformat_minor": 2
}
