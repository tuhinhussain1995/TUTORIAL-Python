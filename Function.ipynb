{
 "cells": [
  {
   "cell_type": "markdown",
   "metadata": {},
   "source": [
    "# Non-return "
   ]
  },
  {
   "cell_type": "code",
   "execution_count": 3,
   "metadata": {},
   "outputs": [
    {
     "name": "stdout",
     "output_type": "stream",
     "text": [
      "Hello\n"
     ]
    }
   ],
   "source": [
    "def say_hello():\n",
    "    print('Hello')\n",
    "    \n",
    "say_hello()    "
   ]
  },
  {
   "cell_type": "code",
   "execution_count": 12,
   "metadata": {},
   "outputs": [
    {
     "name": "stdout",
     "output_type": "stream",
     "text": [
      "Goodbye Tuhin\n"
     ]
    }
   ],
   "source": [
    "def say_goodbye(name):\n",
    "    print('Goodbye ' + name)\n",
    "    \n",
    "say_goodbye('Tuhin')"
   ]
  },
  {
   "cell_type": "code",
   "execution_count": 10,
   "metadata": {},
   "outputs": [
    {
     "name": "stdout",
     "output_type": "stream",
     "text": [
      "Goodbye Tuhin\n"
     ]
    }
   ],
   "source": [
    "def say_goodbye(name='Tuhin'):\n",
    "    print('Goodbye ' + name)\n",
    "    \n",
    "say_goodbye()"
   ]
  },
  {
   "cell_type": "code",
   "execution_count": 11,
   "metadata": {},
   "outputs": [
    {
     "name": "stdout",
     "output_type": "stream",
     "text": [
      "Goodbye Tuhin\n"
     ]
    }
   ],
   "source": [
    "def say_goodbye(name='Name'):\n",
    "    print('Goodbye ' + name)\n",
    "    \n",
    "say_goodbye('Tuhin')"
   ]
  },
  {
   "cell_type": "code",
   "execution_count": 23,
   "metadata": {},
   "outputs": [
    {
     "name": "stdout",
     "output_type": "stream",
     "text": [
      "How are you Sumon\n"
     ]
    }
   ],
   "source": [
    "def say_something(name='Name'):\n",
    "    print('How are you ' + name)\n",
    "\n",
    "result = say_something('Sumon')\n",
    "\n",
    "result"
   ]
  },
  {
   "cell_type": "code",
   "execution_count": 5,
   "metadata": {},
   "outputs": [
    {
     "name": "stdout",
     "output_type": "stream",
     "text": [
      "                                  spam and eggs\n",
      "                             spam, eggs and chocolate\n",
      "                         spam, eggs, fruits and chocolate\n",
      "                                       236\n",
      "                                     3.14159\n"
     ]
    }
   ],
   "source": [
    "def center_text(text):\n",
    "    text = str(text)\n",
    "    margin_left = (80-len(text)) // 2\n",
    "    print(\" \"*margin_left, text)\n",
    "\n",
    "center_text(\"spam and eggs\")\n",
    "center_text(\"spam, eggs and chocolate\")\n",
    "center_text(\"spam, eggs, fruits and chocolate\")\n",
    "center_text(236)\n",
    "center_text(3.14159)"
   ]
  },
  {
   "cell_type": "markdown",
   "metadata": {},
   "source": [
    "### args "
   ]
  },
  {
   "cell_type": "code",
   "execution_count": 25,
   "metadata": {},
   "outputs": [
    {
     "name": "stdout",
     "output_type": "stream",
     "text": [
      "                                 spam and eggs \n",
      "                                      236 \n",
      "                                    3.14159 \n",
      "                      first => second => 3 => 4 => 5.6 => \n"
     ]
    }
   ],
   "source": [
    "def center_text(*args, sep=' '):\n",
    "    text = ''\n",
    "    for arg in args:\n",
    "        text += str(arg) + sep\n",
    "    margin_left = (80-len(text)) // 2\n",
    "    \n",
    "    print(\" \"*margin_left + text)\n",
    "\n",
    "center_text(\"spam and eggs\")\n",
    "center_text(236)\n",
    "center_text(3.14159)\n",
    "center_text(\"first\", \"second\", 3, 4, 5.6, sep=' => ')"
   ]
  },
  {
   "cell_type": "markdown",
   "metadata": {},
   "source": [
    "# return"
   ]
  },
  {
   "cell_type": "code",
   "execution_count": 4,
   "metadata": {},
   "outputs": [
    {
     "name": "stdout",
     "output_type": "stream",
     "text": [
      "Welcome\n"
     ]
    }
   ],
   "source": [
    "def say_welcome():\n",
    "    return 'Welcome'\n",
    "\n",
    "print(say_welcome())"
   ]
  },
  {
   "cell_type": "code",
   "execution_count": 20,
   "metadata": {},
   "outputs": [
    {
     "name": "stdout",
     "output_type": "stream",
     "text": [
      "Goodbye Tuhin\n"
     ]
    }
   ],
   "source": [
    "def say_goodbye(name):\n",
    "    return 'Goodbye ' + name\n",
    "    \n",
    "print(say_goodbye('Tuhin'))"
   ]
  },
  {
   "cell_type": "code",
   "execution_count": 21,
   "metadata": {},
   "outputs": [
    {
     "name": "stdout",
     "output_type": "stream",
     "text": [
      "Goodbye Tuhin\n"
     ]
    }
   ],
   "source": [
    "def say_goodbye(name='Tuhin'):\n",
    "    return 'Goodbye ' + name\n",
    "    \n",
    "print(say_goodbye())"
   ]
  },
  {
   "cell_type": "code",
   "execution_count": 22,
   "metadata": {},
   "outputs": [
    {
     "name": "stdout",
     "output_type": "stream",
     "text": [
      "Goodbye Tuhin\n"
     ]
    }
   ],
   "source": [
    "def say_goodbye(name='Name'):\n",
    "    return 'Goodbye ' + name\n",
    "    \n",
    "print(say_goodbye('Tuhin'))"
   ]
  },
  {
   "cell_type": "code",
   "execution_count": 24,
   "metadata": {},
   "outputs": [
    {
     "name": "stdout",
     "output_type": "stream",
     "text": [
      "How are you Sumon\n"
     ]
    }
   ],
   "source": [
    "def say_something(name='Name'):\n",
    "    return 'How are you ' + name\n",
    "\n",
    "result = print(say_something('Sumon'))\n",
    "\n",
    "result"
   ]
  },
  {
   "cell_type": "code",
   "execution_count": 15,
   "metadata": {},
   "outputs": [
    {
     "name": "stdout",
     "output_type": "stream",
     "text": [
      "50\n"
     ]
    }
   ],
   "source": [
    "def add(n1, n2):\n",
    "    return n1+n2\n",
    "\n",
    "result = add(20, 30)\n",
    "\n",
    "print(result)"
   ]
  },
  {
   "cell_type": "code",
   "execution_count": 16,
   "metadata": {},
   "outputs": [
    {
     "name": "stdout",
     "output_type": "stream",
     "text": [
      "False\n"
     ]
    }
   ],
   "source": [
    "def dog_check(myString):\n",
    "    if 'dog' in myString:\n",
    "        return True\n",
    "    else:\n",
    "        return False\n",
    "    \n",
    "print(dog_check('My Dog is running'))"
   ]
  },
  {
   "cell_type": "code",
   "execution_count": 17,
   "metadata": {},
   "outputs": [
    {
     "name": "stdout",
     "output_type": "stream",
     "text": [
      "7 is odd number\n"
     ]
    }
   ],
   "source": [
    "def odd_or_even(num):\n",
    "    if num%2 ==0:\n",
    "        return str(num) + ' is even number'\n",
    "    else:\n",
    "        return str(num) + ' is odd number'\n",
    "    \n",
    "print(odd_or_even(7))"
   ]
  },
  {
   "cell_type": "code",
   "execution_count": 18,
   "metadata": {},
   "outputs": [
    {
     "name": "stdout",
     "output_type": "stream",
     "text": [
      "33 is greater than 23\n"
     ]
    }
   ],
   "source": [
    "def check_greater(num1, num2):\n",
    "    if num1>num2:\n",
    "        return str(num1) + ' is greater than ' + str(num2)\n",
    "    else:\n",
    "        return str(num2) + ' is greater than ' + str(num1)\n",
    "    \n",
    "print(check_greater(33, 23))"
   ]
  },
  {
   "cell_type": "code",
   "execution_count": 19,
   "metadata": {},
   "outputs": [
    {
     "name": "stdout",
     "output_type": "stream",
     "text": [
      "33 is greater than 23\n"
     ]
    }
   ],
   "source": [
    "def check_greater(num1, num2):\n",
    "    if num1>num2:\n",
    "        return '%d is greater than %d' %(num1, num2)\n",
    "    else:\n",
    "        return '%d is greater than %d' %(num2, num1)\n",
    "    \n",
    "print(check_greater(33, 23))"
   ]
  },
  {
   "cell_type": "markdown",
   "metadata": {},
   "source": [
    "### agrs"
   ]
  },
  {
   "cell_type": "code",
   "execution_count": 7,
   "metadata": {},
   "outputs": [
    {
     "name": "stdout",
     "output_type": "stream",
     "text": [
      "                                 spam and eggs \n",
      "                                      236 \n",
      "                                    3.14159 \n",
      "                      first => second => 3 => 4 => 5.6 => \n"
     ]
    }
   ],
   "source": [
    "def center_text(*args, sep=' '):\n",
    "    text = ''\n",
    "    for arg in args:\n",
    "        text += str(arg) + sep\n",
    "    margin_left = (80-len(text)) // 2\n",
    "    return \" \"*margin_left + text\n",
    "\n",
    "print(center_text(\"spam and eggs\"))\n",
    "print(center_text(236))\n",
    "print(center_text(3.14159))\n",
    "print(center_text(\"first\", \"second\", 3, 4, 5.6, sep=' => '))"
   ]
  },
  {
   "cell_type": "code",
   "execution_count": 8,
   "metadata": {},
   "outputs": [
    {
     "name": "stdout",
     "output_type": "stream",
     "text": [
      "                                 spam and eggs \n",
      "                                      236 \n",
      "                                    3.14159 \n",
      "                      first => second => 3 => 4 => 5.6 => \n"
     ]
    }
   ],
   "source": [
    "def center_text(*args, sep=' '):\n",
    "    text = ''\n",
    "    for arg in args:\n",
    "        text += str(arg) + sep\n",
    "    margin_left = (80-len(text)) // 2\n",
    "    return \" \"*margin_left + text\n",
    "\n",
    "s1 = center_text(\"spam and eggs\")\n",
    "print(s1)\n",
    "s2 = center_text(236)\n",
    "print(s2)\n",
    "s3 = center_text(3.14159)\n",
    "print(s3)\n",
    "s4 = center_text(\"first\", \"second\", 3, 4, 5.6, sep=' => ')\n",
    "print(s4)"
   ]
  },
  {
   "cell_type": "markdown",
   "metadata": {},
   "source": [
    "# Neasted Function"
   ]
  },
  {
   "cell_type": "code",
   "execution_count": 2,
   "metadata": {},
   "outputs": [
    {
     "name": "stdout",
     "output_type": "stream",
     "text": [
      "The hello() function has been executed\n",
      "\t This is inside the greet() function\n",
      "\t This is inside the welcome() function\n",
      "Now we are back inside the hello() function\n"
     ]
    }
   ],
   "source": [
    "def hello(name='Jose'):\n",
    "    print('The hello() function has been executed')\n",
    "    \n",
    "    def greet():\n",
    "        return '\\t This is inside the greet() function'\n",
    "    \n",
    "    def welcome():\n",
    "        return \"\\t This is inside the welcome() function\"\n",
    "    \n",
    "    print(greet())\n",
    "    print(welcome())\n",
    "    print(\"Now we are back inside the hello() function\")\n",
    "    \n",
    "hello()    "
   ]
  },
  {
   "cell_type": "code",
   "execution_count": 3,
   "metadata": {},
   "outputs": [
    {
     "name": "stdout",
     "output_type": "stream",
     "text": [
      "From Main\n",
      "From Innter\n",
      "From wrapper\n",
      "From Inside Wrapper\n"
     ]
    }
   ],
   "source": [
    "def decorator_func(): \n",
    "    print('From Main')\n",
    "  \n",
    "    def Inner(): \n",
    "        print('From Innter')\n",
    "  \n",
    "        def wrapper(): \n",
    "            print('From wrapper')\n",
    "            \n",
    "            def inside_wrapper():\n",
    "                print('From Inside Wrapper')\n",
    "                \n",
    "            return inside_wrapper    \n",
    "        return wrapper \n",
    "    return Inner \n",
    "  \n",
    "    \n",
    "decorator_func()()()()"
   ]
  },
  {
   "cell_type": "code",
   "execution_count": 10,
   "metadata": {},
   "outputs": [
    {
     "name": "stdout",
     "output_type": "stream",
     "text": [
      "aaa\n",
      "aaa bbb\n",
      "aaa bbb ccc\n",
      "aaa bbb ccc ddd\n"
     ]
    }
   ],
   "source": [
    "def decorator_func(a): \n",
    "    print(a)\n",
    "  \n",
    "    def Inner(b): \n",
    "        print(a, b)\n",
    "  \n",
    "        def wrapper(c): \n",
    "            print(a, b, c)\n",
    "            \n",
    "            def inside_wrapper(d):\n",
    "                print(a, b, c, d)\n",
    "                \n",
    "            return inside_wrapper    \n",
    "        return wrapper \n",
    "    return Inner \n",
    "  \n",
    " \n",
    "    \n",
    "decorator_func('aaa')('bbb')('ccc')('ddd')"
   ]
  },
  {
   "cell_type": "code",
   "execution_count": 11,
   "metadata": {},
   "outputs": [
    {
     "name": "stdout",
     "output_type": "stream",
     "text": [
      "27\n",
      "15\n",
      "30\n",
      "72\n"
     ]
    }
   ],
   "source": [
    "def make_multiplier_of(n):\n",
    "    def multiplier(x):\n",
    "        return x * n\n",
    "    return multiplier\n",
    "\n",
    "\n",
    "times3 = make_multiplier_of(3)\n",
    "times5 = make_multiplier_of(5)\n",
    "\n",
    "print(times3(9))\n",
    "print(times5(3))\n",
    "\n",
    "print(times5(times3(2)))\n",
    "\n",
    "print(make_multiplier_of(8)(9))"
   ]
  },
  {
   "cell_type": "code",
   "execution_count": 11,
   "metadata": {},
   "outputs": [
    {
     "name": "stdout",
     "output_type": "stream",
     "text": [
      "From Main\n",
      "From Innter\n",
      "From wrapper\n",
      "From Inside Wrapper\n"
     ]
    }
   ],
   "source": [
    "def decorator_func(): \n",
    "    print('From Main')\n",
    "  \n",
    "    def Inner(): \n",
    "        print('From Innter')\n",
    "  \n",
    "        def wrapper(): \n",
    "            print('From wrapper')\n",
    "            \n",
    "            def inside_wrapper():\n",
    "                print('From Inside Wrapper')\n",
    "                \n",
    "            return inside_wrapper    \n",
    "        return wrapper \n",
    "    return Inner \n",
    "  \n",
    "    \n",
    "decorator_func()()()()"
   ]
  },
  {
   "cell_type": "code",
   "execution_count": 12,
   "metadata": {},
   "outputs": [
    {
     "name": "stdout",
     "output_type": "stream",
     "text": [
      "My name is: Tuhin\n",
      "My age is: 24\n",
      "My address is: Desa Petaling\n",
      "My CGPA is: 3.87\n"
     ]
    }
   ],
   "source": [
    "def decorator_func(name): \n",
    "    print('My name is:', name)\n",
    "  \n",
    "    def Inner(age): \n",
    "        print('My age is:', age)\n",
    "  \n",
    "        def wrapper(address): \n",
    "            print('My address is:', address)\n",
    "            \n",
    "            def inside_wrapper(cgpa):\n",
    "                print('My CGPA is:', cgpa)\n",
    "                \n",
    "            return inside_wrapper    \n",
    "        return wrapper \n",
    "    return Inner \n",
    "  \n",
    "    \n",
    "decorator_func('Tuhin')(24)('Desa Petaling')(3.87)"
   ]
  },
  {
   "cell_type": "markdown",
   "metadata": {},
   "source": [
    "## Function as Arguments"
   ]
  },
  {
   "cell_type": "code",
   "execution_count": 10,
   "metadata": {},
   "outputs": [
    {
     "name": "stdout",
     "output_type": "stream",
     "text": [
      "Other code would go here\n",
      "Hi Jose!\n"
     ]
    }
   ],
   "source": [
    "def hello():\n",
    "    return 'Hi Jose!'\n",
    "\n",
    "def other(func):\n",
    "    print('Other code would go here')\n",
    "    print(func())\n",
    "    \n",
    "other(hello)    "
   ]
  },
  {
   "cell_type": "markdown",
   "metadata": {},
   "source": [
    "## Returning Function"
   ]
  },
  {
   "cell_type": "code",
   "execution_count": 9,
   "metadata": {},
   "outputs": [
    {
     "name": "stdout",
     "output_type": "stream",
     "text": [
      "\t This is inside the greet() function\n"
     ]
    }
   ],
   "source": [
    "def hello(name='Jose'):\n",
    "    \n",
    "    def greet():\n",
    "        return '\\t This is inside the greet() function'\n",
    "    \n",
    "    def welcome():\n",
    "        return \"\\t This is inside the welcome() function\"\n",
    "    \n",
    "    if name == 'Jose':\n",
    "        return greet\n",
    "    else:\n",
    "        return welcome\n",
    "    \n",
    "x = hello()\n",
    "print(x())"
   ]
  },
  {
   "cell_type": "markdown",
   "metadata": {},
   "source": [
    "## File Write"
   ]
  },
  {
   "cell_type": "code",
   "execution_count": 9,
   "metadata": {},
   "outputs": [],
   "source": [
    "def center_text(*args, sep=' '):\n",
    "    text = ''\n",
    "    for arg in args:\n",
    "        text += str(arg) + sep\n",
    "    margin_left = (80-len(text)) // 2\n",
    "    return \" \"*margin_left + text\n",
    "\n",
    "with open('menu', 'w') as menu:\n",
    "    s1 = center_text(\"spam and eggs\")\n",
    "    print(s1, file=menu)\n",
    "    s2 = center_text(236)\n",
    "    print(s2, file=menu)\n",
    "    print(center_text(3.14159), file=menu)\n",
    "    s4 = center_text(\"first\", \"second\", 3, 4, 5.6, sep=' => ')\n",
    "    print(s4, file=menu)"
   ]
  }
 ],
 "metadata": {
  "kernelspec": {
   "display_name": "Python 3",
   "language": "python",
   "name": "python3"
  },
  "language_info": {
   "codemirror_mode": {
    "name": "ipython",
    "version": 3
   },
   "file_extension": ".py",
   "mimetype": "text/x-python",
   "name": "python",
   "nbconvert_exporter": "python",
   "pygments_lexer": "ipython3",
   "version": "3.7.4"
  }
 },
 "nbformat": 4,
 "nbformat_minor": 2
}
