{
 "cells": [
  {
   "cell_type": "markdown",
   "metadata": {},
   "source": [
    "## random.randint(start, stop) \n",
    "### start (included), stop (included)"
   ]
  },
  {
   "cell_type": "code",
   "execution_count": 1,
   "metadata": {},
   "outputs": [
    {
     "name": "stdout",
     "output_type": "stream",
     "text": [
      "[9, 2, 3, 7, 10, 4, 8, 6, 5, 1]\n"
     ]
    }
   ],
   "source": [
    "from random import shuffle\n",
    "\n",
    "myList = [1, 2, 3, 4, 5, 6, 7, 8, 9, 10]\n",
    "\n",
    "shuffle(myList)\n",
    "\n",
    "print(myList)\n",
    "\n",
    "    # if we write ---- print(shuffle(myList))\n",
    "    # it will print nothing\n",
    "    # because shuffle is none type"
   ]
  },
  {
   "cell_type": "code",
   "execution_count": 18,
   "metadata": {},
   "outputs": [
    {
     "name": "stdout",
     "output_type": "stream",
     "text": [
      "1\n",
      "766\n"
     ]
    }
   ],
   "source": [
    "from random import randint\n",
    "\n",
    "print(randint(0, 2))        # 0<= x <= 2 \n",
    "\n",
    "myRand = randint(0, 1000)\n",
    "print(myRand)"
   ]
  },
  {
   "cell_type": "markdown",
   "metadata": {},
   "source": [
    "#### (0-10) ==> random.randint(0, 10) =====> 0 <= x <=10\n",
    "#### (1-100) ==> random.randint(1, 100) ===> 0 <= x <=100"
   ]
  },
  {
   "cell_type": "code",
   "execution_count": 14,
   "metadata": {},
   "outputs": [
    {
     "name": "stdout",
     "output_type": "stream",
     "text": [
      "17\n",
      "b\n",
      "['e', 'a', 'd', 'c', 'b']\n",
      "0.9201891272033303\n"
     ]
    }
   ],
   "source": [
    "import random\n",
    "\n",
    "print(random.randrange(10, 20))\n",
    "\n",
    "x = ['a', 'b', 'c', 'd', 'e']\n",
    "print(random.choice(x))\n",
    "\n",
    "random.shuffle(x)\n",
    "\n",
    "print(x)\n",
    "\n",
    "print(random.random())"
   ]
  },
  {
   "cell_type": "code",
   "execution_count": 1,
   "metadata": {},
   "outputs": [
    {
     "data": {
      "text/plain": [
       "[688,\n",
       " 44,\n",
       " 795,\n",
       " 509,\n",
       " 255,\n",
       " 445,\n",
       " 628,\n",
       " 830,\n",
       " 148,\n",
       " 495,\n",
       " 654,\n",
       " 844,\n",
       " 941,\n",
       " 81,\n",
       " 722,\n",
       " 286,\n",
       " 485,\n",
       " 592,\n",
       " 249,\n",
       " 780,\n",
       " 962,\n",
       " 279,\n",
       " 293,\n",
       " 310,\n",
       " 646,\n",
       " 216,\n",
       " 981,\n",
       " 324,\n",
       " 602,\n",
       " 91,\n",
       " 347,\n",
       " 758,\n",
       " 66,\n",
       " 764,\n",
       " 114,\n",
       " 109,\n",
       " 17,\n",
       " 117,\n",
       " 270,\n",
       " 947,\n",
       " 206,\n",
       " 491,\n",
       " 60,\n",
       " 228,\n",
       " 25,\n",
       " 505,\n",
       " 965,\n",
       " 394,\n",
       " 980,\n",
       " 251,\n",
       " 778,\n",
       " 472,\n",
       " 600,\n",
       " 42,\n",
       " 567,\n",
       " 942,\n",
       " 290,\n",
       " 880,\n",
       " 736,\n",
       " 284,\n",
       " 415,\n",
       " 96,\n",
       " 224,\n",
       " 139,\n",
       " 761,\n",
       " 350,\n",
       " 197,\n",
       " 149,\n",
       " 426,\n",
       " 54,\n",
       " 303,\n",
       " 562,\n",
       " 953,\n",
       " 676,\n",
       " 165,\n",
       " 898,\n",
       " 65,\n",
       " 533,\n",
       " 226,\n",
       " 219,\n",
       " 893,\n",
       " 15,\n",
       " 598,\n",
       " 708,\n",
       " 308,\n",
       " 943,\n",
       " 834,\n",
       " 427,\n",
       " 203,\n",
       " 442,\n",
       " 405,\n",
       " 797,\n",
       " 558,\n",
       " 267,\n",
       " 271,\n",
       " 339,\n",
       " 436,\n",
       " 877,\n",
       " 855,\n",
       " 956]"
      ]
     },
     "execution_count": 1,
     "metadata": {},
     "output_type": "execute_result"
    }
   ],
   "source": [
    "from random import sample\n",
    "data = sample(range(1, 1000), 100)\n",
    "data"
   ]
  }
 ],
 "metadata": {
  "kernelspec": {
   "display_name": "Python 3",
   "language": "python",
   "name": "python3"
  },
  "language_info": {
   "codemirror_mode": {
    "name": "ipython",
    "version": 3
   },
   "file_extension": ".py",
   "mimetype": "text/x-python",
   "name": "python",
   "nbconvert_exporter": "python",
   "pygments_lexer": "ipython3",
   "version": "3.7.4"
  }
 },
 "nbformat": 4,
 "nbformat_minor": 2
}
