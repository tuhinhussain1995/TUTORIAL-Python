{
 "cells": [
  {
   "cell_type": "code",
   "execution_count": 6,
   "metadata": {},
   "outputs": [
    {
     "name": "stdout",
     "output_type": "stream",
     "text": [
      "None\n",
      "<class 'NoneType'>\n",
      "Tuhin\n",
      "<class 'str'>\n"
     ]
    }
   ],
   "source": [
    "myName = None\n",
    "print(myName)\n",
    "print(type(myName))\n",
    "\n",
    "myName = \"Tuhin\"\n",
    "print(myName)\n",
    "print(type(myName))"
   ]
  },
  {
   "cell_type": "code",
   "execution_count": 1,
   "metadata": {},
   "outputs": [
    {
     "name": "stdout",
     "output_type": "stream",
     "text": [
      "tuhin\n",
      "No name is there\n",
      "Sumon\n",
      "No name is there\n",
      "No name is there\n",
      "Nazrul\n",
      "No name is there\n"
     ]
    }
   ],
   "source": [
    "nameList = ['tuhin', None, 'Sumon', None, None, 'Nazrul', None]\n",
    "\n",
    "for x in nameList:\n",
    "    if x is None:\n",
    "        print('No name is there')\n",
    "    elif x is not None:\n",
    "        print(x)"
   ]
  },
  {
   "cell_type": "code",
   "execution_count": 1,
   "metadata": {},
   "outputs": [
    {
     "name": "stdout",
     "output_type": "stream",
     "text": [
      "Please enter your choice.  Press enter to quittuhin\n",
      "You have selected tuhin\n",
      "Please enter your choice.  Press enter to quitquit\n",
      "You have selected quit\n",
      "Please enter your choice.  Press enter to quit0\n",
      "You have selected 0\n",
      "Thank you for playing, please call back soon.\n"
     ]
    }
   ],
   "source": [
    "choice = None\n",
    "\n",
    "while choice != '0':\n",
    "    choice = input(\"Please enter your choice.  Press enter to quit\")\n",
    "    if choice == '':\n",
    "        break\n",
    "\n",
    "    print(\"You have selected {}\".format(choice))\n",
    "else:\n",
    "    print(\"Thank you for playing, please call back soon.\")"
   ]
  },
  {
   "cell_type": "code",
   "execution_count": 2,
   "metadata": {},
   "outputs": [
    {
     "name": "stdout",
     "output_type": "stream",
     "text": [
      "Student Name: tuhin\n",
      "Student Reference: None\n",
      "Student Address: None\n",
      "Student Name: Nazrul\n",
      "Student Reference: None\n",
      "Student Address: Mantari\n"
     ]
    }
   ],
   "source": [
    "class Student:\n",
    "    def __init__(self, name=None, ref=None, address=None):\n",
    "        self.name = name\n",
    "        self.ref = ref\n",
    "        self.address = address\n",
    "\n",
    "    def display(self):\n",
    "        print(\"Student Name:\", self.name)\n",
    "        print(\"Student Reference:\", self.ref)\n",
    "        print(\"Student Address:\", self.address)\n",
    "\n",
    "if __name__=='__main__':\n",
    "    tuhin = Student(\"tuhin\")\n",
    "    tuhin.display()\n",
    "\n",
    "    nazrul = Student(name=\"Nazrul\", address=\"Mantari\")\n",
    "    nazrul.display()"
   ]
  },
  {
   "cell_type": "code",
   "execution_count": 3,
   "metadata": {},
   "outputs": [
    {
     "name": "stdout",
     "output_type": "stream",
     "text": [
      "Student Name: tuhin\n",
      "Student Reference: No Reference Number\n",
      "Student Address: No Address\n",
      "\n",
      "Student Name: Nazrul\n",
      "Student Reference: No Reference Number\n",
      "Student Address: Mantari\n",
      "\n",
      "Student Name: No Name\n",
      "Student Reference: BQ315\n",
      "Student Address: No Address\n"
     ]
    }
   ],
   "source": [
    "class Student:\n",
    "    def __init__(self, name=None, ref=None, address=None):\n",
    "        if name is None:\n",
    "            self.name = \"No Name\"\n",
    "        else:\n",
    "            self.name = name\n",
    "\n",
    "        if ref is not None:\n",
    "            self.ref = ref\n",
    "        else:\n",
    "            self.ref = \"No Reference Number\"\n",
    "\n",
    "        if address is None:\n",
    "            self.address = \"No Address\"\n",
    "        else:\n",
    "            self.address = address\n",
    "\n",
    "    def display(self):\n",
    "        print(\"Student Name:\", self.name)\n",
    "        print(\"Student Reference:\", self.ref)\n",
    "        print(\"Student Address:\", self.address)\n",
    "\n",
    "if __name__=='__main__':\n",
    "    tuhin = Student(\"tuhin\")\n",
    "    tuhin.display()\n",
    "\n",
    "    print()\n",
    "\n",
    "    nazrul = Student(name=\"Nazrul\", address=\"Mantari\")\n",
    "    nazrul.display()\n",
    "\n",
    "    print()\n",
    "\n",
    "    mhafuz = Student(ref=\"BQ315\")\n",
    "    mhafuz.display()"
   ]
  }
 ],
 "metadata": {
  "kernelspec": {
   "display_name": "Python 3",
   "language": "python",
   "name": "python3"
  },
  "language_info": {
   "codemirror_mode": {
    "name": "ipython",
    "version": 3
   },
   "file_extension": ".py",
   "mimetype": "text/x-python",
   "name": "python",
   "nbconvert_exporter": "python",
   "pygments_lexer": "ipython3",
   "version": "3.7.4"
  }
 },
 "nbformat": 4,
 "nbformat_minor": 2
}
