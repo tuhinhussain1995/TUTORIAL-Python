{
 "cells": [
  {
   "cell_type": "markdown",
   "metadata": {},
   "source": [
    "# Reading, Writing, Appending Modes\n",
    "\n",
    "### mode = 'r'   (read only)\n",
    "### mode = 'w'   (write only)\n",
    "### mode = 'a'   (add line to file)\n",
    "### mode = 'r+'   (read and write)\n",
    "### mode = 'w+'   (write and read)"
   ]
  },
  {
   "cell_type": "code",
   "execution_count": 6,
   "metadata": {},
   "outputs": [],
   "source": [
    "with open('tuhin.txt', mode='w') as showLine:\n",
    "    showLine.write(\"First Line.\\nSecond Line.\\nThird Line.\\nForth Line.\")"
   ]
  },
  {
   "cell_type": "code",
   "execution_count": 1,
   "metadata": {},
   "outputs": [],
   "source": [
    "with open('nazrul.txt', mode='w') as showLine:\n",
    "    showLine.write(\"This is my first line\")\n",
    "    showLine.write(\"This is my second line\")"
   ]
  },
  {
   "cell_type": "code",
   "execution_count": 2,
   "metadata": {},
   "outputs": [],
   "source": [
    "names = ['nazrul', 'sumon', 'tuhin', 'mhafuz', 'halim']\n",
    "\n",
    "with open('names.txt', mode='w') as nameFile:\n",
    "    for name in names:\n",
    "        nameFile.write(name + '\\n')"
   ]
  },
  {
   "cell_type": "code",
   "execution_count": null,
   "metadata": {},
   "outputs": [],
   "source": [
    "names = ['nazrul', 'sumon', 'jesan', 'mhafuz', 'halim']\n",
    "\n",
    "with open('names.txt', mode='w') as nameFile:\n",
    "    for name in names:\n",
    "        print(name, file=nameFile)"
   ]
  },
  {
   "cell_type": "code",
   "execution_count": 4,
   "metadata": {},
   "outputs": [],
   "source": [
    "data = \"Tuhin\", 'BN964', '1995', ((1, 'math'), (2, 'phisics'), (3, 'English'))\n",
    "\n",
    "with open('dataFile.txt', 'w') as allData:\n",
    "    print(data, file=allData)"
   ]
  },
  {
   "cell_type": "code",
   "execution_count": null,
   "metadata": {},
   "outputs": [],
   "source": [
    "with open('dataFile.txt', 'w') as myData:\n",
    "    for i in range(1, 6):\n",
    "        for j in range(1, 5):\n",
    "            print(\"{1:>2} times {0} is {2}\".format(i, j, i*j), file=myData)\n",
    "        print(\"-\"*20, file=myData)"
   ]
  },
  {
   "cell_type": "code",
   "execution_count": 1,
   "metadata": {},
   "outputs": [],
   "source": [
    "def center_text(*args, sep=' '):\n",
    "    text = ''\n",
    "    for arg in args:\n",
    "        text += str(arg) + sep\n",
    "    margin_left = (80-len(text)) // 2\n",
    "    return \" \"*margin_left + text\n",
    "\n",
    "with open('menu', 'w') as menu:\n",
    "    s1 = center_text(\"spam and eggs\")\n",
    "    print(s1, file=menu)\n",
    "    s2 = center_text(236)\n",
    "    print(s2, file=menu)\n",
    "    print(center_text(3.14159), file=menu)\n",
    "    s4 = center_text(\"first\", \"second\", 3, 4, 5.6, sep=' => ')\n",
    "    print(s4, file=menu)"
   ]
  }
 ],
 "metadata": {
  "kernelspec": {
   "display_name": "Python 3",
   "language": "python",
   "name": "python3"
  },
  "language_info": {
   "codemirror_mode": {
    "name": "ipython",
    "version": 3
   },
   "file_extension": ".py",
   "mimetype": "text/x-python",
   "name": "python",
   "nbconvert_exporter": "python",
   "pygments_lexer": "ipython3",
   "version": "3.7.4"
  }
 },
 "nbformat": 4,
 "nbformat_minor": 2
}
