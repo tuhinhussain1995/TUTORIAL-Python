{
 "cells": [
  {
   "cell_type": "markdown",
   "metadata": {},
   "source": [
    "## shelve ==> save data to memory"
   ]
  },
  {
   "cell_type": "markdown",
   "metadata": {},
   "source": [
    "### Dictionary "
   ]
  },
  {
   "cell_type": "code",
   "execution_count": 1,
   "metadata": {},
   "outputs": [],
   "source": [
    "import shelve                                        # save data to memory\n",
    "\n",
    "with shelve.open('ShelfTest') as fruit:\n",
    "    fruit['orange'] = \"a sweet, orange, citrus fruit\"\n",
    "    fruit['apple'] = \"good for making cider\"\n",
    "    fruit['lemon'] = \"a sour, yellow fruit\"\n",
    "    fruit['grape'] = 'a small sweet fruit'\n",
    "    fruit['lime'] = 'a sour, green fruit'"
   ]
  },
  {
   "cell_type": "code",
   "execution_count": 2,
   "metadata": {},
   "outputs": [
    {
     "name": "stdout",
     "output_type": "stream",
     "text": [
      "good for making cider\n",
      "a small sweet fruit\n",
      "a sweet fruit\n"
     ]
    }
   ],
   "source": [
    "import shelve\n",
    "\n",
    "fruit = shelve.open('ShelfTest')\n",
    "\n",
    "print(fruit['apple'])\n",
    "print(fruit['grape'])\n",
    "\n",
    "\n",
    "# if you wnat to add element\n",
    "fruit['pinapple'] = 'a sweet fruit'\n",
    "print(fruit['pinapple'])\n",
    "\n",
    "fruit.close()"
   ]
  },
  {
   "cell_type": "code",
   "execution_count": 3,
   "metadata": {},
   "outputs": [
    {
     "name": "stdout",
     "output_type": "stream",
     "text": [
      "orange --> a sweet, orange, citrus fruit\n",
      "apple --> good for making cider\n",
      "lemon --> a sour, yellow fruit\n",
      "grape --> a small sweet fruit\n",
      "lime --> a sour, green fruit\n",
      "pinapple --> a sweet fruit\n"
     ]
    }
   ],
   "source": [
    "import shelve\n",
    "\n",
    "fruit = shelve.open('ShelfTest')\n",
    "\n",
    "for x in fruit:\n",
    "    print(x, '-->', fruit[x])"
   ]
  },
  {
   "cell_type": "code",
   "execution_count": 4,
   "metadata": {},
   "outputs": [
    {
     "name": "stdout",
     "output_type": "stream",
     "text": [
      "Please enter a fruit name: lemon\n",
      "a sour, yellow fruit\n",
      "Please enter a fruit name: lime\n",
      "a sour, green fruit\n",
      "Please enter a fruit name: banana\n",
      "We don't have banana\n",
      "Please enter a fruit name: quit\n"
     ]
    }
   ],
   "source": [
    "import shelve\n",
    "\n",
    "fruit = shelve.open('ShelfTest')\n",
    "\n",
    "while True:\n",
    "    dict_key = input(\"Please enter a fruit name: \")\n",
    "\n",
    "    if dict_key == 'quit':\n",
    "        break\n",
    "\n",
    "    if dict_key in fruit:\n",
    "        print(fruit[dict_key])\n",
    "    else:\n",
    "        print(\"We don't have \" + dict_key)\n",
    "\n",
    "\n",
    "fruit.close()"
   ]
  },
  {
   "cell_type": "markdown",
   "metadata": {},
   "source": [
    "### List"
   ]
  },
  {
   "cell_type": "code",
   "execution_count": 5,
   "metadata": {},
   "outputs": [],
   "source": [
    "import shelve\n",
    "\n",
    "burger = ['bacon', 'tomato', 'bread']\n",
    "soup = ['onion', 'corn', 'garlic']\n",
    "pasta = ['pasta', 'cheese']\n",
    "\n",
    "with shelve.open('recipes') as recipies:\n",
    "    recipies[\"burger\"] = burger\n",
    "    recipies[\"soup\"] = soup\n",
    "    recipies[\"pasta\"] = pasta"
   ]
  },
  {
   "cell_type": "code",
   "execution_count": 6,
   "metadata": {},
   "outputs": [
    {
     "name": "stdout",
     "output_type": "stream",
     "text": [
      "burger ==> ['bacon', 'tomato', 'bread']\n",
      "soup ==> ['onion', 'corn', 'garlic']\n",
      "pasta ==> ['pasta', 'cheese']\n"
     ]
    }
   ],
   "source": [
    "import shelve\n",
    "\n",
    "recipies = shelve.open('recipes')\n",
    "\n",
    "for x in recipies:\n",
    "    print(x, '==>', recipies[x])\n",
    "    \n",
    "recipies.close()    "
   ]
  },
  {
   "cell_type": "code",
   "execution_count": 7,
   "metadata": {},
   "outputs": [
    {
     "name": "stdout",
     "output_type": "stream",
     "text": [
      "['bacon', 'tomato', 'bread', 'butter', 'egg']\n"
     ]
    }
   ],
   "source": [
    "import shelve\n",
    "\n",
    "recipies = shelve.open('recipes')\n",
    "\n",
    "temp_list = recipies[\"burger\"]\n",
    "temp_list.append(\"butter\")\n",
    "temp_list.append(\"egg\")\n",
    "recipies['burger'] = temp_list\n",
    "\n",
    "print(recipies[\"burger\"])\n",
    "\n",
    "recipies.close()"
   ]
  },
  {
   "cell_type": "code",
   "execution_count": null,
   "metadata": {},
   "outputs": [],
   "source": []
  },
  {
   "cell_type": "code",
   "execution_count": null,
   "metadata": {},
   "outputs": [],
   "source": []
  }
 ],
 "metadata": {
  "kernelspec": {
   "display_name": "Python 3",
   "language": "python",
   "name": "python3"
  },
  "language_info": {
   "codemirror_mode": {
    "name": "ipython",
    "version": 3
   },
   "file_extension": ".py",
   "mimetype": "text/x-python",
   "name": "python",
   "nbconvert_exporter": "python",
   "pygments_lexer": "ipython3",
   "version": "3.7.4"
  }
 },
 "nbformat": 4,
 "nbformat_minor": 2
}
