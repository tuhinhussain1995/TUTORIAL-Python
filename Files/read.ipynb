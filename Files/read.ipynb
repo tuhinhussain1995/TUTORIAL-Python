{
 "cells": [
  {
   "cell_type": "markdown",
   "metadata": {},
   "source": [
    "# Reading, Writing, Appending Modes\n",
    "\n",
    "### mode = 'r'   (read only)\n",
    "### mode = 'w'   (write only)\n",
    "### mode = 'a'   (add line to file)\n",
    "### mode = 'r+'   (read and write)\n",
    "### mode = 'w+'   (write and read)"
   ]
  },
  {
   "cell_type": "code",
   "execution_count": 21,
   "metadata": {},
   "outputs": [
    {
     "name": "stdout",
     "output_type": "stream",
     "text": [
      "First Line.\n",
      "Second Line.\n",
      "Third Line.\n",
      "Forth Line.\n",
      "Forth Line\n"
     ]
    }
   ],
   "source": [
    "with open('tuhin.txt', mode='r') as showLine:\n",
    "    print(showLine.read())"
   ]
  },
  {
   "cell_type": "code",
   "execution_count": 3,
   "metadata": {},
   "outputs": [
    {
     "name": "stdout",
     "output_type": "stream",
     "text": [
      "https://smallseotools.com/plagiarism-checker/\n",
      "\n",
      "\n",
      "https://spinbot.com/\n"
     ]
    }
   ],
   "source": [
    "with open('C:/Users/tuhin/Desktop/exam.txt', mode='r') as showLine:\n",
    "    print(showLine.read())  "
   ]
  },
  {
   "cell_type": "code",
   "execution_count": 4,
   "metadata": {},
   "outputs": [
    {
     "name": "stdout",
     "output_type": "stream",
     "text": [
      "['First Line.\\n', 'Second Line\\n', 'Third Line']\n",
      "First Line.\n",
      "Second Line\n",
      "Third Line"
     ]
    }
   ],
   "source": [
    "with open('tuhin.txt', mode='r') as myFile:\n",
    "    lines = myFile.readlines()\n",
    "    \n",
    "print(lines)\n",
    "\n",
    "for line in lines:\n",
    "    print(line, end='')"
   ]
  },
  {
   "cell_type": "code",
   "execution_count": 12,
   "metadata": {},
   "outputs": [
    {
     "name": "stdout",
     "output_type": "stream",
     "text": [
      "First Line.\n",
      "\n",
      "Second Line\n",
      "\n",
      "Third Line\n",
      "\n",
      "Forth Line\n"
     ]
    }
   ],
   "source": [
    "with open(\"tuhin.txt\", \"r\") as albums:\n",
    "    for line in albums:\n",
    "        print(line)"
   ]
  },
  {
   "cell_type": "code",
   "execution_count": 13,
   "metadata": {},
   "outputs": [
    {
     "name": "stdout",
     "output_type": "stream",
     "text": [
      "First Line.\n",
      "Second Line\n",
      "Third Line\n",
      "Forth Line\n"
     ]
    }
   ],
   "source": [
    "with open(\"tuhin.txt\", \"r\") as albums:\n",
    "    for line in albums:\n",
    "        print(line.strip('\\n'))"
   ]
  },
  {
   "cell_type": "code",
   "execution_count": 18,
   "metadata": {},
   "outputs": [
    {
     "name": "stdout",
     "output_type": "stream",
     "text": [
      "['First', 'Line.']\n",
      "['Second', 'Line.']\n",
      "['Third', 'Line.']\n",
      "['Forth', 'Line.']\n"
     ]
    }
   ],
   "source": [
    "with open(\"tuhin.txt\", \"r\") as albums:\n",
    "    for line in albums:\n",
    "        print(line.strip('\\n').split(' '))      # split by whitespace"
   ]
  },
  {
   "cell_type": "code",
   "execution_count": 20,
   "metadata": {},
   "outputs": [
    {
     "name": "stdout",
     "output_type": "stream",
     "text": [
      "First  ==>  Line.\n",
      "Second  ==>  Line.\n",
      "Third  ==>  Line.\n",
      "Forth  ==>  Line.\n"
     ]
    }
   ],
   "source": [
    "with open(\"tuhin.txt\", \"r\") as albums:\n",
    "    for line in albums:\n",
    "        first, second = tuple(line.strip('\\n').split(' '))      # split by whitespace\n",
    "        \n",
    "        print(first, ' ==> ', second)"
   ]
  },
  {
   "cell_type": "code",
   "execution_count": 5,
   "metadata": {},
   "outputs": [
    {
     "name": "stdout",
     "output_type": "stream",
     "text": [
      "['nazrul', 'sumon', 'tuhin', 'mhafuz', 'halim']\n",
      "nazrul\n",
      "sumon\n",
      "tuhin\n",
      "mhafuz\n",
      "halim\n"
     ]
    }
   ],
   "source": [
    "nameList = []\n",
    "\n",
    "with open('names.txt', mode='r') as myFile:\n",
    "    for name in myFile:\n",
    "        nameList.append(name.strip('\\n'))\n",
    "\n",
    "print(nameList)\n",
    "\n",
    "for name in nameList:\n",
    "    print(name)"
   ]
  },
  {
   "cell_type": "code",
   "execution_count": 7,
   "metadata": {},
   "outputs": [
    {
     "name": "stdout",
     "output_type": "stream",
     "text": [
      "('Tuhin', 'BN964', '1995', ((1, 'math'), (2, 'phisics'), (3, 'English')))\n",
      "\n",
      "<class 'str'>\n",
      "('Tuhin', 'BN964', '1995', ((1, 'math'), (2, 'phisics'), (3, 'English')))\n",
      "<class 'tuple'>\n",
      "Tuhin\n",
      "BN964\n",
      "1995\n",
      "((1, 'math'), (2, 'phisics'), (3, 'English'))\n",
      "English\n",
      "<class 'tuple'>\n"
     ]
    }
   ],
   "source": [
    "with open('dataFile.txt', 'r') as myData:\n",
    "    contents = myData.readline()\n",
    "\n",
    "print(contents)\n",
    "print(type(contents))\n",
    "\n",
    "newData = eval(contents)\n",
    "print(newData)\n",
    "print(type(newData))\n",
    "\n",
    "name, ref, birth, extra = newData\n",
    "\n",
    "print(name)\n",
    "print(ref)\n",
    "print(birth)\n",
    "print(extra)\n",
    "print(extra[2][1])\n",
    "print(type(extra[2]))"
   ]
  },
  {
   "cell_type": "code",
   "execution_count": null,
   "metadata": {},
   "outputs": [],
   "source": []
  }
 ],
 "metadata": {
  "kernelspec": {
   "display_name": "Python 3",
   "language": "python",
   "name": "python3"
  },
  "language_info": {
   "codemirror_mode": {
    "name": "ipython",
    "version": 3
   },
   "file_extension": ".py",
   "mimetype": "text/x-python",
   "name": "python",
   "nbconvert_exporter": "python",
   "pygments_lexer": "ipython3",
   "version": "3.7.4"
  }
 },
 "nbformat": 4,
 "nbformat_minor": 2
}
