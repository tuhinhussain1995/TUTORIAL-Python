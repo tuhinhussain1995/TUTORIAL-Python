{
 "cells": [
  {
   "cell_type": "markdown",
   "metadata": {},
   "source": [
    "# Reading, Writing, Appending Modes\n",
    "\n",
    "### mode = 'r'   (read only)\n",
    "### mode = 'w'   (write only)\n",
    "### mode = 'a'   (add line to file)\n",
    "### mode = 'r+'   (read and write)\n",
    "### mode = 'w+'   (write and read)"
   ]
  },
  {
   "cell_type": "code",
   "execution_count": 3,
   "metadata": {},
   "outputs": [],
   "source": [
    "with open('tuhin.txt', mode='a') as showLine:\n",
    "    showLine.write('\\nFifth Line')"
   ]
  }
 ],
 "metadata": {
  "kernelspec": {
   "display_name": "Python 3",
   "language": "python",
   "name": "python3"
  },
  "language_info": {
   "codemirror_mode": {
    "name": "ipython",
    "version": 3
   },
   "file_extension": ".py",
   "mimetype": "text/x-python",
   "name": "python",
   "nbconvert_exporter": "python",
   "pygments_lexer": "ipython3",
   "version": "3.7.4"
  }
 },
 "nbformat": 4,
 "nbformat_minor": 2
}
