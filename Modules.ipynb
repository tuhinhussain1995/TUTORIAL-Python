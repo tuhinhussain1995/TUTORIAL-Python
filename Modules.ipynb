{
 "cells": [
  {
   "cell_type": "code",
   "execution_count": null,
   "metadata": {},
   "outputs": [],
   "source": [
    "# Modules in Python are simply Python files with the .py extension, \n",
    "# which implement a set of functions. Modules are imported from other modules using the import command."
   ]
  },
  {
   "cell_type": "code",
   "execution_count": 1,
   "metadata": {},
   "outputs": [],
   "source": [
    "# Modules refer to a file containing Python statements and definitions.\n",
    "\n",
    "# We use modules to break down large programs into small manageable and organized files.\n",
    "\n",
    "# We can import the definitions inside a module to another module or the interactive interpreter in Python."
   ]
  },
  {
   "cell_type": "markdown",
   "metadata": {},
   "source": [
    "# From Built in Modules"
   ]
  },
  {
   "cell_type": "code",
   "execution_count": 9,
   "metadata": {},
   "outputs": [
    {
     "name": "stdout",
     "output_type": "stream",
     "text": [
      "3.141592653589793\n"
     ]
    }
   ],
   "source": [
    "import math\n",
    "\n",
    "print(math.pi)"
   ]
  },
  {
   "cell_type": "code",
   "execution_count": 8,
   "metadata": {},
   "outputs": [
    {
     "name": "stdout",
     "output_type": "stream",
     "text": [
      "3.141592653589793\n"
     ]
    }
   ],
   "source": [
    "import math as m\n",
    "\n",
    "print( m.pi)"
   ]
  },
  {
   "cell_type": "code",
   "execution_count": 10,
   "metadata": {},
   "outputs": [
    {
     "name": "stdout",
     "output_type": "stream",
     "text": [
      "3.141592653589793\n"
     ]
    }
   ],
   "source": [
    "from math import pi, e\n",
    "\n",
    "print(pi)"
   ]
  },
  {
   "cell_type": "code",
   "execution_count": 25,
   "metadata": {},
   "outputs": [
    {
     "name": "stdout",
     "output_type": "stream",
     "text": [
      "3.141592653589793\n"
     ]
    }
   ],
   "source": [
    "from math import *\n",
    "\n",
    "print(pi)"
   ]
  },
  {
   "cell_type": "markdown",
   "metadata": {},
   "source": [
    "# From User Define Modules (Inside Same Folder)"
   ]
  },
  {
   "cell_type": "code",
   "execution_count": 16,
   "metadata": {},
   "outputs": [
    {
     "name": "stdout",
     "output_type": "stream",
     "text": [
      "Hello\n",
      "Goodbye Tuhin\n"
     ]
    }
   ],
   "source": [
    "import myModules\n",
    "\n",
    "myModules.say_hello()\n",
    "myModules.say_goodbye('Tuhin')"
   ]
  },
  {
   "cell_type": "code",
   "execution_count": 17,
   "metadata": {},
   "outputs": [
    {
     "name": "stdout",
     "output_type": "stream",
     "text": [
      "Hello\n",
      "Goodbye Tuhin\n"
     ]
    }
   ],
   "source": [
    "import myModules as mm\n",
    "\n",
    "mm.say_hello()\n",
    "mm.say_goodbye('Tuhin')"
   ]
  },
  {
   "cell_type": "code",
   "execution_count": 18,
   "metadata": {},
   "outputs": [
    {
     "name": "stdout",
     "output_type": "stream",
     "text": [
      "Hello\n",
      "Goodbye Tuhin\n"
     ]
    }
   ],
   "source": [
    "from myModules import say_hello, say_goodbye\n",
    "\n",
    "say_hello()\n",
    "say_goodbye('Tuhin')"
   ]
  },
  {
   "cell_type": "code",
   "execution_count": 32,
   "metadata": {},
   "outputs": [
    {
     "name": "stdout",
     "output_type": "stream",
     "text": [
      "Hello\n",
      "Goodbye Tuhin\n"
     ]
    }
   ],
   "source": [
    "from myModules import *\n",
    "\n",
    "say_hello()\n",
    "say_goodbye('Tuhin')"
   ]
  },
  {
   "cell_type": "markdown",
   "metadata": {},
   "source": [
    "# From User Define Modules (Different Folder)"
   ]
  },
  {
   "cell_type": "code",
   "execution_count": 59,
   "metadata": {},
   "outputs": [
    {
     "name": "stdout",
     "output_type": "stream",
     "text": [
      "Hello\n"
     ]
    }
   ],
   "source": [
    "import Variable.example\n",
    "\n",
    "Variable.example.hello()"
   ]
  },
  {
   "cell_type": "code",
   "execution_count": 58,
   "metadata": {},
   "outputs": [
    {
     "name": "stdout",
     "output_type": "stream",
     "text": [
      "Hello\n"
     ]
    }
   ],
   "source": [
    "import Variable.example as ve\n",
    "\n",
    "ve.hello()"
   ]
  },
  {
   "cell_type": "code",
   "execution_count": 57,
   "metadata": {},
   "outputs": [
    {
     "name": "stdout",
     "output_type": "stream",
     "text": [
      "Hello\n"
     ]
    }
   ],
   "source": [
    "from Variable.example import hello\n",
    "\n",
    "hello()"
   ]
  },
  {
   "cell_type": "code",
   "execution_count": 60,
   "metadata": {},
   "outputs": [
    {
     "name": "stdout",
     "output_type": "stream",
     "text": [
      "Hello\n"
     ]
    }
   ],
   "source": [
    "from Variable.example import *\n",
    "\n",
    "hello()"
   ]
  },
  {
   "cell_type": "markdown",
   "metadata": {},
   "source": [
    "# From User Define Modules (Different Package)"
   ]
  },
  {
   "cell_type": "markdown",
   "metadata": {},
   "source": [
    "### A directory must contain a file named \\_\\_init__.py in order for Python to consider it as a package. \n",
    "### This file can be left empty but we generally place the initialization code for that package in this file."
   ]
  },
  {
   "cell_type": "code",
   "execution_count": null,
   "metadata": {},
   "outputs": [],
   "source": [
    "# Package ==> Game\n",
    "        # __init__.py\n",
    "    \n",
    "        # Sub_Package ==> Sound\n",
    "                # __init__.py\n",
    "            \n",
    "                # load.py\n",
    "                # play.py\n",
    "                # pause.py\n",
    "        # Sub_Package ==> Image\n",
    "                # __init__.py\n",
    "            \n",
    "                # open.py\n",
    "                # change.py\n",
    "                # close.py   \n",
    "        # Sub_Package ==> Level\n",
    "                # __init__.py\n",
    "            \n",
    "                # start.py\n",
    "                # load.py\n",
    "                # over.py"
   ]
  },
  {
   "cell_type": "code",
   "execution_count": null,
   "metadata": {},
   "outputs": [],
   "source": [
    "import Game.Level.start\n",
    "\n",
    "Game.Level.start.select_difficulty(2)"
   ]
  },
  {
   "cell_type": "code",
   "execution_count": null,
   "metadata": {},
   "outputs": [],
   "source": [
    "import Game.Level.start as gls\n",
    "\n",
    "gls.select_difficulty(2)"
   ]
  },
  {
   "cell_type": "code",
   "execution_count": null,
   "metadata": {},
   "outputs": [],
   "source": [
    "from Game.Level.start import select_difficulty\n",
    "\n",
    "select_difficulty(2)"
   ]
  },
  {
   "cell_type": "code",
   "execution_count": null,
   "metadata": {},
   "outputs": [],
   "source": [
    "from Game.Level.start import *\n",
    "\n",
    "select_difficulty(2)"
   ]
  },
  {
   "cell_type": "markdown",
   "metadata": {},
   "source": [
    "# dir()\n",
    "### We can use the dir() function to find out names that are defined inside a module.\n"
   ]
  },
  {
   "cell_type": "code",
   "execution_count": 3,
   "metadata": {},
   "outputs": [
    {
     "name": "stdout",
     "output_type": "stream",
     "text": [
      "['In', 'Out', '_', '__', '___', '__builtin__', '__builtins__', '__doc__', '__loader__', '__name__', '__package__', '__spec__', '_dh', '_i', '_i1', '_i2', '_i3', '_ih', '_ii', '_iii', '_oh', 'exit', 'get_ipython', 'myModules', 'quit']\n"
     ]
    }
   ],
   "source": [
    "print(dir())                         # Show all available methods that we can use."
   ]
  },
  {
   "cell_type": "code",
   "execution_count": 2,
   "metadata": {},
   "outputs": [
    {
     "name": "stdout",
     "output_type": "stream",
     "text": [
      "['__builtins__', '__cached__', '__doc__', '__file__', '__loader__', '__name__', '__package__', '__spec__', 'say_goodbye', 'say_hello']\n"
     ]
    }
   ],
   "source": [
    "import myModules\n",
    "\n",
    "print(dir(myModules))"
   ]
  },
  {
   "cell_type": "code",
   "execution_count": 5,
   "metadata": {},
   "outputs": [
    {
     "name": "stdout",
     "output_type": "stream",
     "text": [
      "\n",
      "one.py is being imported into another module\n",
      "\n",
      "['__builtins__', '__cached__', '__doc__', '__file__', '__loader__', '__name__', '__package__', '__spec__', 'func1', 'func2']\n"
     ]
    }
   ],
   "source": [
    "import one\n",
    "\n",
    "print(dir(one))"
   ]
  },
  {
   "cell_type": "markdown",
   "metadata": {},
   "source": [
    "# \\_ \\_name_ _"
   ]
  },
  {
   "cell_type": "code",
   "execution_count": 1,
   "metadata": {},
   "outputs": [
    {
     "name": "stdout",
     "output_type": "stream",
     "text": [
      "__main__\n",
      "myModules\n"
     ]
    }
   ],
   "source": [
    "import myModules\n",
    "\n",
    "print(__name__)\n",
    "\n",
    "print(myModules.__name__)"
   ]
  },
  {
   "cell_type": "code",
   "execution_count": 10,
   "metadata": {},
   "outputs": [
    {
     "name": "stdout",
     "output_type": "stream",
     "text": [
      "__main__\n",
      "one\n",
      "func1\n"
     ]
    }
   ],
   "source": [
    "import one\n",
    "\n",
    "print(__name__)\n",
    "print(one.__name__)\n",
    "print(one.func1.__name__)"
   ]
  },
  {
   "cell_type": "code",
   "execution_count": 15,
   "metadata": {},
   "outputs": [
    {
     "name": "stdout",
     "output_type": "stream",
     "text": [
      "Main method is called\n",
      "func1() ran in one.py\n"
     ]
    }
   ],
   "source": [
    "import one\n",
    "    \n",
    "if __name__==\"__main__\":\n",
    "    print(\"Main method is called\")\n",
    "    \n",
    "if one.func1.__name__=='func1':\n",
    "    one.func1()    "
   ]
  }
 ],
 "metadata": {
  "kernelspec": {
   "display_name": "Python 3",
   "language": "python",
   "name": "python3"
  },
  "language_info": {
   "codemirror_mode": {
    "name": "ipython",
    "version": 3
   },
   "file_extension": ".py",
   "mimetype": "text/x-python",
   "name": "python",
   "nbconvert_exporter": "python",
   "pygments_lexer": "ipython3",
   "version": "3.7.4"
  }
 },
 "nbformat": 4,
 "nbformat_minor": 2
}
