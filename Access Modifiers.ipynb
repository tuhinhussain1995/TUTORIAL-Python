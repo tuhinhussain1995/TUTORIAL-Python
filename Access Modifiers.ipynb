{
 "cells": [
  {
   "cell_type": "code",
   "execution_count": 3,
   "metadata": {},
   "outputs": [],
   "source": [
    "class Super:                                             # super class\n",
    "    def __init__(self, var1, var2, var3):\n",
    "        self.var1 = var1                                 # public data member\n",
    "        self._var2 = var2                                # protected data member\n",
    "        self.__var3 = var3                               # private data member\n",
    "        \n",
    "    @property                       # getter method\n",
    "    def privateVar3(self):\n",
    "        return self.__var3\n",
    "    \n",
    "    @privateVar3.setter             # setter method\n",
    "    def privateVar3(self, value):\n",
    "        self.__var3 = value\n",
    "\n",
    "    def displayPublicMembers(self):                      # public member function\n",
    "        print(\"From Super Public Method:\", self.var1)    # accessing public data members\n",
    "\n",
    "    def _displayProtectedMembers(self):                  # protected member function\n",
    "        print(\"From Super Protected Method:\", self._var2)# accessing protected data members\n",
    "\n",
    "    def __displayPrivateMembers(self):                   # private member function\n",
    "        print(\"From Super Private Method:\", self.__var3) # accessing private data members\n",
    "\n",
    "    def accessPrivateMembers(self):                      # public member function\n",
    "        self.__displayPrivateMembers()                   # accessing private memeber function\n",
    "\n",
    "\n",
    "class Sub(Super):                                        # derived class\n",
    "    def __init__(self, var1, var2, var3):                # constructor\n",
    "        Super.__init__(self, var1, var2, var3)\n",
    "\n",
    "    def accessProtectedMemebers(self):                   # public member function\n",
    "        self._displayProtectedMembers()                  # accessing protected member functions of super class"
   ]
  },
  {
   "cell_type": "code",
   "execution_count": 6,
   "metadata": {},
   "outputs": [
    {
     "name": "stdout",
     "output_type": "stream",
     "text": [
      "From Super Public Method: public\n",
      "From Super Protected Method: protected\n",
      "From Super Private Method: private\n",
      "public\n",
      "protected\n",
      "private\n"
     ]
    }
   ],
   "source": [
    "if __name__=='__main__':\n",
    "    supObj = Super(\"public\", 'protected', 'private')\n",
    "    \n",
    "    supObj.displayPublicMembers()                          # calling public member functions of the class\n",
    "    supObj._displayProtectedMembers()\n",
    "        # supObj.__displayPrivateMembers()                   we can't call, because it is private\n",
    "    supObj.accessPrivateMembers()\n",
    "\n",
    "    print(supObj.var1)\n",
    "    print(supObj._var2)\n",
    "        # print(supObj.__var3)                              we can't call, because it is private\n",
    "    print(supObj.privateVar3)           # By using property function we can call private attribute outside class"
   ]
  },
  {
   "cell_type": "code",
   "execution_count": 7,
   "metadata": {},
   "outputs": [
    {
     "name": "stdout",
     "output_type": "stream",
     "text": [
      "From Super Public Method: public\n",
      "From Super Protected Method: protected\n",
      "From Super Private Method: private\n",
      "From Super Protected Method: protected\n",
      "public\n",
      "protected\n",
      "private\n"
     ]
    }
   ],
   "source": [
    "if __name__=='__main__':\n",
    "    obj = Sub(\"public\", \"protected\", \"private\")         # creating objects of the derived class\n",
    "\n",
    "    obj.displayPublicMembers()                          # calling public member functions of the class\n",
    "    obj._displayProtectedMembers()\n",
    "        # obj.__displayPrivateMembers()                 we can't call, because it is private\n",
    "    obj.accessPrivateMembers()\n",
    "\n",
    "    obj.accessProtectedMemebers()\n",
    "\n",
    "    print(obj.var1)\n",
    "    print(obj._var2)\n",
    "        # print(obj.__var3)                            we can't call, because it is private\n",
    "    print(supObj.privateVar3)           # By using property function we can call private attribute outside class    "
   ]
  },
  {
   "cell_type": "markdown",
   "metadata": {},
   "source": [
    "## Full Example"
   ]
  },
  {
   "cell_type": "code",
   "execution_count": 2,
   "metadata": {},
   "outputs": [
    {
     "name": "stdout",
     "output_type": "stream",
     "text": [
      "tuhin\n",
      "KL\n",
      "24\n",
      "nazrul\n",
      "Mantari\n",
      "28\n",
      "Mediu\n",
      "From Super Public Method\n",
      "From Super Protected Method\n",
      "From Super Private Method\n"
     ]
    }
   ],
   "source": [
    "class Student:\n",
    "    def __init__(self, name, address, age):\n",
    "        self.name = name                                     # public attribute\n",
    "        self._address = address                              # protected attribute\n",
    "        self.__age = age                                     # private attribute\n",
    "\n",
    "    @property\n",
    "    def privateAge(self):                                    # This is getter method for age\n",
    "        return self.__age\n",
    "\n",
    "    @privateAge.setter\n",
    "    def privateAge(self, old):                               # This is setter method for age\n",
    "        self.__age = old\n",
    "\n",
    "    def display(self):                                       # this is public method\n",
    "        print(self.name)\n",
    "        print(self._address)\n",
    "        print(self.privateAge)\n",
    "\n",
    "    def publicMethod(self):                                  # this is public method\n",
    "        print(\"From Super Public Method\")\n",
    "\n",
    "    def _protectedMethod(self):                              # this is protected method\n",
    "        print(\"From Super Protected Method\")\n",
    "\n",
    "    def __privateMethod(self):                               # this is private method\n",
    "        print(\"From Super Private Method\")\n",
    "\n",
    "    def privateDisplay(self):                                # this is public method but calling private method\n",
    "        self.__privateMethod()\n",
    "\n",
    "class University(Student):\n",
    "    def __init__(self, name, address, age, uni):\n",
    "        super().__init__(name, address, age)\n",
    "        self.university = uni\n",
    "\n",
    "    def display(self):\n",
    "        print(self.name)                                # calling base class public attribute from derived class\n",
    "        print(self._address)                            # calling base class protected attribute from derived class\n",
    "        print(self.privateAge)                          # calling base class private attribute from derived class\n",
    "        print(self.university)\n",
    "\n",
    "    def accessSuperMethods(self):\n",
    "        self.publicMethod()                             # calling base class public method from derived class\n",
    "        self._protectedMethod()                         # calling base class protected method from derived class\n",
    "        self.privateDisplay()                           # calling base class private method from derived class\n",
    "\n",
    "if __name__=='__main__':\n",
    "    stu1 = Student('tuhin', 'KL', 24)\n",
    "    stu1.display()\n",
    "\n",
    "    stu2 = University('nazrul', 'Mantari', 28, 'Mediu')\n",
    "    stu2.display()\n",
    "\n",
    "    stu2.accessSuperMethods()"
   ]
  }
 ],
 "metadata": {
  "kernelspec": {
   "display_name": "Python 3",
   "language": "python",
   "name": "python3"
  },
  "language_info": {
   "codemirror_mode": {
    "name": "ipython",
    "version": 3
   },
   "file_extension": ".py",
   "mimetype": "text/x-python",
   "name": "python",
   "nbconvert_exporter": "python",
   "pygments_lexer": "ipython3",
   "version": "3.7.4"
  }
 },
 "nbformat": 4,
 "nbformat_minor": 2
}
