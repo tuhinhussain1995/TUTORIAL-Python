{
 "cells": [
  {
   "cell_type": "markdown",
   "metadata": {},
   "source": [
    "# Collections Methods\n",
    "1. namedtuple()\n",
    "2. deque\n",
    "3. ChainMap\n",
    "4. Counter\n",
    "5. OrderedDict\n",
    "6. defaultdict\n",
    "7. UserDict\n",
    "8. UserList\n",
    "9. UserString"
   ]
  },
  {
   "cell_type": "markdown",
   "metadata": {},
   "source": [
    "### Counter return dictionary data type"
   ]
  },
  {
   "cell_type": "markdown",
   "metadata": {},
   "source": [
    "# Basic"
   ]
  },
  {
   "cell_type": "code",
   "execution_count": 44,
   "metadata": {},
   "outputs": [
    {
     "name": "stdout",
     "output_type": "stream",
     "text": [
      "Counter({1: 6, 2: 5, 4: 4, 3: 2, 5: 2, 6: 1})\n",
      "{1: 6, 2: 5, 3: 2, 4: 4, 5: 2, 6: 1}\n",
      "[1, 2, 3, 4, 5, 6]\n",
      "(1, 2, 3, 4, 5, 6)\n",
      "{1, 2, 3, 4, 5, 6}\n"
     ]
    }
   ],
   "source": [
    "from collections import Counter\n",
    "\n",
    "myList = [1,1,1,1,2,2,2,1,3,4,5,4,3,2,4,5,6,4,2,1]\n",
    "\n",
    "myCounter = Counter(myList)\n",
    "print(myCounter)\n",
    "\n",
    "myDict = dict(myCounter)\n",
    "print(dict(myDict))\n",
    "\n",
    "print(list(myCounter))        # counter keys\n",
    "print(tuple(myCounter))       # counter keys\n",
    "print(set(myCounter))         # counter keys"
   ]
  },
  {
   "cell_type": "code",
   "execution_count": 12,
   "metadata": {},
   "outputs": [
    {
     "name": "stdout",
     "output_type": "stream",
     "text": [
      "{1: 6, 2: 5, 3: 2, 4: 4, 5: 2, 6: 1}\n",
      "dict_items([(1, 6), (2, 5), (3, 2), (4, 4), (5, 2), (6, 1)])\n",
      "dict_keys([1, 2, 3, 4, 5, 6])\n",
      "dict_values([6, 5, 2, 4, 2, 1])\n",
      "[1, 2, 3, 4, 5, 6]\n",
      "(1, 2, 3, 4, 5, 6)\n",
      "{1, 2, 3, 4, 5, 6}\n"
     ]
    }
   ],
   "source": [
    "from collections import Counter\n",
    "\n",
    "myList = [1,1,1,1,2,2,2,1,3,4,5,4,3,2,4,5,6,4,2,1]\n",
    "\n",
    "myCounter = Counter(myList)\n",
    "\n",
    "print(dict(myCounter))\n",
    "print(dict(myCounter).items())\n",
    "print(dict(myCounter).keys())\n",
    "print(dict(myCounter).values())\n",
    "\n",
    "print(list(myCounter))  \n",
    "print(tuple(myCounter))  \n",
    "print(set(myCounter))       "
   ]
  },
  {
   "cell_type": "markdown",
   "metadata": {},
   "source": [
    "## string ==> Counter"
   ]
  },
  {
   "cell_type": "code",
   "execution_count": 47,
   "metadata": {},
   "outputs": [
    {
     "name": "stdout",
     "output_type": "stream",
     "text": [
      "Counter({'a': 11, 'd': 10, 'f': 6, 's': 3})\n",
      "{'s': 3, 'a': 11, 'd': 10, 'f': 6}\n"
     ]
    }
   ],
   "source": [
    "from collections import Counter\n",
    "\n",
    "myString = 'sadafdafdsadaffdadfafdadaddsaa'\n",
    "print(Counter(myString))\n",
    "\n",
    "myDict = dict(Counter(myString))\n",
    "print(myDict)"
   ]
  },
  {
   "cell_type": "code",
   "execution_count": 48,
   "metadata": {},
   "outputs": [
    {
     "name": "stdout",
     "output_type": "stream",
     "text": [
      "Counter({'word': 3, 'show': 3, 'How': 1, 'many': 1, 'times': 1, 'does': 1, 'each': 1, 'up': 1})\n",
      "{'How': 1, 'many': 1, 'times': 1, 'does': 1, 'each': 1, 'word': 3, 'show': 3, 'up': 1}\n"
     ]
    }
   ],
   "source": [
    "from collections import Counter\n",
    "\n",
    "mySentence = 'How many times does each word show up  word word show show'\n",
    "words = mySentence.split()\n",
    "\n",
    "print(Counter(words))\n",
    "\n",
    "myDict = dict(Counter(words))\n",
    "print(myDict)"
   ]
  },
  {
   "cell_type": "markdown",
   "metadata": {},
   "source": [
    "## list ==> Counter"
   ]
  },
  {
   "cell_type": "code",
   "execution_count": 10,
   "metadata": {},
   "outputs": [
    {
     "name": "stdout",
     "output_type": "stream",
     "text": [
      "Counter({'blue': 3, 'red': 2, 'yellow': 1})\n",
      "3\n",
      "2\n",
      "1\n",
      "0\n",
      "0\n"
     ]
    }
   ],
   "source": [
    "from collections import Counter \n",
    "  \n",
    "z = ['blue', 'red', 'blue', 'yellow', 'blue', 'red'] \n",
    "col_count = Counter(z) \n",
    "print(col_count) \n",
    "  \n",
    "print(col_count['blue'])\n",
    "print(col_count['red'])\n",
    "print(col_count['yellow'])\n",
    "print(col_count['green'])\n",
    "print(col_count['orange'])"
   ]
  },
  {
   "cell_type": "code",
   "execution_count": 14,
   "metadata": {},
   "outputs": [
    {
     "name": "stdout",
     "output_type": "stream",
     "text": [
      "Counter({'blue': 3, 'red': 2, 'yellow': 1})\n",
      "{'blue': 3, 'red': 2, 'yellow': 1}\n",
      "3\n",
      "2\n",
      "1\n",
      "None\n",
      "None\n"
     ]
    }
   ],
   "source": [
    "from collections import Counter \n",
    "  \n",
    "z = ['blue', 'red', 'blue', 'yellow', 'blue', 'red'] \n",
    "col_count = Counter(z) \n",
    "print(col_count) \n",
    "\n",
    "colDict = dict(col_count)\n",
    "print(colDict)\n",
    "  \n",
    "print(colDict['blue'])\n",
    "print(colDict['red'])\n",
    "print(colDict['yellow'])\n",
    "print(colDict.get('green'))\n",
    "print(colDict.get('orange'))"
   ]
  },
  {
   "cell_type": "code",
   "execution_count": 15,
   "metadata": {},
   "outputs": [
    {
     "name": "stdout",
     "output_type": "stream",
     "text": [
      "Counter({'blue': 3, 'red': 2, 'yellow': 1})\n",
      "{'yellow', 'red', 'blue'}\n",
      "yellow 1\n",
      "red 2\n",
      "blue 3\n"
     ]
    }
   ],
   "source": [
    "from collections import Counter \n",
    "  \n",
    "z = ['blue', 'red', 'blue', 'yellow', 'blue', 'red'] \n",
    "col_count = Counter(z) \n",
    "print(col_count) \n",
    "  \n",
    "z_set = set(z)\n",
    "print(z_set)\n",
    "\n",
    "for color in z_set: \n",
    "    print (color, col_count[color]) "
   ]
  },
  {
   "cell_type": "markdown",
   "metadata": {},
   "source": [
    "## dictionary ==> Counter"
   ]
  },
  {
   "cell_type": "code",
   "execution_count": 18,
   "metadata": {},
   "outputs": [
    {
     "name": "stdout",
     "output_type": "stream",
     "text": [
      "Counter({'Dog': 2, 'Cat': 1, 'Horse': 1})\n"
     ]
    }
   ],
   "source": [
    "word_count_dict = {'Dog': 2, 'Cat': 1, 'Horse': 1}\n",
    "counter = Counter(word_count_dict)\n",
    "print(counter)"
   ]
  },
  {
   "cell_type": "code",
   "execution_count": null,
   "metadata": {},
   "outputs": [],
   "source": []
  },
  {
   "cell_type": "markdown",
   "metadata": {},
   "source": [
    "## variable ==> Counter"
   ]
  },
  {
   "cell_type": "code",
   "execution_count": 22,
   "metadata": {},
   "outputs": [
    {
     "name": "stdout",
     "output_type": "stream",
     "text": [
      "Counter({'f': 219, 'd': 120, 'c': 3, 'b': 2, 'a': 1, 'e': 1})\n"
     ]
    }
   ],
   "source": [
    "from collections import Counter \n",
    "  \n",
    "coun = Counter(a=1, b=2, c=3, d=120, e=1, f=219) \n",
    "print(coun)"
   ]
  },
  {
   "cell_type": "markdown",
   "metadata": {},
   "source": [
    "# Counter key indexing"
   ]
  },
  {
   "cell_type": "code",
   "execution_count": 35,
   "metadata": {},
   "outputs": [
    {
     "name": "stdout",
     "output_type": "stream",
     "text": [
      "Counter({'Dog': 2, 'Cat': 1, 'Horse': 1})\n",
      "2\n",
      "1\n"
     ]
    }
   ],
   "source": [
    "counter = Counter({'Dog': 2, 'Cat': 1, 'Horse': 1})\n",
    "print(counter)\n",
    "\n",
    "print(counter['Dog'])\n",
    "print(counter['Horse'])"
   ]
  },
  {
   "cell_type": "markdown",
   "metadata": {},
   "source": [
    "# Counter item assignment"
   ]
  },
  {
   "cell_type": "code",
   "execution_count": 21,
   "metadata": {},
   "outputs": [
    {
     "name": "stdout",
     "output_type": "stream",
     "text": [
      "Counter({'Dog': 2, 'Cat': 1, 'Horse': 1})\n",
      "Counter({'Horse': 10, 'Dog': 2, 'Cat': 1})\n"
     ]
    }
   ],
   "source": [
    "counter = Counter({'Dog': 2, 'Cat': 1, 'Horse': 1})\n",
    "print(counter)\n",
    "\n",
    "counter['Horse'] = 10\n",
    "print(counter)"
   ]
  },
  {
   "cell_type": "markdown",
   "metadata": {},
   "source": [
    "# Counter +, -, &, |"
   ]
  },
  {
   "cell_type": "code",
   "execution_count": 29,
   "metadata": {},
   "outputs": [
    {
     "name": "stdout",
     "output_type": "stream",
     "text": [
      "Counter({'a': 3, 'c': 1})\n",
      "Counter({'a': 1, 'b': 1})\n",
      "Counter({'a': 1})\n",
      "Counter({'a': 2, 'c': 2})\n"
     ]
    }
   ],
   "source": [
    "c1 = Counter(a=2, b=0, c=-1)\n",
    "c2 = Counter(a=1, b=-1, c=2)\n",
    "\n",
    "c = c1 + c2    # update\n",
    "print(c)\n",
    "\n",
    "c = c1 - c2    # subtract\n",
    "print(c) \n",
    "\n",
    "c = c1 & c2            # lower value\n",
    "print(c)\n",
    "\n",
    "c = c1 | c2           # upper value\n",
    "print(c) "
   ]
  },
  {
   "cell_type": "markdown",
   "metadata": {},
   "source": [
    "# Counter Methods\n",
    "### items(), keys(), values(), most_common(n), subtract(), update(), clear()"
   ]
  },
  {
   "cell_type": "markdown",
   "metadata": {},
   "source": [
    "### items(), keys(), values()"
   ]
  },
  {
   "cell_type": "code",
   "execution_count": 54,
   "metadata": {},
   "outputs": [
    {
     "name": "stdout",
     "output_type": "stream",
     "text": [
      "Counter({'word': 2, 'show': 2, 'How': 1, 'many': 1, 'times': 1})\n",
      "dict_items([('How', 1), ('many', 1), ('times', 1), ('word', 2), ('show', 2)])\n",
      "dict_keys(['How', 'many', 'times', 'word', 'show'])\n",
      "dict_values([1, 1, 1, 2, 2])\n"
     ]
    }
   ],
   "source": [
    "from collections import Counter\n",
    "\n",
    "mySentence = 'How many times word word show show'\n",
    "words = mySentence.split()\n",
    "\n",
    "total_words = Counter(words)\n",
    "print(total_words)\n",
    "\n",
    "print(total_words.items())\n",
    "print(total_words.keys())\n",
    "print(total_words.values())"
   ]
  },
  {
   "cell_type": "code",
   "execution_count": 45,
   "metadata": {},
   "outputs": [
    {
     "name": "stdout",
     "output_type": "stream",
     "text": [
      "[(1, 6), (2, 5), (3, 2), (4, 4), (5, 2), (6, 1)]\n",
      "((1, 6), (2, 5), (3, 2), (4, 4), (5, 2), (6, 1))\n",
      "{(3, 2), (6, 1), (4, 4), (1, 6), (2, 5), (5, 2)}\n",
      "[1, 2, 3, 4, 5, 6]\n",
      "(1, 2, 3, 4, 5, 6)\n",
      "{1, 2, 3, 4, 5, 6}\n",
      "[6, 5, 2, 4, 2, 1]\n",
      "(6, 5, 2, 4, 2, 1)\n",
      "{1, 2, 4, 5, 6}\n"
     ]
    }
   ],
   "source": [
    "print(list(myCounter.items()))        # counter items\n",
    "print(tuple(myCounter.items()))       # counter items\n",
    "print(set(myCounter.items()))         # counter items\n",
    "\n",
    "print(list(myCounter.keys()))        # counter keys\n",
    "print(tuple(myCounter.keys()))       # counter keys\n",
    "print(set(myCounter.keys()))         # counter keys\n",
    "\n",
    "print(list(myCounter.values()))        # counter values\n",
    "print(tuple(myCounter.values()))       # counter values\n",
    "print(set(myCounter.values()))         # counter values"
   ]
  },
  {
   "cell_type": "markdown",
   "metadata": {},
   "source": [
    "### elements()"
   ]
  },
  {
   "cell_type": "code",
   "execution_count": 4,
   "metadata": {},
   "outputs": [
    {
     "name": "stdout",
     "output_type": "stream",
     "text": [
      "<itertools.chain object at 0x0000020FBCE72B48>\n",
      "['a', 'a', 'a', 'a', 'b', 'b']\n",
      "['a', 'a', 'a', 'a', 'b', 'b']\n"
     ]
    }
   ],
   "source": [
    "from collections import Counter \n",
    "\n",
    "c = Counter(a=4, b=2, c=0, d=-2)\n",
    "\n",
    "print(c.elements())\n",
    "print(list(c.elements()))\n",
    "\n",
    "print(sorted(c.elements()))"
   ]
  },
  {
   "cell_type": "markdown",
   "metadata": {},
   "source": [
    "### most_common(n)"
   ]
  },
  {
   "cell_type": "code",
   "execution_count": 17,
   "metadata": {},
   "outputs": [
    {
     "name": "stdout",
     "output_type": "stream",
     "text": [
      "Counter({'f': 219, 'd': 120, 'c': 3, 'b': 2, 'a': 1, 'e': 1})\n",
      "f: 219\n",
      "d: 120\n",
      "c: 3\n"
     ]
    }
   ],
   "source": [
    "from collections import Counter \n",
    "  \n",
    "coun = Counter(a=1, b=2, c=3, d=120, e=1, f=219) \n",
    "print(coun)\n",
    "\n",
    "for letter, count in coun.most_common(3): \n",
    "    print('%s: %d' % (letter, count)) "
   ]
  },
  {
   "cell_type": "markdown",
   "metadata": {},
   "source": [
    "### subtract()"
   ]
  },
  {
   "cell_type": "code",
   "execution_count": 31,
   "metadata": {},
   "outputs": [
    {
     "name": "stdout",
     "output_type": "stream",
     "text": [
      "Counter({'a': 3, 'b': 3})\n",
      "Counter({'a': 1, 'b': 1, 'c': 1})\n",
      "Counter({'a': 2, 'b': 2, 'c': -1})\n",
      "Counter({'a': 3, 'b': 3, 'c': 0})\n"
     ]
    }
   ],
   "source": [
    "counter = Counter('ababab')\n",
    "print(counter)  \n",
    "\n",
    "c = Counter('abc')\n",
    "print(c)  \n",
    "\n",
    "counter.subtract(c)          # counter - c\n",
    "print(counter)\n",
    "\n",
    "counter.update(c)\n",
    "print(counter) "
   ]
  },
  {
   "cell_type": "code",
   "execution_count": 34,
   "metadata": {},
   "outputs": [
    {
     "name": "stdout",
     "output_type": "stream",
     "text": [
      "Counter({'a': 1, 'b': 1})\n"
     ]
    }
   ],
   "source": [
    "c1 = Counter(a=2, b=0, c=-1)\n",
    "c2 = Counter(a=1, b=-1, c=2)\n",
    "\n",
    "c = c1 - c2  \n",
    "print(c) "
   ]
  },
  {
   "cell_type": "markdown",
   "metadata": {},
   "source": [
    "### update()"
   ]
  },
  {
   "cell_type": "code",
   "execution_count": 32,
   "metadata": {},
   "outputs": [
    {
     "name": "stdout",
     "output_type": "stream",
     "text": [
      "Counter({'a': 3, 'b': 3})\n",
      "Counter({'a': 1, 'b': 1, 'c': 1})\n",
      "Counter({'a': 4, 'b': 4, 'c': 1})\n"
     ]
    }
   ],
   "source": [
    "counter = Counter('ababab')\n",
    "print(counter)  \n",
    "\n",
    "c = Counter('abc')\n",
    "print(c)  \n",
    "\n",
    "counter.update(c)          # counter + c\n",
    "print(counter) "
   ]
  },
  {
   "cell_type": "code",
   "execution_count": 33,
   "metadata": {},
   "outputs": [
    {
     "name": "stdout",
     "output_type": "stream",
     "text": [
      "Counter({'a': 3, 'c': 1})\n"
     ]
    }
   ],
   "source": [
    "c1 = Counter(a=2, b=0, c=-1)\n",
    "c2 = Counter(a=1, b=-1, c=2)\n",
    "\n",
    "c = c1 + c2 \n",
    "print(c)"
   ]
  },
  {
   "cell_type": "markdown",
   "metadata": {},
   "source": [
    "### clear()"
   ]
  },
  {
   "cell_type": "code",
   "execution_count": 23,
   "metadata": {},
   "outputs": [
    {
     "name": "stdout",
     "output_type": "stream",
     "text": [
      "Counter({'b': 3, 'a': 2, 'd': 0, 'c': -1})\n",
      "Counter()\n"
     ]
    }
   ],
   "source": [
    "counter = Counter(a=2, b=3, c=-1, d=0)\n",
    "print(counter)\n",
    "\n",
    "counter.clear()\n",
    "print(counter)"
   ]
  },
  {
   "cell_type": "markdown",
   "metadata": {},
   "source": [
    "## del"
   ]
  },
  {
   "cell_type": "code",
   "execution_count": 26,
   "metadata": {},
   "outputs": [
    {
     "name": "stdout",
     "output_type": "stream",
     "text": [
      "Counter({'b': 3, 'a': 2, 'd': 0, 'c': -1})\n"
     ]
    }
   ],
   "source": [
    "counter = Counter(a=2, b=3, c=-1, d=0)\n",
    "print(counter)\n",
    "\n",
    "del counter"
   ]
  },
  {
   "cell_type": "markdown",
   "metadata": {},
   "source": [
    "# Operators with Counter "
   ]
  },
  {
   "cell_type": "code",
   "execution_count": 8,
   "metadata": {},
   "outputs": [
    {
     "name": "stdout",
     "output_type": "stream",
     "text": [
      "Counter({'a': 4, 'b': 3})\n",
      "Counter({'a': 2})\n",
      "Counter({'a': 1, 'b': 1})\n",
      "Counter({'a': 3, 'b': 2})\n"
     ]
    }
   ],
   "source": [
    "c = Counter(a=3, b=1)\n",
    "d = Counter(a=1, b=2)\n",
    "\n",
    "print(c + d)                       # add two counters together:  c[x] + d[x]\n",
    "print(c - d)                       # subtract (keeping only positive counts)\n",
    "print(c & d)                       # intersection:  min(c[x], d[x]) \n",
    "print(c | d)                       # union:  max(c[x], d[x])"
   ]
  }
 ],
 "metadata": {
  "kernelspec": {
   "display_name": "Python 3",
   "language": "python",
   "name": "python3"
  },
  "language_info": {
   "codemirror_mode": {
    "name": "ipython",
    "version": 3
   },
   "file_extension": ".py",
   "mimetype": "text/x-python",
   "name": "python",
   "nbconvert_exporter": "python",
   "pygments_lexer": "ipython3",
   "version": "3.7.4"
  }
 },
 "nbformat": 4,
 "nbformat_minor": 2
}
