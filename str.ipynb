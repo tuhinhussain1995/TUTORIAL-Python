{
 "cells": [
  {
   "cell_type": "code",
   "execution_count": 3,
   "metadata": {},
   "outputs": [
    {
     "name": "stdout",
     "output_type": "stream",
     "text": [
      "Species: homo sapiens, Legs: 2, tail: False\n",
      "Species: panthera tigris, Legs: 4, tail: True\n"
     ]
    }
   ],
   "source": [
    "class Human:\n",
    "    def __init__(self):\n",
    "        self.species = \"homo sapiens\"\n",
    "        self.legs = 2\n",
    "        self.tail = False\n",
    "\n",
    "    def __str__(self):\n",
    "        return \"Species: {0.species}, Legs: {0.legs}, tail: {0.tail}\".format(self)\n",
    "\n",
    "class Tiger:\n",
    "    def __init__(self):\n",
    "        self.species = \"panthera tigris\"\n",
    "        self.legs = 4\n",
    "        self.tail = True\n",
    "\n",
    "    def __str__(self):\n",
    "        return \"Species: {0.species}, Legs: {0.legs}, tail: {0.tail}\".format(self)\n",
    "\n",
    "if __name__=='__main__':\n",
    "    human = Human()\n",
    "    print(human)\n",
    "\n",
    "    tiger = Tiger()\n",
    "    print(tiger)"
   ]
  },
  {
   "cell_type": "code",
   "execution_count": 2,
   "metadata": {},
   "outputs": [
    {
     "name": "stdout",
     "output_type": "stream",
     "text": [
      "Tuhin\n",
      "3\n",
      "0\n",
      "0\n",
      "Name: Tuhin, Lives: 3, Level: 0, Score: 450\n",
      "Name: Tuhin, Lives: 3, Level: 0, Score: 350\n"
     ]
    }
   ],
   "source": [
    "class Player:\n",
    "    def __init__(self, name):\n",
    "        self.name = name                 # public attribute\n",
    "        self._lives = 3                  # protected attribute\n",
    "        self._level = 0                  # protected attribute\n",
    "        self.__score = 0                 # private attribute\n",
    "\n",
    "    def __getScore(self):                # private method\n",
    "        return self.__score\n",
    "\n",
    "    def _setScore(self, newScore):       # private method\n",
    "        self.__score = newScore\n",
    "\n",
    "    proScore = property(__getScore, _setScore)\n",
    "\n",
    "    def __str__(self):\n",
    "        return \"Name: {0.name}, Lives: {0._lives}, Level: {0._level}, Score: {0.proScore}\".format(self)\n",
    "    \n",
    "if __name__=='__main__':\n",
    "    tuhin = Player(\"Tuhin\")\n",
    "\n",
    "    print(tuhin.name)\n",
    "    print(tuhin._lives)\n",
    "    print(tuhin._level)\n",
    "    print(tuhin.proScore)\n",
    "\n",
    "    tuhin.proScore += 450\n",
    "    print(tuhin)                      # calling object __str__\n",
    "\n",
    "    tuhin.proScore -= 100\n",
    "    print(tuhin)                      # calling object __str__"
   ]
  }
 ],
 "metadata": {
  "kernelspec": {
   "display_name": "Python 3",
   "language": "python",
   "name": "python3"
  },
  "language_info": {
   "codemirror_mode": {
    "name": "ipython",
    "version": 3
   },
   "file_extension": ".py",
   "mimetype": "text/x-python",
   "name": "python",
   "nbconvert_exporter": "python",
   "pygments_lexer": "ipython3",
   "version": "3.7.4"
  }
 },
 "nbformat": 4,
 "nbformat_minor": 2
}
