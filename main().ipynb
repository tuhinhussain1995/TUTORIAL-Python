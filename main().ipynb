{
 "cells": [
  {
   "cell_type": "markdown",
   "metadata": {},
   "source": [
    "# Two ways we can call main() function"
   ]
  },
  {
   "cell_type": "markdown",
   "metadata": {},
   "source": [
    "### First Way:"
   ]
  },
  {
   "cell_type": "code",
   "execution_count": 2,
   "metadata": {},
   "outputs": [
    {
     "name": "stdout",
     "output_type": "stream",
     "text": [
      "func1() ran in one.py\n",
      "func2() ran in one.py\n"
     ]
    }
   ],
   "source": [
    "def func1():\n",
    "    print(\"func1() ran in one.py\")\n",
    "\n",
    "def func2():\n",
    "    print(\"func2() ran in one.py\")\n",
    "\n",
    "if __name__ == \"__main__\":\n",
    "    func1()\n",
    "    func2()"
   ]
  },
  {
   "cell_type": "markdown",
   "metadata": {},
   "source": [
    "### Second Way:"
   ]
  },
  {
   "cell_type": "code",
   "execution_count": 3,
   "metadata": {},
   "outputs": [
    {
     "name": "stdout",
     "output_type": "stream",
     "text": [
      "func1() ran in one.py\n",
      "func2() ran in one.py\n"
     ]
    }
   ],
   "source": [
    "def func1():\n",
    "    print(\"func1() ran in one.py\")\n",
    "\n",
    "def func2():\n",
    "    print(\"func2() ran in one.py\")\n",
    "\n",
    "def main():\n",
    "    func1()\n",
    "    func2()\n",
    "    \n",
    "if __name__ == \"__main__\":\n",
    "    main()"
   ]
  },
  {
   "cell_type": "markdown",
   "metadata": {},
   "source": [
    "# Which main will run when main function has inside all others file?"
   ]
  },
  {
   "cell_type": "code",
   "execution_count": 4,
   "metadata": {},
   "outputs": [],
   "source": [
    "# If every file contains the main function \n",
    "# only the selected one which one we are want to run, only this file main function will be executed."
   ]
  },
  {
   "cell_type": "code",
   "execution_count": 5,
   "metadata": {},
   "outputs": [
    {
     "name": "stdout",
     "output_type": "stream",
     "text": [
      "Overwriting one.py\n"
     ]
    }
   ],
   "source": [
    "%%writefile one.py\n",
    "\n",
    "def func1():\n",
    "    print(\"func1() ran in one.py\")\n",
    "\n",
    "def func2():\n",
    "    print(\"func2() ran in one.py\")\n",
    "\n",
    "if __name__ == \"__main__\":\n",
    "    print(\"one.py start execution..........\")\n",
    "    func1()\n",
    "    func2()\n",
    "    print(\"one.py finish execution.........\")\n",
    "else:\n",
    "    print(\"\\none.py is being imported into another module\\n\")"
   ]
  },
  {
   "cell_type": "code",
   "execution_count": 6,
   "metadata": {},
   "outputs": [
    {
     "name": "stdout",
     "output_type": "stream",
     "text": [
      "Overwriting two.py\n"
     ]
    }
   ],
   "source": [
    "%%writefile two.py\n",
    "\n",
    "import one\n",
    "\n",
    "def func3():\n",
    "    print(\"func3() ran in two.py\")\n",
    "\n",
    "if __name__ == \"__main__\":\n",
    "    print(\"two.py start execution ###########\")\n",
    "    one.func1()\n",
    "    one.func2()\n",
    "    func3()\n",
    "    print(\"two.py finish execution ##########\")\n",
    "else:\n",
    "    print(\"two.py is being imported into another module\")"
   ]
  },
  {
   "cell_type": "code",
   "execution_count": 7,
   "metadata": {},
   "outputs": [
    {
     "name": "stdout",
     "output_type": "stream",
     "text": [
      "one.py start execution..........\n",
      "func1() ran in one.py\n",
      "func2() ran in one.py\n",
      "one.py finish execution.........\n"
     ]
    }
   ],
   "source": [
    "! python one.py"
   ]
  },
  {
   "cell_type": "code",
   "execution_count": 8,
   "metadata": {},
   "outputs": [
    {
     "name": "stdout",
     "output_type": "stream",
     "text": [
      "\n",
      "one.py is being imported into another module\n",
      "\n",
      "two.py start execution ###########\n",
      "func1() ran in one.py\n",
      "func2() ran in one.py\n",
      "func3() ran in two.py\n",
      "two.py finish execution ##########\n"
     ]
    }
   ],
   "source": [
    "! python two.py"
   ]
  },
  {
   "cell_type": "code",
   "execution_count": 9,
   "metadata": {},
   "outputs": [
    {
     "name": "stdout",
     "output_type": "stream",
     "text": [
      "\n",
      "one.py is being imported into another module\n",
      "\n",
      "two.py is being imported into another module\n",
      "func1() ran in one.py\n",
      "func2() ran in one.py\n",
      "func3() ran in two.py\n"
     ]
    }
   ],
   "source": [
    "import one\n",
    "import two\n",
    "\n",
    "if __name__ == '__main__':\n",
    "    one.func1()\n",
    "    one.func2()\n",
    "    two.func3()"
   ]
  },
  {
   "cell_type": "markdown",
   "metadata": {},
   "source": [
    "### Call main from different Module"
   ]
  },
  {
   "cell_type": "code",
   "execution_count": 10,
   "metadata": {},
   "outputs": [
    {
     "name": "stdout",
     "output_type": "stream",
     "text": [
      "Overwriting file1.py\n"
     ]
    }
   ],
   "source": [
    "%%writefile file1.py\n",
    "\n",
    "def func1():\n",
    "    print(\"func1() ran in one.py\")\n",
    "\n",
    "def func2():\n",
    "    print(\"func2() ran in one.py\")\n",
    "\n",
    "def main():\n",
    "    print(\"one.py start execution..........\")\n",
    "    func1()\n",
    "    func2()\n",
    "    print(\"one.py finish execution.........\")"
   ]
  },
  {
   "cell_type": "code",
   "execution_count": 11,
   "metadata": {},
   "outputs": [
    {
     "name": "stdout",
     "output_type": "stream",
     "text": [
      "Overwriting file2.py\n"
     ]
    }
   ],
   "source": [
    "%%writefile file2.py\n",
    "\n",
    "import file1\n",
    "\n",
    "def func3():\n",
    "    print(\"func3() ran in two.py\")\n",
    "\n",
    "def main():\n",
    "    print(\"two.py start execution ###########\")\n",
    "    file1.func1()\n",
    "    file1.func2()\n",
    "    func3()\n",
    "    print(\"two.py finish execution ##########\")"
   ]
  },
  {
   "cell_type": "code",
   "execution_count": 12,
   "metadata": {},
   "outputs": [
    {
     "name": "stdout",
     "output_type": "stream",
     "text": [
      "one.py start execution..........\n",
      "func1() ran in one.py\n",
      "func2() ran in one.py\n",
      "one.py finish execution.........\n"
     ]
    }
   ],
   "source": [
    "import file1\n",
    "\n",
    "if __name__ == '__main__':\n",
    "    file1.main()"
   ]
  },
  {
   "cell_type": "code",
   "execution_count": 13,
   "metadata": {},
   "outputs": [
    {
     "name": "stdout",
     "output_type": "stream",
     "text": [
      "two.py start execution ###########\n",
      "func1() ran in one.py\n",
      "func2() ran in one.py\n",
      "func3() ran in two.py\n",
      "two.py finish execution ##########\n"
     ]
    }
   ],
   "source": [
    "import file2\n",
    "\n",
    "if __name__ == '__main__':\n",
    "    file2.main()"
   ]
  }
 ],
 "metadata": {
  "kernelspec": {
   "display_name": "Python 3",
   "language": "python",
   "name": "python3"
  },
  "language_info": {
   "codemirror_mode": {
    "name": "ipython",
    "version": 3
   },
   "file_extension": ".py",
   "mimetype": "text/x-python",
   "name": "python",
   "nbconvert_exporter": "python",
   "pygments_lexer": "ipython3",
   "version": "3.7.4"
  }
 },
 "nbformat": 4,
 "nbformat_minor": 2
}
