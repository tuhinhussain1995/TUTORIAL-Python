{
 "cells": [
  {
   "cell_type": "markdown",
   "metadata": {},
   "source": [
    "1. We should use generator when we don’t want to allocate the memory for all of the results at the same time."
   ]
  },
  {
   "cell_type": "markdown",
   "metadata": {},
   "source": [
    "## yield is used to create generator instead of return \n",
    "#### a function can use return only one but can use so many yeild at a time"
   ]
  },
  {
   "cell_type": "code",
   "execution_count": 9,
   "metadata": {},
   "outputs": [
    {
     "name": "stdout",
     "output_type": "stream",
     "text": [
      "<class 'generator'>\n",
      "<generator object <genexpr> at 0x000001B33973A0C8>\n",
      "16\n",
      "25\n",
      "36\n",
      "49\n"
     ]
    }
   ],
   "source": [
    "myList = [1, 2, 3, 4, 5, 6, 7]\n",
    "\n",
    "newList = [item**2 for item in myList if item>3]\n",
    "gen = (item**2 for item in myList if item>3)\n",
    "\n",
    "print(type(gen))\n",
    "print(gen)\n",
    "\n",
    "for x in gen:\n",
    "    print(x)"
   ]
  },
  {
   "cell_type": "markdown",
   "metadata": {},
   "source": [
    "# Basic"
   ]
  },
  {
   "cell_type": "code",
   "execution_count": 11,
   "metadata": {},
   "outputs": [
    {
     "name": "stdout",
     "output_type": "stream",
     "text": [
      "0\n",
      "1\n",
      "4\n",
      "9\n",
      "16\n"
     ]
    }
   ],
   "source": [
    "def simple_gen(x):\n",
    "    return x**2\n",
    "\n",
    "for num in range(5):\n",
    "    print(simple_gen(num))"
   ]
  },
  {
   "cell_type": "code",
   "execution_count": 10,
   "metadata": {},
   "outputs": [
    {
     "name": "stdout",
     "output_type": "stream",
     "text": [
      "0\n",
      "1\n",
      "4\n",
      "9\n",
      "16\n"
     ]
    }
   ],
   "source": [
    "def simple_gen():\n",
    "    for x in range(5):\n",
    "        yield x**2       # if we use here return, it will show error\n",
    "        \n",
    "\n",
    "for num in simple_gen():\n",
    "    print(num)"
   ]
  },
  {
   "cell_type": "markdown",
   "metadata": {},
   "source": [
    "# yield"
   ]
  },
  {
   "cell_type": "code",
   "execution_count": 1,
   "metadata": {},
   "outputs": [
    {
     "name": "stdout",
     "output_type": "stream",
     "text": [
      "1\n",
      "2\n",
      "3\n"
     ]
    }
   ],
   "source": [
    "def simpleGeneratorFun(): \n",
    "    yield 1            \n",
    "    yield 2            \n",
    "    yield 3            \n",
    "\n",
    "for value in simpleGeneratorFun():  \n",
    "    print(value) "
   ]
  },
  {
   "cell_type": "code",
   "execution_count": 2,
   "metadata": {},
   "outputs": [
    {
     "name": "stdout",
     "output_type": "stream",
     "text": [
      "0\n",
      "1\n",
      "1\n",
      "2\n",
      "3\n",
      "5\n",
      "8\n",
      "13\n"
     ]
    }
   ],
   "source": [
    "def fib(limit):\n",
    "    a, b = 0, 1\n",
    "\n",
    "    while a < limit:\n",
    "        yield a\n",
    "        a, b = b, a + b\n",
    "        \n",
    "for i in fib(20):\n",
    "    print(i)        "
   ]
  },
  {
   "cell_type": "code",
   "execution_count": 15,
   "metadata": {},
   "outputs": [
    {
     "name": "stdout",
     "output_type": "stream",
     "text": [
      "8\n",
      "10\n",
      "7\n",
      "7\n",
      "5\n",
      "7\n",
      "1\n",
      "6\n",
      "1\n",
      "2\n",
      "10\n",
      "5\n"
     ]
    }
   ],
   "source": [
    "import random\n",
    "\n",
    "def rand_number(low, high, n):\n",
    "    for i in range(n):\n",
    "        yield random.randint(low, high)\n",
    "\n",
    "for num in rand_number(1, 10, 12):\n",
    "    print(num)"
   ]
  },
  {
   "cell_type": "markdown",
   "metadata": {},
   "source": [
    "# next"
   ]
  },
  {
   "cell_type": "code",
   "execution_count": 18,
   "metadata": {},
   "outputs": [
    {
     "name": "stdout",
     "output_type": "stream",
     "text": [
      "<class 'list'>\n",
      "<class 'generator'>\n",
      "4\n",
      "5\n",
      "6\n"
     ]
    }
   ],
   "source": [
    "myList = [1, 2, 3, 4, 5, 6, 7]\n",
    "\n",
    "newList = [item for item in myList if item>3]\n",
    "gen = (item for item in myList if item>3)\n",
    "\n",
    "print(type(newList))     # 'list' object is not an iterator\n",
    "print(type(gen))\n",
    "\n",
    "print(next(gen))\n",
    "print(next(gen))\n",
    "print(next(gen))"
   ]
  },
  {
   "cell_type": "code",
   "execution_count": 16,
   "metadata": {},
   "outputs": [
    {
     "name": "stdout",
     "output_type": "stream",
     "text": [
      "<class 'generator'>\n",
      "0\n",
      "1\n",
      "2\n",
      "3\n"
     ]
    }
   ],
   "source": [
    "def simple_gen():\n",
    "    for x in range(5):\n",
    "        yield x       # if we use here return, it will show error\n",
    "\n",
    "generator = simple_gen()\n",
    "\n",
    "print(type(generator))\n",
    "\n",
    "print(next(generator))\n",
    "print(next(generator))\n",
    "print(next(generator))\n",
    "print(next(generator))"
   ]
  },
  {
   "cell_type": "code",
   "execution_count": 17,
   "metadata": {},
   "outputs": [
    {
     "name": "stdout",
     "output_type": "stream",
     "text": [
      "<class 'generator'>\n",
      "0\n",
      "1\n",
      "1\n",
      "2\n",
      "3\n"
     ]
    }
   ],
   "source": [
    "def fib(limit):\n",
    "    a, b = 0, 1\n",
    "\n",
    "    while a < limit:\n",
    "        yield a\n",
    "        a, b = b, a + b\n",
    "\n",
    "x = fib(5)\n",
    "\n",
    "print(type(x))\n",
    "\n",
    "print(next(x))\n",
    "print(next(x))\n",
    "print(next(x))\n",
    "print(next(x))\n",
    "print(next(x))"
   ]
  },
  {
   "cell_type": "markdown",
   "metadata": {},
   "source": [
    "## iter next "
   ]
  },
  {
   "cell_type": "code",
   "execution_count": 3,
   "metadata": {},
   "outputs": [
    {
     "name": "stdout",
     "output_type": "stream",
     "text": [
      "[1, 2, 3, 4, 5, 6, 7, 8, 9, 10]\n",
      "1\n",
      "2\n",
      "3\n"
     ]
    }
   ],
   "source": [
    "def series_generator(low, high):\n",
    "    while low <= high:\n",
    "        yield low\n",
    "        low += 1\n",
    "\n",
    "n_list = []\n",
    "for num in series_generator(1,10):\n",
    "    n_list.append(num)\n",
    "\n",
    "print(n_list)\n",
    "\n",
    "iter_myList = iter(n_list)\n",
    "\n",
    "print(next(iter_myList))\n",
    "print(next(iter_myList))\n",
    "print(next(iter_myList))"
   ]
  },
  {
   "cell_type": "markdown",
   "metadata": {},
   "source": [
    "## Example (Fibonacci)"
   ]
  },
  {
   "cell_type": "code",
   "execution_count": 1,
   "metadata": {},
   "outputs": [
    {
     "name": "stdout",
     "output_type": "stream",
     "text": [
      "1\n",
      "1\n",
      "2\n",
      "3\n",
      "5\n",
      "8\n",
      "13\n",
      "21\n",
      "34\n",
      "55\n"
     ]
    }
   ],
   "source": [
    "def genfibon(n):\n",
    "    a = 1\n",
    "    b = 1\n",
    "    for i in range(n):\n",
    "        yield a\n",
    "        a,b = b,a+b\n",
    "        \n",
    "for num in genfibon(10):\n",
    "    print(num)      "
   ]
  },
  {
   "cell_type": "code",
   "execution_count": 3,
   "metadata": {},
   "outputs": [
    {
     "name": "stdout",
     "output_type": "stream",
     "text": [
      "[1, 1, 2, 3, 5, 8, 13, 21, 34, 55]\n"
     ]
    }
   ],
   "source": [
    "def fibon(n):\n",
    "    a = 1\n",
    "    b = 1\n",
    "    output = []\n",
    "    \n",
    "    for i in range(n):\n",
    "        output.append(a)\n",
    "        a,b = b,a+b\n",
    "        \n",
    "    return output\n",
    "\n",
    "print(fibon(10))"
   ]
  }
 ],
 "metadata": {
  "kernelspec": {
   "display_name": "Python 3",
   "language": "python",
   "name": "python3"
  },
  "language_info": {
   "codemirror_mode": {
    "name": "ipython",
    "version": 3
   },
   "file_extension": ".py",
   "mimetype": "text/x-python",
   "name": "python",
   "nbconvert_exporter": "python",
   "pygments_lexer": "ipython3",
   "version": "3.7.4"
  }
 },
 "nbformat": 4,
 "nbformat_minor": 2
}
