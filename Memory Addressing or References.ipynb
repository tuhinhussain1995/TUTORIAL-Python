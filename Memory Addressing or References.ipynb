{
 "cells": [
  {
   "cell_type": "code",
   "execution_count": 1,
   "metadata": {},
   "outputs": [
    {
     "name": "stdout",
     "output_type": "stream",
     "text": [
      "10\n",
      "140732203573936\n",
      "10\n",
      "140732203573936\n",
      "140732203573936\n",
      "140732203573936\n",
      "\n",
      "=====\t 1 \t=======\n",
      "\n",
      "140732203573904\n",
      "140732203573936\n",
      "140732203573936\n",
      "140732203573936\n",
      "\n",
      "=====\t 2 \t=======\n",
      "\n",
      "140732203573904\n",
      "140732203573904\n",
      "140732203573936\n",
      "140732203573936\n",
      "\n",
      "=====\t 2 \t=======\n",
      "\n",
      "140732203573904\n",
      "140732203573904\n",
      "140732203573808\n",
      "140732203573936\n"
     ]
    }
   ],
   "source": [
    "a = 10\n",
    "b = a\n",
    "\n",
    "print(a)\n",
    "print(id(a))\n",
    "\n",
    "print(b)\n",
    "print(id(b))\n",
    "\n",
    "print(id(10))\n",
    "\n",
    "k = 10\n",
    "print(id(k))\n",
    "\n",
    "print(\"\\n=====\\t 1 \\t=======\\n\")\n",
    "\n",
    "a = 9\n",
    "print(id(a))\n",
    "\n",
    "print(id(b))\n",
    "print(id(k))\n",
    "print(id(10))\n",
    "\n",
    "print(\"\\n=====\\t 2 \\t=======\\n\")\n",
    "\n",
    "k = a\n",
    "\n",
    "print(id(a))\n",
    "print(id(k))\n",
    "\n",
    "print(id(b))\n",
    "print(id(10))\n",
    "\n",
    "print(\"\\n=====\\t 2 \\t=======\\n\")\n",
    "\n",
    "b = 6\n",
    "\n",
    "print(id(a))\n",
    "print(id(k))\n",
    "\n",
    "print(id(b))\n",
    "print(id(10))         # Now 10 is considered as a garbage value"
   ]
  },
  {
   "cell_type": "code",
   "execution_count": 3,
   "metadata": {},
   "outputs": [
    {
     "name": "stdout",
     "output_type": "stream",
     "text": [
      "2407298593672\n",
      "2407298593352\n",
      "\n",
      "2407298593672\n",
      "2407298593672\n",
      "\n",
      "2407298612744\n",
      "2407298593672\n"
     ]
    }
   ],
   "source": [
    "myList = [1, 2, 3, 4]\n",
    "anotherList = []\n",
    "\n",
    "print(id(myList))\n",
    "print(id(anotherList))\n",
    "\n",
    "print()\n",
    "\n",
    "anotherList = myList\n",
    "\n",
    "print(id(myList))\n",
    "print(id(anotherList))\n",
    "\n",
    "print()\n",
    "\n",
    "newList = list()                  # list() create a new list\n",
    "print(id(newList))\n",
    "\n",
    "newList = myList\n",
    "print(id(newList))"
   ]
  },
  {
   "cell_type": "code",
   "execution_count": 4,
   "metadata": {},
   "outputs": [
    {
     "name": "stdout",
     "output_type": "stream",
     "text": [
      "2407298594184\n",
      "2407298594376\n",
      "\n",
      "2407298594184\n",
      "2407298594376\n",
      "\n",
      "2407298476552\n",
      "2407298476552\n"
     ]
    }
   ],
   "source": [
    "myList = [1, 2, 3, 4]\n",
    "anotherList = []\n",
    "\n",
    "print(id(myList))\n",
    "print(id(anotherList))\n",
    "\n",
    "print()\n",
    "\n",
    "anotherList.extend(myList)\n",
    "\n",
    "print(id(myList))\n",
    "print(id(anotherList))\n",
    "\n",
    "print()\n",
    "\n",
    "newList = list()                  # list() create a new list\n",
    "print(id(newList))\n",
    "\n",
    "newList.extend(myList)\n",
    "print(id(newList))"
   ]
  }
 ],
 "metadata": {
  "kernelspec": {
   "display_name": "Python 3",
   "language": "python",
   "name": "python3"
  },
  "language_info": {
   "codemirror_mode": {
    "name": "ipython",
    "version": 3
   },
   "file_extension": ".py",
   "mimetype": "text/x-python",
   "name": "python",
   "nbconvert_exporter": "python",
   "pygments_lexer": "ipython3",
   "version": "3.7.4"
  }
 },
 "nbformat": 4,
 "nbformat_minor": 2
}
