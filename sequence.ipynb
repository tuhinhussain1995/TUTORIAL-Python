{
 "cells": [
  {
   "cell_type": "markdown",
   "metadata": {},
   "source": [
    "## sequence ==> string, list, tuple ---------------> has exact index number\n",
    "    \n",
    "### iterator ==> strings, lists, tuples, dictionary, set, enumerate, map, filter, zip, range, dict_keys, dict_values."
   ]
  },
  {
   "cell_type": "markdown",
   "metadata": {},
   "source": [
    "# Sequence supports:\n",
    "#### indexing and slicing.\n",
    "#### concatenation\n",
    "#### multiplication or times"
   ]
  },
  {
   "cell_type": "markdown",
   "metadata": {},
   "source": [
    "## Indexing and Slicing"
   ]
  },
  {
   "cell_type": "code",
   "execution_count": 11,
   "metadata": {},
   "outputs": [
    {
     "name": "stdout",
     "output_type": "stream",
     "text": [
      "e\n",
      "ell\n"
     ]
    }
   ],
   "source": [
    "myString = 'Hello'\n",
    "print(myString[1])\n",
    "print(myString[1:4])"
   ]
  },
  {
   "cell_type": "code",
   "execution_count": 12,
   "metadata": {},
   "outputs": [
    {
     "name": "stdout",
     "output_type": "stream",
     "text": [
      "4\n",
      "[3, 4, 5]\n"
     ]
    }
   ],
   "source": [
    "myList = [1, 2, 3, 4, 5, 6]\n",
    "print(myList[3])\n",
    "print(myList[2:5])"
   ]
  },
  {
   "cell_type": "code",
   "execution_count": 13,
   "metadata": {},
   "outputs": [
    {
     "name": "stdout",
     "output_type": "stream",
     "text": [
      "6\n",
      "(2, 3)\n"
     ]
    }
   ],
   "source": [
    "myTuple = (1, 2, 3, 4, 5, 6)\n",
    "print(myTuple[5])\n",
    "print(myTuple[1:3])"
   ]
  },
  {
   "cell_type": "markdown",
   "metadata": {},
   "source": [
    "## Concatenation"
   ]
  },
  {
   "cell_type": "code",
   "execution_count": 9,
   "metadata": {},
   "outputs": [
    {
     "name": "stdout",
     "output_type": "stream",
     "text": [
      "Tuhin Hussain\n"
     ]
    }
   ],
   "source": [
    "myString1 = 'Tuhin'\n",
    "myString2 = 'Hussain'\n",
    "fullString = myString1 + ' ' + myString2\n",
    "print(fullString)"
   ]
  },
  {
   "cell_type": "code",
   "execution_count": 7,
   "metadata": {},
   "outputs": [
    {
     "name": "stdout",
     "output_type": "stream",
     "text": [
      "[1, 2, 3, 4, 5, 6]\n"
     ]
    }
   ],
   "source": [
    "myList1 = [1, 2, 3]\n",
    "myList2 = [4, 5, 6]\n",
    "newList = myList1 + myList2\n",
    "print(newList)"
   ]
  },
  {
   "cell_type": "code",
   "execution_count": 10,
   "metadata": {},
   "outputs": [
    {
     "name": "stdout",
     "output_type": "stream",
     "text": [
      "(1, 2, 3, 4, 5, 6)\n"
     ]
    }
   ],
   "source": [
    "myTuple1 = (1, 2, 3)\n",
    "myTuple2 = (4, 5, 6)\n",
    "newTuple = myTuple1 + myTuple2\n",
    "print(newTuple)"
   ]
  },
  {
   "cell_type": "markdown",
   "metadata": {},
   "source": [
    "## Times"
   ]
  },
  {
   "cell_type": "code",
   "execution_count": 6,
   "metadata": {},
   "outputs": [
    {
     "name": "stdout",
     "output_type": "stream",
     "text": [
      "HelloHelloHelloHello\n",
      "[2, 3, 4, 5, 2, 3, 4, 5, 2, 3, 4, 5, 2, 3, 4, 5]\n",
      "(2, 3, 4, 5, 2, 3, 4, 5, 2, 3, 4, 5, 2, 3, 4, 5)\n"
     ]
    }
   ],
   "source": [
    "myString = 'Hello' * 4\n",
    "print(myString)\n",
    "\n",
    "myList = [2, 3, 4, 5] * 4\n",
    "print(myList)\n",
    "\n",
    "myTuple = (2, 3, 4, 5) * 4\n",
    "print(myTuple)"
   ]
  }
 ],
 "metadata": {
  "kernelspec": {
   "display_name": "Python 3",
   "language": "python",
   "name": "python3"
  },
  "language_info": {
   "codemirror_mode": {
    "name": "ipython",
    "version": 3
   },
   "file_extension": ".py",
   "mimetype": "text/x-python",
   "name": "python",
   "nbconvert_exporter": "python",
   "pygments_lexer": "ipython3",
   "version": "3.7.4"
  }
 },
 "nbformat": 4,
 "nbformat_minor": 2
}
