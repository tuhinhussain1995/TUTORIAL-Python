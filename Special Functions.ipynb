{
 "cells": [
  {
   "cell_type": "markdown",
   "metadata": {},
   "source": [
    "#### Class functions that begin with double underscore __ are called special functions in Python."
   ]
  },
  {
   "cell_type": "markdown",
   "metadata": {},
   "source": [
    "# \\__init__()\n",
    "### constructor"
   ]
  },
  {
   "cell_type": "code",
   "execution_count": 41,
   "metadata": {},
   "outputs": [
    {
     "name": "stdout",
     "output_type": "stream",
     "text": [
      "__init__() is called\n"
     ]
    }
   ],
   "source": [
    "# __init__() gets called every time we create a new object of that class.\n",
    "\n",
    "class Point:\n",
    "    def __init__(self):\n",
    "        print('__init__() is called')\n",
    "\n",
    "p1 = Point()"
   ]
  },
  {
   "cell_type": "markdown",
   "metadata": {},
   "source": [
    "# \\__str__()"
   ]
  },
  {
   "cell_type": "code",
   "execution_count": 2,
   "metadata": {},
   "outputs": [
    {
     "name": "stdout",
     "output_type": "stream",
     "text": [
      "(2, 3)\n"
     ]
    }
   ],
   "source": [
    "class Point:\n",
    "    def __init__(self, x=0, y=0):\n",
    "        self.x = x\n",
    "        self.y = y\n",
    "\n",
    "    def __str__(self):\n",
    "        return \"({0}, {1})\".format(self.x, self.y)\n",
    "\n",
    "\n",
    "p1 = Point(2, 3)\n",
    "print(p1)"
   ]
  },
  {
   "cell_type": "markdown",
   "metadata": {},
   "source": [
    "# \\__len__()\n",
    "# \\__del__()"
   ]
  },
  {
   "cell_type": "code",
   "execution_count": 1,
   "metadata": {},
   "outputs": [],
   "source": [
    "class Book:\n",
    "    def __init__(self, title, author, pages):\n",
    "        print(\"A book is created\")\n",
    "        self.title = title\n",
    "        self.author = author\n",
    "        self.pages = pages\n",
    "\n",
    "    def __str__(self):\n",
    "        return \"Title: %s, author: %s, pages: %s\" %(self.title, self.author, self.pages)\n",
    "\n",
    "    def __len__(self):\n",
    "        return self.pages\n",
    "\n",
    "    def __del__(self):\n",
    "        print(\"A book is destroyed\")"
   ]
  },
  {
   "cell_type": "code",
   "execution_count": 2,
   "metadata": {},
   "outputs": [
    {
     "name": "stdout",
     "output_type": "stream",
     "text": [
      "A book is created\n",
      "Title: Python Rocks!, author: Jose Portilla, pages: 159\n",
      "159\n",
      "A book is destroyed\n"
     ]
    }
   ],
   "source": [
    "book = Book(\"Python Rocks!\", \"Jose Portilla\", 159)\n",
    "\n",
    "print(book)\n",
    "print(len(book))\n",
    "del book"
   ]
  },
  {
   "cell_type": "markdown",
   "metadata": {},
   "source": [
    "# \\__add__()\n",
    "### addition"
   ]
  },
  {
   "cell_type": "code",
   "execution_count": 1,
   "metadata": {},
   "outputs": [
    {
     "name": "stdout",
     "output_type": "stream",
     "text": [
      "(1,2)\n",
      "(2,3)\n",
      "(3,5)\n"
     ]
    }
   ],
   "source": [
    "class Point:\n",
    "    def __init__(self, x=0, y=0):\n",
    "        self.x = x\n",
    "        self.y = y\n",
    "\n",
    "    def __str__(self):\n",
    "        return \"({0},{1})\".format(self.x, self.y)\n",
    "\n",
    "    def __add__(self, other):\n",
    "        x = self.x + other.x\n",
    "        y = self.y + other.y\n",
    "        return Point(x, y)\n",
    "\n",
    "\n",
    "p1 = Point(1, 2)\n",
    "p2 = Point(2, 3)\n",
    "\n",
    "print(p1)\n",
    "print(p2)\n",
    "\n",
    "print(p1+p2)"
   ]
  },
  {
   "cell_type": "markdown",
   "metadata": {},
   "source": [
    "# \\__sub__()\n",
    "### subtraction"
   ]
  },
  {
   "cell_type": "code",
   "execution_count": 5,
   "metadata": {},
   "outputs": [
    {
     "name": "stdout",
     "output_type": "stream",
     "text": [
      "(2,3)\n",
      "(1,2)\n",
      "(1,1)\n"
     ]
    }
   ],
   "source": [
    "class Point:\n",
    "    def __init__(self, x=0, y=0):\n",
    "        self.x = x\n",
    "        self.y = y\n",
    "\n",
    "    def __str__(self):\n",
    "        return \"({0},{1})\".format(self.x, self.y)\n",
    "\n",
    "    def __sub__(self, other):\n",
    "        x = self.x - other.x\n",
    "        y = self.y - other.y\n",
    "        return Point(x, y)\n",
    "\n",
    "\n",
    "p1 = Point(2, 3)\n",
    "p2 = Point(1, 2)\n",
    "\n",
    "print(p1)\n",
    "print(p2)\n",
    "\n",
    "print(p1-p2)"
   ]
  },
  {
   "cell_type": "markdown",
   "metadata": {},
   "source": [
    "# \\__mul__()\n",
    "### multiplication"
   ]
  },
  {
   "cell_type": "code",
   "execution_count": 6,
   "metadata": {},
   "outputs": [
    {
     "name": "stdout",
     "output_type": "stream",
     "text": [
      "(2,3)\n",
      "(1,2)\n",
      "(2,6)\n"
     ]
    }
   ],
   "source": [
    "class Point:\n",
    "    def __init__(self, x=0, y=0):\n",
    "        self.x = x\n",
    "        self.y = y\n",
    "\n",
    "    def __str__(self):\n",
    "        return \"({0},{1})\".format(self.x, self.y)\n",
    "\n",
    "    def __mul__(self, other):\n",
    "        x = self.x * other.x\n",
    "        y = self.y * other.y\n",
    "        return Point(x, y)\n",
    "\n",
    "\n",
    "p1 = Point(2, 3)\n",
    "p2 = Point(1, 2)\n",
    "\n",
    "print(p1)\n",
    "print(p2)\n",
    "\n",
    "print(p1 * p2)"
   ]
  },
  {
   "cell_type": "markdown",
   "metadata": {},
   "source": [
    "# \\__truediv__()\n",
    "### division"
   ]
  },
  {
   "cell_type": "code",
   "execution_count": 8,
   "metadata": {},
   "outputs": [
    {
     "name": "stdout",
     "output_type": "stream",
     "text": [
      "(2,3)\n",
      "(1,2)\n",
      "(2.0,1.5)\n"
     ]
    }
   ],
   "source": [
    "class Point:\n",
    "    def __init__(self, x=0, y=0):\n",
    "        self.x = x\n",
    "        self.y = y\n",
    "\n",
    "    def __str__(self):\n",
    "        return \"({0},{1})\".format(self.x, self.y)\n",
    "\n",
    "    def __truediv__(self, other):\n",
    "        x = self.x / other.x\n",
    "        y = self.y / other.y\n",
    "        return Point(x, y)\n",
    "\n",
    "\n",
    "p1 = Point(2, 3)\n",
    "p2 = Point(1, 2)\n",
    "\n",
    "print(p1)\n",
    "print(p2)\n",
    "\n",
    "print(p1 / p2)"
   ]
  },
  {
   "cell_type": "markdown",
   "metadata": {},
   "source": [
    "# \\__pow__()\n",
    "### power"
   ]
  },
  {
   "cell_type": "code",
   "execution_count": 9,
   "metadata": {},
   "outputs": [
    {
     "name": "stdout",
     "output_type": "stream",
     "text": [
      "(2,3)\n",
      "(1,2)\n",
      "(2,9)\n"
     ]
    }
   ],
   "source": [
    "class Point:\n",
    "    def __init__(self, x=0, y=0):\n",
    "        self.x = x\n",
    "        self.y = y\n",
    "\n",
    "    def __str__(self):\n",
    "        return \"({0},{1})\".format(self.x, self.y)\n",
    "\n",
    "    def __pow__(self, other):\n",
    "        x = self.x ** other.x\n",
    "        y = self.y ** other.y\n",
    "        return Point(x, y)\n",
    "\n",
    "\n",
    "p1 = Point(2, 3)\n",
    "p2 = Point(1, 2)\n",
    "\n",
    "print(p1)\n",
    "print(p2)\n",
    "\n",
    "print(p1 ** p2)"
   ]
  },
  {
   "cell_type": "markdown",
   "metadata": {},
   "source": [
    "# \\__floordiv__()\n",
    "### floor division"
   ]
  },
  {
   "cell_type": "code",
   "execution_count": 10,
   "metadata": {},
   "outputs": [
    {
     "name": "stdout",
     "output_type": "stream",
     "text": [
      "(2,3)\n",
      "(1,2)\n",
      "(2,1)\n"
     ]
    }
   ],
   "source": [
    "class Point:\n",
    "    def __init__(self, x=0, y=0):\n",
    "        self.x = x\n",
    "        self.y = y\n",
    "\n",
    "    def __str__(self):\n",
    "        return \"({0},{1})\".format(self.x, self.y)\n",
    "\n",
    "    def __floordiv__(self, other):\n",
    "        x = self.x // other.x\n",
    "        y = self.y // other.y\n",
    "        return Point(x, y)\n",
    "\n",
    "\n",
    "p1 = Point(2, 3)\n",
    "p2 = Point(1, 2)\n",
    "\n",
    "print(p1)\n",
    "print(p2)\n",
    "\n",
    "print(p1 // p2)"
   ]
  },
  {
   "cell_type": "markdown",
   "metadata": {},
   "source": [
    "# \\__mod__()\n",
    "### remainder or modulo"
   ]
  },
  {
   "cell_type": "code",
   "execution_count": 11,
   "metadata": {},
   "outputs": [
    {
     "name": "stdout",
     "output_type": "stream",
     "text": [
      "(2,3)\n",
      "(1,2)\n",
      "(0,1)\n"
     ]
    }
   ],
   "source": [
    "class Point:\n",
    "    def __init__(self, x=0, y=0):\n",
    "        self.x = x\n",
    "        self.y = y\n",
    "\n",
    "    def __str__(self):\n",
    "        return \"({0},{1})\".format(self.x, self.y)\n",
    "\n",
    "    def __mod__(self, other):\n",
    "        x = self.x % other.x\n",
    "        y = self.y % other.y\n",
    "        return Point(x, y)\n",
    "\n",
    "\n",
    "p1 = Point(2, 3)\n",
    "p2 = Point(1, 2)\n",
    "\n",
    "print(p1)\n",
    "print(p2)\n",
    "\n",
    "print(p1 % p2)"
   ]
  },
  {
   "cell_type": "markdown",
   "metadata": {},
   "source": [
    "# \\__and__()\n",
    "### bitwise and"
   ]
  },
  {
   "cell_type": "code",
   "execution_count": 14,
   "metadata": {},
   "outputs": [
    {
     "name": "stdout",
     "output_type": "stream",
     "text": [
      "(2,3)\n",
      "(1,2)\n",
      "(0,2)\n"
     ]
    }
   ],
   "source": [
    "class Point:\n",
    "    def __init__(self, x=0, y=0):\n",
    "        self.x = x\n",
    "        self.y = y\n",
    "\n",
    "    def __str__(self):\n",
    "        return \"({0},{1})\".format(self.x, self.y)\n",
    "\n",
    "    def __and__(self, other):\n",
    "        x = self.x & other.x\n",
    "        y = self.y & other.y\n",
    "        return Point(x, y)\n",
    "\n",
    "\n",
    "p1 = Point(2, 3)\n",
    "p2 = Point(1, 2)\n",
    "\n",
    "print(p1)\n",
    "print(p2)\n",
    "\n",
    "print(p1 & p2)"
   ]
  },
  {
   "cell_type": "markdown",
   "metadata": {},
   "source": [
    "# \\__or__()\n",
    "### bitwise or"
   ]
  },
  {
   "cell_type": "code",
   "execution_count": 15,
   "metadata": {},
   "outputs": [
    {
     "name": "stdout",
     "output_type": "stream",
     "text": [
      "(2,3)\n",
      "(1,2)\n",
      "(3,3)\n"
     ]
    }
   ],
   "source": [
    "class Point:\n",
    "    def __init__(self, x=0, y=0):\n",
    "        self.x = x\n",
    "        self.y = y\n",
    "\n",
    "    def __str__(self):\n",
    "        return \"({0},{1})\".format(self.x, self.y)\n",
    "\n",
    "    def __or__(self, other):\n",
    "        x = self.x | other.x\n",
    "        y = self.y | other.y\n",
    "        return Point(x, y)\n",
    "\n",
    "\n",
    "p1 = Point(2, 3)\n",
    "p2 = Point(1, 2)\n",
    "\n",
    "print(p1)\n",
    "print(p2)\n",
    "\n",
    "print(p1 | p2)"
   ]
  },
  {
   "cell_type": "markdown",
   "metadata": {},
   "source": [
    "# \\__xor__()\n",
    "### bitwise xor"
   ]
  },
  {
   "cell_type": "code",
   "execution_count": 16,
   "metadata": {},
   "outputs": [
    {
     "name": "stdout",
     "output_type": "stream",
     "text": [
      "(2,3)\n",
      "(1,2)\n",
      "(3,1)\n"
     ]
    }
   ],
   "source": [
    "class Point:\n",
    "    def __init__(self, x=0, y=0):\n",
    "        self.x = x\n",
    "        self.y = y\n",
    "\n",
    "    def __str__(self):\n",
    "        return \"({0},{1})\".format(self.x, self.y)\n",
    "\n",
    "    def __xor__(self, other):\n",
    "        x = self.x ^ other.x\n",
    "        y = self.y ^ other.y\n",
    "        return Point(x, y)\n",
    "\n",
    "\n",
    "p1 = Point(2, 3)\n",
    "p2 = Point(1, 2)\n",
    "\n",
    "print(p1)\n",
    "print(p2)\n",
    "\n",
    "print(p1 ^ p2)"
   ]
  },
  {
   "cell_type": "markdown",
   "metadata": {},
   "source": [
    "# \\__invert__()\n",
    "### bitwise not"
   ]
  },
  {
   "cell_type": "code",
   "execution_count": 25,
   "metadata": {},
   "outputs": [
    {
     "name": "stdout",
     "output_type": "stream",
     "text": [
      "-4\n",
      "-8\n"
     ]
    }
   ],
   "source": [
    "class Point:\n",
    "    def __init__(self, x=0):\n",
    "        self.x = x\n",
    "\n",
    "    def __str__(self):\n",
    "        return \"({0})\".format(self.x)\n",
    "\n",
    "    def __invert__(self):\n",
    "        return ~self.x\n",
    "\n",
    "\n",
    "p1 = Point(3)\n",
    "p2 = Point(7)\n",
    "\n",
    "print(~p1)\n",
    "print(~p2)"
   ]
  },
  {
   "cell_type": "markdown",
   "metadata": {},
   "source": [
    "# \\__lshift__()\n",
    "### bitwise left shift"
   ]
  },
  {
   "cell_type": "code",
   "execution_count": 23,
   "metadata": {},
   "outputs": [
    {
     "name": "stdout",
     "output_type": "stream",
     "text": [
      "(2,3)\n",
      "(1,2)\n",
      "(4,12)\n"
     ]
    }
   ],
   "source": [
    "class Point:\n",
    "    def __init__(self, x=0, y=0):\n",
    "        self.x = x\n",
    "        self.y = y\n",
    "\n",
    "    def __str__(self):\n",
    "        return \"({0},{1})\".format(self.x, self.y)\n",
    "\n",
    "    def __lshift__(self, other):\n",
    "        x = self.x << other.x\n",
    "        y = self.y << other.y\n",
    "        return Point(x, y)\n",
    "\n",
    "\n",
    "p1 = Point(2, 3)\n",
    "p2 = Point(1, 2)\n",
    "\n",
    "print(p1)\n",
    "print(p2)\n",
    "\n",
    "print(p1 << p2)"
   ]
  },
  {
   "cell_type": "markdown",
   "metadata": {},
   "source": [
    "# \\__rshift__()\n",
    "### bitwise right shift"
   ]
  },
  {
   "cell_type": "code",
   "execution_count": 27,
   "metadata": {},
   "outputs": [
    {
     "name": "stdout",
     "output_type": "stream",
     "text": [
      "(2,3)\n",
      "(1,2)\n",
      "(1,0)\n"
     ]
    }
   ],
   "source": [
    "class Point:\n",
    "    def __init__(self, x=0, y=0):\n",
    "        self.x = x\n",
    "        self.y = y\n",
    "\n",
    "    def __str__(self):\n",
    "        return \"({0},{1})\".format(self.x, self.y)\n",
    "\n",
    "    def __rshift__(self, other):\n",
    "        x = self.x >> other.x\n",
    "        y = self.y >> other.y\n",
    "        return Point(x, y)\n",
    "\n",
    "\n",
    "p1 = Point(2, 3)\n",
    "p2 = Point(1, 2)\n",
    "\n",
    "print(p1)\n",
    "print(p2)\n",
    "\n",
    "print(p1 >> p2)"
   ]
  },
  {
   "cell_type": "markdown",
   "metadata": {},
   "source": [
    "# \\__lt__()\n",
    "### less than"
   ]
  },
  {
   "cell_type": "code",
   "execution_count": 32,
   "metadata": {},
   "outputs": [
    {
     "name": "stdout",
     "output_type": "stream",
     "text": [
      "(2,3)\n",
      "(2,4)\n",
      "(False,True)\n"
     ]
    }
   ],
   "source": [
    "class Point:\n",
    "    def __init__(self, x=0, y=0):\n",
    "        self.x = x\n",
    "        self.y = y\n",
    "\n",
    "    def __str__(self):\n",
    "        return \"({0},{1})\".format(self.x, self.y)\n",
    "\n",
    "    def __lt__(self, other):\n",
    "        x = self.x < other.x\n",
    "        y = self.y < other.y\n",
    "        return Point(x, y)\n",
    "\n",
    "\n",
    "p1 = Point(2, 3)\n",
    "p2 = Point(2, 4)\n",
    "\n",
    "print(p1)\n",
    "print(p2)\n",
    "\n",
    "print(p1 < p2)"
   ]
  },
  {
   "cell_type": "markdown",
   "metadata": {},
   "source": [
    "# \\__le__()\n",
    "### less than or equal to"
   ]
  },
  {
   "cell_type": "code",
   "execution_count": 30,
   "metadata": {},
   "outputs": [
    {
     "name": "stdout",
     "output_type": "stream",
     "text": [
      "(2,3)\n",
      "(2,2)\n",
      "(True,False)\n"
     ]
    }
   ],
   "source": [
    "class Point:\n",
    "    def __init__(self, x=0, y=0):\n",
    "        self.x = x\n",
    "        self.y = y\n",
    "\n",
    "    def __str__(self):\n",
    "        return \"({0},{1})\".format(self.x, self.y)\n",
    "\n",
    "    def __le__(self, other):\n",
    "        x = self.x <= other.x\n",
    "        y = self.y <= other.y\n",
    "        return Point(x, y)\n",
    "\n",
    "\n",
    "p1 = Point(2, 3)\n",
    "p2 = Point(2, 2)\n",
    "\n",
    "print(p1)\n",
    "print(p2)\n",
    "\n",
    "print(p1 <= p2)"
   ]
  },
  {
   "cell_type": "markdown",
   "metadata": {},
   "source": [
    "# \\__eq__()\n",
    "### equal to"
   ]
  },
  {
   "cell_type": "code",
   "execution_count": 33,
   "metadata": {},
   "outputs": [
    {
     "name": "stdout",
     "output_type": "stream",
     "text": [
      "(2,3)\n",
      "(2,2)\n",
      "(True,False)\n"
     ]
    }
   ],
   "source": [
    "class Point:\n",
    "    def __init__(self, x=0, y=0):\n",
    "        self.x = x\n",
    "        self.y = y\n",
    "\n",
    "    def __str__(self):\n",
    "        return \"({0},{1})\".format(self.x, self.y)\n",
    "\n",
    "    def __eq__(self, other):\n",
    "        x = self.x == other.x\n",
    "        y = self.y == other.y\n",
    "        return Point(x, y)\n",
    "\n",
    "\n",
    "p1 = Point(2, 3)\n",
    "p2 = Point(2, 2)\n",
    "\n",
    "print(p1)\n",
    "print(p2)\n",
    "\n",
    "print(p1 == p2)"
   ]
  },
  {
   "cell_type": "markdown",
   "metadata": {},
   "source": [
    "# \\__ne__()\n",
    "### not equal to"
   ]
  },
  {
   "cell_type": "code",
   "execution_count": 34,
   "metadata": {},
   "outputs": [
    {
     "name": "stdout",
     "output_type": "stream",
     "text": [
      "(2,3)\n",
      "(2,2)\n",
      "(False,True)\n"
     ]
    }
   ],
   "source": [
    "class Point:\n",
    "    def __init__(self, x=0, y=0):\n",
    "        self.x = x\n",
    "        self.y = y\n",
    "\n",
    "    def __str__(self):\n",
    "        return \"({0},{1})\".format(self.x, self.y)\n",
    "\n",
    "    def __ne__(self, other):\n",
    "        x = self.x != other.x\n",
    "        y = self.y != other.y\n",
    "        return Point(x, y)\n",
    "\n",
    "\n",
    "p1 = Point(2, 3)\n",
    "p2 = Point(2, 2)\n",
    "\n",
    "print(p1)\n",
    "print(p2)\n",
    "\n",
    "print(p1 != p2)"
   ]
  },
  {
   "cell_type": "markdown",
   "metadata": {},
   "source": [
    "# \\__gt__()\n",
    "### gather than"
   ]
  },
  {
   "cell_type": "code",
   "execution_count": 36,
   "metadata": {},
   "outputs": [
    {
     "name": "stdout",
     "output_type": "stream",
     "text": [
      "(2,3)\n",
      "(2,2)\n",
      "(False,True)\n"
     ]
    }
   ],
   "source": [
    "class Point:\n",
    "    def __init__(self, x=0, y=0):\n",
    "        self.x = x\n",
    "        self.y = y\n",
    "\n",
    "    def __str__(self):\n",
    "        return \"({0},{1})\".format(self.x, self.y)\n",
    "\n",
    "    def __gt__(self, other):\n",
    "        x = self.x > other.x\n",
    "        y = self.y > other.y\n",
    "        return Point(x, y)\n",
    "\n",
    "\n",
    "p1 = Point(2, 3)\n",
    "p2 = Point(2, 2)\n",
    "\n",
    "print(p1)\n",
    "print(p2)\n",
    "\n",
    "print(p1 > p2)"
   ]
  },
  {
   "cell_type": "markdown",
   "metadata": {},
   "source": [
    "# \\__ge__()\n",
    "### gather than or equal to"
   ]
  },
  {
   "cell_type": "code",
   "execution_count": 37,
   "metadata": {},
   "outputs": [
    {
     "name": "stdout",
     "output_type": "stream",
     "text": [
      "(2,3)\n",
      "(2,2)\n",
      "(True,True)\n"
     ]
    }
   ],
   "source": [
    "class Point:\n",
    "    def __init__(self, x=0, y=0):\n",
    "        self.x = x\n",
    "        self.y = y\n",
    "\n",
    "    def __str__(self):\n",
    "        return \"({0},{1})\".format(self.x, self.y)\n",
    "\n",
    "    def __ge__(self, other):\n",
    "        x = self.x >= other.x\n",
    "        y = self.y >= other.y\n",
    "        return Point(x, y)\n",
    "\n",
    "\n",
    "p1 = Point(2, 3)\n",
    "p2 = Point(2, 2)\n",
    "\n",
    "print(p1)\n",
    "print(p2)\n",
    "\n",
    "print(p1 >= p2)"
   ]
  }
 ],
 "metadata": {
  "kernelspec": {
   "display_name": "Python 3",
   "language": "python",
   "name": "python3"
  },
  "language_info": {
   "codemirror_mode": {
    "name": "ipython",
    "version": 3
   },
   "file_extension": ".py",
   "mimetype": "text/x-python",
   "name": "python",
   "nbconvert_exporter": "python",
   "pygments_lexer": "ipython3",
   "version": "3.7.4"
  }
 },
 "nbformat": 4,
 "nbformat_minor": 2
}
