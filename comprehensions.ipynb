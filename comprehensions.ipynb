{
 "cells": [
  {
   "cell_type": "markdown",
   "metadata": {},
   "source": [
    "### List Comprehensions\n",
    "### Dictionary Comprehensions\n",
    "### Set Comprehensions\n",
    "### Generator Comprehensions\n",
    "### Tuple Comprehensions"
   ]
  },
  {
   "cell_type": "markdown",
   "metadata": {},
   "source": [
    "# List\n",
    "### [ ] or list()"
   ]
  },
  {
   "cell_type": "code",
   "execution_count": 1,
   "metadata": {},
   "outputs": [
    {
     "name": "stdout",
     "output_type": "stream",
     "text": [
      "[2, 4, 4, 6]\n"
     ]
    }
   ],
   "source": [
    "input_list = [1, 2, 3, 4, 4, 5, 6, 7, 7] \n",
    "  \n",
    "list_using_comp = [var for var in input_list if var % 2 == 0] \n",
    "  \n",
    "print(list_using_comp) "
   ]
  },
  {
   "cell_type": "code",
   "execution_count": 27,
   "metadata": {},
   "outputs": [
    {
     "name": "stdout",
     "output_type": "stream",
     "text": [
      "[32, 50, 86, 95]\n"
     ]
    }
   ],
   "source": [
    "celcius = [0, 10, 30, 35.5]\n",
    "\n",
    "fahrenheit = list(int((9/5)*temp +32) for temp in celcius)\n",
    "\n",
    "print(fahrenheit)"
   ]
  },
  {
   "cell_type": "code",
   "execution_count": 31,
   "metadata": {},
   "outputs": [],
   "source": [
    "# for more details go to list comprehension file"
   ]
  },
  {
   "cell_type": "markdown",
   "metadata": {},
   "source": [
    "# Dictionary\n",
    "### { }"
   ]
  },
  {
   "cell_type": "code",
   "execution_count": 14,
   "metadata": {},
   "outputs": [
    {
     "name": "stdout",
     "output_type": "stream",
     "text": [
      "{0: 0, 1: 1, 2: 4, 3: 9, 4: 16, 5: 25, 6: 36, 7: 49, 8: 64, 9: 81}\n"
     ]
    }
   ],
   "source": [
    "myDict = {x:x**2 for x in range(10)}\n",
    "\n",
    "print(myDict)"
   ]
  },
  {
   "cell_type": "code",
   "execution_count": 15,
   "metadata": {},
   "outputs": [
    {
     "name": "stdout",
     "output_type": "stream",
     "text": [
      "{0: 'tuhin', 1: 'sumon', 2: 'nazrul', 3: 'mhafuz'}\n"
     ]
    }
   ],
   "source": [
    "myList = ['tuhin', 'sumon', 'nazrul', 'mhafuz']\n",
    "\n",
    "myDict = {x:myList[x] for x in range(len(myList))}\n",
    "print(myDict)"
   ]
  },
  {
   "cell_type": "code",
   "execution_count": 16,
   "metadata": {},
   "outputs": [
    {
     "name": "stdout",
     "output_type": "stream",
     "text": [
      "{0: 'tuhin', 1: 'sumon', 2: 'nazrul', 3: 'mhafuz'}\n"
     ]
    }
   ],
   "source": [
    "myDict = {k:v for k, v in zip(range(4), ['tuhin', 'sumon', 'nazrul', 'mhafuz'])}\n",
    "\n",
    "print(myDict)"
   ]
  },
  {
   "cell_type": "code",
   "execution_count": 26,
   "metadata": {},
   "outputs": [
    {
     "name": "stdout",
     "output_type": "stream",
     "text": [
      "{0: 0, 2: 4, 4: 16, 6: 36, 8: 64}\n"
     ]
    }
   ],
   "source": [
    "myDict = {x:x**2 for x in filter(lambda x : x%2==0, range(0,10))}\n",
    "\n",
    "print(myDict)"
   ]
  },
  {
   "cell_type": "code",
   "execution_count": 18,
   "metadata": {},
   "outputs": [
    {
     "name": "stdout",
     "output_type": "stream",
     "text": [
      "{0: 0, 2: 4, 4: 16, 6: 36, 8: 64}\n"
     ]
    }
   ],
   "source": [
    "myDict = {x:x**2 for x in filter(lambda x : x%2==0, range(0,10))}\n",
    "\n",
    "print(myDict)"
   ]
  },
  {
   "cell_type": "code",
   "execution_count": 2,
   "metadata": {},
   "outputs": [
    {
     "name": "stdout",
     "output_type": "stream",
     "text": [
      "{1: 1, 3: 27, 5: 125, 7: 343}\n"
     ]
    }
   ],
   "source": [
    "input_list = [1,2,3,4,5,6,7] \n",
    "  \n",
    "dict_using_comp = {var:var ** 3 for var in input_list if var % 2 != 0} \n",
    "  \n",
    "print(dict_using_comp) "
   ]
  },
  {
   "cell_type": "code",
   "execution_count": 13,
   "metadata": {},
   "outputs": [
    {
     "name": "stdout",
     "output_type": "stream",
     "text": [
      "{'Gujarat': 'Gandhinagar', 'Maharashtra': 'Mumbai', 'Rajasthan': 'Jaipur'}\n"
     ]
    }
   ],
   "source": [
    "state = ['Gujarat', 'Maharashtra', 'Rajasthan'] \n",
    "capital = ['Gandhinagar', 'Mumbai', 'Jaipur'] \n",
    "  \n",
    "dict_using_comp = {key:value for (key, value) in zip(state, capital)} \n",
    "print(dict_using_comp)"
   ]
  },
  {
   "cell_type": "markdown",
   "metadata": {},
   "source": [
    "# Set\n",
    "### {} or set()"
   ]
  },
  {
   "cell_type": "code",
   "execution_count": 23,
   "metadata": {},
   "outputs": [
    {
     "name": "stdout",
     "output_type": "stream",
     "text": [
      "{32, 1, 2, 64, 4, 128, 256, 512, 8, 16}\n"
     ]
    }
   ],
   "source": [
    "pow2 = {2 ** x for x in range(10)}\n",
    "print(pow2)"
   ]
  },
  {
   "cell_type": "code",
   "execution_count": 22,
   "metadata": {},
   "outputs": [
    {
     "name": "stdout",
     "output_type": "stream",
     "text": [
      "{64, 256, 128, 512}\n",
      "{1, 3, 5, 7, 9, 11, 13, 15, 17, 19}\n",
      "{'Python Language', 'Python Programming', 'C Language', 'C Programming'}\n"
     ]
    }
   ],
   "source": [
    "pow2 = set(2 ** x for x in range(10) if x > 5)\n",
    "print(pow2)\n",
    "\n",
    "odd = set(x for x in range(20) if x % 2 == 1)\n",
    "print(odd)\n",
    "\n",
    "mySet = set(x+y for x in ['Python ','C '] for y in ['Language','Programming'])\n",
    "print(mySet)"
   ]
  },
  {
   "cell_type": "code",
   "execution_count": 24,
   "metadata": {},
   "outputs": [
    {
     "name": "stdout",
     "output_type": "stream",
     "text": [
      "{3.3, 2.65, 3.49}\n"
     ]
    }
   ],
   "source": [
    "price = {'apple' : 2.99, 'orange' : 2.15, 'milk' : 2.80}\n",
    "\n",
    "value_add = set(x+.5 for x in price.values())\n",
    "print(value_add)"
   ]
  },
  {
   "cell_type": "code",
   "execution_count": 3,
   "metadata": {},
   "outputs": [
    {
     "name": "stdout",
     "output_type": "stream",
     "text": [
      "{2, 4, 6}\n"
     ]
    }
   ],
   "source": [
    "input_list = [1, 2, 3, 4, 4, 5, 6, 6, 6, 7, 7] \n",
    "  \n",
    "set_using_comp = {var for var in input_list if var % 2 == 0} \n",
    "  \n",
    "print(set_using_comp) "
   ]
  },
  {
   "cell_type": "markdown",
   "metadata": {},
   "source": [
    "# Generator\n",
    "### ( )"
   ]
  },
  {
   "cell_type": "code",
   "execution_count": 7,
   "metadata": {},
   "outputs": [
    {
     "name": "stdout",
     "output_type": "stream",
     "text": [
      "<class 'generator'>\n",
      "[2, 4, 4, 6]\n"
     ]
    }
   ],
   "source": [
    "input_list = [1, 2, 3, 4, 4, 5, 6, 7, 7] \n",
    "  \n",
    "output_gen = (var for var in input_list if var % 2 == 0) \n",
    "print(type(output_gen))\n",
    "  \n",
    "print(list(output_gen)) "
   ]
  },
  {
   "cell_type": "markdown",
   "metadata": {},
   "source": [
    "# Tuple\n",
    "### tuple()"
   ]
  },
  {
   "cell_type": "code",
   "execution_count": 28,
   "metadata": {},
   "outputs": [
    {
     "name": "stdout",
     "output_type": "stream",
     "text": [
      "(1, 2, 4, 8, 16, 32, 64, 128, 256, 512)\n"
     ]
    }
   ],
   "source": [
    "pow2 = tuple(2 ** x for x in range(10))\n",
    "print(pow2)"
   ]
  },
  {
   "cell_type": "code",
   "execution_count": 29,
   "metadata": {},
   "outputs": [
    {
     "name": "stdout",
     "output_type": "stream",
     "text": [
      "(64, 128, 256, 512)\n",
      "(1, 3, 5, 7, 9, 11, 13, 15, 17, 19)\n",
      "('Python Language', 'Python Programming', 'C Language', 'C Programming')\n"
     ]
    }
   ],
   "source": [
    "pow2 = tuple(2 ** x for x in range(10) if x > 5)\n",
    "print(pow2)\n",
    "\n",
    "odd = tuple(x for x in range(20) if x % 2 == 1)\n",
    "print(odd)\n",
    "\n",
    "myTuple = tuple(x+y for x in ['Python ','C '] for y in ['Language','Programming'])\n",
    "print(myTuple)"
   ]
  },
  {
   "cell_type": "code",
   "execution_count": 30,
   "metadata": {},
   "outputs": [
    {
     "name": "stdout",
     "output_type": "stream",
     "text": [
      "(3.49, 2.65, 3.3)\n"
     ]
    }
   ],
   "source": [
    "price = {'apple' : 2.99, 'orange' : 2.15, 'milk' : 2.80}\n",
    "\n",
    "value_add = tuple(x+.5 for x in price.values())\n",
    "print(value_add)"
   ]
  }
 ],
 "metadata": {
  "kernelspec": {
   "display_name": "Python 3",
   "language": "python",
   "name": "python3"
  },
  "language_info": {
   "codemirror_mode": {
    "name": "ipython",
    "version": 3
   },
   "file_extension": ".py",
   "mimetype": "text/x-python",
   "name": "python",
   "nbconvert_exporter": "python",
   "pygments_lexer": "ipython3",
   "version": "3.7.4"
  }
 },
 "nbformat": 4,
 "nbformat_minor": 2
}
