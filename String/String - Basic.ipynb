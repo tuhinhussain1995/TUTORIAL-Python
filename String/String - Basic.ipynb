{
 "cells": [
  {
   "cell_type": "markdown",
   "metadata": {},
   "source": [
    "# Strings are immutable.\n",
    "#### We cannot delete or remove characters from a string.\n",
    "## 'string', 'set' and 'tuples' does not support item assignment\n",
    "##  Only 'list' and 'dictionary' support item assignment\n",
    "## dictionary and set doesn't support indexing and slicing."
   ]
  },
  {
   "cell_type": "markdown",
   "metadata": {},
   "source": [
    "### String item assignment"
   ]
  },
  {
   "cell_type": "code",
   "execution_count": 1,
   "metadata": {},
   "outputs": [
    {
     "name": "stdout",
     "output_type": "stream",
     "text": [
      "TOHIN\n"
     ]
    }
   ],
   "source": [
    "# string doesn't support item assignment.\n",
    "\n",
    "name = \"TUHIN\"\n",
    "\n",
    "# name[1] = 'O'\n",
    "# In python we can't replace or concatenate like that\n",
    "\n",
    "firstLetters = name[:1]\n",
    "lastLetters = name[2:]\n",
    "newName = firstLetters + 'O' + lastLetters\n",
    "print(newName)"
   ]
  },
  {
   "cell_type": "code",
   "execution_count": 2,
   "metadata": {},
   "outputs": [
    {
     "name": "stdout",
     "output_type": "stream",
     "text": [
      "macdonald\n",
      "MacDonald\n"
     ]
    }
   ],
   "source": [
    "myString = 'macdonald'\n",
    "print(myString)\n",
    "\n",
    "myString = myString[0].upper() + myString[1:3] + myString[3].upper() + myString[4:]\n",
    "print(myString)"
   ]
  },
  {
   "cell_type": "markdown",
   "metadata": {},
   "source": [
    "## Basic"
   ]
  },
  {
   "cell_type": "code",
   "execution_count": 2,
   "metadata": {},
   "outputs": [
    {
     "name": "stdout",
     "output_type": "stream",
     "text": [
      "This is string with double quotiant symbol\n",
      "This is also string with single quotiant symbol\n"
     ]
    }
   ],
   "source": [
    "print(\"This is string with double quotiant symbol\")\n",
    "print('This is also string with single quotiant symbol')"
   ]
  },
  {
   "cell_type": "code",
   "execution_count": 3,
   "metadata": {},
   "outputs": [
    {
     "name": "stdout",
     "output_type": "stream",
     "text": [
      "25\n",
      "<class 'str'>\n",
      "25\n",
      "<class 'str'>\n"
     ]
    }
   ],
   "source": [
    "print('2'+'5')\n",
    "print(type('2'+'5'))\n",
    "print('2' \"5\")\n",
    "print(type('2' \"5\"))"
   ]
  },
  {
   "cell_type": "code",
   "execution_count": 3,
   "metadata": {},
   "outputs": [
    {
     "name": "stdout",
     "output_type": "stream",
     "text": [
      "Hello\n",
      "World!\n",
      "Tuhin\tHossain\n",
      "5\n",
      "10\n",
      "16\n",
      "5\n",
      "<class 'list'>\n"
     ]
    }
   ],
   "source": [
    "print(\"Hello\\nWorld!\")                # \\n for new line\n",
    "print('Tuhin\\tHossain')               # \\t for tab.\n",
    "print(len(\"Hello\"))\n",
    "a=\"Hossain Md\"\n",
    "print(len(a))\n",
    "print(len(a + \" Tuhin\"))\n",
    "\n",
    "print(len('He is a good guy'.split()))\n",
    "print(type('He is a good guy'.split()))"
   ]
  },
  {
   "cell_type": "code",
   "execution_count": 6,
   "metadata": {},
   "outputs": [
    {
     "name": "stdout",
     "output_type": "stream",
     "text": [
      "{'3rd', '1st', '4th', '2nd', '5th'}\n"
     ]
    }
   ],
   "source": [
    "mySet = {'1st', '2nd', '3rd', '4th'}\n",
    "value = 5\n",
    "\n",
    "mySet.add(str(value) + 'th')\n",
    "# We can't use here (,) comme\n",
    "    #mySet.add(str(value), 'th')\n",
    "\n",
    "print(mySet)"
   ]
  },
  {
   "cell_type": "markdown",
   "metadata": {},
   "source": [
    "## raw string"
   ]
  },
  {
   "cell_type": "code",
   "execution_count": 5,
   "metadata": {},
   "outputs": [
    {
     "name": "stdout",
     "output_type": "stream",
     "text": [
      "this is \n",
      "a string\\ split\t\tand tabbed\n",
      "\n",
      "this is \\na string\\\\ split\\t\\tand tabbed\\n\n",
      "My father said, \\\"Never tell a lie!\\\"\n",
      "My father said, \"Never tell a lie!\"\n"
     ]
    }
   ],
   "source": [
    "myString = \"this is \\na string\\\\ split\\t\\tand tabbed\\n\"\n",
    "print(myString)\n",
    "\n",
    "raw_string = r\"this is \\na string\\\\ split\\t\\tand tabbed\\n\"\n",
    "print(raw_string)\n",
    "\n",
    "raw_string = r\"My father said, \\\"Never tell a lie!\\\"\"\n",
    "print(raw_string)\n",
    "\n",
    "raw_string = r'My father said, \"Never tell a lie!\"'\n",
    "print(raw_string)"
   ]
  },
  {
   "cell_type": "markdown",
   "metadata": {},
   "source": [
    "### by using comma(,) we can concatenate any type of variables. \n",
    "### if we use (+) we can concatenate only string to string. \n",
    "### if we use nothing we can concatenate only string to string."
   ]
  },
  {
   "cell_type": "code",
   "execution_count": 7,
   "metadata": {},
   "outputs": [
    {
     "name": "stdout",
     "output_type": "stream",
     "text": [
      "My father said \"Never tell a lie\"\n",
      "I'm going to sumon's apartment\n",
      "He doesn't said \"Never tell a lie\"\n",
      "He doesn't said \"Never tell a lie\"\n",
      "Tuhin Hussain 23 years old\n"
     ]
    }
   ],
   "source": [
    "print('My father said \"Never tell a lie\"')\n",
    "print(\"I'm going to sumon's apartment\")\n",
    "print(\"He doesn't said \"        '\"Never tell a lie\"')\n",
    "print(\"He doesn't said \" + '\"Never tell a lie\"')         \n",
    "print(\"Tuhin\", \"Hussain\", 23, \"years old\")               # better to use comma (,)"
   ]
  },
  {
   "cell_type": "code",
   "execution_count": 4,
   "metadata": {},
   "outputs": [
    {
     "name": "stdout",
     "output_type": "stream",
     "text": [
      "<class 'str'>\n",
      "Tuhin\n",
      "5\n",
      "Tuhin Hossain\n",
      "13\n"
     ]
    }
   ],
   "source": [
    "a=\"Tuhin\"\n",
    "print(type(a))\n",
    "print(a)\n",
    "print(len(a))\n",
    "print(a + \" Hossain\")              # if we use (+) we can concatenate only string to string. \n",
    "print(len(a+ \" Hossain\"))"
   ]
  },
  {
   "cell_type": "code",
   "execution_count": 4,
   "metadata": {},
   "outputs": [
    {
     "name": "stdout",
     "output_type": "stream",
     "text": [
      "Tuhin\n",
      "Tuhin Hussain\n",
      "Tuhin Hussain 23 years old\n",
      "Tuhin Hussain\n"
     ]
    }
   ],
   "source": [
    "print(\"Tuhin\")\n",
    "print(\"Tuhin\" + \" Hussain\")  # if we use (+) we can concatenate only string to string. \n",
    "\n",
    "print(\"Tuhin\", \"Hussain\", 23, \"years old\")    # Best one to use (,) if we use cooma(,) we can concatenate any kinds of variables\n",
    "\n",
    "print('Tuhin ' \"Hussain\")  "
   ]
  },
  {
   "cell_type": "code",
   "execution_count": 1,
   "metadata": {},
   "outputs": [
    {
     "name": "stdout",
     "output_type": "stream",
     "text": [
      "Hello I am Hossain Md Tuhin. And I am 24 years old\n",
      "My age is 24 .\n",
      "My age is 24.\n"
     ]
    }
   ],
   "source": [
    "name = 'Hossain Md Tuhin'; age = 24\n",
    "\n",
    "print('Hello I am', name + '. And I am', age, 'years old')\n",
    "print('My age is', age, '.')             # comma (,) automatically add blank space before and after it.\n",
    "print('My age is ' + str(age) + '.')"
   ]
  },
  {
   "cell_type": "code",
   "execution_count": 2,
   "metadata": {},
   "outputs": [
    {
     "name": "stdout",
     "output_type": "stream",
     "text": [
      "Hello I am Hossain Md Tuhin. And I am 24 years old and my height 5.5\n"
     ]
    }
   ],
   "source": [
    "# By using semicolon we can write so many statement in a single line.\n",
    "\n",
    "\n",
    "name = 'Hossain Md Tuhin'; age = 24; height = 5.5\n",
    "\n",
    "print('Hello I am', name + '. And I am', age, 'years old ', end='')\n",
    "print('and my height', height)"
   ]
  },
  {
   "cell_type": "code",
   "execution_count": 8,
   "metadata": {},
   "outputs": [
    {
     "name": "stdout",
     "output_type": "stream",
     "text": [
      "I am Hossain Md Tuhin\n",
      "I am 24 years old\n"
     ]
    }
   ],
   "source": [
    "print('I am', \"Hossain Md Tuhin\" + \"\\nI am\", 24, 'years old')"
   ]
  },
  {
   "cell_type": "code",
   "execution_count": 9,
   "metadata": {},
   "outputs": [
    {
     "name": "stdout",
     "output_type": "stream",
     "text": [
      "length of \"Hello\" is:  5\n",
      "maximum number is:  4\n",
      "minimum number is:  0\n",
      "Ceil number is:  26\n"
     ]
    }
   ],
   "source": [
    "print('length of \"Hello\" is: ' , len('Hello'))\n",
    "\n",
    "print(\"maximum number is: \" , max(range(0, 5, 1)))           # range(5) returns list\n",
    "\n",
    "print(\"minimum number is: \" , min(list(range(0, 5, 1))))     # if you want, no need to add list here\n",
    "\n",
    "import math\n",
    "print('Ceil number is: ' , math.ceil(25.01))"
   ]
  },
  {
   "cell_type": "code",
   "execution_count": 10,
   "metadata": {},
   "outputs": [
    {
     "name": "stdout",
     "output_type": "stream",
     "text": [
      "length of \"Hello\" is: 5\n",
      "maximum number is: 4\n",
      "minimum number is: 0\n",
      "Ceil number is: 26\n"
     ]
    }
   ],
   "source": [
    "print('length of \"Hello\" is: ' + str(len('Hello')))\n",
    "\n",
    "print(\"maximum number is: \" + str(max(list(range(0, 5, 1)))))     # if you want, no need to add list here\n",
    "\n",
    "print(\"minimum number is: \" + str(min(range(0, 5, 1))))           # range(5) returns list\n",
    "\n",
    "import math\n",
    "print('Ceil number is: ' + str(math.ceil(25.01)))"
   ]
  },
  {
   "cell_type": "markdown",
   "metadata": {},
   "source": [
    "# String is Sequenced"
   ]
  },
  {
   "cell_type": "markdown",
   "metadata": {},
   "source": [
    "### supports indexing and slicing"
   ]
  },
  {
   "cell_type": "code",
   "execution_count": 1,
   "metadata": {},
   "outputs": [
    {
     "name": "stdout",
     "output_type": "stream",
     "text": [
      "e\n",
      "ell\n"
     ]
    }
   ],
   "source": [
    "myString = 'Hello'\n",
    "print(myString[1])\n",
    "print(myString[1:4])"
   ]
  },
  {
   "cell_type": "markdown",
   "metadata": {},
   "source": [
    "### support concatenation"
   ]
  },
  {
   "cell_type": "code",
   "execution_count": 2,
   "metadata": {},
   "outputs": [
    {
     "name": "stdout",
     "output_type": "stream",
     "text": [
      "Tuhin Hussain\n"
     ]
    }
   ],
   "source": [
    "myString1 = 'Tuhin'\n",
    "myString2 = 'Hussain'\n",
    "fullString = myString1 + ' ' + myString2\n",
    "print(fullString)"
   ]
  },
  {
   "cell_type": "markdown",
   "metadata": {},
   "source": [
    "### supports multiplication or times"
   ]
  },
  {
   "cell_type": "code",
   "execution_count": null,
   "metadata": {},
   "outputs": [],
   "source": [
    "name = 'Tuhin'\n",
    "print(name*3)\n",
    "\n",
    "myChar = name[0]\n",
    "print(myChar*10)\n",
    "\n",
    "print('=' * 60)\n",
    "\n",
    "a = 10\n",
    "print(a*3)\n",
    "\n",
    "b = str(10)\n",
    "print(type(b))"
   ]
  },
  {
   "cell_type": "code",
   "execution_count": null,
   "metadata": {},
   "outputs": [],
   "source": [
    "print('*' * 80)\n",
    "\n",
    "letter = 'z'\n",
    "print(letter * 10)\n",
    "\n",
    "print('@'*5)\n",
    "print(type('@'))"
   ]
  },
  {
   "cell_type": "markdown",
   "metadata": {},
   "source": [
    "# String Iteration"
   ]
  },
  {
   "cell_type": "code",
   "execution_count": 2,
   "metadata": {},
   "outputs": [
    {
     "name": "stdout",
     "output_type": "stream",
     "text": [
      "3 letters found\n"
     ]
    }
   ],
   "source": [
    "count = 0\n",
    "for letter in 'Hello World':\n",
    "    if(letter == 'l'):\n",
    "        count += 1\n",
    "print(count,'letters found')"
   ]
  },
  {
   "cell_type": "markdown",
   "metadata": {},
   "source": [
    "# String Membership Test"
   ]
  },
  {
   "cell_type": "code",
   "execution_count": 3,
   "metadata": {},
   "outputs": [
    {
     "name": "stdout",
     "output_type": "stream",
     "text": [
      "True\n",
      "False\n"
     ]
    }
   ],
   "source": [
    "print('a' in 'program')\n",
    "\n",
    "print('ain' not in 'I am Hossain Md Tuhin')"
   ]
  },
  {
   "cell_type": "markdown",
   "metadata": {},
   "source": [
    "# String Enumerate"
   ]
  },
  {
   "cell_type": "code",
   "execution_count": 4,
   "metadata": {},
   "outputs": [
    {
     "name": "stdout",
     "output_type": "stream",
     "text": [
      "list(enumerate(str) =  [(0, 'c'), (1, 'o'), (2, 'l'), (3, 'd')]\n"
     ]
    }
   ],
   "source": [
    "str = 'cold'\n",
    "\n",
    "list_enumerate = list(enumerate(str))\n",
    "print('list(enumerate(str) = ', list_enumerate)"
   ]
  },
  {
   "cell_type": "markdown",
   "metadata": {},
   "source": [
    "# Exercise"
   ]
  },
  {
   "cell_type": "code",
   "execution_count": 4,
   "metadata": {},
   "outputs": [
    {
     "name": "stdout",
     "output_type": "stream",
     "text": [
      "HHHeeellllllooo\n",
      "MMMiiissssssiiissssssiiippppppiii\n"
     ]
    }
   ],
   "source": [
    "def paper_doll(text):\n",
    "    myString = ''\n",
    "    \n",
    "    for x in list(text):\n",
    "        myString += x*3\n",
    "        \n",
    "    return myString\n",
    "\n",
    "print(paper_doll('Hello'))\n",
    "print(paper_doll('Mississippi'))"
   ]
  }
 ],
 "metadata": {
  "kernelspec": {
   "display_name": "Python 3",
   "language": "python",
   "name": "python3"
  },
  "language_info": {
   "codemirror_mode": {
    "name": "ipython",
    "version": 3
   },
   "file_extension": ".py",
   "mimetype": "text/x-python",
   "name": "python",
   "nbconvert_exporter": "python",
   "pygments_lexer": "ipython3",
   "version": "3.7.4"
  }
 },
 "nbformat": 4,
 "nbformat_minor": 2
}
