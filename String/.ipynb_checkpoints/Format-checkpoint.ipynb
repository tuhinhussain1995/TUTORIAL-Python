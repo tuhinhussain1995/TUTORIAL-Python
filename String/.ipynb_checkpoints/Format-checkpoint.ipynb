{
 "cells": [
  {
   "cell_type": "raw",
   "metadata": {},
   "source": [
    "result = 123\n",
    "print(\"Result is {}\".format(result))  \n",
    "\n",
    "# We can't write:\n",
    "#       print(\"Result is {result}\".format(result))\n",
    "# We can write:\n",
    "#       print(\"Result is {}\".format(result))\n",
    "#       print(\"Result is {0}\".format(result))\n",
    "#       print(\"Result is {r}\".format(r = result))"
   ]
  },
  {
   "cell_type": "code",
   "execution_count": 1,
   "metadata": {},
   "outputs": [
    {
     "name": "stdout",
     "output_type": "stream",
     "text": [
      "I am Hossain md Tuhin\n",
      "Result is 123\n"
     ]
    }
   ],
   "source": [
    "print(\"I am {} md Tuhin\".format('Hossain'))\n",
    "\n",
    "result = 123\n",
    "print(\"Result is {0}\".format(result))"
   ]
  },
  {
   "cell_type": "code",
   "execution_count": 2,
   "metadata": {},
   "outputs": [
    {
     "name": "stdout",
     "output_type": "stream",
     "text": [
      "First person Tuhin, second person Sumon and third person nazrul\n"
     ]
    }
   ],
   "source": [
    "print('First person {}, second person {} and third person {}'.format(\"Tuhin\", 'Sumon', 'nazrul'))"
   ]
  },
  {
   "cell_type": "code",
   "execution_count": 3,
   "metadata": {},
   "outputs": [
    {
     "name": "stdout",
     "output_type": "stream",
     "text": [
      "First person Sumon, second person nazrul and third person Tuhin\n"
     ]
    }
   ],
   "source": [
    "print('First person {}, second person {} and third person {}'.format(\"Sumon\", 'nazrul', 'Tuhin'))"
   ]
  },
  {
   "cell_type": "code",
   "execution_count": 4,
   "metadata": {},
   "outputs": [
    {
     "name": "stdout",
     "output_type": "stream",
     "text": [
      "First person nazrul, second person Tuhin and third person Sumon\n"
     ]
    }
   ],
   "source": [
    "print('First person {1}, second person {2} and third person {0}'.format(\"Sumon\", 'nazrul', 'Tuhin'))"
   ]
  },
  {
   "cell_type": "code",
   "execution_count": 5,
   "metadata": {},
   "outputs": [
    {
     "name": "stdout",
     "output_type": "stream",
     "text": [
      "First person nazrul, second person nazrul and third person Tuhin\n"
     ]
    }
   ],
   "source": [
    "print('First person {1}, second person {1} and third person {2}'.format(\"Sumon\", 'nazrul', 'Tuhin'))"
   ]
  },
  {
   "cell_type": "code",
   "execution_count": 6,
   "metadata": {},
   "outputs": [
    {
     "name": "stdout",
     "output_type": "stream",
     "text": [
      "First person nazrul, second person Tuhin and third person Sumon\n"
     ]
    }
   ],
   "source": [
    "print('First person {n}, second person {t} and third person {s}'.format(s=\"Sumon\", n='nazrul', t='Tuhin'))"
   ]
  },
  {
   "cell_type": "code",
   "execution_count": 7,
   "metadata": {},
   "outputs": [
    {
     "name": "stdout",
     "output_type": "stream",
     "text": [
      "First person Tuhin, second person Tuhin and third person Sumon\n"
     ]
    }
   ],
   "source": [
    "s = 'Sumon'; n = \"Nazrul\"; t = 'Tuhin'\n",
    "print('First person {2}, second person {2} and third person {0}'.format(s, n, t))"
   ]
  },
  {
   "cell_type": "code",
   "execution_count": 8,
   "metadata": {},
   "outputs": [
    {
     "name": "stdout",
     "output_type": "stream",
     "text": [
      "First person Tuhin, second person Tuhin and third person Sumon\n"
     ]
    }
   ],
   "source": [
    "name1 = 'Sumon'; name2 = \"Nazrul\"; name3 = 'Tuhin'\n",
    "print('First person {t}, second person {t} and third person {s}'.format(s=name1, n=name2, t=name3))"
   ]
  },
  {
   "cell_type": "code",
   "execution_count": null,
   "metadata": {},
   "outputs": [],
   "source": []
  },
  {
   "cell_type": "code",
   "execution_count": null,
   "metadata": {},
   "outputs": [],
   "source": []
  },
  {
   "cell_type": "code",
   "execution_count": null,
   "metadata": {},
   "outputs": [],
   "source": []
  },
  {
   "cell_type": "code",
   "execution_count": null,
   "metadata": {},
   "outputs": [],
   "source": []
  },
  {
   "cell_type": "code",
   "execution_count": null,
   "metadata": {},
   "outputs": [],
   "source": []
  },
  {
   "cell_type": "code",
   "execution_count": null,
   "metadata": {},
   "outputs": [],
   "source": []
  },
  {
   "cell_type": "code",
   "execution_count": null,
   "metadata": {},
   "outputs": [],
   "source": []
  }
 ],
 "metadata": {
  "kernelspec": {
   "display_name": "Python 3",
   "language": "python",
   "name": "python3"
  },
  "language_info": {
   "codemirror_mode": {
    "name": "ipython",
    "version": 3
   },
   "file_extension": ".py",
   "mimetype": "text/x-python",
   "name": "python",
   "nbconvert_exporter": "python",
   "pygments_lexer": "ipython3",
   "version": "3.7.4"
  }
 },
 "nbformat": 4,
 "nbformat_minor": 2
}
