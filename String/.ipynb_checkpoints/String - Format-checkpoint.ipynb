{
 "cells": [
  {
   "cell_type": "markdown",
   "metadata": {},
   "source": [
    "## Basic"
   ]
  },
  {
   "cell_type": "raw",
   "metadata": {},
   "source": [
    "result = 123\n",
    "print(\"Result is {}\".format(result))  \n",
    "\n",
    "# We can't write:\n",
    "#       print(\"Result is {result}\".format(result))\n",
    "# We can write:\n",
    "#       print(\"Result is {}\".format(result))\n",
    "#       print(\"Result is {0}\".format(result))\n",
    "#       print(\"Result is {r}\".format(r = result))"
   ]
  },
  {
   "cell_type": "code",
   "execution_count": 3,
   "metadata": {},
   "outputs": [
    {
     "name": "stdout",
     "output_type": "stream",
     "text": [
      "I am Hossain md Tuhin\n",
      "Result is 123\n"
     ]
    }
   ],
   "source": [
    "print(\"I am {} md Tuhin\".format('Hossain'))\n",
    "\n",
    "result = 123\n",
    "print(\"Result is {0}\".format(result))"
   ]
  },
  {
   "cell_type": "code",
   "execution_count": 3,
   "metadata": {},
   "outputs": [
    {
     "name": "stdout",
     "output_type": "stream",
     "text": [
      "First person Tuhin, second person Sumon and third person nazrul\n"
     ]
    }
   ],
   "source": [
    "print('First person {}, second person {} and third person {}'.format(\"Tuhin\", 'Sumon', 'nazrul'))"
   ]
  },
  {
   "cell_type": "code",
   "execution_count": 4,
   "metadata": {},
   "outputs": [
    {
     "name": "stdout",
     "output_type": "stream",
     "text": [
      "First person Sumon, second person nazrul and third person Tuhin\n"
     ]
    }
   ],
   "source": [
    "print('First person {}, second person {} and third person {}'.format(\"Sumon\", 'nazrul', 'Tuhin'))"
   ]
  },
  {
   "cell_type": "code",
   "execution_count": 5,
   "metadata": {},
   "outputs": [
    {
     "name": "stdout",
     "output_type": "stream",
     "text": [
      "First person nazrul, second person Tuhin and third person Sumon\n"
     ]
    }
   ],
   "source": [
    "print('First person {1}, second person {2} and third person {0}'.format(\"Sumon\", 'nazrul', 'Tuhin'))"
   ]
  },
  {
   "cell_type": "code",
   "execution_count": 3,
   "metadata": {},
   "outputs": [
    {
     "name": "stdout",
     "output_type": "stream",
     "text": [
      "First person nazrul, second person nazrul and third person Tuhin\n"
     ]
    }
   ],
   "source": [
    "print('First person {1}, second person {1} and third person {2}'.format(\"Sumon\", 'nazrul', 'Tuhin'))"
   ]
  },
  {
   "cell_type": "code",
   "execution_count": 7,
   "metadata": {},
   "outputs": [
    {
     "name": "stdout",
     "output_type": "stream",
     "text": [
      "First person nazrul, second person Tuhin and third person Sumon\n"
     ]
    }
   ],
   "source": [
    "print('First person {n}, second person {t} and third person {s}'.format(s=\"Sumon\", n='nazrul', t='Tuhin'))"
   ]
  },
  {
   "cell_type": "code",
   "execution_count": 5,
   "metadata": {},
   "outputs": [
    {
     "name": "stdout",
     "output_type": "stream",
     "text": [
      "First person Tuhin, second person Tuhin and third person Sumon\n"
     ]
    }
   ],
   "source": [
    "s = 'Sumon'; n = \"Nazrul\"; t = 'Tuhin'\n",
    "print('First person {2}, second person {2} and third person {0}'.format(s, n, t))"
   ]
  },
  {
   "cell_type": "code",
   "execution_count": 7,
   "metadata": {},
   "outputs": [
    {
     "name": "stdout",
     "output_type": "stream",
     "text": [
      "First person Tuhin, second person Tuhin and third person Sumon\n"
     ]
    }
   ],
   "source": [
    "name1 = 'Sumon'; name2 = \"Nazrul\"; name3 = 'Tuhin'\n",
    "print('First person {t}, second person {t} and third person {s}'.format(s=name1, n=name2, t=name3))"
   ]
  },
  {
   "cell_type": "markdown",
   "metadata": {},
   "source": [
    "## .format float {value : width.precision f}"
   ]
  },
  {
   "cell_type": "raw",
   "metadata": {},
   "source": [
    "result = 123\n",
    "print(\"Result is {}\".format(result))  \n",
    "\n",
    "# We can't write:\n",
    "#       print(\"Result is {result}\".format(result))\n",
    "# We can write:\n",
    "#       print(\"Result is {}\".format(result))\n",
    "#       print(\"Result is {0}\".format(result))\n",
    "#       print(\"Result is {r}\".format(r = result))\n"
   ]
  },
  {
   "cell_type": "code",
   "execution_count": 11,
   "metadata": {},
   "outputs": [
    {
     "name": "stdout",
     "output_type": "stream",
     "text": [
      "The result is 0.1287001287001287\n"
     ]
    }
   ],
   "source": [
    "result = 100/777\n",
    "print(\"The result is {}\".format(result))"
   ]
  },
  {
   "cell_type": "code",
   "execution_count": 14,
   "metadata": {},
   "outputs": [
    {
     "name": "stdout",
     "output_type": "stream",
     "text": [
      "The result is 0.1287001287001287\n"
     ]
    }
   ],
   "source": [
    "print(\"The result is {r}\".format(r = result))"
   ]
  },
  {
   "cell_type": "code",
   "execution_count": 17,
   "metadata": {},
   "outputs": [
    {
     "name": "stdout",
     "output_type": "stream",
     "text": [
      "The result is 0.60\n"
     ]
    }
   ],
   "source": [
    "result = 200/333;\n",
    "print(\"The result is {r:.2f}\".format(r = result)) # never add space between {value:width.precision f}"
   ]
  },
  {
   "cell_type": "code",
   "execution_count": 12,
   "metadata": {},
   "outputs": [
    {
     "name": "stdout",
     "output_type": "stream",
     "text": [
      "Result is 00000123\n"
     ]
    }
   ],
   "source": [
    "result = 123\n",
    "print('Result is {r:08d}'.format(r = result))"
   ]
  },
  {
   "cell_type": "code",
   "execution_count": 65,
   "metadata": {},
   "outputs": [
    {
     "name": "stdout",
     "output_type": "stream",
     "text": [
      "Result is      123\n"
     ]
    }
   ],
   "source": [
    "result = 123\n",
    "print('Result is {r:8d}'.format(r = result))"
   ]
  },
  {
   "cell_type": "code",
   "execution_count": 69,
   "metadata": {},
   "outputs": [
    {
     "name": "stdout",
     "output_type": "stream",
     "text": [
      "The result is 0000123.12346\n",
      "The result is     123.12346\n"
     ]
    }
   ],
   "source": [
    "result = 123.123456789\n",
    "print(\"The result is {r:013.5f}\".format(r = result)) \n",
    "print(\"The result is {r:13.5f}\".format(r = result)) "
   ]
  },
  {
   "cell_type": "code",
   "execution_count": 113,
   "metadata": {},
   "outputs": [
    {
     "name": "stdout",
     "output_type": "stream",
     "text": [
      "Result value 000000123.4560000000\n",
      "Result value       123.4560000000\n",
      "Result value 0000000000000123.456\n",
      "Result value              123.456\n"
     ]
    }
   ],
   "source": [
    "result = 123.456\n",
    "print(\"Result value {r:020.010f}\".format(r = result)) # 020 is calculated by both of decimal, float and point \n",
    "print(\"Result value {r:20.10f}\".format(r = result))   # 020 is calculated by both of decimal, float and point\n",
    "print(\"Result value {r:020.3f}\".format(r = result))   # 020 is calculated by both of decimal, float and point \n",
    "print(\"Result value {r:20.3f}\".format(r = result))   # 020 is calculated by both of decimal, float and point "
   ]
  },
  {
   "cell_type": "code",
   "execution_count": 114,
   "metadata": {},
   "outputs": [
    {
     "name": "stdout",
     "output_type": "stream",
     "text": [
      "Result value   123.4568\n"
     ]
    }
   ],
   "source": [
    "result = 123.456789\n",
    "print(\"Result value {r:10.4f}\".format(r = result))"
   ]
  },
  {
   "cell_type": "code",
   "execution_count": 1,
   "metadata": {},
   "outputs": [
    {
     "name": "stdout",
     "output_type": "stream",
     "text": [
      "Result value 123.456789000\n"
     ]
    }
   ],
   "source": [
    "result = 123.456789\n",
    "print(\"Result value {r:010.09f}\".format(r = result))"
   ]
  },
  {
   "cell_type": "markdown",
   "metadata": {},
   "source": [
    "## Alignment, padding and precision with .format()"
   ]
  },
  {
   "cell_type": "code",
   "execution_count": 3,
   "metadata": {},
   "outputs": [
    {
     "name": "stdout",
     "output_type": "stream",
     "text": [
      "Fruit    | Quantity \n",
      "Apples   |       3.0\n",
      "Oranges  |        10\n"
     ]
    }
   ],
   "source": [
    "print('{0:8} | {1:9}'.format('Fruit', 'Quantity'))\n",
    "print('{0:8} | {1:9}'.format('Apples', 3.))\n",
    "print('{0:8} | {1:9}'.format('Oranges', 10))"
   ]
  },
  {
   "cell_type": "code",
   "execution_count": 4,
   "metadata": {},
   "outputs": [
    {
     "name": "stdout",
     "output_type": "stream",
     "text": [
      "Left     |  Center  |    Right\n",
      "11       |    22    |       33\n"
     ]
    }
   ],
   "source": [
    "print('{0:<8} | {1:^8} | {2:>8}'.format('Left','Center','Right'))\n",
    "print('{0:<8} | {1:^8} | {2:>8}'.format(11,22,33))"
   ]
  },
  {
   "cell_type": "code",
   "execution_count": 6,
   "metadata": {},
   "outputs": [
    {
     "name": "stdout",
     "output_type": "stream",
     "text": [
      "  Left   |  Center  |  Right  \n",
      "   11    |    22    |    33   \n"
     ]
    }
   ],
   "source": [
    "print('{0:^8} | {1:^8} | {2:^8}'.format('Left','Center','Right'))\n",
    "print('{0:^8} | {1:^8} | {2:^8}'.format(11,22,33))"
   ]
  },
  {
   "cell_type": "code",
   "execution_count": 2,
   "metadata": {},
   "outputs": [
    {
     "name": "stdout",
     "output_type": "stream",
     "text": [
      "Left==== | -Center- | ***Right\n",
      "11====== | ---22--- | ......33\n"
     ]
    }
   ],
   "source": [
    "print('{0:=<8} | {1:-^8} | {2:*>8}'.format('Left','Center','Right'))\n",
    "print('{0:=<8} | {1:-^8} | {2:.>8}'.format(11,22,33))"
   ]
  },
  {
   "cell_type": "code",
   "execution_count": 3,
   "metadata": {},
   "outputs": [
    {
     "name": "stdout",
     "output_type": "stream",
     "text": [
      "Fruit    | Quantity  |   Price\n",
      "-------- | --------- | -------\n",
      "Apples   |     3     |   10.53\n",
      "-------- | --------- | -------\n",
      "Oranges  |    10     |   15.39\n",
      "-------- | --------- | -------\n"
     ]
    }
   ],
   "source": [
    "print('{0:<8} | {1:^9} | {2:>7}'.format('Fruit', 'Quantity', 'Price'))\n",
    "print('{0:-^8} | {1:-^9} | {2:-^7}'.format('-', '-', '-'))\n",
    "print('{0:<8} | {1:^9} | {2:>7}'.format('Apples', 3, 10.53))\n",
    "print('{0:-^8} | {1:-^9} | {2:-^7}'.format('-', '-', '-'))\n",
    "print('{0:<8} | {1:^9} | {2:>7}'.format('Oranges', 10, 15.39))\n",
    "print('{0:-^8} | {1:-^9} | {2:-^7}'.format('-', '-', '-'))"
   ]
  },
  {
   "cell_type": "code",
   "execution_count": 4,
   "metadata": {},
   "outputs": [
    {
     "name": "stdout",
     "output_type": "stream",
     "text": [
      "Do you want to insert data: yes\n",
      "Enter user full name: tuhin hussain\n",
      "Enter your age: 24\n",
      "Do you want to insert data: y\n",
      "Enter user full name: nazrul Islam\n",
      "Enter your age: 28\n",
      "Do you want to insert data: Y\n",
      "Enter user full name: azharul sumon\n",
      "Enter your age: 23\n",
      "Do you want to insert data: No\n",
      "Name             |    Age   \n",
      "---------------- | ---------\n",
      "tuhin hussain    |    24    \n",
      "---------------- | ---------\n",
      "nazrul Islam     |    28    \n",
      "---------------- | ---------\n",
      "azharul sumon    |    23    \n",
      "---------------- | ---------\n"
     ]
    }
   ],
   "source": [
    "def intention(a):\n",
    "    if (a == 'Yes' or a == 'yes' or a == 'y' or a == 'Y'):\n",
    "        return True\n",
    "    else:\n",
    "        return False\n",
    "\n",
    "\n",
    "myList = []\n",
    "\n",
    "b = input('Do you want to insert data: ')\n",
    "answer = intention(b)\n",
    "\n",
    "while (answer):\n",
    "    name = str(input('Enter user full name: '))\n",
    "    age = int(input('Enter your age: '))\n",
    "\n",
    "    myList.append(name)\n",
    "    myList.append(age)\n",
    "\n",
    "    b = input('Do you want to insert data: ')\n",
    "    answer = intention(b)\n",
    "\n",
    "print('{0:<16} | {1:^9}'.format('Name', 'Age'))\n",
    "print('{0:-^16} | {1:-^9}'.format('-', '-'))\n",
    "\n",
    "for x in range(0, len(myList), 2):\n",
    "    print('{0:<16} | {1:^9}'.format(myList[x], myList[x+1]))\n",
    "    print('{0:-^16} | {1:-^9}'.format('-', '-'))"
   ]
  },
  {
   "cell_type": "code",
   "execution_count": 1,
   "metadata": {},
   "outputs": [
    {
     "name": "stdout",
     "output_type": "stream",
     "text": [
      "DEC  ==>   BIN   ==> HEX  ==> OCT \n",
      "----------------------------------\n",
      "   0 ==> 00000000==> 0000 ==> 0000\n",
      "   1 ==> 00000001==> 0001 ==> 0001\n",
      "   2 ==> 00000010==> 0002 ==> 0002\n",
      "   3 ==> 00000011==> 0003 ==> 0003\n",
      "   4 ==> 00000100==> 0004 ==> 0004\n",
      "   5 ==> 00000101==> 0005 ==> 0005\n",
      "   6 ==> 00000110==> 0006 ==> 0006\n",
      "   7 ==> 00000111==> 0007 ==> 0007\n",
      "   8 ==> 00001000==> 0008 ==> 0010\n",
      "   9 ==> 00001001==> 0009 ==> 0011\n",
      "  10 ==> 00001010==> 000a ==> 0012\n",
      "  11 ==> 00001011==> 000b ==> 0013\n",
      "  12 ==> 00001100==> 000c ==> 0014\n",
      "  13 ==> 00001101==> 000d ==> 0015\n",
      "  14 ==> 00001110==> 000e ==> 0016\n",
      "  15 ==> 00001111==> 000f ==> 0017\n",
      "  16 ==> 00010000==> 0010 ==> 0020\n",
      "  17 ==> 00010001==> 0011 ==> 0021\n",
      "  18 ==> 00010010==> 0012 ==> 0022\n",
      "  19 ==> 00010011==> 0013 ==> 0023\n"
     ]
    }
   ],
   "source": [
    "print('{0:^4} ==> {1:^8}==> {2:^4} ==> {3:^4}'.format('DEC', 'BIN', 'HEX', 'OCT'))\n",
    "print('-' * 34)\n",
    "\n",
    "for i in range(20):\n",
    "    print('{0:>4} ==> {0:08b}==> {0:04x} ==> {0:04o}'.format(i))"
   ]
  },
  {
   "cell_type": "code",
   "execution_count": 4,
   "metadata": {},
   "outputs": [
    {
     "name": "stdout",
     "output_type": "stream",
     "text": [
      "Species: homo sapiens, Legs: 2, tail: False\n",
      "Species: panthera tigris, Legs: 4, tail: True\n"
     ]
    }
   ],
   "source": [
    "class Human:\n",
    "    def __init__(self):\n",
    "        self.species = \"homo sapiens\"\n",
    "        self.legs = 2\n",
    "        self.tail = False\n",
    "\n",
    "    def __str__(self):\n",
    "        return \"Species: {0.species}, Legs: {0.legs}, tail: {0.tail}\".format(self)\n",
    "\n",
    "class Tiger:\n",
    "    def __init__(self):\n",
    "        self.species = \"panthera tigris\"\n",
    "        self.legs = 4\n",
    "        self.tail = True\n",
    "\n",
    "    def __str__(self):\n",
    "        return \"Species: {0.species}, Legs: {0.legs}, tail: {0.tail}\".format(self)\n",
    "\n",
    "if __name__=='__main__':\n",
    "    human = Human()\n",
    "    print(human)\n",
    "\n",
    "    tiger = Tiger()\n",
    "    print(tiger)"
   ]
  },
  {
   "cell_type": "markdown",
   "metadata": {},
   "source": [
    "# new version after 3.6"
   ]
  },
  {
   "cell_type": "code",
   "execution_count": 80,
   "metadata": {},
   "outputs": [
    {
     "name": "stdout",
     "output_type": "stream",
     "text": [
      "Hello, his name is Tuhin\n"
     ]
    }
   ],
   "source": [
    "name = \"Tuhin\"\n",
    "print(f\"Hello, his name is {name}\")"
   ]
  },
  {
   "cell_type": "code",
   "execution_count": 102,
   "metadata": {},
   "outputs": [
    {
     "name": "stdout",
     "output_type": "stream",
     "text": [
      "Sam is 21 years old\n"
     ]
    }
   ],
   "source": [
    "name = \"Sam\"\n",
    "age = 21\n",
    "print(f\"{name} is {age} years old\")"
   ]
  },
  {
   "cell_type": "code",
   "execution_count": 3,
   "metadata": {},
   "outputs": [
    {
     "name": "stdout",
     "output_type": "stream",
     "text": [
      "Tuhin, Sumon and Nazrul are rectively 23, 24.3 and 25.95241 years old\n"
     ]
    }
   ],
   "source": [
    "name1 = \"Tuhin\"\n",
    "name2 = 'Sumon'\n",
    "name3 = 'Nazrul'\n",
    "age1 = 23\n",
    "age2 = 24.3\n",
    "age3 = 25.95241\n",
    "\n",
    "print(f'{name1}, {name2} and {name3} are rectively {age1}, {age2} and {age3} years old')"
   ]
  },
  {
   "cell_type": "markdown",
   "metadata": {},
   "source": [
    "# Old Way"
   ]
  },
  {
   "cell_type": "code",
   "execution_count": 14,
   "metadata": {},
   "outputs": [
    {
     "name": "stdout",
     "output_type": "stream",
     "text": [
      "Tuhin, Sumon and Nazrul are respectively 23, 24.30 and 25.9524 years old\n"
     ]
    }
   ],
   "source": [
    "name1 = \"Tuhin\"\n",
    "name2 = 'Sumon'\n",
    "name3 = 'Nazrul'\n",
    "age1 = 23\n",
    "age2 = 24.3\n",
    "age3 = 25.952414674\n",
    "\n",
    "print(\"%s, %s and %s are respectively %d, %.2f and %.4f years old\" %(name1, name2, name3, age1, age2, age3))"
   ]
  },
  {
   "cell_type": "code",
   "execution_count": 15,
   "metadata": {},
   "outputs": [
    {
     "name": "stdout",
     "output_type": "stream",
     "text": [
      "I wrote 3.75 programs today.\n",
      "I wrote 3 programs today.\n",
      "I wrote 3.750000 programs today.\n",
      "I wrote 3 programs today.\n",
      "I wrote 4 programs today.\n",
      "I wrote 3.8 programs today.\n"
     ]
    }
   ],
   "source": [
    "print('I wrote %s programs today.' %3.75)\n",
    "print('I wrote %d programs today.' %3.75)\n",
    "\n",
    "print('I wrote %f programs today.' %3.75) \n",
    "print('I wrote %.0f programs today.' %3.45)                 # .0f print the round value\n",
    "print('I wrote %.0f programs today.' %3.75) \n",
    "print('I wrote %.1f programs today.' %3.75)  "
   ]
  },
  {
   "cell_type": "code",
   "execution_count": 15,
   "metadata": {},
   "outputs": [
    {
     "name": "stdout",
     "output_type": "stream",
     "text": [
      "I buy 5 !banana and 2.36 kg rice\n"
     ]
    }
   ],
   "source": [
    "print(\"I buy %d %s and %.2f kg %s\" %(5, 'banana', 2.36, 'rice'))"
   ]
  },
  {
   "cell_type": "code",
   "execution_count": 3,
   "metadata": {},
   "outputs": [
    {
     "name": "stdout",
     "output_type": "stream",
     "text": [
      "Student Name |     Age\n",
      "         Sam |   23\n",
      "       Sumon |    9.3000\n",
      " NazrulIslam |   25.9524\n"
     ]
    }
   ],
   "source": [
    "name1 = \"Sam\"\n",
    "name2 = 'Sumon'\n",
    "name3 = 'NazrulIslam'\n",
    "age1 = 23\n",
    "age2 = 9.3\n",
    "age3 = 25.95241\n",
    "\n",
    "print(\"%s |  %6s\" %(\"Student Name\", \"Age\"))\n",
    "print('%12s |  %3d' %(name1, age1))\n",
    "print('%12s |  %8.4f' %(name2, age2))\n",
    "print('%12s |  %8.4f' %(name3, age3))"
   ]
  },
  {
   "cell_type": "code",
   "execution_count": 1,
   "metadata": {},
   "outputs": [
    {
     "name": "stdout",
     "output_type": "stream",
     "text": [
      "Decimal value 000012345\n",
      "Decimal value     12345\n",
      "Decimal value 12345\n"
     ]
    }
   ],
   "source": [
    "result = 12345\n",
    "\n",
    "print(\"Decimal value %09d\" %result)\n",
    "print(\"Decimal value %9d\" %result)\n",
    "print(\"Decimal value %d\" %result)"
   ]
  },
  {
   "cell_type": "code",
   "execution_count": 1,
   "metadata": {},
   "outputs": [
    {
     "name": "stdout",
     "output_type": "stream",
     "text": [
      "Result value 000000123.4560000000\n",
      "Result value 000000123.4560000000\n",
      "Result value 00000000000000123.46\n",
      "Result value              123.456\n"
     ]
    }
   ],
   "source": [
    "result = 123.456\n",
    "\n",
    "print(\"Result value %020.010f\" %result)  # with decimal, number and point total 20\n",
    "print(\"Result value %020.10f\" %result)    # with decimal, number and point total 20\n",
    "print(\"Result value %020.2f\" %result)    # with decimal, number and point total 20\n",
    "print(\"Result value %20.3f\" %result)     # with decimal, number and point total 20"
   ]
  },
  {
   "cell_type": "code",
   "execution_count": 7,
   "metadata": {},
   "outputs": [
    {
     "name": "stdout",
     "output_type": "stream",
     "text": [
      "My name is            Tuhin\n"
     ]
    }
   ],
   "source": [
    "print('My name is %16s' %'Tuhin')"
   ]
  },
  {
   "cell_type": "code",
   "execution_count": 8,
   "metadata": {},
   "outputs": [
    {
     "name": "stdout",
     "output_type": "stream",
     "text": [
      "Result value 00123.4568\n",
      "Result value   123.4568\n",
      "Result value 123.456789000\n",
      "Result value 0000123.46\n"
     ]
    }
   ],
   "source": [
    "result = 123.456789\n",
    "\n",
    "print(\"Result value %010.4f\" %result)\n",
    "print(\"Result value %10.4f\" %result)\n",
    "print(\"Result value %010.09f\" %result)\n",
    "print(\"Result value %010.02f\" %result)"
   ]
  }
 ],
 "metadata": {
  "kernelspec": {
   "display_name": "Python 3",
   "language": "python",
   "name": "python3"
  },
  "language_info": {
   "codemirror_mode": {
    "name": "ipython",
    "version": 3
   },
   "file_extension": ".py",
   "mimetype": "text/x-python",
   "name": "python",
   "nbconvert_exporter": "python",
   "pygments_lexer": "ipython3",
   "version": "3.7.4"
  }
 },
 "nbformat": 4,
 "nbformat_minor": 2
}
