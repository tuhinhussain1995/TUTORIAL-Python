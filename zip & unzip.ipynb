{
 "cells": [
  {
   "cell_type": "markdown",
   "metadata": {},
   "source": [
    "1. zip() makes an iterator that aggregates elements from each of the iterables.\n",
    "2. Returns an iterator of tuples.\n",
    "3. The iterator stops when the shortest input iterable is exhausted. \n",
    "4. With a single iterable argument, it returns an iterator of 1-tuples. With no arguments, it returns an empty iterator."
   ]
  },
  {
   "cell_type": "markdown",
   "metadata": {},
   "source": [
    "# zipping"
   ]
  },
  {
   "cell_type": "code",
   "execution_count": 1,
   "metadata": {},
   "outputs": [
    {
     "name": "stdout",
     "output_type": "stream",
     "text": [
      "<zip object at 0x000001F5E6EBB108>\n",
      "[(1, 'a'), (2, 'b'), (3, 'c')]\n"
     ]
    }
   ],
   "source": [
    "myList1 = [1, 2, 3]\n",
    "myList2 = ['a', 'b', 'c']\n",
    "print(zip(myList1, myList2))\n",
    "\n",
    "print(list(zip(myList1, myList2)))"
   ]
  },
  {
   "cell_type": "code",
   "execution_count": 6,
   "metadata": {},
   "outputs": [
    {
     "name": "stdout",
     "output_type": "stream",
     "text": [
      "[]\n",
      "{(3, 'three'), (2, 'two'), (1, 'one')}\n"
     ]
    }
   ],
   "source": [
    "number_list = [1, 2, 3]\n",
    "str_list = ['one', 'two', 'three']\n",
    "\n",
    "result = zip()\n",
    "\n",
    "result_list = list(result)\n",
    "print(result_list)\n",
    "\n",
    "result = zip(number_list, str_list)\n",
    "\n",
    "result_set = set(result)\n",
    "print(result_set)"
   ]
  },
  {
   "cell_type": "code",
   "execution_count": 3,
   "metadata": {},
   "outputs": [
    {
     "name": "stdout",
     "output_type": "stream",
     "text": [
      "1 --- a --- 100\n",
      "2 --- b --- 200\n",
      "3 --- c --- 300\n"
     ]
    }
   ],
   "source": [
    "myList1 = [1, 2, 3]\n",
    "myList2 = ['a', 'b', 'c']\n",
    "myList3 = [100, 200, 300]\n",
    "\n",
    "for item1, item2, item3 in zip(myList1, myList2, myList3):\n",
    "    print('%d --- %s --- %d' %(item1, item2, item3))"
   ]
  },
  {
   "cell_type": "code",
   "execution_count": 4,
   "metadata": {},
   "outputs": [
    {
     "name": "stdout",
     "output_type": "stream",
     "text": [
      "1 --- a --- 100\n",
      "2 --- b --- 200\n",
      "3 --- c --- 300\n"
     ]
    }
   ],
   "source": [
    "myList1 = [1, 2, 3]\n",
    "myList2 = ['a', 'b', 'c']\n",
    "myList3 = [100, 200, 300]\n",
    "\n",
    "for item1, item2, item3 in list(zip(myList1, myList2, myList3)):\n",
    "    print('%d --- %s --- %d' %(item1, item2, item3))"
   ]
  },
  {
   "cell_type": "code",
   "execution_count": 3,
   "metadata": {},
   "outputs": [
    {
     "name": "stdout",
     "output_type": "stream",
     "text": [
      "{(1, 'ONE'), (3, 'THREE'), (2, 'TWO')}\n",
      "{(2, 'two', 'TWO'), (1, 'one', 'ONE')}\n"
     ]
    }
   ],
   "source": [
    "numbersList = [1, 2, 3]\n",
    "str_list = ['one', 'two']\n",
    "numbers_tuple = ('ONE', 'TWO', 'THREE', 'FOUR')\n",
    "\n",
    "result = zip(numbersList, numbers_tuple)\n",
    "\n",
    "result_set = set(result)\n",
    "print(result_set)\n",
    "\n",
    "result = zip(numbersList, str_list, numbers_tuple)\n",
    "\n",
    "result_set = set(result)\n",
    "print(result_set)"
   ]
  },
  {
   "cell_type": "code",
   "execution_count": 2,
   "metadata": {},
   "outputs": [
    {
     "name": "stdout",
     "output_type": "stream",
     "text": [
      "(1, 'a', 100)\n",
      "(2, 'b', 200)\n",
      "(3, 'c', 300)\n",
      "<class 'tuple'>\n"
     ]
    }
   ],
   "source": [
    "myList1 = [1, 2, 3]\n",
    "myList2 = ['a', 'b', 'c']\n",
    "myList3 = [100, 200, 300]\n",
    "\n",
    "for item in zip(myList1, myList2, myList3):\n",
    "    print(item)\n",
    "    \n",
    "print(type(item))"
   ]
  },
  {
   "cell_type": "code",
   "execution_count": 1,
   "metadata": {},
   "outputs": [
    {
     "name": "stdout",
     "output_type": "stream",
     "text": [
      "['A-a', 'B-b']\n"
     ]
    }
   ],
   "source": [
    "def concatenate(L1, L2, connector):\n",
    "    \n",
    "    return [a+connector+b for (a, b) in zip(L1, L2)]\n",
    "\n",
    "print(concatenate(['A','B'],['a','b'],'-'))"
   ]
  },
  {
   "cell_type": "markdown",
   "metadata": {},
   "source": [
    "# unzipping"
   ]
  },
  {
   "cell_type": "code",
   "execution_count": 4,
   "metadata": {},
   "outputs": [
    {
     "name": "stdout",
     "output_type": "stream",
     "text": [
      "[('x', 3), ('y', 4), ('z', 5)]\n",
      "c = ('x', 'y', 'z')\n",
      "v = (3, 4, 5)\n"
     ]
    }
   ],
   "source": [
    "coordinate = ['x', 'y', 'z']\n",
    "value = [3, 4, 5]\n",
    "\n",
    "result = zip(coordinate, value)\n",
    "result_list = list(result)\n",
    "print(result_list)\n",
    "\n",
    "c, v =  zip(*result_list)\n",
    "print('c =', c)\n",
    "print('v =', v)"
   ]
  },
  {
   "cell_type": "code",
   "execution_count": 2,
   "metadata": {},
   "outputs": [
    {
     "name": "stdout",
     "output_type": "stream",
     "text": [
      "[('apple', 'orange', 'milk'), (2.99, 2.15, 2.8)]\n",
      "\n",
      "('apple', 'orange', 'milk')\n",
      "['apple', 'orange', 'milk']\n",
      "\n",
      "(2.99, 2.15, 2.8)\n",
      "[2.99, 2.15, 2.8]\n"
     ]
    }
   ],
   "source": [
    "price = {'apple' : 2.99, 'orange' : 2.15, 'milk' : 2.80}\n",
    "\n",
    "newList = list(zip(*(price.items())))           # unzipping\n",
    "print(newList)\n",
    "\n",
    "print()\n",
    "\n",
    "print(newList[0])\n",
    "print(list(newList[0]))\n",
    "\n",
    "print()\n",
    "\n",
    "print(newList[1])\n",
    "print(list(newList[1]))"
   ]
  },
  {
   "cell_type": "code",
   "execution_count": 1,
   "metadata": {},
   "outputs": [
    {
     "name": "stdout",
     "output_type": "stream",
     "text": [
      "(('apple', 'orange', 'milk'), (2.99, 2.15, 2.8))\n",
      "\n",
      "('apple', 'orange', 'milk')\n",
      "(2.99, 2.15, 2.8)\n"
     ]
    }
   ],
   "source": [
    "price = {'apple' : 2.99, 'orange' : 2.15, 'milk' : 2.80}\n",
    "\n",
    "newTuple = tuple(zip(*(price.items())))           # unzipping\n",
    "print(newTuple)\n",
    "\n",
    "print()\n",
    "\n",
    "print(newTuple[0])\n",
    "print(newTuple[1])"
   ]
  }
 ],
 "metadata": {
  "kernelspec": {
   "display_name": "Python 3",
   "language": "python",
   "name": "python3"
  },
  "language_info": {
   "codemirror_mode": {
    "name": "ipython",
    "version": 3
   },
   "file_extension": ".py",
   "mimetype": "text/x-python",
   "name": "python",
   "nbconvert_exporter": "python",
   "pygments_lexer": "ipython3",
   "version": "3.7.4"
  }
 },
 "nbformat": 4,
 "nbformat_minor": 2
}
