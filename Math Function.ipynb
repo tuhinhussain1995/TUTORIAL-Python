{
 "cells": [
  {
   "cell_type": "markdown",
   "metadata": {},
   "source": [
    "# math"
   ]
  },
  {
   "cell_type": "raw",
   "metadata": {},
   "source": [
    "math.ceil(s)            ceiling value\n",
    "math.fabs(x)            absulate value\n",
    "math.factorial(x)       factorial\n",
    "math.floor(x)           floor value\n",
    "math.fmod(x, y)         x % y\n",
    "math.fsum(x,y,...)      sum     \n",
    "math.gcd(x, y)          greatest common divisor\n",
    "math.isqrt(x)\n",
    "math.remainder(x, y)"
   ]
  },
  {
   "cell_type": "code",
   "execution_count": null,
   "metadata": {},
   "outputs": [],
   "source": []
  },
  {
   "cell_type": "code",
   "execution_count": 20,
   "metadata": {},
   "outputs": [
    {
     "name": "stdout",
     "output_type": "stream",
     "text": [
      "-1.0\n",
      "0.9999999999999999\n",
      "1.0\n"
     ]
    }
   ],
   "source": [
    "import math\n",
    "\n",
    "print(math.remainder(2, 3))\n",
    "\n",
    "print(sum([.1, .1, .1, .1, .1, .1, .1, .1, .1, .1]))\n",
    "print(math.fsum([.1, .1, .1, .1, .1, .1, .1, .1, .1, .1]))"
   ]
  }
 ],
 "metadata": {
  "kernelspec": {
   "display_name": "Python 3",
   "language": "python",
   "name": "python3"
  },
  "language_info": {
   "codemirror_mode": {
    "name": "ipython",
    "version": 3
   },
   "file_extension": ".py",
   "mimetype": "text/x-python",
   "name": "python",
   "nbconvert_exporter": "python",
   "pygments_lexer": "ipython3",
   "version": "3.7.4"
  }
 },
 "nbformat": 4,
 "nbformat_minor": 2
}
