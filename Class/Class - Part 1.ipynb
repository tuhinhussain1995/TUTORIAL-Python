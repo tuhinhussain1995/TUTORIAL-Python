{
 "cells": [
  {
   "cell_type": "markdown",
   "metadata": {},
   "source": [
    "### if the function is called inside the class it calls method \n",
    "\n",
    "### 2 types or variable. These are instance and class variable\n",
    "#### if we define variable inside __init__ calls instance variables\n",
    "#### if we define variable outside __init__ but inside class calls class variable"
   ]
  },
  {
   "cell_type": "markdown",
   "metadata": {},
   "source": [
    "## Class Exercise: 1"
   ]
  },
  {
   "cell_type": "code",
   "execution_count": 1,
   "metadata": {},
   "outputs": [
    {
     "name": "stdout",
     "output_type": "stream",
     "text": [
      "<class '__main__.Dog'>\n",
      "lab\n",
      "Sammy\n",
      "False\n"
     ]
    }
   ],
   "source": [
    "class Dog:\n",
    "    def __init__(self, breed, name, spots):                    # __init__ refers to constructor\n",
    "        \n",
    "        self.breed = breed\n",
    "        self.name = name\n",
    "        self.spots = spots\n",
    "        \n",
    "if __name__=='__main__':\n",
    "    my_dog = Dog(breed = 'lab', name = 'Sammy', spots = False)  # my_dog refers to creating new object\n",
    "    print(type(my_dog))  \n",
    "\n",
    "    print(my_dog.breed)\n",
    "    print(my_dog.name)\n",
    "    print(my_dog.spots)"
   ]
  },
  {
   "cell_type": "code",
   "execution_count": 2,
   "metadata": {},
   "outputs": [
    {
     "name": "stdout",
     "output_type": "stream",
     "text": [
      "<class '__main__.Dog'>\n",
      "mammal\n",
      "Lab\n",
      "Sam\n",
      "True\n"
     ]
    }
   ],
   "source": [
    "class Dog:\n",
    "    \n",
    "    species = 'mammal'\n",
    "    \n",
    "    def __init__(self, breed, name, spots):\n",
    "        \n",
    "        self.breed = breed\n",
    "        self.name = name\n",
    "        self.spots = spots\n",
    "        \n",
    "if __name__=='__main__':\n",
    "    my_dog = Dog(breed='Lab', name='Sam', spots=True)\n",
    "    print(type(my_dog))   \n",
    "\n",
    "    print(my_dog.species)\n",
    "    print(my_dog.breed)\n",
    "    print(my_dog.name)\n",
    "    print(my_dog.spots)"
   ]
  },
  {
   "cell_type": "code",
   "execution_count": 3,
   "metadata": {},
   "outputs": [
    {
     "name": "stdout",
     "output_type": "stream",
     "text": [
      "<class '__main__.Dog'>\n",
      "mammal\n",
      "Lab\n",
      "Frankie\n",
      "Species Name: mammal\n",
      "Name: Frankie\n",
      "Breed:  Lab\n"
     ]
    }
   ],
   "source": [
    "class Dog:\n",
    "    \n",
    "    species = 'mammal'\n",
    "    \n",
    "    def __init__(self, breed, name):\n",
    "        \n",
    "        self.breed = breed\n",
    "        self.name = name\n",
    "        \n",
    "    def introduction(self):\n",
    "        print('Species Name:', self.species)         # or Dog.species\n",
    "        print('Name:', self.name)\n",
    "        print('Breed: ', self.breed)\n",
    "        \n",
    "\n",
    "if __name__=='__main__':\n",
    "    my_dog = Dog('Lab', 'Frankie')\n",
    "    print(type(my_dog))  \n",
    "\n",
    "    print(my_dog.species)\n",
    "    print(my_dog.breed)\n",
    "    print(my_dog.name)\n",
    "\n",
    "    my_dog.introduction()"
   ]
  },
  {
   "cell_type": "code",
   "execution_count": 4,
   "metadata": {},
   "outputs": [
    {
     "name": "stdout",
     "output_type": "stream",
     "text": [
      "<class '__main__.Dog'>\n",
      "mammal\n",
      "Lab\n",
      "Frankie\n",
      "Species: mammal, Name: Frankie and Number: 19\n"
     ]
    }
   ],
   "source": [
    "class Dog:\n",
    "    \n",
    "    species = 'mammal'\n",
    "    \n",
    "    def __init__(self, breed, name):\n",
    "        \n",
    "        self.breed = breed\n",
    "        self.name = name\n",
    "        \n",
    "    def bark(self, number):\n",
    "        print(\"Species: {2}, Name: {0} and Number: {1}\".format(self.name,number, self.species))    # or Dog.species\n",
    "        \n",
    "\n",
    "if __name__=='__main__':\n",
    "    my_dog = Dog('Lab', 'Frankie')\n",
    "    print(type(my_dog))\n",
    "\n",
    "    print(my_dog.species)\n",
    "    print(my_dog.breed)\n",
    "    print(my_dog.name)\n",
    "\n",
    "    my_dog.bark(19)"
   ]
  },
  {
   "cell_type": "code",
   "execution_count": 5,
   "metadata": {},
   "outputs": [
    {
     "name": "stdout",
     "output_type": "stream",
     "text": [
      "<class '__main__.Dog'>\n",
      "mammal\n",
      "Lab\n",
      "Frankie\n",
      "Species: mammal, Name: Frankie and Number: 19\n"
     ]
    }
   ],
   "source": [
    "class Dog:\n",
    "    species = 'mammal'\n",
    "\n",
    "    def __init__(self, breed, name):\n",
    "        self.breed = breed\n",
    "        self.name = name\n",
    "\n",
    "    def bark(self, number):\n",
    "        return \"Species: {2}, Name: {0} and Number: {1}\".format(self.name,number, self.species)      # or Dog.species\n",
    "\n",
    "\n",
    "if __name__=='__main__':\n",
    "    my_dog = Dog('Lab', 'Frankie')\n",
    "    print(type(my_dog))\n",
    "\n",
    "    print(my_dog.species)\n",
    "    print(my_dog.breed)\n",
    "    print(my_dog.name)\n",
    "\n",
    "    print(my_dog.bark(19))  "
   ]
  },
  {
   "cell_type": "markdown",
   "metadata": {},
   "source": [
    "## Class Exercise: 2"
   ]
  },
  {
   "cell_type": "code",
   "execution_count": 7,
   "metadata": {},
   "outputs": [
    {
     "name": "stdout",
     "output_type": "stream",
     "text": [
      "i5, 16gb, 1TB\n",
      "i5, 16gb, 1TB\n"
     ]
    }
   ],
   "source": [
    "class Computer:\n",
    "    def config(self):            # self is pointing to the object com1 or com2 or so on\n",
    "        print(\"i5, 16gb, 1TB\")\n",
    "       \n",
    "    \n",
    "if __name__== '__main__':\n",
    "    com1 = Computer()\n",
    "    com2 = Computer()\n",
    "\n",
    "    com1.config()\n",
    "    com2.config()"
   ]
  },
  {
   "cell_type": "code",
   "execution_count": 8,
   "metadata": {},
   "outputs": [
    {
     "name": "stdout",
     "output_type": "stream",
     "text": [
      "Config is: i9 16\n",
      "Config is: Ryzen 3 8\n"
     ]
    }
   ],
   "source": [
    "class Computer:\n",
    "    \n",
    "    def __init__(self, cpu, ram):          # __init__ is the constructor\n",
    "        self.cpu = cpu\n",
    "        self.ram = ram\n",
    "    \n",
    "    def config(self):           # self is pointing to the object com1 or com2 or so on\n",
    "        print(\"Config is:\" , self.cpu, self.ram)\n",
    "        \n",
    "    \n",
    "if __name__=='__main__':\n",
    "    com1 = Computer('i5', 16)\n",
    "    com2 = Computer('Ryzen 3', 8)\n",
    "\n",
    "    com1.cpu = 'i9'\n",
    "\n",
    "    com1.config()\n",
    "    com2.config()"
   ]
  },
  {
   "cell_type": "code",
   "execution_count": 9,
   "metadata": {},
   "outputs": [
    {
     "name": "stdout",
     "output_type": "stream",
     "text": [
      "Config is: i3 8\n",
      "Config is: i9 32\n",
      "Config is: i5 16\n",
      "Config is: Ryzen 3 12\n"
     ]
    }
   ],
   "source": [
    "class Computer:\n",
    "    \n",
    "    def __init__(self, cpu='i3', ram=4):          # __init__ is the constructor\n",
    "        self.cpu = cpu\n",
    "        self.ram = ram\n",
    "    \n",
    "    def config(self):           # self is pointing to the object com1 or com2 or so on\n",
    "        print(\"Config is:\" , self.cpu, self.ram)\n",
    "      \n",
    "    \n",
    "if __name__=='__main__':\n",
    "    com1 = Computer()\n",
    "    com2 = Computer(ram=32)\n",
    "    com3 = Computer('i5', 16)\n",
    "    com4 = Computer('Ryzen 3', 12)\n",
    "\n",
    "    com1.ram = 8\n",
    "    com2.cpu = 'i9'\n",
    "\n",
    "    com1.config()\n",
    "    com2.config()\n",
    "    com3.config()\n",
    "    com4.config()"
   ]
  },
  {
   "cell_type": "code",
   "execution_count": 10,
   "metadata": {},
   "outputs": [
    {
     "name": "stdout",
     "output_type": "stream",
     "text": [
      "i5\n",
      "i5  ---  4\n",
      "i3  ---  16\n"
     ]
    }
   ],
   "source": [
    "class Computer:\n",
    "    \n",
    "    def __init__(self):\n",
    "        self.cpu = \"i3\"\n",
    "        self.ram = 4\n",
    "        \n",
    "    def config(self):\n",
    "        return (self.cpu, self.ram)\n",
    "      \n",
    "        \n",
    "if __name__=='__main__':\n",
    "    com1 = Computer()\n",
    "    com2 = Computer()\n",
    "\n",
    "    com1.cpu = \"i5\"\n",
    "    print(com1.cpu)\n",
    "\n",
    "    com2.ram = 16\n",
    "\n",
    "    myCpu, myRam = com1.config()\n",
    "    print(myCpu, \" --- \",myRam)\n",
    "\n",
    "    myCpu, myRam = com2.config()\n",
    "    print(myCpu, \" --- \",myRam)"
   ]
  },
  {
   "cell_type": "markdown",
   "metadata": {},
   "source": [
    "## Class Exercise: 3"
   ]
  },
  {
   "cell_type": "code",
   "execution_count": 11,
   "metadata": {},
   "outputs": [
    {
     "name": "stdout",
     "output_type": "stream",
     "text": [
      "3.141592653589793\n",
      "5\n",
      "78.53981633974483\n"
     ]
    }
   ],
   "source": [
    "import math;\n",
    "\n",
    "class Circle():\n",
    "    pi = math.pi\n",
    "    \n",
    "    def __init__(self, radius=1):\n",
    "        self.radius = radius\n",
    "        \n",
    "    def get_circumference(self):\n",
    "        return self.pi * pow(self.radius, 2)    # self.pi or Circle.pi\n",
    "    \n",
    "    \n",
    "if __name__=='__main__':\n",
    "    my_circle = Circle(5)\n",
    "\n",
    "    print(my_circle.pi)\n",
    "    print(my_circle.radius)\n",
    "    print(my_circle.get_circumference())     "
   ]
  },
  {
   "cell_type": "code",
   "execution_count": 12,
   "metadata": {},
   "outputs": [
    {
     "name": "stdout",
     "output_type": "stream",
     "text": [
      "3.141592653589793\n",
      "2\n",
      "12.566370614359172\n",
      "12.566370614359172\n"
     ]
    }
   ],
   "source": [
    "import math;\n",
    "\n",
    "class Circle():\n",
    "    pi = math.pi\n",
    "    \n",
    "    def __init__(self, radius=2):\n",
    "        self.radius = radius\n",
    "        self.area = Circle.pi * pow(radius, 2)\n",
    "        \n",
    "    def get_circumference(self):\n",
    "        return Circle.pi * pow(self.radius, 2)    # self.pi or Circle.pi\n",
    "    \n",
    "    \n",
    "if __name__== '__main__':\n",
    "    my_circle = Circle()\n",
    "\n",
    "    print(my_circle.pi)\n",
    "    print(my_circle.radius)\n",
    "\n",
    "    print(my_circle.area)\n",
    "\n",
    "    print(my_circle.get_circumference())"
   ]
  },
  {
   "cell_type": "markdown",
   "metadata": {},
   "source": [
    "## Class Exercise: 4 "
   ]
  },
  {
   "cell_type": "code",
   "execution_count": 3,
   "metadata": {},
   "outputs": [
    {
     "name": "stdout",
     "output_type": "stream",
     "text": [
      "9.433981132056603\n",
      "1.6\n"
     ]
    }
   ],
   "source": [
    "class Line:\n",
    "    \n",
    "    def __init__(self,coor1,coor2):\n",
    "        self.coor1 = coor1\n",
    "        self.coor2 = coor2\n",
    "    \n",
    "    def distance(self):\n",
    "        x1, y1 = self.coor1\n",
    "        x2, y2 = self.coor2\n",
    "        \n",
    "        return ((x2-x1)**2 + (y2-y1)**2)**.5\n",
    "    \n",
    "    def slope(self):\n",
    "        x1,y1 = self.coor1\n",
    "        x2,y2 = self.coor2\n",
    "        \n",
    "        return (y2-y1)/(x2-x1)\n",
    "    \n",
    "coordinate1 = (3,2)\n",
    "coordinate2 = (8,10)\n",
    "\n",
    "li = Line(coordinate1,coordinate2)\n",
    "\n",
    "print(li.distance())\n",
    "print(li.slope() )   "
   ]
  },
  {
   "cell_type": "code",
   "execution_count": 4,
   "metadata": {},
   "outputs": [
    {
     "name": "stdout",
     "output_type": "stream",
     "text": [
      "56.548667764616276\n",
      "94.24777960769379\n"
     ]
    }
   ],
   "source": [
    "from math import pi\n",
    "\n",
    "class Cylinder:\n",
    "    \n",
    "    def __init__(self,height=1,radius=1):\n",
    "        self.height = height\n",
    "        self.radius = radius\n",
    "        \n",
    "    def volume(self):\n",
    "        return pi*(self.radius)**2 * self.height\n",
    "    \n",
    "    def surface_area(self):\n",
    "        return (2*pi*self.radius*self.height)+(2*pi*(self.radius)**2)\n",
    "    \n",
    "c = Cylinder(2,3)  \n",
    "print(c.volume())\n",
    "print(c.surface_area())"
   ]
  },
  {
   "cell_type": "markdown",
   "metadata": {},
   "source": [
    "# Class variable value changing"
   ]
  },
  {
   "cell_type": "code",
   "execution_count": 13,
   "metadata": {},
   "outputs": [
    {
     "name": "stdout",
     "output_type": "stream",
     "text": [
      "BMW 7 4\n",
      "BMW 10 4 \n",
      "\n",
      "BMW 7 6\n",
      "BMW 10 6\n"
     ]
    }
   ],
   "source": [
    "class Car:\n",
    "    wheels = 4                  # wheels is class variable\n",
    "    \n",
    "    def __init__(self):\n",
    "        self.company = \"BMW\"\n",
    "        self.mileage = 10\n",
    "        \n",
    "        \n",
    "if __name__ == '__main__':\n",
    "    c1 = Car()\n",
    "    c2 = Car()\n",
    "\n",
    "    c1.mileage = 7\n",
    "\n",
    "    print(c1.company, c1.mileage, c1.wheels)\n",
    "    print(c2.company, c2.mileage, c2.wheels, '\\n')\n",
    "\n",
    "    Car.wheels = 6\n",
    "\n",
    "    print(c1.company, c1.mileage, c1.wheels)\n",
    "    print(c2.company, c2.mileage, c2.wheels)"
   ]
  },
  {
   "cell_type": "markdown",
   "metadata": {},
   "source": [
    "## Full Class "
   ]
  },
  {
   "cell_type": "code",
   "execution_count": 14,
   "metadata": {},
   "outputs": [
    {
     "name": "stdout",
     "output_type": "stream",
     "text": [
      "mammal\n",
      "lab\n",
      "sammy\n",
      "False\n",
      "I can bark. WOOF!!!\n",
      "My name is sammy and my speed is 20 m/s\n",
      "My name is sammy and my speed is 45 m/s\n",
      "I am from mammal\n"
     ]
    }
   ],
   "source": [
    "class Dog():\n",
    "    \n",
    "    species = 'mammal'\n",
    "    \n",
    "    def __init__(self, breed, name, sports):\n",
    "        self.breed = breed\n",
    "        self.name = name\n",
    "        self.sports = sports\n",
    "        \n",
    "    def bark(self):\n",
    "        return \"I can bark. WOOF!!!\"\n",
    "        \n",
    "    def run(self, number=20):\n",
    "        print(\"My name is {0} and my speed is {1} m/s\".format(self.name, number))\n",
    "        \n",
    "    def talk(self):\n",
    "        return \"I am from \" + self.species                         # or Dog.species\n",
    "        \n",
    "\n",
    "if __name__== '__main__':\n",
    "    myDog = Dog(breed='lab', name='sammy', sports=False)\n",
    "\n",
    "    print(myDog.species)\n",
    "\n",
    "    print(myDog.breed)\n",
    "    print(myDog.name)\n",
    "    print(myDog.sports)\n",
    "\n",
    "    print(myDog.bark())\n",
    "\n",
    "    myDog.run()\n",
    "    myDog.run(45)\n",
    "\n",
    "    print(myDog.talk())   "
   ]
  },
  {
   "cell_type": "code",
   "execution_count": 16,
   "metadata": {},
   "outputs": [
    {
     "name": "stdout",
     "output_type": "stream",
     "text": [
      "Human is called\n",
      "My species is: mammal\n",
      "My name is:  abcd\n",
      "My age is:  2\n",
      "My moving speed is:  12\n",
      "My height is:  2.6\n",
      "I can speak\n",
      "I have 2 eyes\n",
      "\n",
      "Human is called\n",
      "My species is: mammal\n",
      "My name is:  tuhin\n",
      "My age is:  24\n",
      "My moving speed is:  21\n",
      "My height is:  5.5\n",
      "I can speak\n",
      "I have 4 eyes\n"
     ]
    }
   ],
   "source": [
    "class Human():\n",
    "    species = 'mammal'\n",
    "\n",
    "    def __init__(self, name='abcd', age=2, height=2.6):\n",
    "        print('Human is called')\n",
    "        self.name = name\n",
    "        self.age = age\n",
    "        self.height = height\n",
    "\n",
    "    def speak(self):\n",
    "        return 'I can speak'\n",
    "\n",
    "    def eyes(self, eye=2):\n",
    "        return f'I have {eye} eyes'\n",
    "\n",
    "    def introduction(self, speed, myEyes=2):\n",
    "        print('My species is: ' + Human.species)\n",
    "        print('My name is: ', self.name)\n",
    "        print('My age is: ', self.age)\n",
    "        print('My moving speed is: ', speed)\n",
    "        print('My height is: ', self.height)\n",
    "        \n",
    "        print(self.speak())\n",
    "        print(self.eyes(myEyes))\n",
    "\n",
    "\n",
    "if __name__== '__main__':\n",
    "    human = Human()\n",
    "    human.introduction(12)    \n",
    "\n",
    "    print()\n",
    "\n",
    "    human = Human('tuhin', 24, 5.5)\n",
    "    human.introduction(21, 4)   "
   ]
  }
 ],
 "metadata": {
  "kernelspec": {
   "display_name": "Python 3",
   "language": "python",
   "name": "python3"
  },
  "language_info": {
   "codemirror_mode": {
    "name": "ipython",
    "version": 3
   },
   "file_extension": ".py",
   "mimetype": "text/x-python",
   "name": "python",
   "nbconvert_exporter": "python",
   "pygments_lexer": "ipython3",
   "version": "3.7.4"
  }
 },
 "nbformat": 4,
 "nbformat_minor": 2
}
