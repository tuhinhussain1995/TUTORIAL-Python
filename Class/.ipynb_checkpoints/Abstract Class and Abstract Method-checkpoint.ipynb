{
 "cells": [
  {
   "cell_type": "code",
   "execution_count": 2,
   "metadata": {},
   "outputs": [],
   "source": [
    "# Abstract class that has at least one pure abstract method.\n",
    "# Abstract method that has only method decleration but doesn't has method defination(body).\n",
    "\n",
    "# Like all Animal can make sound. But the Base class or super class Animal doesn't has or to create any sound.\n",
    "# But the derived class Human, Dog, Cat can create sound."
   ]
  },
  {
   "cell_type": "code",
   "execution_count": 6,
   "metadata": {},
   "outputs": [
    {
     "name": "stdout",
     "output_type": "stream",
     "text": [
      "I have 3 sides\n",
      "I have 4 sides\n",
      "I have 5 sides\n",
      "I have 6 sides\n",
      "From Polygon\n"
     ]
    }
   ],
   "source": [
    "from abc import ABC, abstractmethod\n",
    "\n",
    "class Polygon(ABC):                                # abstract class\n",
    "    @abstractmethod                                # abstract method\n",
    "    def noofsides(self):\n",
    "        pass\n",
    "    \n",
    "    def introduction(self):                        # instance method\n",
    "        print(\"From Polygon\")\n",
    "\n",
    "class Triangle(Polygon):\n",
    "    def noofsides(self):                           # overriding abstract method\n",
    "        print(\"I have 3 sides\")\n",
    "\n",
    "class Pentagon(Polygon):\n",
    "    def noofsides(self):                           # overriding abstract method\n",
    "        print(\"I have 5 sides\")\n",
    "\n",
    "class Hexagon(Polygon):\n",
    "    def noofsides(self):                           # overriding abstract method\n",
    "        print(\"I have 6 sides\")\n",
    "\n",
    "class Quadrilateral(Polygon):\n",
    "    def noofsides(self):                           # overriding abstract method\n",
    "        print(\"I have 4 sides\")\n",
    "\n",
    "\n",
    "if __name__==\"__main__\":\n",
    "    # P = Polygon()                     # we can't create object from abstract class Polygon\n",
    "    \n",
    "    R = Triangle()\n",
    "    R.noofsides()\n",
    "\n",
    "    K = Quadrilateral()\n",
    "    K.noofsides()\n",
    "\n",
    "    R = Pentagon()\n",
    "    R.noofsides()\n",
    "\n",
    "    K = Hexagon()\n",
    "    K.noofsides()\n",
    "    K.introduction()"
   ]
  },
  {
   "cell_type": "code",
   "execution_count": 7,
   "metadata": {},
   "outputs": [
    {
     "name": "stdout",
     "output_type": "stream",
     "text": [
      "Kane's intro Music\n",
      "Tombstone\n",
      "The Wrestler made $3750.0\n",
      "John Cina's intro Music\n",
      "Stone cold stunner\n",
      "The Wrestler made $5250.0\n"
     ]
    }
   ],
   "source": [
    "from abc import ABC, abstractmethod\n",
    "\n",
    "class Wrestler(ABC):\n",
    "    @abstractmethod\n",
    "    def themeMusic(self):\n",
    "        pass\n",
    "\n",
    "    @abstractmethod\n",
    "    def finisher(self):\n",
    "        pass\n",
    "\n",
    "    def paymentForWork(self, hours):\n",
    "        print(\"The Wrestler made $\"+ str(float(hours*250)))\n",
    "\n",
    "class Kane(Wrestler):\n",
    "    def themeMusic(self):\n",
    "        print(\"Kane's intro Music\")\n",
    "\n",
    "    def finisher(self):\n",
    "        print(\"Tombstone\")\n",
    "\n",
    "\n",
    "class JohnCina(Wrestler):\n",
    "    def themeMusic(self):\n",
    "        print(\"John Cina's intro Music\")\n",
    "\n",
    "    def finisher(self):\n",
    "        print(\"Stone cold stunner\")\n",
    "\n",
    "if __name__=='__main__':\n",
    "    kane = Kane()\n",
    "    kane.themeMusic()\n",
    "    kane.finisher()\n",
    "    kane.paymentForWork(15)\n",
    "\n",
    "    john = JohnCina()\n",
    "    john.themeMusic()\n",
    "    john.finisher()\n",
    "    john.paymentForWork(21)\n"
   ]
  },
  {
   "cell_type": "code",
   "execution_count": 8,
   "metadata": {},
   "outputs": [
    {
     "name": "stdout",
     "output_type": "stream",
     "text": [
      "Kane's intro Music\n",
      "Tombstone\n",
      "The Wrestler made $5500.0\n",
      "John Cina's intro Music\n",
      "Stone cold stunner\n",
      "The Wrestler made $7500.0\n"
     ]
    }
   ],
   "source": [
    "from abc import ABC, abstractmethod\n",
    "\n",
    "class Wrestler(ABC):\n",
    "    def __init__(self, hour=0):\n",
    "        self.hours = hour\n",
    "\n",
    "    @abstractmethod\n",
    "    def themeMusic(self):\n",
    "        pass\n",
    "\n",
    "    @abstractmethod\n",
    "    def finisher(self):\n",
    "        pass\n",
    "\n",
    "    def paymentForWork(self):\n",
    "        print(\"The Wrestler made $\"+ str(float(self.hours*250)))\n",
    "\n",
    "class Kane(Wrestler):\n",
    "    def __init__(self, hour=0):\n",
    "        super().__init__(hour)\n",
    "\n",
    "    def themeMusic(self):\n",
    "        print(\"Kane's intro Music\")\n",
    "\n",
    "    def finisher(self):\n",
    "        print(\"Tombstone\")\n",
    "\n",
    "\n",
    "class JohnCina(Wrestler):\n",
    "    def __init__(self, hour=0):\n",
    "        super().__init__(hour)\n",
    "\n",
    "    def themeMusic(self):\n",
    "        print(\"John Cina's intro Music\")\n",
    "\n",
    "    def finisher(self):\n",
    "        print(\"Stone cold stunner\")\n",
    "\n",
    "if __name__=='__main__':\n",
    "    kane = Kane(22)\n",
    "    kane.themeMusic()\n",
    "    kane.finisher()\n",
    "    kane.paymentForWork()\n",
    "\n",
    "    john = JohnCina(30)\n",
    "    john.themeMusic()\n",
    "    john.finisher()\n",
    "    john.paymentForWork()\n"
   ]
  }
 ],
 "metadata": {
  "kernelspec": {
   "display_name": "Python 3",
   "language": "python",
   "name": "python3"
  },
  "language_info": {
   "codemirror_mode": {
    "name": "ipython",
    "version": 3
   },
   "file_extension": ".py",
   "mimetype": "text/x-python",
   "name": "python",
   "nbconvert_exporter": "python",
   "pygments_lexer": "ipython3",
   "version": "3.7.4"
  }
 },
 "nbformat": 4,
 "nbformat_minor": 2
}
