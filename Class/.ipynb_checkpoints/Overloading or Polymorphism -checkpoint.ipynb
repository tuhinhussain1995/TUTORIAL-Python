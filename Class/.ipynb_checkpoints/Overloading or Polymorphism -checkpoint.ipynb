{
 "cells": [
  {
   "cell_type": "markdown",
   "metadata": {},
   "source": [
    "#### if inheritance is applied between classes =====> Overriding       -------------------------> inside same class\n",
    "#### if inheritance is not applied between classes ==> Overloading or Polymorphism --> inside different class (class must be inherited)"
   ]
  },
  {
   "cell_type": "code",
   "execution_count": 1,
   "metadata": {},
   "outputs": [
    {
     "name": "stdout",
     "output_type": "stream",
     "text": [
      "11\n"
     ]
    }
   ],
   "source": [
    "class Student:\n",
    "    def __init__(self, m1, m2):\n",
    "        self.m1 = m1\n",
    "        self.m2 = m2\n",
    "        \n",
    "    def summation(self, a=None, b=None, c=None):\n",
    "        if a != None and b != None and c != None:\n",
    "            s = a+b+c\n",
    "        elif a != None and b != None:\n",
    "            s = a+b\n",
    "        else:\n",
    "            s = a\n",
    "        \n",
    "        return s\n",
    "    \n",
    "    \n",
    "if __name__== '__main__':\n",
    "    s1 = Student(34, 23)\n",
    "    print(s1.summation(3, 4, 4))     "
   ]
  },
  {
   "cell_type": "code",
   "execution_count": 3,
   "metadata": {},
   "outputs": [
    {
     "name": "stdout",
     "output_type": "stream",
     "text": [
      "Name: Enemy, Lives: 1, Hit Point: 0\n",
      "Name: tuhin, Lives: 1, Hit Point: 0\n",
      "Name: nazrul, Lives: 1, Hit Point: 90\n",
      "Name: sumon, Lives: 1, Hit Point: 50\n"
     ]
    }
   ],
   "source": [
    "class Enemy:\n",
    "    def __init__(self, name='Enemy', hit_point=0, lives=1):\n",
    "        self.name = name\n",
    "        self.hit_point = hit_point\n",
    "        self.lives = lives\n",
    "\n",
    "    def __str__(self):\n",
    "        return \"Name: {0.name}, Lives: {0.lives}, Hit Point: {0.hit_point}\".format(self)\n",
    "\n",
    "if __name__==\"__main__\":\n",
    "    enemy1 = Enemy()\n",
    "    print(enemy1)\n",
    "\n",
    "    enemy2 = Enemy('tuhin')\n",
    "    print(enemy2)\n",
    "\n",
    "    enemy3 = Enemy('nazrul', 90)\n",
    "    print(enemy3)\n",
    "\n",
    "    enemy4 = Enemy('sumon', 50)\n",
    "    print(enemy4)"
   ]
  },
  {
   "cell_type": "code",
   "execution_count": 5,
   "metadata": {},
   "outputs": [
    {
     "name": "stdout",
     "output_type": "stream",
     "text": [
      "Name: Enemy, Lives: 1, Hit Point: 0\n",
      "Name: tuhin, Lives: 1, Hit Point: 0\n",
      "Name: nazrul, Lives: 1, Hit Point: 90\n",
      "Name: sumon, Lives: 1, Hit Point: 50\n"
     ]
    }
   ],
   "source": [
    "class Enemy:\n",
    "    def __init__(self, name='Enemy', hit_point=0, lives=1):\n",
    "        self.name = name\n",
    "        self.hit_point = hit_point\n",
    "        self.lives = lives\n",
    "\n",
    "    def __str__(self):\n",
    "        return \"Name: {0.name}, Lives: {0.lives}, Hit Point: {0.hit_point}\".format(self)\n",
    "\n",
    "\n",
    "class Troll(Enemy):     \n",
    "    pass\n",
    "\n",
    "\n",
    "if __name__==\"__main__\":\n",
    "    troll1 = Troll()\n",
    "    print(troll1)\n",
    "\n",
    "    troll2 = Troll('tuhin')\n",
    "    print(troll2)\n",
    "\n",
    "    troll3 = Troll('nazrul', 90)\n",
    "    print(troll3)\n",
    "\n",
    "    troll4 = Troll('sumon', 50)\n",
    "    print(troll4)"
   ]
  },
  {
   "cell_type": "markdown",
   "metadata": {},
   "source": [
    "## Polymorphism"
   ]
  },
  {
   "cell_type": "code",
   "execution_count": 1,
   "metadata": {},
   "outputs": [
    {
     "name": "stdout",
     "output_type": "stream",
     "text": [
      "Niko says Woof!\n",
      "Felix says Meow!\n"
     ]
    }
   ],
   "source": [
    "class Dog:\n",
    "    def __init__(self, name):\n",
    "        self.name = name\n",
    "\n",
    "    def speak(self):\n",
    "        return self.name+' says Woof!'\n",
    "    \n",
    "class Cat:\n",
    "    def __init__(self, name):\n",
    "        self.name = name\n",
    "\n",
    "    def speak(self):\n",
    "        return self.name+' says Meow!' \n",
    "    \n",
    "niko = Dog('Niko')\n",
    "felix = Cat('Felix')\n",
    "\n",
    "print(niko.speak())\n",
    "print(felix.speak())"
   ]
  },
  {
   "cell_type": "code",
   "execution_count": 2,
   "metadata": {},
   "outputs": [
    {
     "name": "stdout",
     "output_type": "stream",
     "text": [
      "Niko says Woof!\n",
      "Felix says Meow!\n"
     ]
    }
   ],
   "source": [
    "for pet in [niko,felix]:\n",
    "    print(pet.speak())"
   ]
  },
  {
   "cell_type": "code",
   "execution_count": 3,
   "metadata": {},
   "outputs": [
    {
     "name": "stdout",
     "output_type": "stream",
     "text": [
      "Niko says Woof!\n",
      "Felix says Meow!\n"
     ]
    }
   ],
   "source": [
    "def pet_speak(pet):\n",
    "    print(pet.speak())\n",
    "\n",
    "pet_speak(niko)\n",
    "pet_speak(felix)"
   ]
  },
  {
   "cell_type": "markdown",
   "metadata": {},
   "source": [
    "## Java vs Python polymorphism differences (why not same)"
   ]
  },
  {
   "cell_type": "code",
   "execution_count": 7,
   "metadata": {},
   "outputs": [
    {
     "name": "stdout",
     "output_type": "stream",
     "text": [
      "1213456.34tuhinsumon\n",
      "648.359974\n"
     ]
    }
   ],
   "source": [
    "class Addition:\n",
    "    def add(self, myList):\n",
    "        sum = 0\n",
    "        isString = False\n",
    "        for x in myList:\n",
    "            if isinstance(x, str):\n",
    "                isString = True\n",
    "\n",
    "        if isString:\n",
    "            sum = str()\n",
    "            for x in myList:\n",
    "                sum += str(x)\n",
    "        else:\n",
    "            for x in myList:\n",
    "                sum += x\n",
    "\n",
    "        return sum\n",
    "\n",
    "\n",
    "if __name__== '__main__':\n",
    "    addition = Addition()\n",
    "    print(addition.add([12, 134, 56.34, 'tuhin', 'sumon']))\n",
    "    print(addition.add([12, 134, 56.34, 23.23654, 33.44, 44, 345.343434]))    "
   ]
  },
  {
   "cell_type": "code",
   "execution_count": 12,
   "metadata": {},
   "outputs": [
    {
     "name": "stdout",
     "output_type": "stream",
     "text": [
      "9\n",
      "6211\n",
      "9613\n"
     ]
    }
   ],
   "source": [
    "class Addition:\n",
    "    def add(self, *values):\n",
    "        myList = list(values)\n",
    "        return sum(myList)\n",
    "        \n",
    "if __name__==\"__main__\":\n",
    "    addition = Addition()\n",
    "    print(addition.add(4, 5))\n",
    "    print(addition.add(5445, 442, 324))\n",
    "    print(addition.add(22,343,23,34, 3434, 3434, 2323))"
   ]
  },
  {
   "cell_type": "markdown",
   "metadata": {},
   "source": [
    "## Duck typing (overloading)"
   ]
  },
  {
   "cell_type": "code",
   "execution_count": 4,
   "metadata": {},
   "outputs": [
    {
     "name": "stdout",
     "output_type": "stream",
     "text": [
      "Spelling check\n",
      "Convention check\n",
      "Compiling\n",
      "Running\n",
      "==================\n",
      "Compiling\n",
      "Running\n"
     ]
    }
   ],
   "source": [
    "class PyCharm():\n",
    "    def execute(self):\n",
    "        print(\"Compiling\")\n",
    "        print(\"Running\")\n",
    "    \n",
    "\n",
    "class MyEditor():\n",
    "    def execute(self):\n",
    "        print(\"Spelling check\")\n",
    "        print(\"Convention check\")\n",
    "        print(\"Compiling\")\n",
    "        print(\"Running\")\n",
    "        \n",
    "        \n",
    "class Laptop():\n",
    "    def code(self, ide):\n",
    "        ide.execute()\n",
    "        \n",
    "\n",
    "if __name__== '__main__':\n",
    "    lap1 = Laptop()\n",
    "\n",
    "    ide = MyEditor()\n",
    "\n",
    "    lap1.code(ide)\n",
    "\n",
    "    print(\"==================\")\n",
    "\n",
    "    ide = PyCharm()\n",
    "\n",
    "    lap1.code(ide)  "
   ]
  },
  {
   "cell_type": "code",
   "execution_count": 1,
   "metadata": {},
   "outputs": [
    {
     "name": "stdout",
     "output_type": "stream",
     "text": [
      "Waddle, waddle, waddle\n",
      "Come on it, the water's lovely\n",
      "Quack quack\n",
      "Waddle, waddle, I waddle too\n",
      "Come on in, but it's a bit chilly this far South\n",
      "Are you 'avin' a larf? I'm a penguin!\n"
     ]
    }
   ],
   "source": [
    "class Duck:\n",
    "    def walk(self):\n",
    "        print(\"Waddle, waddle, waddle\")\n",
    "\n",
    "    def swim(self):\n",
    "        print(\"Come on it, the water's lovely\")\n",
    "\n",
    "    def quack(self):\n",
    "        print(\"Quack quack\")\n",
    "\n",
    "class Penguin:\n",
    "\n",
    "    def walk(self):\n",
    "        print(\"Waddle, waddle, I waddle too\")\n",
    "\n",
    "    def swim(self):\n",
    "        print(\"Come on in, but it's a bit chilly this far South\")\n",
    "\n",
    "    def quack(self):\n",
    "        print(\"Are you 'avin' a larf? I'm a penguin!\")\n",
    "\n",
    "def test_duck(duck):\n",
    "    duck.walk()\n",
    "    duck.swim()\n",
    "    duck.quack()\n",
    "\n",
    "if __name__ == '__main__':\n",
    "    donald = Duck()\n",
    "    test_duck(donald)\n",
    "\n",
    "    percy = Penguin()\n",
    "    test_duck(percy)"
   ]
  }
 ],
 "metadata": {
  "kernelspec": {
   "display_name": "Python 3",
   "language": "python",
   "name": "python3"
  },
  "language_info": {
   "codemirror_mode": {
    "name": "ipython",
    "version": 3
   },
   "file_extension": ".py",
   "mimetype": "text/x-python",
   "name": "python",
   "nbconvert_exporter": "python",
   "pygments_lexer": "ipython3",
   "version": "3.7.4"
  }
 },
 "nbformat": 4,
 "nbformat_minor": 2
}
