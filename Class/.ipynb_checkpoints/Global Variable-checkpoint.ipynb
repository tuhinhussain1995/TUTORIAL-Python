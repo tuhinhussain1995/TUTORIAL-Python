{
 "cells": [
  {
   "cell_type": "markdown",
   "metadata": {},
   "source": [
    "### use globals() function when the global and local variable name are same\n",
    "### use global keyword when the global and local variable name are not same"
   ]
  },
  {
   "cell_type": "markdown",
   "metadata": {},
   "source": [
    "# Global and Local variable name not same"
   ]
  },
  {
   "cell_type": "code",
   "execution_count": 5,
   "metadata": {},
   "outputs": [
    {
     "name": "stdout",
     "output_type": "stream",
     "text": [
      "Global a: 25\n",
      "Global b: 33\n",
      "Global c: 50\n"
     ]
    }
   ],
   "source": [
    "a = 25                          # Global Variable\n",
    "b = 33                          # Global Variable\n",
    "c = 50                          # Global Variable\n",
    "\n",
    "def something():\n",
    "    d = 125                     # Local Variable\n",
    "    e = 133                     # Local Variable\n",
    "    f = 150                     # Local Variable\n",
    "\n",
    "    a = d        # here a is Local variable not Global\n",
    "    b = e        # here b is Local variable not Global\n",
    "    c = f        # here c is Local variable not Global\n",
    "\n",
    "something()\n",
    "\n",
    "print('Global a:', a)\n",
    "print(\"Global b:\", b)\n",
    "print(\"Global c:\", c)"
   ]
  },
  {
   "cell_type": "code",
   "execution_count": 4,
   "metadata": {},
   "outputs": [
    {
     "name": "stdout",
     "output_type": "stream",
     "text": [
      "Global a: 125\n",
      "Global b: 133\n",
      "Global c: 150\n"
     ]
    }
   ],
   "source": [
    "a = 25                          # Global Variable\n",
    "b = 33                          # Global Variable\n",
    "c = 50                          # Global Variable\n",
    "\n",
    "def something():\n",
    "    d = 125                     # Local Variable\n",
    "    e = 133                     # Local Variable\n",
    "    f = 150                     # Local Variable\n",
    "\n",
    "    global a\n",
    "    global b\n",
    "    global c\n",
    "\n",
    "    a = d\n",
    "    b = e\n",
    "    c = f\n",
    "\n",
    "something()\n",
    "\n",
    "print('Global a:', a)\n",
    "print(\"Global b:\", b)\n",
    "print(\"Global c:\", c)"
   ]
  },
  {
   "cell_type": "markdown",
   "metadata": {},
   "source": [
    "# Global and Local variable name same"
   ]
  },
  {
   "cell_type": "code",
   "execution_count": 1,
   "metadata": {},
   "outputs": [
    {
     "name": "stdout",
     "output_type": "stream",
     "text": [
      "Local a: 125\n",
      "Local b: 133\n",
      "Local c: 150\n",
      "Global a: 25\n",
      "Global b: 33\n",
      "Global c: 50\n"
     ]
    }
   ],
   "source": [
    "a = 25                          # Global Variable\n",
    "b = 33                          # Global Variable\n",
    "c = 50                          # Global Variable\n",
    "\n",
    "def something():\n",
    "    a = 125                     # Local Variable\n",
    "    b = 133                     # Local Variable\n",
    "    c = 150                     # Local Variable\n",
    "\n",
    "    print(\"Local a:\", a)\n",
    "    print(\"Local b:\", b)\n",
    "    print(\"Local c:\", c)\n",
    "\n",
    "something()\n",
    "\n",
    "print('Global a:', a)\n",
    "print(\"Global b:\", b)\n",
    "print(\"Global c:\", c)"
   ]
  },
  {
   "cell_type": "code",
   "execution_count": 2,
   "metadata": {},
   "outputs": [
    {
     "name": "stdout",
     "output_type": "stream",
     "text": [
      "Local a: 125\n",
      "Local b: 133\n",
      "Local c: 150\n",
      "Global a: 125\n",
      "Global b: 133\n",
      "Global c: 150\n"
     ]
    }
   ],
   "source": [
    "a = 25                          # Global Variable\n",
    "b = 33                          # Global Variable\n",
    "c = 50                          # Global Variable\n",
    "\n",
    "def something():\n",
    "    a = 125                     # Local Variable\n",
    "    b = 133                     # Local Variable\n",
    "    c = 150                     # Local Variable\n",
    "\n",
    "    print(\"Local a:\", a)\n",
    "    print(\"Local b:\", b)\n",
    "    print(\"Local c:\", c)\n",
    "\n",
    "    globals()['a'] = a\n",
    "    globals()['b'] = b\n",
    "    globals()['c'] = c\n",
    "\n",
    "\n",
    "something()\n",
    "\n",
    "print('Global a:', a)\n",
    "print(\"Global b:\", b)\n",
    "print(\"Global c:\", c)"
   ]
  },
  {
   "cell_type": "code",
   "execution_count": 3,
   "metadata": {},
   "outputs": [
    {
     "name": "stdout",
     "output_type": "stream",
     "text": [
      "140733727417488\n",
      "140733727417488\n",
      "140733727417744\n",
      "140733727417744\n",
      "140733727418288\n",
      "140733727418288\n"
     ]
    }
   ],
   "source": [
    "a = 25                          # Global Variable\n",
    "b = 33                          # Global Variable\n",
    "c = 50                          # Global Variable\n",
    "\n",
    "print(id(a))\n",
    "print(id(globals()['a']))\n",
    "\n",
    "print(id(b))\n",
    "print(id(globals()['b']))\n",
    "\n",
    "print(id(c))\n",
    "print(id(globals()['c']))"
   ]
  },
  {
   "cell_type": "markdown",
   "metadata": {},
   "source": [
    "# Global inside class"
   ]
  },
  {
   "cell_type": "code",
   "execution_count": 1,
   "metadata": {},
   "outputs": [
    {
     "name": "stdout",
     "output_type": "stream",
     "text": [
      "Electricity\n",
      "Electricity\n",
      "Electricity\n",
      "********************************************************************************\n",
      "Electricity\n",
      "gas\n",
      "Electricity\n",
      "********************************************************************************\n",
      "Electricity\n",
      "gas\n",
      "water\n",
      "********************************************************************************\n",
      "atomic\n",
      "gas\n",
      "water\n",
      "{'__module__': '__main__', 'power_source': 'atomic', '__init__': <function Kettle.__init__ at 0x0000014B61F85558>, 'switch_on': <function Kettle.switch_on at 0x0000014B61F85B88>, '__dict__': <attribute '__dict__' of 'Kettle' objects>, '__weakref__': <attribute '__weakref__' of 'Kettle' objects>, '__doc__': None}\n",
      "{'make': 'Kenwood', 'price': 8.99, 'on': False, 'power_source': 'gas'}\n",
      "{'make': 'Hamilton', 'price': 14.5, 'on': False, 'power_source': 'water'}\n"
     ]
    }
   ],
   "source": [
    "class Kettle:\n",
    "    power_source = \"Electricity\"         # this is Global variable\n",
    "\n",
    "    def __init__(self,make, price):\n",
    "        self.make = make\n",
    "        self.price = price\n",
    "        self.on = False\n",
    "\n",
    "    def switch_on(self):\n",
    "        self.on = True\n",
    "        \n",
    "kenwood = Kettle(\"Kenwood\", 8.99)\n",
    "hamilton = Kettle(\"Hamilton\", 14.50)\n",
    "\n",
    "print(Kettle.power_source)\n",
    "print(kenwood.power_source)\n",
    "print(hamilton.power_source)\n",
    "      \n",
    "print('*' * 80)      \n",
    "\n",
    "kenwood.power_source = \"gas\"\n",
    "print(Kettle.power_source)\n",
    "print(kenwood.power_source)\n",
    "print(hamilton.power_source)\n",
    "      \n",
    "print('*' * 80)      \n",
    "\n",
    "hamilton.power_source = \"water\"\n",
    "print(Kettle.power_source)\n",
    "print(kenwood.power_source)\n",
    "print(hamilton.power_source)\n",
    "\n",
    "print('*' * 80)\n",
    "\n",
    "Kettle.power_source = \"atomic\"\n",
    "print(Kettle.power_source)\n",
    "print(kenwood.power_source)\n",
    "print(hamilton.power_source)\n",
    "\n",
    "print(Kettle.__dict__)\n",
    "print(kenwood.__dict__)\n",
    "print(hamilton.__dict__)"
   ]
  },
  {
   "cell_type": "code",
   "execution_count": 2,
   "metadata": {},
   "outputs": [
    {
     "name": "stdout",
     "output_type": "stream",
     "text": [
      "\t\t\t### Organization name: Motivation Group ###\n",
      "Name: tuhin\n",
      "Address: desa petaling\n",
      "Donation: 600\n",
      "\t\t\t###Total Donation: 600 \t###\n",
      "Name: tuhin\n",
      "Address: desa petaling\n",
      "Donation: 1100\n",
      "\t\t\t###Total Donation: 1100 \t###\n",
      "Name: nazrul\n",
      "Address: Shah Alam\n",
      "Donation: 900\n",
      "\t\t\t###Total Donation: 2000 \t###\n"
     ]
    }
   ],
   "source": [
    "class Donation:\n",
    "    organization_name = \"Motivation Group\"\n",
    "    total_donation = 0\n",
    "\n",
    "    def __init__(self, name=\"No Name\", address=\"No Address\", donation=0):\n",
    "        self.name = name\n",
    "        self.address = address\n",
    "\n",
    "        if(donation > 0):\n",
    "            self.total_donation = donation\n",
    "            Donation.total_donation += donation\n",
    "        else:\n",
    "            self.total_donation = 0\n",
    "\n",
    "    @staticmethod\n",
    "    def getOranizationName():\n",
    "        return Donation.organization_name\n",
    "\n",
    "    def getTotal_donation(self):\n",
    "        return self.total_donation\n",
    "\n",
    "    def setTotal_donation(self, newTotalDonation):\n",
    "        if (newTotalDonation > 0):\n",
    "            self.total_donation += newTotalDonation\n",
    "            Donation.total_donation += newTotalDonation\n",
    "        else:\n",
    "            self.total_donation = 0\n",
    "\n",
    "    def getName(self):\n",
    "        return self.name\n",
    "\n",
    "    def setName(self, name):\n",
    "        self.name = name\n",
    "\n",
    "    def getAddress(self):\n",
    "        return self.address\n",
    "\n",
    "    def setAddress(self, address):\n",
    "        self.address = address\n",
    "\n",
    "    def display(self):\n",
    "        print(\"Name: \" + self.name)\n",
    "        print(\"Address: \" + self.address)\n",
    "        print(\"Donation:\", self.total_donation)\n",
    "\n",
    "\n",
    "if __name__ == '__main__':\n",
    "    print(\"\\t\\t\\t### Organization name: \" + Donation.getOranizationName() + \" ###\")\n",
    "\n",
    "    tuhin = Donation('tuhin', 'desa petaling', 600)\n",
    "    tuhin.display()\n",
    "    print(\"\\t\\t\\t###Total Donation:\", Donation.total_donation, \"\\t###\")\n",
    "\n",
    "    tuhin.setTotal_donation(250)\n",
    "    tuhin.setTotal_donation(250)\n",
    "    tuhin.display()\n",
    "    print(\"\\t\\t\\t###Total Donation:\", Donation.total_donation, \"\\t###\")\n",
    "\n",
    "    nazrul = Donation(\"nazrul\", 'Mantari', 900)\n",
    "    nazrul.setAddress(\"Shah Alam\")\n",
    "    nazrul.display()\n",
    "\n",
    "    print(\"\\t\\t\\t###Total Donation:\", Donation.total_donation, \"\\t###\")"
   ]
  }
 ],
 "metadata": {
  "kernelspec": {
   "display_name": "Python 3",
   "language": "python",
   "name": "python3"
  },
  "language_info": {
   "codemirror_mode": {
    "name": "ipython",
    "version": 3
   },
   "file_extension": ".py",
   "mimetype": "text/x-python",
   "name": "python",
   "nbconvert_exporter": "python",
   "pygments_lexer": "ipython3",
   "version": "3.7.4"
  }
 },
 "nbformat": 4,
 "nbformat_minor": 2
}
