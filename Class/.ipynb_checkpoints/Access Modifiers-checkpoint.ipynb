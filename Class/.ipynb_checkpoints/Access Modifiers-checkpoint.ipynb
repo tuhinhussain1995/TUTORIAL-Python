{
 "cells": [
  {
   "cell_type": "code",
   "execution_count": 6,
   "metadata": {},
   "outputs": [],
   "source": [
    "class Super:                                             # super class\n",
    "    def __init__(self, var1, var2, var3):\n",
    "        self.var1 = var1                                 # public data member\n",
    "        self._var2 = var2                                # protected data member\n",
    "        self.__var3 = var3                               # private data member\n",
    "\n",
    "    def displayPublicMembers(self):                      # public member function\n",
    "        print(\"From Super Public Method:\", self.var1)    # accessing public data members\n",
    "\n",
    "    def _displayProtectedMembers(self):                  # protected member function\n",
    "        print(\"From Super Protected Method:\", self._var2)# accessing protected data members\n",
    "\n",
    "    def __displayPrivateMembers(self):                   # private member function\n",
    "        print(\"From Super Private Method:\", self.__var3) # accessing private data members\n",
    "\n",
    "    def accessPrivateMembers(self):                      # public member function\n",
    "        self.__displayPrivateMembers()                   # accessing private memeber function\n",
    "\n",
    "\n",
    "class Sub(Super):                                        # derived class\n",
    "    def __init__(self, var1, var2, var3):                # constructor\n",
    "        Super.__init__(self, var1, var2, var3)\n",
    "\n",
    "    def accessProtectedMemebers(self):                   # public member function\n",
    "        self._displayProtectedMembers()                  # accessing protected member functions of super class"
   ]
  },
  {
   "cell_type": "code",
   "execution_count": 9,
   "metadata": {},
   "outputs": [
    {
     "name": "stdout",
     "output_type": "stream",
     "text": [
      "From Super Public Method: public\n",
      "From Super Protected Method: protected\n",
      "From Super Private Method: private\n",
      "public\n",
      "protected\n"
     ]
    }
   ],
   "source": [
    "if __name__=='__main__':\n",
    "    supObj = Super(\"public\", 'protected', 'private')\n",
    "    \n",
    "    supObj.displayPublicMembers()                          # calling public member functions of the class\n",
    "    supObj._displayProtectedMembers()\n",
    "        # supObj.__displayPrivateMembers()                 we can't call, because it is private\n",
    "    supObj.accessPrivateMembers()\n",
    "\n",
    "    print(supObj.var1)\n",
    "    print(supObj._var2)\n",
    "        # print(supObj.__var3)                            we can't call, because it is private"
   ]
  },
  {
   "cell_type": "code",
   "execution_count": 8,
   "metadata": {},
   "outputs": [
    {
     "name": "stdout",
     "output_type": "stream",
     "text": [
      "From Super Public Method: public\n",
      "From Super Protected Method: protected\n",
      "From Super Private Method: private\n",
      "From Super Protected Method: protected\n",
      "public\n",
      "protected\n"
     ]
    }
   ],
   "source": [
    "if __name__=='__main__':\n",
    "    obj = Sub(\"public\", \"protected\", \"private\")         # creating objects of the derived class\n",
    "\n",
    "    obj.displayPublicMembers()                          # calling public member functions of the class\n",
    "    obj._displayProtectedMembers()\n",
    "        # obj.__displayPrivateMembers()                 we can't call, because it is private\n",
    "    obj.accessPrivateMembers()\n",
    "\n",
    "    obj.accessProtectedMemebers()\n",
    "\n",
    "    print(obj.var1)\n",
    "    print(obj._var2)\n",
    "        # print(obj.__var3)                            we can't call, because it is private"
   ]
  },
  {
   "cell_type": "code",
   "execution_count": 1,
   "metadata": {},
   "outputs": [
    {
     "name": "stdout",
     "output_type": "stream",
     "text": [
      "tuhin\n",
      "KL\n",
      "24\n",
      "nazrul\n",
      "Mantari\n",
      "28\n",
      "Mediu\n",
      "From Super Public Method\n",
      "From Super Protected Method\n",
      "From Super Private Method\n"
     ]
    }
   ],
   "source": [
    "class Student:\n",
    "    def __init__(self, name, address, age):\n",
    "        self.name = name\n",
    "        self._address = address\n",
    "        self.__age = age\n",
    "\n",
    "    @property\n",
    "    def privateAge(self):                               # This is getter\n",
    "        return self.__age\n",
    "\n",
    "    @privateAge.setter\n",
    "    def privateAge(self, old):                          # This is setter\n",
    "        self.__age = old\n",
    "\n",
    "    def display(self):\n",
    "        print(self.name)\n",
    "        print(self._address)\n",
    "        print(self.privateAge)\n",
    "\n",
    "    def publicMethod(self):\n",
    "        print(\"From Super Public Method\")\n",
    "\n",
    "    def _protectedMethod(self):\n",
    "        print(\"From Super Protected Method\")\n",
    "\n",
    "    def __privateMethod(self):\n",
    "        print(\"From Super Private Method\")\n",
    "\n",
    "    def privateDisplay(self):\n",
    "        self.__privateMethod()\n",
    "\n",
    "class University(Student):\n",
    "    def __init__(self, name, address, age, uni):\n",
    "        super().__init__(name, address, age)\n",
    "        self.university = uni\n",
    "\n",
    "    def display(self):\n",
    "        print(self.name)\n",
    "        print(self._address)\n",
    "        print(self.privateAge)\n",
    "        print(self.university)\n",
    "\n",
    "    def accessSuperMethods(self):\n",
    "        self.publicMethod()\n",
    "        self._protectedMethod()\n",
    "        self.privateDisplay()\n",
    "\n",
    "if __name__=='__main__':\n",
    "    stu1 = Student('tuhin', 'KL', 24)\n",
    "    stu1.display()\n",
    "\n",
    "    stu2 = University('nazrul', 'Mantari', 28, 'Mediu')\n",
    "    stu2.display()\n",
    "\n",
    "    stu2.accessSuperMethods()"
   ]
  }
 ],
 "metadata": {
  "kernelspec": {
   "display_name": "Python 3",
   "language": "python",
   "name": "python3"
  },
  "language_info": {
   "codemirror_mode": {
    "name": "ipython",
    "version": 3
   },
   "file_extension": ".py",
   "mimetype": "text/x-python",
   "name": "python",
   "nbconvert_exporter": "python",
   "pygments_lexer": "ipython3",
   "version": "3.7.4"
  }
 },
 "nbformat": 4,
 "nbformat_minor": 2
}
