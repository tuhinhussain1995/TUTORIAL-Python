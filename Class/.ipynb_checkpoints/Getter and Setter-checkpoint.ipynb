{
 "cells": [
  {
   "cell_type": "markdown",
   "metadata": {},
   "source": [
    "### Only for private attribute we need to use property function. \n",
    "### For public and protected no need to use getter and setter method."
   ]
  },
  {
   "cell_type": "markdown",
   "metadata": {},
   "source": [
    "## 1st Way"
   ]
  },
  {
   "cell_type": "code",
   "execution_count": 5,
   "metadata": {},
   "outputs": [
    {
     "name": "stdout",
     "output_type": "stream",
     "text": [
      "tuhin\n",
      "KL\n",
      "24\n",
      "nazrul\n",
      "Mantari\n",
      "28\n",
      "Mediu\n"
     ]
    }
   ],
   "source": [
    "class Student:\n",
    "    def __init__(self, name, address, age):\n",
    "        self.name = name\n",
    "        self._address = address\n",
    "        self.__age = age\n",
    "\n",
    "    def get_age(self):                               # This is getter\n",
    "        return self.__age\n",
    "\n",
    "    def set_age(self, old):                          # This is setter\n",
    "        self.__age = old\n",
    "\n",
    "    privateAge = property(get_age, set_age)          # This is property method\n",
    "\n",
    "    def display(self):\n",
    "        print(self.name)\n",
    "        print(self._address)\n",
    "        print(self.privateAge)\n",
    "\n",
    "class University(Student):\n",
    "    def __init__(self, name, address, age, uni):\n",
    "        super().__init__(name, address, age)\n",
    "        self.university = uni\n",
    "\n",
    "    def display(self):\n",
    "        print(self.name)\n",
    "        print(self._address)\n",
    "        print(self.privateAge)\n",
    "        print(self.university)\n",
    "\n",
    "if __name__=='__main__':\n",
    "    stu1 = Student('tuhin', 'KL', 15)\n",
    "    stu1.privateAge = 24\n",
    "    stu1.display()\n",
    "\n",
    "    stu2 = University('nazrul', 'Mantari', 66, 'Mediu')\n",
    "    stu2.privateAge = 28\n",
    "    stu2.display()"
   ]
  },
  {
   "cell_type": "markdown",
   "metadata": {},
   "source": [
    "## 2nd Way"
   ]
  },
  {
   "cell_type": "code",
   "execution_count": 6,
   "metadata": {},
   "outputs": [
    {
     "name": "stdout",
     "output_type": "stream",
     "text": [
      "tuhin\n",
      "KL\n",
      "24\n",
      "nazrul\n",
      "Mantari\n",
      "28\n",
      "Mediu\n"
     ]
    }
   ],
   "source": [
    "class Student:\n",
    "    def __init__(self, name, address, age):\n",
    "        self.name = name\n",
    "        self._address = address\n",
    "        self.__age = age\n",
    "\n",
    "    @property\n",
    "    def privateAge(self):                               # This is getter\n",
    "        return self.__age\n",
    "\n",
    "    @privateAge.setter\n",
    "    def privateAge(self, old):                          # This is setter\n",
    "        self.__age = old\n",
    "\n",
    "    def display(self):\n",
    "        print(self.name)\n",
    "        print(self._address)\n",
    "        print(self.privateAge)\n",
    "\n",
    "class University(Student):\n",
    "    def __init__(self, name, address, age, uni):\n",
    "        super().__init__(name, address, age)\n",
    "        self.university = uni\n",
    "\n",
    "    def display(self):\n",
    "        print(self.name)\n",
    "        print(self._address)\n",
    "        print(self.privateAge)\n",
    "        print(self.university)\n",
    "\n",
    "if __name__=='__main__':\n",
    "    stu1 = Student('tuhin', 'KL', 24)\n",
    "    stu1.privateAge = 24\n",
    "    stu1.display()\n",
    "\n",
    "    stu2 = University('nazrul', 'Mantari', 28, 'Mediu')\n",
    "    stu2.privateAge = 28\n",
    "    stu2.display()"
   ]
  }
 ],
 "metadata": {
  "kernelspec": {
   "display_name": "Python 3",
   "language": "python",
   "name": "python3"
  },
  "language_info": {
   "codemirror_mode": {
    "name": "ipython",
    "version": 3
   },
   "file_extension": ".py",
   "mimetype": "text/x-python",
   "name": "python",
   "nbconvert_exporter": "python",
   "pygments_lexer": "ipython3",
   "version": "3.7.4"
  }
 },
 "nbformat": 4,
 "nbformat_minor": 2
}
