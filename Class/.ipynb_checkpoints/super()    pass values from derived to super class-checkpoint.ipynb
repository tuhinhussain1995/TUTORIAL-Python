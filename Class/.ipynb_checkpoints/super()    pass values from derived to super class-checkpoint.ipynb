{
 "cells": [
  {
   "cell_type": "code",
   "execution_count": 4,
   "metadata": {},
   "outputs": [],
   "source": [
    "# 2 way we can pass super or base class values.\n",
    "    # Directly use the base class name\n",
    "    # use super() ===> follow the MRO"
   ]
  },
  {
   "cell_type": "code",
   "execution_count": 2,
   "metadata": {},
   "outputs": [
    {
     "name": "stdout",
     "output_type": "stream",
     "text": [
      "in D init\n",
      "in C init\n",
      "in B init\n",
      "Tuhin\n"
     ]
    }
   ],
   "source": [
    "class A:\n",
    "    def __init__(self):\n",
    "        print(\"in A init\")\n",
    "        \n",
    "        \n",
    "class B():\n",
    "    def __init__(self, name):\n",
    "        print(\"in B init\")\n",
    "        \n",
    "        self.name = name\n",
    "        \n",
    "        \n",
    "class C():\n",
    "    def __init__(self):\n",
    "        print(\"in C init\")\n",
    "        \n",
    "        \n",
    "class D(A, B, C):                  \n",
    "    def __init__(self):\n",
    "        print(\"in D init\")\n",
    "        \n",
    "        C.__init__(self)\n",
    "        B.__init__(self, \"Tuhin\")\n",
    "        \n",
    "        \n",
    "d = D()\n",
    "print(d.name)"
   ]
  },
  {
   "cell_type": "code",
   "execution_count": 3,
   "metadata": {},
   "outputs": [
    {
     "name": "stdout",
     "output_type": "stream",
     "text": [
      "[<class '__main__.C'>, <class '__main__.B'>, <class '__main__.A'>, <class 'object'>]\n",
      "in C init\n",
      "in B init\n",
      "Feature 1-B is working\n"
     ]
    }
   ],
   "source": [
    "class A:\n",
    "    def __init__(self):\n",
    "        print(\"in A init\")\n",
    "        \n",
    "    def feature1(self):\n",
    "        print(\"Feature 1-A is working\")\n",
    "        \n",
    "        \n",
    "class B():\n",
    "    def __init__(self):\n",
    "        print(\"in B init\")\n",
    "        \n",
    "    def feature1(self):\n",
    "        print(\"Feature 1-B is working\")\n",
    "        \n",
    "\n",
    "class C(B, A):\n",
    "    def __init__(self):\n",
    "        print(\"in C init\")\n",
    "        \n",
    "        super().__init__()\n",
    "        \n",
    "    \n",
    "    def display(self):\n",
    "        super().feature1()\n",
    "       \n",
    "    \n",
    "print(C.mro())\n",
    "        \n",
    "c = C()\n",
    "c.display()"
   ]
  },
  {
   "cell_type": "markdown",
   "metadata": {},
   "source": [
    "## Abstract class with super()"
   ]
  },
  {
   "cell_type": "code",
   "execution_count": 1,
   "metadata": {},
   "outputs": [
    {
     "name": "stdout",
     "output_type": "stream",
     "text": [
      "Kane's intro Music\n",
      "Tombstone\n",
      "The Wrestler made $5500.0\n",
      "John Cina's intro Music\n",
      "Stone cold stunner\n",
      "The Wrestler made $7500.0\n"
     ]
    }
   ],
   "source": [
    "from abc import ABC, abstractmethod\n",
    "\n",
    "class Wrestler(ABC):                                                      # abstract class\n",
    "    def __init__(self, hour=0):                                           # constructor\n",
    "        self.hours = hour\n",
    "\n",
    "    @abstractmethod\n",
    "    def themeMusic(self):                                                 # abstract method\n",
    "        pass\n",
    "\n",
    "    @abstractmethod\n",
    "    def finisher(self):                                                   # abstract method\n",
    "        pass\n",
    "\n",
    "    def paymentForWork(self):                                             # instance method\n",
    "        print(\"The Wrestler made $\"+ str(float(self.hours*250)))\n",
    "\n",
    "class Kane(Wrestler):\n",
    "    def __init__(self, hour=0):                                           # constructor\n",
    "        super().__init__(hour)\n",
    "\n",
    "    def themeMusic(self):                                                 # instance method\n",
    "        print(\"Kane's intro Music\")\n",
    "\n",
    "    def finisher(self):                                                   # instance method\n",
    "        print(\"Tombstone\")\n",
    "\n",
    "\n",
    "class JohnCina(Wrestler):\n",
    "    def __init__(self, hour=0):                                           # constructor\n",
    "        super().__init__(hour)\n",
    "\n",
    "    def themeMusic(self):                                                # instance method\n",
    "        print(\"John Cina's intro Music\")\n",
    "\n",
    "    def finisher(self):                                                  # instance method\n",
    "        print(\"Stone cold stunner\")\n",
    "\n",
    "if __name__=='__main__':\n",
    "    kane = Kane(22)\n",
    "    kane.themeMusic()\n",
    "    kane.finisher()\n",
    "    kane.paymentForWork()\n",
    "\n",
    "    john = JohnCina(30)\n",
    "    john.themeMusic()\n",
    "    john.finisher()\n",
    "    john.paymentForWork()\n"
   ]
  }
 ],
 "metadata": {
  "kernelspec": {
   "display_name": "Python 3",
   "language": "python",
   "name": "python3"
  },
  "language_info": {
   "codemirror_mode": {
    "name": "ipython",
    "version": 3
   },
   "file_extension": ".py",
   "mimetype": "text/x-python",
   "name": "python",
   "nbconvert_exporter": "python",
   "pygments_lexer": "ipython3",
   "version": "3.7.4"
  }
 },
 "nbformat": 4,
 "nbformat_minor": 2
}
