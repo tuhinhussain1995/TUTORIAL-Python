{
 "cells": [
  {
   "cell_type": "markdown",
   "metadata": {},
   "source": [
    "# MRO (Method Resulation Order)"
   ]
  },
  {
   "cell_type": "markdown",
   "metadata": {},
   "source": [
    "### 1. When we create a object of Sub class it will call it's own __init__ method first.\n",
    "### 2. If Sub class doesn't have it's own __init__ method then it will call it's super class __init__ method. (from left to right)\n",
    "### 3. If sub class and super class both have __init__ method but we want to call both __init__ mthod we need to call it in that way: super().\\_\\_init\\_\\_()"
   ]
  },
  {
   "cell_type": "markdown",
   "metadata": {},
   "source": [
    "## 1 (If sub class has constractor)"
   ]
  },
  {
   "cell_type": "code",
   "execution_count": 36,
   "metadata": {},
   "outputs": [
    {
     "name": "stdout",
     "output_type": "stream",
     "text": [
      "[<class '__main__.C'>, <class '__main__.A'>, <class '__main__.B'>, <class 'object'>]\n",
      "in C init\n"
     ]
    }
   ],
   "source": [
    "class A:\n",
    "    def __init__(self):\n",
    "        print(\"in A init\")\n",
    "        \n",
    "        \n",
    "class B():\n",
    "    def __init__(self):\n",
    "        print(\"in B init\")\n",
    "        \n",
    "\n",
    "class C(A, B):                      # Depth first, from left to right\n",
    "    def __init__(self):\n",
    "        print(\"in C init\")\n",
    "\n",
    "\n",
    "print(C.mro())\n",
    "\n",
    "c = C()"
   ]
  },
  {
   "cell_type": "markdown",
   "metadata": {},
   "source": [
    "## 2 (If sub class doesn't have constractor)"
   ]
  },
  {
   "cell_type": "code",
   "execution_count": 35,
   "metadata": {},
   "outputs": [
    {
     "name": "stdout",
     "output_type": "stream",
     "text": [
      "[<class '__main__.C'>, <class '__main__.A'>, <class '__main__.B'>, <class 'object'>]\n",
      "in A init\n"
     ]
    }
   ],
   "source": [
    "class A:\n",
    "    def __init__(self):\n",
    "        print(\"in A init\")\n",
    "        \n",
    "        \n",
    "class B():\n",
    "    def __init__(self):\n",
    "        print(\"in B init\")\n",
    "        \n",
    "\n",
    "class C(A, B):                      # Depth first, from left to right\n",
    "    pass\n",
    "\n",
    "\n",
    "print(C.mro())\n",
    "\n",
    "c = C()"
   ]
  },
  {
   "cell_type": "code",
   "execution_count": 34,
   "metadata": {},
   "outputs": [
    {
     "name": "stdout",
     "output_type": "stream",
     "text": [
      "[<class '__main__.C'>, <class '__main__.B'>, <class '__main__.A'>, <class 'object'>]\n",
      "in B init\n"
     ]
    }
   ],
   "source": [
    "class A:\n",
    "    def __init__(self):\n",
    "        print(\"in A init\")\n",
    "        \n",
    "        \n",
    "class B():\n",
    "    def __init__(self):\n",
    "        print(\"in B init\")\n",
    "        \n",
    "\n",
    "class C(B, A):                      # Depth first, from left to right\n",
    "    pass\n",
    "\n",
    "\n",
    "print(C.mro())\n",
    "\n",
    "c = C()"
   ]
  },
  {
   "cell_type": "code",
   "execution_count": 33,
   "metadata": {},
   "outputs": [
    {
     "name": "stdout",
     "output_type": "stream",
     "text": [
      "[<class '__main__.C'>, <class '__main__.A'>, <class '__main__.B'>, <class 'object'>]\n",
      "in B init\n"
     ]
    }
   ],
   "source": [
    "class A:\n",
    "    pass\n",
    "        \n",
    "        \n",
    "class B():\n",
    "    def __init__(self):\n",
    "        \n",
    "        print(\"in B init\")\n",
    "        \n",
    "\n",
    "class C(A, B):                      # Depth first, from left to right\n",
    "    pass\n",
    "\n",
    "\n",
    "print(C.mro())\n",
    "\n",
    "c = C()        \n"
   ]
  },
  {
   "cell_type": "markdown",
   "metadata": {},
   "source": [
    "## 3 (If want to print both sub and super class constractor)"
   ]
  },
  {
   "cell_type": "code",
   "execution_count": 51,
   "metadata": {},
   "outputs": [
    {
     "name": "stdout",
     "output_type": "stream",
     "text": [
      "in D init\n",
      "in B init\n"
     ]
    }
   ],
   "source": [
    "class A:\n",
    "    def __init__(self):\n",
    "        print(\"in A init\")\n",
    "        \n",
    "        \n",
    "class B():\n",
    "    def __init__(self):\n",
    "        print(\"in B init\")\n",
    "        \n",
    "        \n",
    "class C():\n",
    "    def __init__(self):\n",
    "        print(\"in C init\")\n",
    "        \n",
    "        \n",
    "class D(B, A, C):                      # Depth first, from left to right\n",
    "    def __init__(self):\n",
    "        print(\"in D init\")\n",
    "        \n",
    "        super().__init__()\n",
    "        \n",
    "        \n",
    "d = D()"
   ]
  },
  {
   "cell_type": "code",
   "execution_count": 6,
   "metadata": {},
   "outputs": [
    {
     "name": "stdout",
     "output_type": "stream",
     "text": [
      "in D init\n",
      "in C init\n"
     ]
    }
   ],
   "source": [
    "class A:\n",
    "    def __init__(self):\n",
    "        print(\"in A init\")\n",
    "        \n",
    "        \n",
    "class B():\n",
    "    def __init__(self):\n",
    "        print(\"in B init\")\n",
    "        \n",
    "        \n",
    "class C():\n",
    "    def __init__(self):\n",
    "        print(\"in C init\")\n",
    "        \n",
    "        \n",
    "class D(C, B, A):                      # Depth first, from left to right\n",
    "    def __init__(self):\n",
    "        print(\"in D init\")\n",
    "        \n",
    "        super().__init__()\n",
    "        \n",
    "        \n",
    "d = D()"
   ]
  },
  {
   "cell_type": "markdown",
   "metadata": {},
   "source": [
    "### super().\\_\\_init\\_\\_()"
   ]
  },
  {
   "cell_type": "code",
   "execution_count": 12,
   "metadata": {},
   "outputs": [
    {
     "name": "stdout",
     "output_type": "stream",
     "text": [
      "in D init\n",
      "in C init\n",
      "Tuhin\n"
     ]
    }
   ],
   "source": [
    "class A:\n",
    "    def __init__(self):\n",
    "        print(\"in A init\")\n",
    "        \n",
    "        \n",
    "class B():\n",
    "    def __init__(self):\n",
    "        print(\"in B init\")\n",
    "        \n",
    "        \n",
    "class C():\n",
    "    def __init__(self):\n",
    "        print(\"in C init\")\n",
    "        \n",
    "        self.name = \"Tuhin\"\n",
    "        \n",
    "        \n",
    "class D(C, B, A):                      # Depth first, from left to right\n",
    "    def __init__(self):\n",
    "        print(\"in D init\")\n",
    "        \n",
    "        super().__init__()\n",
    "        \n",
    "        \n",
    "d = D()\n",
    "print(d.name)"
   ]
  },
  {
   "cell_type": "code",
   "execution_count": 8,
   "metadata": {},
   "outputs": [
    {
     "name": "stdout",
     "output_type": "stream",
     "text": [
      "in D init\n",
      "in C init\n",
      "Tuhin\n"
     ]
    }
   ],
   "source": [
    "class A:\n",
    "    def __init__(self):\n",
    "        print(\"in A init\")\n",
    "        \n",
    "        \n",
    "class B():\n",
    "    def __init__(self):\n",
    "        print(\"in B init\")\n",
    "        \n",
    "        \n",
    "class C():\n",
    "    def __init__(self, name):\n",
    "        print(\"in C init\")\n",
    "        \n",
    "        self.name = name\n",
    "        \n",
    "        \n",
    "class D(C, B, A):                      # Depth first, from left to right\n",
    "    def __init__(self):\n",
    "        print(\"in D init\")\n",
    "        \n",
    "        super().__init__(\"Tuhin\")\n",
    "        \n",
    "        \n",
    "d = D()\n",
    "print(d.name)"
   ]
  },
  {
   "cell_type": "markdown",
   "metadata": {},
   "source": [
    "# 3 Best One"
   ]
  },
  {
   "cell_type": "markdown",
   "metadata": {},
   "source": [
    "## 3 (Solution to call all sub and super class constractor)"
   ]
  },
  {
   "cell_type": "code",
   "execution_count": 49,
   "metadata": {},
   "outputs": [
    {
     "name": "stdout",
     "output_type": "stream",
     "text": [
      "in D init\n",
      "in A init\n",
      "in B init\n",
      "in C init\n"
     ]
    }
   ],
   "source": [
    "class A:\n",
    "    def __init__(self):\n",
    "        print(\"in A init\")\n",
    "        \n",
    "        \n",
    "class B():\n",
    "    def __init__(self):\n",
    "        print(\"in B init\")\n",
    "        \n",
    "        \n",
    "class C():\n",
    "    def __init__(self):\n",
    "        print(\"in C init\")\n",
    "        \n",
    "        \n",
    "class D(B, A, C):                  \n",
    "    def __init__(self):\n",
    "        print(\"in D init\")\n",
    "        \n",
    "        A.__init__(self)\n",
    "        B.__init__(self)\n",
    "        C.__init__(self)\n",
    "        \n",
    "        \n",
    "d = D()"
   ]
  },
  {
   "cell_type": "code",
   "execution_count": 9,
   "metadata": {},
   "outputs": [
    {
     "name": "stdout",
     "output_type": "stream",
     "text": [
      "in D init\n",
      "in C init\n",
      "in B init\n"
     ]
    }
   ],
   "source": [
    "class A:\n",
    "    def __init__(self):\n",
    "        print(\"in A init\")\n",
    "        \n",
    "        \n",
    "class B():\n",
    "    def __init__(self):\n",
    "        print(\"in B init\")\n",
    "        \n",
    "        \n",
    "class C():\n",
    "    def __init__(self):\n",
    "        print(\"in C init\")\n",
    "        \n",
    "        \n",
    "class D(A, B, C):                  \n",
    "    def __init__(self):\n",
    "        print(\"in D init\")\n",
    "        \n",
    "        C.__init__(self)\n",
    "        B.__init__(self)\n",
    "        \n",
    "        \n",
    "d = D()"
   ]
  },
  {
   "cell_type": "markdown",
   "metadata": {},
   "source": [
    "### A.\\_\\_init\\_\\_(self)"
   ]
  },
  {
   "cell_type": "code",
   "execution_count": 10,
   "metadata": {},
   "outputs": [
    {
     "name": "stdout",
     "output_type": "stream",
     "text": [
      "in D init\n",
      "in C init\n",
      "in B init\n",
      "Tuhin\n"
     ]
    }
   ],
   "source": [
    "class A:\n",
    "    def __init__(self):\n",
    "        print(\"in A init\")\n",
    "        \n",
    "        \n",
    "class B():\n",
    "    def __init__(self):\n",
    "        print(\"in B init\")\n",
    "        \n",
    "        self.name = \"Tuhin\"\n",
    "        \n",
    "        \n",
    "class C():\n",
    "    def __init__(self):\n",
    "        print(\"in C init\")\n",
    "        \n",
    "        \n",
    "class D(A, B, C):                  \n",
    "    def __init__(self):\n",
    "        print(\"in D init\")\n",
    "        \n",
    "        C.__init__(self)\n",
    "        B.__init__(self)\n",
    "        \n",
    "        \n",
    "d = D()\n",
    "print(d.name)"
   ]
  },
  {
   "cell_type": "code",
   "execution_count": 11,
   "metadata": {},
   "outputs": [
    {
     "name": "stdout",
     "output_type": "stream",
     "text": [
      "in D init\n",
      "in C init\n",
      "in B init\n",
      "Tuhin\n"
     ]
    }
   ],
   "source": [
    "class A:\n",
    "    def __init__(self):\n",
    "        print(\"in A init\")\n",
    "        \n",
    "        \n",
    "class B():\n",
    "    def __init__(self, name):\n",
    "        print(\"in B init\")\n",
    "        \n",
    "        self.name = name\n",
    "        \n",
    "        \n",
    "class C():\n",
    "    def __init__(self):\n",
    "        print(\"in C init\")\n",
    "        \n",
    "        \n",
    "class D(A, B, C):                  \n",
    "    def __init__(self):\n",
    "        print(\"in D init\")\n",
    "        \n",
    "        C.__init__(self)\n",
    "        B.__init__(self, \"Tuhin\")\n",
    "        \n",
    "        \n",
    "d = D()\n",
    "print(d.name)"
   ]
  },
  {
   "cell_type": "markdown",
   "metadata": {},
   "source": [
    "## Difference between super and class name"
   ]
  },
  {
   "cell_type": "code",
   "execution_count": 68,
   "metadata": {},
   "outputs": [
    {
     "name": "stdout",
     "output_type": "stream",
     "text": [
      "[<class '__main__.C'>, <class '__main__.B'>, <class '__main__.A'>, <class 'object'>]\n",
      "in C init\n",
      "in B init\n",
      "Feature 1-B is working\n"
     ]
    }
   ],
   "source": [
    "class A:\n",
    "    def __init__(self):\n",
    "        print(\"in A init\")\n",
    "        \n",
    "    def feature1(self):\n",
    "        print(\"Feature 1-A is working\")\n",
    "        \n",
    "        \n",
    "class B():\n",
    "    def __init__(self):\n",
    "        print(\"in B init\")\n",
    "        \n",
    "    def feature1(self):\n",
    "        print(\"Feature 1-B is working\")\n",
    "        \n",
    "\n",
    "class C(B, A):\n",
    "    def __init__(self):\n",
    "        print(\"in C init\")\n",
    "        \n",
    "        super().__init__()\n",
    "        \n",
    "    \n",
    "    def display(self):\n",
    "        super().feature1()\n",
    "       \n",
    "    \n",
    "print(C.mro())\n",
    "        \n",
    "c = C()\n",
    "c.display()"
   ]
  },
  {
   "cell_type": "code",
   "execution_count": 13,
   "metadata": {},
   "outputs": [
    {
     "name": "stdout",
     "output_type": "stream",
     "text": [
      "[<class '__main__.C'>, <class '__main__.A'>, <class '__main__.B'>, <class 'object'>]\n",
      "in C init\n",
      "in B init\n",
      "Feature 1-A is working\n"
     ]
    }
   ],
   "source": [
    "class A:\n",
    "    def __init__(self):\n",
    "        print(\"in A init\")\n",
    "        \n",
    "    def feature1(self):\n",
    "        print(\"Feature 1-A is working\")\n",
    "        \n",
    "        \n",
    "class B():\n",
    "    def __init__(self):\n",
    "        print(\"in B init\")\n",
    "        \n",
    "    def feature1(self):\n",
    "        print(\"Feature 1-B is working\")\n",
    "        \n",
    "\n",
    "class C(A, B):                      # Depth first, from left to right\n",
    "    def __init__(self):\n",
    "        print(\"in C init\")\n",
    "        \n",
    "        B.__init__(self)\n",
    "        \n",
    "    \n",
    "    def display(self):\n",
    "        super().feature1()\n",
    "        \n",
    "        \n",
    "print(C.mro())\n",
    "        \n",
    "c = C()\n",
    "c.display()"
   ]
  },
  {
   "cell_type": "code",
   "execution_count": 14,
   "metadata": {},
   "outputs": [
    {
     "name": "stdout",
     "output_type": "stream",
     "text": [
      "[<class '__main__.C'>, <class '__main__.A'>, <class '__main__.B'>, <class 'object'>]\n",
      "in C init\n",
      "in B init\n",
      "Feature 1-B is working\n"
     ]
    }
   ],
   "source": [
    "class A:\n",
    "    def __init__(self):\n",
    "        print(\"in A init\")\n",
    "        \n",
    "    def feature1(self):\n",
    "        print(\"Feature 1-A is working\")\n",
    "        \n",
    "        \n",
    "class B():\n",
    "    def __init__(self):\n",
    "        print(\"in B init\")\n",
    "        \n",
    "    def feature1(self):\n",
    "        print(\"Feature 1-B is working\")\n",
    "        \n",
    "\n",
    "class C(A, B):                      # Depth first, from left to right\n",
    "    def __init__(self):\n",
    "        print(\"in C init\")\n",
    "        \n",
    "        B.__init__(self)\n",
    "        \n",
    "    \n",
    "    def display(self):\n",
    "        B.feature1(self)\n",
    "        \n",
    "        \n",
    "print(C.mro())\n",
    "        \n",
    "c = C()\n",
    "c.display()"
   ]
  },
  {
   "cell_type": "code",
   "execution_count": 4,
   "metadata": {},
   "outputs": [
    {
     "name": "stdout",
     "output_type": "stream",
     "text": [
      "[<class '__main__.D'>, <class '__main__.B'>, <class '__main__.C'>, <class '__main__.A'>, <class 'object'>]\n",
      "All numbers are even\n",
      "Some numbers are even\n"
     ]
    }
   ],
   "source": [
    "class A:\n",
    "    def truth(self):\n",
    "        return 'All numbers are even'\n",
    "    \n",
    "class B(A):\n",
    "    pass\n",
    "\n",
    "class C(A):\n",
    "    def truth(self):\n",
    "        return 'Some numbers are even'\n",
    "    \n",
    "class D(B,C):\n",
    "    def truth(self,num):\n",
    "        if num%2 == 0:\n",
    "            return A.truth(self)\n",
    "        else:\n",
    "            return super().truth()\n",
    "     \n",
    "    \n",
    "print(D.mro())    \n",
    "d = D()\n",
    "\n",
    "print(d.truth(6))\n",
    "print(d.truth(5))"
   ]
  }
 ],
 "metadata": {
  "kernelspec": {
   "display_name": "Python 3",
   "language": "python",
   "name": "python3"
  },
  "language_info": {
   "codemirror_mode": {
    "name": "ipython",
    "version": 3
   },
   "file_extension": ".py",
   "mimetype": "text/x-python",
   "name": "python",
   "nbconvert_exporter": "python",
   "pygments_lexer": "ipython3",
   "version": "3.7.4"
  }
 },
 "nbformat": 4,
 "nbformat_minor": 2
}
