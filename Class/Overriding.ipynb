{
 "cells": [
  {
   "cell_type": "markdown",
   "metadata": {},
   "source": [
    "## if inheritance is applied between classes =====> Overriding\n",
    "## if inheritance is not applied between classes ==> Overloading or Polymorphism"
   ]
  },
  {
   "cell_type": "code",
   "execution_count": 1,
   "metadata": {},
   "outputs": [
    {
     "name": "stdout",
     "output_type": "stream",
     "text": [
      "in A display\n",
      "in B display\n"
     ]
    }
   ],
   "source": [
    "class A:\n",
    "    def display(self):\n",
    "        print(\"in A display\")\n",
    "        \n",
    "        \n",
    "class B(A):\n",
    "    def display(self):\n",
    "        print(\"in B display\")\n",
    "\n",
    "\n",
    "if __name__== '__main__':\n",
    "    a = A()\n",
    "    a.display()\n",
    "\n",
    "    b = B()\n",
    "    b.display()"
   ]
  },
  {
   "cell_type": "code",
   "execution_count": 2,
   "metadata": {},
   "outputs": [
    {
     "name": "stdout",
     "output_type": "stream",
     "text": [
      "in A display\n",
      "in A display\n"
     ]
    }
   ],
   "source": [
    "class A:\n",
    "    def display(self):\n",
    "        print(\"in A display\")\n",
    "        \n",
    "        \n",
    "class B(A):\n",
    "    pass\n",
    "\n",
    "\n",
    "if __name__== '__main__':\n",
    "    a = A()\n",
    "    a.display()\n",
    "\n",
    "    b = B()\n",
    "    b.display()   "
   ]
  },
  {
   "cell_type": "code",
   "execution_count": 3,
   "metadata": {},
   "outputs": [
    {
     "name": "stdout",
     "output_type": "stream",
     "text": [
      "ANIMAL CREATED\n",
      "Dog Created\n",
      "I am eating\n",
      "I am a dog\n"
     ]
    }
   ],
   "source": [
    "class Animal():\n",
    "    \n",
    "    def __init__(self):\n",
    "        print(\"ANIMAL CREATED\")\n",
    "        \n",
    "    def who_am_i(self):\n",
    "        print(\"I am an Animal\")\n",
    "        \n",
    "    def eat(self):\n",
    "        print(\"I am eating\")\n",
    "        \n",
    "class Dog(Animal):\n",
    "    \n",
    "    def __init__(self):\n",
    "        Animal.__init__(self)\n",
    "        print(\"Dog Created\")\n",
    "        \n",
    "    def who_am_i(self):               # overriding method\n",
    "        print(\"I am a dog\")     \n",
    "        \n",
    "\n",
    "if __name__== '__main__':\n",
    "    myDog = Dog()\n",
    "\n",
    "    myDog.eat()\n",
    "    myDog.who_am_i()      "
   ]
  },
  {
   "cell_type": "code",
   "execution_count": 4,
   "metadata": {},
   "outputs": [
    {
     "name": "stdout",
     "output_type": "stream",
     "text": [
      "ANIMAL CREATED\n",
      "Dog Created\n",
      "I am a dog and eating\n",
      "I am an Animal\n",
      "WOOF!\n"
     ]
    }
   ],
   "source": [
    "class Animal():\n",
    "    \n",
    "    def __init__(self):\n",
    "        print(\"ANIMAL CREATED\")\n",
    "        \n",
    "    def who_am_i(self):\n",
    "        print(\"I am an Animal\")\n",
    "        \n",
    "    def eat(self):\n",
    "        print(\"I am eating\")\n",
    "        \n",
    "class Dog(Animal):\n",
    "    \n",
    "    def __init__(self):\n",
    "        Animal.__init__(self)\n",
    "        print(\"Dog Created\")\n",
    "        \n",
    "    def eat(self):               # overriding method\n",
    "        print(\"I am a dog and eating\")\n",
    "        \n",
    "    def bark(self):\n",
    "        print(\"WOOF!\")\n",
    "        \n",
    "\n",
    "if __name__== '__main__':\n",
    "    myDog = Dog()\n",
    "\n",
    "    myDog.eat()\n",
    "    myDog.who_am_i()\n",
    "    myDog.bark()    "
   ]
  },
  {
   "cell_type": "markdown",
   "metadata": {},
   "source": [
    "### Overriding - Full"
   ]
  },
  {
   "cell_type": "code",
   "execution_count": 5,
   "metadata": {},
   "outputs": [
    {
     "name": "stdout",
     "output_type": "stream",
     "text": [
      "I am from Animal\n",
      "My species name: mammal\n",
      "My name is:  James Bond\n",
      "My Weight is:  82\n",
      "I can eat\n",
      "From Super Human Move\n",
      "My speed:  150 KMPH\n",
      "I have 32 teeth\n",
      "I can talk\n",
      "I can Fly\n",
      "32\n",
      "From Super Human Move\n",
      "My speed:  150 KMPH\n",
      "\n",
      "\n",
      "I am from Animal\n",
      "My species name: mammal\n",
      "My name is:  tuhin\n",
      "My Weight is:  64\n",
      "I can eat\n",
      "From Human Move\n",
      "My speed:  15 KMPH\n",
      "I have 30 teeth\n",
      "I can talk\n",
      "64\n",
      "From Human Move\n",
      "My speed:  15 KMPH\n"
     ]
    }
   ],
   "source": [
    "class Animal():\n",
    "    species = 'mammal'\n",
    "\n",
    "    def __init__(self, name, weight, speed):\n",
    "        print('I am from Animal')\n",
    "\n",
    "        self.name = name\n",
    "        self.weight = weight\n",
    "        self.speed = speed\n",
    "\n",
    "        self.animal_introduction()\n",
    "\n",
    "    def eat(self):\n",
    "        return 'I can eat'\n",
    "\n",
    "    def move(self):\n",
    "        print('From Animal Move')\n",
    "        print('My speed: ', self.speed, 'KMPH')\n",
    "\n",
    "    def animal_introduction(self):\n",
    "        print('My species name:', Animal.species)\n",
    "        print('My name is: ', self.name)\n",
    "        print('My Weight is: ', self.weight)\n",
    "        print(self.eat())\n",
    "        self.move()\n",
    "\n",
    "\n",
    "class Human(Animal):\n",
    "    def __init__(self, name, weight, has_tail, teeth, speed):\n",
    "        Animal.__init__(self, name, weight, speed)\n",
    "\n",
    "        self.has_tail = has_tail\n",
    "        self.teeth = teeth\n",
    "        self.speed = speed\n",
    "\n",
    "        self.human_introduction()\n",
    "\n",
    "    def talk(self):\n",
    "        print('I can talk')\n",
    "\n",
    "    def move(self):\n",
    "        print('From Human Move')\n",
    "        print('My speed: ', self.speed, 'KMPH')\n",
    "\n",
    "    def human_introduction(self):\n",
    "        print('I have', self.teeth, 'teeth')\n",
    "        if self.has_tail:\n",
    "            print('I have Tail')\n",
    "\n",
    "        self.talk()\n",
    "\n",
    "\n",
    "class Super_Human(Human):\n",
    "    def __init__(self, name, weight, has_tail, teeth, speed, can_fly):\n",
    "        Human.__init__(self, name, weight, has_tail, teeth, speed)\n",
    "        self.can_fly = can_fly\n",
    "        self.speed = speed\n",
    "\n",
    "        self.super_human_introduction()\n",
    "\n",
    "    def move(self):\n",
    "        print('From Super Human Move')\n",
    "        print('My speed: ', self.speed, 'KMPH')\n",
    "\n",
    "    def super_human_introduction(self):\n",
    "        if self.can_fly:\n",
    "            print('I can Fly')\n",
    "        else:\n",
    "            print('I am more stronger than human')\n",
    "\n",
    "\n",
    "if __name__== '__main__':\n",
    "    superman = Super_Human('James Bond', 82, False, 32, 150, True)\n",
    "    print(superman.teeth)\n",
    "    superman.move()\n",
    "\n",
    "    print('\\n')\n",
    "    human = Human(name='tuhin', weight=64, has_tail=False, teeth=30, speed=15)\n",
    "    print(human.weight)\n",
    "    human.move()     "
   ]
  },
  {
   "cell_type": "markdown",
   "metadata": {},
   "source": [
    "### Parameter object passing"
   ]
  },
  {
   "cell_type": "code",
   "execution_count": 6,
   "metadata": {},
   "outputs": [
    {
     "name": "stdout",
     "output_type": "stream",
     "text": [
      "Fido says woof\n",
      "isis says meow\n",
      "\n",
      "Fido says woof\n",
      "isis says meow\n"
     ]
    }
   ],
   "source": [
    "class Animal():\n",
    "    \n",
    "    def __init__(self, name):\n",
    "        self.name = name\n",
    "        \n",
    "    def speak(self):\n",
    "        raise NotImplementedError(\"Error of abstract method\")\n",
    "        \n",
    "class Dog(Animal):\n",
    "    \n",
    "    def speak(self):\n",
    "        return self.name + ' says woof'\n",
    "    \n",
    "class Cat(Animal):\n",
    "    \n",
    "    def speak(self):\n",
    "        return self.name + ' says meow'\n",
    "    \n",
    "\n",
    "def pet_speak(pet):\n",
    "    print(pet.speak())   \n",
    "\n",
    "    \n",
    "if __name__== '__main__':\n",
    "    fido = Dog(\"Fido\")\n",
    "    isis = Cat('isis')    \n",
    "\n",
    "    print(fido.speak())\n",
    "    print(isis.speak())\n",
    "    \n",
    "    print()\n",
    "    \n",
    "    pet_speak(fido)\n",
    "    pet_speak(isis)        "
   ]
  }
 ],
 "metadata": {
  "kernelspec": {
   "display_name": "Python 3",
   "language": "python",
   "name": "python3"
  },
  "language_info": {
   "codemirror_mode": {
    "name": "ipython",
    "version": 3
   },
   "file_extension": ".py",
   "mimetype": "text/x-python",
   "name": "python",
   "nbconvert_exporter": "python",
   "pygments_lexer": "ipython3",
   "version": "3.7.4"
  }
 },
 "nbformat": 4,
 "nbformat_minor": 2
}
