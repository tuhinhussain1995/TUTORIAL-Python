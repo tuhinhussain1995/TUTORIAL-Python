{
 "cells": [
  {
   "cell_type": "markdown",
   "metadata": {},
   "source": [
    "## Class Methods"
   ]
  },
  {
   "cell_type": "code",
   "execution_count": 1,
   "metadata": {},
   "outputs": [
    {
     "name": "stdout",
     "output_type": "stream",
     "text": [
      "54.333333333333336\n",
      "58.0\n",
      "mediu\n",
      "This is from static method. For printing more information\n"
     ]
    }
   ],
   "source": [
    "# 3 types of methods. These are instance, class and static\n",
    "\n",
    "class Student:\n",
    "    \n",
    "    school = 'mediu'                          # Global Variable\n",
    "    \n",
    "    def __init__(self, m1, m2, m3):\n",
    "        self.m1 = m1\n",
    "        self.m2 = m2\n",
    "        self.m3 = m3\n",
    "        \n",
    "    def avg(self):                             # instance method\n",
    "        return (self.m1 + self.m2 + self.m3)/3\n",
    "    \n",
    "    @classmethod                               # class methods\n",
    "    def getSchool(school_name):\n",
    "        return school_name.school\n",
    "    \n",
    "    @staticmethod                              # static methods\n",
    "    def info():\n",
    "        print(\"This is from static method. For printing more information\")\n",
    "        \n",
    "\n",
    "if __name__=='__main__':\n",
    "    s1 = Student(34, 53, 76)\n",
    "    s2 = Student(85, 23, 66)\n",
    "\n",
    "    print(s1.avg())\n",
    "    print(s2.avg())\n",
    "\n",
    "    print(Student.getSchool())\n",
    "\n",
    "    Student.info()"
   ]
  },
  {
   "cell_type": "markdown",
   "metadata": {},
   "source": [
    "## Accessor and Mutator"
   ]
  },
  {
   "cell_type": "code",
   "execution_count": 2,
   "metadata": {},
   "outputs": [
    {
     "name": "stdout",
     "output_type": "stream",
     "text": [
      "mediu\n",
      "tuhin --- 23\n",
      "mediu\n",
      "nazrul --- 28\n",
      "=========================\n",
      "mediu\n",
      "sumon --- 23\n",
      "mediu\n",
      "nazrul --- 25\n",
      "=========================\n",
      "sumon\n",
      "25\n"
     ]
    }
   ],
   "source": [
    "# get is called the accessor method\n",
    "# set is called the mutator method\n",
    "\n",
    "class Student:\n",
    "\n",
    "    school = 'mediu'\n",
    "\n",
    "    def __init__(self, name, age):\n",
    "        self.name = name\n",
    "        self.age = age\n",
    "\n",
    "    def print_values(self):                             # instance method\n",
    "        print(self.school)\n",
    "        print(self.name, '---', self.age)\n",
    "\n",
    "    def get_name(self):\n",
    "        return self.name\n",
    "\n",
    "    def get_age(self):\n",
    "        return self.age\n",
    "\n",
    "    def set_name(self, name):\n",
    "        self.name = name\n",
    "\n",
    "    def set_age(self, age):\n",
    "        self.age = age\n",
    "        \n",
    "\n",
    "if __name__=='__main__':\n",
    "    s1 = Student('tuhin', 23)\n",
    "    s2 = Student('nazrul', 28)\n",
    "\n",
    "    s1.print_values()\n",
    "    s2.print_values()\n",
    "\n",
    "    print(\"=========================\")\n",
    "\n",
    "    s1.set_name('sumon')\n",
    "    s1.print_values()\n",
    "    s2.set_age(25)\n",
    "    s2.print_values()\n",
    "\n",
    "    print(\"=========================\")\n",
    "\n",
    "    print(s1.get_name())\n",
    "    print(s2.get_age())"
   ]
  },
  {
   "cell_type": "markdown",
   "metadata": {},
   "source": [
    "## Object Comparison"
   ]
  },
  {
   "cell_type": "code",
   "execution_count": 3,
   "metadata": {},
   "outputs": [
    {
     "name": "stdout",
     "output_type": "stream",
     "text": [
      "C1 and C2 are different\n",
      "Tuhin --- 30\n",
      "Tuhin --- 24\n"
     ]
    }
   ],
   "source": [
    "# Everywhere self is pointing to the object\n",
    "\n",
    "\n",
    "class Computer:\n",
    "    \n",
    "    def __init__(self):\n",
    "        self.name = \"Tuhin\"\n",
    "        self.age = 24\n",
    "        \n",
    "    def compare(self, other):\n",
    "        if self.name == other.name and self.age == other.age:\n",
    "            return True\n",
    "        else:\n",
    "            return False\n",
    "\n",
    "        \n",
    "if __name__=='__main__':\n",
    "    c1 = Computer()\n",
    "    c1.age = 30\n",
    "\n",
    "    c2 = Computer()\n",
    "\n",
    "    if c1.compare(c2):       # here self is pointing to c1 and other is pointing to c2\n",
    "        print(\"C1 and C2 are same\")\n",
    "    else:\n",
    "        print(\"C1 and C2 are different\")\n",
    "\n",
    "    print(c1.name, '---', c1.age)\n",
    "    print(c2.name, '---', c2.age)"
   ]
  },
  {
   "cell_type": "code",
   "execution_count": 4,
   "metadata": {},
   "outputs": [
    {
     "name": "stdout",
     "output_type": "stream",
     "text": [
      "C1, C2 and C3 are different\n",
      "Tuhin --- 30\n",
      "Tuhin --- 25\n",
      "Tuhin --- 20\n"
     ]
    }
   ],
   "source": [
    "class Computer:\n",
    "    \n",
    "    def __init__(self):\n",
    "        self.name = \"Tuhin\"\n",
    "        self.age = 20\n",
    "        \n",
    "    def compare(self, other, another):\n",
    "        if self.name == other.name == another.name and self.age == other.age == another.age:\n",
    "            return True\n",
    "        else:\n",
    "            return False\n",
    "        \n",
    "\n",
    "if __name__=='__main__':\n",
    "    c1 = Computer()\n",
    "    c1.age = 30\n",
    "\n",
    "    c2 = Computer()\n",
    "    c2.age = 25\n",
    "\n",
    "    c3 = Computer()\n",
    "\n",
    "    if c1.compare(c2, c3):       # here self is pointing to c1 and other is pointing to c2\n",
    "        print(\"C1, C2 and C3 are same\")\n",
    "    else:\n",
    "        print(\"C1, C2 and C3 are different\")\n",
    "\n",
    "    print(c1.name, '---', c1.age)\n",
    "    print(c2.name, '---', c2.age)\n",
    "    print(c3.name, '---', c3.age)"
   ]
  },
  {
   "cell_type": "markdown",
   "metadata": {},
   "source": [
    "## Inner class"
   ]
  },
  {
   "cell_type": "code",
   "execution_count": 5,
   "metadata": {},
   "outputs": [
    {
     "name": "stdout",
     "output_type": "stream",
     "text": [
      "sumon bp954\n",
      "HP i5 8\n"
     ]
    }
   ],
   "source": [
    "class Student:\n",
    "    \n",
    "    def __init__(self, name, rollno):\n",
    "        self.name = name\n",
    "        self.rollno = rollno\n",
    "        \n",
    "    def show(self):\n",
    "        print(self.name, self.rollno)\n",
    "        \n",
    "    \n",
    "    class Laptop:\n",
    "        \n",
    "        def __init__(self):\n",
    "            self.brand = 'HP'\n",
    "            self.cpu = 'i5'\n",
    "            self.ram = 8\n",
    "            \n",
    "        def show(self):\n",
    "            print(self.brand, self.cpu, self.ram)\n",
    "            \n",
    "            \n",
    "if __name__=='__main__':\n",
    "    s1 = Student('tuhin', 'bn964')\n",
    "    s2 = Student('sumon', 'bp954')\n",
    "\n",
    "    s2.show()\n",
    "\n",
    "    lap1 = Student.Laptop()\n",
    "    lap1.show()"
   ]
  }
 ],
 "metadata": {
  "kernelspec": {
   "display_name": "Python 3",
   "language": "python",
   "name": "python3"
  },
  "language_info": {
   "codemirror_mode": {
    "name": "ipython",
    "version": 3
   },
   "file_extension": ".py",
   "mimetype": "text/x-python",
   "name": "python",
   "nbconvert_exporter": "python",
   "pygments_lexer": "ipython3",
   "version": "3.7.4"
  }
 },
 "nbformat": 4,
 "nbformat_minor": 2
}
