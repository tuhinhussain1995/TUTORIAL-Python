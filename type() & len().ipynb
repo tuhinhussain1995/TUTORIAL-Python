{
 "cells": [
  {
   "cell_type": "markdown",
   "metadata": {},
   "source": [
    "# type()"
   ]
  },
  {
   "cell_type": "code",
   "execution_count": 1,
   "metadata": {},
   "outputs": [
    {
     "name": "stdout",
     "output_type": "stream",
     "text": [
      "<class 'int'>\n",
      "<class 'float'>\n",
      "<class 'str'>\n",
      "<class 'list'>\n",
      "<class 'list'>\n",
      "<class 'dict'>\n",
      "<class 'tuple'>\n",
      "<class 'set'>\n",
      "<class 'range'>\n",
      "<class 'zip'>\n",
      "<class 'map'>\n",
      "<class 'filter'>\n",
      "<class 'function'>\n"
     ]
    }
   ],
   "source": [
    "print(type(2))\n",
    "print(type(3.14159))\n",
    "print(type(\"Tuhin\"))\n",
    "print(type('He is a good guy'.split()))\n",
    "print(type([2, 3, 4]))\n",
    "print(type({\"tuhin\": 1, 'nazrul':2}))\n",
    "print(type((1, 2, 3)))\n",
    "print(type({1, 3, 4, 5, 4}))\n",
    "print(type(range(1, 10, 1)))\n",
    "print(type(zip([1, 2, 3], (4, 5, 6))))\n",
    "print(type(map(lambda x : pow(x,2), range(0,10))))\n",
    "print(type(filter(lambda x : pow(x,2), range(0,10))))\n",
    "print(type(lambda x : pow(x,2)))"
   ]
  },
  {
   "cell_type": "code",
   "execution_count": 2,
   "metadata": {},
   "outputs": [
    {
     "name": "stdout",
     "output_type": "stream",
     "text": [
      "<class 'dict_items'>\n",
      "dict_items([('tuhin', 1), ('nazrul', 2), ('sumon', 3)])\n",
      "<class 'dict_keys'>\n",
      "dict_keys(['tuhin', 'nazrul', 'sumon'])\n",
      "<class 'dict_values'>\n",
      "dict_values([1, 2, 3])\n"
     ]
    }
   ],
   "source": [
    "myDict = {\"tuhin\": 1, 'nazrul': 2, 'sumon': 3}\n",
    "\n",
    "print(type(myDict.items()))\n",
    "print(myDict.items())\n",
    "\n",
    "print(type(myDict.keys()))\n",
    "print(myDict.keys())\n",
    "\n",
    "print(type(myDict.values()))\n",
    "print(myDict.values())"
   ]
  },
  {
   "cell_type": "code",
   "execution_count": 3,
   "metadata": {},
   "outputs": [
    {
     "name": "stdout",
     "output_type": "stream",
     "text": [
      "<class 'int'>\n",
      "<class 'float'>\n",
      "<class 'float'>\n",
      "<class 'float'>\n"
     ]
    }
   ],
   "source": [
    "print(type(15*3))\n",
    "print(type(15*3.5))\n",
    "print(type(15/3))\n",
    "print(type(15/3.5))"
   ]
  },
  {
   "cell_type": "code",
   "execution_count": 1,
   "metadata": {},
   "outputs": [
    {
     "name": "stdout",
     "output_type": "stream",
     "text": [
      "<class '__main__.Sample'>\n"
     ]
    }
   ],
   "source": [
    "class Sample:\n",
    "    pass\n",
    "\n",
    "x = Sample()\n",
    "\n",
    "print(type(x))"
   ]
  },
  {
   "cell_type": "markdown",
   "metadata": {},
   "source": [
    "# len()"
   ]
  },
  {
   "cell_type": "code",
   "execution_count": 4,
   "metadata": {},
   "outputs": [
    {
     "name": "stdout",
     "output_type": "stream",
     "text": [
      "5\n",
      "5\n",
      "4\n",
      "3\n",
      "3\n",
      "3\n",
      "3\n",
      "3\n",
      "4\n",
      "9\n"
     ]
    }
   ],
   "source": [
    "print(len(\"Tuhin\"))\n",
    "print(len('He is a good guy'.split()))\n",
    "print(len([2, 3, 4, 5]))\n",
    "print(len({\"tuhin\": 1, 'nazrul': 2, 'sumon': 3}))\n",
    "print(len({\"tuhin\": 1, 'nazrul': 2, 'sumon': 3}.items()))\n",
    "print(len({\"tuhin\": 1, 'nazrul': 2, 'sumon': 3}.keys()))\n",
    "print(len({\"tuhin\": 1, 'nazrul': 2, 'sumon': 3}.values()))\n",
    "print(len((1, 2, 3)))\n",
    "print(len({1, 3, 4, 5, 4}))\n",
    "print(len(range(1, 10, 1)))"
   ]
  },
  {
   "cell_type": "code",
   "execution_count": null,
   "metadata": {},
   "outputs": [],
   "source": []
  }
 ],
 "metadata": {
  "kernelspec": {
   "display_name": "Python 3",
   "language": "python",
   "name": "python3"
  },
  "language_info": {
   "codemirror_mode": {
    "name": "ipython",
    "version": 3
   },
   "file_extension": ".py",
   "mimetype": "text/x-python",
   "name": "python",
   "nbconvert_exporter": "python",
   "pygments_lexer": "ipython3",
   "version": "3.7.4"
  }
 },
 "nbformat": 4,
 "nbformat_minor": 2
}
