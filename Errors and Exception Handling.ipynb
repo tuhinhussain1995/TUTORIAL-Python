{
 "cells": [
  {
   "cell_type": "raw",
   "metadata": {},
   "source": [
    "AttributeError =====> Raised when attribute assignment or reference fails.\n",
    "ImportError ========> Raised when the imported module is not found.\n",
    "IndexError =========> Raised when the index of a sequence is out of range.\n",
    "KeyError ===========> Raised when a key is not found in a dictionary.\n",
    "NameError ==========> Raised when a variable is not found in local or global scope.\n",
    "StopIteration ======> Raised by next() function to indicate that there is no further item to be returned byiterator.\n",
    "SyntaxError ========> Raised by parser when syntax error is encountered.\n",
    "RuntimeError =======> Raised when an error does not fall under any other category.\n",
    "SystemError ========> Raised when interpreter detects internal error.\n",
    "TabError ===========> Raised when indentation consists of inconsistent tabs and spaces.\n",
    "TypeError ==========> Raised when a function or operation is applied to an object of incorrect type.\n",
    "UnicodeError =======> Raised when a Unicode-related encoding or decoding error occurs.\n",
    "ZeroDivisionError ==> Raised when the second operand of division or modulo operation is zero.\n",
    "ValueError =========> Raised when occurs value conversion problem.\n",
    "IOError ============> Raised when faces Input Output error.\n",
    "ValueError =========> Raised when faces value problem.\n",
    "FileNotFoundError ==> Raised when compiler doesn't found the file."
   ]
  },
  {
   "cell_type": "code",
   "execution_count": 7,
   "metadata": {},
   "outputs": [
    {
     "name": "stdout",
     "output_type": "stream",
     "text": [
      "An error occurred!\n"
     ]
    }
   ],
   "source": [
    "try:\n",
    "    for i in ['a','b','c']:\n",
    "        print(i**2)\n",
    "except:\n",
    "    print(\"An error occurred!\")"
   ]
  },
  {
   "cell_type": "markdown",
   "metadata": {},
   "source": [
    "# Basic"
   ]
  },
  {
   "cell_type": "code",
   "execution_count": 5,
   "metadata": {},
   "outputs": [
    {
     "name": "stdout",
     "output_type": "stream",
     "text": [
      "Looks like you aren't adding correctly!\n",
      "Execution Competed\n"
     ]
    }
   ],
   "source": [
    "num1 = 10\n",
    "num2 = '20'\n",
    "\n",
    "try:     # execute this code\n",
    "    result = num1 + num2\n",
    "except:  # execute if has any kinds of error errors\n",
    "    print(\"Looks like you aren't adding correctly!\")\n",
    "else:    # execute if doesn't have error\n",
    "    print('Addition is: ', result)\n",
    "finally: # always run\n",
    "    print(\"Execution Competed\")"
   ]
  },
  {
   "cell_type": "code",
   "execution_count": 6,
   "metadata": {},
   "outputs": [
    {
     "name": "stdout",
     "output_type": "stream",
     "text": [
      "Addition is:  30\n",
      "Execution Competed\n"
     ]
    }
   ],
   "source": [
    "num1 = 10\n",
    "num2 = 20\n",
    "\n",
    "try:     # execute this code\n",
    "    result = num1 + num2\n",
    "except:  # execute if has any kinds of errors\n",
    "    print(\"Looks like you aren't adding correctly!\")\n",
    "else:    # execute if doesn't have error\n",
    "    print('Addition is: ', result)\n",
    "finally: # always run\n",
    "    print(\"Execution Competed\")    "
   ]
  },
  {
   "cell_type": "code",
   "execution_count": 2,
   "metadata": {},
   "outputs": [
    {
     "name": "stdout",
     "output_type": "stream",
     "text": [
      "Error: Could not find file or read data\n"
     ]
    }
   ],
   "source": [
    "try:\n",
    "    f = open('testfile','r')\n",
    "    f.write('Test write this')\n",
    "except IOError:    # execute if has IOError\n",
    "    print(\"Error: Could not find file or read data\")\n",
    "else:         # execute if doesn't have error\n",
    "    print(\"Content written successfully\")\n",
    "    f.close()"
   ]
  },
  {
   "cell_type": "markdown",
   "metadata": {},
   "source": [
    "# Function"
   ]
  },
  {
   "cell_type": "code",
   "execution_count": 37,
   "metadata": {},
   "outputs": [
    {
     "name": "stdout",
     "output_type": "stream",
     "text": [
      "Enter first integer number: 4\n",
      "Enter second integer number: f\n",
      "Oops !!! your input is not integer\n",
      "Execution has Completed\n"
     ]
    }
   ],
   "source": [
    "def addition():\n",
    "    try:\n",
    "        num1 = int(input('Enter first integer number: '))\n",
    "        num2 = int(input('Enter second integer number: '))\n",
    "    except:     # execute if has any kinds of errors\n",
    "        print(\"Oops !!! your input is not integer\")\n",
    "    else:\n",
    "        print('Addition is: ', num1+num2)\n",
    "    finally:\n",
    "        print(\"Execution has Completed\")\n",
    "        \n",
    "\n",
    "addition()        "
   ]
  },
  {
   "cell_type": "code",
   "execution_count": 3,
   "metadata": {},
   "outputs": [
    {
     "name": "stdout",
     "output_type": "stream",
     "text": [
      "Sorry, the file tuhin.txt does not exist.\n"
     ]
    }
   ],
   "source": [
    "def count_words(filename):\n",
    "    \n",
    "    try:\n",
    "        with open('tuhin.txt', mode='r') as f_obj:\n",
    "            contents = f_obj.read()\n",
    "        \n",
    "    except FileNotFoundError:\n",
    "        msg = \"Sorry, the file \" + filename + \" does not exist.\"\n",
    "        print(msg)\n",
    "    else:\n",
    "        words = contents.split()\n",
    "        num_words = len(words)\n",
    "        print(\"The file \" + filename + \" has about \" + str(num_words) + \" words.\")\n",
    "        \n",
    "        \n",
    "filename = 'tuhin.txt'\n",
    "count_words(filename)"
   ]
  },
  {
   "cell_type": "code",
   "execution_count": 6,
   "metadata": {},
   "outputs": [
    {
     "name": "stdout",
     "output_type": "stream",
     "text": [
      "Please enter an integer: sdf\n",
      "Looks like you did not enter an integer!\n",
      "Finally, I executed!\n"
     ]
    }
   ],
   "source": [
    "def askint():\n",
    "    try:\n",
    "        val = int(input(\"Please enter an integer: \"))\n",
    "        \n",
    "    except:     # execute if has any kinds of errors\n",
    "        print(\"Looks like you did not enter an integer!\")\n",
    "\n",
    "    finally:\n",
    "        print(\"Finally, I executed!\")\n",
    "    \n",
    "askint()    "
   ]
  },
  {
   "cell_type": "markdown",
   "metadata": {},
   "source": [
    "# While loop"
   ]
  },
  {
   "cell_type": "code",
   "execution_count": 9,
   "metadata": {},
   "outputs": [
    {
     "name": "stdout",
     "output_type": "stream",
     "text": [
      "Input an integer: nothing\n",
      "An error occurred! Please try again!\n",
      "Input an integer: 44.55\n",
      "An error occurred! Please try again!\n",
      "Input an integer: 44\n",
      "Thank you, your number squared is:  1936\n"
     ]
    }
   ],
   "source": [
    "def ask():\n",
    "    \n",
    "    while True:\n",
    "        try:\n",
    "            n = int(input('Input an integer: '))\n",
    "        except:\n",
    "            print('An error occurred! Please try again!')\n",
    "            continue\n",
    "        else:\n",
    "            break\n",
    "            \n",
    "        \n",
    "    print('Thank you, your number squared is: ',n**2)\n",
    "    \n",
    "ask()    "
   ]
  },
  {
   "cell_type": "code",
   "execution_count": 36,
   "metadata": {},
   "outputs": [
    {
     "name": "stdout",
     "output_type": "stream",
     "text": [
      "Enter first integer number: 55\n",
      "Enter second integer number: 3sf\n",
      "Oops !!! your input is not integer\n",
      "Execution has Completed\n",
      "Enter first integer number: 4\n",
      "Enter second integer number: 2\n",
      "Addition is:  6\n",
      "Execution has Completed\n"
     ]
    }
   ],
   "source": [
    "def addition():\n",
    "    while True:\n",
    "        try:\n",
    "            num1 = int(input('Enter first integer number: '))\n",
    "            num2 = int(input('Enter second integer number: '))\n",
    "        except:     # execute if has any kinds of errors\n",
    "            print(\"Oops !!! your input is not integer\")\n",
    "            continue\n",
    "        else:\n",
    "            print('Addition is: ', num1+num2)\n",
    "            break\n",
    "        finally:\n",
    "            print(\"Execution has Completed\")\n",
    "        \n",
    "\n",
    "addition()        "
   ]
  },
  {
   "cell_type": "markdown",
   "metadata": {},
   "source": [
    "# Specific Exception"
   ]
  },
  {
   "cell_type": "code",
   "execution_count": 1,
   "metadata": {},
   "outputs": [
    {
     "name": "stdout",
     "output_type": "stream",
     "text": [
      "Your code has Type Error\n",
      "Execution Competed\n"
     ]
    }
   ],
   "source": [
    "num1 = 10\n",
    "num2 = '20'\n",
    "\n",
    "try:     # execute this code\n",
    "    result = num1 + num2\n",
    "except TypeError:  # execute if has data type error\n",
    "    print(\"Your code has Type Error\")\n",
    "except NameError:  # execute if has Syntax error\n",
    "    print(\"Your code has Name Error\")   \n",
    "except ZeroDivisionError:  # execute if has Zero Division Error\n",
    "    print(\"Your code has Zero Division Error\")   \n",
    "except:\n",
    "    print(\"All other exceptional error has done.\")\n",
    "else:    # execute if doesn't have error\n",
    "    print('Addition is: ', result)\n",
    "finally: # always run\n",
    "    print(\"Execution Competed\")"
   ]
  },
  {
   "cell_type": "code",
   "execution_count": 2,
   "metadata": {},
   "outputs": [
    {
     "name": "stdout",
     "output_type": "stream",
     "text": [
      "Your code has Name Error\n",
      "Execution Competed\n"
     ]
    }
   ],
   "source": [
    "num1 = 10\n",
    "num2 = 20\n",
    "\n",
    "try:     # execute this code\n",
    "    result = num1 + num2222\n",
    "except TypeError:  # execute if has data type error\n",
    "    print(\"Your code has Type Error\")\n",
    "except NameError:  # execute if has Syntax error\n",
    "    print(\"Your code has Name Error\")   \n",
    "except ZeroDivisionError:  # execute if has Zero Division Error\n",
    "    print(\"Your code has Zero Division Error\")  \n",
    "except:\n",
    "    print(\"All other exceptional error has done.\")    \n",
    "else:    # execute if doesn't have error\n",
    "    print('Addition is: ', result)\n",
    "finally: # always run\n",
    "    print(\"Execution Competed\")"
   ]
  },
  {
   "cell_type": "code",
   "execution_count": 15,
   "metadata": {},
   "outputs": [
    {
     "name": "stdout",
     "output_type": "stream",
     "text": [
      "Your code has Zero Division Error\n",
      "Execution Competed\n"
     ]
    }
   ],
   "source": [
    "num1 = 10\n",
    "num2 = 0\n",
    "\n",
    "try:     # execute this code\n",
    "    result = num1 / num2\n",
    "except TypeError:  # execute if has data type error\n",
    "    print(\"Your code has Type Error\")\n",
    "except NameError:  # execute if has Syntax error\n",
    "    print(\"Your code has Name Error\")   \n",
    "except ZeroDivisionError:  # execute if has Zero Division Error\n",
    "    print(\"Your code has Zero Division Error\")    \n",
    "except:\n",
    "    print(\"All other exceptional error has done.\")    \n",
    "else:    # execute if doesn't have error\n",
    "    print('Addition is: ', result)\n",
    "finally: # always run\n",
    "    print(\"Execution Competed\")"
   ]
  }
 ],
 "metadata": {
  "kernelspec": {
   "display_name": "Python 3",
   "language": "python",
   "name": "python3"
  },
  "language_info": {
   "codemirror_mode": {
    "name": "ipython",
    "version": 3
   },
   "file_extension": ".py",
   "mimetype": "text/x-python",
   "name": "python",
   "nbconvert_exporter": "python",
   "pygments_lexer": "ipython3",
   "version": "3.7.4"
  }
 },
 "nbformat": 4,
 "nbformat_minor": 2
}
