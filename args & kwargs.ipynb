{
 "cells": [
  {
   "cell_type": "markdown",
   "metadata": {},
   "source": [
    "### args return ====> tuple\n",
    "### kwargs return ==> dictionary"
   ]
  },
  {
   "cell_type": "code",
   "execution_count": 17,
   "metadata": {},
   "outputs": [
    {
     "name": "stdout",
     "output_type": "stream",
     "text": [
      "(10, 'tuhin', 33.6)\n",
      "<class 'tuple'>\n",
      "{'fruit': 'orange', 'food': 'egg', 'animal': 'dog'}\n",
      "<class 'dict'>\n"
     ]
    }
   ],
   "source": [
    "def myfunc(*args, **kwargs):\n",
    "    print(args)\n",
    "    print(type(args))\n",
    "    \n",
    "    print(kwargs)\n",
    "    print(type(kwargs))\n",
    "    \n",
    "myfunc(10, 'tuhin', 33.60, fruit='orange', food='egg', animal='dog')"
   ]
  },
  {
   "cell_type": "markdown",
   "metadata": {},
   "source": [
    "# *args"
   ]
  },
  {
   "cell_type": "code",
   "execution_count": 2,
   "metadata": {},
   "outputs": [
    {
     "name": "stdout",
     "output_type": "stream",
     "text": [
      "10.0\n"
     ]
    }
   ],
   "source": [
    "def myfunc(a, b, c=0, d=0, e=0):\n",
    "    return sum((a, b, c, d, e)) * .05\n",
    "\n",
    "print(myfunc(40, 60, 100))"
   ]
  },
  {
   "cell_type": "code",
   "execution_count": 9,
   "metadata": {},
   "outputs": [
    {
     "name": "stdout",
     "output_type": "stream",
     "text": [
      "10.0\n"
     ]
    }
   ],
   "source": [
    "def myfunc(*args):               \n",
    "    return sum(args) * .05\n",
    "\n",
    "print(myfunc(40, 60, 100))"
   ]
  },
  {
   "cell_type": "code",
   "execution_count": 14,
   "metadata": {},
   "outputs": [
    {
     "name": "stdout",
     "output_type": "stream",
     "text": [
      "66.66666666666667\n"
     ]
    }
   ],
   "source": [
    "import statistics\n",
    "\n",
    "def myfunc(*args):               # Here args is tuple type variable\n",
    "    return statistics.mean(args)\n",
    "\n",
    "print(myfunc(40, 60, 100))"
   ]
  },
  {
   "cell_type": "code",
   "execution_count": 19,
   "metadata": {},
   "outputs": [
    {
     "name": "stdout",
     "output_type": "stream",
     "text": [
      "20\n",
      "30.0\n",
      "nazrul\n"
     ]
    }
   ],
   "source": [
    "def myfunc(*args):\n",
    "    for item in args:\n",
    "        print(item)\n",
    "\n",
    "myfunc(20, 30.00, 'nazrul')"
   ]
  },
  {
   "cell_type": "code",
   "execution_count": 10,
   "metadata": {},
   "outputs": [
    {
     "name": "stdout",
     "output_type": "stream",
     "text": [
      "tuhinhussain1995@gmail.com\n",
      "['0149379037', '01743535337']\n",
      "0149379037\n",
      "01743535337\n"
     ]
    }
   ],
   "source": [
    "record = ('tuhin', 'tuhinhussain1995@gmail.com', '0149379037', '01743535337')\n",
    "name, email, *phone_numbers = record\n",
    "\n",
    "print(email)\n",
    "print(phone_numbers)\n",
    "\n",
    "print(phone_numbers[0])\n",
    "print(phone_numbers[1])"
   ]
  },
  {
   "cell_type": "code",
   "execution_count": 11,
   "metadata": {},
   "outputs": [
    {
     "name": "stdout",
     "output_type": "stream",
     "text": [
      "['0149379037', '01743535337', 'a@gmail.com', 'b@yahoo.com', 'c@hotmail.com']\n",
      "tuhin\n",
      "['0149379037', '01743535337']\n",
      "['a@gmail.com', 'b@yahoo.com', 'c@hotmail.com']\n",
      "26\n"
     ]
    }
   ],
   "source": [
    "record = ('tuhin', '0149379037', '01743535337', 'a@gmail.com', 'b@yahoo.com', 'c@hotmail.com', 26)\n",
    "name, *phone_email, age = record\n",
    "phone = phone_email[0:2]\n",
    "email = phone_email[2:]\n",
    "\n",
    "print(phone_email)\n",
    "\n",
    "print(name)\n",
    "print(phone)\n",
    "print(email)\n",
    "print(age)"
   ]
  },
  {
   "cell_type": "code",
   "execution_count": 12,
   "metadata": {},
   "outputs": [
    {
     "name": "stdout",
     "output_type": "stream",
     "text": [
      "Except first and last value your grade is 3.85\n"
     ]
    }
   ],
   "source": [
    "grades = [3.25, 3.95, 4.00, 3.65, 3.80, 3.95]\n",
    "\n",
    "def drop_first_last(values):\n",
    "    first, *middle, last = grades\n",
    "    \n",
    "    return (sum(middle)/len(middle))\n",
    "\n",
    "print(\"Except first and last value your grade is %.2f\" %drop_first_last(grades))"
   ]
  },
  {
   "cell_type": "code",
   "execution_count": 13,
   "metadata": {},
   "outputs": [
    {
     "name": "stdout",
     "output_type": "stream",
     "text": [
      "Enter the first name that you want to search:nazrul\n",
      "\t nazrul \t islam \t 29 \t Male \t 2000\n"
     ]
    }
   ],
   "source": [
    "myFullList = [\n",
    "    ['tuhin', 'hussain', 24, 'Male', 1500],\n",
    "    ['sumon', 'azharul', 25, 'Male', 2400],\n",
    "    ['nazrul', 'islam', 29, 'Male', 2000],\n",
    "]\n",
    "\n",
    "name = str(input('Enter the first name that you want to search:'))\n",
    "\n",
    "for firstName, *others in myFullList:\n",
    "    if firstName == name:\n",
    "        ln, a, g, s = others\n",
    "        print('\\t', firstName, '\\t', ln, '\\t', a, '\\t', g, '\\t', s)"
   ]
  },
  {
   "cell_type": "code",
   "execution_count": 1,
   "metadata": {},
   "outputs": [
    {
     "name": "stdout",
     "output_type": "stream",
     "text": [
      "                                  spam and eggs \n",
      "                                       236 \n",
      "                                     3.14159 \n",
      "                       first => second => 3 => 4 => 5.6 => \n"
     ]
    }
   ],
   "source": [
    "def center_text(*args, sep=' '):\n",
    "    text = ''\n",
    "    for arg in args:\n",
    "        text += str(arg) + sep\n",
    "    margin_left = (80-len(text)) // 2\n",
    "    print(\" \"*margin_left, text)\n",
    "\n",
    "center_text(\"spam and eggs\")\n",
    "center_text(236)\n",
    "center_text(3.14159)\n",
    "center_text(\"first\", \"second\", 3, 4, 5.6, sep=' => ')"
   ]
  },
  {
   "cell_type": "markdown",
   "metadata": {},
   "source": [
    "# **kwargs"
   ]
  },
  {
   "cell_type": "code",
   "execution_count": 20,
   "metadata": {},
   "outputs": [
    {
     "name": "stdout",
     "output_type": "stream",
     "text": [
      "My fruite of choice is apple\n"
     ]
    }
   ],
   "source": [
    "def myfunc(**kwargs):              # **kwargs is dictionary type variable\n",
    "    if 'fruit' in kwargs.keys():\n",
    "        print('My fruite of choice is %s' %kwargs['fruit'])\n",
    "    else:\n",
    "        print('I did not find any fruit here')\n",
    "        \n",
    "myfunc(veggi = 'potato',fruit='apple')"
   ]
  },
  {
   "cell_type": "code",
   "execution_count": 21,
   "metadata": {},
   "outputs": [
    {
     "name": "stdout",
     "output_type": "stream",
     "text": [
      "(10, 22, 33)\n",
      "{'fruit': 'orange', 'food': 'egg', 'animal': 'dog'}\n",
      "I would like 10 egg\n"
     ]
    }
   ],
   "source": [
    "def myfunc(*args, **kwargs):\n",
    "    print(args)\n",
    "    print(kwargs)\n",
    "    print('I would like %d %s' %(args[0], kwargs['food']))\n",
    "    \n",
    "myfunc(10, 22, 33, fruit='orange', food='egg', animal='dog')"
   ]
  },
  {
   "cell_type": "code",
   "execution_count": 2,
   "metadata": {},
   "outputs": [
    {
     "name": "stdout",
     "output_type": "stream",
     "text": [
      "I like eggs and spam and my favorite fruit is cherries\n",
      "May I have some orange juice?\n"
     ]
    }
   ],
   "source": [
    "def myfunc(*args, **kwargs):\n",
    "    if 'fruit' and 'juice' in kwargs:\n",
    "        print(f\"I like {' and '.join(args)} and my favorite fruit is {kwargs['fruit']}\")\n",
    "        print(f\"May I have some {kwargs['juice']} juice?\")\n",
    "    else:\n",
    "        pass\n",
    "        \n",
    "myfunc('eggs','spam',fruit='cherries',juice='orange')"
   ]
  },
  {
   "cell_type": "code",
   "execution_count": 22,
   "metadata": {},
   "outputs": [
    {
     "name": "stdout",
     "output_type": "stream",
     "text": [
      "\n",
      "Data type of argument: <class 'dict'>\n",
      "Firstname is Sita\n",
      "Lastname is Sharma\n",
      "Age is 22\n",
      "Phone is 1234567890\n",
      "\n",
      "Data type of argument: <class 'dict'>\n",
      "Firstname is John\n",
      "Lastname is Wood\n",
      "Email is johnwood@nomail.com\n",
      "Country is Wakanda\n",
      "Age is 25\n",
      "Phone is 9876543210\n"
     ]
    }
   ],
   "source": [
    "def intro(**data):\n",
    "    print(\"\\nData type of argument:\",type(data))\n",
    "\n",
    "    for key, value in data.items():\n",
    "        print(\"{} is {}\".format(key,value))\n",
    "\n",
    "intro(Firstname=\"Sita\", Lastname=\"Sharma\", Age=22, Phone=1234567890)\n",
    "intro(Firstname=\"John\", Lastname=\"Wood\", Email=\"johnwood@nomail.com\", Country=\"Wakanda\", Age=25, Phone=9876543210)"
   ]
  },
  {
   "cell_type": "code",
   "execution_count": 23,
   "metadata": {},
   "outputs": [
    {
     "name": "stdout",
     "output_type": "stream",
     "text": [
      "[('Sita', {'Firstname': 'Sita', 'Lastname': 'Sharma', 'Age': 22, 'Phone': 1234567890}), ('John', {'Firstname': 'John', 'Lastname': 'Wood', 'Email': 'johnwood@nomail.com', 'Country': 'Wakanda', 'Age': 25, 'Phone': 9876543210})]\n",
      "Sita\n",
      "\t Firstname  ---  Sita\n",
      "\t Lastname  ---  Sharma\n",
      "\t Age  ---  22\n",
      "\t Phone  ---  1234567890\n",
      "John\n",
      "\t Firstname  ---  John\n",
      "\t Lastname  ---  Wood\n",
      "\t Email  ---  johnwood@nomail.com\n",
      "\t Country  ---  Wakanda\n",
      "\t Age  ---  25\n",
      "\t Phone  ---  9876543210\n"
     ]
    }
   ],
   "source": [
    "myList = []\n",
    "\n",
    "def createDict(**kwargs):\n",
    "    dict = kwargs\n",
    "\n",
    "    myValue = dict['Firstname']\n",
    "\n",
    "    myDict = {myValue : dict}\n",
    "\n",
    "    newList = list(myDict.items())\n",
    "\n",
    "    myList.extend(newList)\n",
    "\n",
    "createDict(Firstname=\"Sita\", Lastname=\"Sharma\", Age=22, Phone=1234567890)\n",
    "createDict(Firstname=\"John\", Lastname=\"Wood\", Email=\"johnwood@nomail.com\", Country=\"Wakanda\", Age=25, Phone=9876543210)\n",
    "\n",
    "print(myList)\n",
    "\n",
    "for data in myList:\n",
    "    listData = list(data)\n",
    "    print(listData[0])\n",
    "\n",
    "    for x, y in listData[1].items():\n",
    "        print('\\t', x, ' --- ', y)"
   ]
  }
 ],
 "metadata": {
  "kernelspec": {
   "display_name": "Python 3",
   "language": "python",
   "name": "python3"
  },
  "language_info": {
   "codemirror_mode": {
    "name": "ipython",
    "version": 3
   },
   "file_extension": ".py",
   "mimetype": "text/x-python",
   "name": "python",
   "nbconvert_exporter": "python",
   "pygments_lexer": "ipython3",
   "version": "3.7.4"
  }
 },
 "nbformat": 4,
 "nbformat_minor": 2
}
