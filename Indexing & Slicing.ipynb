{
 "cells": [
  {
   "cell_type": "markdown",
   "metadata": {},
   "source": [
    "### lists, strings, tuples, bytes, bytearrays, and ranges supports indexing and slicing."
   ]
  },
  {
   "cell_type": "markdown",
   "metadata": {},
   "source": [
    "### dictionary and set doesn't support indexing and slicing. "
   ]
  },
  {
   "cell_type": "markdown",
   "metadata": {},
   "source": [
    "# Indexing "
   ]
  },
  {
   "cell_type": "code",
   "execution_count": 1,
   "metadata": {},
   "outputs": [
    {
     "name": "stdout",
     "output_type": "stream",
     "text": [
      "r\n",
      "r\n",
      "W\n",
      "Tuhin\n"
     ]
    }
   ],
   "source": [
    "print(\"Hello World\"[8])\n",
    "print(\"Hello World\"[-3])\n",
    "print(\"Hello World\"[-5])\n",
    "\n",
    "name = 'Tuhin Hussain'[0:5]\n",
    "print(name)"
   ]
  },
  {
   "cell_type": "code",
   "execution_count": 2,
   "metadata": {},
   "outputs": [
    {
     "name": "stdout",
     "output_type": "stream",
     "text": [
      "Indexing: \n",
      "\n",
      "  H   e   l   l   o         W   o   r   l   d\n",
      " ----------------------------------------------\n",
      "  0   1   2   3   4    5    6   7   8   9   10\n",
      "-11 -10  -9  -8  -7   -6   -5  -4  -3  -2  -1\n",
      "\n",
      "Hello World\n",
      "mystring[0] : H\n",
      "mystring[8] : r\n",
      "mystring[10] : d\n",
      "mystring[-1]: d\n",
      "mystring[-8]: l\n",
      "mystring[-11]: H\n"
     ]
    }
   ],
   "source": [
    "print(\"Indexing: \\n\")\n",
    "\n",
    "print(\"  H   e   l   l   o         W   o   r   l   d\")\n",
    "print(\" ----------------------------------------------\")\n",
    "print('  0   1   2   3   4    5    6   7   8   9   10')\n",
    "print('-11 -10  -9  -8  -7   -6   -5  -4  -3  -2  -1\\n')\n",
    "\n",
    "mystring=\"Hello World\"\n",
    "print(mystring)\n",
    "print(\"mystring[0] : \" + mystring[0])\n",
    "print(\"mystring[8] : \" + mystring[8])\n",
    "print(\"mystring[10] : \" + mystring[10])\n",
    "\n",
    "print(\"mystring[-1]: \" + mystring[-1])\n",
    "print(\"mystring[-8]: \" + mystring[-8])\n",
    "print(\"mystring[-11]: \" + mystring[-11])"
   ]
  },
  {
   "cell_type": "markdown",
   "metadata": {},
   "source": [
    "# Slicing\n",
    "### increment ====> left_index : right_index : positive increment value\n",
    "### decrement ===> right_index : left_index : negative decrement value"
   ]
  },
  {
   "cell_type": "code",
   "execution_count": 3,
   "metadata": {},
   "outputs": [
    {
     "name": "stdout",
     "output_type": "stream",
     "text": [
      "llo Wo\n",
      "llo Wo\n",
      "World\n"
     ]
    }
   ],
   "source": [
    "print(\"Hello World\"[2:8])\n",
    "print(\"Hello World\"[-9:-3])\n",
    "print(\"Hello World\"[-5:])"
   ]
  },
  {
   "cell_type": "markdown",
   "metadata": {},
   "source": [
    "### if we use two colon  : :  then there must appear increment or decrement number\n",
    "#### default is increment by 1"
   ]
  },
  {
   "cell_type": "code",
   "execution_count": 11,
   "metadata": {},
   "outputs": [
    {
     "name": "stdout",
     "output_type": "stream",
     "text": [
      "Slicing: \n",
      "\n",
      "  a    b   c   d   e   f   g   h   i    j   k\n",
      "  0    1   2   3   4   5   6   7   8    9   10\n",
      "-11  -10  -9  -8  -7  -6  -5  -4  -3   -2  -1\n",
      "\n",
      "abcdefghijk\n",
      "mystring[:]     : abcdefghijk\n",
      "mystring[2:]    : cdefghijk\n",
      "mystring[:3]    : abc\n",
      "mystring[:-3]   : abcdefgh\n",
      "mystring[3:6]   : def\n",
      "mystring[3::1]  : defghijk\n",
      "mystring[::]    : abcdefghijk\n",
      "mystring[::2]   : acegik\n",
      "mystring[:8:2]  : aceg\n",
      "mystring[::3]   : adgj\n",
      "mystring[3:9:2] : dfh\n",
      "mystring[2:9:3] : dfh\n",
      "mystring[::-1]  : kjihgfedcba\n",
      "mystring[::-2]  : kigeca\n",
      "mystring[0:11]  : abcdefghijk\n"
     ]
    }
   ],
   "source": [
    "print(\"Slicing: \\n\")\n",
    "\n",
    "print(\"  a    b   c   d   e   f   g   h   i    j   k\")\n",
    "print(\"  0    1   2   3   4   5   6   7   8    9   10\")      ############  11 is valid index number\n",
    "print(\"-11  -10  -9  -8  -7  -6  -5  -4  -3   -2  -1\\n\")     ###########  -12 is valie index number\n",
    "\n",
    "mystring = 'abcdefghijk'\n",
    "print(mystring)\n",
    "\n",
    "print(\"mystring[:]     : \" + mystring[:])     # start from first to last and increment by 1\n",
    "print(\"mystring[2:]    : \" + mystring[2:])    # start from 2(included) to last and increment by 1\n",
    "print(\"mystring[:3]    : \" + mystring[:3])    # start from first to 3(not included) and increment by 1\n",
    "\n",
    "print(\"mystring[:-3]   : \" + mystring[:-3])   # start from first to -3(not included) and increment by 1\n",
    "print(\"mystring[3:6]   : \" + mystring[3:6])   # start from 3(included) to 6(not included) and increment by 1\n",
    "print(\"mystring[3::1]  : \" + mystring[3::1])  # start from 3(included) to last and increment by 1\n",
    "\n",
    "print(\"mystring[::]    : \" + mystring[::])    # start from first to last and increment by 1\n",
    "print(\"mystring[::2]   : \" + mystring[::2])   # start from first to last and increment by 2\n",
    "print(\"mystring[:8:2]  : \" + mystring[:8:2])  # start from first to 8(not included) and increment by 2\n",
    "\n",
    "print(\"mystring[::3]   : \" + mystring[::3])   # start from first to last and increment by 3\n",
    "print(\"mystring[3:9:2] : \" + mystring[3:9:2]) # start from 3(included) to 9(not included) and increment by 2\n",
    "print(\"mystring[2:9:3] : \" + mystring[3:9:2]) # start from 2(included) to 9(not included) and increment by 3\n",
    "\n",
    "print(\"mystring[::-1]  : \" + mystring[::-1])  # start from last to first and decrement by 1\n",
    "print(\"mystring[::-2]  : \" + mystring[::-2])  # start from last to first and decrement by 2\n",
    "print(\"mystring[0:11]  : \" + mystring[0:11])  # start from 0(included) to 11(not included) and increment by 1"
   ]
  },
  {
   "cell_type": "code",
   "execution_count": 13,
   "metadata": {},
   "outputs": [
    {
     "name": "stdout",
     "output_type": "stream",
     "text": [
      "Slicing: \n",
      "\n",
      "  a    b   c   d   e   f   g   h   i    j   k\n",
      "  0    1   2   3   4   5   6   7   8    9   10\n",
      "-11  -10  -9  -8  -7  -6  -5  -4  -3   -2  -1\n",
      "\n",
      "mystring[9:2:-1]    : jihgfed\n",
      "mystring[3:-12:-1]  : dcba\n",
      "mystring[-4::1]     : hijk\n",
      "mystring[-4:11:1]   : hijk\n",
      "mystring[-2:-9:-1]  : jihgfed\n",
      "mystring[-2:2:-1]   : jihgfed\n",
      "mystring[-11:-1:1]  : abcdefghij\n",
      "mystring[-11:10:1]  : abcdefghij\n",
      "mystring[-1:-12:-1] : kjihgfedcba\n",
      "mystring[3::-1]     : dcba\n",
      "mystring[-8:-12:-1] : dcba\n",
      "mystring[-8::-1]    : dcba\n",
      "mystring[-11:11]    : abcdefghijk\n",
      "mystring[10:-12:-1] : kjihgfedcba\n",
      "mystring[-1:-12:-1] : kjihgfedcba\n"
     ]
    }
   ],
   "source": [
    "print(\"Slicing: \\n\")\n",
    "\n",
    "print(\"  a    b   c   d   e   f   g   h   i    j   k\")\n",
    "print(\"  0    1   2   3   4   5   6   7   8    9   10\")      ############  11 is valid index number\n",
    "print(\"-11  -10  -9  -8  -7  -6  -5  -4  -3   -2  -1\\n\")    ###########  -12 is valie index number\n",
    "\n",
    "\n",
    "print(\"mystring[9:2:-1]    : \" + mystring[9:2:-1])     # start from 9(included) to 2(not included) and decrement by 1      \n",
    "print(\"mystring[3:-12:-1]  : \" + mystring[3:-12:-1])   # start from 3(included) to 6(not included) and increment by 1\n",
    "print(\"mystring[-4::1]     : \" + mystring[-4::1])      # start from 3(included) to 6(not included) and increment by 1\n",
    "      \n",
    "print(\"mystring[-4:11:1]   : \" + mystring[-4:11:1])    # start from 3(included) to 6(not included) and increment by 1\n",
    "print(\"mystring[-2:-9:-1]  : \" + mystring[-2:-9:-1])   # start from 3(included) to 6(not included) and increment by 1\n",
    "print(\"mystring[-2:2:-1]   : \" + mystring[-2:2:-1])    # start from 3(included) to 6(not included) and increment by 1\n",
    "\n",
    "print(\"mystring[-11:-1:1]  : \" + mystring[-11:-1:1])   # start from 3(included) to 6(not included) and increment by 1\n",
    "print(\"mystring[-11:10:1]  : \" + mystring[-11:10:1])   # start from 3(included) to 6(not included) and increment by 1\n",
    "print(\"mystring[-1:-12:-1] : \" + mystring[-1:-12:-1])  # start from 3(included) to 6(not included) and increment by 1\n",
    "\n",
    "print(\"mystring[3::-1]     : \" + mystring[3::-1])      # start from 3(included) to 6(not included) and increment by 1\n",
    "print(\"mystring[-8:-12:-1] : \" + mystring[-8:-12:-1])  # start from 3(included) to 6(not included) and increment by 1\n",
    "print(\"mystring[-8::-1]    : \" + mystring[-8::-1])     # start from 3(included) to 6(not included) and increment by 1\n",
    "\n",
    "print(\"mystring[-11:11]    : \" + mystring[-11:11])     # start from 3(included) to 6(not included) and increment by 1\n",
    "print(\"mystring[10:-12:-1] : \" + mystring[10:-12:-1])  # start from 3(included) to 6(not included) and increment by 1\n",
    "print(\"mystring[-1:-12:-1] : \" + mystring[-1:-12:-1])  # start from 3(included) to 6(not included) and increment by 1"
   ]
  },
  {
   "cell_type": "markdown",
   "metadata": {},
   "source": [
    "# Wrong Slicing"
   ]
  },
  {
   "cell_type": "code",
   "execution_count": 17,
   "metadata": {},
   "outputs": [
    {
     "name": "stdout",
     "output_type": "stream",
     "text": [
      "Slicing: \n",
      "\n",
      "  a    b   c   d   e   f   g   h   i    j   k\n",
      "  0    1   2   3   4   5   6   7   8    9   10\n",
      "-11  -10  -9  -8  -7  -6  -5  -4  -3   -2  -1\n",
      "\n",
      "\n",
      "\n",
      "\n",
      "\n",
      "\n",
      "\n",
      "\n",
      "\n"
     ]
    }
   ],
   "source": [
    "print(\"Slicing: \\n\")\n",
    "\n",
    "print(\"  a    b   c   d   e   f   g   h   i    j   k\")\n",
    "print(\"  0    1   2   3   4   5   6   7   8    9   10\")      ############  11 is valid index number\n",
    "print(\"-11  -10  -9  -8  -7  -6  -5  -4  -3   -2  -1\\n\")     ###########  -12 is valie index number\n",
    "\n",
    "\n",
    "print(mystring[10:2:1])           # 10 to 2 is decrement but here applied increment\n",
    "print(mystring[8:-9:1])           # 8 to -9 is decrement but here applied increment\n",
    "print(mystring[-2:1:1])           # -2 to 1 is decrement but here applied increment\n",
    "print(mystring[-3:-12:1])         # -3 to -12 is decrement but here applied increment\n",
    "\n",
    "print(mystring[0:9:-1])           # 0 to 9 is increment but here applied decrement\n",
    "print(mystring[1:-2:-2])          # 1 to -2 is increment but here applied decrement\n",
    "print(mystring[-11:9:-2])         # -11 to 9 is increment but here applied decrement\n",
    "print(mystring[-10:-2:-1])        # -10 to -2 is increment but here applied decrement"
   ]
  },
  {
   "cell_type": "markdown",
   "metadata": {},
   "source": [
    "# Advanced"
   ]
  },
  {
   "cell_type": "code",
   "execution_count": 18,
   "metadata": {},
   "outputs": [
    {
     "name": "stdout",
     "output_type": "stream",
     "text": [
      "[0, 1, 2, 3, 4, 8, 9]\n",
      "[0, 1, 2, 3, 4, [5, 6, 7], 9]\n"
     ]
    }
   ],
   "source": [
    "myList = [0, 1, 2, 3, 4, 8, 9]\n",
    "print(myList)\n",
    "\n",
    "myList[5] = [5, 6, 7]\n",
    "print(myList)"
   ]
  },
  {
   "cell_type": "code",
   "execution_count": 19,
   "metadata": {},
   "outputs": [
    {
     "name": "stdout",
     "output_type": "stream",
     "text": [
      "[0, 1, 2, 3, 4, 8, 9]\n",
      "[0, 1, 2, 3, 4, 5, 6, 7, 8, 9]\n"
     ]
    }
   ],
   "source": [
    "myList = [0, 1, 2, 3, 4, 8, 9]\n",
    "print(myList)\n",
    "\n",
    "myList[5:5] = [5, 6, 7]\n",
    "print(myList)"
   ]
  },
  {
   "cell_type": "markdown",
   "metadata": {},
   "source": [
    "# Exercise"
   ]
  },
  {
   "cell_type": "code",
   "execution_count": 1,
   "metadata": {},
   "outputs": [
    {
     "name": "stdout",
     "output_type": "stream",
     "text": [
      "True\n",
      "False\n",
      "False\n"
     ]
    }
   ],
   "source": [
    "def has_33(nums):\n",
    "    for x in range(0, len(nums)-1):\n",
    "        if nums[x:x+2] == [3, 3]:\n",
    "            return True\n",
    "    \n",
    "    return False\n",
    "\n",
    "print(has_33([1, 3, 3]))\n",
    "print(has_33([1, 3, 1, 3]))\n",
    "print(has_33([3, 1, 3]))"
   ]
  }
 ],
 "metadata": {
  "kernelspec": {
   "display_name": "Python 3",
   "language": "python",
   "name": "python3"
  },
  "language_info": {
   "codemirror_mode": {
    "name": "ipython",
    "version": 3
   },
   "file_extension": ".py",
   "mimetype": "text/x-python",
   "name": "python",
   "nbconvert_exporter": "python",
   "pygments_lexer": "ipython3",
   "version": "3.7.4"
  }
 },
 "nbformat": 4,
 "nbformat_minor": 2
}
